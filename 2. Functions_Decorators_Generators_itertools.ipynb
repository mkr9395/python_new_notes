{
 "cells": [
  {
   "cell_type": "markdown",
   "id": "1dccc373",
   "metadata": {},
   "source": [
    "# SESSSION  6 - Functions "
   ]
  },
  {
   "cell_type": "markdown",
   "id": "caba3dc1",
   "metadata": {},
   "source": [
    "https://www.youtube.com/watch?v=OOInK25PoFo&list=PLKnIA16_RmvbAlyx4_rdtR66B7EHX5k3z&index=12"
   ]
  },
  {
   "cell_type": "code",
   "execution_count": 14,
   "id": "51d16ff5",
   "metadata": {
    "ExecuteTime": {
     "end_time": "2023-02-24T19:55:17.850183Z",
     "start_time": "2023-02-24T19:55:17.834037Z"
    }
   },
   "outputs": [
    {
     "name": "stdout",
     "output_type": "stream",
     "text": [
      "['mohit', 'rohit']\n",
      "['mohit', 'rohit', 'mohitaa', 'rohitaaa']\n"
     ]
    }
   ],
   "source": [
    "l = []\n",
    "args = ['mohit','rohit']\n",
    "l = l+args\n",
    "print(l)\n",
    "args1 = ['mohitaa','rohitaaa']\n",
    "l +=args1\n",
    "print(l)"
   ]
  },
  {
   "cell_type": "markdown",
   "id": "0241eee0",
   "metadata": {},
   "source": [
    "### <span class=\"girk\">Prime or not :</span> "
   ]
  },
  {
   "cell_type": "code",
   "execution_count": 2,
   "id": "a1d6be2d",
   "metadata": {
    "ExecuteTime": {
     "end_time": "2024-08-09T07:58:14.555888Z",
     "start_time": "2024-08-09T07:58:14.535447Z"
    }
   },
   "outputs": [],
   "source": [
    "def primes(numbers):\n",
    "    \n",
    "    prime_numbers = []                                  # creating empty list to store all the prime numbers\n",
    "    \n",
    "    for num in numbers:                                 # iterate over the list\n",
    "        if num<2:\n",
    "            continue                                    # if number is less then 2, then skip it and go to next iteration\n",
    "        else:\n",
    "            flag = True                                 # keep the flag = True for checking\n",
    "            \n",
    "            \n",
    "            for factors in range(2,int(num*0.5) + 1):   # factors are till half of the number and +1 to include it in range   \n",
    "                if (num%factors == 0):                  # divide each number with all it's factors\n",
    "                    flag = False\n",
    "                    break                               # if a number is divisible by any of its factor then update the flag\n",
    "                                                        # and break the loop\n",
    "                \n",
    "            if flag == True:                            # if the flag is still True, then it is a prime number\n",
    "                prime_numbers.append(num)               # append the number to the empty list\n",
    "            \n",
    "    return prime_numbers"
   ]
  },
  {
   "cell_type": "code",
   "execution_count": 3,
   "id": "f03086da",
   "metadata": {
    "ExecuteTime": {
     "end_time": "2024-08-09T07:58:14.820465Z",
     "start_time": "2024-08-09T07:58:14.813043Z"
    }
   },
   "outputs": [
    {
     "data": {
      "text/plain": [
       "[2, 5, 7, 11]"
      ]
     },
     "execution_count": 3,
     "metadata": {},
     "output_type": "execute_result"
    }
   ],
   "source": [
    "primes([2,4,5,6,7,8,9,11,12,121,51,49])"
   ]
  },
  {
   "cell_type": "markdown",
   "id": "8b0c1b02",
   "metadata": {},
   "source": [
    "#### OR chatgpt"
   ]
  },
  {
   "cell_type": "code",
   "execution_count": 30,
   "id": "971a2d9c",
   "metadata": {
    "ExecuteTime": {
     "end_time": "2024-08-08T11:48:55.598858Z",
     "start_time": "2024-08-08T11:48:55.579339Z"
    }
   },
   "outputs": [],
   "source": [
    "def primes(numbers):\n",
    "    # Filter out numbers less than 2\n",
    "    return [num for num in numbers if num > 1 and all(num % factor != 0 for factor in range(2, int(num**0.5) + 1))]\n"
   ]
  },
  {
   "cell_type": "markdown",
   "id": "42590be1",
   "metadata": {},
   "source": [
    "`all()` returns True only if all elements in the iterable are True. If num % factor == 0 for any factor, the comprehension skips that number."
   ]
  },
  {
   "cell_type": "code",
   "execution_count": 31,
   "id": "ce6ca31b",
   "metadata": {
    "ExecuteTime": {
     "end_time": "2024-08-08T11:48:59.817385Z",
     "start_time": "2024-08-08T11:48:59.800393Z"
    }
   },
   "outputs": [
    {
     "data": {
      "text/plain": [
       "[2, 5, 7, 11]"
      ]
     },
     "execution_count": 31,
     "metadata": {},
     "output_type": "execute_result"
    }
   ],
   "source": [
    "primes([2,4,5,6,7,8,9,11,12,51,49])"
   ]
  },
  {
   "cell_type": "markdown",
   "id": "4e189550",
   "metadata": {},
   "source": [
    "#### odd or even : "
   ]
  },
  {
   "cell_type": "code",
   "execution_count": 1,
   "id": "f4ad23ff",
   "metadata": {
    "ExecuteTime": {
     "end_time": "2023-02-23T08:59:07.418481Z",
     "start_time": "2023-02-23T08:59:07.406468Z"
    }
   },
   "outputs": [],
   "source": [
    "def is_even(num):\n",
    "    \"\"\"\n",
    "    This function returns if a number is odd or even\n",
    "    input - any valid integer\n",
    "    created on : 16 - Feb -2023\n",
    "    \"\"\"\n",
    "    \n",
    "    if type(num) == int:\n",
    "        if num %2 ==0:\n",
    "            return 'even'\n",
    "        else:\n",
    "            return 'odd'\n",
    "    else:\n",
    "        return 'input sirf number lega'"
   ]
  },
  {
   "cell_type": "code",
   "execution_count": 2,
   "id": "f28ece16",
   "metadata": {
    "ExecuteTime": {
     "end_time": "2023-02-23T08:59:07.977785Z",
     "start_time": "2023-02-23T08:59:07.960270Z"
    }
   },
   "outputs": [
    {
     "name": "stdout",
     "output_type": "stream",
     "text": [
      "1 odd\n",
      "2 even\n",
      "3 odd\n",
      "4 even\n",
      "5 odd\n",
      "6 even\n",
      "7 odd\n",
      "8 even\n",
      "9 odd\n",
      "10 even\n"
     ]
    }
   ],
   "source": [
    "# calling the function\n",
    "\n",
    "for i in range(1,11):\n",
    "    x = is_even(i)\n",
    "    print(i,x)"
   ]
  },
  {
   "cell_type": "code",
   "execution_count": 3,
   "id": "8bf58ab9",
   "metadata": {
    "ExecuteTime": {
     "end_time": "2023-02-23T08:59:09.041577Z",
     "start_time": "2023-02-23T08:59:09.025065Z"
    }
   },
   "outputs": [
    {
     "data": {
      "text/plain": [
       "'input sirf number lega'"
      ]
     },
     "execution_count": 3,
     "metadata": {},
     "output_type": "execute_result"
    }
   ],
   "source": [
    "is_even('10')"
   ]
  },
  {
   "cell_type": "markdown",
   "id": "9ac77b45",
   "metadata": {},
   "source": [
    "## Paramter and Argument"
   ]
  },
  {
   "cell_type": "markdown",
   "id": "6d4bad09",
   "metadata": {},
   "source": [
    "\n",
    "\n",
    "### Parameter:\n",
    "- **Definition:** A parameter is a variable in the function definition. It acts as a placeholder for the values (arguments) that will be passed to the function when it is __created.__\n",
    "- **Purpose:** Parameters define what kind of input the function can accept.\n",
    "- **Example:**\n",
    "  ```python\n",
    "  def add(a, b):  # 'a' and 'b' are parameters\n",
    "      return a + b\n",
    "  ```\n",
    "\n",
    "### Argument:\n",
    "- **Definition:** An argument is the actual value that is passed to the function when it is __called.__ These values are assigned to the corresponding parameters in the function.\n",
    "- **Purpose:** Arguments provide the actual data to the function, which will be processed according to the function's logic.\n",
    "- **Example:**\n",
    "  ```python\n",
    "  result = add(3, 5)  # 3 and 5 are arguments\n",
    "  ```\n",
    "\n",
    "### Key Differences:\n",
    "- **Location:**\n",
    "  - **Parameter:** Defined in the function creation/signature.\n",
    "  - **Argument:** Supplied when calling the function.\n",
    "  \n",
    "- **Role:**\n",
    "  - **Parameter:** Serves as a template or placeholder.\n",
    "  - **Argument:** Provides concrete data for the function to operate on.\n",
    "\n",
    "### Example in Context:\n",
    "```python\n",
    "def greet(name):  # 'name' is a parameter\n",
    "    print(f\"Hello, {name}!\")\n",
    "\n",
    "greet(\"Alice\")  # \"Alice\" is an argument\n",
    "```\n",
    "- Here, `name` is a parameter that specifies what kind of input the function expects.\n",
    "- `\"Alice\"` is the argument that is passed to the function when it is called.\n",
    "\n",
    "Understanding the distinction between parameters and arguments helps in writing and understanding functions more clearly, especially in more complex programming scenarios."
   ]
  },
  {
   "cell_type": "markdown",
   "id": "38dc7e43",
   "metadata": {},
   "source": [
    "### Difference between parameter and argument:"
   ]
  },
  {
   "cell_type": "markdown",
   "id": "f60bf16e",
   "metadata": {},
   "source": [
    "- jab function create ho raha hai and then we pass something to it then it is __Parameter__.\n",
    "    - eg : def is_even(num), here __num__ is a __parameter__\n",
    "    \n",
    "\n",
    "- when we pass something while calling the function, then it is called __Argument__.\n",
    "    - eg : is_even(10), here __10__ is an __argument__"
   ]
  },
  {
   "cell_type": "markdown",
   "id": "e32fd170",
   "metadata": {},
   "source": [
    "Difficulty  of a game is $\\longrightarrow$ __Parameter__\n",
    "\n",
    "\n",
    "Easy, Medium, Hard $\\longrightarrow$ __Argument__"
   ]
  },
  {
   "cell_type": "markdown",
   "id": "17afebe2",
   "metadata": {},
   "source": [
    "### Types of Arguments:"
   ]
  },
  {
   "cell_type": "markdown",
   "id": "fd3aeaf5",
   "metadata": {},
   "source": [
    "- __1. Default Arguments :__ Parameters ko default value dena so that it doesnot gives error if nothing is passed"
   ]
  },
  {
   "cell_type": "code",
   "execution_count": 18,
   "id": "d1063438",
   "metadata": {
    "ExecuteTime": {
     "end_time": "2023-02-16T08:35:36.034438Z",
     "start_time": "2023-02-16T08:35:36.022655Z"
    }
   },
   "outputs": [],
   "source": [
    "def power(a,b):\n",
    "    return a**b"
   ]
  },
  {
   "cell_type": "code",
   "execution_count": 19,
   "id": "95f6944f",
   "metadata": {
    "ExecuteTime": {
     "end_time": "2023-02-16T08:35:36.407451Z",
     "start_time": "2023-02-16T08:35:36.376747Z"
    }
   },
   "outputs": [
    {
     "ename": "TypeError",
     "evalue": "power() missing 1 required positional argument: 'b'",
     "output_type": "error",
     "traceback": [
      "\u001b[1;31m---------------------------------------------------------------------------\u001b[0m",
      "\u001b[1;31mTypeError\u001b[0m                                 Traceback (most recent call last)",
      "Cell \u001b[1;32mIn[19], line 1\u001b[0m\n\u001b[1;32m----> 1\u001b[0m \u001b[43mpower\u001b[49m\u001b[43m(\u001b[49m\u001b[38;5;241;43m3\u001b[39;49m\u001b[43m)\u001b[49m\n",
      "\u001b[1;31mTypeError\u001b[0m: power() missing 1 required positional argument: 'b'"
     ]
    }
   ],
   "source": [
    "power(3)"
   ]
  },
  {
   "cell_type": "markdown",
   "id": "3e4ed9e6",
   "metadata": {},
   "source": [
    "##### using default arguments :"
   ]
  },
  {
   "cell_type": "code",
   "execution_count": 20,
   "id": "c8408670",
   "metadata": {
    "ExecuteTime": {
     "end_time": "2023-02-16T08:35:37.193809Z",
     "start_time": "2023-02-16T08:35:37.187099Z"
    }
   },
   "outputs": [],
   "source": [
    "def power(a=1,b=1):\n",
    "    return a**b"
   ]
  },
  {
   "cell_type": "code",
   "execution_count": 21,
   "id": "934ddc63",
   "metadata": {
    "ExecuteTime": {
     "end_time": "2023-02-16T08:35:37.601752Z",
     "start_time": "2023-02-16T08:35:37.586666Z"
    }
   },
   "outputs": [
    {
     "data": {
      "text/plain": [
       "3"
      ]
     },
     "execution_count": 21,
     "metadata": {},
     "output_type": "execute_result"
    }
   ],
   "source": [
    "power(3)"
   ]
  },
  {
   "cell_type": "markdown",
   "id": "5897cd17",
   "metadata": {},
   "source": [
    "- __2. Positional Arguments :__ jis order mein parameters are declared in that order only it will be executed"
   ]
  },
  {
   "cell_type": "code",
   "execution_count": 22,
   "id": "61644051",
   "metadata": {
    "ExecuteTime": {
     "end_time": "2023-02-16T08:37:38.601373Z",
     "start_time": "2023-02-16T08:37:38.585430Z"
    }
   },
   "outputs": [
    {
     "data": {
      "text/plain": [
       "8"
      ]
     },
     "execution_count": 22,
     "metadata": {},
     "output_type": "execute_result"
    }
   ],
   "source": [
    "power(2,3)"
   ]
  },
  {
   "cell_type": "code",
   "execution_count": 23,
   "id": "99e74fe2",
   "metadata": {
    "ExecuteTime": {
     "end_time": "2023-02-16T08:37:46.813947Z",
     "start_time": "2023-02-16T08:37:46.795960Z"
    }
   },
   "outputs": [
    {
     "data": {
      "text/plain": [
       "9"
      ]
     },
     "execution_count": 23,
     "metadata": {},
     "output_type": "execute_result"
    }
   ],
   "source": [
    "power(3,2)"
   ]
  },
  {
   "cell_type": "markdown",
   "id": "adafe0fc",
   "metadata": {},
   "source": [
    "- __3. Keyword Arguments__ Passing arguments with name"
   ]
  },
  {
   "cell_type": "code",
   "execution_count": 25,
   "id": "cd7f2500",
   "metadata": {
    "ExecuteTime": {
     "end_time": "2023-02-16T09:00:03.259501Z",
     "start_time": "2023-02-16T09:00:03.237500Z"
    }
   },
   "outputs": [
    {
     "data": {
      "text/plain": [
       "8"
      ]
     },
     "execution_count": 25,
     "metadata": {},
     "output_type": "execute_result"
    }
   ],
   "source": [
    "power(b=3,a=2)"
   ]
  },
  {
   "cell_type": "code",
   "execution_count": 31,
   "id": "f1b872b0",
   "metadata": {
    "ExecuteTime": {
     "end_time": "2023-02-16T13:46:41.067459Z",
     "start_time": "2023-02-16T13:46:41.058319Z"
    }
   },
   "outputs": [
    {
     "name": "stdout",
     "output_type": "stream",
     "text": [
      "\n",
      "    This function returns if a number is odd or even\n",
      "    input - any valid integer\n",
      "    created on : 16 - Feb -2023\n",
      "    \n"
     ]
    }
   ],
   "source": [
    "# documentation of a code\n",
    "print(is_even.__doc__)"
   ]
  },
  {
   "cell_type": "markdown",
   "id": "98f96c6f",
   "metadata": {},
   "source": [
    "## \\*args and **kwargs"
   ]
  },
  {
   "cell_type": "markdown",
   "id": "916690db",
   "metadata": {},
   "source": [
    "\\*args and \\*\\*kwargs are special python keywords that are used to pass variable length of arguments to a function.\n",
    "\n",
    "- __\\*args :__ allows us to pass a variable number of __non-keyword argumnets__ to a function. All variables are stored in a __tuple.__\n",
    "\n",
    "\n",
    "\n",
    "- __\\*\\*kwargs :__ allows us to pass any number of __key-word__ arguments. It contains 'key-value' like python __dictionary.__ "
   ]
  },
  {
   "cell_type": "code",
   "execution_count": 26,
   "id": "68c40426",
   "metadata": {
    "ExecuteTime": {
     "end_time": "2023-02-16T09:11:46.468739Z",
     "start_time": "2023-02-16T09:11:46.455738Z"
    }
   },
   "outputs": [],
   "source": [
    "def multiply(*args):\n",
    "    product = 1\n",
    "    \n",
    "    for i in args:\n",
    "        product = product * i\n",
    "        \n",
    "    return product"
   ]
  },
  {
   "cell_type": "code",
   "execution_count": 29,
   "id": "dcbc595f",
   "metadata": {
    "ExecuteTime": {
     "end_time": "2023-02-16T13:28:03.165569Z",
     "start_time": "2023-02-16T13:28:03.154429Z"
    }
   },
   "outputs": [
    {
     "data": {
      "text/plain": [
       "720"
      ]
     },
     "execution_count": 29,
     "metadata": {},
     "output_type": "execute_result"
    }
   ],
   "source": [
    "multiply(1,2,3,4,5,6)"
   ]
  },
  {
   "cell_type": "code",
   "execution_count": 8,
   "id": "5322e8c8",
   "metadata": {
    "ExecuteTime": {
     "end_time": "2024-08-09T08:02:49.941093Z",
     "start_time": "2024-08-09T08:02:49.932152Z"
    }
   },
   "outputs": [],
   "source": [
    "def display(**kwargs):\n",
    "    for key,value in kwargs.items():\n",
    "        print(key,'-->',value)"
   ]
  },
  {
   "cell_type": "code",
   "execution_count": 9,
   "id": "aa85f75a",
   "metadata": {
    "ExecuteTime": {
     "end_time": "2024-08-09T08:02:50.155460Z",
     "start_time": "2024-08-09T08:02:50.146364Z"
    }
   },
   "outputs": [
    {
     "name": "stdout",
     "output_type": "stream",
     "text": [
      "india --> delhi\n",
      "srilanka --> colombo\n",
      "bangladesh --> dhaka\n"
     ]
    }
   ],
   "source": [
    "display(india = 'delhi', srilanka = 'colombo', bangladesh = 'dhaka')"
   ]
  },
  {
   "cell_type": "markdown",
   "id": "880ba973",
   "metadata": {},
   "source": [
    "### Points to remember:\n",
    "\n",
    "- order of arguments matter (normal $\\longrightarrow$ \\*args $\\longrightarrow$ \\**kwargs)\n",
    "\n",
    "\n",
    "- The words 'args' and 'kwargs' are only a convention, we can use any name of choice. eg : \\**params"
   ]
  },
  {
   "cell_type": "code",
   "execution_count": 12,
   "id": "3af441ee",
   "metadata": {
    "ExecuteTime": {
     "end_time": "2024-01-27T15:23:17.122864Z",
     "start_time": "2024-01-27T15:23:17.101691Z"
    }
   },
   "outputs": [],
   "source": [
    "def print_name(*args,name):\n",
    "    print(args)\n",
    "    print(name)"
   ]
  },
  {
   "cell_type": "code",
   "execution_count": 11,
   "id": "737da5b3",
   "metadata": {
    "ExecuteTime": {
     "end_time": "2024-01-27T15:23:12.796792Z",
     "start_time": "2024-01-27T15:23:12.779028Z"
    }
   },
   "outputs": [
    {
     "ename": "TypeError",
     "evalue": "print_name() missing 1 required keyword-only argument: 'names'",
     "output_type": "error",
     "traceback": [
      "\u001b[1;31m---------------------------------------------------------------------------\u001b[0m",
      "\u001b[1;31mTypeError\u001b[0m                                 Traceback (most recent call last)",
      "Cell \u001b[1;32mIn[11], line 1\u001b[0m\n\u001b[1;32m----> 1\u001b[0m \u001b[43mprint_name\u001b[49m\u001b[43m(\u001b[49m\u001b[38;5;241;43m2\u001b[39;49m\u001b[43m,\u001b[49m\u001b[38;5;241;43m3\u001b[39;49m\u001b[43m,\u001b[49m\u001b[38;5;241;43m4\u001b[39;49m\u001b[43m,\u001b[49m\u001b[38;5;241;43m5\u001b[39;49m\u001b[43m,\u001b[49m\u001b[38;5;124;43m\"\u001b[39;49m\u001b[38;5;124;43mmohit\u001b[39;49m\u001b[38;5;124;43m\"\u001b[39;49m\u001b[43m)\u001b[49m\n",
      "\u001b[1;31mTypeError\u001b[0m: print_name() missing 1 required keyword-only argument: 'names'"
     ]
    }
   ],
   "source": [
    "print_name(2,3,4,5,\"mohit\")"
   ]
  },
  {
   "cell_type": "markdown",
   "id": "b865d5a2",
   "metadata": {},
   "source": [
    "#### giving error as it is considering \"mohit\" as args and not as name variable"
   ]
  },
  {
   "cell_type": "code",
   "execution_count": 7,
   "id": "6433d669",
   "metadata": {
    "ExecuteTime": {
     "end_time": "2024-01-27T15:22:05.919610Z",
     "start_time": "2024-01-27T15:22:05.897353Z"
    }
   },
   "outputs": [
    {
     "name": "stdout",
     "output_type": "stream",
     "text": [
      "(2, 3, 4, 5)\n",
      "mohit\n"
     ]
    }
   ],
   "source": [
    "print_name(2,3,4,5,name=\"mohit\")"
   ]
  },
  {
   "cell_type": "markdown",
   "id": "ad39e91e",
   "metadata": {},
   "source": [
    "#### When we pass name as positional argument then it will print name "
   ]
  },
  {
   "cell_type": "markdown",
   "id": "805c504e",
   "metadata": {},
   "source": [
    "## Global and local variable"
   ]
  },
  {
   "cell_type": "markdown",
   "id": "2ee3155f",
   "metadata": {},
   "source": [
    "any variable created inside a function is called __local variable__\n",
    "\n",
    "any variable created outside a function and inside main program is called __global variable__"
   ]
  },
  {
   "cell_type": "code",
   "execution_count": 2,
   "id": "affb8abc",
   "metadata": {
    "ExecuteTime": {
     "end_time": "2024-02-11T15:40:56.479069Z",
     "start_time": "2024-02-11T15:40:56.460041Z"
    }
   },
   "outputs": [
    {
     "name": "stdout",
     "output_type": "stream",
     "text": [
      "inside func_a\n",
      "None\n",
      "--------------\n",
      "inside func_b\n",
      "7\n"
     ]
    }
   ],
   "source": [
    "def func_a():\n",
    "    print('inside func_a')\n",
    "    \n",
    "def func_b(y):\n",
    "    print('inside func_b')\n",
    "    return y\n",
    "\n",
    "print(func_a())\n",
    "print('--------------')\n",
    "print(5+func_b(2))"
   ]
  },
  {
   "cell_type": "markdown",
   "id": "8ddaddcc",
   "metadata": {},
   "source": [
    "**func_a : doesnot have a Returns value $\\longrightarrow$ None after printing ('inside func_a')**\n"
   ]
  },
  {
   "cell_type": "code",
   "execution_count": 3,
   "id": "4519c400",
   "metadata": {
    "ExecuteTime": {
     "end_time": "2024-02-11T15:45:26.914560Z",
     "start_time": "2024-02-11T15:45:26.896313Z"
    }
   },
   "outputs": [
    {
     "name": "stdout",
     "output_type": "stream",
     "text": [
      "2\n",
      "5\n"
     ]
    }
   ],
   "source": [
    "def f(y):\n",
    "    x = 1 # both variables can have same name x and here local variable x =1\n",
    "    x += 1 # now x = 1+1 =2\n",
    "    print(x) #printing x = 2\n",
    "\n",
    "x=5\n",
    "f(x)\n",
    "print(x) # global variable still has value of x =5"
   ]
  },
  {
   "cell_type": "code",
   "execution_count": 3,
   "id": "9730c79a",
   "metadata": {},
   "outputs": [
    {
     "name": "stdout",
     "output_type": "stream",
     "text": [
      "5\n",
      "6\n",
      "5\n"
     ]
    }
   ],
   "source": [
    "def g(y):\n",
    "    print(x) # locally x was not defined, still took global x's variable x =5\n",
    "    print(x+1)\n",
    "\n",
    "x = 5\n",
    "g(x)\n",
    "print(x)"
   ]
  },
  {
   "cell_type": "markdown",
   "id": "0b375a60",
   "metadata": {},
   "source": [
    "### NOTE: We can use global variable in local but can't make changes to it's value"
   ]
  },
  {
   "cell_type": "code",
   "execution_count": 40,
   "id": "ade39889",
   "metadata": {
    "ExecuteTime": {
     "end_time": "2023-02-16T16:29:11.404349Z",
     "start_time": "2023-02-16T16:29:11.388233Z"
    }
   },
   "outputs": [
    {
     "name": "stdout",
     "output_type": "stream",
     "text": [
      "value of y is :  5\n",
      "value of local x is :  1\n",
      "changed value of x is :  2\n",
      "value of global x is :  5\n"
     ]
    }
   ],
   "source": [
    "def f(y):\n",
    "    print('value of y is : ',y)\n",
    "    x = 1 # both variables can have same name x and here local variable x =1\n",
    "    print('value of local x is : ',x)\n",
    "    x += 1 # now x = 1+1 =2\n",
    "    print('changed value of changed x is : ' ,x) #printing x = 2\n",
    "\n",
    "x = 5\n",
    "f(x)\n",
    "print('value of global x is : ',x) # global variable still has value of x =5"
   ]
  },
  {
   "cell_type": "markdown",
   "id": "8ecdb9eb",
   "metadata": {},
   "source": [
    "##### global variable will be given more importance if it is present"
   ]
  },
  {
   "cell_type": "code",
   "execution_count": 41,
   "id": "2b374a35",
   "metadata": {
    "ExecuteTime": {
     "end_time": "2023-02-16T16:30:41.676902Z",
     "start_time": "2023-02-16T16:30:41.660790Z"
    }
   },
   "outputs": [
    {
     "name": "stdout",
     "output_type": "stream",
     "text": [
      "value of local x is :  5\n",
      "changed value of changed x is :  6\n",
      "value of global x is :  5\n"
     ]
    }
   ],
   "source": [
    "def g(y):\n",
    "    print('value of local x is : ',x) # locally x was not defined, still took global x's variable x =5\n",
    "    print('changed value of changed x is : ' ,x+1)\n",
    "\n",
    "x = 5\n",
    "g(x)\n",
    "print('value of global x is : ',x)"
   ]
  },
  {
   "cell_type": "markdown",
   "id": "d63264e5",
   "metadata": {},
   "source": [
    "#### If we want to change the value of global variable locally:"
   ]
  },
  {
   "cell_type": "code",
   "execution_count": 6,
   "id": "e864275d",
   "metadata": {
    "ExecuteTime": {
     "end_time": "2023-02-17T06:34:19.614756Z",
     "start_time": "2023-02-17T06:34:19.603018Z"
    }
   },
   "outputs": [
    {
     "name": "stdout",
     "output_type": "stream",
     "text": [
      "6\n"
     ]
    }
   ],
   "source": [
    "def h(y):\n",
    "    global x # but don't use this\n",
    "    x+= 1\n",
    "x = 5\n",
    "h(x)\n",
    "print(x)"
   ]
  },
  {
   "cell_type": "markdown",
   "id": "2a9a8181",
   "metadata": {},
   "source": [
    "global varibales value changed form 5 to 6"
   ]
  },
  {
   "cell_type": "markdown",
   "id": "557aab55",
   "metadata": {},
   "source": [
    "### NOTE: We can use global variable in local but can't make changes to it's value. generally, if we want to change it we need to use global keyword"
   ]
  },
  {
   "cell_type": "code",
   "execution_count": 8,
   "id": "941b8698",
   "metadata": {},
   "outputs": [
    {
     "name": "stdout",
     "output_type": "stream",
     "text": [
      "in f(x): x =  4\n",
      "in main program scope: z= 4\n",
      "in main program scope: x= 3\n"
     ]
    }
   ],
   "source": [
    "def f(x):\n",
    "    x = x+1\n",
    "    print('in f(x): x = ',x)\n",
    "    return x\n",
    "\n",
    "x =3\n",
    "z = f (x)\n",
    "print('in main program scope: z=',z)\n",
    "print('in main program scope: x=',x) # here it will take global value of x = 3 and local value of x =4 "
   ]
  },
  {
   "cell_type": "markdown",
   "id": "697527bf",
   "metadata": {},
   "source": [
    "### Nested Functions "
   ]
  },
  {
   "cell_type": "code",
   "execution_count": 2,
   "id": "13d5a9a4",
   "metadata": {
    "ExecuteTime": {
     "end_time": "2023-02-21T12:41:38.852483Z",
     "start_time": "2023-02-21T12:41:38.837479Z"
    }
   },
   "outputs": [
    {
     "name": "stdout",
     "output_type": "stream",
     "text": [
      "inside function g\n",
      "inside function f\n"
     ]
    }
   ],
   "source": [
    "def f():\n",
    "    def g():\n",
    "        print('inside function g')\n",
    "    g()\n",
    "    print('inside function f')\n",
    "\n",
    "f()"
   ]
  },
  {
   "cell_type": "markdown",
   "id": "cd9d31e7",
   "metadata": {},
   "source": [
    "- seedha line 7 pe jaayega, will call f(), block of f will be created\n",
    "\n",
    "- line 1 , then will go to line 2. will see a function, then will jump to line 4\n",
    "\n",
    "- saw g() in line 4 so block of g will be created, and will go to line 2\n",
    "\n",
    "- inside def g(), line 3 will be executed and print ('inside function g')\n",
    "\n",
    "- will go to line 4 g() but None will be returned here\n",
    "\n",
    "- now line 5 print('inside function f') will be printed"
   ]
  },
  {
   "cell_type": "markdown",
   "id": "72f37102",
   "metadata": {},
   "source": [
    "##### Important example : "
   ]
  },
  {
   "cell_type": "code",
   "execution_count": 9,
   "id": "dbb3c2cf",
   "metadata": {
    "ExecuteTime": {
     "end_time": "2023-02-17T06:41:08.846971Z",
     "start_time": "2023-02-17T06:41:08.833508Z"
    }
   },
   "outputs": [
    {
     "ename": "NameError",
     "evalue": "name 'g' is not defined",
     "output_type": "error",
     "traceback": [
      "\u001b[1;31m---------------------------------------------------------------------------\u001b[0m",
      "\u001b[1;31mNameError\u001b[0m                                 Traceback (most recent call last)",
      "Cell \u001b[1;32mIn[9], line 6\u001b[0m\n\u001b[0;32m      4\u001b[0m     g()\n\u001b[0;32m      5\u001b[0m     \u001b[38;5;28mprint\u001b[39m(\u001b[38;5;124m'\u001b[39m\u001b[38;5;124minside function f\u001b[39m\u001b[38;5;124m'\u001b[39m)\n\u001b[1;32m----> 6\u001b[0m \u001b[43mg\u001b[49m()\n",
      "\u001b[1;31mNameError\u001b[0m: name 'g' is not defined"
     ]
    }
   ],
   "source": [
    "def f():\n",
    "    def g():\n",
    "        print('inside function g')\n",
    "    g()\n",
    "    print('inside function f')\n",
    "g()"
   ]
  },
  {
   "cell_type": "markdown",
   "id": "6949f4f1",
   "metadata": {},
   "source": [
    "##### Without calling main function f(), we can't call g()"
   ]
  },
  {
   "cell_type": "markdown",
   "id": "8a033343",
   "metadata": {},
   "source": [
    "### <span class=\"mark\">NOTE: in nested function, we cannot directly access any function which is defined inside another main function</span>"
   ]
  },
  {
   "cell_type": "code",
   "execution_count": null,
   "id": "0a1db798",
   "metadata": {
    "ExecuteTime": {
     "start_time": "2024-08-08T12:55:14.404Z"
    }
   },
   "outputs": [],
   "source": [
    "def f():\n",
    "    def g():\n",
    "        print('inside function g')\n",
    "        f()\n",
    "    g()\n",
    "    print('inside function f')\n",
    "    \n",
    "# f()\n",
    "# will keep on running non-stop --> infinite loop"
   ]
  },
  {
   "cell_type": "code",
   "execution_count": 1,
   "id": "261b996f",
   "metadata": {
    "ExecuteTime": {
     "end_time": "2024-08-08T12:56:17.975359Z",
     "start_time": "2024-08-08T12:56:17.952867Z"
    }
   },
   "outputs": [
    {
     "name": "stdout",
     "output_type": "stream",
     "text": [
      "in g(x): x= 4\n"
     ]
    }
   ],
   "source": [
    "def g(x):\n",
    "    def h():\n",
    "        x ='abc'             # x local is none coz def h() has no return\n",
    "    x = x+1                  # x local is still none and h func is not returning any value of x to g func\n",
    "    print('in g(x): x=', x)\n",
    "    h()\n",
    "    return x\n",
    "\n",
    "x = 3\n",
    "z = g(x)"
   ]
  },
  {
   "cell_type": "code",
   "execution_count": 15,
   "id": "97ef65b3",
   "metadata": {},
   "outputs": [
    {
     "name": "stdout",
     "output_type": "stream",
     "text": [
      "in g(x): x =  4\n",
      "in h(x): x =  5\n",
      "in main program scope: x= 3\n",
      "in main program scope: z= 4\n"
     ]
    }
   ],
   "source": [
    "def g(x):\n",
    "    def h(x):\n",
    "        x = x+1\n",
    "        print('in h(x): x = ', x)\n",
    "    x = x+1\n",
    "    print('in g(x): x = ', x)\n",
    "    h(x)\n",
    "    return x\n",
    "\n",
    "x = 3\n",
    "z = g(x)\n",
    "\n",
    "print('in main program scope: x=', x)\n",
    "print('in main program scope: z=', z)"
   ]
  },
  {
   "cell_type": "markdown",
   "id": "792d2baf",
   "metadata": {},
   "source": [
    "campus x functions: https://www.youtube.com/watch?v=XTVP2gS6ftk&list=PLKnIA16_Rmvb1RYR-iTA_hzckhdONtSW4&index=29"
   ]
  },
  {
   "cell_type": "markdown",
   "id": "fecc9149",
   "metadata": {},
   "source": [
    "## Functions are first class citizens"
   ]
  },
  {
   "cell_type": "markdown",
   "id": "99106ce0",
   "metadata": {},
   "source": [
    "Functions in Python are considered first-class citizens, meaning:\n",
    "\n",
    "- they can be assigned to variables, \n",
    "\n",
    "\n",
    "- passed as arguments to other functions, \n",
    "\n",
    "\n",
    "\n",
    "- returned as values, \n",
    "\n",
    "\n",
    "- stored in data structures, \n",
    "\n",
    "\n",
    "- and defined inside other functions. \n",
    "\n",
    "\n",
    "__This flexibility allows for more expressive and flexible programming in Python. ie. Functions act like any other datatype i.e jo interger kar sakta hai woh function  bhi kar sakta hai__"
   ]
  },
  {
   "cell_type": "code",
   "execution_count": 4,
   "id": "01412530",
   "metadata": {
    "ExecuteTime": {
     "end_time": "2023-02-17T06:59:37.904312Z",
     "start_time": "2023-02-17T06:59:37.892038Z"
    }
   },
   "outputs": [],
   "source": [
    "def f(num):\n",
    "    return num**2"
   ]
  },
  {
   "cell_type": "code",
   "execution_count": 5,
   "id": "74eaee38",
   "metadata": {
    "ExecuteTime": {
     "end_time": "2023-02-17T06:59:38.154828Z",
     "start_time": "2023-02-17T06:59:38.139329Z"
    }
   },
   "outputs": [
    {
     "data": {
      "text/plain": [
       "9"
      ]
     },
     "execution_count": 5,
     "metadata": {},
     "output_type": "execute_result"
    }
   ],
   "source": [
    "f(3)"
   ]
  },
  {
   "cell_type": "code",
   "execution_count": 6,
   "id": "691cbe3e",
   "metadata": {
    "ExecuteTime": {
     "end_time": "2023-02-17T06:59:38.452352Z",
     "start_time": "2023-02-17T06:59:38.435343Z"
    }
   },
   "outputs": [
    {
     "data": {
      "text/plain": [
       "function"
      ]
     },
     "execution_count": 6,
     "metadata": {},
     "output_type": "execute_result"
    }
   ],
   "source": [
    "type(f)"
   ]
  },
  {
   "cell_type": "code",
   "execution_count": 19,
   "id": "53396319",
   "metadata": {
    "ExecuteTime": {
     "end_time": "2023-02-16T18:11:19.065666Z",
     "start_time": "2023-02-16T18:11:19.053588Z"
    }
   },
   "outputs": [],
   "source": [
    " l = [2,3,4,5,f]"
   ]
  },
  {
   "cell_type": "code",
   "execution_count": 20,
   "id": "41741ed6",
   "metadata": {
    "ExecuteTime": {
     "end_time": "2023-02-16T18:11:20.404764Z",
     "start_time": "2023-02-16T18:11:20.393763Z"
    }
   },
   "outputs": [
    {
     "name": "stdout",
     "output_type": "stream",
     "text": [
      "[2, 3, 4, 5, <function f at 0x0000029E49E59550>]\n"
     ]
    }
   ],
   "source": [
    "print(l)"
   ]
  },
  {
   "cell_type": "code",
   "execution_count": 22,
   "id": "70a3c72f",
   "metadata": {
    "ExecuteTime": {
     "end_time": "2023-02-16T18:11:31.630896Z",
     "start_time": "2023-02-16T18:11:31.611910Z"
    }
   },
   "outputs": [
    {
     "name": "stdout",
     "output_type": "stream",
     "text": [
      "16\n"
     ]
    }
   ],
   "source": [
    "x = f\n",
    "print(x(4))"
   ]
  },
  {
   "cell_type": "code",
   "execution_count": 26,
   "id": "84c89e03",
   "metadata": {
    "ExecuteTime": {
     "end_time": "2023-02-16T18:12:14.819415Z",
     "start_time": "2023-02-16T18:12:14.804892Z"
    },
    "scrolled": true
   },
   "outputs": [
    {
     "name": "stdout",
     "output_type": "stream",
     "text": [
      "2878867871056\n",
      "2878867871056\n"
     ]
    }
   ],
   "source": [
    "print(id(f))\n",
    "print(id(x))"
   ]
  },
  {
   "cell_type": "code",
   "execution_count": 25,
   "id": "b13c14a9",
   "metadata": {
    "ExecuteTime": {
     "end_time": "2023-02-16T18:11:44.771987Z",
     "start_time": "2023-02-16T18:11:44.767004Z"
    }
   },
   "outputs": [
    {
     "name": "stdout",
     "output_type": "stream",
     "text": [
      "{<function f at 0x0000029E49E59550>}\n"
     ]
    }
   ],
   "source": [
    "set1 = {f}\n",
    "print(set1)"
   ]
  },
  {
   "cell_type": "markdown",
   "id": "d4fcca19",
   "metadata": {},
   "source": [
    "So f is immutable as it can be passed inside a set"
   ]
  },
  {
   "cell_type": "markdown",
   "id": "df3f8e30",
   "metadata": {},
   "source": [
    "#### function returning another function:"
   ]
  },
  {
   "cell_type": "code",
   "execution_count": 2,
   "id": "3ad599e0",
   "metadata": {
    "ExecuteTime": {
     "end_time": "2023-02-16T17:51:21.701114Z",
     "start_time": "2023-02-16T17:51:21.690097Z"
    }
   },
   "outputs": [
    {
     "name": "stdout",
     "output_type": "stream",
     "text": [
      "7\n"
     ]
    }
   ],
   "source": [
    "def f():\n",
    "    def x(a, b):\n",
    "        return a+b\n",
    "    return x\n",
    "\n",
    "val = f()(3,4)\n",
    "print(val)"
   ]
  },
  {
   "cell_type": "markdown",
   "id": "fa099b48",
   "metadata": {},
   "source": [
    "jo x, line 4 mein return ho raha woh khud line 2 mein ek function hai. so after line 4, it will go to line 6!\n",
    "\n",
    "f() will be replaced with x in val and will become val = x(3,4)"
   ]
  },
  {
   "cell_type": "markdown",
   "id": "d67658c9",
   "metadata": {},
   "source": [
    "#### a function as input inside a function as an argument"
   ]
  },
  {
   "cell_type": "code",
   "execution_count": 2,
   "id": "c0a2fdd5",
   "metadata": {
    "ExecuteTime": {
     "end_time": "2024-08-08T15:04:40.492945Z",
     "start_time": "2024-08-08T15:04:40.475530Z"
    }
   },
   "outputs": [
    {
     "name": "stdout",
     "output_type": "stream",
     "text": [
      "inside func_b\n",
      "inside func_a\n",
      "None\n"
     ]
    }
   ],
   "source": [
    "def func_a():\n",
    "    print('inside func_a')\n",
    "    \n",
    "def func_b(z):\n",
    "    print('inside func_b')\n",
    "    return z()\n",
    "\n",
    "print(func_b(func_a))"
   ]
  },
  {
   "attachments": {
    "python_tutor.jpg": {
     "image/jpeg": "[encoded data removed]"
    }
   },
   "cell_type": "markdown",
   "id": "dc9716eb",
   "metadata": {},
   "source": [
    "![python_tutor.jpg](attachment:python_tutor.jpg)"
   ]
  },
  {
   "cell_type": "markdown",
   "id": "2a1f0cbe",
   "metadata": {},
   "source": [
    "#### Benefits of Functions\n",
    "\n",
    "\n",
    "- Code Modularity\n",
    "\n",
    "\n",
    "- Code Readibility\n",
    "\n",
    "\n",
    "- Code Reusability"
   ]
  },
  {
   "cell_type": "markdown",
   "id": "ad3a183a",
   "metadata": {},
   "source": [
    "## Lambda Function\n",
    "A lambda function is a small anonymous function.\n",
    "\n",
    "A lambda function can take any number of arguments, but can only have one expression."
   ]
  },
  {
   "attachments": {
    "lambda111.png": {
     "image/png": "[encoded data removed]"
    }
   },
   "cell_type": "markdown",
   "id": "be27fc3d",
   "metadata": {},
   "source": [
    "![lambda111.png](attachment:lambda111.png)"
   ]
  },
  {
   "cell_type": "markdown",
   "id": "47d6871c",
   "metadata": {},
   "source": [
    "\n",
    "\n",
    "Single line functions that are served are inputs or given as outputs to other functions\n",
    "\n",
    "- lambda arguments : expression\n",
    "\n",
    "\n",
    "- arguments are variables used with lambda function\n",
    "\n",
    "\n",
    "- expression is mathematical expression that will decide the output\n",
    "\n",
    "\n",
    "- lambda function can take n number of arguments but only one expression"
   ]
  },
  {
   "cell_type": "code",
   "execution_count": 27,
   "id": "9a870d82",
   "metadata": {
    "ExecuteTime": {
     "end_time": "2023-02-16T18:23:15.633222Z",
     "start_time": "2023-02-16T18:23:15.623145Z"
    }
   },
   "outputs": [
    {
     "data": {
      "text/plain": [
       "25"
      ]
     },
     "execution_count": 27,
     "metadata": {},
     "output_type": "execute_result"
    }
   ],
   "source": [
    "a = lambda x : x**2\n",
    "a(5)"
   ]
  },
  {
   "cell_type": "code",
   "execution_count": 28,
   "id": "7959740a",
   "metadata": {
    "ExecuteTime": {
     "end_time": "2023-02-16T18:23:37.817072Z",
     "start_time": "2023-02-16T18:23:37.802476Z"
    }
   },
   "outputs": [
    {
     "data": {
      "text/plain": [
       "6"
      ]
     },
     "execution_count": 28,
     "metadata": {},
     "output_type": "execute_result"
    }
   ],
   "source": [
    "c = lambda a,b : a*b\n",
    "c(2,3)"
   ]
  },
  {
   "cell_type": "markdown",
   "id": "ba19904f",
   "metadata": {},
   "source": [
    "#### Diff between lambda vs Normal Function\n",
    "- No name\n",
    "\n",
    "- lambda has no return value(infact,returns a function)\n",
    "\n",
    "- lambda is written in 1 line\n",
    "\n",
    "- not reusable"
   ]
  },
  {
   "cell_type": "markdown",
   "id": "a671f195",
   "metadata": {},
   "source": [
    "#### Then why use lambda functions?\n",
    "> __They are used with Higher Order Function (HOF)__"
   ]
  },
  {
   "cell_type": "code",
   "execution_count": 29,
   "id": "2d99aba8",
   "metadata": {
    "ExecuteTime": {
     "end_time": "2023-02-16T18:25:03.978851Z",
     "start_time": "2023-02-16T18:25:03.968885Z"
    }
   },
   "outputs": [
    {
     "data": {
      "text/plain": [
       "True"
      ]
     },
     "execution_count": 29,
     "metadata": {},
     "output_type": "execute_result"
    }
   ],
   "source": [
    "c = lambda s : 'a' in s\n",
    "c('my name')"
   ]
  },
  {
   "cell_type": "code",
   "execution_count": 30,
   "id": "63ae3134",
   "metadata": {
    "ExecuteTime": {
     "end_time": "2023-02-16T18:25:09.986634Z",
     "start_time": "2023-02-16T18:25:09.971633Z"
    }
   },
   "outputs": [
    {
     "data": {
      "text/plain": [
       "False"
      ]
     },
     "execution_count": 30,
     "metadata": {},
     "output_type": "execute_result"
    }
   ],
   "source": [
    "c('Mohit')"
   ]
  },
  {
   "cell_type": "markdown",
   "id": "1c1e7701",
   "metadata": {},
   "source": [
    "##### odd even through lambda"
   ]
  },
  {
   "cell_type": "code",
   "execution_count": 37,
   "id": "5ff6b6c8",
   "metadata": {
    "ExecuteTime": {
     "end_time": "2023-02-16T18:27:03.871268Z",
     "start_time": "2023-02-16T18:27:03.854724Z"
    }
   },
   "outputs": [],
   "source": [
    "z = lambda x : 'even' if x%2==0 else 'odd'"
   ]
  },
  {
   "cell_type": "code",
   "execution_count": 38,
   "id": "3df001eb",
   "metadata": {
    "ExecuteTime": {
     "end_time": "2023-02-16T18:27:04.200093Z",
     "start_time": "2023-02-16T18:27:04.188573Z"
    }
   },
   "outputs": [
    {
     "data": {
      "text/plain": [
       "'even'"
      ]
     },
     "execution_count": 38,
     "metadata": {},
     "output_type": "execute_result"
    }
   ],
   "source": [
    "z(4)"
   ]
  },
  {
   "cell_type": "code",
   "execution_count": 39,
   "id": "6a552365",
   "metadata": {
    "ExecuteTime": {
     "end_time": "2023-02-16T18:27:04.560353Z",
     "start_time": "2023-02-16T18:27:04.547809Z"
    }
   },
   "outputs": [
    {
     "data": {
      "text/plain": [
       "'odd'"
      ]
     },
     "execution_count": 39,
     "metadata": {},
     "output_type": "execute_result"
    }
   ],
   "source": [
    "z(5)"
   ]
  },
  {
   "cell_type": "code",
   "execution_count": 7,
   "id": "f4c2274a",
   "metadata": {
    "ExecuteTime": {
     "end_time": "2023-02-21T13:23:14.707570Z",
     "start_time": "2023-02-21T13:23:14.694056Z"
    }
   },
   "outputs": [
    {
     "name": "stdout",
     "output_type": "stream",
     "text": [
      "SKEEGROFSKEEG\n"
     ]
    }
   ],
   "source": [
    "# uppercase and reverse\n",
    "str1 = 'GeeksforGeeks'\n",
    "\n",
    "rev_letters = lambda string: string.upper()[::-1]\n",
    "\n",
    "print(rev_letters(str1))"
   ]
  },
  {
   "cell_type": "code",
   "execution_count": 8,
   "id": "3227bd89",
   "metadata": {
    "ExecuteTime": {
     "end_time": "2023-02-21T13:24:01.082503Z",
     "start_time": "2023-02-21T13:24:01.066110Z"
    }
   },
   "outputs": [
    {
     "name": "stdout",
     "output_type": "stream",
     "text": [
      "Int formatting: 1.000000e+06\n",
      "float formatting: 999,999.79\n"
     ]
    }
   ],
   "source": [
    "\n",
    "format_numeric = lambda num: f\"{num:e}\" if isinstance(num, int) else f\"{num:,.2f}\"\n",
    " \n",
    "print(\"Int formatting:\", format_numeric(1000000))\n",
    "print(\"float formatting:\", format_numeric(999999.789541235))"
   ]
  },
  {
   "cell_type": "markdown",
   "id": "34b1b911",
   "metadata": {},
   "source": [
    "#### Python Lambda Function with List Comprehension"
   ]
  },
  {
   "cell_type": "code",
   "execution_count": 13,
   "id": "de463734",
   "metadata": {
    "ExecuteTime": {
     "end_time": "2023-02-23T09:48:50.604969Z",
     "start_time": "2023-02-23T09:48:50.589864Z"
    }
   },
   "outputs": [
    {
     "name": "stdout",
     "output_type": "stream",
     "text": [
      "[<function <listcomp>.<lambda> at 0x000001FE74807280>, <function <listcomp>.<lambda> at 0x000001FE74807040>, <function <listcomp>.<lambda> at 0x000001FE748070D0>, <function <listcomp>.<lambda> at 0x000001FE748073A0>]\n",
      "\n",
      "10\n",
      "20\n",
      "30\n",
      "40\n"
     ]
    }
   ],
   "source": [
    "is_even_list = [lambda arg=x: arg * 10 for x in range(1, 5)]\n",
    "print(is_even_list) \n",
    "print()\n",
    "\n",
    "\n",
    "# iterate on each lambda function\n",
    "# and invoke the function to get the calculated value\n",
    "for item in is_even_list:\n",
    "    print(item())"
   ]
  },
  {
   "cell_type": "code",
   "execution_count": 11,
   "id": "8bf125bc",
   "metadata": {
    "ExecuteTime": {
     "end_time": "2024-08-09T08:42:24.413354Z",
     "start_time": "2024-08-09T08:42:24.400184Z"
    }
   },
   "outputs": [
    {
     "data": {
      "text/plain": [
       "[10, 20, 30, 40, 50]"
      ]
     },
     "execution_count": 11,
     "metadata": {},
     "output_type": "execute_result"
    }
   ],
   "source": [
    "[x*10 for x in range(1,6)]"
   ]
  },
  {
   "cell_type": "markdown",
   "id": "14a5d6f4",
   "metadata": {},
   "source": [
    "#### Python Lambda Function with if-else"
   ]
  },
  {
   "cell_type": "code",
   "execution_count": 10,
   "id": "4f30cc63",
   "metadata": {
    "ExecuteTime": {
     "end_time": "2023-02-21T13:25:50.194941Z",
     "start_time": "2023-02-21T13:25:50.179543Z"
    }
   },
   "outputs": [
    {
     "name": "stdout",
     "output_type": "stream",
     "text": [
      "2\n"
     ]
    }
   ],
   "source": [
    "# Here we are using Max lambda function to find the maximum of two integers.\n",
    "\n",
    "# Example of lambda function using if-else\n",
    "Max = lambda a, b : a if(a > b) else b\n",
    " \n",
    "print(Max(1, 2))"
   ]
  },
  {
   "cell_type": "code",
   "execution_count": 7,
   "id": "d8cc08ab",
   "metadata": {},
   "outputs": [
    {
     "name": "stdout",
     "output_type": "stream",
     "text": [
      "[2, 3, 4, 7]\n",
      "[4, 5]\n",
      "[2, 4, 8]\n"
     ]
    }
   ],
   "source": [
    "for x in [[2,4,3,7],[5,4],[8,2,4]]:\n",
    "    print(sorted(x))"
   ]
  },
  {
   "cell_type": "markdown",
   "id": "7cf3ac5c",
   "metadata": {},
   "source": [
    "#### <span class=\"girk\">Python Lambda with Multiple statements</span>"
   ]
  },
  {
   "cell_type": "markdown",
   "id": "eec7097b",
   "metadata": {},
   "source": [
    "Lambda functions does not allow multiple statements, however, we can create two lambda functions and then call the other lambda function as a parameter to the first function."
   ]
  },
  {
   "cell_type": "code",
   "execution_count": 3,
   "id": "1dd764fb",
   "metadata": {
    "ExecuteTime": {
     "end_time": "2024-08-08T15:22:36.196836Z",
     "start_time": "2024-08-08T15:22:36.188316Z"
    }
   },
   "outputs": [
    {
     "name": "stdout",
     "output_type": "stream",
     "text": [
      "<function <lambda> at 0x0000016D26695790>\n",
      "[3, 16, 9]\n"
     ]
    }
   ],
   "source": [
    "List = [[2,3,4],[1, 4, 16, 64],[3, 6, 9, 12]]\n",
    " \n",
    "# Sort each sublist\n",
    "sortList = lambda x: (sorted(i) for i in x)\n",
    "print(sortList)\n",
    " \n",
    "# Get the second largest element\n",
    "secondLargest = lambda x, f : [y[len(y)-2] for y in f(x)]\n",
    "res = secondLargest(List, sortList)\n",
    " \n",
    "print(res)"
   ]
  },
  {
   "cell_type": "markdown",
   "id": "400800af",
   "metadata": {},
   "source": [
    "## Higher Order Function\n",
    "\n",
    "A function that returns another function or take another function as input"
   ]
  },
  {
   "cell_type": "code",
   "execution_count": 17,
   "id": "8893a55f",
   "metadata": {
    "ExecuteTime": {
     "end_time": "2023-02-17T09:09:42.588535Z",
     "start_time": "2023-02-17T09:09:42.573277Z"
    }
   },
   "outputs": [],
   "source": [
    "def f(*args):\n",
    "    return args"
   ]
  },
  {
   "cell_type": "code",
   "execution_count": 18,
   "id": "742f86a1",
   "metadata": {
    "ExecuteTime": {
     "end_time": "2023-02-17T09:09:44.285453Z",
     "start_time": "2023-02-17T09:09:44.260858Z"
    }
   },
   "outputs": [],
   "source": [
    "def square(x):\n",
    "    return x**2\n",
    "\n",
    "def transform(f,L): # f is a function here\n",
    "    output = []\n",
    "    for i in L:\n",
    "        output.append(f(i))\n",
    "        \n",
    "    print(output)"
   ]
  },
  {
   "cell_type": "code",
   "execution_count": 19,
   "id": "fc7c0d5d",
   "metadata": {
    "ExecuteTime": {
     "end_time": "2023-02-17T09:09:44.895157Z",
     "start_time": "2023-02-17T09:09:44.882119Z"
    }
   },
   "outputs": [
    {
     "name": "stdout",
     "output_type": "stream",
     "text": [
      "[1, 4, 9, 16, 25, 36]\n"
     ]
    }
   ],
   "source": [
    "L = [1,2,3,4,5,6]\n",
    "transform(square,L)"
   ]
  },
  {
   "cell_type": "markdown",
   "id": "6e460585",
   "metadata": {},
   "source": [
    "#### or"
   ]
  },
  {
   "cell_type": "code",
   "execution_count": 20,
   "id": "ada762f8",
   "metadata": {
    "ExecuteTime": {
     "end_time": "2023-02-17T09:09:46.824197Z",
     "start_time": "2023-02-17T09:09:46.800177Z"
    }
   },
   "outputs": [
    {
     "name": "stdout",
     "output_type": "stream",
     "text": [
      "[1, 4, 9, 16, 25, 36]\n"
     ]
    }
   ],
   "source": [
    "L = [1,2,3,4,5,6]\n",
    "transform(lambda x: x**2,L)"
   ]
  },
  {
   "cell_type": "code",
   "execution_count": 21,
   "id": "d4b9e091",
   "metadata": {
    "ExecuteTime": {
     "end_time": "2023-02-17T09:09:47.962437Z",
     "start_time": "2023-02-17T09:09:47.948799Z"
    }
   },
   "outputs": [
    {
     "name": "stdout",
     "output_type": "stream",
     "text": [
      "[1, 8, 27, 64, 125, 216]\n"
     ]
    }
   ],
   "source": [
    "L = [1,2,3,4,5,6]\n",
    "transform(lambda x: x**3,L)"
   ]
  },
  {
   "cell_type": "markdown",
   "id": "913138f4",
   "metadata": {},
   "source": [
    "### Other Higher order Functions\n",
    "\n",
    "- __MAP__\n",
    "\n",
    "\n",
    "- __FILTER__\n",
    "\n",
    "\n",
    "- __REDUCE__"
   ]
  },
  {
   "cell_type": "markdown",
   "id": "a68edb98",
   "metadata": {},
   "source": [
    "## MAP"
   ]
  },
  {
   "cell_type": "markdown",
   "id": "ea293278",
   "metadata": {},
   "source": [
    "__Any logic can be applied on a list using MAP__\n",
    "\n",
    "MAP always expects 2 things:\n",
    "\n",
    "- 1. lambda functions\n",
    "\n",
    "\n",
    "- 2. Iterables(list)\n",
    "    "
   ]
  },
  {
   "cell_type": "markdown",
   "id": "98c5516e",
   "metadata": {},
   "source": [
    "<center><b>map(function, iterables1, iterables2,iterables3...iterablesN)</b></center>"
   ]
  },
  {
   "cell_type": "code",
   "execution_count": 28,
   "id": "075154ec",
   "metadata": {
    "ExecuteTime": {
     "end_time": "2023-02-19T20:56:02.622077Z",
     "start_time": "2023-02-19T20:56:02.602077Z"
    }
   },
   "outputs": [],
   "source": [
    "def cube(x):\n",
    "    return x**3"
   ]
  },
  {
   "cell_type": "code",
   "execution_count": 31,
   "id": "e0aba626",
   "metadata": {
    "ExecuteTime": {
     "end_time": "2023-02-19T20:56:26.258443Z",
     "start_time": "2023-02-19T20:56:26.240739Z"
    }
   },
   "outputs": [
    {
     "data": {
      "text/plain": [
       "[1, 8, 27]"
      ]
     },
     "execution_count": 31,
     "metadata": {},
     "output_type": "execute_result"
    }
   ],
   "source": [
    "list(map(cube,[1,2,3]))"
   ]
  },
  {
   "cell_type": "markdown",
   "id": "9b7ee893",
   "metadata": {},
   "source": [
    "#### using 2 iterables :"
   ]
  },
  {
   "cell_type": "code",
   "execution_count": 33,
   "id": "834a93f3",
   "metadata": {
    "ExecuteTime": {
     "end_time": "2023-02-19T20:57:03.861278Z",
     "start_time": "2023-02-19T20:57:03.849174Z"
    }
   },
   "outputs": [],
   "source": [
    "def power(x,y):\n",
    "    return x**y"
   ]
  },
  {
   "cell_type": "code",
   "execution_count": 36,
   "id": "7fd45445",
   "metadata": {
    "ExecuteTime": {
     "end_time": "2023-02-19T20:57:16.959142Z",
     "start_time": "2023-02-19T20:57:16.940107Z"
    }
   },
   "outputs": [
    {
     "data": {
      "text/plain": [
       "[5, 8]"
      ]
     },
     "execution_count": 36,
     "metadata": {},
     "output_type": "execute_result"
    }
   ],
   "source": [
    "list(map(power,[5,2],[1,3]))"
   ]
  },
  {
   "cell_type": "code",
   "execution_count": 37,
   "id": "ff271d9a",
   "metadata": {
    "ExecuteTime": {
     "end_time": "2023-02-19T20:58:05.337589Z",
     "start_time": "2023-02-19T20:58:05.328638Z"
    }
   },
   "outputs": [
    {
     "data": {
      "text/plain": [
       "[5, 8]"
      ]
     },
     "execution_count": 37,
     "metadata": {},
     "output_type": "execute_result"
    }
   ],
   "source": [
    "list(map(lambda x,y : x**y,[5,2],[1,3]))"
   ]
  },
  {
   "cell_type": "code",
   "execution_count": 39,
   "id": "eb28a338",
   "metadata": {
    "ExecuteTime": {
     "end_time": "2023-02-19T20:59:30.174831Z",
     "start_time": "2023-02-19T20:59:30.158263Z"
    }
   },
   "outputs": [
    {
     "data": {
      "text/plain": [
       "[10, 24]"
      ]
     },
     "execution_count": 39,
     "metadata": {},
     "output_type": "execute_result"
    }
   ],
   "source": [
    "list(map(lambda x,y,z : x*y*z,[5,2],[1,3],[2,4]))"
   ]
  },
  {
   "cell_type": "markdown",
   "id": "b1a51c43",
   "metadata": {},
   "source": [
    "#### <span class=\"girk\">user input of 2 integers using MAP</span>"
   ]
  },
  {
   "cell_type": "code",
   "execution_count": 1,
   "id": "3f4d3105",
   "metadata": {
    "ExecuteTime": {
     "end_time": "2024-11-01T08:27:14.720575Z",
     "start_time": "2024-11-01T08:27:12.319279Z"
    }
   },
   "outputs": [
    {
     "name": "stdout",
     "output_type": "stream",
     "text": [
      "Enter the 2 numbers with space in between2 3\n",
      "<class 'int'>\n",
      "<class 'int'>\n"
     ]
    }
   ],
   "source": [
    "num1, num2 = map(int,input(\"Enter the 2 numbers with space in between \").split(\" \"))\n",
    "print(num1,type(num1))\n",
    "print(num2, type(num2))"
   ]
  },
  {
   "cell_type": "markdown",
   "id": "82920214",
   "metadata": {},
   "source": [
    "##### squaring using MAP :"
   ]
  },
  {
   "cell_type": "code",
   "execution_count": 45,
   "id": "c628ab96",
   "metadata": {
    "ExecuteTime": {
     "end_time": "2023-02-16T18:49:29.425262Z",
     "start_time": "2023-02-16T18:49:29.412734Z"
    }
   },
   "outputs": [
    {
     "data": {
      "text/plain": [
       "<map at 0x29e4bd81700>"
      ]
     },
     "execution_count": 45,
     "metadata": {},
     "output_type": "execute_result"
    }
   ],
   "source": [
    "map(lambda x : x**2, [1,2,3,4,5,6])"
   ]
  },
  {
   "cell_type": "code",
   "execution_count": 46,
   "id": "2d7d0d9d",
   "metadata": {
    "ExecuteTime": {
     "end_time": "2023-02-16T18:49:37.572009Z",
     "start_time": "2023-02-16T18:49:37.561494Z"
    }
   },
   "outputs": [
    {
     "data": {
      "text/plain": [
       "[1, 4, 9, 16, 25, 36]"
      ]
     },
     "execution_count": 46,
     "metadata": {},
     "output_type": "execute_result"
    }
   ],
   "source": [
    "list(map(lambda x : x**2, [1,2,3,4,5,6]))"
   ]
  },
  {
   "cell_type": "markdown",
   "id": "e0dcc835",
   "metadata": {},
   "source": [
    "##### ODD EVEN using MAP"
   ]
  },
  {
   "cell_type": "code",
   "execution_count": 48,
   "id": "34d6e67d",
   "metadata": {
    "ExecuteTime": {
     "end_time": "2023-02-16T18:51:07.337023Z",
     "start_time": "2023-02-16T18:51:07.316036Z"
    }
   },
   "outputs": [
    {
     "data": {
      "text/plain": [
       "['odd', 'even', 'odd', 'even', 'odd', 'even']"
      ]
     },
     "execution_count": 48,
     "metadata": {},
     "output_type": "execute_result"
    }
   ],
   "source": [
    "list(map(lambda x : 'even' if x%2==0 else 'odd' , [1,2,3,4,5,6]))"
   ]
  },
  {
   "cell_type": "markdown",
   "id": "2350262a",
   "metadata": {},
   "source": [
    "##### <span class=\"girk\">Fetch only names from dictionary of users</span>"
   ]
  },
  {
   "cell_type": "code",
   "execution_count": 21,
   "id": "55defb9f",
   "metadata": {
    "ExecuteTime": {
     "end_time": "2023-02-23T09:59:56.206589Z",
     "start_time": "2023-02-23T09:59:56.194831Z"
    }
   },
   "outputs": [],
   "source": [
    "users = [\n",
    "    {\n",
    "        'name':'Rahul',\n",
    "        'age':45,\n",
    "        'gender':'male'\n",
    "    },\n",
    "    {\n",
    "        'name':'Nitish',\n",
    "        'age':33,\n",
    "        'gender':'male'\n",
    "    },\n",
    "    {\n",
    "        'name':'Ankita',\n",
    "        'age':50,\n",
    "        'gender':'female'\n",
    "    }\n",
    "]"
   ]
  },
  {
   "cell_type": "code",
   "execution_count": 3,
   "id": "116eaf19",
   "metadata": {
    "ExecuteTime": {
     "end_time": "2023-02-18T09:47:45.622033Z",
     "start_time": "2023-02-18T09:47:45.606957Z"
    }
   },
   "outputs": [
    {
     "name": "stdout",
     "output_type": "stream",
     "text": [
      "[{'name': 'Rahul', 'age': 45, 'gender': 'male'}, {'name': 'Nitish', 'age': 33, 'gender': 'male'}, {'name': 'Ankita', 'age': 50, 'gender': 'female'}]\n"
     ]
    }
   ],
   "source": [
    "print(users)"
   ]
  },
  {
   "cell_type": "code",
   "execution_count": 56,
   "id": "4f9e494c",
   "metadata": {
    "ExecuteTime": {
     "end_time": "2023-02-16T18:54:29.510980Z",
     "start_time": "2023-02-16T18:54:29.500978Z"
    }
   },
   "outputs": [
    {
     "data": {
      "text/plain": [
       "['Rahul', 'Nitish', 'Ankita']"
      ]
     },
     "execution_count": 56,
     "metadata": {},
     "output_type": "execute_result"
    }
   ],
   "source": [
    "list(map(lambda users: users['name'], users))"
   ]
  },
  {
   "cell_type": "markdown",
   "id": "40ae68e8",
   "metadata": {},
   "source": [
    "- lambda se pehle 1 user ka naam extract hoga and using the map same thing will happend for all elements inside users"
   ]
  },
  {
   "cell_type": "code",
   "execution_count": 57,
   "id": "a7135f84",
   "metadata": {
    "ExecuteTime": {
     "end_time": "2023-02-16T18:56:01.458875Z",
     "start_time": "2023-02-16T18:56:01.439442Z"
    }
   },
   "outputs": [
    {
     "data": {
      "text/plain": [
       "[45, 33, 50]"
      ]
     },
     "execution_count": 57,
     "metadata": {},
     "output_type": "execute_result"
    }
   ],
   "source": [
    "list(map(lambda users: users['age'], users))"
   ]
  },
  {
   "cell_type": "code",
   "execution_count": 58,
   "id": "a0391296",
   "metadata": {
    "ExecuteTime": {
     "end_time": "2023-02-16T18:56:10.249517Z",
     "start_time": "2023-02-16T18:56:10.227988Z"
    }
   },
   "outputs": [
    {
     "data": {
      "text/plain": [
       "['male', 'male', 'female']"
      ]
     },
     "execution_count": 58,
     "metadata": {},
     "output_type": "execute_result"
    }
   ],
   "source": [
    "list(map(lambda users: users['gender'], users))"
   ]
  },
  {
   "cell_type": "markdown",
   "id": "7e4439e6",
   "metadata": {},
   "source": [
    "#### Transform all elements of a list to upper case using lambda and map()"
   ]
  },
  {
   "cell_type": "code",
   "execution_count": 4,
   "id": "cc831162",
   "metadata": {
    "ExecuteTime": {
     "end_time": "2024-08-08T15:41:49.288941Z",
     "start_time": "2024-08-08T15:41:49.279939Z"
    }
   },
   "outputs": [
    {
     "name": "stdout",
     "output_type": "stream",
     "text": [
      "['DOG', 'CAT', 'PARROT', 'RABBIT']\n"
     ]
    }
   ],
   "source": [
    "\n",
    "animals = ['dog', 'cat', 'parrot', 'rabbit']\n",
    " \n",
    "\n",
    "uppered_animals = list(map(lambda x: x.upper(), animals))\n",
    " \n",
    "print(uppered_animals)"
   ]
  },
  {
   "cell_type": "markdown",
   "id": "3cef869f",
   "metadata": {},
   "source": [
    "## Filter"
   ]
  },
  {
   "cell_type": "code",
   "execution_count": 59,
   "id": "75c78a94",
   "metadata": {
    "ExecuteTime": {
     "end_time": "2023-02-16T18:57:20.739085Z",
     "start_time": "2023-02-16T18:57:20.730077Z"
    }
   },
   "outputs": [
    {
     "data": {
      "text/plain": [
       "[6, 7, 8, 9]"
      ]
     },
     "execution_count": 59,
     "metadata": {},
     "output_type": "execute_result"
    }
   ],
   "source": [
    "list(filter(lambda x : x >5, [3,4,5,6,7,8,9]))"
   ]
  },
  {
   "cell_type": "code",
   "execution_count": 60,
   "id": "5da66d5d",
   "metadata": {
    "ExecuteTime": {
     "end_time": "2023-02-16T18:58:11.325370Z",
     "start_time": "2023-02-16T18:58:11.310247Z"
    }
   },
   "outputs": [
    {
     "data": {
      "text/plain": [
       "[]"
      ]
     },
     "execution_count": 60,
     "metadata": {},
     "output_type": "execute_result"
    }
   ],
   "source": [
    "list(filter(lambda x : 'a' in x, 'Mohit'))"
   ]
  },
  {
   "cell_type": "code",
   "execution_count": 62,
   "id": "b8e9661f",
   "metadata": {
    "ExecuteTime": {
     "end_time": "2023-02-16T18:58:45.955804Z",
     "start_time": "2023-02-16T18:58:45.945785Z"
    }
   },
   "outputs": [
    {
     "data": {
      "text/plain": [
       "['a', 'a', 'a', 'a', 'a']"
      ]
     },
     "execution_count": 62,
     "metadata": {},
     "output_type": "execute_result"
    }
   ],
   "source": [
    "list(filter(lambda x : 'a' in x, 'hahahAHahaha'))"
   ]
  },
  {
   "cell_type": "code",
   "execution_count": 63,
   "id": "6fd15ad5",
   "metadata": {
    "ExecuteTime": {
     "end_time": "2023-02-16T18:59:50.034830Z",
     "start_time": "2023-02-16T18:59:50.028363Z"
    }
   },
   "outputs": [
    {
     "data": {
      "text/plain": [
       "['mango']"
      ]
     },
     "execution_count": 63,
     "metadata": {},
     "output_type": "execute_result"
    }
   ],
   "source": [
    "list(filter(lambda x : 'o' in x, ['apple','mango','guava']))"
   ]
  },
  {
   "cell_type": "markdown",
   "id": "721c69e3",
   "metadata": {},
   "source": [
    "#### Given a list of strings, find all palindromes."
   ]
  },
  {
   "cell_type": "code",
   "execution_count": 28,
   "id": "e617863e",
   "metadata": {
    "ExecuteTime": {
     "end_time": "2023-02-23T10:04:18.478140Z",
     "start_time": "2023-02-23T10:04:18.467540Z"
    }
   },
   "outputs": [
    {
     "data": {
      "text/plain": [
       "['geeg', 'keek', 'aa']"
      ]
     },
     "execution_count": 28,
     "metadata": {},
     "output_type": "execute_result"
    }
   ],
   "source": [
    "my_list = [\"geeks\", \"geeg\", \"keek\", \"practice\", \"aa\"]\n",
    "  \n",
    "list(filter(lambda x : (x == ''.join(reversed(x))),my_list))"
   ]
  },
  {
   "cell_type": "markdown",
   "id": "5b65c6e1",
   "metadata": {},
   "source": [
    "## REDUCE"
   ]
  },
  {
   "cell_type": "markdown",
   "id": "fdcfe9da",
   "metadata": {},
   "source": [
    "__REDUCE__ is a function from the functools module that applies a given function to an iterable (e.g., list, tuple, etc.) and __returns a single value__ by successively applying the function to pairs of elements in the iterable."
   ]
  },
  {
   "cell_type": "code",
   "execution_count": 41,
   "id": "f15f6f5b",
   "metadata": {
    "ExecuteTime": {
     "end_time": "2023-02-20T15:40:03.020292Z",
     "start_time": "2023-02-20T15:40:03.003963Z"
    }
   },
   "outputs": [],
   "source": [
    "from functools import reduce"
   ]
  },
  {
   "cell_type": "code",
   "execution_count": 5,
   "id": "9fa56aa1",
   "metadata": {
    "ExecuteTime": {
     "end_time": "2023-02-17T15:52:07.360530Z",
     "start_time": "2023-02-17T15:52:07.345561Z"
    }
   },
   "outputs": [
    {
     "data": {
      "text/plain": [
       "36"
      ]
     },
     "execution_count": 5,
     "metadata": {},
     "output_type": "execute_result"
    }
   ],
   "source": [
    "reduce(lambda x,y:x+y, [1,2,3,4,5,6,7,8])"
   ]
  },
  {
   "cell_type": "code",
   "execution_count": 7,
   "id": "bffc0295",
   "metadata": {
    "ExecuteTime": {
     "end_time": "2023-02-17T15:52:18.252401Z",
     "start_time": "2023-02-17T15:52:18.242865Z"
    }
   },
   "outputs": [
    {
     "data": {
      "text/plain": [
       "7"
      ]
     },
     "execution_count": 7,
     "metadata": {},
     "output_type": "execute_result"
    }
   ],
   "source": [
    "reduce(lambda x,y:int((x+y)/2), [1,2,3,4,5,6,7,8])"
   ]
  },
  {
   "cell_type": "markdown",
   "id": "9873d2e0",
   "metadata": {},
   "source": [
    "##### Finding min of a list"
   ]
  },
  {
   "cell_type": "code",
   "execution_count": 70,
   "id": "32428ffd",
   "metadata": {
    "ExecuteTime": {
     "end_time": "2023-02-16T19:06:52.739665Z",
     "start_time": "2023-02-16T19:06:52.725667Z"
    }
   },
   "outputs": [
    {
     "data": {
      "text/plain": [
       "1"
      ]
     },
     "execution_count": 70,
     "metadata": {},
     "output_type": "execute_result"
    }
   ],
   "source": [
    "reduce(lambda x,y: x if x < y else y, [12,12,1,5,18,23,4,67])"
   ]
  },
  {
   "cell_type": "code",
   "execution_count": 42,
   "id": "1d308ccf",
   "metadata": {
    "ExecuteTime": {
     "end_time": "2023-02-20T15:40:05.409940Z",
     "start_time": "2023-02-20T15:40:05.398395Z"
    }
   },
   "outputs": [
    {
     "name": "stdout",
     "output_type": "stream",
     "text": [
      "67\n"
     ]
    }
   ],
   "source": [
    "m = reduce(lambda x,y: x if x > y else y, [12,12,1,5,18,23,4,67])\n",
    "print(m)"
   ]
  },
  {
   "cell_type": "code",
   "execution_count": 43,
   "id": "d4091493",
   "metadata": {
    "ExecuteTime": {
     "end_time": "2023-02-20T15:40:31.146831Z",
     "start_time": "2023-02-20T15:40:31.133480Z"
    }
   },
   "outputs": [],
   "source": [
    "m1 = [12,12,1,5,18,23,4,67]"
   ]
  },
  {
   "cell_type": "code",
   "execution_count": 44,
   "id": "9475d401",
   "metadata": {
    "ExecuteTime": {
     "end_time": "2023-02-20T15:40:40.774050Z",
     "start_time": "2023-02-20T15:40:40.760314Z"
    }
   },
   "outputs": [
    {
     "name": "stdout",
     "output_type": "stream",
     "text": [
      "67\n"
     ]
    }
   ],
   "source": [
    "m = reduce(lambda x,y: x if x > y else y, m1)\n",
    "print(m)"
   ]
  },
  {
   "cell_type": "markdown",
   "id": "b883e8be",
   "metadata": {},
   "source": [
    "#### Find the maximum element in a list using lambda and reduce() function"
   ]
  },
  {
   "cell_type": "code",
   "execution_count": 20,
   "id": "0604e69d",
   "metadata": {
    "ExecuteTime": {
     "end_time": "2023-02-21T13:52:35.558825Z",
     "start_time": "2023-02-21T13:52:35.548108Z"
    }
   },
   "outputs": [
    {
     "name": "stdout",
     "output_type": "stream",
     "text": [
      "The maximum element of the list is : 6\n"
     ]
    }
   ],
   "source": [
    "import functools\n",
    "\n",
    "lis = [1, 3, 5, 6, 2 ]\n",
    "\n",
    "print(\"The maximum element of the list is : \", end=\"\")\n",
    "print(functools.reduce(lambda a, b: a if a > b else b, lis))"
   ]
  },
  {
   "cell_type": "markdown",
   "id": "35eb7667",
   "metadata": {},
   "source": [
    "#### <span class=\"girk\">String concatenation using reduce</span>"
   ]
  },
  {
   "cell_type": "code",
   "execution_count": 26,
   "id": "c98fe687",
   "metadata": {
    "ExecuteTime": {
     "end_time": "2023-02-21T13:53:36.442415Z",
     "start_time": "2023-02-21T13:53:36.429892Z"
    }
   },
   "outputs": [],
   "source": [
    "names = ['mohit','kumar','rohan','gupta']"
   ]
  },
  {
   "cell_type": "code",
   "execution_count": 27,
   "id": "4ab6cb23",
   "metadata": {
    "ExecuteTime": {
     "end_time": "2023-02-21T13:53:36.781940Z",
     "start_time": "2023-02-21T13:53:36.771332Z"
    }
   },
   "outputs": [
    {
     "data": {
      "text/plain": [
       "'mohit kumar rohan gupta'"
      ]
     },
     "execution_count": 27,
     "metadata": {},
     "output_type": "execute_result"
    }
   ],
   "source": [
    "result =functools.reduce(lambda x, y: x +' ' + y, names)\n",
    "result"
   ]
  },
  {
   "cell_type": "markdown",
   "id": "30a35661",
   "metadata": {},
   "source": [
    "---"
   ]
  },
  {
   "cell_type": "markdown",
   "id": "cf538b58",
   "metadata": {
    "heading_collapsed": true
   },
   "source": [
    "# SESSION 12 - NameSpace"
   ]
  },
  {
   "cell_type": "markdown",
   "id": "77cfb117",
   "metadata": {
    "hidden": true
   },
   "source": [
    "https://www.youtube.com/watch?v=aMARZGTbULc"
   ]
  },
  {
   "cell_type": "markdown",
   "id": "2e2303a3",
   "metadata": {
    "hidden": true
   },
   "source": [
    "## NameSpace"
   ]
  },
  {
   "cell_type": "markdown",
   "id": "5319658c",
   "metadata": {
    "hidden": true
   },
   "source": [
    "A namespace is a space that holds names(identifiers).Programmatically speaking, namespaces are dictionary of identifiers(keys) and their objects(values)\n",
    "\n",
    "- a=2, b=3\n",
    "\n",
    "__{a:2,b:3}__"
   ]
  },
  {
   "cell_type": "markdown",
   "id": "dc810cea",
   "metadata": {
    "hidden": true
   },
   "source": [
    "### There are 4 types of namespaces:\n",
    "\n",
    "- __Builtin Namespace__\n",
    "\n",
    "\n",
    "- __Global Namespace__\n",
    "\n",
    "\n",
    "- __Enclosing Namespace__\n",
    "\n",
    "\n",
    "- __Local Namespace__"
   ]
  },
  {
   "cell_type": "markdown",
   "id": "25e31739",
   "metadata": {
    "hidden": true
   },
   "source": [
    "## Scope and LEGB Rule"
   ]
  },
  {
   "cell_type": "markdown",
   "id": "eee13c6d",
   "metadata": {
    "hidden": true
   },
   "source": [
    "A scope is a textual region of a Python program where a namespace is directly accessible.\n",
    "\n",
    "The interpreter searches for a name from the inside out, looking in the local, enclosing, global, and finally the built-in scope. If the interpreter doesn’t find the name in any of these locations, then Python raises a NameError exception."
   ]
  },
  {
   "cell_type": "markdown",
   "id": "78409860",
   "metadata": {
    "hidden": true
   },
   "source": [
    "The LEGB rule in Python defines the order in which the interpreter searches for a variable's value. \n",
    "\n",
    "\n",
    "LEGB stands for **Local, Enclosing, Global, and Built-in**, which represent the four scopes Python uses to resolve variable names."
   ]
  },
  {
   "cell_type": "markdown",
   "id": "b83e7b26",
   "metadata": {
    "hidden": true
   },
   "source": [
    "### Scopes in LEGB Rule:"
   ]
  },
  {
   "cell_type": "markdown",
   "id": "1501f2aa",
   "metadata": {
    "hidden": true
   },
   "source": [
    "1. **Local (L):**\n",
    "   - The local scope refers to the innermost function or method where a variable is defined. If a variable is assigned within a function, it is considered local to that function.\n",
    "   - Example:\n",
    "     ```python\n",
    "     def my_function():\n",
    "         x = 10  # Local scope\n",
    "         print(x)\n",
    "     ```\n",
    "\n",
    "2. **Enclosing (E):**\n",
    "   - The enclosing scope refers to any function or method that encloses the current function. This applies to nested functions. Python will look for the variable in the nearest enclosing scope if it’s not found in the local scope.\n",
    "   - Example:\n",
    "     ```python\n",
    "     def outer_function():\n",
    "         x = 20  # Enclosing scope\n",
    "         def inner_function():\n",
    "             print(x)  # Looks in enclosing scope if not found locally\n",
    "         inner_function()\n",
    "     ```\n",
    "\n",
    "3. **Global (G):**\n",
    "   - The global scope refers to the module-level scope. Variables defined at the top level of a script or module are considered global. If Python doesn’t find the variable in the local or enclosing scopes, it will look in the global scope.\n",
    "   - Example:\n",
    "     ```python\n",
    "     x = 30  # Global scope\n",
    "\n",
    "     def my_function():\n",
    "         print(x)  # Looks in global scope if not found in local or enclosing\n",
    "     ```\n",
    "\n",
    "4. **Built-in (B):**\n",
    "   - The built-in scope is the outermost scope that contains all the built-in names in Python. This includes functions like `print()`, `len()`, `int()`, etc. If the variable isn't found in any of the previous scopes, Python will check the built-in scope.\n",
    "   - Example:\n",
    "     ```python\n",
    "     def my_function():\n",
    "         print(len)  # Built-in scope (len is a built-in function)\n",
    "     ```"
   ]
  },
  {
   "cell_type": "markdown",
   "id": "a1deda86",
   "metadata": {
    "hidden": true
   },
   "source": [
    "### Example to Illustrate LEGB Rule:\n",
    "```python\n",
    "x = \"global\"\n",
    "\n",
    "def outer():\n",
    "    x = \"enclosing\"\n",
    "    \n",
    "    def inner():\n",
    "        x = \"local\"\n",
    "        print(x)  # Looks in local scope first\n",
    "    \n",
    "    inner()\n",
    "    print(x)  # Looks in enclosing scope after inner() modifies it\n",
    "\n",
    "outer()\n",
    "print(x)  # Looks in global scope\n",
    "```\n",
    "**Output:**\n",
    "```\n",
    "local\n",
    "enclosing\n",
    "global\n",
    "```"
   ]
  },
  {
   "cell_type": "markdown",
   "id": "1d63a240",
   "metadata": {
    "hidden": true
   },
   "source": [
    "### Summary:\n",
    "- **Local** scope: Inside the current function.\n",
    "\n",
    "\n",
    "- **Enclosing** scope: Inside the function(s) that enclose the current function.\n",
    "\n",
    "\n",
    "- **Global** scope: At the module level.\n",
    "\n",
    "\n",
    "\n",
    "- **Built-in** scope: Python's built-in functions and variables."
   ]
  },
  {
   "cell_type": "markdown",
   "id": "ad59ceb7",
   "metadata": {
    "hidden": true
   },
   "source": [
    "## local and global"
   ]
  },
  {
   "cell_type": "code",
   "execution_count": 3,
   "id": "d816eabb",
   "metadata": {
    "ExecuteTime": {
     "end_time": "2023-02-25T19:22:06.622908Z",
     "start_time": "2023-02-25T19:22:06.603553Z"
    },
    "hidden": true
   },
   "outputs": [
    {
     "name": "stdout",
     "output_type": "stream",
     "text": [
      "b =  3\n",
      "a =  2\n"
     ]
    }
   ],
   "source": [
    "a = 2 # global variable\n",
    "\n",
    "def temp():\n",
    "    b = 3 # local variable\n",
    "    print('b = ', b)\n",
    "\n",
    "    \n",
    "temp()\n",
    "print('a = ', a)"
   ]
  },
  {
   "cell_type": "code",
   "execution_count": 4,
   "id": "c912609b",
   "metadata": {
    "ExecuteTime": {
     "end_time": "2023-02-25T19:22:06.882201Z",
     "start_time": "2023-02-25T19:22:06.858142Z"
    },
    "hidden": true
   },
   "outputs": [
    {
     "name": "stdout",
     "output_type": "stream",
     "text": [
      "local a =  3\n",
      "a =  2\n"
     ]
    }
   ],
   "source": [
    "# 2 variables of same name but different scope\n",
    "\n",
    "a = 2 # global variable\n",
    "\n",
    "def temp():\n",
    "    a = 3 # local variable\n",
    "    print('local a = ', a)\n",
    "\n",
    "    \n",
    "temp()\n",
    "print('a = ', a)"
   ]
  },
  {
   "cell_type": "code",
   "execution_count": 5,
   "id": "6c6ae395",
   "metadata": {
    "ExecuteTime": {
     "end_time": "2023-02-25T19:22:07.158394Z",
     "start_time": "2023-02-25T19:22:07.133858Z"
    },
    "hidden": true
   },
   "outputs": [
    {
     "name": "stdout",
     "output_type": "stream",
     "text": [
      "local a =  2\n",
      "a =  2\n"
     ]
    }
   ],
   "source": [
    "a = 2 # global variable\n",
    "\n",
    "def temp():\n",
    "    print('local a = ', a)\n",
    "\n",
    "    \n",
    "temp()\n",
    "print('a = ', a)"
   ]
  },
  {
   "cell_type": "code",
   "execution_count": 16,
   "id": "0b985156",
   "metadata": {
    "ExecuteTime": {
     "end_time": "2024-08-09T09:52:32.661008Z",
     "start_time": "2024-08-09T09:52:32.628745Z"
    },
    "hidden": true
   },
   "outputs": [
    {
     "ename": "UnboundLocalError",
     "evalue": "local variable 'a' referenced before assignment",
     "output_type": "error",
     "traceback": [
      "\u001b[1;31m---------------------------------------------------------------------------\u001b[0m",
      "\u001b[1;31mUnboundLocalError\u001b[0m                         Traceback (most recent call last)",
      "Cell \u001b[1;32mIn[16], line 8\u001b[0m\n\u001b[0;32m      4\u001b[0m     a \u001b[38;5;241m+\u001b[39m\u001b[38;5;241m=\u001b[39m \u001b[38;5;241m1\u001b[39m\n\u001b[0;32m      5\u001b[0m     \u001b[38;5;28mprint\u001b[39m(\u001b[38;5;124m'\u001b[39m\u001b[38;5;124mlocal a = \u001b[39m\u001b[38;5;124m'\u001b[39m, a)\n\u001b[1;32m----> 8\u001b[0m \u001b[43mtemp\u001b[49m\u001b[43m(\u001b[49m\u001b[43m)\u001b[49m\n\u001b[0;32m      9\u001b[0m \u001b[38;5;28mprint\u001b[39m(\u001b[38;5;124m'\u001b[39m\u001b[38;5;124ma = \u001b[39m\u001b[38;5;124m'\u001b[39m, a)\n\u001b[0;32m     11\u001b[0m \u001b[38;5;66;03m# will throw error\u001b[39;00m\n",
      "Cell \u001b[1;32mIn[16], line 4\u001b[0m, in \u001b[0;36mtemp\u001b[1;34m()\u001b[0m\n\u001b[0;32m      3\u001b[0m \u001b[38;5;28;01mdef\u001b[39;00m \u001b[38;5;21mtemp\u001b[39m():\n\u001b[1;32m----> 4\u001b[0m     a \u001b[38;5;241m+\u001b[39m\u001b[38;5;241m=\u001b[39m \u001b[38;5;241m1\u001b[39m\n\u001b[0;32m      5\u001b[0m     \u001b[38;5;28mprint\u001b[39m(\u001b[38;5;124m'\u001b[39m\u001b[38;5;124mlocal a = \u001b[39m\u001b[38;5;124m'\u001b[39m, a)\n",
      "\u001b[1;31mUnboundLocalError\u001b[0m: local variable 'a' referenced before assignment"
     ]
    }
   ],
   "source": [
    "a = 2 # global variable\n",
    "\n",
    "def temp():\n",
    "    a += 1\n",
    "    print('local a = ', a)\n",
    "\n",
    "    \n",
    "temp()\n",
    "print('a = ', a)\n",
    "\n",
    "# will throw error"
   ]
  },
  {
   "cell_type": "markdown",
   "id": "2a8a9084",
   "metadata": {
    "hidden": true
   },
   "source": [
    "### NOTE : we can use global variables locally, but cannot make changes to it locally but using global we can do it"
   ]
  },
  {
   "cell_type": "code",
   "execution_count": 7,
   "id": "2def46b6",
   "metadata": {
    "ExecuteTime": {
     "end_time": "2023-02-25T19:22:09.328956Z",
     "start_time": "2023-02-25T19:22:09.316525Z"
    },
    "hidden": true
   },
   "outputs": [
    {
     "name": "stdout",
     "output_type": "stream",
     "text": [
      "local a =  3\n",
      "a =  3\n"
     ]
    }
   ],
   "source": [
    "a = 2 # global variable\n",
    "\n",
    "def temp():\n",
    "    global a\n",
    "    a += 1\n",
    "    print('local a = ', a)\n",
    "\n",
    "    \n",
    "temp()\n",
    "print('a = ', a)"
   ]
  },
  {
   "cell_type": "markdown",
   "id": "c563cf1d",
   "metadata": {
    "hidden": true
   },
   "source": [
    "#### creating global variable from local : "
   ]
  },
  {
   "cell_type": "code",
   "execution_count": 8,
   "id": "e2e6ba1e",
   "metadata": {
    "ExecuteTime": {
     "end_time": "2023-02-25T19:22:10.222849Z",
     "start_time": "2023-02-25T19:22:10.206546Z"
    },
    "hidden": true
   },
   "outputs": [
    {
     "name": "stdout",
     "output_type": "stream",
     "text": [
      "1\n",
      "1\n"
     ]
    }
   ],
   "source": [
    "# creating global x from local\n",
    "\n",
    "def temp(): \n",
    "    # local var'\n",
    "    global a\n",
    "    a = 1\n",
    "    print(a)\n",
    "\n",
    "\n",
    "temp()\n",
    "print(a)"
   ]
  },
  {
   "cell_type": "markdown",
   "id": "912a1420",
   "metadata": {
    "hidden": true
   },
   "source": [
    "##### function ka parameter is always local :\n"
   ]
  },
  {
   "cell_type": "code",
   "execution_count": 17,
   "id": "5313b7d2",
   "metadata": {
    "ExecuteTime": {
     "end_time": "2024-08-09T10:28:07.621891Z",
     "start_time": "2024-08-09T10:28:07.607059Z"
    },
    "hidden": true
   },
   "outputs": [
    {
     "name": "stdout",
     "output_type": "stream",
     "text": [
      "7\n",
      "5\n"
     ]
    }
   ],
   "source": [
    "# local and global -> function parameter is local\n",
    "def temp(z):\n",
    "  # local var\n",
    "  print(z)\n",
    "\n",
    "a = 5\n",
    "temp(7)\n",
    "print(a)"
   ]
  },
  {
   "cell_type": "code",
   "execution_count": 10,
   "id": "61d62e78",
   "metadata": {
    "ExecuteTime": {
     "end_time": "2023-02-25T19:22:13.700277Z",
     "start_time": "2023-02-25T19:22:13.659831Z"
    },
    "hidden": true
   },
   "outputs": [
    {
     "name": "stdout",
     "output_type": "stream",
     "text": [
      "5\n",
      "5\n"
     ]
    },
    {
     "ename": "NameError",
     "evalue": "name 'z' is not defined",
     "output_type": "error",
     "traceback": [
      "\u001b[1;31m---------------------------------------------------------------------------\u001b[0m",
      "\u001b[1;31mNameError\u001b[0m                                 Traceback (most recent call last)",
      "Cell \u001b[1;32mIn[10], line 9\u001b[0m\n\u001b[0;32m      7\u001b[0m temp(\u001b[38;5;241m5\u001b[39m)\n\u001b[0;32m      8\u001b[0m \u001b[38;5;28mprint\u001b[39m(a)\n\u001b[1;32m----> 9\u001b[0m \u001b[38;5;28mprint\u001b[39m(\u001b[43mz\u001b[49m)\n\u001b[0;32m     11\u001b[0m \u001b[38;5;66;03m# will throw error as z is not-defined\u001b[39;00m\n",
      "\u001b[1;31mNameError\u001b[0m: name 'z' is not defined"
     ]
    }
   ],
   "source": [
    "# local and global -> function parameter is local\n",
    "def temp(z):\n",
    "  # local var\n",
    "  print(z)\n",
    "\n",
    "a = 5\n",
    "temp(5)\n",
    "print(a)\n",
    "print(z)\n",
    "\n",
    "# will throw error as z is not-defined"
   ]
  },
  {
   "cell_type": "markdown",
   "id": "316dd110",
   "metadata": {
    "hidden": true
   },
   "source": [
    "## Built-in Scope"
   ]
  },
  {
   "cell_type": "code",
   "execution_count": 11,
   "id": "4e222c30",
   "metadata": {
    "ExecuteTime": {
     "end_time": "2023-02-25T19:22:14.329520Z",
     "start_time": "2023-02-25T19:22:14.305181Z"
    },
    "hidden": true
   },
   "outputs": [
    {
     "name": "stdout",
     "output_type": "stream",
     "text": [
      "hello\n"
     ]
    }
   ],
   "source": [
    "print('hello')"
   ]
  },
  {
   "cell_type": "code",
   "execution_count": 12,
   "id": "15385ee0",
   "metadata": {
    "ExecuteTime": {
     "end_time": "2023-02-25T19:22:14.691860Z",
     "start_time": "2023-02-25T19:22:14.659900Z"
    },
    "hidden": true
   },
   "outputs": [
    {
     "data": {
      "text/plain": [
       "str"
      ]
     },
     "execution_count": 12,
     "metadata": {},
     "output_type": "execute_result"
    }
   ],
   "source": [
    "type('hellow')"
   ]
  },
  {
   "cell_type": "code",
   "execution_count": 13,
   "id": "3552562b",
   "metadata": {
    "ExecuteTime": {
     "end_time": "2023-02-25T19:22:14.974725Z",
     "start_time": "2023-02-25T19:22:14.958706Z"
    },
    "hidden": true
   },
   "outputs": [
    {
     "data": {
      "text/plain": [
       "5"
      ]
     },
     "execution_count": 13,
     "metadata": {},
     "output_type": "execute_result"
    }
   ],
   "source": [
    "len('hello')"
   ]
  },
  {
   "cell_type": "code",
   "execution_count": 14,
   "id": "2f299044",
   "metadata": {
    "ExecuteTime": {
     "end_time": "2023-02-25T19:22:15.310701Z",
     "start_time": "2023-02-25T19:22:15.302682Z"
    },
    "hidden": true
   },
   "outputs": [
    {
     "name": "stdout",
     "output_type": "stream",
     "text": [
      "['ArithmeticError', 'AssertionError', 'AttributeError', 'BaseException', 'BlockingIOError', 'BrokenPipeError', 'BufferError', 'BytesWarning', 'ChildProcessError', 'ConnectionAbortedError', 'ConnectionError', 'ConnectionRefusedError', 'ConnectionResetError', 'DeprecationWarning', 'EOFError', 'Ellipsis', 'EnvironmentError', 'Exception', 'False', 'FileExistsError', 'FileNotFoundError', 'FloatingPointError', 'FutureWarning', 'GeneratorExit', 'IOError', 'ImportError', 'ImportWarning', 'IndentationError', 'IndexError', 'InterruptedError', 'IsADirectoryError', 'KeyError', 'KeyboardInterrupt', 'LookupError', 'MemoryError', 'ModuleNotFoundError', 'NameError', 'None', 'NotADirectoryError', 'NotImplemented', 'NotImplementedError', 'OSError', 'OverflowError', 'PendingDeprecationWarning', 'PermissionError', 'ProcessLookupError', 'RecursionError', 'ReferenceError', 'ResourceWarning', 'RuntimeError', 'RuntimeWarning', 'StopAsyncIteration', 'StopIteration', 'SyntaxError', 'SyntaxWarning', 'SystemError', 'SystemExit', 'TabError', 'TimeoutError', 'True', 'TypeError', 'UnboundLocalError', 'UnicodeDecodeError', 'UnicodeEncodeError', 'UnicodeError', 'UnicodeTranslateError', 'UnicodeWarning', 'UserWarning', 'ValueError', 'Warning', 'WindowsError', 'ZeroDivisionError', '__IPYTHON__', '__build_class__', '__debug__', '__doc__', '__import__', '__loader__', '__name__', '__package__', '__spec__', 'abs', 'all', 'any', 'ascii', 'bin', 'bool', 'breakpoint', 'bytearray', 'bytes', 'callable', 'chr', 'classmethod', 'compile', 'complex', 'copyright', 'credits', 'delattr', 'dict', 'dir', 'display', 'divmod', 'enumerate', 'eval', 'exec', 'execfile', 'filter', 'float', 'format', 'frozenset', 'get_ipython', 'getattr', 'globals', 'hasattr', 'hash', 'help', 'hex', 'id', 'input', 'int', 'isinstance', 'issubclass', 'iter', 'len', 'license', 'list', 'locals', 'map', 'max', 'memoryview', 'min', 'next', 'object', 'oct', 'open', 'ord', 'pow', 'print', 'property', 'range', 'repr', 'reversed', 'round', 'runfile', 'set', 'setattr', 'slice', 'sorted', 'staticmethod', 'str', 'sum', 'super', 'tuple', 'type', 'vars', 'zip']\n"
     ]
    }
   ],
   "source": [
    "import builtins\n",
    "print(dir(builtins))"
   ]
  },
  {
   "cell_type": "markdown",
   "id": "d42b6436",
   "metadata": {
    "hidden": true
   },
   "source": [
    "#### global will be given preference over already present built-in function: "
   ]
  },
  {
   "cell_type": "code",
   "execution_count": 15,
   "id": "bbc1a356",
   "metadata": {
    "ExecuteTime": {
     "end_time": "2023-02-25T19:22:16.025147Z",
     "start_time": "2023-02-25T19:22:15.991475Z"
    },
    "hidden": true
   },
   "outputs": [
    {
     "name": "stdout",
     "output_type": "stream",
     "text": [
      "3\n"
     ]
    },
    {
     "ename": "TypeError",
     "evalue": "max() takes 0 positional arguments but 1 was given",
     "output_type": "error",
     "traceback": [
      "\u001b[1;31m---------------------------------------------------------------------------\u001b[0m",
      "\u001b[1;31mTypeError\u001b[0m                                 Traceback (most recent call last)",
      "Cell \u001b[1;32mIn[15], line 8\u001b[0m\n\u001b[0;32m      5\u001b[0m \u001b[38;5;28;01mdef\u001b[39;00m \u001b[38;5;21mmax\u001b[39m():\n\u001b[0;32m      6\u001b[0m     \u001b[38;5;28mprint\u001b[39m(\u001b[38;5;124m'\u001b[39m\u001b[38;5;124mhello\u001b[39m\u001b[38;5;124m'\u001b[39m)\n\u001b[1;32m----> 8\u001b[0m \u001b[38;5;28;43mmax\u001b[39;49m\u001b[43m(\u001b[49m\u001b[43mL\u001b[49m\u001b[43m)\u001b[49m\n\u001b[0;32m     10\u001b[0m \u001b[38;5;66;03m# will throw error due to function overriding\u001b[39;00m\n",
      "\u001b[1;31mTypeError\u001b[0m: max() takes 0 positional arguments but 1 was given"
     ]
    }
   ],
   "source": [
    "# renaming built-ins\n",
    "L = [1,2,3]\n",
    "print(max(L))\n",
    "\n",
    "def max():\n",
    "    print('hello')\n",
    "\n",
    "max(L)\n",
    "\n",
    "# will throw error due to function overriding"
   ]
  },
  {
   "cell_type": "markdown",
   "id": "1710befa",
   "metadata": {
    "hidden": true
   },
   "source": [
    "## Enclosing : present inside nested functions, outer scope"
   ]
  },
  {
   "cell_type": "code",
   "execution_count": 16,
   "id": "b33663a3",
   "metadata": {
    "ExecuteTime": {
     "end_time": "2023-02-25T19:22:16.737544Z",
     "start_time": "2023-02-25T19:22:16.721003Z"
    },
    "hidden": true
   },
   "outputs": [
    {
     "name": "stdout",
     "output_type": "stream",
     "text": [
      "inner function\n",
      "outer function\n",
      "main program\n"
     ]
    }
   ],
   "source": [
    "def outer(): # enclosing\n",
    "    def inner(): # inner\n",
    "        print('inner function')\n",
    "    inner()\n",
    "    print('outer function')\n",
    "    \n",
    "outer() # global\n",
    "print('main program')"
   ]
  },
  {
   "cell_type": "code",
   "execution_count": 17,
   "id": "82affe9e",
   "metadata": {
    "ExecuteTime": {
     "end_time": "2023-02-25T19:22:17.086607Z",
     "start_time": "2023-02-25T19:22:17.070604Z"
    },
    "hidden": true
   },
   "outputs": [
    {
     "name": "stdout",
     "output_type": "stream",
     "text": [
      "4\n",
      "main program\n"
     ]
    }
   ],
   "source": [
    "# local mein milega\n",
    "def outer():\n",
    "    a = 3\n",
    "    def inner():\n",
    "        a = 4\n",
    "        print(a)\n",
    "    inner()\n",
    "\n",
    "a = 1\n",
    "outer()\n",
    "print('main program')"
   ]
  },
  {
   "cell_type": "code",
   "execution_count": 18,
   "id": "339877fd",
   "metadata": {
    "ExecuteTime": {
     "end_time": "2023-02-25T19:22:17.432909Z",
     "start_time": "2023-02-25T19:22:17.412023Z"
    },
    "hidden": true
   },
   "outputs": [
    {
     "name": "stdout",
     "output_type": "stream",
     "text": [
      "3\n",
      "main program\n"
     ]
    }
   ],
   "source": [
    "# enclosing mein milega\n",
    "def outer():\n",
    "    a = 3\n",
    "    def inner():\n",
    "        print(a)\n",
    "    inner()\n",
    "\n",
    "a =1\n",
    "outer()\n",
    "print('main program')"
   ]
  },
  {
   "cell_type": "code",
   "execution_count": 19,
   "id": "0653face",
   "metadata": {
    "ExecuteTime": {
     "end_time": "2023-02-25T19:22:18.512507Z",
     "start_time": "2023-02-25T19:22:18.488399Z"
    },
    "hidden": true
   },
   "outputs": [
    {
     "name": "stdout",
     "output_type": "stream",
     "text": [
      "1\n",
      "main program\n"
     ]
    }
   ],
   "source": [
    "# global mein milega\n",
    "def outer():\n",
    "    def inner():\n",
    "        print(a)\n",
    "    inner()\n",
    "\n",
    "a = 1\n",
    "outer()\n",
    "print('main program')"
   ]
  },
  {
   "cell_type": "code",
   "execution_count": 20,
   "id": "e5135b40",
   "metadata": {
    "ExecuteTime": {
     "end_time": "2023-02-25T19:22:18.928601Z",
     "start_time": "2023-02-25T19:22:18.877789Z"
    },
    "hidden": true
   },
   "outputs": [
    {
     "ename": "NameError",
     "evalue": "name 'v' is not defined",
     "output_type": "error",
     "traceback": [
      "\u001b[1;31m---------------------------------------------------------------------------\u001b[0m",
      "\u001b[1;31mNameError\u001b[0m                                 Traceback (most recent call last)",
      "Cell \u001b[1;32mIn[20], line 7\u001b[0m\n\u001b[0;32m      4\u001b[0m         \u001b[38;5;28mprint\u001b[39m(v)\n\u001b[0;32m      5\u001b[0m     inner()\n\u001b[1;32m----> 7\u001b[0m \u001b[43mouter\u001b[49m\u001b[43m(\u001b[49m\u001b[43m)\u001b[49m\n\u001b[0;32m      8\u001b[0m \u001b[38;5;28mprint\u001b[39m(\u001b[38;5;124m'\u001b[39m\u001b[38;5;124mmain program\u001b[39m\u001b[38;5;124m'\u001b[39m)\n\u001b[0;32m     10\u001b[0m \u001b[38;5;66;03m# will throw error as v is not defined\u001b[39;00m\n",
      "Cell \u001b[1;32mIn[20], line 5\u001b[0m, in \u001b[0;36mouter\u001b[1;34m()\u001b[0m\n\u001b[0;32m      3\u001b[0m \u001b[38;5;28;01mdef\u001b[39;00m \u001b[38;5;21minner\u001b[39m():\n\u001b[0;32m      4\u001b[0m     \u001b[38;5;28mprint\u001b[39m(v)\n\u001b[1;32m----> 5\u001b[0m \u001b[43minner\u001b[49m\u001b[43m(\u001b[49m\u001b[43m)\u001b[49m\n",
      "Cell \u001b[1;32mIn[20], line 4\u001b[0m, in \u001b[0;36mouter.<locals>.inner\u001b[1;34m()\u001b[0m\n\u001b[0;32m      3\u001b[0m \u001b[38;5;28;01mdef\u001b[39;00m \u001b[38;5;21minner\u001b[39m():\n\u001b[1;32m----> 4\u001b[0m     \u001b[38;5;28mprint\u001b[39m(\u001b[43mv\u001b[49m)\n",
      "\u001b[1;31mNameError\u001b[0m: name 'v' is not defined"
     ]
    }
   ],
   "source": [
    "# built-in se lega\n",
    "def outer():\n",
    "    def inner():\n",
    "        print(v)\n",
    "    inner()\n",
    "\n",
    "outer()\n",
    "print('main program')\n",
    "\n",
    "# will throw error as v is not defined"
   ]
  },
  {
   "cell_type": "markdown",
   "id": "42dc8074",
   "metadata": {
    "hidden": true
   },
   "source": [
    "### NOTE : there can be n-number of enclosings"
   ]
  },
  {
   "cell_type": "markdown",
   "id": "598e4a05",
   "metadata": {
    "hidden": true
   },
   "source": [
    "### Changing enclosing value from local using \"non-local\" keyword"
   ]
  },
  {
   "cell_type": "code",
   "execution_count": 23,
   "id": "fbca60e8",
   "metadata": {
    "ExecuteTime": {
     "end_time": "2023-02-25T19:25:47.563867Z",
     "start_time": "2023-02-25T19:25:47.538806Z"
    },
    "hidden": true
   },
   "outputs": [
    {
     "name": "stdout",
     "output_type": "stream",
     "text": [
      "inner 2\n",
      "enclosing 2\n",
      "outer 1\n",
      "main program\n"
     ]
    }
   ],
   "source": [
    "def outer():\n",
    "    a = 1 # enclosing\n",
    "    def inner():\n",
    "        nonlocal a\n",
    "        a += 1\n",
    "        print('inner',a)\n",
    "    inner()\n",
    "    print('enclosing',a)\n",
    "\n",
    "\n",
    "outer()\n",
    "print('outer', a)\n",
    "print('main program')"
   ]
  },
  {
   "cell_type": "markdown",
   "id": "73046b92",
   "metadata": {
    "hidden": true
   },
   "source": [
    "___\n",
    "___\n"
   ]
  },
  {
   "cell_type": "markdown",
   "id": "c121fa99",
   "metadata": {
    "heading_collapsed": true
   },
   "source": [
    "# SESSION 12 - Decorators"
   ]
  },
  {
   "cell_type": "markdown",
   "id": "db4b1100",
   "metadata": {
    "hidden": true
   },
   "source": [
    "Socratica : https://www.youtube.com/watch?v=WpF6azYAxYg"
   ]
  },
  {
   "cell_type": "markdown",
   "id": "86b4493d",
   "metadata": {
    "hidden": true
   },
   "source": [
    "- Decorators in Python are a powerful and flexible tool for modifying the behavior of functions or methods. A decorator is essentially a function that wraps another function to extend or alter its behavior without permanently modifying it.\n",
    "\n",
    "\n",
    "\n",
    "- A decorator is a function that receives another function as input and adds some functionality(decoration) to it and returns it.\n",
    "\n",
    "\n",
    "- This can happen only because python functions are 1st class citizens.\n"
   ]
  },
  {
   "cell_type": "markdown",
   "id": "bc590edd",
   "metadata": {
    "hidden": true
   },
   "source": [
    "##### giving one function as input to another function : "
   ]
  },
  {
   "cell_type": "code",
   "execution_count": 24,
   "id": "20b99249",
   "metadata": {
    "ExecuteTime": {
     "end_time": "2023-02-25T19:58:53.437631Z",
     "start_time": "2023-02-25T19:58:53.426042Z"
    },
    "hidden": true
   },
   "outputs": [
    {
     "data": {
      "text/plain": [
       "4"
      ]
     },
     "execution_count": 24,
     "metadata": {},
     "output_type": "execute_result"
    }
   ],
   "source": [
    "# Python are 1st class function\n",
    "\n",
    "def modify(func,num): # decorator\n",
    "    return func(num)\n",
    "\n",
    "def square(num): # function / wrapper\n",
    "    return num**2\n",
    "\n",
    "modify(square,2)"
   ]
  },
  {
   "cell_type": "markdown",
   "id": "61f93629",
   "metadata": {
    "hidden": true
   },
   "source": [
    "### How Decorators Work"
   ]
  },
  {
   "cell_type": "markdown",
   "id": "5b7343a3",
   "metadata": {
    "hidden": true
   },
   "source": [
    "A decorator takes a function as input, adds some functionality to it, and returns a new function. The most common use case for decorators is to add common functionality to multiple functions or methods, such as logging, access control, or memoization, without repeating code.\n",
    "\n",
    "Here's a simple example:\n",
    "\n",
    "```python\n",
    "def my_decorator(func):\n",
    "    def wrapper():\n",
    "        print(\"Something is happening before the function is called.\")\n",
    "        func()\n",
    "        print(\"Something is happening after the function is called.\")\n",
    "    return wrapper\n",
    "\n",
    "@my_decorator\n",
    "def say_hello():\n",
    "    print(\"Hello!\")\n",
    "\n",
    "say_hello()\n",
    "```\n",
    "\n",
    "In this example:\n",
    "\n",
    "- `my_decorator` is a decorator function.\n",
    "\n",
    "\n",
    "- `wrapper` is the new function that adds some behavior before and after the `say_hello` function.\n",
    "\n",
    "\n",
    "- The `@my_decorator` syntax is used to apply the decorator to the `say_hello` function."
   ]
  },
  {
   "cell_type": "markdown",
   "id": "628696f2",
   "metadata": {
    "hidden": true
   },
   "source": [
    "### When to Use Decorators"
   ]
  },
  {
   "cell_type": "markdown",
   "id": "83a006e8",
   "metadata": {
    "hidden": true
   },
   "source": [
    "Decorators are useful in several scenarios:\n",
    "\n",
    "1. **Code Reusability**: When you have common functionality that you want to apply to multiple functions (e.g., logging, timing, access control).\n",
    "\n",
    "\n",
    "2. **Separation of Concerns**: Decorators help keep the core logic of your functions clean and focused on their primary task by offloading secondary concerns (like logging or validation) to decorators.\n",
    "\n",
    "\n",
    "3. **DRY Principle**: They help you adhere to the \"Don't Repeat Yourself\" principle by avoiding the need to duplicate code across multiple functions."
   ]
  },
  {
   "cell_type": "markdown",
   "id": "a9f09225",
   "metadata": {
    "hidden": true
   },
   "source": [
    "### Common Use Cases"
   ]
  },
  {
   "cell_type": "markdown",
   "id": "c4f04d00",
   "metadata": {
    "hidden": true
   },
   "source": [
    "- **Logging**: Automatically log entry, exit, and errors for functions.\n",
    "\n",
    "\n",
    "- **Access Control**: Check user permissions before allowing a function to execute.\n",
    "\n",
    "\n",
    "- **Memoization**: Cache the results of expensive function calls to improve performance.\n",
    "\n",
    "\n",
    "- **Validation**: Ensure that function arguments meet certain criteria before proceeding."
   ]
  },
  {
   "cell_type": "markdown",
   "id": "77e71fa9",
   "metadata": {
    "hidden": true
   },
   "source": [
    "### Example of a Logging Decorator"
   ]
  },
  {
   "cell_type": "markdown",
   "id": "0b8aeabb",
   "metadata": {
    "hidden": true
   },
   "source": [
    "```python\n",
    "import functools\n",
    "\n",
    "def log_function_call(func):\n",
    "    @functools.wraps(func)\n",
    "    def wrapper(*args, **kwargs):\n",
    "        print(f\"Calling function {func.__name__} with args {args} and kwargs {kwargs}\")\n",
    "        result = func(*args, **kwargs)\n",
    "        print(f\"{func.__name__} returned {result}\")\n",
    "        return result\n",
    "    return wrapper\n",
    "\n",
    "@log_function_call\n",
    "def add(a, b):\n",
    "    return a + b\n",
    "\n",
    "add(3, 5)\n",
    "```"
   ]
  },
  {
   "cell_type": "markdown",
   "id": "c0ab8f24",
   "metadata": {
    "hidden": true
   },
   "source": [
    "### Types of decorators"
   ]
  },
  {
   "cell_type": "markdown",
   "id": "4e1a455f",
   "metadata": {
    "hidden": true
   },
   "source": [
    "There are 2 types of decorators available in python\n",
    "\n",
    "- Built in decorators like `@staticmethod`, `@classmethod`, `@abstractmethod` and `@property` etc\n",
    "\n",
    "\n",
    "- User defined decorators that we programmers can create according to our needs"
   ]
  },
  {
   "cell_type": "code",
   "execution_count": 29,
   "id": "e21e63a4",
   "metadata": {
    "ExecuteTime": {
     "end_time": "2023-02-25T20:01:04.866549Z",
     "start_time": "2023-02-25T20:01:04.851547Z"
    },
    "hidden": true
   },
   "outputs": [
    {
     "name": "stdout",
     "output_type": "stream",
     "text": [
      "********************\n",
      "hello\n",
      "********************\n"
     ]
    }
   ],
   "source": [
    "def my_decorator(func):\n",
    "    def wrapper():\n",
    "        print('*'*20)\n",
    "        func()\n",
    "        print('*'*20)\n",
    "    return wrapper\n",
    "\n",
    "def hello():\n",
    "    print('hello')\n",
    "    \n",
    "a = my_decorator(hello)\n",
    "a()"
   ]
  },
  {
   "cell_type": "markdown",
   "id": "0f9ca232",
   "metadata": {
    "hidden": true
   },
   "source": [
    "### NOTE : Parent function k destroy hone k baad bhi child functions can access variables of parent functions"
   ]
  },
  {
   "cell_type": "code",
   "execution_count": 30,
   "id": "20b82d2d",
   "metadata": {
    "ExecuteTime": {
     "end_time": "2023-02-25T20:01:57.783816Z",
     "start_time": "2023-02-25T20:01:57.770608Z"
    },
    "hidden": true
   },
   "outputs": [
    {
     "name": "stdout",
     "output_type": "stream",
     "text": [
      "********************\n",
      "hello\n",
      "********************\n",
      "********************\n",
      "mohit\n",
      "********************\n"
     ]
    }
   ],
   "source": [
    "def my_decorator(func):\n",
    "    def wrapper():\n",
    "        print('*'*20)\n",
    "        func()\n",
    "        print('*'*20)\n",
    "    return wrapper\n",
    "\n",
    "def hello():\n",
    "    print('hello')\n",
    "    \n",
    "def display():\n",
    "    print('mohit')\n",
    "    \n",
    "a = my_decorator(hello)\n",
    "a()\n",
    "\n",
    "b = my_decorator(display)\n",
    "b()"
   ]
  },
  {
   "cell_type": "markdown",
   "id": "0fa9807f",
   "metadata": {
    "hidden": true
   },
   "source": [
    "https://youtu.be/aMARZGTbULc?t=4675"
   ]
  },
  {
   "cell_type": "markdown",
   "id": "70576665",
   "metadata": {
    "hidden": true
   },
   "source": [
    "### use decorators effectively using @"
   ]
  },
  {
   "cell_type": "code",
   "execution_count": 31,
   "id": "f7c54f10",
   "metadata": {
    "ExecuteTime": {
     "end_time": "2023-02-25T20:11:06.540987Z",
     "start_time": "2023-02-25T20:11:06.524019Z"
    },
    "hidden": true
   },
   "outputs": [
    {
     "name": "stdout",
     "output_type": "stream",
     "text": [
      "********************\n",
      "hello\n",
      "********************\n"
     ]
    }
   ],
   "source": [
    "def my_decorator(func):\n",
    "    def wrapper():\n",
    "        print('*'*20)\n",
    "        func()\n",
    "        print('*'*20)\n",
    "    return wrapper\n",
    "\n",
    "@my_decorator\n",
    "def hello():\n",
    "    print('hello')\n",
    "    \n",
    "hello()\n",
    "# a = my_decorator(hello)\n",
    "# a()"
   ]
  },
  {
   "cell_type": "markdown",
   "id": "c50b836b",
   "metadata": {
    "ExecuteTime": {
     "end_time": "2023-02-25T20:17:09.045711Z",
     "start_time": "2023-02-25T20:17:07.021005Z"
    },
    "hidden": true
   },
   "source": [
    "#### a decorator to print execution time of a function : "
   ]
  },
  {
   "cell_type": "code",
   "execution_count": 1,
   "id": "3f63229a",
   "metadata": {
    "ExecuteTime": {
     "end_time": "2024-08-10T11:51:06.969771Z",
     "start_time": "2024-08-10T11:51:04.917951Z"
    },
    "hidden": true
   },
   "outputs": [
    {
     "name": "stdout",
     "output_type": "stream",
     "text": [
      "hello\n",
      "time taken by hello 2.004164934158325 secs\n"
     ]
    }
   ],
   "source": [
    "import time\n",
    "\n",
    "def timer(func):\n",
    "    def wrapper():\n",
    "        start = time.time()\n",
    "        func()\n",
    "        print('time taken by',func.__name__,time.time()-start,'secs') # func.__name__ gives name of the original function\n",
    "    return wrapper\n",
    "\n",
    "\n",
    "@timer\n",
    "def hello():\n",
    "    print('hello')\n",
    "    time.sleep(2)\n",
    "    \n",
    "hello()"
   ]
  },
  {
   "cell_type": "code",
   "execution_count": 40,
   "id": "e34a1ce9",
   "metadata": {
    "ExecuteTime": {
     "end_time": "2023-02-25T20:18:23.984210Z",
     "start_time": "2023-02-25T20:18:17.939780Z"
    },
    "hidden": true
   },
   "outputs": [
    {
     "name": "stdout",
     "output_type": "stream",
     "text": [
      "hello\n",
      "time taken by hello 2.0154199600219727 secs\n",
      "displaying something\n",
      "time taken by display 4.008784294128418 secs\n"
     ]
    }
   ],
   "source": [
    "# a decorator to print execution time of a function\n",
    "\n",
    "import time\n",
    "\n",
    "def timer(func):\n",
    "    def wrapper():\n",
    "        start = time.time()\n",
    "        func()\n",
    "        print('time taken by',func.__name__,time.time()-start,'secs')\n",
    "    return wrapper\n",
    "\n",
    "\n",
    "@timer\n",
    "def hello():\n",
    "    print('hello')\n",
    "    time.sleep(2)\n",
    "@timer    \n",
    "def display():\n",
    "    print('displaying something')\n",
    "    time.sleep(4)\n",
    "    \n",
    "hello()\n",
    "display()"
   ]
  },
  {
   "cell_type": "markdown",
   "id": "adcc540d",
   "metadata": {
    "hidden": true
   },
   "source": [
    "#### decorator cannot be given a function which requires parameters:"
   ]
  },
  {
   "cell_type": "code",
   "execution_count": 41,
   "id": "932602e9",
   "metadata": {
    "ExecuteTime": {
     "end_time": "2023-02-25T20:20:24.797943Z",
     "start_time": "2023-02-25T20:20:22.758242Z"
    },
    "hidden": true
   },
   "outputs": [
    {
     "name": "stdout",
     "output_type": "stream",
     "text": [
      "hello\n",
      "time taken by hello 2.002570629119873 secs\n"
     ]
    },
    {
     "ename": "TypeError",
     "evalue": "wrapper() takes 0 positional arguments but 1 was given",
     "output_type": "error",
     "traceback": [
      "\u001b[1;31m---------------------------------------------------------------------------\u001b[0m",
      "\u001b[1;31mTypeError\u001b[0m                                 Traceback (most recent call last)",
      "Cell \u001b[1;32mIn[41], line 21\u001b[0m\n\u001b[0;32m     18\u001b[0m     \u001b[38;5;28;01mreturn\u001b[39;00m num\u001b[38;5;241m*\u001b[39m\u001b[38;5;241m*\u001b[39m\u001b[38;5;241m2\u001b[39m\n\u001b[0;32m     20\u001b[0m hello()\n\u001b[1;32m---> 21\u001b[0m \u001b[43msquare\u001b[49m\u001b[43m(\u001b[49m\u001b[38;5;241;43m2\u001b[39;49m\u001b[43m)\u001b[49m\n",
      "\u001b[1;31mTypeError\u001b[0m: wrapper() takes 0 positional arguments but 1 was given"
     ]
    }
   ],
   "source": [
    "import time\n",
    "\n",
    "def timer(func):\n",
    "    def wrapper():\n",
    "        start = time.time()\n",
    "        func()\n",
    "        print('time taken by',func.__name__,time.time()-start,'secs')\n",
    "    return wrapper\n",
    "\n",
    "\n",
    "@timer\n",
    "def hello():\n",
    "    print('hello')\n",
    "    time.sleep(2)\n",
    "@timer    \n",
    "def square(num):\n",
    "    time.sleep(1)\n",
    "    return num**2\n",
    "    \n",
    "hello()\n",
    "square(2)\n",
    "\n",
    "# will throw error as wrapper did not required an input/argument but square function did\n",
    "\n",
    "# this decorator will work only where function doesnot requires any input"
   ]
  },
  {
   "cell_type": "markdown",
   "id": "2795611e",
   "metadata": {
    "hidden": true
   },
   "source": [
    "###  adding \\*args in wrapper and function to solve the above issue:"
   ]
  },
  {
   "cell_type": "code",
   "execution_count": 42,
   "id": "999591a2",
   "metadata": {
    "ExecuteTime": {
     "end_time": "2024-08-10T15:13:44.910989Z",
     "start_time": "2024-08-10T15:13:38.856160Z"
    },
    "hidden": true
   },
   "outputs": [
    {
     "name": "stdout",
     "output_type": "stream",
     "text": [
      "hello\n",
      "time taken by hello 2.0139377117156982 secs\n",
      "4\n",
      "time taken by square 1.010535717010498 secs\n",
      "8\n",
      "time taken by power 3.012273073196411 secs\n"
     ]
    }
   ],
   "source": [
    "import time\n",
    "\n",
    "def timer(func):\n",
    "    def wrapper(*args):\n",
    "        start = time.time()\n",
    "        func(*args)\n",
    "        print('time taken by',func.__name__,time.time()-start,'secs')\n",
    "    return wrapper\n",
    "\n",
    "\n",
    "@timer\n",
    "def hello():\n",
    "    print('hello')\n",
    "    time.sleep(2)\n",
    "@timer    \n",
    "def square(num):\n",
    "    time.sleep(1)\n",
    "    print(num**2) \n",
    "\n",
    "    \n",
    "@timer\n",
    "def power(a,b):\n",
    "    time.sleep(3)\n",
    "    print(a**b)\n",
    "    \n",
    "    \n",
    "hello()\n",
    "square(2)\n",
    "\n",
    "power(2,3)"
   ]
  },
  {
   "cell_type": "code",
   "execution_count": 43,
   "id": "671c6105",
   "metadata": {
    "ExecuteTime": {
     "end_time": "2024-08-10T15:14:16.715376Z",
     "start_time": "2024-08-10T15:14:10.659441Z"
    },
    "hidden": true
   },
   "outputs": [
    {
     "name": "stdout",
     "output_type": "stream",
     "text": [
      "hello\n",
      "time taken by hello 2.0120954513549805 secs\n",
      "4\n",
      "time taken by square 1.010725975036621 secs\n",
      "8\n",
      "time taken by power 3.015014171600342 secs\n"
     ]
    }
   ],
   "source": [
    "import time\n",
    "\n",
    "def timer(func):\n",
    "    def wrapper(*args):\n",
    "        start = time.time()\n",
    "        func(*args)\n",
    "        print('time taken by',func.__name__,time.time()-start,'secs')\n",
    "        # return func(*args)\n",
    "    return wrapper\n",
    "\n",
    "\n",
    "@timer\n",
    "def hello():\n",
    "    print('hello')\n",
    "    time.sleep(2)\n",
    "@timer    \n",
    "def square(num):\n",
    "    time.sleep(1)\n",
    "    print(num**2) \n",
    "\n",
    "    \n",
    "@timer\n",
    "def power(a,b):\n",
    "    time.sleep(3)\n",
    "    print(a**b)\n",
    "    \n",
    "    \n",
    "hello()\n",
    "square(2)\n",
    "\n",
    "power(2,3)"
   ]
  },
  {
   "cell_type": "markdown",
   "id": "9d1446e4",
   "metadata": {
    "hidden": true
   },
   "source": [
    "#### Question on decorators :"
   ]
  },
  {
   "attachments": {
    "image.png": {
     "image/png": "[encoded data removed]"
    }
   },
   "cell_type": "markdown",
   "id": "57470448",
   "metadata": {
    "hidden": true
   },
   "source": [
    "![image.png](attachment:image.png)"
   ]
  },
  {
   "cell_type": "code",
   "execution_count": 46,
   "id": "a55f5e3a",
   "metadata": {
    "ExecuteTime": {
     "end_time": "2024-08-10T15:15:28.811764Z",
     "start_time": "2024-08-10T15:15:28.799156Z"
    },
    "hidden": true
   },
   "outputs": [],
   "source": [
    "def function_name(func):\n",
    "    def wrapper(*args, **kwargs):\n",
    "        func(*args,**kwargs)\n",
    "        args_value = ', '.join(str(arg) for arg in args)\n",
    "        kwargs_value = ', '.join(f\"{key} : {value} \" for key, value in kwargs.items())\n",
    "        print(f'calling function: {func.__name__}, with args = {args_value} and kwargs {kwargs_value}')\n",
    "        #return func(*args, **kwargs)\n",
    "    return wrapper\n",
    "\n",
    "@function_name\n",
    "def greet(name, greeting = \"Hello\"):\n",
    "    print(f\"{greeting}, {name}\")\n",
    "    \n",
    "    \n",
    "@function_name    \n",
    "def hello():\n",
    "    print(\"hello\")"
   ]
  },
  {
   "cell_type": "code",
   "execution_count": 47,
   "id": "35c833a9",
   "metadata": {
    "ExecuteTime": {
     "end_time": "2024-08-10T15:15:29.095570Z",
     "start_time": "2024-08-10T15:15:29.084736Z"
    },
    "hidden": true
   },
   "outputs": [
    {
     "name": "stdout",
     "output_type": "stream",
     "text": [
      "Hi, Mohit\n",
      "calling function: greet, with args = Mohit, Hi and kwargs \n",
      "\n",
      "namaste, Akshay\n",
      "calling function: greet, with args = Akshay and kwargs greeting : namaste \n",
      "\n",
      "hello\n",
      "calling function: hello, with args =  and kwargs \n"
     ]
    }
   ],
   "source": [
    "greet('Mohit','Hi')\n",
    "print()\n",
    "greet('Akshay',greeting='namaste')\n",
    "print()\n",
    "hello()"
   ]
  },
  {
   "cell_type": "markdown",
   "id": "300c4ddd",
   "metadata": {
    "hidden": true
   },
   "source": [
    "#### decorator to check datatype of input and then give output accordingly: "
   ]
  },
  {
   "cell_type": "code",
   "execution_count": 48,
   "id": "bbe57c4f",
   "metadata": {
    "ExecuteTime": {
     "end_time": "2024-08-10T16:04:37.593484Z",
     "start_time": "2024-08-10T16:04:37.588995Z"
    },
    "hidden": true,
    "scrolled": true
   },
   "outputs": [
    {
     "name": "stdout",
     "output_type": "stream",
     "text": [
      "16\n"
     ]
    }
   ],
   "source": [
    "def sanity_check(data_type):               #  will need to pass the datatype while function calling\n",
    "    def outer_wrapper(func):\n",
    "        def inner_wrapper(*args):\n",
    "            if type(args[0]) == data_type: # args is a tuple, so we are using args[0]\n",
    "                func(*args)\n",
    "            else:\n",
    "                raise TypeError('Yeh datatype nahi chalega')\n",
    "        return inner_wrapper\n",
    "    return outer_wrapper\n",
    "\n",
    "\n",
    "@sanity_check(int)  # you need to provide the required datatype here\n",
    "def square(num):\n",
    "    print(num**2)\n",
    "    \n",
    "\n",
    "square(4)"
   ]
  },
  {
   "cell_type": "code",
   "execution_count": 56,
   "id": "1a8b9488",
   "metadata": {
    "ExecuteTime": {
     "end_time": "2024-08-10T16:08:07.129113Z",
     "start_time": "2024-08-10T16:08:07.121738Z"
    },
    "hidden": true
   },
   "outputs": [
    {
     "name": "stdout",
     "output_type": "stream",
     "text": [
      "2\n",
      "3\n"
     ]
    }
   ],
   "source": [
    "def numbers(*args):\n",
    "    for arg in args:\n",
    "        print(arg)\n",
    "        \n",
    "numbers(2,3)"
   ]
  },
  {
   "cell_type": "code",
   "execution_count": 58,
   "id": "ec73d66f",
   "metadata": {
    "ExecuteTime": {
     "end_time": "2024-08-10T16:09:13.958068Z",
     "start_time": "2024-08-10T16:09:13.935345Z"
    },
    "hidden": true
   },
   "outputs": [
    {
     "ename": "TypeError",
     "evalue": "sanity_check() takes 1 positional argument but 2 were given",
     "output_type": "error",
     "traceback": [
      "\u001b[1;31m---------------------------------------------------------------------------\u001b[0m",
      "\u001b[1;31mTypeError\u001b[0m                                 Traceback (most recent call last)",
      "Cell \u001b[1;32mIn[58], line 12\u001b[0m\n\u001b[0;32m      9\u001b[0m         \u001b[38;5;28;01mreturn\u001b[39;00m inner_wrapper\n\u001b[0;32m     10\u001b[0m     \u001b[38;5;28;01mreturn\u001b[39;00m outer_wrapper\n\u001b[1;32m---> 12\u001b[0m \u001b[38;5;129m@sanity_check\u001b[39m\u001b[43m(\u001b[49m\u001b[38;5;28;43mint\u001b[39;49m\u001b[43m,\u001b[49m\u001b[38;5;28;43mint\u001b[39;49m\u001b[43m)\u001b[49m  \u001b[38;5;66;03m# you need to provide the required datatype here\u001b[39;00m\n\u001b[0;32m     13\u001b[0m \u001b[38;5;28;01mdef\u001b[39;00m \u001b[38;5;21msquare\u001b[39m(num):\n\u001b[0;32m     14\u001b[0m     \u001b[38;5;28mprint\u001b[39m(num\u001b[38;5;241m*\u001b[39m\u001b[38;5;241m*\u001b[39m\u001b[38;5;241m2\u001b[39m)\n\u001b[0;32m     17\u001b[0m square(\u001b[38;5;241m4\u001b[39m,\u001b[38;5;241m6\u001b[39m)   \n",
      "\u001b[1;31mTypeError\u001b[0m: sanity_check() takes 1 positional argument but 2 were given"
     ]
    }
   ],
   "source": [
    "def sanity_check(data_type): # will need to pass the datatype while function calling\n",
    "    def outer_wrapper(func):\n",
    "        def inner_wrapper(*args):\n",
    "            for arg in args:\n",
    "                if type(arg) == data_type:\n",
    "                    func(*args)\n",
    "                else:\n",
    "                    raise TypeError('Yeh datatype nahi chalega')\n",
    "        return inner_wrapper\n",
    "    return outer_wrapper\n",
    "\n",
    "@sanity_check(int)  # you need to provide the required datatype here\n",
    "def square(num):\n",
    "    print(num**2)\n",
    "\n",
    "    \n",
    "square(4,6)   \n",
    "# square('4')"
   ]
  },
  {
   "cell_type": "code",
   "execution_count": 57,
   "id": "10ef6443",
   "metadata": {
    "ExecuteTime": {
     "end_time": "2023-02-25T20:39:42.345687Z",
     "start_time": "2023-02-25T20:39:42.329761Z"
    },
    "hidden": true,
    "scrolled": true
   },
   "outputs": [
    {
     "name": "stdout",
     "output_type": "stream",
     "text": [
      "hello mohit\n"
     ]
    }
   ],
   "source": [
    "def sanity_check(data_type):\n",
    "    def outer_wrapper(func):\n",
    "        def inner_wrapper(*args):\n",
    "            if type(*args) == data_type:\n",
    "                func(*args)\n",
    "            else:\n",
    "                raise TypeError('Yeh datatype nahi chalega')\n",
    "        return inner_wrapper\n",
    "    return outer_wrapper\n",
    "    \n",
    "@sanity_check(str)\n",
    "def greet(name):\n",
    "    print('hello',name)\n",
    "\n",
    "greet('mohit')\n"
   ]
  },
  {
   "cell_type": "markdown",
   "id": "22f1361a",
   "metadata": {
    "hidden": true
   },
   "source": [
    "### Example of Logging with decorators:"
   ]
  },
  {
   "cell_type": "markdown",
   "id": "7b0c2934",
   "metadata": {
    "hidden": true
   },
   "source": [
    "\n",
    "```python\n",
    "import functools\n",
    "\n",
    "def log_function_call(func):\n",
    "    @functools.wraps(func)\n",
    "    def wrapper(*args, **kwargs):\n",
    "        print(f\"Calling function {func.__name__} with args {args} and kwargs {kwargs}\")\n",
    "        result = func(*args, **kwargs)\n",
    "        print(f\"{func.__name__} returned {result}\")\n",
    "        return result\n",
    "    return wrapper\n",
    "\n",
    "@log_function_call\n",
    "def add(a, b):\n",
    "    return a + b\n",
    "\n",
    "add(3, 5)\n",
    "```\n",
    "\n",
    "### Step-by-Step Explanation\n",
    "\n",
    "1. **Importing `functools.wraps`:**\n",
    "   ```python\n",
    "   import functools\n",
    "   ```\n",
    "   - The `functools.wraps` decorator is used to preserve the original function's metadata (such as its name, docstring, etc.) when it is wrapped by the `wrapper` function. Without this, the name and docstring of `add` would be replaced by those of `wrapper`.\n",
    "\n",
    "\n",
    "\n",
    "2. **Defining the Decorator:**\n",
    "   ```python\n",
    "   def log_function_call(func):\n",
    "   ```\n",
    "   - `log_function_call` is a decorator function. It takes a function (`func`) as an argument, which will be the function that gets decorated.\n",
    "\n",
    "\n",
    "\n",
    "3. **Defining the Wrapper Function:**\n",
    "   ```python\n",
    "   @functools.wraps(func)\n",
    "   def wrapper(*args, **kwargs):\n",
    "   ```\n",
    "   - `wrapper` is an inner function that will replace the original function (`add` in this case). It uses `*args` and `**kwargs` to accept any number of positional and keyword arguments that the original function might take.\n",
    "\n",
    "\n",
    "\n",
    "4. **Logging the Function Call:**\n",
    "   ```python\n",
    "   print(f\"Calling function {func.__name__} with args {args} and kwargs {kwargs}\")\n",
    "   ```\n",
    "   - This line logs the name of the function being called (`func.__name__`) and the arguments passed to it (`args` and `kwargs`).\n",
    "\n",
    "\n",
    "\n",
    "5. **Calling the Original Function:**\n",
    "   ```python\n",
    "   result = func(*args, **kwargs)\n",
    "   ```\n",
    "   - The original function (`func`) is called with the provided arguments (`*args` and `**kwargs`). The result of this function call is stored in the `result` variable.\n",
    "\n",
    "\n",
    "\n",
    "6. **Logging the Function Result:**\n",
    "   ```python\n",
    "   print(f\"{func.__name__} returned {result}\")\n",
    "   ```\n",
    "   - After the function executes, this line logs the result that was returned by the original function.\n",
    "\n",
    "\n",
    "\n",
    "7. **Returning the Result:**\n",
    "   ```python\n",
    "   return result\n",
    "   ```\n",
    "   - The `wrapper` function returns the result of the original function so that it behaves just like the undecorated function when called.\n",
    "\n",
    "\n",
    "\n",
    "8. **Returning the Wrapper:**\n",
    "   ```python\n",
    "   return wrapper\n",
    "   ```\n",
    "   - The `log_function_call` decorator returns the `wrapper` function, which now effectively replaces the original function (`add`).\n",
    "\n",
    "### Applying the Decorator\n",
    "\n",
    "```python\n",
    "@log_function_call\n",
    "def add(a, b):\n",
    "    return a + b\n",
    "```\n",
    "- The `@log_function_call` syntax is a shorthand for:\n",
    "  ```python\n",
    "  add = log_function_call(add)\n",
    "  ```\n",
    "  This applies the `log_function_call` decorator to the `add` function, meaning `add` is now replaced by `wrapper`, which logs the function call and result.\n",
    "\n",
    "### Calling the Decorated Function\n",
    "\n",
    "```python\n",
    "add(3, 5)\n",
    "```\n",
    "- When you call `add(3, 5)`, the following happens:\n",
    "  - The `wrapper` function is executed.\n",
    "  - It logs: `Calling function add with args (3, 5) and kwargs {}`.\n",
    "  - It then calls the original `add` function, which returns `8`.\n",
    "  - It logs: `add returned 8`.\n",
    "  - Finally, it returns `8` as the result of the `add` function.\n",
    "\n",
    "### Output\n",
    "\n",
    "When you run `add(3, 5)`, the output will be:\n",
    "\n",
    "```\n",
    "Calling function add with args (3, 5) and kwargs {}\n",
    "add returned 8\n",
    "```\n",
    "\n",
    "And the final result returned by `add(3, 5)` is `8`."
   ]
  },
  {
   "cell_type": "markdown",
   "id": "ccaec8f7",
   "metadata": {
    "hidden": true
   },
   "source": [
    "___\n",
    "___"
   ]
  },
  {
   "cell_type": "markdown",
   "id": "8f48e180",
   "metadata": {
    "heading_collapsed": true
   },
   "source": [
    "# Iterators"
   ]
  },
  {
   "cell_type": "markdown",
   "id": "82afdd4a",
   "metadata": {
    "hidden": true
   },
   "source": [
    "https://youtu.be/pH7YVRhnpUI\n",
    "\n",
    "\n",
    "Socratica : https://youtu.be/WR7mO_jYN9g?list=PLi01XoE8jYohWFPpC17Z-wWhPOSuh8Er-"
   ]
  },
  {
   "cell_type": "markdown",
   "id": "7856d384",
   "metadata": {
    "hidden": true
   },
   "source": [
    "- __Iterables :__ something over which we can run loop. eg : string, list, tuples, generators, dictionary etc. It should have `__iter__` method in it.\n",
    "\n",
    "\n",
    "\n",
    "- __Iterators :__ and object with a state which during iteration, remembers where it is and know how to get the next value with `__next__` method"
   ]
  },
  {
   "cell_type": "markdown",
   "id": "2d02d60a",
   "metadata": {
    "hidden": true
   },
   "source": [
    "\n",
    "### 1. Iterables:\n",
    "- An iterable is any Python object capable of returning its elements one at a time. \n",
    "\n",
    "\n",
    "- Examples of iterables include lists, tuples, strings, dictionaries, sets, and more. \n",
    "\n",
    "\n",
    "- Iterable objects can be used in a `for` loop because they define an `__iter__()` method.\n",
    "\n",
    "Example:"
   ]
  },
  {
   "cell_type": "code",
   "execution_count": 7,
   "id": "27ce6059",
   "metadata": {
    "ExecuteTime": {
     "end_time": "2024-02-06T18:26:01.740257Z",
     "start_time": "2024-02-06T18:26:01.730366Z"
    },
    "hidden": true
   },
   "outputs": [
    {
     "name": "stdout",
     "output_type": "stream",
     "text": [
      "1\n",
      "2\n",
      "3\n",
      "4\n",
      "5\n"
     ]
    }
   ],
   "source": [
    "my_list = [1, 2, 3, 4, 5]\n",
    "for element in my_list:\n",
    "    print(element)"
   ]
  },
  {
   "cell_type": "code",
   "execution_count": 9,
   "id": "6e36f2bd",
   "metadata": {
    "ExecuteTime": {
     "end_time": "2024-02-06T18:26:37.773891Z",
     "start_time": "2024-02-06T18:26:37.754994Z"
    },
    "hidden": true
   },
   "outputs": [
    {
     "name": "stdout",
     "output_type": "stream",
     "text": [
      "<list_iterator object at 0x000001CC5C776130>\n"
     ]
    }
   ],
   "source": [
    "i_nums = iter(my_list)\n",
    "print(i_nums)"
   ]
  },
  {
   "cell_type": "code",
   "execution_count": 10,
   "id": "9dde92ef",
   "metadata": {
    "ExecuteTime": {
     "end_time": "2024-02-06T18:27:20.513711Z",
     "start_time": "2024-02-06T18:27:20.504697Z"
    },
    "hidden": true
   },
   "outputs": [
    {
     "name": "stdout",
     "output_type": "stream",
     "text": [
      "['__add__', '__class__', '__class_getitem__', '__contains__', '__delattr__', '__delitem__', '__dir__', '__doc__', '__eq__', '__format__', '__ge__', '__getattribute__', '__getitem__', '__gt__', '__hash__', '__iadd__', '__imul__', '__init__', '__init_subclass__', '__iter__', '__le__', '__len__', '__lt__', '__mul__', '__ne__', '__new__', '__reduce__', '__reduce_ex__', '__repr__', '__reversed__', '__rmul__', '__setattr__', '__setitem__', '__sizeof__', '__str__', '__subclasshook__', 'append', 'clear', 'copy', 'count', 'extend', 'index', 'insert', 'pop', 'remove', 'reverse', 'sort']\n"
     ]
    }
   ],
   "source": [
    "print(dir(my_list))"
   ]
  },
  {
   "cell_type": "markdown",
   "id": "a1e811c3",
   "metadata": {
    "hidden": true
   },
   "source": [
    "### 2. Iteration:\n",
    "- Iteration is the process of repeatedly executing a set of statements for each element in a sequence. \n",
    "\n",
    "\n",
    "- It is commonly performed using a `for` loop, where the loop iterates over the elements of an iterable.\n",
    "\n",
    "Example:"
   ]
  },
  {
   "cell_type": "code",
   "execution_count": 3,
   "id": "352ad00b",
   "metadata": {
    "ExecuteTime": {
     "end_time": "2024-02-05T20:52:02.693112Z",
     "start_time": "2024-02-05T20:52:02.677018Z"
    },
    "hidden": true
   },
   "outputs": [
    {
     "name": "stdout",
     "output_type": "stream",
     "text": [
      "H\n",
      "e\n",
      "l\n",
      "l\n",
      "o\n"
     ]
    }
   ],
   "source": [
    "my_string = \"Hello\"\n",
    "for char in my_string:\n",
    "    print(char)\n"
   ]
  },
  {
   "cell_type": "markdown",
   "id": "c1860e70",
   "metadata": {
    "hidden": true
   },
   "source": [
    "### 3. Iterators:\n",
    "- An iterator is an object that represents a stream of data and provides two methods: `__iter__()` and `__next__()`.<br></br>\n",
    "    - The `__iter__()` method returns the iterator object itself, and<br></br> \n",
    "    - the `__next__()` method returns the next element in the sequence.<br></br>\n",
    "\n",
    "\n",
    "\n",
    "- When there are no more elements, it raises the `StopIteration` exception.\n",
    "\n",
    "Example:"
   ]
  },
  {
   "cell_type": "code",
   "execution_count": 4,
   "id": "992b80d5",
   "metadata": {
    "ExecuteTime": {
     "end_time": "2024-02-05T20:52:16.588082Z",
     "start_time": "2024-02-05T20:52:16.578693Z"
    },
    "hidden": true
   },
   "outputs": [
    {
     "name": "stdout",
     "output_type": "stream",
     "text": [
      "1\n",
      "2\n"
     ]
    }
   ],
   "source": [
    "my_iterator = iter([1, 2, 3, 4, 5])\n",
    "print(next(my_iterator))  # 1\n",
    "print(next(my_iterator))  # 2\n"
   ]
  },
  {
   "cell_type": "markdown",
   "id": "1186728c",
   "metadata": {
    "hidden": true
   },
   "source": [
    "### NOTE : When we run iter again on an iterator it return itself"
   ]
  },
  {
   "cell_type": "code",
   "execution_count": 16,
   "id": "827326f0",
   "metadata": {
    "ExecuteTime": {
     "end_time": "2024-02-06T19:58:37.996169Z",
     "start_time": "2024-02-06T19:58:37.990265Z"
    },
    "hidden": true
   },
   "outputs": [
    {
     "name": "stdout",
     "output_type": "stream",
     "text": [
      "<list_iterator object at 0x000001CC5C9AA790>\n",
      "<list_iterator object at 0x000001CC5C9AA790>\n"
     ]
    }
   ],
   "source": [
    "my_iterator = iter([1, 2, 3, 4, 5])\n",
    "\n",
    "print(my_iterator)\n",
    "print(iter(my_iterator))"
   ]
  },
  {
   "cell_type": "markdown",
   "id": "88dd0f6b",
   "metadata": {
    "hidden": true
   },
   "source": [
    "### Differences:\n",
    "\n",
    "\n",
    "\n",
    "1. **Iteration:**\n",
    "   - Process: The act of traversing through the elements of an iterable.\n",
    "   - Example: Using a `for` loop to go through the elements of a list.\n",
    "   \n",
    "   \n",
    "2. **Iterables:**\n",
    "   - Examples: Lists, tuples, strings, dictionaries, sets, etc.\n",
    "   - Characteristics: Can be iterated over using a `for` loop, and they have an `__iter__()` method.\n",
    "\n",
    "\n",
    "\n",
    "\n",
    "3. **Iterators:**\n",
    "   - Examples: The iterator returned by `iter()` function, generators, file objects, etc.\n",
    "   - Characteristics: Implements both `__iter__()` and `__next__()` methods. Keeps track of the current state during iteration."
   ]
  },
  {
   "cell_type": "markdown",
   "id": "348bc1ad",
   "metadata": {
    "hidden": true
   },
   "source": [
    "### Identifying them:\n",
    "\n",
    "1. **Iterable Check:**\n",
    "   - You can check if an object is iterable by using the `iter()` function. If it raises a `TypeError`, the object is not iterable.\n",
    "\n",
    "    ```python\n",
    "    try:\n",
    "        iter(my_object)\n",
    "        print(\"Iterable\")\n",
    "    except TypeError:\n",
    "        print(\"Not iterable\")\n",
    "    ```\n",
    "\n",
    "2. **Iterator Check:**\n",
    "   - You can check if an object is an iterator by using the `iter()` function and the `next()` function. If it doesn't raise a `TypeError` when calling `next()`, the object is an iterator.\n",
    "\n",
    "    ```python\n",
    "    try:\n",
    "        my_iterator = iter(my_object)\n",
    "        next(my_iterator)\n",
    "        print(\"Iterator\")\n",
    "    except TypeError:\n",
    "        print(\"Not an iterator\")\n",
    "    ```"
   ]
  },
  {
   "cell_type": "markdown",
   "id": "d01adfcf",
   "metadata": {
    "hidden": true
   },
   "source": [
    "In summary:\n",
    "\n",
    "- iterables are objects that can be iterated over, \n",
    "\n",
    "\n",
    "- iteration is the process of traversing through elements, and \n",
    "\n",
    "\n",
    "- iterators are objects representing a stream of data with methods to get the next element. \n",
    "\n",
    "\n",
    "- You can use the `iter()` function to obtain an iterator from an iterable, and you can check if an object is iterable or an iterator by using the mentioned techniques."
   ]
  },
  {
   "attachments": {
    "image.png": {
     "image/png": "[encoded data removed]"
    }
   },
   "cell_type": "markdown",
   "id": "ad9f0585",
   "metadata": {
    "hidden": true
   },
   "source": [
    "![image.png](attachment:image.png)"
   ]
  },
  {
   "cell_type": "markdown",
   "id": "7abf9982",
   "metadata": {
    "hidden": true
   },
   "source": [
    "__Process of traversing one by one over an object__"
   ]
  },
  {
   "cell_type": "code",
   "execution_count": 60,
   "id": "4110c074",
   "metadata": {
    "ExecuteTime": {
     "end_time": "2023-02-25T21:00:11.108665Z",
     "start_time": "2023-02-25T21:00:11.083689Z"
    },
    "hidden": true
   },
   "outputs": [
    {
     "name": "stdout",
     "output_type": "stream",
     "text": [
      "1\n",
      "4\n",
      "9\n"
     ]
    }
   ],
   "source": [
    "num = [1,2,3]\n",
    "\n",
    "for i in num:\n",
    "    print(i**2)"
   ]
  },
  {
   "attachments": {
    "image.png": {
     "image/png": "[encoded data removed]"
    }
   },
   "cell_type": "markdown",
   "id": "e8b14144",
   "metadata": {
    "hidden": true
   },
   "source": [
    "![image.png](attachment:image.png)"
   ]
  },
  {
   "cell_type": "code",
   "execution_count": 63,
   "id": "194ba237",
   "metadata": {
    "ExecuteTime": {
     "end_time": "2023-02-25T21:08:41.969162Z",
     "start_time": "2023-02-25T21:08:41.944417Z"
    },
    "hidden": true
   },
   "outputs": [
    {
     "name": "stdout",
     "output_type": "stream",
     "text": [
      "[1, 2, 3]\n",
      "<class 'list'>\n",
      "<class 'list_iterator'>\n"
     ]
    }
   ],
   "source": [
    "L = [1,2,3]\n",
    "print(L)\n",
    "print(type(L))\n",
    "\n",
    "\n",
    "# L is an iterable\n",
    "print(type(iter(L)))\n",
    "\n",
    "# iter of L --> iterator"
   ]
  },
  {
   "cell_type": "markdown",
   "id": "6515346b",
   "metadata": {
    "hidden": true
   },
   "source": [
    "### NOTE: List is iterable but not an iterator as it loads entire thing all at once in memory"
   ]
  },
  {
   "attachments": {
    "image.png": {
     "image/png": "[encoded data removed]"
    }
   },
   "cell_type": "markdown",
   "id": "faf79644",
   "metadata": {
    "hidden": true
   },
   "source": [
    "![image.png](attachment:image.png)"
   ]
  },
  {
   "cell_type": "markdown",
   "id": "a7ddbed1",
   "metadata": {
    "hidden": true
   },
   "source": [
    "### __How iterators take less space than a list :__ (memory difference)\n",
    "0"
   ]
  },
  {
   "cell_type": "markdown",
   "id": "e48deea8",
   "metadata": {
    "hidden": true
   },
   "source": [
    "#### using List :"
   ]
  },
  {
   "cell_type": "code",
   "execution_count": 31,
   "id": "a7e983ad",
   "metadata": {
    "ExecuteTime": {
     "end_time": "2024-08-09T22:31:13.352141Z",
     "start_time": "2024-08-09T22:31:13.333112Z"
    },
    "hidden": true
   },
   "outputs": [
    {
     "name": "stdout",
     "output_type": "stream",
     "text": [
      "782.2109375 mb\n"
     ]
    }
   ],
   "source": [
    "L = [x for x in range(1,100000)]\n",
    "\n",
    "# for i in L:\n",
    "#     print(i*2)\n",
    "    \n",
    "import sys\n",
    "\n",
    "print(sys.getsizeof(L)/1024,'mb')"
   ]
  },
  {
   "cell_type": "markdown",
   "id": "202ecf34",
   "metadata": {
    "hidden": true
   },
   "source": [
    "#### using iterators:"
   ]
  },
  {
   "cell_type": "code",
   "execution_count": 29,
   "id": "cde19b31",
   "metadata": {
    "ExecuteTime": {
     "end_time": "2024-08-09T22:30:54.920366Z",
     "start_time": "2024-08-09T22:30:54.906821Z"
    },
    "hidden": true
   },
   "outputs": [
    {
     "name": "stdout",
     "output_type": "stream",
     "text": [
      "0.046875 mb\n"
     ]
    }
   ],
   "source": [
    "x = range(1,100000)\n",
    "\n",
    "# for i in x:\n",
    "#     print(i*2)\n",
    "    \n",
    "print(sys.getsizeof(x)/1024,'mb')"
   ]
  },
  {
   "attachments": {
    "image.png": {
     "image/png": "[encoded data removed]"
    }
   },
   "cell_type": "markdown",
   "id": "634773ff",
   "metadata": {
    "hidden": true
   },
   "source": [
    "![image.png](attachment:image.png)"
   ]
  },
  {
   "cell_type": "markdown",
   "id": "2080acf9",
   "metadata": {
    "hidden": true
   },
   "source": [
    "### Jiske upar loop chala sakte hain woh iterable hai"
   ]
  },
  {
   "cell_type": "code",
   "execution_count": 12,
   "id": "f6060585",
   "metadata": {
    "ExecuteTime": {
     "end_time": "2024-02-06T19:56:19.379777Z",
     "start_time": "2024-02-06T19:56:19.355164Z"
    },
    "hidden": true
   },
   "outputs": [
    {
     "name": "stdout",
     "output_type": "stream",
     "text": [
      "2\n"
     ]
    },
    {
     "ename": "TypeError",
     "evalue": "'int' object is not iterable",
     "output_type": "error",
     "traceback": [
      "\u001b[1;31m---------------------------------------------------------------------------\u001b[0m",
      "\u001b[1;31mTypeError\u001b[0m                                 Traceback (most recent call last)",
      "Cell \u001b[1;32mIn[12], line 4\u001b[0m\n\u001b[0;32m      1\u001b[0m a \u001b[38;5;241m=\u001b[39m \u001b[38;5;241m2\u001b[39m\n\u001b[0;32m      2\u001b[0m \u001b[38;5;28mprint\u001b[39m(a)\n\u001b[1;32m----> 4\u001b[0m \u001b[38;5;28;01mfor\u001b[39;00m i \u001b[38;5;129;01min\u001b[39;00m a:\n\u001b[0;32m      5\u001b[0m     \u001b[38;5;28mprint\u001b[39m(i)\n",
      "\u001b[1;31mTypeError\u001b[0m: 'int' object is not iterable"
     ]
    }
   ],
   "source": [
    "a = 2\n",
    "print(a)\n",
    "\n",
    "for i in a:\n",
    "    print(i)"
   ]
  },
  {
   "cell_type": "markdown",
   "id": "9710b753",
   "metadata": {
    "hidden": true
   },
   "source": [
    "#### <span class=\"girk\">namespace of a class is found by dir()</span>"
   ]
  },
  {
   "cell_type": "code",
   "execution_count": 13,
   "id": "58ea04be",
   "metadata": {
    "ExecuteTime": {
     "end_time": "2024-02-06T19:56:20.323954Z",
     "start_time": "2024-02-06T19:56:20.302657Z"
    },
    "hidden": true
   },
   "outputs": [
    {
     "name": "stdout",
     "output_type": "stream",
     "text": [
      "['__abs__', '__add__', '__and__', '__bool__', '__ceil__', '__class__', '__delattr__', '__dir__', '__divmod__', '__doc__', '__eq__', '__float__', '__floor__', '__floordiv__', '__format__', '__ge__', '__getattribute__', '__getnewargs__', '__gt__', '__hash__', '__index__', '__init__', '__init_subclass__', '__int__', '__invert__', '__le__', '__lshift__', '__lt__', '__mod__', '__mul__', '__ne__', '__neg__', '__new__', '__or__', '__pos__', '__pow__', '__radd__', '__rand__', '__rdivmod__', '__reduce__', '__reduce_ex__', '__repr__', '__rfloordiv__', '__rlshift__', '__rmod__', '__rmul__', '__ror__', '__round__', '__rpow__', '__rrshift__', '__rshift__', '__rsub__', '__rtruediv__', '__rxor__', '__setattr__', '__sizeof__', '__str__', '__sub__', '__subclasshook__', '__truediv__', '__trunc__', '__xor__', 'as_integer_ratio', 'bit_length', 'conjugate', 'denominator', 'from_bytes', 'imag', 'numerator', 'real', 'to_bytes']\n"
     ]
    }
   ],
   "source": [
    "print(dir(a))"
   ]
  },
  {
   "cell_type": "markdown",
   "id": "7280e2d6",
   "metadata": {
    "hidden": true
   },
   "source": [
    "### For something to be iterable it should have \\_\\_iter\\__ in the dir()"
   ]
  },
  {
   "cell_type": "code",
   "execution_count": 14,
   "id": "1022ea64",
   "metadata": {
    "ExecuteTime": {
     "end_time": "2024-02-06T19:56:33.778322Z",
     "start_time": "2024-02-06T19:56:33.757817Z"
    },
    "hidden": true
   },
   "outputs": [
    {
     "name": "stdout",
     "output_type": "stream",
     "text": [
      "['__add__', '__class__', '__class_getitem__', '__contains__', '__delattr__', '__dir__', '__doc__', '__eq__', '__format__', '__ge__', '__getattribute__', '__getitem__', '__getnewargs__', '__gt__', '__hash__', '__init__', '__init_subclass__', '__iter__', '__le__', '__len__', '__lt__', '__mul__', '__ne__', '__new__', '__reduce__', '__reduce_ex__', '__repr__', '__rmul__', '__setattr__', '__sizeof__', '__str__', '__subclasshook__', 'count', 'index']\n"
     ]
    }
   ],
   "source": [
    "T = (1,2,3)\n",
    "print(dir(T))\n",
    "\n",
    "# __iter__', is present in it, so it is iterable"
   ]
  },
  {
   "cell_type": "markdown",
   "id": "060c8e81",
   "metadata": {
    "hidden": true
   },
   "source": [
    "### For something to be iterator it have 2 things in dir():\n",
    "- **should have \\_\\_iter\\__** \n",
    "\n",
    "\n",
    "- **should \\_\\_next\\__**\n",
    "\n",
    "\n"
   ]
  },
  {
   "cell_type": "code",
   "execution_count": 56,
   "id": "be60bedc",
   "metadata": {
    "ExecuteTime": {
     "end_time": "2024-02-06T20:29:41.543180Z",
     "start_time": "2024-02-06T20:29:41.534042Z"
    },
    "hidden": true
   },
   "outputs": [
    {
     "name": "stdout",
     "output_type": "stream",
     "text": [
      "['__class__', '__class_getitem__', '__delattr__', '__dir__', '__doc__', '__eq__', '__format__', '__ge__', '__getattribute__', '__gt__', '__hash__', '__init__', '__init_subclass__', '__iter__', '__le__', '__lt__', '__ne__', '__new__', '__next__', '__reduce__', '__reduce_ex__', '__repr__', '__setattr__', '__sizeof__', '__str__', '__subclasshook__']\n"
     ]
    }
   ],
   "source": [
    "m = enumerate(range(1,11))\n",
    "\n",
    "print(dir(m))\n"
   ]
  },
  {
   "cell_type": "markdown",
   "id": "a077d925",
   "metadata": {
    "hidden": true
   },
   "source": [
    "### creating our own for loop using iter () :"
   ]
  },
  {
   "cell_type": "code",
   "execution_count": 32,
   "id": "1ed1a206",
   "metadata": {
    "ExecuteTime": {
     "end_time": "2024-08-09T23:07:42.217704Z",
     "start_time": "2024-08-09T23:07:42.206195Z"
    },
    "hidden": true
   },
   "outputs": [],
   "source": [
    "def mera_khudka_for_loop(iterable):\n",
    "    \n",
    "    iterator = iter(iterable)\n",
    "    \n",
    "    while True:\n",
    "        \n",
    "        try:\n",
    "            print(next(iterator))\n",
    "        except StopIteration:\n",
    "            break  "
   ]
  },
  {
   "cell_type": "code",
   "execution_count": 34,
   "id": "a41837f5",
   "metadata": {
    "ExecuteTime": {
     "end_time": "2024-08-09T23:07:55.880903Z",
     "start_time": "2024-08-09T23:07:55.862905Z"
    },
    "hidden": true
   },
   "outputs": [],
   "source": [
    "a = [1,2,3]\n",
    "b = range(1,11)\n",
    "c = (1,2,3)\n",
    "d = {1,2,3}\n",
    "e = {0:1,1:1}"
   ]
  },
  {
   "cell_type": "code",
   "execution_count": 35,
   "id": "99f92dbd",
   "metadata": {
    "ExecuteTime": {
     "end_time": "2024-08-09T23:07:56.267572Z",
     "start_time": "2024-08-09T23:07:56.252589Z"
    },
    "hidden": true
   },
   "outputs": [
    {
     "name": "stdout",
     "output_type": "stream",
     "text": [
      "1\n",
      "2\n",
      "3\n"
     ]
    }
   ],
   "source": [
    "mera_khudka_for_loop(a)"
   ]
  },
  {
   "cell_type": "code",
   "execution_count": 36,
   "id": "7a6c5229",
   "metadata": {
    "ExecuteTime": {
     "end_time": "2024-08-09T23:08:02.484113Z",
     "start_time": "2024-08-09T23:08:02.474197Z"
    },
    "hidden": true
   },
   "outputs": [
    {
     "name": "stdout",
     "output_type": "stream",
     "text": [
      "1\n",
      "2\n",
      "3\n",
      "4\n",
      "5\n",
      "6\n",
      "7\n",
      "8\n",
      "9\n",
      "10\n"
     ]
    }
   ],
   "source": [
    "mera_khudka_for_loop(b)"
   ]
  },
  {
   "cell_type": "code",
   "execution_count": 37,
   "id": "a05f6169",
   "metadata": {
    "ExecuteTime": {
     "end_time": "2024-08-09T23:08:06.463798Z",
     "start_time": "2024-08-09T23:08:06.455228Z"
    },
    "hidden": true
   },
   "outputs": [
    {
     "name": "stdout",
     "output_type": "stream",
     "text": [
      "1\n",
      "2\n",
      "3\n"
     ]
    }
   ],
   "source": [
    "mera_khudka_for_loop(c)"
   ]
  },
  {
   "cell_type": "code",
   "execution_count": 38,
   "id": "9f44603f",
   "metadata": {
    "ExecuteTime": {
     "end_time": "2024-08-09T23:08:12.028920Z",
     "start_time": "2024-08-09T23:08:12.013631Z"
    },
    "hidden": true
   },
   "outputs": [
    {
     "name": "stdout",
     "output_type": "stream",
     "text": [
      "0\n",
      "1\n"
     ]
    }
   ],
   "source": [
    "mera_khudka_for_loop(e)"
   ]
  },
  {
   "cell_type": "markdown",
   "id": "7500a9d5",
   "metadata": {
    "hidden": true
   },
   "source": [
    "### Confusing point : iterator k upar \\_\\_iter__ apply karne se we get back the same iterator (campusx)"
   ]
  },
  {
   "cell_type": "code",
   "execution_count": 59,
   "id": "4aaa4eec",
   "metadata": {
    "ExecuteTime": {
     "end_time": "2024-08-10T19:57:43.633091Z",
     "start_time": "2024-08-10T19:57:43.612470Z"
    },
    "hidden": true
   },
   "outputs": [
    {
     "name": "stdout",
     "output_type": "stream",
     "text": [
      "Intial address of iterator :  2989286334320\n"
     ]
    }
   ],
   "source": [
    "num = [1,2,3]\n",
    "\n",
    "iter_obj = iter(num)\n",
    "\n",
    "print('Intial address of iterator : ',id(iter_obj))"
   ]
  },
  {
   "cell_type": "markdown",
   "id": "6b826235",
   "metadata": {
    "hidden": true
   },
   "source": [
    "#### iterator k updar iter use karna : "
   ]
  },
  {
   "cell_type": "code",
   "execution_count": 60,
   "id": "d4c29d7a",
   "metadata": {
    "ExecuteTime": {
     "end_time": "2024-08-10T19:58:53.806620Z",
     "start_time": "2024-08-10T19:58:53.797219Z"
    },
    "hidden": true
   },
   "outputs": [
    {
     "name": "stdout",
     "output_type": "stream",
     "text": [
      "address of iter on initial iterator :  2989286334320\n"
     ]
    }
   ],
   "source": [
    "iter_obj2 = iter(iter_obj)\n",
    "\n",
    "print('address of iter on initial iterator : ',id(iter_obj2))"
   ]
  },
  {
   "cell_type": "markdown",
   "id": "c3a5985e",
   "metadata": {
    "hidden": true
   },
   "source": [
    "### Creating own range() function (Campusx)"
   ]
  },
  {
   "cell_type": "markdown",
   "id": "a83c8619",
   "metadata": {
    "hidden": true
   },
   "source": [
    "#### iterable class :"
   ]
  },
  {
   "cell_type": "code",
   "execution_count": 52,
   "id": "0dabf918",
   "metadata": {
    "ExecuteTime": {
     "end_time": "2024-02-06T23:26:11.140488Z",
     "start_time": "2024-02-06T23:26:11.125489Z"
    },
    "hidden": true
   },
   "outputs": [],
   "source": [
    "class MeraRange:\n",
    "    \n",
    "    def __init__(self, start,end):\n",
    "        self.start = start\n",
    "        self.end = end\n",
    "        \n",
    "    def __iter__(self): \n",
    "        return mera_range_iterator(self)\n",
    "    \n",
    "    "
   ]
  },
  {
   "cell_type": "markdown",
   "id": "6d4cbd02",
   "metadata": {
    "hidden": true
   },
   "source": [
    "#### iterator class : "
   ]
  },
  {
   "cell_type": "code",
   "execution_count": 53,
   "id": "dfa11bea",
   "metadata": {
    "ExecuteTime": {
     "end_time": "2024-02-06T23:26:11.613823Z",
     "start_time": "2024-02-06T23:26:11.596721Z"
    },
    "hidden": true
   },
   "outputs": [],
   "source": [
    "class mera_range_iterator:\n",
    "    \n",
    "    def __init__(self,iterable_obj):\n",
    "        self.iterable = iterable_obj\n",
    "    \n",
    "    \n",
    "    def __iter__(self):\n",
    "        return self # iter constructor will return iterator i.e has to return an object that has __next__ method\n",
    "    \n",
    "    def __next__(self):\n",
    "        \n",
    "        if self.iterable.start >= self.iterable.end:\n",
    "            raise StopIteration\n",
    "        else:\n",
    "            current = self.iterable.start\n",
    "            self.iterable.start += 1\n",
    "        \n",
    "        return current\n",
    "        \n",
    "        "
   ]
  },
  {
   "cell_type": "code",
   "execution_count": 54,
   "id": "b66d26a5",
   "metadata": {
    "ExecuteTime": {
     "end_time": "2024-02-06T23:26:11.846718Z",
     "start_time": "2024-02-06T23:26:11.837712Z"
    },
    "hidden": true
   },
   "outputs": [],
   "source": [
    "a = mera_range_iterator(MeraRange(1,11))"
   ]
  },
  {
   "cell_type": "code",
   "execution_count": 55,
   "id": "0f2b455a",
   "metadata": {
    "ExecuteTime": {
     "end_time": "2024-02-06T23:26:12.094617Z",
     "start_time": "2024-02-06T23:26:12.075051Z"
    },
    "hidden": true
   },
   "outputs": [
    {
     "name": "stdout",
     "output_type": "stream",
     "text": [
      "['__class__', '__delattr__', '__dict__', '__dir__', '__doc__', '__eq__', '__format__', '__ge__', '__getattribute__', '__gt__', '__hash__', '__init__', '__init_subclass__', '__iter__', '__le__', '__lt__', '__module__', '__ne__', '__new__', '__next__', '__reduce__', '__reduce_ex__', '__repr__', '__setattr__', '__sizeof__', '__str__', '__subclasshook__', '__weakref__', 'iterable']\n"
     ]
    }
   ],
   "source": [
    "print(dir(a))"
   ]
  },
  {
   "cell_type": "code",
   "execution_count": 56,
   "id": "b6403f7c",
   "metadata": {
    "ExecuteTime": {
     "end_time": "2024-02-06T23:26:12.345437Z",
     "start_time": "2024-02-06T23:26:12.338439Z"
    },
    "hidden": true
   },
   "outputs": [
    {
     "name": "stdout",
     "output_type": "stream",
     "text": [
      "<__main__.mera_range_iterator object at 0x00000181FEA24AF0>\n"
     ]
    }
   ],
   "source": [
    "print(iter(a))"
   ]
  },
  {
   "cell_type": "code",
   "execution_count": 57,
   "id": "db3e640f",
   "metadata": {
    "ExecuteTime": {
     "end_time": "2024-02-06T23:26:12.614635Z",
     "start_time": "2024-02-06T23:26:12.602731Z"
    },
    "hidden": true
   },
   "outputs": [
    {
     "name": "stdout",
     "output_type": "stream",
     "text": [
      "1\n",
      "2\n",
      "3\n",
      "4\n",
      "5\n",
      "6\n",
      "7\n",
      "8\n",
      "9\n",
      "10\n"
     ]
    }
   ],
   "source": [
    "print(next(a))\n",
    "print(next(a))\n",
    "print(next(a))\n",
    "print(next(a))\n",
    "print(next(a))\n",
    "print(next(a))\n",
    "print(next(a))\n",
    "print(next(a))\n",
    "print(next(a))\n",
    "print(next(a))"
   ]
  },
  {
   "cell_type": "markdown",
   "id": "922f2a02",
   "metadata": {
    "hidden": true
   },
   "source": [
    "### Corey Schafar way:"
   ]
  },
  {
   "cell_type": "code",
   "execution_count": 58,
   "id": "37387d96",
   "metadata": {
    "ExecuteTime": {
     "end_time": "2024-02-06T23:26:15.284768Z",
     "start_time": "2024-02-06T23:26:15.264791Z"
    },
    "hidden": true
   },
   "outputs": [],
   "source": [
    "class MeraRange:\n",
    "    \n",
    "    def __init__(self, start,end):\n",
    "        self.value = start\n",
    "        self.end = end\n",
    "        \n",
    "    def __iter__(self): # iter constructor will return iterator i.e has to retunr an object that has __next__ method\n",
    "        return self\n",
    "    \n",
    "    def __next__(self):\n",
    "        if self.value >= self.end:\n",
    "            raise StopIteration\n",
    "        current = self.value\n",
    "        self.value += 1\n",
    "        return current"
   ]
  },
  {
   "cell_type": "code",
   "execution_count": 59,
   "id": "56009053",
   "metadata": {
    "ExecuteTime": {
     "end_time": "2024-02-06T23:26:15.503856Z",
     "start_time": "2024-02-06T23:26:15.496788Z"
    },
    "hidden": true
   },
   "outputs": [],
   "source": [
    "x = MeraRange(1,11)"
   ]
  },
  {
   "cell_type": "code",
   "execution_count": 60,
   "id": "ea22f580",
   "metadata": {
    "ExecuteTime": {
     "end_time": "2024-02-06T23:26:15.745529Z",
     "start_time": "2024-02-06T23:26:15.726253Z"
    },
    "hidden": true
   },
   "outputs": [
    {
     "data": {
      "text/plain": [
       "__main__.MeraRange"
      ]
     },
     "execution_count": 60,
     "metadata": {},
     "output_type": "execute_result"
    }
   ],
   "source": [
    "type(x)"
   ]
  },
  {
   "cell_type": "code",
   "execution_count": 61,
   "id": "da49c65f",
   "metadata": {
    "ExecuteTime": {
     "end_time": "2024-02-06T23:26:15.978003Z",
     "start_time": "2024-02-06T23:26:15.961307Z"
    },
    "hidden": true
   },
   "outputs": [
    {
     "name": "stdout",
     "output_type": "stream",
     "text": [
      "<__main__.MeraRange object at 0x00000181FEA24820>\n"
     ]
    }
   ],
   "source": [
    "print(iter(x))"
   ]
  },
  {
   "cell_type": "code",
   "execution_count": 62,
   "id": "104d0349",
   "metadata": {
    "ExecuteTime": {
     "end_time": "2024-02-06T23:26:16.212606Z",
     "start_time": "2024-02-06T23:26:16.201622Z"
    },
    "hidden": true
   },
   "outputs": [
    {
     "name": "stdout",
     "output_type": "stream",
     "text": [
      "1\n",
      "2\n",
      "3\n",
      "4\n",
      "5\n",
      "6\n",
      "7\n",
      "8\n",
      "9\n",
      "10\n"
     ]
    }
   ],
   "source": [
    "print(next(x))\n",
    "print(next(x))\n",
    "print(next(x))\n",
    "print(next(x))\n",
    "print(next(x))\n",
    "print(next(x))\n",
    "print(next(x))\n",
    "print(next(x))\n",
    "print(next(x))\n",
    "print(next(x))"
   ]
  },
  {
   "cell_type": "markdown",
   "id": "be85f511",
   "metadata": {
    "hidden": true
   },
   "source": [
    "### How iterators are useful in machine learning:"
   ]
  },
  {
   "cell_type": "markdown",
   "id": "d6de413c",
   "metadata": {
    "hidden": true
   },
   "source": [
    "- Iterators allow you to work with large datasets or sequences of data without loading everything into memory at once. This is crucial when dealing with datasets that are too large to fit into memory, which is a common scenario in data science and machine learning.\n",
    "\n",
    "\n",
    "- __Lazy Evaluation :__ Iterators enable lazy evaluation, meaning they generate data on-the-fly as needed, rather than pre-computing all values. This can save memory and computation time, especially when working with large or infinite sequences."
   ]
  },
  {
   "cell_type": "markdown",
   "id": "b8c984ce",
   "metadata": {
    "hidden": true
   },
   "source": [
    "### Using itertools to iterate : "
   ]
  },
  {
   "cell_type": "code",
   "execution_count": 61,
   "id": "fec44b7f",
   "metadata": {
    "ExecuteTime": {
     "end_time": "2024-08-10T20:35:43.476331Z",
     "start_time": "2024-08-10T20:35:43.458470Z"
    },
    "hidden": true
   },
   "outputs": [],
   "source": [
    "import itertools"
   ]
  },
  {
   "cell_type": "code",
   "execution_count": 68,
   "id": "b5d82fe0",
   "metadata": {
    "ExecuteTime": {
     "end_time": "2024-08-10T20:40:16.916998Z",
     "start_time": "2024-08-10T20:40:16.899097Z"
    },
    "hidden": true
   },
   "outputs": [
    {
     "name": "stdout",
     "output_type": "stream",
     "text": [
      "['2', '3', '4', '5', '6', '7', '8', '9', '10', 'J', 'Q', 'K', 'A']\n"
     ]
    }
   ],
   "source": [
    "ranks = list(range(2,11)) + ['J','Q','K','A']\n",
    "ranks = [str(rank) for rank in ranks]\n",
    "print(ranks)"
   ]
  },
  {
   "cell_type": "code",
   "execution_count": 69,
   "id": "999d23e0",
   "metadata": {
    "ExecuteTime": {
     "end_time": "2024-08-10T20:40:25.027731Z",
     "start_time": "2024-08-10T20:40:25.009292Z"
    },
    "hidden": true
   },
   "outputs": [
    {
     "name": "stdout",
     "output_type": "stream",
     "text": [
      "['Hearts', 'Clubs', 'Diamonds', 'Spades']\n"
     ]
    }
   ],
   "source": [
    "suits = ['Hearts','Clubs','Diamonds','Spades']\n",
    "print(suits)"
   ]
  },
  {
   "cell_type": "code",
   "execution_count": 67,
   "id": "e0f28467",
   "metadata": {
    "ExecuteTime": {
     "end_time": "2024-08-10T20:38:58.273671Z",
     "start_time": "2024-08-10T20:38:58.256196Z"
    },
    "hidden": true
   },
   "outputs": [
    {
     "name": "stdout",
     "output_type": "stream",
     "text": [
      "[('2', 'Hearts'), ('2', 'Clubs'), ('2', 'Diamonds'), ('2', 'Spades'), ('3', 'Hearts'), ('3', 'Clubs'), ('3', 'Diamonds'), ('3', 'Spades'), ('4', 'Hearts'), ('4', 'Clubs'), ('4', 'Diamonds'), ('4', 'Spades'), ('5', 'Hearts'), ('5', 'Clubs'), ('5', 'Diamonds'), ('5', 'Spades'), ('6', 'Hearts'), ('6', 'Clubs'), ('6', 'Diamonds'), ('6', 'Spades'), ('7', 'Hearts'), ('7', 'Clubs'), ('7', 'Diamonds'), ('7', 'Spades'), ('8', 'Hearts'), ('8', 'Clubs'), ('8', 'Diamonds'), ('8', 'Spades'), ('9', 'Hearts'), ('9', 'Clubs'), ('9', 'Diamonds'), ('9', 'Spades'), ('10', 'Hearts'), ('10', 'Clubs'), ('10', 'Diamonds'), ('10', 'Spades'), ('J', 'Hearts'), ('J', 'Clubs'), ('J', 'Diamonds'), ('J', 'Spades'), ('Q', 'Hearts'), ('Q', 'Clubs'), ('Q', 'Diamonds'), ('Q', 'Spades'), ('K', 'Hearts'), ('K', 'Clubs'), ('K', 'Diamonds'), ('K', 'Spades'), ('A', 'Hearts'), ('A', 'Clubs'), ('A', 'Diamonds'), ('A', 'Spades')]\n"
     ]
    }
   ],
   "source": [
    "deck = [card for card in itertools.product(ranks,suits)]\n",
    "print(deck)"
   ]
  },
  {
   "cell_type": "markdown",
   "id": "6e42662f",
   "metadata": {
    "hidden": true
   },
   "source": [
    "#### creating every possible combination of 5 cards:"
   ]
  },
  {
   "cell_type": "code",
   "execution_count": 76,
   "id": "3c64b625",
   "metadata": {
    "ExecuteTime": {
     "end_time": "2024-08-10T20:43:29.853469Z",
     "start_time": "2024-08-10T20:43:29.590629Z"
    },
    "hidden": true
   },
   "outputs": [
    {
     "name": "stdout",
     "output_type": "stream",
     "text": [
      "total possible combination of 5 cards =  2598960\n"
     ]
    }
   ],
   "source": [
    "hand = [hand for hand in itertools.combinations(deck,5)]\n",
    "print('total possible combination of 5 cards = ',len(hand))"
   ]
  },
  {
   "cell_type": "markdown",
   "id": "4aacf99d",
   "metadata": {
    "hidden": true
   },
   "source": [
    "## TRY THIS:\n",
    "\n",
    "https://www.youtube.com/watch?v=C3Z9lJXI6Qw"
   ]
  },
  {
   "cell_type": "markdown",
   "id": "a8aa362f",
   "metadata": {
    "heading_collapsed": true
   },
   "source": [
    "# Generators "
   ]
  },
  {
   "cell_type": "markdown",
   "id": "d039794b",
   "metadata": {
    "hidden": true
   },
   "source": [
    "https://youtu.be/ZfJoU67tG1A\n",
    "\n",
    "Socratica : https://youtu.be/gMompY5MyPg?list=PLi01XoE8jYohWFPpC17Z-wWhPOSuh8Er-"
   ]
  },
  {
   "cell_type": "markdown",
   "id": "e85243aa",
   "metadata": {
    "hidden": true
   },
   "source": [
    "**Generators** in Python are a special type of iterable that allow you to iterate over a sequence of values lazily, meaning they generate items __one at a time and only when needed__, rather than creating and holding the entire sequence in memory at once.\n",
    "\n",
    "They are implemented using functions and the `yield` keyword."
   ]
  },
  {
   "cell_type": "markdown",
   "id": "0d4edc93",
   "metadata": {
    "hidden": true
   },
   "source": [
    "### What is a Generator\n",
    "\n",
    "- Python generators are a simple way of creating iterators.\n",
    "\n",
    "\n",
    "- It has `yield` insted of return\n",
    "\n",
    "\n",
    "> __Generator is basically a simple way to create iterators__"
   ]
  },
  {
   "cell_type": "markdown",
   "id": "f28139bd",
   "metadata": {
    "hidden": true
   },
   "source": [
    "### NOTE : to call a generator we need to call it inside next()"
   ]
  },
  {
   "cell_type": "markdown",
   "id": "f76988e8",
   "metadata": {
    "hidden": true
   },
   "source": [
    "### Key Characteristics of Generators:\n",
    "1. **Memory Efficiency**: Generators are more memory-efficient than lists or other sequences because they generate items on the fly. This is particularly useful when working with large datasets or streams of data.\n",
    "\n",
    "\n",
    "2. **Lazy Evaluation**: Generators produce items only when they are requested, which is known as lazy evaluation. This allows you to handle large sequences without consuming a lot of memory.\n",
    "\n",
    "\n",
    "\n",
    "3. **Stateful**: Generators maintain their state between iterations. Each time you call `next()` on a generator, it resumes where it left off, allowing you to continue from the last yielded value.\n",
    "\n",
    "\n",
    "\n",
    "4. **Single-use**: Generators can only be iterated over once. Once a generator has been exhausted (i.e., all items have been generated), it cannot be reused."
   ]
  },
  {
   "cell_type": "markdown",
   "id": "787249e7",
   "metadata": {
    "hidden": true
   },
   "source": [
    "### Why Use Generators?\n",
    "\n",
    "1. **Memory Efficiency**: When you don’t need to store all the data in memory at once (e.g., processing large files line by line), generators are ideal.\n",
    "\n",
    "\n",
    "\n",
    "2. **Performance**: Generators can be faster to use in scenarios where you don't need to access the entire dataset immediately. They reduce the overhead of memory allocation and the time required to generate all elements upfront.\n",
    "\n",
    "\n",
    "\n",
    "3. **Infinite Sequences**: Generators are perfect for representing infinite sequences (e.g., an infinite sequence of numbers), as they don’t require generating all values at once."
   ]
  },
  {
   "cell_type": "markdown",
   "id": "2f65c5c4",
   "metadata": {
    "hidden": true
   },
   "source": [
    "### When Not to Use Generators:\n",
    "\n",
    "- If you need to access elements multiple times or access elements randomly, a list or another data structure might be more appropriate.\n",
    "\n",
    "\n",
    "- If the sequence of values is small and fits comfortably in memory, the overhead of using a generator may not be worth it.\n",
    "\n",
    "In summary, generators are a powerful tool in Python for working with large datasets, implementing lazy evaluation, and handling sequences efficiently."
   ]
  },
  {
   "cell_type": "markdown",
   "id": "e692b6db",
   "metadata": {
    "hidden": true
   },
   "source": [
    "### A Simple Example"
   ]
  },
  {
   "cell_type": "code",
   "execution_count": 113,
   "id": "645f6c9f",
   "metadata": {
    "ExecuteTime": {
     "end_time": "2024-02-06T23:55:22.215214Z",
     "start_time": "2024-02-06T23:55:22.205702Z"
    },
    "hidden": true
   },
   "outputs": [],
   "source": [
    "def gen_demo():\n",
    "    \n",
    "    yield \"first statement\"\n",
    "    yield \"second statement\"\n",
    "    yield \"third statement\""
   ]
  },
  {
   "cell_type": "code",
   "execution_count": 114,
   "id": "e2623557",
   "metadata": {
    "ExecuteTime": {
     "end_time": "2024-02-06T23:55:23.529269Z",
     "start_time": "2024-02-06T23:55:23.523700Z"
    },
    "hidden": true
   },
   "outputs": [
    {
     "name": "stdout",
     "output_type": "stream",
     "text": [
      "first statement\n",
      "second statement\n",
      "third statement\n"
     ]
    }
   ],
   "source": [
    "gen = gen_demo()\n",
    "\n",
    "for i in gen:\n",
    "    print(i)"
   ]
  },
  {
   "cell_type": "code",
   "execution_count": 77,
   "id": "e32544c8",
   "metadata": {
    "ExecuteTime": {
     "end_time": "2024-08-10T20:56:52.217463Z",
     "start_time": "2024-08-10T20:56:52.212463Z"
    },
    "hidden": true
   },
   "outputs": [],
   "source": [
    "def square_numbers(nums):\n",
    "    for i in nums:\n",
    "        yield(i**2)"
   ]
  },
  {
   "cell_type": "code",
   "execution_count": 78,
   "id": "413533f5",
   "metadata": {
    "ExecuteTime": {
     "end_time": "2024-08-10T20:56:52.531364Z",
     "start_time": "2024-08-10T20:56:52.521971Z"
    },
    "hidden": true
   },
   "outputs": [],
   "source": [
    "my_nums = square_numbers([1,2,3,4,5,6])"
   ]
  },
  {
   "cell_type": "code",
   "execution_count": 79,
   "id": "dbcd8210",
   "metadata": {
    "ExecuteTime": {
     "end_time": "2024-08-10T20:56:52.839334Z",
     "start_time": "2024-08-10T20:56:52.825547Z"
    },
    "hidden": true
   },
   "outputs": [
    {
     "name": "stdout",
     "output_type": "stream",
     "text": [
      "<generator object square_numbers at 0x000002B7FFACA660>\n"
     ]
    }
   ],
   "source": [
    "print(my_nums)"
   ]
  },
  {
   "cell_type": "markdown",
   "id": "48d14113",
   "metadata": {
    "hidden": true
   },
   "source": [
    "### NOTE : as generators are different from loops, they dont store the entire data. one by one we will loop through it."
   ]
  },
  {
   "cell_type": "code",
   "execution_count": 80,
   "id": "a2e28748",
   "metadata": {
    "ExecuteTime": {
     "end_time": "2024-08-10T20:56:54.257224Z",
     "start_time": "2024-08-10T20:56:54.228359Z"
    },
    "hidden": true
   },
   "outputs": [
    {
     "name": "stdout",
     "output_type": "stream",
     "text": [
      "1\n",
      "4\n",
      "9\n",
      "16\n",
      "25\n",
      "36\n"
     ]
    },
    {
     "ename": "StopIteration",
     "evalue": "",
     "output_type": "error",
     "traceback": [
      "\u001b[1;31m---------------------------------------------------------------------------\u001b[0m",
      "\u001b[1;31mStopIteration\u001b[0m                             Traceback (most recent call last)",
      "Cell \u001b[1;32mIn[80], line 7\u001b[0m\n\u001b[0;32m      5\u001b[0m \u001b[38;5;28mprint\u001b[39m(\u001b[38;5;28mnext\u001b[39m(my_nums))\n\u001b[0;32m      6\u001b[0m \u001b[38;5;28mprint\u001b[39m(\u001b[38;5;28mnext\u001b[39m(my_nums))\n\u001b[1;32m----> 7\u001b[0m \u001b[38;5;28mprint\u001b[39m(\u001b[38;5;28;43mnext\u001b[39;49m\u001b[43m(\u001b[49m\u001b[43mmy_nums\u001b[49m\u001b[43m)\u001b[49m)\n",
      "\u001b[1;31mStopIteration\u001b[0m: "
     ]
    }
   ],
   "source": [
    "print(next(my_nums))\n",
    "print(next(my_nums))\n",
    "print(next(my_nums))\n",
    "print(next(my_nums))\n",
    "print(next(my_nums))\n",
    "print(next(my_nums))\n",
    "print(next(my_nums))"
   ]
  },
  {
   "cell_type": "markdown",
   "id": "c2d482ff",
   "metadata": {
    "hidden": true
   },
   "source": [
    "#### why we use generators : "
   ]
  },
  {
   "cell_type": "code",
   "execution_count": 83,
   "id": "250e58f2",
   "metadata": {
    "ExecuteTime": {
     "end_time": "2024-08-10T21:00:50.364611Z",
     "start_time": "2024-08-10T21:00:50.345203Z"
    },
    "hidden": true
   },
   "outputs": [
    {
     "name": "stdout",
     "output_type": "stream",
     "text": [
      "0\n",
      "1\n",
      "4\n",
      "9\n",
      "16\n",
      "25\n",
      "36\n",
      "49\n",
      "64\n",
      "81\n",
      "100\n",
      "121\n",
      "144\n",
      "169\n",
      "196\n",
      "225\n",
      "256\n",
      "289\n",
      "324\n",
      "361\n",
      "400\n",
      "441\n",
      "484\n",
      "529\n",
      "576\n",
      "625\n",
      "676\n",
      "729\n",
      "784\n",
      "841\n",
      "900\n",
      "961\n",
      "1024\n",
      "1089\n",
      "1156\n",
      "1225\n",
      "1296\n",
      "1369\n",
      "1444\n",
      "1521\n",
      "1600\n",
      "1681\n",
      "1764\n",
      "1849\n",
      "1936\n",
      "2025\n",
      "2116\n",
      "2209\n",
      "2304\n",
      "2401\n",
      "2500\n",
      "2601\n",
      "2704\n",
      "2809\n",
      "2916\n",
      "3025\n",
      "3136\n",
      "3249\n",
      "3364\n",
      "3481\n",
      "3600\n",
      "3721\n",
      "3844\n",
      "3969\n",
      "4096\n",
      "4225\n",
      "4356\n",
      "4489\n",
      "4624\n",
      "4761\n",
      "4900\n",
      "5041\n",
      "5184\n",
      "5329\n",
      "5476\n",
      "5625\n",
      "5776\n",
      "5929\n",
      "6084\n",
      "6241\n",
      "6400\n",
      "6561\n",
      "6724\n",
      "6889\n",
      "7056\n",
      "7225\n",
      "7396\n",
      "7569\n",
      "7744\n",
      "7921\n",
      "8100\n",
      "8281\n",
      "8464\n",
      "8649\n",
      "8836\n",
      "9025\n",
      "9216\n",
      "9409\n",
      "9604\n",
      "9801\n",
      "10000\n",
      "10201\n",
      "10404\n",
      "10609\n",
      "10816\n",
      "11025\n",
      "11236\n",
      "11449\n",
      "11664\n",
      "11881\n",
      "12100\n",
      "12321\n",
      "12544\n",
      "12769\n",
      "12996\n",
      "13225\n",
      "13456\n",
      "13689\n",
      "13924\n",
      "14161\n",
      "14400\n",
      "14641\n",
      "14884\n",
      "15129\n",
      "15376\n",
      "15625\n",
      "15876\n",
      "16129\n",
      "16384\n",
      "16641\n",
      "16900\n",
      "17161\n",
      "17424\n",
      "17689\n",
      "17956\n",
      "18225\n",
      "18496\n",
      "18769\n",
      "19044\n",
      "19321\n",
      "19600\n",
      "19881\n",
      "20164\n",
      "20449\n",
      "20736\n",
      "21025\n",
      "21316\n",
      "21609\n",
      "21904\n",
      "22201\n",
      "22500\n",
      "22801\n",
      "23104\n",
      "23409\n",
      "23716\n",
      "24025\n",
      "24336\n",
      "24649\n",
      "24964\n",
      "25281\n",
      "25600\n",
      "25921\n",
      "26244\n",
      "26569\n",
      "26896\n",
      "27225\n",
      "27556\n",
      "27889\n",
      "28224\n",
      "28561\n",
      "28900\n",
      "29241\n",
      "29584\n",
      "29929\n",
      "30276\n",
      "30625\n",
      "30976\n",
      "31329\n",
      "31684\n",
      "32041\n",
      "32400\n",
      "32761\n",
      "33124\n",
      "33489\n",
      "33856\n",
      "34225\n",
      "34596\n",
      "34969\n",
      "35344\n",
      "35721\n",
      "36100\n",
      "36481\n",
      "36864\n",
      "37249\n",
      "37636\n",
      "38025\n",
      "38416\n",
      "38809\n",
      "39204\n",
      "39601\n",
      "40000\n",
      "40401\n",
      "40804\n",
      "41209\n",
      "41616\n",
      "42025\n",
      "42436\n",
      "42849\n",
      "43264\n",
      "43681\n",
      "44100\n",
      "44521\n",
      "44944\n",
      "45369\n",
      "45796\n",
      "46225\n",
      "46656\n",
      "47089\n",
      "47524\n",
      "47961\n",
      "48400\n",
      "48841\n",
      "49284\n",
      "49729\n",
      "50176\n",
      "50625\n",
      "51076\n",
      "51529\n",
      "51984\n",
      "52441\n",
      "52900\n",
      "53361\n",
      "53824\n",
      "54289\n",
      "54756\n",
      "55225\n",
      "55696\n",
      "56169\n",
      "56644\n",
      "57121\n",
      "57600\n",
      "58081\n",
      "58564\n",
      "59049\n",
      "59536\n",
      "60025\n",
      "60516\n",
      "61009\n",
      "61504\n",
      "62001\n",
      "62500\n",
      "63001\n",
      "63504\n",
      "64009\n",
      "64516\n",
      "65025\n",
      "65536\n",
      "66049\n",
      "66564\n",
      "67081\n",
      "67600\n",
      "68121\n",
      "68644\n",
      "69169\n",
      "69696\n",
      "70225\n",
      "70756\n",
      "71289\n",
      "71824\n",
      "72361\n",
      "72900\n",
      "73441\n",
      "73984\n",
      "74529\n",
      "75076\n",
      "75625\n",
      "76176\n",
      "76729\n",
      "77284\n",
      "77841\n",
      "78400\n",
      "78961\n",
      "79524\n",
      "80089\n",
      "80656\n",
      "81225\n",
      "81796\n",
      "82369\n",
      "82944\n",
      "83521\n",
      "84100\n",
      "84681\n",
      "85264\n",
      "85849\n",
      "86436\n",
      "87025\n",
      "87616\n",
      "88209\n",
      "88804\n",
      "89401\n",
      "90000\n",
      "90601\n",
      "91204\n",
      "91809\n",
      "92416\n",
      "93025\n",
      "93636\n",
      "94249\n",
      "94864\n",
      "95481\n",
      "96100\n",
      "96721\n",
      "97344\n",
      "97969\n",
      "98596\n",
      "99225\n",
      "99856\n",
      "100489\n",
      "101124\n",
      "101761\n",
      "102400\n",
      "103041\n",
      "103684\n",
      "104329\n",
      "104976\n",
      "105625\n",
      "106276\n",
      "106929\n",
      "107584\n",
      "108241\n",
      "108900\n",
      "109561\n",
      "110224\n",
      "110889\n",
      "111556\n",
      "112225\n",
      "112896\n",
      "113569\n",
      "114244\n",
      "114921\n",
      "115600\n",
      "116281\n",
      "116964\n",
      "117649\n",
      "118336\n",
      "119025\n",
      "119716\n",
      "120409\n",
      "121104\n",
      "121801\n",
      "122500\n",
      "123201\n",
      "123904\n",
      "124609\n",
      "125316\n",
      "126025\n",
      "126736\n",
      "127449\n",
      "128164\n",
      "128881\n",
      "129600\n",
      "130321\n",
      "131044\n",
      "131769\n",
      "132496\n",
      "133225\n",
      "133956\n",
      "134689\n",
      "135424\n",
      "136161\n",
      "136900\n",
      "137641\n",
      "138384\n",
      "139129\n",
      "139876\n",
      "140625\n",
      "141376\n",
      "142129\n",
      "142884\n",
      "143641\n",
      "144400\n",
      "145161\n",
      "145924\n",
      "146689\n",
      "147456\n",
      "148225\n",
      "148996\n",
      "149769\n",
      "150544\n",
      "151321\n",
      "152100\n",
      "152881\n",
      "153664\n",
      "154449\n",
      "155236\n",
      "156025\n",
      "156816\n",
      "157609\n",
      "158404\n",
      "159201\n",
      "160000\n",
      "160801\n",
      "161604\n",
      "162409\n",
      "163216\n",
      "164025\n",
      "164836\n",
      "165649\n",
      "166464\n",
      "167281\n",
      "168100\n",
      "168921\n",
      "169744\n",
      "170569\n",
      "171396\n",
      "172225\n",
      "173056\n",
      "173889\n",
      "174724\n",
      "175561\n",
      "176400\n",
      "177241\n",
      "178084\n",
      "178929\n",
      "179776\n",
      "180625\n",
      "181476\n",
      "182329\n",
      "183184\n",
      "184041\n",
      "184900\n",
      "185761\n",
      "186624\n",
      "187489\n",
      "188356\n",
      "189225\n",
      "190096\n",
      "190969\n",
      "191844\n",
      "192721\n",
      "193600\n",
      "194481\n",
      "195364\n",
      "196249\n",
      "197136\n",
      "198025\n",
      "198916\n",
      "199809\n",
      "200704\n",
      "201601\n",
      "202500\n",
      "203401\n",
      "204304\n",
      "205209\n",
      "206116\n",
      "207025\n",
      "207936\n",
      "208849\n",
      "209764\n",
      "210681\n",
      "211600\n",
      "212521\n",
      "213444\n",
      "214369\n",
      "215296\n",
      "216225\n",
      "217156\n",
      "218089\n",
      "219024\n",
      "219961\n",
      "220900\n",
      "221841\n",
      "222784\n",
      "223729\n",
      "224676\n",
      "225625\n",
      "226576\n",
      "227529\n",
      "228484\n",
      "229441\n",
      "230400\n",
      "231361\n",
      "232324\n",
      "233289\n",
      "234256\n",
      "235225\n",
      "236196\n",
      "237169\n",
      "238144\n",
      "239121\n",
      "240100\n",
      "241081\n",
      "242064\n",
      "243049\n",
      "244036\n",
      "245025\n",
      "246016\n",
      "247009\n",
      "248004\n",
      "249001\n",
      "250000\n",
      "251001\n",
      "252004\n",
      "253009\n",
      "254016\n",
      "255025\n",
      "256036\n",
      "257049\n",
      "258064\n",
      "259081\n",
      "260100\n",
      "261121\n",
      "262144\n",
      "263169\n",
      "264196\n",
      "265225\n",
      "266256\n",
      "267289\n",
      "268324\n",
      "269361\n",
      "270400\n",
      "271441\n",
      "272484\n",
      "273529\n",
      "274576\n",
      "275625\n",
      "276676\n",
      "277729\n",
      "278784\n",
      "279841\n",
      "280900\n",
      "281961\n",
      "283024\n",
      "284089\n",
      "285156\n",
      "286225\n",
      "287296\n",
      "288369\n",
      "289444\n",
      "290521\n",
      "291600\n",
      "292681\n",
      "293764\n",
      "294849\n",
      "295936\n",
      "297025\n",
      "298116\n",
      "299209\n",
      "300304\n",
      "301401\n",
      "302500\n",
      "303601\n",
      "304704\n",
      "305809\n",
      "306916\n",
      "308025\n",
      "309136\n",
      "310249\n",
      "311364\n",
      "312481\n",
      "313600\n",
      "314721\n",
      "315844\n",
      "316969\n",
      "318096\n",
      "319225\n",
      "320356\n",
      "321489\n",
      "322624\n",
      "323761\n",
      "324900\n",
      "326041\n",
      "327184\n",
      "328329\n",
      "329476\n",
      "330625\n",
      "331776\n",
      "332929\n",
      "334084\n",
      "335241\n",
      "336400\n",
      "337561\n",
      "338724\n",
      "339889\n",
      "341056\n",
      "342225\n",
      "343396\n",
      "344569\n",
      "345744\n",
      "346921\n",
      "348100\n",
      "349281\n",
      "350464\n",
      "351649\n",
      "352836\n",
      "354025\n",
      "355216\n",
      "356409\n",
      "357604\n",
      "358801\n",
      "360000\n",
      "361201\n",
      "362404\n",
      "363609\n",
      "364816\n",
      "366025\n",
      "367236\n",
      "368449\n",
      "369664\n",
      "370881\n",
      "372100\n",
      "373321\n",
      "374544\n",
      "375769\n",
      "376996\n",
      "378225\n",
      "379456\n",
      "380689\n",
      "381924\n",
      "383161\n",
      "384400\n",
      "385641\n",
      "386884\n",
      "388129\n",
      "389376\n",
      "390625\n",
      "391876\n",
      "393129\n",
      "394384\n",
      "395641\n",
      "396900\n",
      "398161\n",
      "399424\n",
      "400689\n",
      "401956\n",
      "403225\n",
      "404496\n",
      "405769\n",
      "407044\n",
      "408321\n",
      "409600\n",
      "410881\n",
      "412164\n",
      "413449\n",
      "414736\n",
      "416025\n",
      "417316\n",
      "418609\n",
      "419904\n",
      "421201\n",
      "422500\n",
      "423801\n",
      "425104\n",
      "426409\n",
      "427716\n",
      "429025\n",
      "430336\n",
      "431649\n",
      "432964\n",
      "434281\n",
      "435600\n",
      "436921\n",
      "438244\n",
      "439569\n",
      "440896\n",
      "442225\n",
      "443556\n",
      "444889\n",
      "446224\n",
      "447561\n",
      "448900\n",
      "450241\n",
      "451584\n",
      "452929\n",
      "454276\n",
      "455625\n",
      "456976\n",
      "458329\n",
      "459684\n",
      "461041\n",
      "462400\n",
      "463761\n",
      "465124\n",
      "466489\n",
      "467856\n",
      "469225\n",
      "470596\n",
      "471969\n",
      "473344\n",
      "474721\n",
      "476100\n",
      "477481\n",
      "478864\n",
      "480249\n",
      "481636\n",
      "483025\n",
      "484416\n",
      "485809\n",
      "487204\n",
      "488601\n",
      "490000\n",
      "491401\n",
      "492804\n",
      "494209\n",
      "495616\n",
      "497025\n",
      "498436\n",
      "499849\n",
      "501264\n",
      "502681\n",
      "504100\n",
      "505521\n",
      "506944\n",
      "508369\n",
      "509796\n",
      "511225\n",
      "512656\n",
      "514089\n",
      "515524\n",
      "516961\n",
      "518400\n",
      "519841\n",
      "521284\n",
      "522729\n",
      "524176\n",
      "525625\n",
      "527076\n",
      "528529\n",
      "529984\n",
      "531441\n",
      "532900\n",
      "534361\n",
      "535824\n",
      "537289\n",
      "538756\n",
      "540225\n",
      "541696\n",
      "543169\n",
      "544644\n",
      "546121\n",
      "547600\n",
      "549081\n",
      "550564\n",
      "552049\n",
      "553536\n",
      "555025\n",
      "556516\n",
      "558009\n",
      "559504\n",
      "561001\n",
      "562500\n",
      "564001\n",
      "565504\n",
      "567009\n",
      "568516\n",
      "570025\n",
      "571536\n",
      "573049\n",
      "574564\n",
      "576081\n",
      "577600\n",
      "579121\n",
      "580644\n",
      "582169\n",
      "583696\n",
      "585225\n",
      "586756\n",
      "588289\n",
      "589824\n",
      "591361\n",
      "592900\n",
      "594441\n",
      "595984\n",
      "597529\n",
      "599076\n",
      "600625\n",
      "602176\n",
      "603729\n",
      "605284\n",
      "606841\n",
      "608400\n",
      "609961\n",
      "611524\n",
      "613089\n",
      "614656\n",
      "616225\n",
      "617796\n",
      "619369\n",
      "620944\n",
      "622521\n",
      "624100\n",
      "625681\n",
      "627264\n",
      "628849\n",
      "630436\n",
      "632025\n",
      "633616\n",
      "635209\n",
      "636804\n",
      "638401\n",
      "640000\n",
      "641601\n",
      "643204\n",
      "644809\n",
      "646416\n",
      "648025\n",
      "649636\n",
      "651249\n",
      "652864\n",
      "654481\n",
      "656100\n",
      "657721\n",
      "659344\n",
      "660969\n",
      "662596\n",
      "664225\n",
      "665856\n",
      "667489\n",
      "669124\n",
      "670761\n",
      "672400\n",
      "674041\n",
      "675684\n",
      "677329\n",
      "678976\n",
      "680625\n",
      "682276\n",
      "683929\n",
      "685584\n",
      "687241\n",
      "688900\n",
      "690561\n",
      "692224\n",
      "693889\n",
      "695556\n",
      "697225\n",
      "698896\n",
      "700569\n",
      "702244\n",
      "703921\n",
      "705600\n",
      "707281\n",
      "708964\n",
      "710649\n",
      "712336\n",
      "714025\n",
      "715716\n",
      "717409\n",
      "719104\n",
      "720801\n",
      "722500\n",
      "724201\n",
      "725904\n",
      "727609\n",
      "729316\n",
      "731025\n",
      "732736\n",
      "734449\n",
      "736164\n",
      "737881\n",
      "739600\n",
      "741321\n",
      "743044\n",
      "744769\n",
      "746496\n",
      "748225\n",
      "749956\n",
      "751689\n",
      "753424\n",
      "755161\n",
      "756900\n",
      "758641\n",
      "760384\n",
      "762129\n",
      "763876\n",
      "765625\n",
      "767376\n",
      "769129\n",
      "770884\n",
      "772641\n",
      "774400\n",
      "776161\n",
      "777924\n",
      "779689\n",
      "781456\n",
      "783225\n",
      "784996\n",
      "786769\n",
      "788544\n",
      "790321\n",
      "792100\n",
      "793881\n",
      "795664\n",
      "797449\n",
      "799236\n",
      "801025\n",
      "802816\n",
      "804609\n",
      "806404\n",
      "808201\n",
      "810000\n",
      "811801\n",
      "813604\n",
      "815409\n",
      "817216\n",
      "819025\n",
      "820836\n",
      "822649\n",
      "824464\n",
      "826281\n",
      "828100\n",
      "829921\n",
      "831744\n",
      "833569\n",
      "835396\n",
      "837225\n",
      "839056\n",
      "840889\n",
      "842724\n",
      "844561\n",
      "846400\n",
      "848241\n",
      "850084\n",
      "851929\n",
      "853776\n",
      "855625\n",
      "857476\n",
      "859329\n",
      "861184\n",
      "863041\n",
      "864900\n",
      "866761\n",
      "868624\n",
      "870489\n",
      "872356\n",
      "874225\n",
      "876096\n",
      "877969\n",
      "879844\n",
      "881721\n",
      "883600\n",
      "885481\n",
      "887364\n",
      "889249\n",
      "891136\n",
      "893025\n",
      "894916\n",
      "896809\n",
      "898704\n",
      "900601\n",
      "902500\n",
      "904401\n",
      "906304\n",
      "908209\n",
      "910116\n",
      "912025\n",
      "913936\n",
      "915849\n",
      "917764\n",
      "919681\n",
      "921600\n",
      "923521\n",
      "925444\n",
      "927369\n",
      "929296\n",
      "931225\n",
      "933156\n",
      "935089\n",
      "937024\n",
      "938961\n",
      "940900\n",
      "942841\n",
      "944784\n",
      "946729\n",
      "948676\n",
      "950625\n",
      "952576\n",
      "954529\n",
      "956484\n",
      "958441\n",
      "960400\n",
      "962361\n",
      "964324\n",
      "966289\n",
      "968256\n",
      "970225\n",
      "972196\n",
      "974169\n",
      "976144\n",
      "978121\n",
      "980100\n",
      "982081\n",
      "984064\n",
      "986049\n",
      "988036\n",
      "990025\n",
      "992016\n",
      "994009\n",
      "996004\n",
      "998001\n",
      "1000000\n",
      "1002001\n",
      "1004004\n",
      "1006009\n",
      "1008016\n",
      "1010025\n",
      "1012036\n",
      "1014049\n",
      "1016064\n"
     ]
    }
   ],
   "source": [
    "L = [x for x in range(1009)]\n",
    "\n",
    "for i in L:\n",
    "    print(i**2)\n",
    " "
   ]
  },
  {
   "cell_type": "code",
   "execution_count": 85,
   "id": "cd4bfd77",
   "metadata": {
    "ExecuteTime": {
     "end_time": "2024-08-10T21:00:55.530205Z",
     "start_time": "2024-08-10T21:00:55.519345Z"
    },
    "hidden": true
   },
   "outputs": [
    {
     "data": {
      "text/plain": [
       "8856"
      ]
     },
     "execution_count": 85,
     "metadata": {},
     "output_type": "execute_result"
    }
   ],
   "source": [
    "import sys\n",
    "sys.getsizeof(L)"
   ]
  },
  {
   "cell_type": "code",
   "execution_count": 100,
   "id": "776c9f1e",
   "metadata": {
    "ExecuteTime": {
     "end_time": "2024-08-10T21:46:28.950837Z",
     "start_time": "2024-08-10T21:46:28.934145Z"
    },
    "hidden": true
   },
   "outputs": [
    {
     "name": "stdout",
     "output_type": "stream",
     "text": [
      "0\n",
      "1\n",
      "4\n",
      "9\n",
      "16\n",
      "25\n",
      "36\n",
      "49\n",
      "64\n",
      "81\n",
      "100\n",
      "121\n",
      "144\n",
      "169\n",
      "196\n",
      "225\n",
      "256\n",
      "289\n",
      "324\n",
      "361\n",
      "400\n",
      "441\n",
      "484\n",
      "529\n",
      "576\n",
      "625\n",
      "676\n",
      "729\n",
      "784\n",
      "841\n",
      "900\n",
      "961\n",
      "1024\n",
      "1089\n",
      "1156\n",
      "1225\n",
      "1296\n",
      "1369\n",
      "1444\n",
      "1521\n",
      "1600\n",
      "1681\n",
      "1764\n",
      "1849\n",
      "1936\n",
      "2025\n",
      "2116\n",
      "2209\n",
      "2304\n",
      "2401\n",
      "2500\n",
      "2601\n",
      "2704\n",
      "2809\n",
      "2916\n",
      "3025\n",
      "3136\n",
      "3249\n",
      "3364\n",
      "3481\n",
      "3600\n",
      "3721\n",
      "3844\n",
      "3969\n",
      "4096\n",
      "4225\n",
      "4356\n",
      "4489\n",
      "4624\n",
      "4761\n",
      "4900\n",
      "5041\n",
      "5184\n",
      "5329\n",
      "5476\n",
      "5625\n",
      "5776\n",
      "5929\n",
      "6084\n",
      "6241\n",
      "6400\n",
      "6561\n",
      "6724\n",
      "6889\n",
      "7056\n",
      "7225\n",
      "7396\n",
      "7569\n",
      "7744\n",
      "7921\n",
      "8100\n",
      "8281\n",
      "8464\n",
      "8649\n",
      "8836\n",
      "9025\n",
      "9216\n",
      "9409\n",
      "9604\n",
      "9801\n",
      "10000\n",
      "10201\n",
      "10404\n",
      "10609\n",
      "10816\n",
      "11025\n",
      "11236\n",
      "11449\n",
      "11664\n",
      "11881\n",
      "12100\n",
      "12321\n",
      "12544\n",
      "12769\n",
      "12996\n",
      "13225\n",
      "13456\n",
      "13689\n",
      "13924\n",
      "14161\n",
      "14400\n",
      "14641\n",
      "14884\n",
      "15129\n",
      "15376\n",
      "15625\n",
      "15876\n",
      "16129\n",
      "16384\n",
      "16641\n",
      "16900\n",
      "17161\n",
      "17424\n",
      "17689\n",
      "17956\n",
      "18225\n",
      "18496\n",
      "18769\n",
      "19044\n",
      "19321\n",
      "19600\n",
      "19881\n",
      "20164\n",
      "20449\n",
      "20736\n",
      "21025\n",
      "21316\n",
      "21609\n",
      "21904\n",
      "22201\n",
      "22500\n",
      "22801\n",
      "23104\n",
      "23409\n",
      "23716\n",
      "24025\n",
      "24336\n",
      "24649\n",
      "24964\n",
      "25281\n",
      "25600\n",
      "25921\n",
      "26244\n",
      "26569\n",
      "26896\n",
      "27225\n",
      "27556\n",
      "27889\n",
      "28224\n",
      "28561\n",
      "28900\n",
      "29241\n",
      "29584\n",
      "29929\n",
      "30276\n",
      "30625\n",
      "30976\n",
      "31329\n",
      "31684\n",
      "32041\n",
      "32400\n",
      "32761\n",
      "33124\n",
      "33489\n",
      "33856\n",
      "34225\n",
      "34596\n",
      "34969\n",
      "35344\n",
      "35721\n",
      "36100\n",
      "36481\n",
      "36864\n",
      "37249\n",
      "37636\n",
      "38025\n",
      "38416\n",
      "38809\n",
      "39204\n",
      "39601\n",
      "40000\n",
      "40401\n",
      "40804\n",
      "41209\n",
      "41616\n",
      "42025\n",
      "42436\n",
      "42849\n",
      "43264\n",
      "43681\n",
      "44100\n",
      "44521\n",
      "44944\n",
      "45369\n",
      "45796\n",
      "46225\n",
      "46656\n",
      "47089\n",
      "47524\n",
      "47961\n",
      "48400\n",
      "48841\n",
      "49284\n",
      "49729\n",
      "50176\n",
      "50625\n",
      "51076\n",
      "51529\n",
      "51984\n",
      "52441\n",
      "52900\n",
      "53361\n",
      "53824\n",
      "54289\n",
      "54756\n",
      "55225\n",
      "55696\n",
      "56169\n",
      "56644\n",
      "57121\n",
      "57600\n",
      "58081\n",
      "58564\n",
      "59049\n",
      "59536\n",
      "60025\n",
      "60516\n",
      "61009\n",
      "61504\n",
      "62001\n",
      "62500\n",
      "63001\n",
      "63504\n",
      "64009\n",
      "64516\n",
      "65025\n",
      "65536\n",
      "66049\n",
      "66564\n",
      "67081\n",
      "67600\n",
      "68121\n",
      "68644\n",
      "69169\n",
      "69696\n",
      "70225\n",
      "70756\n",
      "71289\n",
      "71824\n",
      "72361\n",
      "72900\n",
      "73441\n",
      "73984\n",
      "74529\n",
      "75076\n",
      "75625\n",
      "76176\n",
      "76729\n",
      "77284\n",
      "77841\n",
      "78400\n",
      "78961\n",
      "79524\n",
      "80089\n",
      "80656\n",
      "81225\n",
      "81796\n",
      "82369\n",
      "82944\n",
      "83521\n",
      "84100\n",
      "84681\n",
      "85264\n",
      "85849\n",
      "86436\n",
      "87025\n",
      "87616\n",
      "88209\n",
      "88804\n",
      "89401\n",
      "90000\n",
      "90601\n",
      "91204\n",
      "91809\n",
      "92416\n",
      "93025\n",
      "93636\n",
      "94249\n",
      "94864\n",
      "95481\n",
      "96100\n",
      "96721\n",
      "97344\n",
      "97969\n",
      "98596\n",
      "99225\n",
      "99856\n",
      "100489\n",
      "101124\n",
      "101761\n",
      "102400\n",
      "103041\n",
      "103684\n",
      "104329\n",
      "104976\n",
      "105625\n",
      "106276\n",
      "106929\n",
      "107584\n",
      "108241\n",
      "108900\n",
      "109561\n",
      "110224\n",
      "110889\n",
      "111556\n",
      "112225\n",
      "112896\n",
      "113569\n",
      "114244\n",
      "114921\n",
      "115600\n",
      "116281\n",
      "116964\n",
      "117649\n",
      "118336\n",
      "119025\n",
      "119716\n",
      "120409\n",
      "121104\n",
      "121801\n",
      "122500\n",
      "123201\n",
      "123904\n",
      "124609\n",
      "125316\n",
      "126025\n",
      "126736\n",
      "127449\n",
      "128164\n",
      "128881\n",
      "129600\n",
      "130321\n",
      "131044\n",
      "131769\n",
      "132496\n",
      "133225\n",
      "133956\n",
      "134689\n",
      "135424\n",
      "136161\n",
      "136900\n",
      "137641\n",
      "138384\n",
      "139129\n",
      "139876\n",
      "140625\n",
      "141376\n",
      "142129\n",
      "142884\n",
      "143641\n",
      "144400\n",
      "145161\n",
      "145924\n",
      "146689\n",
      "147456\n",
      "148225\n",
      "148996\n",
      "149769\n",
      "150544\n",
      "151321\n",
      "152100\n",
      "152881\n",
      "153664\n",
      "154449\n",
      "155236\n",
      "156025\n",
      "156816\n",
      "157609\n",
      "158404\n",
      "159201\n",
      "160000\n",
      "160801\n",
      "161604\n",
      "162409\n",
      "163216\n",
      "164025\n",
      "164836\n",
      "165649\n",
      "166464\n",
      "167281\n",
      "168100\n",
      "168921\n",
      "169744\n",
      "170569\n",
      "171396\n",
      "172225\n",
      "173056\n",
      "173889\n",
      "174724\n",
      "175561\n",
      "176400\n",
      "177241\n",
      "178084\n",
      "178929\n",
      "179776\n",
      "180625\n",
      "181476\n",
      "182329\n",
      "183184\n",
      "184041\n",
      "184900\n",
      "185761\n",
      "186624\n",
      "187489\n",
      "188356\n",
      "189225\n",
      "190096\n",
      "190969\n",
      "191844\n",
      "192721\n",
      "193600\n",
      "194481\n",
      "195364\n",
      "196249\n",
      "197136\n",
      "198025\n",
      "198916\n",
      "199809\n",
      "200704\n",
      "201601\n",
      "202500\n",
      "203401\n",
      "204304\n",
      "205209\n",
      "206116\n",
      "207025\n",
      "207936\n",
      "208849\n",
      "209764\n",
      "210681\n",
      "211600\n",
      "212521\n",
      "213444\n",
      "214369\n",
      "215296\n",
      "216225\n",
      "217156\n",
      "218089\n",
      "219024\n",
      "219961\n",
      "220900\n",
      "221841\n",
      "222784\n",
      "223729\n",
      "224676\n",
      "225625\n",
      "226576\n",
      "227529\n",
      "228484\n",
      "229441\n",
      "230400\n",
      "231361\n",
      "232324\n",
      "233289\n",
      "234256\n",
      "235225\n",
      "236196\n",
      "237169\n",
      "238144\n",
      "239121\n",
      "240100\n",
      "241081\n",
      "242064\n",
      "243049\n",
      "244036\n",
      "245025\n",
      "246016\n",
      "247009\n",
      "248004\n",
      "249001\n",
      "250000\n",
      "251001\n",
      "252004\n",
      "253009\n",
      "254016\n",
      "255025\n",
      "256036\n",
      "257049\n",
      "258064\n",
      "259081\n",
      "260100\n",
      "261121\n",
      "262144\n",
      "263169\n",
      "264196\n",
      "265225\n",
      "266256\n",
      "267289\n",
      "268324\n",
      "269361\n",
      "270400\n",
      "271441\n",
      "272484\n",
      "273529\n",
      "274576\n",
      "275625\n",
      "276676\n",
      "277729\n",
      "278784\n",
      "279841\n",
      "280900\n",
      "281961\n",
      "283024\n",
      "284089\n",
      "285156\n",
      "286225\n",
      "287296\n",
      "288369\n",
      "289444\n",
      "290521\n",
      "291600\n",
      "292681\n",
      "293764\n",
      "294849\n",
      "295936\n",
      "297025\n",
      "298116\n",
      "299209\n",
      "300304\n",
      "301401\n",
      "302500\n",
      "303601\n",
      "304704\n",
      "305809\n",
      "306916\n",
      "308025\n",
      "309136\n",
      "310249\n",
      "311364\n",
      "312481\n",
      "313600\n",
      "314721\n",
      "315844\n",
      "316969\n",
      "318096\n",
      "319225\n",
      "320356\n",
      "321489\n",
      "322624\n",
      "323761\n",
      "324900\n",
      "326041\n",
      "327184\n",
      "328329\n",
      "329476\n",
      "330625\n",
      "331776\n",
      "332929\n",
      "334084\n",
      "335241\n",
      "336400\n",
      "337561\n",
      "338724\n",
      "339889\n",
      "341056\n",
      "342225\n",
      "343396\n",
      "344569\n",
      "345744\n",
      "346921\n",
      "348100\n",
      "349281\n",
      "350464\n",
      "351649\n",
      "352836\n",
      "354025\n",
      "355216\n",
      "356409\n",
      "357604\n",
      "358801\n",
      "360000\n",
      "361201\n",
      "362404\n",
      "363609\n",
      "364816\n",
      "366025\n",
      "367236\n",
      "368449\n",
      "369664\n",
      "370881\n",
      "372100\n",
      "373321\n",
      "374544\n",
      "375769\n",
      "376996\n",
      "378225\n",
      "379456\n",
      "380689\n",
      "381924\n",
      "383161\n",
      "384400\n",
      "385641\n",
      "386884\n",
      "388129\n",
      "389376\n",
      "390625\n",
      "391876\n",
      "393129\n",
      "394384\n",
      "395641\n",
      "396900\n",
      "398161\n",
      "399424\n",
      "400689\n",
      "401956\n",
      "403225\n",
      "404496\n",
      "405769\n",
      "407044\n",
      "408321\n",
      "409600\n",
      "410881\n",
      "412164\n",
      "413449\n",
      "414736\n",
      "416025\n",
      "417316\n",
      "418609\n",
      "419904\n",
      "421201\n",
      "422500\n",
      "423801\n",
      "425104\n",
      "426409\n",
      "427716\n",
      "429025\n",
      "430336\n",
      "431649\n",
      "432964\n",
      "434281\n",
      "435600\n",
      "436921\n",
      "438244\n",
      "439569\n",
      "440896\n",
      "442225\n",
      "443556\n",
      "444889\n",
      "446224\n",
      "447561\n",
      "448900\n",
      "450241\n",
      "451584\n",
      "452929\n",
      "454276\n",
      "455625\n",
      "456976\n",
      "458329\n",
      "459684\n",
      "461041\n",
      "462400\n",
      "463761\n",
      "465124\n",
      "466489\n",
      "467856\n",
      "469225\n",
      "470596\n",
      "471969\n",
      "473344\n",
      "474721\n",
      "476100\n",
      "477481\n",
      "478864\n",
      "480249\n",
      "481636\n",
      "483025\n",
      "484416\n",
      "485809\n",
      "487204\n",
      "488601\n",
      "490000\n",
      "491401\n",
      "492804\n",
      "494209\n",
      "495616\n",
      "497025\n",
      "498436\n",
      "499849\n",
      "501264\n",
      "502681\n",
      "504100\n",
      "505521\n",
      "506944\n",
      "508369\n",
      "509796\n",
      "511225\n",
      "512656\n",
      "514089\n",
      "515524\n",
      "516961\n",
      "518400\n",
      "519841\n",
      "521284\n",
      "522729\n",
      "524176\n",
      "525625\n",
      "527076\n",
      "528529\n",
      "529984\n",
      "531441\n",
      "532900\n",
      "534361\n",
      "535824\n",
      "537289\n",
      "538756\n",
      "540225\n",
      "541696\n",
      "543169\n",
      "544644\n",
      "546121\n",
      "547600\n",
      "549081\n",
      "550564\n",
      "552049\n",
      "553536\n",
      "555025\n",
      "556516\n",
      "558009\n",
      "559504\n",
      "561001\n",
      "562500\n",
      "564001\n",
      "565504\n",
      "567009\n",
      "568516\n",
      "570025\n",
      "571536\n",
      "573049\n",
      "574564\n",
      "576081\n",
      "577600\n",
      "579121\n",
      "580644\n",
      "582169\n",
      "583696\n",
      "585225\n",
      "586756\n",
      "588289\n",
      "589824\n",
      "591361\n",
      "592900\n",
      "594441\n",
      "595984\n",
      "597529\n",
      "599076\n",
      "600625\n",
      "602176\n",
      "603729\n",
      "605284\n",
      "606841\n",
      "608400\n",
      "609961\n",
      "611524\n",
      "613089\n",
      "614656\n",
      "616225\n",
      "617796\n",
      "619369\n",
      "620944\n",
      "622521\n",
      "624100\n",
      "625681\n",
      "627264\n",
      "628849\n",
      "630436\n",
      "632025\n",
      "633616\n",
      "635209\n",
      "636804\n",
      "638401\n",
      "640000\n",
      "641601\n",
      "643204\n",
      "644809\n",
      "646416\n",
      "648025\n",
      "649636\n",
      "651249\n",
      "652864\n",
      "654481\n",
      "656100\n",
      "657721\n",
      "659344\n",
      "660969\n",
      "662596\n",
      "664225\n",
      "665856\n",
      "667489\n",
      "669124\n",
      "670761\n",
      "672400\n",
      "674041\n",
      "675684\n",
      "677329\n",
      "678976\n",
      "680625\n",
      "682276\n",
      "683929\n",
      "685584\n",
      "687241\n",
      "688900\n",
      "690561\n",
      "692224\n",
      "693889\n",
      "695556\n",
      "697225\n",
      "698896\n",
      "700569\n",
      "702244\n",
      "703921\n",
      "705600\n",
      "707281\n",
      "708964\n",
      "710649\n",
      "712336\n",
      "714025\n",
      "715716\n",
      "717409\n",
      "719104\n",
      "720801\n",
      "722500\n",
      "724201\n",
      "725904\n",
      "727609\n",
      "729316\n",
      "731025\n",
      "732736\n",
      "734449\n",
      "736164\n",
      "737881\n",
      "739600\n",
      "741321\n",
      "743044\n",
      "744769\n",
      "746496\n",
      "748225\n",
      "749956\n",
      "751689\n",
      "753424\n",
      "755161\n",
      "756900\n",
      "758641\n",
      "760384\n",
      "762129\n",
      "763876\n",
      "765625\n",
      "767376\n",
      "769129\n",
      "770884\n",
      "772641\n",
      "774400\n",
      "776161\n",
      "777924\n",
      "779689\n",
      "781456\n",
      "783225\n",
      "784996\n",
      "786769\n",
      "788544\n",
      "790321\n",
      "792100\n",
      "793881\n",
      "795664\n",
      "797449\n",
      "799236\n",
      "801025\n",
      "802816\n",
      "804609\n",
      "806404\n",
      "808201\n",
      "810000\n",
      "811801\n",
      "813604\n",
      "815409\n",
      "817216\n",
      "819025\n",
      "820836\n",
      "822649\n",
      "824464\n",
      "826281\n",
      "828100\n",
      "829921\n",
      "831744\n",
      "833569\n",
      "835396\n",
      "837225\n",
      "839056\n",
      "840889\n",
      "842724\n",
      "844561\n",
      "846400\n",
      "848241\n",
      "850084\n",
      "851929\n",
      "853776\n",
      "855625\n",
      "857476\n",
      "859329\n",
      "861184\n",
      "863041\n",
      "864900\n",
      "866761\n",
      "868624\n",
      "870489\n",
      "872356\n",
      "874225\n",
      "876096\n",
      "877969\n",
      "879844\n",
      "881721\n",
      "883600\n",
      "885481\n",
      "887364\n",
      "889249\n",
      "891136\n",
      "893025\n",
      "894916\n",
      "896809\n",
      "898704\n",
      "900601\n",
      "902500\n",
      "904401\n",
      "906304\n",
      "908209\n",
      "910116\n",
      "912025\n",
      "913936\n",
      "915849\n",
      "917764\n",
      "919681\n",
      "921600\n",
      "923521\n",
      "925444\n",
      "927369\n",
      "929296\n",
      "931225\n",
      "933156\n",
      "935089\n",
      "937024\n",
      "938961\n",
      "940900\n",
      "942841\n",
      "944784\n",
      "946729\n",
      "948676\n",
      "950625\n",
      "952576\n",
      "954529\n",
      "956484\n",
      "958441\n",
      "960400\n",
      "962361\n",
      "964324\n",
      "966289\n",
      "968256\n",
      "970225\n",
      "972196\n",
      "974169\n",
      "976144\n",
      "978121\n",
      "980100\n",
      "982081\n",
      "984064\n",
      "986049\n",
      "988036\n",
      "990025\n",
      "992016\n",
      "994009\n",
      "996004\n",
      "998001\n",
      "1000000\n",
      "1002001\n",
      "1004004\n",
      "1006009\n",
      "1008016\n",
      "1010025\n",
      "1012036\n",
      "1014049\n",
      "1016064\n"
     ]
    }
   ],
   "source": [
    "x = (range(1009))\n",
    "\n",
    "for i in x:\n",
    "    print(i**2)"
   ]
  },
  {
   "cell_type": "code",
   "execution_count": 101,
   "id": "b4e16483",
   "metadata": {
    "ExecuteTime": {
     "end_time": "2024-08-10T21:46:32.990431Z",
     "start_time": "2024-08-10T21:46:32.979364Z"
    },
    "hidden": true
   },
   "outputs": [
    {
     "data": {
      "text/plain": [
       "48"
      ]
     },
     "execution_count": 101,
     "metadata": {},
     "output_type": "execute_result"
    }
   ],
   "source": [
    "sys.getsizeof(x)"
   ]
  },
  {
   "cell_type": "markdown",
   "id": "297f8790",
   "metadata": {
    "hidden": true
   },
   "source": [
    "#### NOTE : Difference of size between iterators and generators is too much"
   ]
  },
  {
   "cell_type": "markdown",
   "id": "cdf4c78f",
   "metadata": {
    "hidden": true
   },
   "source": [
    "#### we can still use \"for-loops\" here:"
   ]
  },
  {
   "cell_type": "code",
   "execution_count": 85,
   "id": "6de67b4e",
   "metadata": {
    "ExecuteTime": {
     "end_time": "2024-02-06T23:40:37.553105Z",
     "start_time": "2024-02-06T23:40:37.548089Z"
    },
    "hidden": true
   },
   "outputs": [
    {
     "name": "stdout",
     "output_type": "stream",
     "text": [
      "1\n",
      "4\n",
      "9\n",
      "16\n",
      "25\n",
      "36\n"
     ]
    }
   ],
   "source": [
    "for num in my_nums:\n",
    "    print(num)"
   ]
  },
  {
   "cell_type": "markdown",
   "id": "48fe28a3",
   "metadata": {
    "hidden": true
   },
   "source": [
    "### NOTE : \"for-loops\" knew when to stop without throwing stopiteration error"
   ]
  },
  {
   "cell_type": "markdown",
   "id": "898f7a68",
   "metadata": {
    "hidden": true
   },
   "source": [
    "#### doing same using list list comprehension:"
   ]
  },
  {
   "cell_type": "code",
   "execution_count": 95,
   "id": "015e9034",
   "metadata": {
    "ExecuteTime": {
     "end_time": "2024-02-06T23:43:35.362563Z",
     "start_time": "2024-02-06T23:43:35.356262Z"
    },
    "hidden": true
   },
   "outputs": [],
   "source": [
    "my_nums = [x*x for x in [1,2,3,4,5]]"
   ]
  },
  {
   "cell_type": "code",
   "execution_count": 96,
   "id": "f6bd100c",
   "metadata": {
    "ExecuteTime": {
     "end_time": "2024-02-06T23:43:35.771642Z",
     "start_time": "2024-02-06T23:43:35.763350Z"
    },
    "hidden": true
   },
   "outputs": [
    {
     "name": "stdout",
     "output_type": "stream",
     "text": [
      "[1, 4, 9, 16, 25]\n"
     ]
    }
   ],
   "source": [
    "print(my_nums)"
   ]
  },
  {
   "cell_type": "code",
   "execution_count": 97,
   "id": "0fc82c84",
   "metadata": {
    "ExecuteTime": {
     "end_time": "2024-02-06T23:43:36.252160Z",
     "start_time": "2024-02-06T23:43:36.238631Z"
    },
    "hidden": true
   },
   "outputs": [
    {
     "name": "stdout",
     "output_type": "stream",
     "text": [
      "1\n",
      "4\n",
      "9\n",
      "16\n",
      "25\n"
     ]
    }
   ],
   "source": [
    "for num in my_nums:\n",
    "    print(num)\n",
    "    "
   ]
  },
  {
   "cell_type": "markdown",
   "id": "f658e059",
   "metadata": {
    "hidden": true
   },
   "source": [
    "#### now creating generator for the same:"
   ]
  },
  {
   "cell_type": "code",
   "execution_count": 92,
   "id": "4db1269c",
   "metadata": {
    "ExecuteTime": {
     "end_time": "2024-02-06T23:43:10.870260Z",
     "start_time": "2024-02-06T23:43:10.857259Z"
    },
    "hidden": true
   },
   "outputs": [],
   "source": [
    "my_nums = (x*x for x in [1,2,3,4,5])"
   ]
  },
  {
   "cell_type": "code",
   "execution_count": 93,
   "id": "eb7e4011",
   "metadata": {
    "ExecuteTime": {
     "end_time": "2024-02-06T23:43:20.204967Z",
     "start_time": "2024-02-06T23:43:20.184596Z"
    },
    "hidden": true
   },
   "outputs": [
    {
     "name": "stdout",
     "output_type": "stream",
     "text": [
      "<generator object <genexpr> at 0x00000181FE1740B0>\n"
     ]
    }
   ],
   "source": [
    "print(my_nums)"
   ]
  },
  {
   "cell_type": "code",
   "execution_count": 94,
   "id": "701cd114",
   "metadata": {
    "ExecuteTime": {
     "end_time": "2024-02-06T23:43:31.910489Z",
     "start_time": "2024-02-06T23:43:31.896298Z"
    },
    "hidden": true
   },
   "outputs": [
    {
     "name": "stdout",
     "output_type": "stream",
     "text": [
      "1\n",
      "4\n",
      "9\n",
      "16\n",
      "25\n"
     ]
    }
   ],
   "source": [
    "for num in my_nums:\n",
    "    print(num)\n",
    "    "
   ]
  },
  {
   "cell_type": "markdown",
   "id": "a447679c",
   "metadata": {
    "hidden": true
   },
   "source": [
    "### old school way of creating iterators and iterables:"
   ]
  },
  {
   "cell_type": "code",
   "execution_count": 98,
   "id": "433c999b",
   "metadata": {
    "ExecuteTime": {
     "end_time": "2024-02-06T23:46:53.597270Z",
     "start_time": "2024-02-06T23:46:53.582807Z"
    },
    "hidden": true
   },
   "outputs": [],
   "source": [
    "# iterable\n",
    "class mera_range:\n",
    "    \n",
    "    def __init__(self,start,end):\n",
    "        self.start = start\n",
    "        self.end = end\n",
    "        \n",
    "    def __iter__(self):\n",
    "        return mera_iterator(self)\n",
    "    \n",
    "\n",
    "# iterator\n",
    "class mera_iterator:\n",
    "    \n",
    "    def __init__(self,iterable_obj):\n",
    "        self.iterable = iterable_obj\n",
    "    \n",
    "    def __iter__(self):\n",
    "        return self\n",
    "    \n",
    "    def __next__(self):\n",
    "        \n",
    "        if self.iterable.start >= self.iterable.end:\n",
    "            raise StopIteration\n",
    "        \n",
    "        current = self.iterable.start\n",
    "        self.iterable.start+=1\n",
    "        return current"
   ]
  },
  {
   "cell_type": "markdown",
   "id": "875edb12",
   "metadata": {
    "hidden": true
   },
   "source": [
    "## Range Function using Generator (MeraGenerator class) in 2 lines:"
   ]
  },
  {
   "cell_type": "code",
   "execution_count": 119,
   "id": "14721877",
   "metadata": {
    "ExecuteTime": {
     "end_time": "2024-02-06T23:59:53.612188Z",
     "start_time": "2024-02-06T23:59:53.593784Z"
    },
    "hidden": true
   },
   "outputs": [],
   "source": [
    "def mera_range(start,end):\n",
    "    \n",
    "    for i in range(start,end):\n",
    "        yield i"
   ]
  },
  {
   "cell_type": "code",
   "execution_count": 120,
   "id": "7f438fad",
   "metadata": {
    "ExecuteTime": {
     "end_time": "2024-02-06T23:59:55.833572Z",
     "start_time": "2024-02-06T23:59:55.823046Z"
    },
    "hidden": true
   },
   "outputs": [
    {
     "name": "stdout",
     "output_type": "stream",
     "text": [
      "15\n",
      "16\n",
      "17\n",
      "18\n",
      "19\n",
      "20\n",
      "21\n",
      "22\n",
      "23\n",
      "24\n",
      "25\n"
     ]
    }
   ],
   "source": [
    "for i in mera_range(15,26):\n",
    "    print(i)"
   ]
  },
  {
   "cell_type": "markdown",
   "id": "6d728e79",
   "metadata": {
    "hidden": true
   },
   "source": [
    "## Using Generator Expressions :\n"
   ]
  },
  {
   "cell_type": "code",
   "execution_count": 95,
   "id": "c9c32c24",
   "metadata": {
    "ExecuteTime": {
     "end_time": "2024-08-10T21:27:49.278528Z",
     "start_time": "2024-08-10T21:27:49.275023Z"
    },
    "hidden": true
   },
   "outputs": [],
   "source": [
    "import itertools\n",
    "import sys"
   ]
  },
  {
   "cell_type": "code",
   "execution_count": 93,
   "id": "5bdc913c",
   "metadata": {
    "ExecuteTime": {
     "end_time": "2024-08-10T21:27:08.920222Z",
     "start_time": "2024-08-10T21:27:08.911691Z"
    },
    "hidden": true
   },
   "outputs": [
    {
     "name": "stdout",
     "output_type": "stream",
     "text": [
      "1\n",
      "4\n",
      "9\n",
      "16\n",
      "25\n",
      "36\n",
      "49\n",
      "64\n",
      "81\n",
      "100\n",
      "121\n",
      "144\n",
      "169\n",
      "196\n",
      "225\n"
     ]
    }
   ],
   "source": [
    "squares = (x**2 for x in itertools.count(1))\n",
    "\n",
    "\n",
    "\n",
    "for x in squares:\n",
    "    print(x)\n",
    "    \n",
    "    if x> 200:\n",
    "        squares.close()"
   ]
  },
  {
   "cell_type": "code",
   "execution_count": 98,
   "id": "c77cf5f1",
   "metadata": {
    "ExecuteTime": {
     "end_time": "2024-08-10T21:30:10.570394Z",
     "start_time": "2024-08-10T21:30:10.558876Z"
    },
    "hidden": true
   },
   "outputs": [
    {
     "name": "stdout",
     "output_type": "stream",
     "text": [
      "type <class 'generator'>\n",
      "size 112 bytes\n"
     ]
    }
   ],
   "source": [
    "print('type',type(squares))\n",
    "print('size',sys.getsizeof(squares),'bytes')"
   ]
  },
  {
   "cell_type": "markdown",
   "id": "e430c139",
   "metadata": {
    "hidden": true
   },
   "source": [
    "#### comparing generators with list comprehension : "
   ]
  },
  {
   "cell_type": "code",
   "execution_count": 99,
   "id": "8ad509b7",
   "metadata": {
    "ExecuteTime": {
     "end_time": "2024-08-10T21:30:12.520093Z",
     "start_time": "2024-08-10T21:30:12.515816Z"
    },
    "hidden": true
   },
   "outputs": [
    {
     "name": "stdout",
     "output_type": "stream",
     "text": [
      "type <class 'list'>\n",
      "size 1656 bytes\n"
     ]
    }
   ],
   "source": [
    "L = [x**2 for x in range(200)]\n",
    "print('type',type(L))\n",
    "print('size',sys.getsizeof(L),'bytes')"
   ]
  },
  {
   "cell_type": "markdown",
   "id": "0c7d14fc",
   "metadata": {
    "hidden": true
   },
   "source": [
    "## Practical Example => Loading Images one by one  \n",
    "\n",
    "### *Don't run this code*"
   ]
  },
  {
   "cell_type": "code",
   "execution_count": 9,
   "id": "b03eb0a7",
   "metadata": {
    "hidden": true
   },
   "outputs": [],
   "source": [
    "import os\n",
    "import cv2\n",
    "\n",
    "def image_data_reader(folder_path):\n",
    "\n",
    "    for file in os.listdir(folder_path):\n",
    "        f_array = cv2.imread(os.path.join(folder_path,file))\n",
    "        yield f_array\n",
    "    "
   ]
  },
  {
   "cell_type": "code",
   "execution_count": 50,
   "id": "c0ccdc67",
   "metadata": {
    "hidden": true
   },
   "outputs": [
    {
     "data": {
      "text/plain": [
       "array([[[ 38,  38,  38],\n",
       "        [ 26,  26,  26],\n",
       "        [ 23,  23,  23],\n",
       "        ...,\n",
       "        [198, 198, 198],\n",
       "        [196, 196, 196],\n",
       "        [167, 167, 167]],\n",
       "\n",
       "       [[ 32,  32,  32],\n",
       "        [ 25,  25,  25],\n",
       "        [ 26,  26,  26],\n",
       "        ...,\n",
       "        [194, 194, 194],\n",
       "        [204, 204, 204],\n",
       "        [181, 181, 181]],\n",
       "\n",
       "       [[ 44,  44,  44],\n",
       "        [ 42,  42,  42],\n",
       "        [ 38,  38,  38],\n",
       "        ...,\n",
       "        [156, 156, 156],\n",
       "        [214, 214, 214],\n",
       "        [199, 199, 199]],\n",
       "\n",
       "       ...,\n",
       "\n",
       "       [[150, 150, 150],\n",
       "        [165, 165, 165],\n",
       "        [186, 186, 186],\n",
       "        ...,\n",
       "        [229, 229, 229],\n",
       "        [226, 226, 226],\n",
       "        [239, 239, 239]],\n",
       "\n",
       "       [[145, 145, 145],\n",
       "        [156, 156, 156],\n",
       "        [180, 180, 180],\n",
       "        ...,\n",
       "        [227, 227, 227],\n",
       "        [228, 228, 228],\n",
       "        [221, 221, 221]],\n",
       "\n",
       "       [[144, 144, 144],\n",
       "        [150, 150, 150],\n",
       "        [172, 172, 172],\n",
       "        ...,\n",
       "        [211, 211, 211],\n",
       "        [189, 189, 189],\n",
       "        [217, 217, 217]]], dtype=uint8)"
      ]
     },
     "execution_count": 50,
     "metadata": {},
     "output_type": "execute_result"
    }
   ],
   "source": [
    "gen = image_data_reader('C:/Users/91842/emotion-detector/train/Sad')\n",
    "\n",
    "next(gen)\n",
    "next(gen)\n",
    "\n",
    "next(gen)\n",
    "next(gen)"
   ]
  },
  {
   "cell_type": "markdown",
   "id": "8cb79570",
   "metadata": {
    "hidden": true
   },
   "source": [
    "## Benefits of using a Generator"
   ]
  },
  {
   "cell_type": "markdown",
   "id": "3329b0d1",
   "metadata": {
    "hidden": true
   },
   "source": [
    "#### 1. Ease of Implementation"
   ]
  },
  {
   "cell_type": "code",
   "execution_count": null,
   "id": "a1cae9cd",
   "metadata": {
    "hidden": true
   },
   "outputs": [],
   "source": [
    "class mera_range:\n",
    "    \n",
    "    def __init__(self,start,end):\n",
    "        self.start = start\n",
    "        self.end = end\n",
    "        \n",
    "    def __iter__(self):\n",
    "        return mera_iterator(self)"
   ]
  },
  {
   "cell_type": "code",
   "execution_count": null,
   "id": "a16123e0",
   "metadata": {
    "hidden": true
   },
   "outputs": [],
   "source": [
    "# iterator\n",
    "class mera_iterator:\n",
    "    \n",
    "    def __init__(self,iterable_obj):\n",
    "        self.iterable = iterable_obj\n",
    "    \n",
    "    def __iter__(self):\n",
    "        return self\n",
    "    \n",
    "    def __next__(self):\n",
    "        \n",
    "        if self.iterable.start >= self.iterable.end:\n",
    "            raise StopIteration\n",
    "        \n",
    "        current = self.iterable.start\n",
    "        self.iterable.start+=1\n",
    "        return current"
   ]
  },
  {
   "cell_type": "markdown",
   "id": "900e892b",
   "metadata": {
    "hidden": true
   },
   "source": [
    "#### instead we use generators: "
   ]
  },
  {
   "cell_type": "code",
   "execution_count": null,
   "id": "999b118f",
   "metadata": {
    "hidden": true
   },
   "outputs": [],
   "source": [
    "def mera_range(start,end):\n",
    "    \n",
    "    for i in range(start,end):\n",
    "        yield i"
   ]
  },
  {
   "cell_type": "markdown",
   "id": "1cee95cb",
   "metadata": {
    "hidden": true
   },
   "source": [
    "#### 2. Memory Efficient"
   ]
  },
  {
   "cell_type": "code",
   "execution_count": 51,
   "id": "d9886270",
   "metadata": {
    "hidden": true
   },
   "outputs": [
    {
     "name": "stdout",
     "output_type": "stream",
     "text": [
      "Size of L in memory 824456\n",
      "Size of gen in memory 112\n"
     ]
    }
   ],
   "source": [
    "L = [x for x in range(100000)]\n",
    "gen = (x for x in range(100000))\n",
    "\n",
    "import sys\n",
    "\n",
    "print('Size of L in memory',sys.getsizeof(L))\n",
    "print('Size of gen in memory',sys.getsizeof(gen))"
   ]
  },
  {
   "cell_type": "markdown",
   "id": "5d7c5229",
   "metadata": {
    "hidden": true
   },
   "source": [
    "#### 3. Representing Infinite Streams"
   ]
  },
  {
   "cell_type": "code",
   "execution_count": 18,
   "id": "a144da66",
   "metadata": {
    "hidden": true
   },
   "outputs": [],
   "source": [
    "def all_even():\n",
    "    n = 0\n",
    "    while True:\n",
    "        yield n\n",
    "        n += 2"
   ]
  },
  {
   "cell_type": "code",
   "execution_count": 20,
   "id": "04b11520",
   "metadata": {
    "hidden": true
   },
   "outputs": [
    {
     "data": {
      "text/plain": [
       "2"
      ]
     },
     "execution_count": 20,
     "metadata": {},
     "output_type": "execute_result"
    }
   ],
   "source": [
    "even_num_gen = all_even()\n",
    "next(even_num_gen)\n",
    "next(even_num_gen)"
   ]
  },
  {
   "cell_type": "markdown",
   "id": "e80fec2f",
   "metadata": {
    "hidden": true
   },
   "source": [
    "#### 4. Chaining Generators"
   ]
  },
  {
   "cell_type": "code",
   "execution_count": 21,
   "id": "fc9972b1",
   "metadata": {
    "hidden": true
   },
   "outputs": [
    {
     "name": "stdout",
     "output_type": "stream",
     "text": [
      "4895\n"
     ]
    }
   ],
   "source": [
    "def fibonacci_numbers(nums):\n",
    "    x, y = 0, 1\n",
    "    for _ in range(nums):\n",
    "        x, y = y, x+y\n",
    "        yield x\n",
    "\n",
    "def square(nums):\n",
    "    for num in nums:\n",
    "        yield num**2\n",
    "\n",
    "print(sum(square(fibonacci_numbers(10))))"
   ]
  },
  {
   "cell_type": "markdown",
   "id": "7b081e0f",
   "metadata": {
    "hidden": true
   },
   "source": [
    "---"
   ]
  },
  {
   "cell_type": "markdown",
   "id": "3d77ae37",
   "metadata": {},
   "source": [
    "# Itertools"
   ]
  },
  {
   "cell_type": "markdown",
   "id": "2375a21e",
   "metadata": {},
   "source": [
    "corey schafer : https://youtu.be/Qu3dThVy6KQ\n",
    "\n",
    "edureka : https://youtu.be/LdBCcYl7Dw8"
   ]
  },
  {
   "cell_type": "code",
   "execution_count": 1,
   "id": "c8769c6c",
   "metadata": {
    "ExecuteTime": {
     "end_time": "2024-02-07T00:35:45.233234Z",
     "start_time": "2024-02-07T00:35:45.217191Z"
    }
   },
   "outputs": [],
   "source": [
    "import itertools"
   ]
  },
  {
   "cell_type": "markdown",
   "id": "5de6c63d",
   "metadata": {},
   "source": [
    "1. `accumulate(iterable[, func])`: Returns accumulated sums (or specified binary function) of elements.\n",
    "\n",
    "\n",
    "2. `chain(*iterables)`: Chains together iterables into a single sequence.\n",
    "\n",
    "\n",
    "3. `combinations(iterable, r)`: Generates all possible combinations of length r from the iterable.\n",
    "\n",
    "\n",
    "4. `combinations_with_replacement(iterable, r)`: Generates combinations with replacement of length r from the iterable.\n",
    "\n",
    "\n",
    "5. `count(start=0, step=1)`: Generates an infinite sequence of evenly spaced values.\n",
    "\n",
    "\n",
    "6. `cycle(iterable)`: Cycles through the elements of the iterable indefinitely.\n",
    "\n",
    "\n",
    "7. `dropwhile(predicate, iterable)`: Drops elements from the iterable while the predicate is true, then yields the rest.\n",
    "\n",
    "\n",
    "8. `filterfalse(predicate, iterable)`: Yields elements from the iterable where the predicate is false.\n",
    "\n",
    "\n",
    "9. `groupby(iterable, key=None)`: Groups consecutive elements of the iterable by a common key function.\n",
    "\n",
    "\n",
    "10. `islice(iterable, stop)`: Returns a slice of the iterable up to stop.\n",
    "\n",
    "\n",
    "11. `permutations(iterable, r=None)`: Generates all possible permutations of length r from the iterable.\n",
    "\n",
    "\n",
    "12. `product(*iterables, repeat=1)`: Generates the Cartesian product of iterables.\n",
    "\n",
    "\n",
    "13. `repeat(object[, times])`: Returns object indefinitely or specified times.\n",
    "\n",
    "\n",
    "14. `starmap(function, iterable)`: Applies a function to each element of the iterable unpacked as arguments.\n",
    "\n",
    "\n",
    "15. `takewhile(predicate, iterable)`: Yields elements from the iterable while the predicate is true, then stops.\n",
    "\n",
    "\n",
    "16. `tee(iterable, n=2)`: Splits the iterable into n independent iterators.\n",
    "\n",
    "\n",
    "17. `zip_longest(*iterables, fillvalue=None)`: Zips iterables together, filling missing values with fillvalue."
   ]
  },
  {
   "cell_type": "markdown",
   "id": "2c61d088",
   "metadata": {},
   "source": [
    "The `itertools` module in Python is a collection of tools for handling iterators. These functions operate on iterators to produce complex iterators, which can be used to efficiently work with large datasets, generate combinations, and perform various other operations. "
   ]
  },
  {
   "cell_type": "markdown",
   "id": "9799e2ca",
   "metadata": {},
   "source": [
    "## Types of Iterators : "
   ]
  },
  {
   "cell_type": "markdown",
   "id": "d3a5732d",
   "metadata": {},
   "source": [
    "### 1. **Infinite Iterators**\n",
    "These iterators generate an infinite sequence of values. They are useful when you need to create a sequence of items without a predefined end.\n",
    "\n",
    "- **`count(start=0, step=1)`**: Generates consecutive numbers, starting from `start` and incrementing by `step`.\n",
    "  \n",
    "  \n",
    "- **`cycle(iterable)`**: Repeats the elements in the given iterable indefinitely.\n",
    "\n",
    "\n",
    "- **`repeat(object, times=None)`**: Repeats the given object indefinitely or up to a specified number of times."
   ]
  },
  {
   "cell_type": "markdown",
   "id": "a3ebff66",
   "metadata": {},
   "source": [
    "### 2. **Finite Iterators**\n",
    "\n",
    "These iterators operate on finite sequences. They either return an iterator with filtered or transformed elements or combine elements from multiple iterables.\n",
    "\n",
    "- **`chain(*iterables)`**: Combines multiple iterables into a single sequence.\n",
    "\n",
    "\n",
    "- **`compress(data, selectors)`**: Filters elements from `data` based on the truthiness of the corresponding elements in `selectors`.\n",
    "\n",
    "\n",
    "- **`dropwhile(predicate, iterable)`**: Drops elements from the iterable as long as the predicate is true, then returns the rest.\n",
    "\n",
    "\n",
    "- **`takewhile(predicate, iterable)`**: Returns elements from the iterable as long as the predicate is true, and stops when the predicate becomes false.\n",
    "\n",
    "\n",
    "- **`accumulate(iterable, func=operator.add)`**: Returns accumulated results of applying a binary function (e.g., sum or multiplication) to the elements.\n",
    "\n",
    "\n",
    "- **`groupby(iterable, key=None)`**: Groups consecutive elements in the iterable based on a key function.\n",
    "\n",
    "\n",
    "- **`filterfalse(predicate, iterable)`**: Returns elements from the iterable for which the predicate is false.\n",
    "\n",
    "\n",
    "- **`starmap(function, iterable)`**: Applies a function to the elements of the iterable, where the elements are expected to be tuples.\n",
    "\n",
    "\n",
    "- **`tee(iterable, n=2)`**: Splits a single iterable into multiple iterators.\n",
    "\n",
    "\n",
    "- **`zip_longest(*iterables, fillvalue=None)`**: Iterates over several iterables in parallel, filling in missing values with `fillvalue`."
   ]
  },
  {
   "cell_type": "markdown",
   "id": "c7d5f2f1",
   "metadata": {},
   "source": [
    "### 3. **Combinatoric Iterators**\n",
    "These iterators are used to generate combinations, permutations, and Cartesian products of elements.\n",
    "\n",
    "- **`product(*iterables, repeat=1)`**: Returns the Cartesian product of input iterables.\n",
    "\n",
    "\n",
    "\n",
    "- **`permutations(iterable, r=None)`**: Generates all possible `r`-length permutations of elements in the iterable.\n",
    "\n",
    "\n",
    "\n",
    "- **`combinations(iterable, r)`**: Generates `r`-length tuples of elements from the iterable, without replacement.\n",
    "\n",
    "\n",
    "\n",
    "- **`combinations_with_replacement(iterable, r)`**: Similar to `combinations()`, but allows repeated elements. \n",
    "\n",
    "These categories help organize the diverse functionalities provided by the `itertools` module, making it easier to understand and use them effectively."
   ]
  },
  {
   "cell_type": "markdown",
   "id": "c56ff118",
   "metadata": {},
   "source": [
    "### 1. **Infinite Iterators**\n",
    "These iterators produce infinite sequences, so you need to explicitly limit the output.\n",
    "\n",
    "- **`count(start=0, step=1)`**: This function returns an iterator that generates consecutive integers, starting from `start` and incrementing by `step`.\n",
    "  \n",
    "  ```python\n",
    "  import itertools\n",
    "\n",
    "  for i in itertools.count(10, 2):\n",
    "      if i > 20:\n",
    "          break\n",
    "      print(i)\n",
    "  ```\n",
    "  Output:\n",
    "  ```\n",
    "  10\n",
    "  12\n",
    "  14\n",
    "  16\n",
    "  18\n",
    "  20\n",
    "  ```\n",
    "\n",
    "- **`cycle(iterable)`**: This function cycles through the elements of the provided iterable indefinitely.\n",
    "\n",
    "  ```python\n",
    "  import itertools\n",
    "\n",
    "  counter = 0\n",
    "  for item in itertools.cycle('AB'):\n",
    "      if counter > 5:\n",
    "          break\n",
    "      print(item)\n",
    "      counter += 1\n",
    "  ```\n",
    "  Output:\n",
    "  ```\n",
    "  A\n",
    "  B\n",
    "  A\n",
    "  B\n",
    "  A\n",
    "  B\n",
    "  ```\n",
    "\n",
    "- **`repeat(object, times=None)`**: This function repeats the given object indefinitely or up to a specified number of times.\n",
    "\n",
    "  ```python\n",
    "  import itertools\n",
    "\n",
    "  for item in itertools.repeat('Hello', 3):\n",
    "      print(item)\n",
    "  ```\n",
    "  Output:\n",
    "  ```\n",
    "  Hello\n",
    "  Hello\n",
    "  Hello\n",
    "  ```"
   ]
  },
  {
   "cell_type": "markdown",
   "id": "66b88f25",
   "metadata": {},
   "source": [
    "### 2. **Finite Iterators**\n",
    "These iterators terminate when the input sequence is exhausted.\n",
    "\n",
    "- **`chain(*iterables)`**: This function takes several iterables and returns a single iterator that produces elements from the first iterable until it's exhausted, then continues with the next iterable, and so on.\n",
    "\n",
    "  ```python\n",
    "  import itertools\n",
    "\n",
    "  result = list(itertools.chain([1, 2], ['a', 'b'], [3.5, 4.5]))\n",
    "  print(result)\n",
    "  ```\n",
    "  Output:\n",
    "  ```\n",
    "  [1, 2, 'a', 'b', 3.5, 4.5]\n",
    "  ```\n",
    "\n",
    "- **`compress(data, selectors)`**: This function filters elements from `data`, returning only those that have corresponding elements in `selectors` that evaluate to `True`.\n",
    "\n",
    "  ```python\n",
    "  import itertools\n",
    "\n",
    "  result = list(itertools.compress('ABCDE', [1, 0, 1, 0, 1]))\n",
    "  print(result)\n",
    "  ```\n",
    "  Output:\n",
    "  ```\n",
    "  ['A', 'C', 'E']\n",
    "  ```\n",
    "\n",
    "- **`dropwhile(predicate, iterable)`**: This function drops elements from the iterable as long as the predicate is `True`, and then returns the rest.\n",
    "\n",
    "  ```python\n",
    "  import itertools\n",
    "\n",
    "  result = list(itertools.dropwhile(lambda x: x < 5, [1, 2, 5, 6, 7, 3]))\n",
    "  print(result)\n",
    "  ```\n",
    "  Output:\n",
    "  ```\n",
    "  [5, 6, 7, 3]\n",
    "  ```\n",
    "\n",
    "- **`takewhile(predicate, iterable)`**: This is the opposite of `dropwhile`. It returns elements from the iterable as long as the predicate is `True`, and stops as soon as the predicate returns `False`.\n",
    "\n",
    "  ```python\n",
    "  import itertools\n",
    "\n",
    "  result = list(itertools.takewhile(lambda x: x < 5, [1, 2, 5, 6, 7, 3]))\n",
    "  print(result)\n",
    "  ```\n",
    "  Output:\n",
    "  ```\n",
    "  [1, 2]\n",
    "  ```\n",
    "\n",
    "- **`accumulate(iterable, func=operator.add)`**: This function makes an iterator that returns accumulated sums or the accumulated results of a binary function (like multiplication).\n",
    "\n",
    "  ```python\n",
    "  import itertools\n",
    "  import operator\n",
    "\n",
    "  result = list(itertools.accumulate([1, 2, 3, 4, 5], operator.mul))\n",
    "  print(result)\n",
    "  ```\n",
    "  Output:\n",
    "  ```\n",
    "  [1, 2, 6, 24, 120]\n",
    "  ```\n",
    "\n",
    "- **`starmap()` :** Used to apply a function to each item in an iterable, but unlike map, which applies the function to each item individually, starmap expects the iterable to contain tuples and applies the function using the unpacked elements of these tuples.\n",
    "\n",
    "    ```python\n",
    "    from itertools import *\n",
    "    a = starmap(lambda x,y : x+3, [(1,2),(3,4),(5,6),(7,8)])\n",
    "\n",
    "    for i in a:\n",
    "    print(i)\n",
    "    \n",
    "    Output : \n",
    "    \n",
    "    4\n",
    "    6\n",
    "    8\n",
    "    10   \n",
    "    \n",
    "    ```\n",
    "\n",
    "\n",
    "\n",
    "\n",
    "- **`groupby(iterable, key=None)`**: This function groups consecutive elements in the iterable that have the same key.\n",
    "\n",
    "  ```python\n",
    "  import itertools\n",
    "\n",
    "  groups = itertools.groupby('AAAABBBCCDAABBB')\n",
    "  for key, group in groups:\n",
    "      print(key, list(group))\n",
    "  ```\n",
    "  Output:\n",
    "  ```\n",
    "  A ['A', 'A', 'A', 'A']\n",
    "  B ['B', 'B', 'B']\n",
    "  C ['C', 'C']\n",
    "  D ['D']\n",
    "  A ['A', 'A']\n",
    "  B ['B', 'B', 'B']\n",
    "  ```\n",
    "  \n",
    "  ```python\n",
    "  eg 2 : \n",
    "  \n",
    "  a = [(1,2) , (3,4) , (5,6)]\n",
    "  func_key = lambda x : x[1]\n",
    "  \n",
    "  b = groupby(a, func_key)\n",
    "  \n",
    "  for i,j in b:\n",
    "      print(i, list(j))\n",
    "   ```\n",
    "```\n",
    "output :\n",
    "2 [(1,2)]\n",
    "4 [(3,4)]\n",
    "6 [(5,6)]\n",
    "```"
   ]
  },
  {
   "cell_type": "markdown",
   "id": "76730911",
   "metadata": {},
   "source": [
    "### 3. **Combinatoric Iterators**\n",
    "These iterators are useful for generating permutations, combinations, and product of iterables.\n",
    "\n",
    "- **`product(*iterables, repeat=1)`**: This function returns the Cartesian product of input iterables. `repeat` allows the Cartesian product to be repeated multiple times.\n",
    "\n",
    "  ```python\n",
    "  import itertools\n",
    "\n",
    "  result = list(itertools.product([1, 2], ['a', 'b']))\n",
    "  print(result)\n",
    "  ```\n",
    "  Output:\n",
    "  ```\n",
    "  [(1, 'a'), (1, 'b'), (2, 'a'), (2, 'b')]\n",
    "  ```\n",
    "\n",
    "- **`permutations(iterable, r=None)`**: This function returns all possible r-length permutations of elements in the iterable.\n",
    "\n",
    "  ```python\n",
    "  import itertools\n",
    "\n",
    "  result = list(itertools.permutations('ABC', 2))\n",
    "  print(result)\n",
    "  ```\n",
    "  Output:\n",
    "  ```\n",
    "  [('A', 'B'), ('A', 'C'), ('B', 'A'), ('B', 'C'), ('C', 'A'), ('C', 'B')]\n",
    "  ```\n",
    "\n",
    "- **`combinations(iterable, r)`**: This function returns r-length tuples of elements from the iterable, in sorted order, without replacement.\n",
    "\n",
    "  ```python\n",
    "  import itertools\n",
    "\n",
    "  result = list(itertools.combinations('ABC', 2))\n",
    "  print(result)\n",
    "  ```\n",
    "  Output:\n",
    "  ```\n",
    "  [('A', 'B'), ('A', 'C'), ('B', 'C')]\n",
    "  ```\n",
    "\n",
    "- **`combinations_with_replacement(iterable, r)`**: Similar to `combinations()`, but allows repeated elements.\n",
    "\n",
    "  ```python\n",
    "  import itertools\n",
    "\n",
    "  result = list(itertools.combinations_with_replacement('ABC', 2))\n",
    "  print(result)\n",
    "  ```\n",
    "  Output:\n",
    "  ```\n",
    "  [('A', 'A'), ('A', 'B'), ('A', 'C'), ('B', 'B'), ('B', 'C'), ('C', 'C')]\n",
    "  ```\n",
    "\n",
    "### Summary\n",
    "`itertools` is a powerful module that provides a set of fast, memory-efficient tools that are useful by themselves or in combination. It covers a broad range of functionalities, from infinite iterators, filtering, and grouping, to combinatoric operations like permutations and combinations."
   ]
  },
  {
   "cell_type": "markdown",
   "id": "67b19923",
   "metadata": {},
   "source": [
    "## 1. Iterators that runs Continuously : "
   ]
  },
  {
   "cell_type": "code",
   "execution_count": 5,
   "id": "c0398a0d",
   "metadata": {
    "ExecuteTime": {
     "end_time": "2024-08-11T21:40:36.268568Z",
     "start_time": "2024-08-11T21:40:36.251554Z"
    }
   },
   "outputs": [],
   "source": [
    "from itertools import *"
   ]
  },
  {
   "cell_type": "markdown",
   "id": "20f330ed",
   "metadata": {},
   "source": [
    "#### don't run it...infinite loop"
   ]
  },
  {
   "cell_type": "code",
   "execution_count": 8,
   "id": "68e564ba",
   "metadata": {},
   "outputs": [
    {
     "name": "stdout",
     "output_type": "stream",
     "text": [
      "0\n",
      "1\n",
      "2\n",
      "3\n",
      "4\n",
      "5\n"
     ]
    }
   ],
   "source": [
    "counter = itertools.count()\n",
    "\n",
    "\n",
    "print(next(counter))\n",
    "print(next(counter))\n",
    "print(next(counter))\n",
    "print(next(counter))\n",
    "print(next(counter))\n",
    "print(next(counter))\n",
    "\n",
    "# for i in counter:\n",
    "#     print(i)"
   ]
  },
  {
   "cell_type": "code",
   "execution_count": 10,
   "id": "a406c45d",
   "metadata": {},
   "outputs": [
    {
     "name": "stdout",
     "output_type": "stream",
     "text": [
      "5\n",
      "10\n",
      "15\n",
      "20\n",
      "25\n",
      "30\n"
     ]
    }
   ],
   "source": [
    "counter = itertools.count(start=5,step=5)\n",
    "\n",
    "\n",
    "print(next(counter))\n",
    "print(next(counter))\n",
    "print(next(counter))\n",
    "print(next(counter))\n",
    "print(next(counter))\n",
    "print(next(counter))"
   ]
  },
  {
   "cell_type": "markdown",
   "id": "46970215",
   "metadata": {},
   "source": [
    "#### negative steps:"
   ]
  },
  {
   "cell_type": "code",
   "execution_count": 11,
   "id": "b28b4ad2",
   "metadata": {},
   "outputs": [
    {
     "name": "stdout",
     "output_type": "stream",
     "text": [
      "5\n",
      "0\n",
      "-5\n",
      "-10\n",
      "-15\n",
      "-20\n"
     ]
    }
   ],
   "source": [
    "counter = itertools.count(start=5,step=-5)\n",
    "\n",
    "\n",
    "print(next(counter))\n",
    "print(next(counter))\n",
    "print(next(counter))\n",
    "print(next(counter))\n",
    "print(next(counter))\n",
    "print(next(counter))"
   ]
  },
  {
   "cell_type": "markdown",
   "id": "b52246f4",
   "metadata": {},
   "source": [
    "### `itertools.count()`"
   ]
  },
  {
   "cell_type": "code",
   "execution_count": 7,
   "id": "af0e8555",
   "metadata": {},
   "outputs": [
    {
     "name": "stdout",
     "output_type": "stream",
     "text": [
      "<zip object at 0x0000021E1D1C43C0> \n",
      "\n",
      "[(0, 100), (1, 200), (2, 300), (3, 400), (4, 500)]\n"
     ]
    }
   ],
   "source": [
    "data = [100,200,300,400,500]\n",
    "\n",
    "daily_data = zip(itertools.count(),data)\n",
    "print(daily_data,\"\\n\")\n",
    "\n",
    "# passing it as alist:\n",
    "list_daily_data = list(zip(itertools.count(),data))\n",
    "print(list(daily_data))"
   ]
  },
  {
   "cell_type": "markdown",
   "id": "47de8a71",
   "metadata": {},
   "source": [
    "#### range doing same thing as itertools.count() :\n",
    "\n",
    "> ___will run till the end of the list, or till range(10) is exhausted___"
   ]
  },
  {
   "cell_type": "code",
   "execution_count": 14,
   "id": "d11852b9",
   "metadata": {},
   "outputs": [
    {
     "name": "stdout",
     "output_type": "stream",
     "text": [
      "<zip object at 0x0000021E1ED800C0> \n",
      "\n",
      "[(0, 100), (1, 200), (2, 300), (3, 400), (4, 500)]\n"
     ]
    }
   ],
   "source": [
    "data = [100,200,300,400,500]\n",
    "\n",
    "daily_data = zip(range(10),data)\n",
    "print(daily_data,\"\\n\")\n",
    "\n",
    "list_daily_data = list(zip(range(10),data))\n",
    "print(list(daily_data))"
   ]
  },
  {
   "cell_type": "markdown",
   "id": "40192c1f",
   "metadata": {},
   "source": [
    "##### exhausting range(10):"
   ]
  },
  {
   "cell_type": "code",
   "execution_count": 15,
   "id": "89c78743",
   "metadata": {},
   "outputs": [
    {
     "name": "stdout",
     "output_type": "stream",
     "text": [
      "<zip object at 0x0000021E1ED80380> \n",
      "\n",
      "[(0, 100), (1, 200), (2, 300), (3, 400), (4, 500), (5, 600), (6, 700), (7, 800), (8, 900), (9, 1000)]\n"
     ]
    }
   ],
   "source": [
    "data = [100,200,300,400,500,600,700,800,900,1000,1100,1200]\n",
    "\n",
    "daily_data = zip(range(10),data)\n",
    "print(daily_data,\"\\n\")\n",
    "\n",
    "list_daily_data = list(zip(range(10),data))\n",
    "print(list(daily_data))"
   ]
  },
  {
   "cell_type": "markdown",
   "id": "416c92a2",
   "metadata": {},
   "source": [
    "### `zip_longest`  : to deal  with the exhaustion issues"
   ]
  },
  {
   "cell_type": "markdown",
   "id": "788ae0a4",
   "metadata": {},
   "source": [
    "##### data is exhausted :\n"
   ]
  },
  {
   "cell_type": "code",
   "execution_count": 18,
   "id": "f063fdcb",
   "metadata": {},
   "outputs": [
    {
     "name": "stdout",
     "output_type": "stream",
     "text": [
      "<itertools.zip_longest object at 0x0000021E1EEACE00> \n",
      "\n",
      "[(0, 100), (1, 200), (2, 300), (3, 400), (4, 500), (5, None), (6, None), (7, None), (8, None), (9, None)]\n"
     ]
    }
   ],
   "source": [
    "data = [100,200,300,400,500]\n",
    "\n",
    "daily_data = itertools.zip_longest(range(10),data)\n",
    "print(daily_data,\"\\n\")\n",
    "\n",
    "list_daily_data = list(zip(range(10),data))\n",
    "print(list(daily_data))"
   ]
  },
  {
   "cell_type": "markdown",
   "id": "77de589b",
   "metadata": {},
   "source": [
    "##### range is exhausted:"
   ]
  },
  {
   "cell_type": "code",
   "execution_count": 16,
   "id": "1100ca0f",
   "metadata": {},
   "outputs": [
    {
     "name": "stdout",
     "output_type": "stream",
     "text": [
      "<itertools.zip_longest object at 0x0000021E1EEBCA90> \n",
      "\n",
      "[(0, 100), (1, 200), (2, 300), (3, 400), (4, 500), (5, 600), (6, 700), (7, 800), (8, 900), (9, 1000), (None, 1100), (None, 1200)]\n"
     ]
    }
   ],
   "source": [
    "data = [100,200,300,400,500,600,700,800,900,1000,1100,1200]\n",
    "\n",
    "daily_data = itertools.zip_longest(range(10),data)\n",
    "print(daily_data,\"\\n\")\n",
    "\n",
    "list_daily_data = list(zip(range(10),data))\n",
    "print(list(daily_data))"
   ]
  },
  {
   "cell_type": "markdown",
   "id": "0e9da1c4",
   "metadata": {},
   "source": [
    "### `cycle` : cycles over and over:"
   ]
  },
  {
   "cell_type": "code",
   "execution_count": 20,
   "id": "60c079d5",
   "metadata": {},
   "outputs": [
    {
     "name": "stdout",
     "output_type": "stream",
     "text": [
      "1\n",
      "2\n",
      "3\n",
      "1\n",
      "2\n",
      "3\n",
      "1\n"
     ]
    }
   ],
   "source": [
    "counter = itertools.cycle([1,2,3])\n",
    "\n",
    "\n",
    "print(next(counter))\n",
    "print(next(counter))\n",
    "print(next(counter))\n",
    "print(next(counter))\n",
    "print(next(counter))\n",
    "print(next(counter))\n",
    "print(next(counter))"
   ]
  },
  {
   "cell_type": "markdown",
   "id": "0731b463",
   "metadata": {},
   "source": [
    "##### using cycle on tuple:"
   ]
  },
  {
   "cell_type": "code",
   "execution_count": 22,
   "id": "a48fb8e7",
   "metadata": {},
   "outputs": [
    {
     "name": "stdout",
     "output_type": "stream",
     "text": [
      "on\n",
      "off\n",
      "on\n",
      "off\n",
      "on\n",
      "off\n",
      "on\n"
     ]
    }
   ],
   "source": [
    "counter = itertools.cycle(('on','off'))\n",
    "\n",
    "\n",
    "print(next(counter))\n",
    "print(next(counter))\n",
    "print(next(counter))\n",
    "print(next(counter))\n",
    "print(next(counter))\n",
    "print(next(counter))\n",
    "print(next(counter))"
   ]
  },
  {
   "cell_type": "markdown",
   "id": "7ab400d6",
   "metadata": {},
   "source": [
    "### `repeat` takes input and repeats indefinetly:"
   ]
  },
  {
   "cell_type": "code",
   "execution_count": 23,
   "id": "c23b976d",
   "metadata": {},
   "outputs": [
    {
     "name": "stdout",
     "output_type": "stream",
     "text": [
      "2\n",
      "2\n",
      "2\n",
      "2\n",
      "2\n",
      "2\n",
      "2\n"
     ]
    }
   ],
   "source": [
    "counter = itertools.repeat(2)\n",
    "\n",
    "\n",
    "print(next(counter))\n",
    "print(next(counter))\n",
    "print(next(counter))\n",
    "print(next(counter))\n",
    "print(next(counter))\n",
    "print(next(counter))\n",
    "print(next(counter))"
   ]
  },
  {
   "cell_type": "code",
   "execution_count": 24,
   "id": "7a9d515a",
   "metadata": {},
   "outputs": [
    {
     "name": "stdout",
     "output_type": "stream",
     "text": [
      "2\n",
      "2\n",
      "2\n"
     ]
    },
    {
     "ename": "StopIteration",
     "evalue": "",
     "output_type": "error",
     "traceback": [
      "\u001b[1;31m---------------------------------------------------------------------------\u001b[0m",
      "\u001b[1;31mStopIteration\u001b[0m                             Traceback (most recent call last)",
      "Cell \u001b[1;32mIn[24], line 7\u001b[0m\n\u001b[0;32m      5\u001b[0m \u001b[38;5;28mprint\u001b[39m(\u001b[38;5;28mnext\u001b[39m(counter))\n\u001b[0;32m      6\u001b[0m \u001b[38;5;28mprint\u001b[39m(\u001b[38;5;28mnext\u001b[39m(counter))\n\u001b[1;32m----> 7\u001b[0m \u001b[38;5;28mprint\u001b[39m(\u001b[38;5;28;43mnext\u001b[39;49m\u001b[43m(\u001b[49m\u001b[43mcounter\u001b[49m\u001b[43m)\u001b[49m)\n\u001b[0;32m      8\u001b[0m \u001b[38;5;28mprint\u001b[39m(\u001b[38;5;28mnext\u001b[39m(counter))\n\u001b[0;32m      9\u001b[0m \u001b[38;5;28mprint\u001b[39m(\u001b[38;5;28mnext\u001b[39m(counter))\n",
      "\u001b[1;31mStopIteration\u001b[0m: "
     ]
    }
   ],
   "source": [
    "counter = itertools.repeat(2,times=3)\n",
    "\n",
    "\n",
    "print(next(counter))\n",
    "print(next(counter))\n",
    "print(next(counter))\n",
    "print(next(counter))\n",
    "print(next(counter))\n",
    "print(next(counter))\n",
    "print(next(counter))"
   ]
  },
  {
   "cell_type": "code",
   "execution_count": 29,
   "id": "d7498de2",
   "metadata": {},
   "outputs": [
    {
     "name": "stdout",
     "output_type": "stream",
     "text": [
      "Help on built-in function pow in module builtins:\n",
      "\n",
      "pow(base, exp, mod=None)\n",
      "    Equivalent to base**exp with 2 arguments or base**exp % mod with 3 arguments\n",
      "    \n",
      "    Some types, such as ints, are able to use a more efficient algorithm when\n",
      "    invoked using the three argument form.\n",
      "\n"
     ]
    }
   ],
   "source": [
    "help(pow)"
   ]
  },
  {
   "cell_type": "code",
   "execution_count": 32,
   "id": "5092a727",
   "metadata": {},
   "outputs": [
    {
     "name": "stdout",
     "output_type": "stream",
     "text": [
      "[0, 1, 4, 9, 16, 25, 36, 49, 64, 81]\n"
     ]
    }
   ],
   "source": [
    "squares = map(pow, range(10), itertools.repeat(2)) # for squaring itertools.repeat(2)\n",
    "print(list(squares))"
   ]
  },
  {
   "cell_type": "code",
   "execution_count": 33,
   "id": "8416d0a0",
   "metadata": {},
   "outputs": [
    {
     "name": "stdout",
     "output_type": "stream",
     "text": [
      "[0, 1, 8, 27, 64, 125, 216, 343, 512, 729]\n"
     ]
    }
   ],
   "source": [
    "cubes = map(pow, range(10), itertools.repeat(3)) # for cube itertools.repeat(3)\n",
    "print(list(cubes))"
   ]
  },
  {
   "cell_type": "markdown",
   "id": "0f50e98b",
   "metadata": {},
   "source": [
    "### `starmap` -> takes list of tuples as input. eg : n^2"
   ]
  },
  {
   "cell_type": "code",
   "execution_count": 4,
   "id": "8fcab93a",
   "metadata": {
    "ExecuteTime": {
     "end_time": "2024-08-11T21:40:19.481460Z",
     "start_time": "2024-08-11T21:40:19.473456Z"
    }
   },
   "outputs": [
    {
     "name": "stdout",
     "output_type": "stream",
     "text": [
      "[0, 1, 4, 9, 16, 25, 36]\n"
     ]
    }
   ],
   "source": [
    "num = itertools.starmap(pow, [(0,2),(1,2),(2,2),(3,2),(4,2),(5,2),(6,2)])\n",
    "print(list(num))"
   ]
  },
  {
   "cell_type": "code",
   "execution_count": 11,
   "id": "ff48f074",
   "metadata": {
    "ExecuteTime": {
     "end_time": "2024-08-11T21:41:45.964864Z",
     "start_time": "2024-08-11T21:41:45.951792Z"
    }
   },
   "outputs": [
    {
     "name": "stdout",
     "output_type": "stream",
     "text": [
      "4\n",
      "6\n",
      "8\n",
      "10\n"
     ]
    }
   ],
   "source": [
    "a = starmap(lambda x,y : x+3, [(1,2),(3,4),(5,6),(7,8)])\n",
    "\n",
    "for i in a:\n",
    "    print(i)"
   ]
  },
  {
   "cell_type": "markdown",
   "id": "3bab7ddf",
   "metadata": {},
   "source": [
    "## 2. Iterators that end at some point:"
   ]
  },
  {
   "cell_type": "markdown",
   "id": "dbb5e6b1",
   "metadata": {},
   "source": [
    "### `combinations` and `permutation` :\n",
    "\n",
    "- combinations-> grouping of items where order doesnot matters\n",
    "\n",
    "\n",
    "- permutation-> grouping of items where order matters"
   ]
  },
  {
   "cell_type": "code",
   "execution_count": 41,
   "id": "a3db3134",
   "metadata": {},
   "outputs": [],
   "source": [
    "letters = ['a', 'b', 'c', 'd']\n",
    "\n",
    "names = ['Corey', 'Nicole']"
   ]
  },
  {
   "cell_type": "markdown",
   "id": "cde64a5e",
   "metadata": {},
   "source": [
    "##### combinations : "
   ]
  },
  {
   "cell_type": "code",
   "execution_count": 45,
   "id": "57f8767a",
   "metadata": {},
   "outputs": [
    {
     "name": "stdout",
     "output_type": "stream",
     "text": [
      "[('a', 'b'), ('a', 'c'), ('a', 'd'), ('b', 'c'), ('b', 'd'), ('c', 'd')]\n",
      "\n",
      "[('a', 'b', 'c'), ('a', 'b', 'd'), ('a', 'c', 'd'), ('b', 'c', 'd')]\n"
     ]
    }
   ],
   "source": [
    "result = itertools.combinations(letters,2)\n",
    "print(list(result))\n",
    "\n",
    "print()\n",
    "\n",
    "result = itertools.combinations(letters,3)\n",
    "print(list(result))"
   ]
  },
  {
   "cell_type": "markdown",
   "id": "b51d514d",
   "metadata": {},
   "source": [
    "##### permutation"
   ]
  },
  {
   "cell_type": "code",
   "execution_count": 46,
   "id": "b0ef9870",
   "metadata": {},
   "outputs": [
    {
     "name": "stdout",
     "output_type": "stream",
     "text": [
      "[('a', 'b'), ('a', 'c'), ('a', 'd'), ('b', 'a'), ('b', 'c'), ('b', 'd'), ('c', 'a'), ('c', 'b'), ('c', 'd'), ('d', 'a'), ('d', 'b'), ('d', 'c')]\n",
      "\n",
      "[('a', 'b', 'c'), ('a', 'b', 'd'), ('a', 'c', 'b'), ('a', 'c', 'd'), ('a', 'd', 'b'), ('a', 'd', 'c'), ('b', 'a', 'c'), ('b', 'a', 'd'), ('b', 'c', 'a'), ('b', 'c', 'd'), ('b', 'd', 'a'), ('b', 'd', 'c'), ('c', 'a', 'b'), ('c', 'a', 'd'), ('c', 'b', 'a'), ('c', 'b', 'd'), ('c', 'd', 'a'), ('c', 'd', 'b'), ('d', 'a', 'b'), ('d', 'a', 'c'), ('d', 'b', 'a'), ('d', 'b', 'c'), ('d', 'c', 'a'), ('d', 'c', 'b')]\n"
     ]
    }
   ],
   "source": [
    "result = itertools.permutations(letters,2)\n",
    "print(list(result))\n",
    "\n",
    "print()\n",
    "\n",
    "result = itertools.permutations(letters,3)\n",
    "print(list(result))"
   ]
  },
  {
   "cell_type": "markdown",
   "id": "2b7609f5",
   "metadata": {},
   "source": [
    "### `product` where values can repeat:"
   ]
  },
  {
   "cell_type": "code",
   "execution_count": 47,
   "id": "e9559ca8",
   "metadata": {},
   "outputs": [
    {
     "data": {
      "text/plain": [
       "[0, 1, 2, 3]"
      ]
     },
     "execution_count": 47,
     "metadata": {},
     "output_type": "execute_result"
    }
   ],
   "source": [
    "numbers = [0, 1, 2, 3]\n",
    "numbers"
   ]
  },
  {
   "cell_type": "code",
   "execution_count": 56,
   "id": "ed3e3d2e",
   "metadata": {},
   "outputs": [
    {
     "name": "stdout",
     "output_type": "stream",
     "text": [
      "[(0, 0, 0), (0, 0, 1), (0, 0, 2), (0, 0, 3), (0, 1, 0), (0, 1, 1), (0, 1, 2), (0, 1, 3), (0, 2, 0), (0, 2, 1), (0, 2, 2), (0, 2, 3), (0, 3, 0), (0, 3, 1), (0, 3, 2), (0, 3, 3), (1, 0, 0), (1, 0, 1), (1, 0, 2), (1, 0, 3), (1, 1, 0), (1, 1, 1), (1, 1, 2), (1, 1, 3), (1, 2, 0), (1, 2, 1), (1, 2, 2), (1, 2, 3), (1, 3, 0), (1, 3, 1), (1, 3, 2), (1, 3, 3), (2, 0, 0), (2, 0, 1), (2, 0, 2), (2, 0, 3), (2, 1, 0), (2, 1, 1), (2, 1, 2), (2, 1, 3), (2, 2, 0), (2, 2, 1), (2, 2, 2), (2, 2, 3), (2, 3, 0), (2, 3, 1), (2, 3, 2), (2, 3, 3), (3, 0, 0), (3, 0, 1), (3, 0, 2), (3, 0, 3), (3, 1, 0), (3, 1, 1), (3, 1, 2), (3, 1, 3), (3, 2, 0), (3, 2, 1), (3, 2, 2), (3, 2, 3), (3, 3, 0), (3, 3, 1), (3, 3, 2), (3, 3, 3)]\n",
      "\n"
     ]
    }
   ],
   "source": [
    "result = itertools.product(numbers,repeat=3)\n",
    "print(list(result))\n",
    "\n",
    "print()"
   ]
  },
  {
   "cell_type": "code",
   "execution_count": 58,
   "id": "5103ea64",
   "metadata": {},
   "outputs": [
    {
     "name": "stdout",
     "output_type": "stream",
     "text": [
      "[(0, 0, 0), (0, 0, 1), (0, 0, 2), (0, 0, 3), (0, 1, 1), (0, 1, 2), (0, 1, 3), (0, 2, 2), (0, 2, 3), (0, 3, 3), (1, 1, 1), (1, 1, 2), (1, 1, 3), (1, 2, 2), (1, 2, 3), (1, 3, 3), (2, 2, 2), (2, 2, 3), (2, 3, 3), (3, 3, 3)]\n",
      "\n"
     ]
    }
   ],
   "source": [
    "result = itertools.combinations_with_replacement(numbers,3)\n",
    "print(list(result))\n",
    "\n",
    "print()"
   ]
  },
  {
   "cell_type": "markdown",
   "id": "a9177c14",
   "metadata": {},
   "source": [
    "### `chain` -> chaining together iterables "
   ]
  },
  {
   "cell_type": "code",
   "execution_count": 60,
   "id": "28554fd9",
   "metadata": {},
   "outputs": [],
   "source": [
    "letters = ['a', 'b', 'c', 'd']\n",
    "numbers = [0, 1, 2, 3]\n",
    "names = ['Corey', 'Nicole']"
   ]
  },
  {
   "cell_type": "code",
   "execution_count": 62,
   "id": "9af7d69c",
   "metadata": {},
   "outputs": [
    {
     "name": "stdout",
     "output_type": "stream",
     "text": [
      "['a', 'b', 'c', 'd', 0, 1, 2, 3, 'Corey', 'Nicole']\n"
     ]
    }
   ],
   "source": [
    "result = itertools.chain(letters, numbers, names)\n",
    "print(list(result))"
   ]
  },
  {
   "cell_type": "markdown",
   "id": "85504398",
   "metadata": {},
   "source": [
    "### `islice` -> slicing of iterators"
   ]
  },
  {
   "cell_type": "code",
   "execution_count": 64,
   "id": "81a0720c",
   "metadata": {},
   "outputs": [
    {
     "name": "stdout",
     "output_type": "stream",
     "text": [
      "[0, 1, 2, 3, 4]\n"
     ]
    }
   ],
   "source": [
    "result = itertools.islice(range(10),5) # 5 is stop value\n",
    "print(list(result))"
   ]
  },
  {
   "cell_type": "code",
   "execution_count": 66,
   "id": "e6c8c372",
   "metadata": {},
   "outputs": [
    {
     "name": "stdout",
     "output_type": "stream",
     "text": [
      "[1, 2, 3, 4, 5, 6]\n"
     ]
    }
   ],
   "source": [
    "result = itertools.islice(range(10),1,7) # 1 is start value, 7 is stop value\n",
    "print(list(result))"
   ]
  },
  {
   "cell_type": "code",
   "execution_count": 67,
   "id": "30a3fce9",
   "metadata": {},
   "outputs": [
    {
     "name": "stdout",
     "output_type": "stream",
     "text": [
      "[1, 3, 5]\n"
     ]
    }
   ],
   "source": [
    "result = itertools.islice(range(10),1,7, 2) # 1 is start value, 7 is stop value, 2 is step size\n",
    "print(list(result))"
   ]
  },
  {
   "cell_type": "markdown",
   "id": "2df78133",
   "metadata": {},
   "source": [
    "### view first 3 line of the log file without loading entire file in memory:"
   ]
  },
  {
   "cell_type": "code",
   "execution_count": 69,
   "id": "0b4811db",
   "metadata": {},
   "outputs": [
    {
     "name": "stdout",
     "output_type": "stream",
     "text": [
      "Date: 2018-11-08\n",
      "Author: Corey\n",
      "Description: This is a sample log file\n"
     ]
    }
   ],
   "source": [
    "with open('test.log','r') as f:\n",
    "    header = itertools.islice(f,3)\n",
    "    \n",
    "    for line in header:\n",
    "        print(line,end='')\n",
    "    "
   ]
  },
  {
   "cell_type": "markdown",
   "id": "2e58f8b6",
   "metadata": {},
   "source": [
    "### `compress` "
   ]
  },
  {
   "cell_type": "code",
   "execution_count": 70,
   "id": "d4ab827c",
   "metadata": {},
   "outputs": [],
   "source": [
    "selectors = [True, False, True, False]"
   ]
  },
  {
   "cell_type": "code",
   "execution_count": 72,
   "id": "7365dde4",
   "metadata": {},
   "outputs": [
    {
     "name": "stdout",
     "output_type": "stream",
     "text": [
      "['a', 'c']\n"
     ]
    }
   ],
   "source": [
    "result = itertools.compress(letters, selectors)\n",
    "print(list(result))\n",
    "\n",
    "# only True values printing"
   ]
  },
  {
   "cell_type": "markdown",
   "id": "f022530f",
   "metadata": {},
   "source": [
    "### `accumulate` -> adding and multiplying each item with total"
   ]
  },
  {
   "cell_type": "code",
   "execution_count": 79,
   "id": "8f63fe18",
   "metadata": {},
   "outputs": [],
   "source": [
    "numbers = [10, 20, 30, 40]"
   ]
  },
  {
   "cell_type": "markdown",
   "id": "e6b8ea73",
   "metadata": {},
   "source": [
    "##### sum : "
   ]
  },
  {
   "cell_type": "code",
   "execution_count": 80,
   "id": "a12af79d",
   "metadata": {},
   "outputs": [
    {
     "name": "stdout",
     "output_type": "stream",
     "text": [
      "[10, 30, 60, 100]\n"
     ]
    }
   ],
   "source": [
    "result = itertools.accumulate(numbers)\n",
    "print(list(result))"
   ]
  },
  {
   "cell_type": "markdown",
   "id": "fab3cdee",
   "metadata": {},
   "source": [
    "##### multiplication"
   ]
  },
  {
   "cell_type": "code",
   "execution_count": 81,
   "id": "5fd16787",
   "metadata": {},
   "outputs": [],
   "source": [
    "import itertools\n",
    "import operator"
   ]
  },
  {
   "cell_type": "code",
   "execution_count": 82,
   "id": "d86900f6",
   "metadata": {},
   "outputs": [
    {
     "name": "stdout",
     "output_type": "stream",
     "text": [
      "[10, 200, 6000, 240000]\n"
     ]
    }
   ],
   "source": [
    "result = itertools.accumulate(numbers,func=operator.mul)\n",
    "print(list(result))"
   ]
  },
  {
   "cell_type": "markdown",
   "id": "9c2b469f",
   "metadata": {},
   "source": [
    "### `groupby`"
   ]
  },
  {
   "cell_type": "markdown",
   "id": "973faa27",
   "metadata": {},
   "source": [
    "### NOTE : groupby needs the lists to be sorted already, then only it will perform "
   ]
  },
  {
   "cell_type": "markdown",
   "id": "01f01486",
   "metadata": {},
   "source": [
    "#### for every person groupby state:"
   ]
  },
  {
   "cell_type": "code",
   "execution_count": 84,
   "id": "4eb86575",
   "metadata": {},
   "outputs": [],
   "source": [
    "import itertools\n",
    "\n",
    "\n",
    "def get_state(person):\n",
    "    return person['state']"
   ]
  },
  {
   "cell_type": "code",
   "execution_count": 83,
   "id": "d1148546",
   "metadata": {},
   "outputs": [],
   "source": [
    "# already sorted on basis of states, each state is grouped \n",
    "people = [\n",
    "    {\n",
    "        'name': 'John Doe',\n",
    "        'city': 'Gotham',\n",
    "        'state': 'NY'\n",
    "    },\n",
    "    {\n",
    "        'name': 'Jane Doe',\n",
    "        'city': 'Kings Landing',\n",
    "        'state': 'NY'\n",
    "    },\n",
    "    {\n",
    "        'name': 'Corey Schafer',\n",
    "        'city': 'Boulder',\n",
    "        'state': 'CO'\n",
    "    },\n",
    "    {\n",
    "        'name': 'Al Einstein',\n",
    "        'city': 'Denver',\n",
    "        'state': 'CO'\n",
    "    },\n",
    "    {\n",
    "        'name': 'John Henry',\n",
    "        'city': 'Hinton',\n",
    "        'state': 'WV'\n",
    "    },\n",
    "    {\n",
    "        'name': 'Randy Moss',\n",
    "        'city': 'Rand',\n",
    "        'state': 'WV'\n",
    "    },\n",
    "    {\n",
    "        'name': 'Nicole K',\n",
    "        'city': 'Asheville',\n",
    "        'state': 'NC'\n",
    "    },\n",
    "    {\n",
    "        'name': 'Jim Doe',\n",
    "        'city': 'Charlotte',\n",
    "        'state': 'NC'\n",
    "    },\n",
    "    {\n",
    "        'name': 'Jane Taylor',\n",
    "        'city': 'Faketown',\n",
    "        'state': 'NC'\n",
    "    }\n",
    "]"
   ]
  },
  {
   "cell_type": "code",
   "execution_count": 95,
   "id": "851eaf2b",
   "metadata": {},
   "outputs": [
    {
     "name": "stdout",
     "output_type": "stream",
     "text": [
      "NY\n",
      "{'name': 'John Doe', 'city': 'Gotham', 'state': 'NY'}\n",
      "{'name': 'Jane Doe', 'city': 'Kings Landing', 'state': 'NY'}\n",
      "\n",
      "CO\n",
      "{'name': 'Corey Schafer', 'city': 'Boulder', 'state': 'CO'}\n",
      "{'name': 'Al Einstein', 'city': 'Denver', 'state': 'CO'}\n",
      "\n",
      "WV\n",
      "{'name': 'John Henry', 'city': 'Hinton', 'state': 'WV'}\n",
      "{'name': 'Randy Moss', 'city': 'Rand', 'state': 'WV'}\n",
      "\n",
      "NC\n",
      "{'name': 'Nicole K', 'city': 'Asheville', 'state': 'NC'}\n",
      "{'name': 'Jim Doe', 'city': 'Charlotte', 'state': 'NC'}\n",
      "{'name': 'Jane Taylor', 'city': 'Faketown', 'state': 'NC'}\n",
      "\n"
     ]
    }
   ],
   "source": [
    "person_group = itertools.groupby(people,get_state)\n",
    "\n",
    "for key, group in person_group:\n",
    "    print(key)\n",
    "    for person in group:\n",
    "        print(person)\n",
    "    print()"
   ]
  },
  {
   "cell_type": "markdown",
   "id": "c9827098",
   "metadata": {},
   "source": [
    "##### number of people from each state:"
   ]
  },
  {
   "cell_type": "code",
   "execution_count": 98,
   "id": "3cecdb57",
   "metadata": {},
   "outputs": [
    {
     "name": "stdout",
     "output_type": "stream",
     "text": [
      "NY 2\n",
      "CO 2\n",
      "WV 2\n",
      "NC 3\n"
     ]
    }
   ],
   "source": [
    "person_group = itertools.groupby(people,get_state)\n",
    "\n",
    "for key, group in person_group:\n",
    "    print(key,len(list(group)))"
   ]
  },
  {
   "cell_type": "markdown",
   "id": "53ba0fe7",
   "metadata": {},
   "source": [
    "### `dropwhile` : Drops elements from the iterable while the predicate is true, then yields the rest."
   ]
  },
  {
   "cell_type": "code",
   "execution_count": 4,
   "id": "5111709b",
   "metadata": {
    "ExecuteTime": {
     "end_time": "2024-02-07T17:42:57.257832Z",
     "start_time": "2024-02-07T17:42:57.241600Z"
    }
   },
   "outputs": [],
   "source": [
    "import itertools"
   ]
  },
  {
   "cell_type": "code",
   "execution_count": 1,
   "id": "32243d4b",
   "metadata": {
    "ExecuteTime": {
     "end_time": "2024-02-07T17:41:29.574455Z",
     "start_time": "2024-02-07T17:41:29.476032Z"
    }
   },
   "outputs": [
    {
     "data": {
      "text/plain": [
       "[0, 5, 10, 15, 20, 25, 30, 35, 40, 45, 50, 55, 60, 65, 70, 75, 80, 85, 90, 95]"
      ]
     },
     "execution_count": 1,
     "metadata": {},
     "output_type": "execute_result"
    }
   ],
   "source": [
    "a = list(range(0,100,5))\n",
    "a"
   ]
  },
  {
   "cell_type": "code",
   "execution_count": 5,
   "id": "a9a6f306",
   "metadata": {
    "ExecuteTime": {
     "end_time": "2024-02-07T17:43:05.917820Z",
     "start_time": "2024-02-07T17:43:05.901757Z"
    }
   },
   "outputs": [
    {
     "name": "stdout",
     "output_type": "stream",
     "text": [
      "[20, 25, 30, 35, 40, 45, 50, 55, 60, 65, 70, 75, 80, 85, 90, 95]\n"
     ]
    }
   ],
   "source": [
    "b = itertools.dropwhile(lambda x:x <20, a)\n",
    "print(list(b))"
   ]
  },
  {
   "cell_type": "code",
   "execution_count": 6,
   "id": "2458ee63",
   "metadata": {
    "ExecuteTime": {
     "end_time": "2024-02-07T17:47:28.484173Z",
     "start_time": "2024-02-07T17:47:28.468065Z"
    }
   },
   "outputs": [
    {
     "data": {
      "text/plain": [
       "False"
      ]
     },
     "execution_count": 6,
     "metadata": {},
     "output_type": "execute_result"
    }
   ],
   "source": [
    "20 < 20"
   ]
  },
  {
   "cell_type": "markdown",
   "id": "d21812e5",
   "metadata": {},
   "source": [
    "### `takewhile(predicate, iterable)` : Yields elements from the iterable while the predicate is true, then stops."
   ]
  },
  {
   "cell_type": "code",
   "execution_count": 7,
   "id": "437374f9",
   "metadata": {
    "ExecuteTime": {
     "end_time": "2024-02-07T19:10:39.707895Z",
     "start_time": "2024-02-07T19:10:39.688618Z"
    }
   },
   "outputs": [
    {
     "data": {
      "text/plain": [
       "[0, 5, 10, 15, 20, 25, 30, 35, 40, 45, 50, 55, 60, 65, 70, 75, 80, 85, 90, 95]"
      ]
     },
     "execution_count": 7,
     "metadata": {},
     "output_type": "execute_result"
    }
   ],
   "source": [
    "a = list(range(0,100,5))\n",
    "a"
   ]
  },
  {
   "cell_type": "code",
   "execution_count": 8,
   "id": "c50ce49a",
   "metadata": {
    "ExecuteTime": {
     "end_time": "2024-02-07T19:10:51.806628Z",
     "start_time": "2024-02-07T19:10:51.797731Z"
    }
   },
   "outputs": [
    {
     "name": "stdout",
     "output_type": "stream",
     "text": [
      "[0, 5, 10, 15]\n"
     ]
    }
   ],
   "source": [
    "b = itertools.takewhile(lambda x:x <20, a)\n",
    "print(list(b))"
   ]
  },
  {
   "cell_type": "code",
   "execution_count": null,
   "id": "27add4bc",
   "metadata": {},
   "outputs": [],
   "source": []
  }
 ],
 "metadata": {
  "kernelspec": {
   "display_name": "Python 3 (ipykernel)",
   "language": "python",
   "name": "python3"
  },
  "language_info": {
   "codemirror_mode": {
    "name": "ipython",
    "version": 3
   },
   "file_extension": ".py",
   "mimetype": "text/x-python",
   "name": "python",
   "nbconvert_exporter": "python",
   "pygments_lexer": "ipython3",
   "version": "3.9.13"
  }
 },
 "nbformat": 4,
 "nbformat_minor": 5
}

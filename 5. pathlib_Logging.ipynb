{
 "cells": [
  {
   "cell_type": "markdown",
   "id": "0ea73801",
   "metadata": {
    "heading_collapsed": true
   },
   "source": [
    "# Pathlib Documentation : \n",
    "\n",
    "https://realpython.com/python-pathlib/"
   ]
  },
  {
   "cell_type": "markdown",
   "id": "c6be7fb7",
   "metadata": {
    "hidden": true
   },
   "source": [
    "tutorial : https://www.youtube.com/watch?v=m2hRcRV-kSE"
   ]
  },
  {
   "cell_type": "markdown",
   "id": "2efbe807",
   "metadata": {
    "hidden": true
   },
   "source": [
    "- __pathlib works accross all operating systems (Windows uses \\ while Mac and Linux use / as a separator)__\n",
    "\n",
    "\n",
    "- __pathlib treats file paths as objects__"
   ]
  },
  {
   "cell_type": "markdown",
   "id": "cbeb7a19",
   "metadata": {
    "hidden": true
   },
   "source": [
    "## Types of Path in Windows"
   ]
  },
  {
   "cell_type": "markdown",
   "id": "cdfbe18a",
   "metadata": {
    "hidden": true
   },
   "source": [
    "In Windows operating systems, a path is a unique identifier for the location of a file or folder in the file system. Paths are used to navigate and access files and directories. There are two main types of paths in Windows:\n",
    "\n",
    "1. **Absolute Path:**\n",
    "   - An absolute path provides the complete location of a file or folder from the root directory (the top-level directory in the file system).\n",
    "   - It includes the drive letter (for example, C:), the folders, and the file name.\n",
    "   - Example: `C:\\Users\\Username\\Documents\\File.txt`\n",
    "\n",
    "\n",
    "\n",
    "2. **Relative Path:**\n",
    "   - A relative path specifies the location of a file or folder in relation to the current working directory or another file.\n",
    "   - It doesn't include the complete path from the root directory; instead, it describes the location relative to a starting point.\n",
    "   - Relative paths are often used in scripting and programming to create more flexible and portable code.\n",
    "   - Example: `..\\Folder\\AnotherFile.txt` (moves up one level and then accesses the \"Folder\" directory and a file within it)\n",
    "\n",
    "Paths may use backslashes `\\` or forward slashes `/` as directory separators. While Windows generally uses backslashes in paths, many Windows APIs and applications also accept forward slashes.\n"
   ]
  },
  {
   "cell_type": "markdown",
   "id": "16fc77e6",
   "metadata": {
    "hidden": true
   },
   "source": [
    "#### Importing the main class:"
   ]
  },
  {
   "cell_type": "code",
   "execution_count": 1,
   "id": "fca5627f",
   "metadata": {
    "ExecuteTime": {
     "end_time": "2023-12-23T20:35:06.903581Z",
     "start_time": "2023-12-23T20:35:06.762884Z"
    },
    "hidden": true
   },
   "outputs": [],
   "source": [
    "from pathlib import Path"
   ]
  },
  {
   "cell_type": "markdown",
   "id": "8e69b93e",
   "metadata": {
    "hidden": true
   },
   "source": [
    "### Create a new path"
   ]
  },
  {
   "cell_type": "code",
   "execution_count": 7,
   "id": "aa58e017",
   "metadata": {
    "ExecuteTime": {
     "end_time": "2023-12-23T20:44:18.547428Z",
     "start_time": "2023-12-23T20:44:18.525388Z"
    },
    "hidden": true
   },
   "outputs": [
    {
     "data": {
      "text/plain": [
       "WindowsPath('D:/Python/5. pathlib/New_folder/item.txt')"
      ]
     },
     "execution_count": 7,
     "metadata": {},
     "output_type": "execute_result"
    }
   ],
   "source": [
    "new_path = Path('D:/Python/5. pathlib')/'New_folder'/'item.txt'\n",
    "new_path"
   ]
  },
  {
   "cell_type": "markdown",
   "id": "250f8c06",
   "metadata": {
    "hidden": true
   },
   "source": [
    "#### OR"
   ]
  },
  {
   "cell_type": "code",
   "execution_count": 8,
   "id": "c558335b",
   "metadata": {
    "ExecuteTime": {
     "end_time": "2023-12-23T20:44:21.146520Z",
     "start_time": "2023-12-23T20:44:21.137994Z"
    },
    "hidden": true
   },
   "outputs": [
    {
     "data": {
      "text/plain": [
       "WindowsPath('D:/Python/5. pathlib/New_folder/item.txt')"
      ]
     },
     "execution_count": 8,
     "metadata": {},
     "output_type": "execute_result"
    }
   ],
   "source": [
    "new_path = Path.cwd()/'New_folder'/'item.txt'\n",
    "new_path"
   ]
  },
  {
   "cell_type": "markdown",
   "id": "c5025ea0",
   "metadata": {
    "hidden": true
   },
   "source": [
    "###  as\\_posix() : "
   ]
  },
  {
   "cell_type": "markdown",
   "id": "d35741a7",
   "metadata": {
    "hidden": true
   },
   "source": [
    "when you need to use the path as a string and want to ensure that it uses the POSIX path separator (\"/\") even on non-POSIX systems (such as Windows), you can use the .as_posix() method.\n",
    "\n",
    "\n",
    "This can be particularly useful in scenarios where you want to generate paths in a format that is consistent across different operating systems, for example, when working with file paths in URLs or other contexts where POSIX-style separators are expected."
   ]
  },
  {
   "cell_type": "code",
   "execution_count": 14,
   "id": "7a2fce4b",
   "metadata": {
    "ExecuteTime": {
     "end_time": "2023-12-23T20:49:27.635085Z",
     "start_time": "2023-12-23T20:49:27.614489Z"
    },
    "hidden": true
   },
   "outputs": [
    {
     "name": "stdout",
     "output_type": "stream",
     "text": [
      "without posix --> path\\to\\some\\file.txt\n",
      "\n",
      "with posix --> path/to/some/file.txt\n"
     ]
    }
   ],
   "source": [
    "from pathlib import Path\n",
    "\n",
    "# Create a Path object\n",
    "path_object = Path(\"path/to/some/file.txt\")\n",
    "\n",
    "# Convert the Path object to a string using POSIX-style separators\n",
    "path_as_string = path_object.as_posix()\n",
    "\n",
    "print(\"without posix -->\",path_object)\n",
    "print()\n",
    "print(\"with posix -->\",path_as_string)"
   ]
  },
  {
   "cell_type": "code",
   "execution_count": 9,
   "id": "0c73cb37",
   "metadata": {
    "ExecuteTime": {
     "end_time": "2023-12-23T20:44:22.744581Z",
     "start_time": "2023-12-23T20:44:22.736582Z"
    },
    "hidden": true
   },
   "outputs": [
    {
     "data": {
      "text/plain": [
       "'D:/Python/5. pathlib/New_folder/item.txt'"
      ]
     },
     "execution_count": 9,
     "metadata": {},
     "output_type": "execute_result"
    }
   ],
   "source": [
    "new_path.as_posix()"
   ]
  },
  {
   "cell_type": "markdown",
   "id": "97520f4c",
   "metadata": {
    "hidden": true
   },
   "source": [
    "### check if new path exists or not:"
   ]
  },
  {
   "cell_type": "code",
   "execution_count": 180,
   "id": "2e0fee76",
   "metadata": {
    "ExecuteTime": {
     "end_time": "2023-12-18T06:56:13.600791Z",
     "start_time": "2023-12-18T06:56:13.579281Z"
    },
    "hidden": true
   },
   "outputs": [
    {
     "data": {
      "text/plain": [
       "False"
      ]
     },
     "execution_count": 180,
     "metadata": {},
     "output_type": "execute_result"
    }
   ],
   "source": [
    "new_path.exists()"
   ]
  },
  {
   "cell_type": "markdown",
   "id": "9b4e740a",
   "metadata": {
    "hidden": true
   },
   "source": [
    "### Get home directory"
   ]
  },
  {
   "cell_type": "code",
   "execution_count": 2,
   "id": "ea055556",
   "metadata": {
    "ExecuteTime": {
     "end_time": "2023-12-17T17:38:33.884222Z",
     "start_time": "2023-12-17T17:38:33.864136Z"
    },
    "hidden": true
   },
   "outputs": [
    {
     "data": {
      "text/plain": [
       "WindowsPath('C:/Users/Asus')"
      ]
     },
     "execution_count": 2,
     "metadata": {},
     "output_type": "execute_result"
    }
   ],
   "source": [
    "home_dir = Path.home()\n",
    "home_dir"
   ]
  },
  {
   "cell_type": "markdown",
   "id": "a8a60cca",
   "metadata": {
    "hidden": true
   },
   "source": [
    "### Get path of current working directory"
   ]
  },
  {
   "cell_type": "code",
   "execution_count": 159,
   "id": "2ab415d1",
   "metadata": {
    "ExecuteTime": {
     "end_time": "2023-12-17T19:22:25.549933Z",
     "start_time": "2023-12-17T19:22:25.544934Z"
    },
    "hidden": true
   },
   "outputs": [
    {
     "data": {
      "text/plain": [
       "WindowsPath('D:/Python/5. pathlib')"
      ]
     },
     "execution_count": 159,
     "metadata": {},
     "output_type": "execute_result"
    }
   ],
   "source": [
    "curr_dir = Path.cwd()\n",
    "curr_dir"
   ]
  },
  {
   "cell_type": "code",
   "execution_count": 160,
   "id": "84808a85",
   "metadata": {
    "ExecuteTime": {
     "end_time": "2023-12-17T19:22:25.814187Z",
     "start_time": "2023-12-17T19:22:25.796918Z"
    },
    "hidden": true
   },
   "outputs": [
    {
     "data": {
      "text/plain": [
       "('D:\\\\', 'Python', '5. pathlib')"
      ]
     },
     "execution_count": 160,
     "metadata": {},
     "output_type": "execute_result"
    }
   ],
   "source": [
    "curr_dir.parts"
   ]
  },
  {
   "cell_type": "code",
   "execution_count": 161,
   "id": "9003e2d1",
   "metadata": {
    "ExecuteTime": {
     "end_time": "2023-12-17T19:22:26.140965Z",
     "start_time": "2023-12-17T19:22:26.125701Z"
    },
    "hidden": true
   },
   "outputs": [
    {
     "data": {
      "text/plain": [
       "('D:\\\\', 'Python', '5. pathlib')"
      ]
     },
     "execution_count": 161,
     "metadata": {},
     "output_type": "execute_result"
    }
   ],
   "source": [
    "Path.cwd().parts"
   ]
  },
  {
   "cell_type": "markdown",
   "id": "eca8d1cf",
   "metadata": {
    "hidden": true
   },
   "source": [
    "### Get the path to the current Python file (does not work in Jupyter Notebooks)"
   ]
  },
  {
   "cell_type": "code",
   "execution_count": 4,
   "id": "79c18771",
   "metadata": {
    "ExecuteTime": {
     "end_time": "2023-12-17T17:38:39.450113Z",
     "start_time": "2023-12-17T17:38:39.301317Z"
    },
    "hidden": true
   },
   "outputs": [
    {
     "ename": "NameError",
     "evalue": "name '__file__' is not defined",
     "output_type": "error",
     "traceback": [
      "\u001b[1;31m---------------------------------------------------------------------------\u001b[0m",
      "\u001b[1;31mNameError\u001b[0m                                 Traceback (most recent call last)",
      "Cell \u001b[1;32mIn[4], line 1\u001b[0m\n\u001b[1;32m----> 1\u001b[0m curr_file \u001b[38;5;241m=\u001b[39m Path(\u001b[38;5;18;43m__file__\u001b[39;49m)\n\u001b[0;32m      2\u001b[0m curr_file\n",
      "\u001b[1;31mNameError\u001b[0m: name '__file__' is not defined"
     ]
    }
   ],
   "source": [
    "curr_file = Path(__file__)\n",
    "curr_file"
   ]
  },
  {
   "cell_type": "raw",
   "id": "1adda65d",
   "metadata": {
    "ExecuteTime": {
     "end_time": "2023-12-17T14:39:20.781224Z",
     "start_time": "2023-12-17T14:39:20.745350Z"
    },
    "hidden": true
   },
   "source": [
    "curr_file = Path(__file__)\n",
    "curr_file"
   ]
  },
  {
   "cell_type": "markdown",
   "id": "ab3fbd36",
   "metadata": {
    "hidden": true
   },
   "source": [
    "### Get first parent folder path"
   ]
  },
  {
   "cell_type": "code",
   "execution_count": 5,
   "id": "2b038f1c",
   "metadata": {
    "ExecuteTime": {
     "end_time": "2023-12-17T17:38:43.380563Z",
     "start_time": "2023-12-17T17:38:43.372479Z"
    },
    "hidden": true
   },
   "outputs": [
    {
     "data": {
      "text/plain": [
       "WindowsPath('D:/Python')"
      ]
     },
     "execution_count": 5,
     "metadata": {},
     "output_type": "execute_result"
    }
   ],
   "source": [
    "one_above = Path.cwd().parent\n",
    "one_above"
   ]
  },
  {
   "cell_type": "markdown",
   "id": "cc0b79e7",
   "metadata": {
    "hidden": true
   },
   "source": [
    "#### OR"
   ]
  },
  {
   "cell_type": "code",
   "execution_count": 6,
   "id": "f7dae5d8",
   "metadata": {
    "ExecuteTime": {
     "end_time": "2023-12-17T17:38:46.360813Z",
     "start_time": "2023-12-17T17:38:46.341274Z"
    },
    "hidden": true
   },
   "outputs": [
    {
     "data": {
      "text/plain": [
       "WindowsPath('D:/Python')"
      ]
     },
     "execution_count": 6,
     "metadata": {},
     "output_type": "execute_result"
    }
   ],
   "source": [
    "one_above = Path.cwd().parents[0]\n",
    "one_above"
   ]
  },
  {
   "cell_type": "markdown",
   "id": "35c6b251",
   "metadata": {
    "hidden": true
   },
   "source": [
    "### Get second parent folder path"
   ]
  },
  {
   "cell_type": "code",
   "execution_count": 7,
   "id": "890d5efa",
   "metadata": {
    "ExecuteTime": {
     "end_time": "2023-12-17T17:38:49.262689Z",
     "start_time": "2023-12-17T17:38:49.254831Z"
    },
    "hidden": true
   },
   "outputs": [
    {
     "data": {
      "text/plain": [
       "WindowsPath('D:/')"
      ]
     },
     "execution_count": 7,
     "metadata": {},
     "output_type": "execute_result"
    }
   ],
   "source": [
    "second_above = Path.cwd().parent.parent\n",
    "second_above"
   ]
  },
  {
   "cell_type": "code",
   "execution_count": 8,
   "id": "90760293",
   "metadata": {
    "ExecuteTime": {
     "end_time": "2023-12-17T17:38:50.360680Z",
     "start_time": "2023-12-17T17:38:50.354485Z"
    },
    "hidden": true
   },
   "outputs": [
    {
     "data": {
      "text/plain": [
       "WindowsPath('D:/')"
      ]
     },
     "execution_count": 8,
     "metadata": {},
     "output_type": "execute_result"
    }
   ],
   "source": [
    "second_above = Path.cwd().parents[1]\n",
    "second_above"
   ]
  },
  {
   "cell_type": "markdown",
   "id": "df7f39a5",
   "metadata": {
    "hidden": true
   },
   "source": [
    "### Join paths"
   ]
  },
  {
   "cell_type": "markdown",
   "id": "74931449",
   "metadata": {
    "hidden": true
   },
   "source": [
    "- path / \"foldername\""
   ]
  },
  {
   "cell_type": "code",
   "execution_count": 9,
   "id": "ce0f5b01",
   "metadata": {
    "ExecuteTime": {
     "end_time": "2023-12-17T17:38:56.394804Z",
     "start_time": "2023-12-17T17:38:56.383392Z"
    },
    "hidden": true
   },
   "outputs": [
    {
     "data": {
      "text/plain": [
       "WindowsPath('D:/Python/5. pathlib/Output')"
      ]
     },
     "execution_count": 9,
     "metadata": {},
     "output_type": "execute_result"
    }
   ],
   "source": [
    "joined_path = Path.joinpath(Path.cwd() / 'Output')\n",
    "joined_path"
   ]
  },
  {
   "cell_type": "markdown",
   "id": "1f318653",
   "metadata": {
    "hidden": true
   },
   "source": [
    "#### OR"
   ]
  },
  {
   "cell_type": "code",
   "execution_count": 55,
   "id": "36c8bc8b",
   "metadata": {
    "ExecuteTime": {
     "end_time": "2023-12-17T17:10:45.352523Z",
     "start_time": "2023-12-17T17:10:45.333744Z"
    },
    "hidden": true
   },
   "outputs": [
    {
     "name": "stdout",
     "output_type": "stream",
     "text": [
      "archive\\100_Python_Problems.txt\n",
      "archive\\ex15_sample.txt\n",
      "archive\\sample.txt\n",
      "archive\\sample2.txt\n"
     ]
    }
   ],
   "source": [
    "for file_path in Path.cwd().glob(\"*.txt\"):\n",
    "    new_path = Path(\"archive\") / file_path.name\n",
    "    print(new_path)"
   ]
  },
  {
   "cell_type": "markdown",
   "id": "2d3311e5",
   "metadata": {
    "hidden": true
   },
   "source": [
    "### Create a directory if it does not exist  $\\longrightarrow$ create a folder"
   ]
  },
  {
   "cell_type": "markdown",
   "id": "ede74000",
   "metadata": {
    "hidden": true
   },
   "source": [
    "> exist_ok: to ignore 'FileExistsError' if the target directory already exists"
   ]
  },
  {
   "cell_type": "code",
   "execution_count": 10,
   "id": "5dea0016",
   "metadata": {
    "ExecuteTime": {
     "end_time": "2023-12-17T17:39:29.329050Z",
     "start_time": "2023-12-17T17:39:29.325656Z"
    },
    "hidden": true
   },
   "outputs": [],
   "source": [
    "joined_path.mkdir(exist_ok=True)"
   ]
  },
  {
   "cell_type": "markdown",
   "id": "d3afd314",
   "metadata": {
    "hidden": true
   },
   "source": [
    "### Empty Folder inside Empty folder  --> Parents = True "
   ]
  },
  {
   "cell_type": "code",
   "execution_count": null,
   "id": "543dbe5f",
   "metadata": {
    "hidden": true
   },
   "outputs": [],
   "source": [
    "joined_path = Path.joinpath(Path.cwd() / 'data'/'raw')\n",
    "\n",
    "joined_path.mkdir(parents=True,exist_ok=True)"
   ]
  },
  {
   "cell_type": "markdown",
   "id": "7724377a",
   "metadata": {
    "hidden": true
   },
   "source": [
    "### Check if the path is a folder"
   ]
  },
  {
   "cell_type": "code",
   "execution_count": 11,
   "id": "966204db",
   "metadata": {
    "ExecuteTime": {
     "end_time": "2023-12-17T17:39:30.319307Z",
     "start_time": "2023-12-17T17:39:30.302973Z"
    },
    "hidden": true
   },
   "outputs": [
    {
     "data": {
      "text/plain": [
       "WindowsPath('D:/Python/5. pathlib/Output')"
      ]
     },
     "execution_count": 11,
     "metadata": {},
     "output_type": "execute_result"
    }
   ],
   "source": [
    "joined_path"
   ]
  },
  {
   "cell_type": "code",
   "execution_count": 12,
   "id": "8c2c0c43",
   "metadata": {
    "ExecuteTime": {
     "end_time": "2023-12-17T17:39:30.721396Z",
     "start_time": "2023-12-17T17:39:30.713422Z"
    },
    "hidden": true
   },
   "outputs": [
    {
     "data": {
      "text/plain": [
       "True"
      ]
     },
     "execution_count": 12,
     "metadata": {},
     "output_type": "execute_result"
    }
   ],
   "source": [
    "joined_path.is_dir()"
   ]
  },
  {
   "cell_type": "markdown",
   "id": "f10f3d19",
   "metadata": {
    "hidden": true
   },
   "source": [
    "### Check if the path is a file"
   ]
  },
  {
   "cell_type": "code",
   "execution_count": 13,
   "id": "d4b42436",
   "metadata": {
    "ExecuteTime": {
     "end_time": "2023-12-17T17:39:33.227808Z",
     "start_time": "2023-12-17T17:39:33.214429Z"
    },
    "hidden": true
   },
   "outputs": [
    {
     "data": {
      "text/plain": [
       "WindowsPath('D:/Python/5. pathlib')"
      ]
     },
     "execution_count": 13,
     "metadata": {},
     "output_type": "execute_result"
    }
   ],
   "source": [
    "Path.cwd()"
   ]
  },
  {
   "cell_type": "code",
   "execution_count": 14,
   "id": "38f5a216",
   "metadata": {
    "ExecuteTime": {
     "end_time": "2023-12-17T17:39:33.772666Z",
     "start_time": "2023-12-17T17:39:33.764255Z"
    },
    "hidden": true
   },
   "outputs": [
    {
     "data": {
      "text/plain": [
       "False"
      ]
     },
     "execution_count": 14,
     "metadata": {},
     "output_type": "execute_result"
    }
   ],
   "source": [
    "joined_path.is_file()"
   ]
  },
  {
   "cell_type": "code",
   "execution_count": 19,
   "id": "2c24fe07",
   "metadata": {
    "ExecuteTime": {
     "end_time": "2023-12-17T17:40:50.960381Z",
     "start_time": "2023-12-17T17:40:50.945920Z"
    },
    "hidden": true
   },
   "outputs": [
    {
     "name": "stdout",
     "output_type": "stream",
     "text": [
      "D:\\Python\\5. pathlib\\Pathlib_Cheat_Sheet.pdf\n"
     ]
    },
    {
     "data": {
      "text/plain": [
       "WindowsPath('D:/Python/5. pathlib/Pathlib_Cheat_Sheet.pdf')"
      ]
     },
     "execution_count": 19,
     "metadata": {},
     "output_type": "execute_result"
    }
   ],
   "source": [
    "print(Path.cwd() / \"Pathlib_Cheat_Sheet.pdf\")\n",
    "\n",
    "Path.cwd() / \"Pathlib_Cheat_Sheet.pdf\""
   ]
  },
  {
   "cell_type": "markdown",
   "id": "8b15ab6f",
   "metadata": {
    "hidden": true
   },
   "source": [
    "##### check if  \"Pathlib_Cheat_Sheet\" is a fie or not"
   ]
  },
  {
   "cell_type": "code",
   "execution_count": 18,
   "id": "ff627622",
   "metadata": {
    "ExecuteTime": {
     "end_time": "2023-12-17T17:40:27.197840Z",
     "start_time": "2023-12-17T17:40:27.188370Z"
    },
    "hidden": true
   },
   "outputs": [
    {
     "data": {
      "text/plain": [
       "True"
      ]
     },
     "execution_count": 18,
     "metadata": {},
     "output_type": "execute_result"
    }
   ],
   "source": [
    "example_file = Path.cwd() / \"Pathlib_Cheat_Sheet.pdf\"\n",
    "example_file.is_file()"
   ]
  },
  {
   "cell_type": "markdown",
   "id": "2153b044",
   "metadata": {
    "hidden": true
   },
   "source": [
    "## Picking Out Components of a Path\n",
    "\n",
    "\n",
    "A file or directory path consists of different parts. When you use pathlib, these parts are conveniently available as properties. Basic examples include:\n",
    "\n",
    "- __.name :__ The filename without any directory\n",
    "\n",
    "\n",
    "- __.stem :__ The filename without the file extension\n",
    "\n",
    "\n",
    "- __.suffix :__ The file extension\n",
    "\n",
    "\n",
    "- __.anchor :__ The part of the path before the directories\n",
    "\n",
    "\n",
    "- __.parent :__ The directory containing the file, or the parent directory if the path is a directory"
   ]
  },
  {
   "cell_type": "markdown",
   "id": "dffd922c",
   "metadata": {
    "hidden": true
   },
   "source": [
    "### extract filename:"
   ]
  },
  {
   "cell_type": "code",
   "execution_count": 20,
   "id": "f381308b",
   "metadata": {
    "ExecuteTime": {
     "end_time": "2023-12-17T17:41:01.087681Z",
     "start_time": "2023-12-17T17:41:01.071731Z"
    },
    "hidden": true
   },
   "outputs": [
    {
     "data": {
      "text/plain": [
       "'Pathlib_Cheat_Sheet.pdf'"
      ]
     },
     "execution_count": 20,
     "metadata": {},
     "output_type": "execute_result"
    }
   ],
   "source": [
    "example_file.name"
   ]
  },
  {
   "cell_type": "code",
   "execution_count": 21,
   "id": "06f4afbb",
   "metadata": {
    "ExecuteTime": {
     "end_time": "2023-12-17T17:41:03.540276Z",
     "start_time": "2023-12-17T17:41:03.530059Z"
    },
    "hidden": true
   },
   "outputs": [
    {
     "data": {
      "text/plain": [
       "WindowsPath('D:/Python/5. pathlib')"
      ]
     },
     "execution_count": 21,
     "metadata": {},
     "output_type": "execute_result"
    }
   ],
   "source": [
    "example_file.parent"
   ]
  },
  {
   "cell_type": "markdown",
   "id": "137ea579",
   "metadata": {
    "hidden": true
   },
   "source": [
    "#### Note:  .parent returns a new Path object, whereas the other properties return strings. This means, for instance, that you can chain .parent"
   ]
  },
  {
   "cell_type": "markdown",
   "id": "47da7f3e",
   "metadata": {
    "hidden": true
   },
   "source": [
    "### get filename without extension"
   ]
  },
  {
   "cell_type": "code",
   "execution_count": 22,
   "id": "c800cdbc",
   "metadata": {
    "ExecuteTime": {
     "end_time": "2023-12-17T17:41:06.627537Z",
     "start_time": "2023-12-17T17:41:06.620037Z"
    },
    "hidden": true
   },
   "outputs": [
    {
     "data": {
      "text/plain": [
       "'Pathlib_Cheat_Sheet'"
      ]
     },
     "execution_count": 22,
     "metadata": {},
     "output_type": "execute_result"
    }
   ],
   "source": [
    "example_file.stem"
   ]
  },
  {
   "cell_type": "markdown",
   "id": "fc5f1640",
   "metadata": {
    "hidden": true
   },
   "source": [
    "### get the file extension"
   ]
  },
  {
   "cell_type": "code",
   "execution_count": 23,
   "id": "fdea965b",
   "metadata": {
    "ExecuteTime": {
     "end_time": "2023-12-17T17:41:11.282781Z",
     "start_time": "2023-12-17T17:41:11.268606Z"
    },
    "hidden": true
   },
   "outputs": [
    {
     "data": {
      "text/plain": [
       "'.pdf'"
      ]
     },
     "execution_count": 23,
     "metadata": {},
     "output_type": "execute_result"
    }
   ],
   "source": [
    "example_file.suffix"
   ]
  },
  {
   "cell_type": "markdown",
   "id": "6633943a",
   "metadata": {
    "hidden": true
   },
   "source": [
    "### get path before the directories"
   ]
  },
  {
   "cell_type": "code",
   "execution_count": 24,
   "id": "f6a2f95b",
   "metadata": {
    "ExecuteTime": {
     "end_time": "2023-12-17T17:41:13.690482Z",
     "start_time": "2023-12-17T17:41:13.676301Z"
    },
    "hidden": true
   },
   "outputs": [
    {
     "data": {
      "text/plain": [
       "'D:\\\\'"
      ]
     },
     "execution_count": 24,
     "metadata": {},
     "output_type": "execute_result"
    }
   ],
   "source": [
    "example_file.anchor"
   ]
  },
  {
   "cell_type": "markdown",
   "id": "ca71e898",
   "metadata": {
    "hidden": true
   },
   "source": [
    "### iterate over files in a current directory $\\longrightarrow$ iter_dir()"
   ]
  },
  {
   "cell_type": "code",
   "execution_count": 25,
   "id": "199f390d",
   "metadata": {
    "ExecuteTime": {
     "end_time": "2023-12-17T17:41:15.685012Z",
     "start_time": "2023-12-17T17:41:15.668209Z"
    },
    "hidden": true
   },
   "outputs": [
    {
     "data": {
      "text/plain": [
       "WindowsPath('D:/Python/5. pathlib')"
      ]
     },
     "execution_count": 25,
     "metadata": {},
     "output_type": "execute_result"
    }
   ],
   "source": [
    "curr_dir"
   ]
  },
  {
   "cell_type": "code",
   "execution_count": 26,
   "id": "3c374ee0",
   "metadata": {
    "ExecuteTime": {
     "end_time": "2023-12-17T17:41:37.389825Z",
     "start_time": "2023-12-17T17:41:37.370000Z"
    },
    "hidden": true
   },
   "outputs": [
    {
     "data": {
      "text/plain": [
       "WindowsPath('D:/Python')"
      ]
     },
     "execution_count": 26,
     "metadata": {},
     "output_type": "execute_result"
    }
   ],
   "source": [
    "new_dir = curr_dir.parent\n",
    "new_dir"
   ]
  },
  {
   "cell_type": "code",
   "execution_count": 27,
   "id": "5b46521e",
   "metadata": {
    "ExecuteTime": {
     "end_time": "2023-12-17T17:41:46.958704Z",
     "start_time": "2023-12-17T17:41:46.940270Z"
    },
    "hidden": true
   },
   "outputs": [
    {
     "name": "stdout",
     "output_type": "stream",
     "text": [
      "D:\\Python\\.ipynb_checkpoints\n",
      "D:\\Python\\1. PythonBasics_CampusX.ipynb\n",
      "D:\\Python\\100 Python Practice Problems.docx\n",
      "D:\\Python\\100_Python_Problems.txt\n",
      "D:\\Python\\2. Function_OOP_CampusX_PythonNotes.ipynb\n",
      "D:\\Python\\3. ExceptionHandling_Decorators_Namespace_CampusX.ipynb\n",
      "D:\\Python\\4. File Handling\n",
      "D:\\Python\\5. pathlib\n",
      "D:\\Python\\abrakadabra\n",
      "D:\\Python\\alakazam\n",
      "D:\\Python\\CampusX_Python Interview Question Compiled.docx\n",
      "D:\\Python\\campusX_python_practice_problems.ipynb\n",
      "D:\\Python\\Campus_X_Python_Practice_Problems.docx\n",
      "D:\\Python\\Corey schafer.ipynb\n",
      "D:\\Python\\ex15_sample.txt\n",
      "D:\\Python\\exception handling.ipynb\n",
      "D:\\Python\\sample.txt\n",
      "D:\\Python\\sample2.txt\n",
      "D:\\Python\\TASK_Functions_OOP_CampusX.ipynb\n",
      "D:\\Python\\TASK_PythonBasics_CampusX.ipynb\n",
      "D:\\Python\\test_calc.py\n",
      "D:\\Python\\Untitled-1.py\n"
     ]
    }
   ],
   "source": [
    "for file in new_dir.iterdir():\n",
    "    print(file)"
   ]
  },
  {
   "cell_type": "markdown",
   "id": "147ab62a",
   "metadata": {
    "hidden": true
   },
   "source": [
    "### iterate over files in a specific directory"
   ]
  },
  {
   "cell_type": "code",
   "execution_count": 31,
   "id": "4632c3ed",
   "metadata": {
    "ExecuteTime": {
     "end_time": "2023-12-17T17:42:15.314518Z",
     "start_time": "2023-12-17T17:42:15.300978Z"
    },
    "hidden": true
   },
   "outputs": [
    {
     "data": {
      "text/plain": [
       "WindowsPath('D:/Python/4. File Handling')"
      ]
     },
     "execution_count": 31,
     "metadata": {},
     "output_type": "execute_result"
    }
   ],
   "source": [
    "specific_dir = new_dir / '4. File Handling'\n",
    "specific_dir"
   ]
  },
  {
   "cell_type": "code",
   "execution_count": 32,
   "id": "1ebfe6c0",
   "metadata": {
    "ExecuteTime": {
     "end_time": "2023-12-17T17:42:16.150314Z",
     "start_time": "2023-12-17T17:42:16.130842Z"
    },
    "hidden": true
   },
   "outputs": [
    {
     "name": "stdout",
     "output_type": "stream",
     "text": [
      "D:\\Python\\4. File Handling\\.ipynb_checkpoints\n",
      "D:\\Python\\4. File Handling\\big.txt\n",
      "D:\\Python\\4. File Handling\\cop_of_a_file.png\n",
      "D:\\Python\\4. File Handling\\demo.json\n",
      "D:\\Python\\4. File Handling\\demo1.json\n",
      "D:\\Python\\4. File Handling\\demo2.json\n",
      "D:\\Python\\4. File Handling\\demo4.json\n",
      "D:\\Python\\4. File Handling\\demo5.json\n",
      "D:\\Python\\4. File Handling\\FileHandling_Serialization&Deserialization_Recursion_CampusX.ipynb\n",
      "D:\\Python\\4. File Handling\\lags12.jpg\n",
      "D:\\Python\\4. File Handling\\person.pkl\n",
      "D:\\Python\\4. File Handling\\sample.txt\n",
      "D:\\Python\\4. File Handling\\sample1.txt\n",
      "D:\\Python\\4. File Handling\\sample2.txt\n",
      "D:\\Python\\4. File Handling\\Task_Filehandling.ipynb\n",
      "D:\\Python\\4. File Handling\\yoyo.txt\n"
     ]
    }
   ],
   "source": [
    "for file in specific_dir.iterdir():\n",
    "    print(file)"
   ]
  },
  {
   "cell_type": "markdown",
   "id": "64a88966",
   "metadata": {
    "hidden": true
   },
   "source": [
    "### iterate over sub-folders too: $\\longrightarrow$ rglob(\"*\")"
   ]
  },
  {
   "cell_type": "code",
   "execution_count": 35,
   "id": "3f207433",
   "metadata": {
    "ExecuteTime": {
     "end_time": "2023-12-17T17:42:37.888493Z",
     "start_time": "2023-12-17T17:42:37.881971Z"
    },
    "hidden": true
   },
   "outputs": [
    {
     "data": {
      "text/plain": [
       "WindowsPath('D:/Python')"
      ]
     },
     "execution_count": 35,
     "metadata": {},
     "output_type": "execute_result"
    }
   ],
   "source": [
    "new_dir"
   ]
  },
  {
   "cell_type": "code",
   "execution_count": 34,
   "id": "1d166833",
   "metadata": {
    "ExecuteTime": {
     "end_time": "2023-12-17T17:42:32.207841Z",
     "start_time": "2023-12-17T17:42:32.191955Z"
    },
    "hidden": true
   },
   "outputs": [
    {
     "name": "stdout",
     "output_type": "stream",
     "text": [
      "D:\\Python\\.ipynb_checkpoints\n",
      "D:\\Python\\1. PythonBasics_CampusX.ipynb\n",
      "D:\\Python\\100 Python Practice Problems.docx\n",
      "D:\\Python\\100_Python_Problems.txt\n",
      "D:\\Python\\2. Function_OOP_CampusX_PythonNotes.ipynb\n",
      "D:\\Python\\3. ExceptionHandling_Decorators_Namespace_CampusX.ipynb\n",
      "D:\\Python\\4. File Handling\n",
      "D:\\Python\\5. pathlib\n",
      "D:\\Python\\abrakadabra\n",
      "D:\\Python\\alakazam\n",
      "D:\\Python\\CampusX_Python Interview Question Compiled.docx\n",
      "D:\\Python\\campusX_python_practice_problems.ipynb\n",
      "D:\\Python\\Campus_X_Python_Practice_Problems.docx\n",
      "D:\\Python\\Corey schafer.ipynb\n",
      "D:\\Python\\ex15_sample.txt\n",
      "D:\\Python\\exception handling.ipynb\n",
      "D:\\Python\\sample.txt\n",
      "D:\\Python\\sample2.txt\n",
      "D:\\Python\\TASK_Functions_OOP_CampusX.ipynb\n",
      "D:\\Python\\TASK_PythonBasics_CampusX.ipynb\n",
      "D:\\Python\\test_calc.py\n",
      "D:\\Python\\Untitled-1.py\n",
      "D:\\Python\\.ipynb_checkpoints\\1. PythonBasics_CampusX-checkpoint.ipynb\n",
      "D:\\Python\\.ipynb_checkpoints\\2. Function_OOP_CampusX_PythonNotes-checkpoint.ipynb\n",
      "D:\\Python\\.ipynb_checkpoints\\3. ExceptionHandling_Decorators_Namespace_CampusX-checkpoint.ipynb\n",
      "D:\\Python\\.ipynb_checkpoints\\Corey schafer-checkpoint.ipynb\n",
      "D:\\Python\\.ipynb_checkpoints\\exception handling-checkpoint.ipynb\n",
      "D:\\Python\\.ipynb_checkpoints\\TASK_Functions_OOP_CampusX-checkpoint.ipynb\n",
      "D:\\Python\\.ipynb_checkpoints\\TASK_PythonBasics_CampusX-checkpoint.ipynb\n",
      "D:\\Python\\4. File Handling\\.ipynb_checkpoints\n",
      "D:\\Python\\4. File Handling\\big.txt\n",
      "D:\\Python\\4. File Handling\\cop_of_a_file.png\n",
      "D:\\Python\\4. File Handling\\demo.json\n",
      "D:\\Python\\4. File Handling\\demo1.json\n",
      "D:\\Python\\4. File Handling\\demo2.json\n",
      "D:\\Python\\4. File Handling\\demo4.json\n",
      "D:\\Python\\4. File Handling\\demo5.json\n",
      "D:\\Python\\4. File Handling\\FileHandling_Serialization&Deserialization_Recursion_CampusX.ipynb\n",
      "D:\\Python\\4. File Handling\\lags12.jpg\n",
      "D:\\Python\\4. File Handling\\person.pkl\n",
      "D:\\Python\\4. File Handling\\sample.txt\n",
      "D:\\Python\\4. File Handling\\sample1.txt\n",
      "D:\\Python\\4. File Handling\\sample2.txt\n",
      "D:\\Python\\4. File Handling\\Task_Filehandling.ipynb\n",
      "D:\\Python\\4. File Handling\\yoyo.txt\n",
      "D:\\Python\\4. File Handling\\.ipynb_checkpoints\\FileHandling_Serialization&Deserialization_Recursion_CampusX-checkpoint.ipynb\n",
      "D:\\Python\\4. File Handling\\.ipynb_checkpoints\\Task_Filehandling-checkpoint.ipynb\n",
      "D:\\Python\\5. pathlib\\.ipynb_checkpoints\n",
      "D:\\Python\\5. pathlib\\5. pathlib.ipynb\n",
      "D:\\Python\\5. pathlib\\Output\n",
      "D:\\Python\\5. pathlib\\Pathlib_Cheat_Sheet.pdf\n",
      "D:\\Python\\5. pathlib\\.ipynb_checkpoints\\5. pathlib-checkpoint.ipynb\n"
     ]
    }
   ],
   "source": [
    "for file in new_dir.rglob(\"*\"):\n",
    "    print(file)"
   ]
  },
  {
   "cell_type": "markdown",
   "id": "e7d3fbc1",
   "metadata": {
    "hidden": true
   },
   "source": [
    "### iterate over files in a directory with specific extension"
   ]
  },
  {
   "cell_type": "markdown",
   "id": "dad9961f",
   "metadata": {
    "hidden": true
   },
   "source": [
    "##### print name of python files:"
   ]
  },
  {
   "cell_type": "code",
   "execution_count": 36,
   "id": "a3bb9a08",
   "metadata": {
    "ExecuteTime": {
     "end_time": "2023-12-17T17:42:44.716633Z",
     "start_time": "2023-12-17T17:42:44.703567Z"
    },
    "hidden": true
   },
   "outputs": [
    {
     "name": "stdout",
     "output_type": "stream",
     "text": [
      "D:\\Python\\1. PythonBasics_CampusX.ipynb\n",
      "D:\\Python\\2. Function_OOP_CampusX_PythonNotes.ipynb\n",
      "D:\\Python\\3. ExceptionHandling_Decorators_Namespace_CampusX.ipynb\n",
      "D:\\Python\\campusX_python_practice_problems.ipynb\n",
      "D:\\Python\\Corey schafer.ipynb\n",
      "D:\\Python\\exception handling.ipynb\n",
      "D:\\Python\\TASK_Functions_OOP_CampusX.ipynb\n",
      "D:\\Python\\TASK_PythonBasics_CampusX.ipynb\n"
     ]
    }
   ],
   "source": [
    "for file in new_dir.iterdir():\n",
    "    if file.suffix == '.ipynb':\n",
    "        print(file)"
   ]
  },
  {
   "cell_type": "markdown",
   "id": "d057208b",
   "metadata": {
    "hidden": true
   },
   "source": [
    "##### print name of txt files:"
   ]
  },
  {
   "cell_type": "code",
   "execution_count": 37,
   "id": "2afedade",
   "metadata": {
    "ExecuteTime": {
     "end_time": "2023-12-17T17:42:51.426622Z",
     "start_time": "2023-12-17T17:42:51.412747Z"
    },
    "hidden": true
   },
   "outputs": [
    {
     "name": "stdout",
     "output_type": "stream",
     "text": [
      "D:\\Python\\100_Python_Problems.txt\n",
      "D:\\Python\\ex15_sample.txt\n",
      "D:\\Python\\sample.txt\n",
      "D:\\Python\\sample2.txt\n"
     ]
    }
   ],
   "source": [
    "for file in new_dir.iterdir():\n",
    "    if file.suffix == '.txt':\n",
    "        print(file)"
   ]
  },
  {
   "cell_type": "markdown",
   "id": "c7d0be5b",
   "metadata": {
    "hidden": true
   },
   "source": [
    "### changing path into correct form : "
   ]
  },
  {
   "cell_type": "code",
   "execution_count": 38,
   "id": "9ba361bf",
   "metadata": {
    "ExecuteTime": {
     "end_time": "2023-12-17T17:42:56.799890Z",
     "start_time": "2023-12-17T17:42:56.781615Z"
    },
    "hidden": true
   },
   "outputs": [
    {
     "data": {
      "text/plain": [
       "WindowsPath('C:/Users/philipp/realpython/file.txt')"
      ]
     },
     "execution_count": 38,
     "metadata": {},
     "output_type": "execute_result"
    }
   ],
   "source": [
    ">>> from pathlib import Path\n",
    ">>> Path(r\"C:\\Users\\philipp\\realpython\\file.txt\")"
   ]
  },
  {
   "cell_type": "markdown",
   "id": "3d47b2bb",
   "metadata": {
    "hidden": true
   },
   "source": [
    "## Find path of a file $\\longrightarrow$ .resolve()\n",
    "\n",
    "> gives absolute path"
   ]
  },
  {
   "cell_type": "code",
   "execution_count": 187,
   "id": "b3d6c90c",
   "metadata": {
    "ExecuteTime": {
     "end_time": "2023-12-18T08:44:08.475804Z",
     "start_time": "2023-12-18T08:44:08.465704Z"
    },
    "hidden": true
   },
   "outputs": [
    {
     "name": "stdout",
     "output_type": "stream",
     "text": [
      "shopping_list.md\n",
      "D:\\Python\\5. pathlib\\shopping_list.md\n"
     ]
    }
   ],
   "source": [
    "path_of_file = Path(\"shopping_list.md\")\n",
    "print(path_of_file)\n",
    "\n",
    "print(path_of_file.resolve())"
   ]
  },
  {
   "cell_type": "markdown",
   "id": "f84a4738",
   "metadata": {
    "hidden": true
   },
   "source": [
    "## Reading Files"
   ]
  },
  {
   "cell_type": "code",
   "execution_count": null,
   "id": "dc0c1006",
   "metadata": {
    "hidden": true
   },
   "outputs": [],
   "source": [
    "from pathlib import Path"
   ]
  },
  {
   "cell_type": "code",
   "execution_count": 54,
   "id": "b03db5a8",
   "metadata": {
    "ExecuteTime": {
     "end_time": "2023-12-17T18:08:59.784626Z",
     "start_time": "2023-12-17T18:08:59.776696Z"
    },
    "hidden": true
   },
   "outputs": [
    {
     "data": {
      "text/plain": [
       "WindowsPath('D:/Python/5. pathlib/shopping_list.md')"
      ]
     },
     "execution_count": 54,
     "metadata": {},
     "output_type": "execute_result"
    }
   ],
   "source": [
    "path = Path.cwd() / \"shopping_list.md\"\n",
    "path"
   ]
  },
  {
   "cell_type": "code",
   "execution_count": 55,
   "id": "7bc68dce",
   "metadata": {
    "ExecuteTime": {
     "end_time": "2023-12-17T18:09:05.904909Z",
     "start_time": "2023-12-17T18:09:05.897760Z"
    },
    "hidden": true
   },
   "outputs": [
    {
     "name": "stdout",
     "output_type": "stream",
     "text": [
      "* Banana\n",
      "* Apple\n",
      "* Peach\n",
      "* Chocolate\n",
      "* Nougat Bits\n"
     ]
    }
   ],
   "source": [
    "content = path.read_text(encoding=\"utf-8\")\n",
    "\n",
    "groceries = [line for line in content.splitlines() if line.startswith(\"*\")]\n",
    "print(\"\\n\".join(groceries))"
   ]
  },
  {
   "cell_type": "markdown",
   "id": "fbf5cd73",
   "metadata": {
    "hidden": true
   },
   "source": [
    "#### OR"
   ]
  },
  {
   "cell_type": "code",
   "execution_count": 39,
   "id": "09171db7",
   "metadata": {
    "ExecuteTime": {
     "end_time": "2023-12-17T17:57:58.076705Z",
     "start_time": "2023-12-17T17:57:58.072194Z"
    },
    "hidden": true
   },
   "outputs": [],
   "source": [
    "from pathlib import Path"
   ]
  },
  {
   "cell_type": "code",
   "execution_count": 40,
   "id": "bace6fef",
   "metadata": {
    "ExecuteTime": {
     "end_time": "2023-12-17T17:58:26.842408Z",
     "start_time": "2023-12-17T17:58:26.833589Z"
    },
    "hidden": true
   },
   "outputs": [
    {
     "data": {
      "text/plain": [
       "WindowsPath('D:/Python/5. pathlib/shopping_list.md')"
      ]
     },
     "execution_count": 40,
     "metadata": {},
     "output_type": "execute_result"
    }
   ],
   "source": [
    "path = Path.cwd()/'shopping_list.md'\n",
    "path"
   ]
  },
  {
   "cell_type": "code",
   "execution_count": 50,
   "id": "336435a2",
   "metadata": {
    "ExecuteTime": {
     "end_time": "2023-12-17T18:02:27.270360Z",
     "start_time": "2023-12-17T18:02:27.252020Z"
    },
    "hidden": true
   },
   "outputs": [
    {
     "name": "stdout",
     "output_type": "stream",
     "text": [
      "['* Banana', '* Apple', '* Peach', '* Chocolate', '* Nougat Bits']\n",
      "\n",
      "* Banana\n",
      "* Apple\n",
      "* Peach\n",
      "* Chocolate\n",
      "* Nougat Bits\n"
     ]
    }
   ],
   "source": [
    "with path.open(mode='r', encoding='utf-8') as md_file:\n",
    "    content = md_file.read()\n",
    "    groceries = [line for line in content.splitlines() if line.startswith(\"*\")]\n",
    "    print(groceries)\n",
    "    print()\n",
    "    print(\"\\n\".join(groceries))"
   ]
  },
  {
   "cell_type": "markdown",
   "id": "1f141229",
   "metadata": {
    "hidden": true
   },
   "source": [
    "### Short version to read file :"
   ]
  },
  {
   "cell_type": "code",
   "execution_count": 184,
   "id": "bd2776c3",
   "metadata": {
    "ExecuteTime": {
     "end_time": "2023-12-18T08:40:49.420000Z",
     "start_time": "2023-12-18T08:40:49.394070Z"
    },
    "hidden": true
   },
   "outputs": [
    {
     "name": "stdout",
     "output_type": "stream",
     "text": [
      "<!-- shopping_list.md -->\n",
      "\n",
      "# Shopping List\n",
      "\n",
      "## Fruit\n",
      "\n",
      "* Banana\n",
      "* Apple\n",
      "* Peach\n",
      "\n",
      "## Candy\n",
      "\n",
      "* Chocolate\n",
      "* Nougat Bits\n"
     ]
    }
   ],
   "source": [
    "path = Path.cwd()/'shopping_list.md'\n",
    "print(path.read_text())"
   ]
  },
  {
   "cell_type": "markdown",
   "id": "0a9e9b9a",
   "metadata": {
    "hidden": true
   },
   "source": [
    "## pathlib offers some convenient methods to read and write files:\n",
    "\n",
    "- __.read_text()__ opens the path in text mode and returns the contents as a string.\n",
    "\n",
    "\n",
    "- __.read_bytes()__ opens the path in binary mode and returns the contents as a byte string.\n",
    "\n",
    "\n",
    "- __.write_text()__ opens the path and writes string data to it.\n",
    "\n",
    "\n",
    "- __.write_bytes()__ opens the path in binary mode and writes data to it.\n",
    "\n",
    "\n",
    "__NOTE : Each of these methods handles the opening and closing of the file.__\n"
   ]
  },
  {
   "cell_type": "markdown",
   "id": "41143758",
   "metadata": {
    "hidden": true
   },
   "source": [
    "1. **`.read_text()`:**\n",
    "   - Opens the path in text mode and returns the contents as a string.\n",
    "\n",
    "```python\n",
    "from pathlib import Path\n",
    "\n",
    "# Create a Path object\n",
    "file_path = Path(\"example.txt\")\n",
    "\n",
    "# Write some text to the file\n",
    "file_path.write_text(\"Hello, this is an example text file.\")\n",
    "\n",
    "# Read the contents of the file as a string\n",
    "file_contents = file_path.read_text()\n",
    "\n",
    "# Print the contents\n",
    "print(file_contents)\n",
    "```"
   ]
  },
  {
   "cell_type": "markdown",
   "id": "0a05d160",
   "metadata": {
    "hidden": true
   },
   "source": [
    "2. **`.read_bytes()`:**\n",
    "   - Opens the path in binary mode and returns the contents as a byte string.\n",
    "\n",
    "```python\n",
    "from pathlib import Path\n",
    "\n",
    "# Create a Path object\n",
    "binary_file_path = Path(\"example.bin\")\n",
    "\n",
    "# Write some binary data to the file\n",
    "binary_data = b'\\x48\\x65\\x6C\\x6C\\x6F'  # Hello in ASCII\n",
    "binary_file_path.write_bytes(binary_data)\n",
    "\n",
    "# Read the contents of the file as bytes\n",
    "file_contents_bytes = binary_file_path.read_bytes()\n",
    "\n",
    "# Print the contents\n",
    "print(file_contents_bytes)\n",
    "```"
   ]
  },
  {
   "cell_type": "markdown",
   "id": "42e14d26",
   "metadata": {
    "hidden": true
   },
   "source": [
    "3. **`.write_text()`:**\n",
    "   - Opens the path and writes string data to it.\n",
    "\n",
    "```python\n",
    "from pathlib import Path\n",
    "\n",
    "# Create a Path object\n",
    "text_file_path = Path(\"example_write.txt\")\n",
    "\n",
    "# Write text to the file\n",
    "text_file_path.write_text(\"This text will be written to the file.\")\n",
    "\n",
    "# Check the contents of the file\n",
    "print(text_file_path.read_text())\n",
    "```"
   ]
  },
  {
   "cell_type": "markdown",
   "id": "0e8cb1d9",
   "metadata": {
    "hidden": true
   },
   "source": [
    "4. **`.write_bytes()`:**\n",
    "   - Opens the path in binary mode and writes data to it.\n",
    "\n",
    "```python\n",
    "from pathlib import Path\n",
    "\n",
    "# Create a Path object\n",
    "binary_file_path_write = Path(\"example_write.bin\")\n",
    "\n",
    "# Write binary data to the file\n",
    "binary_data_to_write = b'\\x41\\x42\\x43\\x44'  # ABCD in ASCII\n",
    "binary_file_path_write.write_bytes(binary_data_to_write)\n",
    "\n",
    "# Check the contents of the file\n",
    "print(binary_file_path_write.read_bytes())\n",
    "```"
   ]
  },
  {
   "cell_type": "markdown",
   "id": "cac5400b",
   "metadata": {
    "hidden": true
   },
   "source": [
    "Note: Ensure that you have the necessary permissions to read from and write to the specified file paths."
   ]
  },
  {
   "cell_type": "markdown",
   "id": "690c91c2",
   "metadata": {
    "hidden": true
   },
   "source": [
    "### specify paths directly as filenames : "
   ]
  },
  {
   "cell_type": "code",
   "execution_count": 52,
   "id": "16b69b09",
   "metadata": {
    "ExecuteTime": {
     "end_time": "2023-12-17T18:06:00.453561Z",
     "start_time": "2023-12-17T18:06:00.448561Z"
    },
    "hidden": true
   },
   "outputs": [
    {
     "data": {
      "text/plain": [
       "'<!-- shopping_list.md -->\\n\\n# Shopping List\\n\\n## Fruit\\n\\n* Banana\\n* Apple\\n* Peach\\n\\n## Candy\\n\\n* Chocolate\\n* Nougat Bits'"
      ]
     },
     "execution_count": 52,
     "metadata": {},
     "output_type": "execute_result"
    }
   ],
   "source": [
    "content = Path(\"shopping_list.md\").read_text(encoding=\"utf-8\")\n",
    "content"
   ]
  },
  {
   "cell_type": "code",
   "execution_count": 53,
   "id": "5bc0a3a5",
   "metadata": {
    "ExecuteTime": {
     "end_time": "2023-12-17T18:06:04.827762Z",
     "start_time": "2023-12-17T18:06:04.811282Z"
    },
    "hidden": true
   },
   "outputs": [
    {
     "name": "stdout",
     "output_type": "stream",
     "text": [
      "* Banana\n",
      "* Apple\n",
      "* Peach\n",
      "* Chocolate\n",
      "* Nougat Bits\n"
     ]
    }
   ],
   "source": [
    "groceries = [line for line in content.splitlines() if line.startswith(\"*\")]\n",
    "print(\"\\n\".join(groceries))"
   ]
  },
  {
   "cell_type": "markdown",
   "id": "6838aa55",
   "metadata": {
    "hidden": true
   },
   "source": [
    "## Creating and Writing Files"
   ]
  },
  {
   "cell_type": "markdown",
   "id": "47570b60",
   "metadata": {
    "hidden": true
   },
   "source": [
    "If you want to create a plain shopping list that only contains the groceries, then you can use .write_text()"
   ]
  },
  {
   "cell_type": "code",
   "execution_count": 188,
   "id": "712705f1",
   "metadata": {
    "ExecuteTime": {
     "end_time": "2023-12-18T10:42:48.664962Z",
     "start_time": "2023-12-18T10:42:48.643748Z"
    },
    "hidden": true
   },
   "outputs": [],
   "source": [
    "from pathlib import Path"
   ]
  },
  {
   "cell_type": "code",
   "execution_count": 57,
   "id": "d27c50db",
   "metadata": {
    "ExecuteTime": {
     "end_time": "2023-12-17T18:12:13.071276Z",
     "start_time": "2023-12-17T18:12:13.063757Z"
    },
    "hidden": true
   },
   "outputs": [
    {
     "data": {
      "text/plain": [
       "'<!-- shopping_list.md -->\\n\\n# Shopping List\\n\\n## Fruit\\n\\n* Banana\\n* Apple\\n* Peach\\n\\n## Candy\\n\\n* Chocolate\\n* Nougat Bits'"
      ]
     },
     "execution_count": 57,
     "metadata": {},
     "output_type": "execute_result"
    }
   ],
   "source": [
    "content = Path(\"shopping_list.md\").read_text(encoding='utf-8')\n",
    "content"
   ]
  },
  {
   "cell_type": "code",
   "execution_count": 58,
   "id": "00fadbbd",
   "metadata": {
    "ExecuteTime": {
     "end_time": "2023-12-17T18:13:35.512557Z",
     "start_time": "2023-12-17T18:13:35.505052Z"
    },
    "hidden": true
   },
   "outputs": [
    {
     "name": "stdout",
     "output_type": "stream",
     "text": [
      "['* Banana', '* Apple', '* Peach', '* Chocolate', '* Nougat Bits']\n"
     ]
    }
   ],
   "source": [
    "groceries = [item for item in content.splitlines() if item.startswith(\"*\")]\n",
    "print(groceries)"
   ]
  },
  {
   "cell_type": "code",
   "execution_count": 59,
   "id": "b9ab4532",
   "metadata": {
    "ExecuteTime": {
     "end_time": "2023-12-17T18:14:42.218297Z",
     "start_time": "2023-12-17T18:14:42.195927Z"
    },
    "hidden": true
   },
   "outputs": [
    {
     "data": {
      "text/plain": [
       "50"
      ]
     },
     "execution_count": 59,
     "metadata": {},
     "output_type": "execute_result"
    }
   ],
   "source": [
    "Path(\"plain_list.md\").write_text(\"\\n\".join(groceries),encoding=\"utf-8\")"
   ]
  },
  {
   "cell_type": "markdown",
   "id": "a533fb0a",
   "metadata": {
    "hidden": true
   },
   "source": [
    "- __NOTE : When using .write_text(), Python overwrites any existing files on the same path without giving you any notice.__\n",
    "\n",
    "\n",
    "- That means you could erase all your hard work with a single keystroke!\n",
    "\n",
    "\n",
    "- As always, when you write files with Python, you should be cautious of what your code is doing. The same is true when you’re renaming files."
   ]
  },
  {
   "cell_type": "markdown",
   "id": "347ccd28",
   "metadata": {
    "hidden": true
   },
   "source": [
    "## Renaming Files\n"
   ]
  },
  {
   "cell_type": "markdown",
   "id": "d1346d84",
   "metadata": {
    "hidden": true
   },
   "source": [
    "- renaming files, you can use __.with_stem(),  .with_suffix(), or  .with_name().__ \n",
    "\n",
    "\n",
    "- They return the original path but with the filename, the file extension, or both replaced.\n",
    "\n",
    "\n",
    "- If you want to change a file’s extension, then you can use .with_suffix() in combination with .replace():"
   ]
  },
  {
   "cell_type": "code",
   "execution_count": 60,
   "id": "80286a0d",
   "metadata": {
    "ExecuteTime": {
     "end_time": "2023-12-17T18:21:33.617896Z",
     "start_time": "2023-12-17T18:21:33.605374Z"
    },
    "hidden": true
   },
   "outputs": [],
   "source": [
    "from pathlib import Path"
   ]
  },
  {
   "cell_type": "code",
   "execution_count": 68,
   "id": "b5f13a62",
   "metadata": {
    "ExecuteTime": {
     "end_time": "2023-12-17T18:23:44.402436Z",
     "start_time": "2023-12-17T18:23:44.396958Z"
    },
    "hidden": true
   },
   "outputs": [
    {
     "data": {
      "text/plain": [
       "WindowsPath('D:/Python/5. pathlib')"
      ]
     },
     "execution_count": 68,
     "metadata": {},
     "output_type": "execute_result"
    }
   ],
   "source": [
    "Path.cwd()"
   ]
  },
  {
   "cell_type": "markdown",
   "id": "3e176a98",
   "metadata": {
    "hidden": true
   },
   "source": [
    "## Creating a file"
   ]
  },
  {
   "cell_type": "markdown",
   "id": "b8f8c04b",
   "metadata": {
    "hidden": true
   },
   "source": [
    "### Path.touch : creating hello.txt file"
   ]
  },
  {
   "cell_type": "code",
   "execution_count": 94,
   "id": "5f282793",
   "metadata": {
    "ExecuteTime": {
     "end_time": "2023-12-17T18:43:45.391620Z",
     "start_time": "2023-12-17T18:43:45.338142Z"
    },
    "hidden": true
   },
   "outputs": [
    {
     "ename": "FileExistsError",
     "evalue": "[Errno 17] File exists: 'D:\\\\Python\\\\5. pathlib\\\\hello.txt'",
     "output_type": "error",
     "traceback": [
      "\u001b[1;31m---------------------------------------------------------------------------\u001b[0m",
      "\u001b[1;31mFileExistsError\u001b[0m                           Traceback (most recent call last)",
      "Cell \u001b[1;32mIn[94], line 1\u001b[0m\n\u001b[1;32m----> 1\u001b[0m \u001b[43mPath\u001b[49m\u001b[38;5;241;43m.\u001b[39;49m\u001b[43mtouch\u001b[49m\u001b[43m(\u001b[49m\u001b[43mPath\u001b[49m\u001b[38;5;241;43m.\u001b[39;49m\u001b[43mcwd\u001b[49m\u001b[43m(\u001b[49m\u001b[43m)\u001b[49m\u001b[38;5;241;43m/\u001b[39;49m\u001b[38;5;124;43m\"\u001b[39;49m\u001b[38;5;124;43mhello.txt\u001b[39;49m\u001b[38;5;124;43m\"\u001b[39;49m\u001b[43m,\u001b[49m\u001b[43mexist_ok\u001b[49m\u001b[38;5;241;43m=\u001b[39;49m\u001b[38;5;28;43;01mFalse\u001b[39;49;00m\u001b[43m)\u001b[49m\n",
      "File \u001b[1;32mC:\\ProgramData\\Anaconda3\\lib\\pathlib.py:1315\u001b[0m, in \u001b[0;36mPath.touch\u001b[1;34m(self, mode, exist_ok)\u001b[0m\n\u001b[0;32m   1313\u001b[0m \u001b[38;5;28;01mif\u001b[39;00m \u001b[38;5;129;01mnot\u001b[39;00m exist_ok:\n\u001b[0;32m   1314\u001b[0m     flags \u001b[38;5;241m|\u001b[39m\u001b[38;5;241m=\u001b[39m os\u001b[38;5;241m.\u001b[39mO_EXCL\n\u001b[1;32m-> 1315\u001b[0m fd \u001b[38;5;241m=\u001b[39m \u001b[38;5;28;43mself\u001b[39;49m\u001b[38;5;241;43m.\u001b[39;49m\u001b[43m_raw_open\u001b[49m\u001b[43m(\u001b[49m\u001b[43mflags\u001b[49m\u001b[43m,\u001b[49m\u001b[43m \u001b[49m\u001b[43mmode\u001b[49m\u001b[43m)\u001b[49m\n\u001b[0;32m   1316\u001b[0m os\u001b[38;5;241m.\u001b[39mclose(fd)\n",
      "File \u001b[1;32mC:\\ProgramData\\Anaconda3\\lib\\pathlib.py:1127\u001b[0m, in \u001b[0;36mPath._raw_open\u001b[1;34m(self, flags, mode)\u001b[0m\n\u001b[0;32m   1122\u001b[0m \u001b[38;5;28;01mdef\u001b[39;00m \u001b[38;5;21m_raw_open\u001b[39m(\u001b[38;5;28mself\u001b[39m, flags, mode\u001b[38;5;241m=\u001b[39m\u001b[38;5;241m0o777\u001b[39m):\n\u001b[0;32m   1123\u001b[0m     \u001b[38;5;124;03m\"\"\"\u001b[39;00m\n\u001b[0;32m   1124\u001b[0m \u001b[38;5;124;03m    Open the file pointed by this path and return a file descriptor,\u001b[39;00m\n\u001b[0;32m   1125\u001b[0m \u001b[38;5;124;03m    as os.open() does.\u001b[39;00m\n\u001b[0;32m   1126\u001b[0m \u001b[38;5;124;03m    \"\"\"\u001b[39;00m\n\u001b[1;32m-> 1127\u001b[0m     \u001b[38;5;28;01mreturn\u001b[39;00m \u001b[38;5;28;43mself\u001b[39;49m\u001b[38;5;241;43m.\u001b[39;49m\u001b[43m_accessor\u001b[49m\u001b[38;5;241;43m.\u001b[39;49m\u001b[43mopen\u001b[49m\u001b[43m(\u001b[49m\u001b[38;5;28;43mself\u001b[39;49m\u001b[43m,\u001b[49m\u001b[43m \u001b[49m\u001b[43mflags\u001b[49m\u001b[43m,\u001b[49m\u001b[43m \u001b[49m\u001b[43mmode\u001b[49m\u001b[43m)\u001b[49m\n",
      "\u001b[1;31mFileExistsError\u001b[0m: [Errno 17] File exists: 'D:\\\\Python\\\\5. pathlib\\\\hello.txt'"
     ]
    }
   ],
   "source": [
    "Path.touch(Path.cwd()/\"hello.txt\",exist_ok=False)"
   ]
  },
  {
   "cell_type": "markdown",
   "id": "08c43d99",
   "metadata": {
    "hidden": true
   },
   "source": [
    "### changing the extension :  \n",
    "> __hello.txt into hello.md__"
   ]
  },
  {
   "cell_type": "code",
   "execution_count": 73,
   "id": "b385131d",
   "metadata": {
    "ExecuteTime": {
     "end_time": "2023-12-17T18:28:46.455345Z",
     "start_time": "2023-12-17T18:28:46.440512Z"
    },
    "hidden": true
   },
   "outputs": [
    {
     "data": {
      "text/plain": [
       "WindowsPath('D:/Python/5. pathlib/hello.txt')"
      ]
     },
     "execution_count": 73,
     "metadata": {},
     "output_type": "execute_result"
    }
   ],
   "source": [
    "txt_path = Path.cwd()/'hello.txt'\n",
    "txt_path"
   ]
  },
  {
   "cell_type": "code",
   "execution_count": 74,
   "id": "5906c7e9",
   "metadata": {
    "ExecuteTime": {
     "end_time": "2023-12-17T18:28:48.963248Z",
     "start_time": "2023-12-17T18:28:48.952399Z"
    },
    "hidden": true
   },
   "outputs": [
    {
     "data": {
      "text/plain": [
       "WindowsPath('D:/Python/5. pathlib/hello.md')"
      ]
     },
     "execution_count": 74,
     "metadata": {},
     "output_type": "execute_result"
    }
   ],
   "source": [
    "md_path = txt_path.with_suffix(\".md\")\n",
    "md_path"
   ]
  },
  {
   "cell_type": "code",
   "execution_count": 75,
   "id": "a7eb9f7e",
   "metadata": {
    "ExecuteTime": {
     "end_time": "2023-12-17T18:28:53.284891Z",
     "start_time": "2023-12-17T18:28:53.273817Z"
    },
    "hidden": true
   },
   "outputs": [
    {
     "data": {
      "text/plain": [
       "WindowsPath('D:/Python/5. pathlib/hello.md')"
      ]
     },
     "execution_count": 75,
     "metadata": {},
     "output_type": "execute_result"
    }
   ],
   "source": [
    "txt_path.replace(md_path)"
   ]
  },
  {
   "cell_type": "markdown",
   "id": "a6ab6b9d",
   "metadata": {
    "hidden": true
   },
   "source": [
    "### change the complete filename including extension: \n",
    "> __changing hello.md into goodbye.txt__"
   ]
  },
  {
   "cell_type": "code",
   "execution_count": 80,
   "id": "e0de13e4",
   "metadata": {
    "ExecuteTime": {
     "end_time": "2023-12-17T18:36:04.845231Z",
     "start_time": "2023-12-17T18:36:04.837097Z"
    },
    "hidden": true
   },
   "outputs": [
    {
     "data": {
      "text/plain": [
       "WindowsPath('D:/Python/5. pathlib/hello.md')"
      ]
     },
     "execution_count": 80,
     "metadata": {},
     "output_type": "execute_result"
    }
   ],
   "source": [
    "txt_path = Path.cwd()/'hello.md'\n",
    "txt_path"
   ]
  },
  {
   "cell_type": "code",
   "execution_count": 81,
   "id": "7341c5bc",
   "metadata": {
    "ExecuteTime": {
     "end_time": "2023-12-17T18:36:08.849899Z",
     "start_time": "2023-12-17T18:36:08.841307Z"
    },
    "hidden": true
   },
   "outputs": [
    {
     "data": {
      "text/plain": [
       "WindowsPath('D:/Python/5. pathlib/goodbye.txt')"
      ]
     },
     "execution_count": 81,
     "metadata": {},
     "output_type": "execute_result"
    }
   ],
   "source": [
    "md_path = txt_path.with_name(\"goodbye.txt\")\n",
    "md_path"
   ]
  },
  {
   "cell_type": "code",
   "execution_count": 82,
   "id": "c1eb4e02",
   "metadata": {
    "ExecuteTime": {
     "end_time": "2023-12-17T18:36:12.005353Z",
     "start_time": "2023-12-17T18:36:11.990830Z"
    },
    "hidden": true
   },
   "outputs": [
    {
     "data": {
      "text/plain": [
       "WindowsPath('D:/Python/5. pathlib/hello.md')"
      ]
     },
     "execution_count": 82,
     "metadata": {},
     "output_type": "execute_result"
    }
   ],
   "source": [
    "txt_path.replace(md_path)\n",
    "txt_path"
   ]
  },
  {
   "cell_type": "markdown",
   "id": "2b783a63",
   "metadata": {
    "hidden": true
   },
   "source": [
    "## Copying Files"
   ]
  },
  {
   "cell_type": "markdown",
   "id": "6573c7e2",
   "metadata": {
    "hidden": true
   },
   "source": [
    "Path doesn’t have a method to copy files"
   ]
  },
  {
   "cell_type": "code",
   "execution_count": 83,
   "id": "4c37a4f5",
   "metadata": {
    "ExecuteTime": {
     "end_time": "2023-12-17T18:37:24.293677Z",
     "start_time": "2023-12-17T18:37:24.280439Z"
    },
    "hidden": true
   },
   "outputs": [],
   "source": [
    "from pathlib import Path"
   ]
  },
  {
   "cell_type": "code",
   "execution_count": 86,
   "id": "054f45c9",
   "metadata": {
    "ExecuteTime": {
     "end_time": "2023-12-17T18:37:49.586005Z",
     "start_time": "2023-12-17T18:37:49.571768Z"
    },
    "hidden": true
   },
   "outputs": [
    {
     "data": {
      "text/plain": [
       "WindowsPath('shopping_list.md')"
      ]
     },
     "execution_count": 86,
     "metadata": {},
     "output_type": "execute_result"
    }
   ],
   "source": [
    "source = Path(\"shopping_list.md\")\n",
    "source"
   ]
  },
  {
   "cell_type": "code",
   "execution_count": 87,
   "id": "a5459a1f",
   "metadata": {
    "ExecuteTime": {
     "end_time": "2023-12-17T18:38:05.687272Z",
     "start_time": "2023-12-17T18:38:05.682322Z"
    },
    "hidden": true
   },
   "outputs": [
    {
     "data": {
      "text/plain": [
       "WindowsPath('shopping_list_02.md')"
      ]
     },
     "execution_count": 87,
     "metadata": {},
     "output_type": "execute_result"
    }
   ],
   "source": [
    "destination = source.with_stem(\"shopping_list_02\")\n",
    "destination"
   ]
  },
  {
   "cell_type": "code",
   "execution_count": 88,
   "id": "fd10dc13",
   "metadata": {
    "ExecuteTime": {
     "end_time": "2023-12-17T18:38:21.948373Z",
     "start_time": "2023-12-17T18:38:21.931216Z"
    },
    "hidden": true
   },
   "outputs": [
    {
     "data": {
      "text/plain": [
       "115"
      ]
     },
     "execution_count": 88,
     "metadata": {},
     "output_type": "execute_result"
    }
   ],
   "source": [
    "destination.write_bytes(source.read_bytes())"
   ]
  },
  {
   "cell_type": "markdown",
   "id": "a20b2f5f",
   "metadata": {
    "hidden": true
   },
   "source": [
    "#### NOTE : consider using shutil for copying files. It’s a great alternative that also knows how to work with Path objects."
   ]
  },
  {
   "cell_type": "markdown",
   "id": "e310f016",
   "metadata": {
    "hidden": true
   },
   "source": [
    "## Moving and Deleting Files\n",
    "\n",
    "> __use .unlink() to delete a file.__\n",
    "\n",
    "> __use .rmdir() to delete a directory__"
   ]
  },
  {
   "cell_type": "code",
   "execution_count": 92,
   "id": "b2c99bd7",
   "metadata": {
    "ExecuteTime": {
     "end_time": "2023-12-17T18:40:52.131260Z",
     "start_time": "2023-12-17T18:40:52.120792Z"
    },
    "hidden": true
   },
   "outputs": [],
   "source": [
    "source = Path(\"hello.txt\")\n",
    "destination = Path(\"goodbye.py\")"
   ]
  },
  {
   "cell_type": "code",
   "execution_count": 93,
   "id": "80d1ddaa",
   "metadata": {
    "ExecuteTime": {
     "end_time": "2023-12-17T18:40:52.456294Z",
     "start_time": "2023-12-17T18:40:52.438779Z"
    },
    "hidden": true
   },
   "outputs": [
    {
     "name": "stdout",
     "output_type": "stream",
     "text": [
      "File goodbye.py exists already.\n"
     ]
    }
   ],
   "source": [
    "try:\n",
    "    with destination.open(mode=\"xb\") as file:\n",
    "        file.write(source.read_bytes())\n",
    "except FileExistsError:\n",
    "    print(f\"File {destination} exists already.\")\n",
    "else:\n",
    "    source.unlink()"
   ]
  },
  {
   "cell_type": "markdown",
   "id": "f115166b",
   "metadata": {
    "hidden": true
   },
   "source": [
    "- If destination already exists, then the code above catches a FileExistsError and prints a warning. \n",
    "\n",
    "- To perform a move, you need to delete source with .unlink() after the copy is done. \n",
    "\n",
    "\n",
    "- Using else ensures that the source file isn’t deleted if the copying fails."
   ]
  },
  {
   "cell_type": "markdown",
   "id": "00fd8955",
   "metadata": {
    "hidden": true
   },
   "source": [
    "## Counting Files : `glob` and `rglob`"
   ]
  },
  {
   "cell_type": "markdown",
   "id": "fe251f31",
   "metadata": {
    "hidden": true
   },
   "source": [
    "> __flexible file listings with the methods .glob() and .rglob()__"
   ]
  },
  {
   "cell_type": "code",
   "execution_count": 95,
   "id": "c630cbc4",
   "metadata": {
    "ExecuteTime": {
     "end_time": "2023-12-17T18:46:05.879351Z",
     "start_time": "2023-12-17T18:46:05.871800Z"
    },
    "hidden": true
   },
   "outputs": [
    {
     "data": {
      "text/plain": [
       "WindowsPath('D:/Python')"
      ]
     },
     "execution_count": 95,
     "metadata": {},
     "output_type": "execute_result"
    }
   ],
   "source": [
    "new_dir = curr_dir.parent\n",
    "new_dir"
   ]
  },
  {
   "cell_type": "code",
   "execution_count": 97,
   "id": "d15c93eb",
   "metadata": {
    "ExecuteTime": {
     "end_time": "2023-12-17T18:46:45.159943Z",
     "start_time": "2023-12-17T18:46:45.155277Z"
    },
    "hidden": true
   },
   "outputs": [],
   "source": [
    "from pathlib import Path\n",
    "from collections import Counter"
   ]
  },
  {
   "cell_type": "markdown",
   "id": "bfdc4d25",
   "metadata": {
    "hidden": true
   },
   "source": [
    "\n",
    "- `glob` and `rglob` are functions provided by the pathlib module in Python for file and directory matching using glob-style patterns. \n",
    "\n",
    "\n",
    "\n",
    "- The `glob` function is used for simple matching in a single directory. \n",
    "\n",
    "\n",
    "\n",
    "- `rglob` function is used for recursive matching, searching through subdirectories as well."
   ]
  },
  {
   "cell_type": "markdown",
   "id": "d7828904",
   "metadata": {
    "hidden": true
   },
   "source": [
    "#### `glob` : only count file extensions starting with \"p\" in a particular directory:"
   ]
  },
  {
   "cell_type": "code",
   "execution_count": 99,
   "id": "9c98ab41",
   "metadata": {
    "ExecuteTime": {
     "end_time": "2023-12-17T18:48:20.644006Z",
     "start_time": "2023-12-17T18:48:20.638494Z"
    },
    "hidden": true
   },
   "outputs": [
    {
     "data": {
      "text/plain": [
       "Counter({'.py': 1, '.pdf': 1})"
      ]
     },
     "execution_count": 99,
     "metadata": {},
     "output_type": "execute_result"
    }
   ],
   "source": [
    "Counter(path.suffix for path in Path.cwd().glob(\"*.p*\"))"
   ]
  },
  {
   "cell_type": "markdown",
   "id": "30459b65",
   "metadata": {
    "hidden": true
   },
   "source": [
    "#### `rglob` : counting files including sub directory starting with \"p\" extension\n"
   ]
  },
  {
   "cell_type": "code",
   "execution_count": 104,
   "id": "264fbdd7",
   "metadata": {
    "ExecuteTime": {
     "end_time": "2023-12-17T18:52:53.038611Z",
     "start_time": "2023-12-17T18:52:53.027012Z"
    },
    "hidden": true
   },
   "outputs": [
    {
     "data": {
      "text/plain": [
       "Counter({'.py': 3, '.png': 1, '.pkl': 1, '.pdf': 1})"
      ]
     },
     "execution_count": 104,
     "metadata": {},
     "output_type": "execute_result"
    }
   ],
   "source": [
    "Counter(path.suffix for path in new_dir.rglob(\"*.p*\"))"
   ]
  },
  {
   "cell_type": "markdown",
   "id": "7014361b",
   "metadata": {
    "hidden": true
   },
   "source": [
    "### display files and directory in tree form : \n"
   ]
  },
  {
   "cell_type": "markdown",
   "id": "4c400ef6",
   "metadata": {
    "hidden": true
   },
   "source": [
    "- Note that you need to know how far away from the root directory a file is located. \n",
    "\n",
    "\n",
    "- To do this, you first use .relative_to() to represent a path relative to the root directory. \n",
    "\n",
    "\n",
    "\n",
    "- Then, you use the .parts property to count the number of directories in the representation."
   ]
  },
  {
   "cell_type": "code",
   "execution_count": 142,
   "id": "cb1426ab",
   "metadata": {
    "ExecuteTime": {
     "end_time": "2023-12-17T19:04:15.365319Z",
     "start_time": "2023-12-17T19:04:15.355500Z"
    },
    "hidden": true
   },
   "outputs": [],
   "source": [
    "def tree(directory):\n",
    "    print(f\"+ {directory}\")\n",
    "    for path in sorted(directory.rglob(\"*\")):\n",
    "        depth = len(path.relative_to(directory).parts) \n",
    "        spacer = \"    \" * depth\n",
    "        print(f\"{spacer}+ {path.name}\")"
   ]
  },
  {
   "cell_type": "code",
   "execution_count": 143,
   "id": "41fb4798",
   "metadata": {
    "ExecuteTime": {
     "end_time": "2023-12-17T19:04:16.145561Z",
     "start_time": "2023-12-17T19:04:16.135913Z"
    },
    "hidden": true
   },
   "outputs": [],
   "source": [
    "from pathlib import Path"
   ]
  },
  {
   "cell_type": "code",
   "execution_count": 144,
   "id": "ddb6e383",
   "metadata": {
    "ExecuteTime": {
     "end_time": "2023-12-17T19:04:16.720918Z",
     "start_time": "2023-12-17T19:04:16.705933Z"
    },
    "hidden": true
   },
   "outputs": [
    {
     "name": "stdout",
     "output_type": "stream",
     "text": [
      "+ D:\\Python\n",
      "    + .ipynb_checkpoints\n",
      "        + 1. PythonBasics_CampusX-checkpoint.ipynb\n",
      "        + 2. Function_OOP_CampusX_PythonNotes-checkpoint.ipynb\n",
      "        + 3. ExceptionHandling_Decorators_Namespace_CampusX-checkpoint.ipynb\n",
      "        + Corey schafer-checkpoint.ipynb\n",
      "        + exception handling-checkpoint.ipynb\n",
      "        + TASK_Functions_OOP_CampusX-checkpoint.ipynb\n",
      "        + TASK_PythonBasics_CampusX-checkpoint.ipynb\n",
      "    + 1. PythonBasics_CampusX.ipynb\n",
      "    + 100 Python Practice Problems.docx\n",
      "    + 100_Python_Problems.txt\n",
      "    + 2. Function_OOP_CampusX_PythonNotes.ipynb\n",
      "    + 3. ExceptionHandling_Decorators_Namespace_CampusX.ipynb\n",
      "    + 4. File Handling\n",
      "        + .ipynb_checkpoints\n",
      "            + FileHandling_Serialization&Deserialization_Recursion_CampusX-checkpoint.ipynb\n",
      "            + Task_Filehandling-checkpoint.ipynb\n",
      "        + big.txt\n",
      "        + cop_of_a_file.png\n",
      "        + demo.json\n",
      "        + demo1.json\n",
      "        + demo2.json\n",
      "        + demo4.json\n",
      "        + demo5.json\n",
      "        + FileHandling_Serialization&Deserialization_Recursion_CampusX.ipynb\n",
      "        + lags12.jpg\n",
      "        + person.pkl\n",
      "        + sample.txt\n",
      "        + sample1.txt\n",
      "        + sample2.txt\n",
      "        + Task_Filehandling.ipynb\n",
      "        + yoyo.txt\n",
      "    + 5. pathlib\n",
      "        + .ipynb_checkpoints\n",
      "            + 5. pathlib-checkpoint.ipynb\n",
      "        + 5. pathlib.ipynb\n",
      "        + goodbye.py\n",
      "        + goodbye.txt\n",
      "        + hello.txt\n",
      "        + Output\n",
      "        + Pathlib_Cheat_Sheet.pdf\n",
      "        + plain_list.md\n",
      "        + shopping_list.md\n",
      "        + shopping_list_02.md\n",
      "    + abrakadabra\n",
      "    + alakazam\n",
      "    + Campus_X_Python_Practice_Problems.docx\n",
      "    + CampusX_Python Interview Question Compiled.docx\n",
      "    + campusX_python_practice_problems.ipynb\n",
      "    + Corey schafer.ipynb\n",
      "    + ex15_sample.txt\n",
      "    + exception handling.ipynb\n",
      "    + sample.txt\n",
      "    + sample2.txt\n",
      "    + TASK_Functions_OOP_CampusX.ipynb\n",
      "    + TASK_PythonBasics_CampusX.ipynb\n",
      "    + test_calc.py\n",
      "    + Untitled-1.py\n"
     ]
    }
   ],
   "source": [
    "tree(new_dir)"
   ]
  },
  {
   "cell_type": "markdown",
   "id": "22dd26fe",
   "metadata": {
    "hidden": true
   },
   "source": [
    "### find only directories inside a directory:"
   ]
  },
  {
   "cell_type": "code",
   "execution_count": 162,
   "id": "f28027f2",
   "metadata": {
    "ExecuteTime": {
     "end_time": "2023-12-17T19:26:31.180590Z",
     "start_time": "2023-12-17T19:26:31.164444Z"
    },
    "hidden": true
   },
   "outputs": [
    {
     "data": {
      "text/plain": [
       "WindowsPath('D:/Python')"
      ]
     },
     "execution_count": 162,
     "metadata": {},
     "output_type": "execute_result"
    }
   ],
   "source": [
    "new_dir"
   ]
  },
  {
   "cell_type": "code",
   "execution_count": 169,
   "id": "e409f7da",
   "metadata": {
    "ExecuteTime": {
     "end_time": "2023-12-17T19:29:43.748999Z",
     "start_time": "2023-12-17T19:29:43.735040Z"
    },
    "hidden": true
   },
   "outputs": [
    {
     "data": {
      "text/plain": [
       "[WindowsPath('D:/Python/.ipynb_checkpoints'),\n",
       " WindowsPath('D:/Python/4. File Handling'),\n",
       " WindowsPath('D:/Python/5. pathlib'),\n",
       " WindowsPath('D:/Python/abrakadabra'),\n",
       " WindowsPath('D:/Python/alakazam')]"
      ]
     },
     "execution_count": 169,
     "metadata": {},
     "output_type": "execute_result"
    }
   ],
   "source": [
    "child_dirs = [directory for directory in new_dir.iterdir() if directory.is_dir()]\n",
    "child_dirs\n"
   ]
  },
  {
   "cell_type": "markdown",
   "id": "04b41069",
   "metadata": {
    "hidden": true
   },
   "source": [
    "### find only files inside a directory:"
   ]
  },
  {
   "cell_type": "code",
   "execution_count": 170,
   "id": "80ac7673",
   "metadata": {
    "ExecuteTime": {
     "end_time": "2023-12-17T19:30:24.969959Z",
     "start_time": "2023-12-17T19:30:24.963757Z"
    },
    "hidden": true
   },
   "outputs": [
    {
     "name": "stdout",
     "output_type": "stream",
     "text": [
      "D:\\Python\\1. PythonBasics_CampusX.ipynb\n",
      "D:\\Python\\100 Python Practice Problems.docx\n",
      "D:\\Python\\100_Python_Problems.txt\n",
      "D:\\Python\\2. Function_OOP_CampusX_PythonNotes.ipynb\n",
      "D:\\Python\\3. ExceptionHandling_Decorators_Namespace_CampusX.ipynb\n",
      "D:\\Python\\CampusX_Python Interview Question Compiled.docx\n",
      "D:\\Python\\campusX_python_practice_problems.ipynb\n",
      "D:\\Python\\Campus_X_Python_Practice_Problems.docx\n",
      "D:\\Python\\Corey schafer.ipynb\n",
      "D:\\Python\\ex15_sample.txt\n",
      "D:\\Python\\exception handling.ipynb\n",
      "D:\\Python\\sample.txt\n",
      "D:\\Python\\sample2.txt\n",
      "D:\\Python\\TASK_Functions_OOP_CampusX.ipynb\n",
      "D:\\Python\\TASK_PythonBasics_CampusX.ipynb\n",
      "D:\\Python\\test_calc.py\n",
      "D:\\Python\\Untitled-1.py\n"
     ]
    }
   ],
   "source": [
    "child_files = [files for files in new_dir.iterdir() if files.is_file()]\n",
    "\n",
    "for i in child_files:\n",
    "    print(i)"
   ]
  },
  {
   "cell_type": "markdown",
   "id": "2a30dc5a",
   "metadata": {},
   "source": [
    "# Logging"
   ]
  },
  {
   "cell_type": "markdown",
   "id": "df317c91",
   "metadata": {},
   "source": [
    "https://www.youtube.com/watch?v=gsa1oFn9n0M\n",
    "\n",
    "https://www.youtube.com/watch?v=p0A4CV4MWd0"
   ]
  },
  {
   "cell_type": "markdown",
   "id": "c65de6c3",
   "metadata": {},
   "source": [
    "https://www.youtube.com/watch?v=b4Ms4wxJuPg"
   ]
  },
  {
   "cell_type": "markdown",
   "id": "15c93000",
   "metadata": {},
   "source": [
    "### Campus X Logging : MLOPS Revisited Session 10 : 1:00:11"
   ]
  },
  {
   "attachments": {
    "Screenshot%202024-02-08%20180221.png": {
     "image/png": "[encoded data removed]"
    }
   },
   "cell_type": "markdown",
   "id": "f0994c3d",
   "metadata": {},
   "source": [
    "![Screenshot%202024-02-08%20180221.png](attachment:Screenshot%202024-02-08%20180221.png)"
   ]
  },
  {
   "attachments": {
    "Screenshot%202024-02-08%20180331.png": {
     "image/png": "[encoded data removed]"
    }
   },
   "cell_type": "markdown",
   "id": "d6a2979a",
   "metadata": {},
   "source": [
    "![Screenshot%202024-02-08%20180331.png](attachment:Screenshot%202024-02-08%20180331.png)"
   ]
  },
  {
   "cell_type": "markdown",
   "id": "1d9f622c",
   "metadata": {},
   "source": [
    "Logging in Python is a mechanism that allows you to record information from your program's execution. It provides a flexible and configurable way to capture messages at different levels of severity and direct them to various outputs, such as the console, files, or even remote servers."
   ]
  },
  {
   "attachments": {
    "Screenshot%202024-02-06%20210222.png": {
     "image/png": "[encoded data removed]"
    }
   },
   "cell_type": "markdown",
   "id": "efd7aac8",
   "metadata": {},
   "source": [
    "![Screenshot%202024-02-06%20210222.png](attachment:Screenshot%202024-02-06%20210222.png)"
   ]
  },
  {
   "cell_type": "markdown",
   "id": "75447ca2",
   "metadata": {},
   "source": [
    "### Python Logging Basics\n",
    "The basics of using the logging module to record the events in a file are very simple.  For that, simply import the module from the library.  \n",
    "\n",
    "1. Create and configure the logger. It can have several parameters. But importantly, pass the name of the file in which you want to record the events.\n",
    "\n",
    "\n",
    "2. Here the format of the logger can also be set. By default, the file works in append mode but we can change that to write mode if required.\n",
    "\n",
    "\n",
    "3. Also, the level of the logger can be set which acts as the threshold for tracking based on the numeric values assigned to each level. \n",
    "\n",
    "\n",
    "4. There are several attributes that can be passed as parameters.\n",
    "\n",
    "\n",
    "5. The list of all those parameters is given in Python Library. The user can choose the required attribute according to the requirement.\n",
    "After that, create an object and use the various methods as shown in the example."
   ]
  },
  {
   "cell_type": "markdown",
   "id": "4738980e",
   "metadata": {},
   "source": [
    "The `logging` module is part of the Python Standard Library and provides a comprehensive framework for emitting log messages from applications. Here are some key concepts and components of the logging module:\n",
    "\n",
    "1. **Logger:**\n",
    "   - A logger is the main entry point for interacting with the logging module. It is used to emit log messages from different parts of your code.\n",
    "   - Loggers are identified by their names, which are typically hierarchical, reflecting the structure of your application.\n",
    "\n",
    "     ```python\n",
    "     import logging\n",
    "\n",
    "     logger = logging.getLogger('my_logger')\n",
    "     ```"
   ]
  },
  {
   "cell_type": "markdown",
   "id": "52eb13c6",
   "metadata": {},
   "source": [
    "2. **Handler:**\n",
    "   - Handlers determine where the log messages go. They define the output destinations, such as the console, files, sockets, etc.\n",
    "   - You can add multiple handlers to a logger, allowing log messages to be sent to multiple destinations simultaneously.\n",
    "\n",
    "     ```python\n",
    "     console_handler = logging.StreamHandler()\n",
    "     file_handler = logging.FileHandler('my_log_file.log')\n",
    "\n",
    "     logger.addHandler(console_handler)\n",
    "     logger.addHandler(file_handler)\n",
    "     ```"
   ]
  },
  {
   "cell_type": "markdown",
   "id": "03a518a9",
   "metadata": {},
   "source": [
    "| Handler                    | Description                                                                                                           |\n",
    "| -------------------------- | --------------------------------------------------------------------------------------------------------------------- |\n",
    "| `StreamHandler`            | Sends messages to streams (file-like objects).                                                                        |\n",
    "| `FileHandler`              | Sends messages to disk files.                                                                                         |\n",
    "| `BaseRotatingHandler`      | Base class for handlers that rotate log files at a certain point. Use `RotatingFileHandler` or `TimedRotatingFileHandler` instead. |\n",
    "| `RotatingFileHandler`      | Sends messages to disk files, with support for maximum log file sizes and log file rotation.                         |\n",
    "| `TimedRotatingFileHandler` | Sends messages to disk files, rotating the log file at certain timed intervals.                                       |\n",
    "| `SocketHandler`            | Sends messages to TCP/IP sockets. Also supports Unix domain sockets since Python 3.4.                                 |\n",
    "| `DatagramHandler`          | Sends messages to UDP sockets. Also supports Unix domain sockets since Python 3.4.                                   |\n",
    "| `SMTPHandler`              | Sends messages to a designated email address.                                                                        |\n",
    "| `SysLogHandler`            | Sends messages to a Unix Syslog the daemon, possibly on a remote machine.                                             |\n",
    "| `NTEventLogHandler`        | Sends messages to a Windows NT/2000/XP event log.                                                                    |\n",
    "| `MemoryHandler`            | Sends messages to a buffer in memory, which is flushed whenever specific criteria are met.                           |\n",
    "| `HTTPHandler`              | Sends messages to an HTTP server using either GET or POST semantics.                                                  |\n",
    "| `WatchedFileHandler`       | Watches the file it is logging to. If the file changes, it is closed and reopened using the file name.               |\n",
    "| `QueueHandler`             | Sends messages to a queue, such as those implemented in the `queue` or `multiprocessing` modules.                     |\n",
    "| `NullHandler`              | Does nothing with error messages. Used by library developers to avoid ‘No handlers could be found for logger’ message. |\n"
   ]
  },
  {
   "cell_type": "markdown",
   "id": "688d7e63",
   "metadata": {},
   "source": [
    "3. **Formatter:**\n",
    "   - Formatters define the layout of the log messages, specifying what information is included in each log entry.\n",
    "   - You can customize the format of timestamps, log levels, and other details.\n",
    "\n",
    "     ```python\n",
    "     formatter = logging.Formatter('%(asctime)s - %(levelname)s - %(message)s')\n",
    "     console_handler.setFormatter(formatter)\n",
    "     file_handler.setFormatter(formatter)\n",
    "     ```"
   ]
  },
  {
   "cell_type": "markdown",
   "id": "93d3d11b",
   "metadata": {},
   "source": [
    "4. **Log Levels:**\n",
    "   - Log messages have different severity levels, categorized as follows (in increasing order of severity):<br></br>\n",
    "   \n",
    "        1. **`DEBUG:`** Detailed information, typically used for debugging purposes. It provides the most granular level of logging.<br></br>\n",
    "\n",
    "        2. **`INFO:`** General information about the program's execution. It confirms that things are working as expected.<br></br>\n",
    "\n",
    "        3. **`WARNING:`** Indicates a potential issue or a situation that might lead to an error in the future, but the program can still continue its execution.<br></br>\n",
    "\n",
    "        4. **`ERROR:`** Indicates a more severe issue that prevented a specific operation from being completed. It does not necessarily lead to program termination.<br></br>\n",
    "\n",
    "        5. **`CRITICAL:`** The most severe level. Indicates a critical error that may lead to the termination of the program or a major malfunction. It requires immediate attention.<br></br>\n",
    "\n",
    "- You can set a threshold level on a logger, and only messages at or above that level will be processed.\n",
    "\n",
    "     ```python\n",
    "     logger.setLevel(logging.DEBUG)\n",
    "    ```"
   ]
  },
  {
   "attachments": {
    "Screenshot%202024-02-08%20180446.png": {
     "image/png": "[encoded data removed]"
    }
   },
   "cell_type": "markdown",
   "id": "14df2ebb",
   "metadata": {},
   "source": [
    "![Screenshot%202024-02-08%20180446.png](attachment:Screenshot%202024-02-08%20180446.png)"
   ]
  },
  {
   "cell_type": "markdown",
   "id": "227d00c0",
   "metadata": {},
   "source": [
    "There are several logger objects offered by the base Handler itself.  \n",
    "\n",
    "- `Logger.info(msg):` This will log a message with level INFO on this logger.\n",
    "\n",
    "\n",
    "- `Logger.warning(msg):` This will log a message with a level WARNING on this logger.\n",
    "\n",
    "\n",
    "- `Logger.error(msg):` This will log a message with level ERROR on this logger.\n",
    "\n",
    "\n",
    "- `Logger.critical(msg):` This will log a message with level CRITICAL on this logger.\n",
    "\n",
    "\n",
    "- `Logger.log(lvl,msg):` This will Log a message with integer level lvl on this logger.\n",
    "\n",
    "\n",
    "- `Logger.exception(msg):` This will log a message with level ERROR on this logger.\n",
    "\n",
    "\n",
    "- `Logger.setLevel(lvl):` This function sets the threshold of this logger to lvl. This means that all the messages below this level will be ignored.\n",
    "\n",
    "\n",
    "- `Logger.addFilter(filt):` This adds a specific filter fit into this logger.\n",
    "\n",
    "\n",
    "- `Logger.removeFilter(filt):` This removes a specific filter fit into this logger.\n",
    "\n",
    "\n",
    "- `Logger.filter(record):` This method applies the logger’s filter to the record provided and returns True if the record is to be processed. Else, it will return False.\n",
    "\n",
    "\n",
    "- `Logger.addHandler(hdlr):` This adds a specific handler hdlr to this logger.\n",
    "\n",
    "\n",
    "- `Logger.removeHandler(hdlr) :` This removes a specific handler hdlr into this logger.\n",
    "\n",
    "\n",
    "- `Logger.hasHandlers():` This checks if the logger has any handler configured or not. "
   ]
  },
  {
   "cell_type": "markdown",
   "id": "fd7cce66",
   "metadata": {},
   "source": [
    "#### Now, let's see an example of how to use logging in a Python script:"
   ]
  },
  {
   "cell_type": "code",
   "execution_count": 1,
   "id": "a959eaf1",
   "metadata": {
    "ExecuteTime": {
     "end_time": "2024-02-05T10:07:47.380380Z",
     "start_time": "2024-02-05T10:07:47.297515Z"
    }
   },
   "outputs": [],
   "source": [
    "import logging"
   ]
  },
  {
   "cell_type": "code",
   "execution_count": 2,
   "id": "ddc5a459",
   "metadata": {
    "ExecuteTime": {
     "end_time": "2024-02-05T10:07:48.862868Z",
     "start_time": "2024-02-05T10:07:48.848626Z"
    }
   },
   "outputs": [],
   "source": [
    "# Create a logger\n",
    "logger = logging.getLogger('my_logger')\n",
    "logger.setLevel(logging.DEBUG)"
   ]
  },
  {
   "cell_type": "code",
   "execution_count": 3,
   "id": "2fc4020b",
   "metadata": {
    "ExecuteTime": {
     "end_time": "2024-02-05T10:07:53.684688Z",
     "start_time": "2024-02-05T10:07:53.667120Z"
    }
   },
   "outputs": [],
   "source": [
    "# Create a console handler and set the level to debug\n",
    "console_handler = logging.StreamHandler()\n",
    "console_handler.setLevel(logging.DEBUG)"
   ]
  },
  {
   "cell_type": "code",
   "execution_count": 4,
   "id": "93dd0bd8",
   "metadata": {
    "ExecuteTime": {
     "end_time": "2024-02-05T10:07:58.598398Z",
     "start_time": "2024-02-05T10:07:58.587400Z"
    }
   },
   "outputs": [],
   "source": [
    "# Create a formatter and add it to the handler\n",
    "formatter = logging.Formatter('%(asctime)s - %(levelname)s - %(message)s')\n",
    "console_handler.setFormatter(formatter)"
   ]
  },
  {
   "cell_type": "code",
   "execution_count": 5,
   "id": "b7e06bb2",
   "metadata": {
    "ExecuteTime": {
     "end_time": "2024-02-05T10:08:02.870297Z",
     "start_time": "2024-02-05T10:08:02.859208Z"
    }
   },
   "outputs": [],
   "source": [
    "# Add the console handler to the logger\n",
    "logger.addHandler(console_handler)"
   ]
  },
  {
   "cell_type": "code",
   "execution_count": 6,
   "id": "2040e7a7",
   "metadata": {
    "ExecuteTime": {
     "end_time": "2024-02-05T10:08:03.494323Z",
     "start_time": "2024-02-05T10:08:03.476684Z"
    }
   },
   "outputs": [
    {
     "name": "stderr",
     "output_type": "stream",
     "text": [
      "2024-02-05 15:38:03,478 - DEBUG - This is a debug message\n",
      "2024-02-05 15:38:03,482 - INFO - This is an info message\n",
      "2024-02-05 15:38:03,483 - WARNING - This is a warning message\n",
      "2024-02-05 15:38:03,484 - ERROR - This is an error message\n",
      "2024-02-05 15:38:03,485 - CRITICAL - This is a critical message\n"
     ]
    }
   ],
   "source": [
    "# Example usage\n",
    "logger.debug('This is a debug message')\n",
    "logger.info('This is an info message')\n",
    "logger.warning('This is a warning message')\n",
    "logger.error('This is an error message')\n",
    "logger.critical('This is a critical message')"
   ]
  },
  {
   "cell_type": "markdown",
   "id": "98d529af",
   "metadata": {},
   "source": [
    "In this example, log messages at the `DEBUG` level and above will be displayed on the console. You can customize the logging configuration to meet the specific needs of your application, including different log levels, output destinations, and formatting options."
   ]
  },
  {
   "cell_type": "markdown",
   "id": "f1b6784b",
   "metadata": {},
   "source": [
    "### Python Logging Exception :\n",
    "Raising exceptions during logging can be useful in certain scenarios to indicate exceptional conditions or errors in your application. By raising an exception, you can halt the normal flow of execution and notify the caller or the logging system about the encountered issue."
   ]
  },
  {
   "cell_type": "code",
   "execution_count": 9,
   "id": "9fcdb408",
   "metadata": {
    "ExecuteTime": {
     "end_time": "2024-02-05T11:04:23.626021Z",
     "start_time": "2024-02-05T11:04:18.537261Z"
    }
   },
   "outputs": [
    {
     "name": "stdout",
     "output_type": "stream",
     "text": [
      "Enter a value: 10\n"
     ]
    },
    {
     "name": "stderr",
     "output_type": "stream",
     "text": [
      "2024-02-05 16:34:23,616 - INFO - Operation performed successfully.\n"
     ]
    }
   ],
   "source": [
    "import logging\n",
    "\n",
    "logging.basicConfig(level=logging.DEBUG,\n",
    "                        format='%(asctime)s - %(levelname)s - %(message)s')\n",
    "\n",
    "\n",
    "def perform_operation(value):\n",
    "    if value < 0:\n",
    "        raise ValueError(\"Invalid value: Value cannot be negative.\")\n",
    "    else:\n",
    "        # Continue with normal execution\n",
    "        logging.info(\"Operation performed successfully.\")\n",
    "\n",
    "\n",
    "try:\n",
    "    input_value = int(input(\"Enter a value: \"))\n",
    "    perform_operation(input_value)\n",
    "except ValueError as ve:\n",
    "    logging.exception(\"Exception occurred: %s\", str(ve))\n"
   ]
  },
  {
   "attachments": {
    "Screenshot%202024-02-08%20181001.png": {
     "image/png": "[encoded data removed]"
    }
   },
   "cell_type": "markdown",
   "id": "668d3400",
   "metadata": {},
   "source": [
    "![Screenshot%202024-02-08%20181001.png](attachment:Screenshot%202024-02-08%20181001.png)"
   ]
  },
  {
   "cell_type": "markdown",
   "id": "a310a27d",
   "metadata": {},
   "source": [
    "### Logging on ML model"
   ]
  },
  {
   "cell_type": "code",
   "execution_count": null,
   "id": "4cc299bf",
   "metadata": {},
   "outputs": [],
   "source": [
    "import logging\n",
    "import numpy as np\n",
    "from sklearn.model_selection import train_test_split\n",
    "from sklearn.linear_model import LinearRegression\n",
    "from sklearn.metrics import mean_squared_error\n",
    "\n",
    "class MachineLearningLogger:\n",
    "    def __init__(self, log_file_path='ml_log.txt'):\n",
    "        # Configure logger\n",
    "        self.logger = logging.getLogger('ml_logger')\n",
    "        self.logger.setLevel(logging.INFO)\n",
    "\n",
    "        # Create a file handler and set the level to info\n",
    "        file_handler = logging.FileHandler(log_file_path)\n",
    "        file_handler.setLevel(logging.INFO)\n",
    "\n",
    "        # Create a formatter and add it to the handler\n",
    "        formatter = logging.Formatter('%(asctime)s - %(levelname)s - %(message)s')\n",
    "        file_handler.setFormatter(formatter)\n",
    "\n",
    "        # Add the file handler to the logger\n",
    "        self.logger.addHandler(file_handler)\n",
    "\n",
    "    def train_and_evaluate(self, X, y):\n",
    "        # Split the data into training and testing sets\n",
    "        X_train, X_test, y_train, y_test = train_test_split(X, y, test_size=0.2, random_state=42)\n",
    "\n",
    "        # Initialize a linear regression model\n",
    "        model = LinearRegression()\n",
    "\n",
    "        # Train the model\n",
    "        self.logger.info('Training the machine learning model...')\n",
    "        model.fit(X_train, y_train)\n",
    "\n",
    "        # Make predictions on the test set\n",
    "        predictions = model.predict(X_test)\n",
    "\n",
    "        # Evaluate the model\n",
    "        mse = mean_squared_error(y_test, predictions)\n",
    "        self.logger.info(f'Mean Squared Error on the test set: {mse}')\n",
    "\n",
    "        # Additional logging or analysis can be added as needed\n",
    "\n",
    "if __name__ == \"__main__\":\n",
    "    # Example usage\n",
    "    # Assuming you have a dataset X and corresponding target variable y\n",
    "    X = np.random.rand(100, 1)  # Replace with your actual dataset\n",
    "    y = 3 * X.squeeze() + np.random.randn(100)  # Replace with your actual target variable\n",
    "\n",
    "    # Create an instance of MachineLearningLogger\n",
    "    ml_logger = MachineLearningLogger()\n",
    "\n",
    "    # Train and evaluate the machine learning model\n",
    "    ml_logger.train_and_evaluate(X, y)\n"
   ]
  },
  {
   "cell_type": "markdown",
   "id": "c7fe050c",
   "metadata": {},
   "source": [
    "\n",
    "In this example, the `MachineLearningLogger` class has a method called `train_and_evaluate` that performs the machine learning tasks, and relevant information is logged using the configured logger. The log messages are saved to a file specified in the constructor (`log_file_path`). Adjust the code according to your specific machine learning algorithm and dataset."
   ]
  },
  {
   "cell_type": "markdown",
   "id": "fb77d2f8",
   "metadata": {},
   "source": [
    "### Using 2 different level of logging in same class:"
   ]
  },
  {
   "cell_type": "code",
   "execution_count": 1,
   "id": "d8e63398",
   "metadata": {
    "ExecuteTime": {
     "end_time": "2024-02-05T18:37:46.209097Z",
     "start_time": "2024-02-05T18:37:46.197684Z"
    }
   },
   "outputs": [],
   "source": [
    "import logging"
   ]
  },
  {
   "cell_type": "code",
   "execution_count": 2,
   "id": "a44047ca",
   "metadata": {
    "ExecuteTime": {
     "end_time": "2024-02-05T18:37:47.034303Z",
     "start_time": "2024-02-05T18:37:47.013324Z"
    }
   },
   "outputs": [],
   "source": [
    "class ExampleClass:\n",
    "    def __init__(self):\n",
    "        # Create a formatter\n",
    "        formatter = logging.Formatter('%(asctime)s - %(name)s - %(levelname)s - %(message)s')\n",
    "\n",
    "        # Create a file handler for errors\n",
    "        error_handler = logging.FileHandler('error_log.txt')\n",
    "        error_handler.setLevel(logging.ERROR)\n",
    "        error_handler.setFormatter(formatter)\n",
    "\n",
    "        # Create a file handler for informational messages\n",
    "        info_handler = logging.FileHandler('info_log.txt')\n",
    "        info_handler.setLevel(logging.INFO)\n",
    "        info_handler.setFormatter(formatter)\n",
    "\n",
    "        # Create error logger\n",
    "        self.error_logger = logging.getLogger('ErrorLogger')\n",
    "        self.error_logger.setLevel(logging.ERROR)\n",
    "        self.error_logger.addHandler(error_handler)\n",
    "\n",
    "        # Create info logger\n",
    "        self.info_logger = logging.getLogger('InfoLogger')\n",
    "        self.info_logger.setLevel(logging.INFO)\n",
    "        self.info_logger.addHandler(info_handler)\n",
    "\n",
    "    def run_pipeline(self):\n",
    "        try:\n",
    "            # Your pipeline code here\n",
    "            self.info_logger.info('Pipeline has started.')\n",
    "            # ...\n",
    "            self.info_logger.info('Pipeline has completed successfully.')\n",
    "        except Exception as e:\n",
    "            # Log errors using the error logger\n",
    "            self.error_logger.error(f'Error in pipeline: {str(e)}')\n",
    "\n",
    "if __name__ == \"__main__\":\n",
    "    # Create an instance of ExampleClass\n",
    "    example_instance = ExampleClass()\n",
    "\n",
    "    # Run the pipeline, which may generate information or errors\n",
    "    example_instance.run_pipeline()"
   ]
  },
  {
   "cell_type": "markdown",
   "id": "fb2c4abd",
   "metadata": {},
   "source": [
    "In this example, `ExampleClass` has two loggers: `error_logger` and `info_logger`. \n",
    "\n",
    "\n",
    "- The `error_logger` is set to log only errors and is connected to a file named 'error_log.txt'. \n",
    "\n",
    "\n",
    "- The `info_logger` is set to log informational messages and is connected to a file named 'info_log.txt'. \n",
    "\n",
    "\n",
    "- The `run_pipeline` method demonstrates how you might use these loggers within the class, logging information about the pipeline's progress and capturing errors that may occur."
   ]
  },
  {
   "cell_type": "markdown",
   "id": "d16bb2f3",
   "metadata": {},
   "source": [
    "### using \\_\\_name__ in both loggers:"
   ]
  },
  {
   "cell_type": "markdown",
   "id": "dcc33b4f",
   "metadata": {},
   "source": [
    "https://www.youtube.com/watch?v=p3HWzTYUfu8"
   ]
  },
  {
   "cell_type": "code",
   "execution_count": 4,
   "id": "0ca794bf",
   "metadata": {
    "ExecuteTime": {
     "end_time": "2024-02-05T18:50:49.422028Z",
     "start_time": "2024-02-05T18:50:49.409323Z"
    }
   },
   "outputs": [
    {
     "name": "stderr",
     "output_type": "stream",
     "text": [
      "2024-02-06 00:20:49,418 - __main__ - INFO - Pipeline has started.\n",
      "2024-02-06 00:20:49,419 - __main__ - INFO - Pipeline has completed successfully.\n"
     ]
    }
   ],
   "source": [
    "import logging\n",
    "\n",
    "# Create a formatter\n",
    "formatter = logging.Formatter('%(asctime)s - %(name)s - %(levelname)s - %(message)s')\n",
    "\n",
    "# Create a file handler for errors\n",
    "error_handler = logging.FileHandler('error_log.txt')\n",
    "error_handler.setLevel(logging.ERROR)\n",
    "error_handler.setFormatter(formatter)\n",
    "\n",
    "# Create a file handler for informational messages\n",
    "info_handler = logging.FileHandler('info_log.txt')\n",
    "info_handler.setLevel(logging.INFO)\n",
    "info_handler.setFormatter(formatter)\n",
    "\n",
    "# Create error logger using __name__\n",
    "error_logger = logging.getLogger(__name__)\n",
    "error_logger.addHandler(error_handler)\n",
    "error_logger.setLevel(logging.ERROR)\n",
    "\n",
    "# Create info logger using __name__\n",
    "info_logger = logging.getLogger(__name__)\n",
    "info_logger.addHandler(info_handler)\n",
    "info_logger.setLevel(logging.INFO)\n",
    "\n",
    "class ExampleClass:\n",
    "    @staticmethod\n",
    "    def run_pipeline():\n",
    "        try:\n",
    "            # Your pipeline code here\n",
    "            info_logger.info('Pipeline has started.')\n",
    "            # ...\n",
    "            info_logger.info('Pipeline has completed successfully.')\n",
    "        except Exception as e:\n",
    "            # Log errors using the error logger\n",
    "            error_logger.error(f'Error in pipeline: {str(e)}')\n",
    "\n",
    "if __name__ == \"__main__\":\n",
    "    ExampleClass.run_pipeline()\n",
    "\n"
   ]
  },
  {
   "cell_type": "markdown",
   "id": "26850f80",
   "metadata": {},
   "source": [
    "In this example, both loggers (`error_logger` and `info_logger`) use `__name__` as the logger name. This approach is perfectly valid and might be beneficial in situations where you want to keep the logger names consistent with the module or script names where they are used."
   ]
  },
  {
   "cell_type": "code",
   "execution_count": null,
   "id": "2f78d958",
   "metadata": {},
   "outputs": [],
   "source": []
  }
 ],
 "metadata": {
  "kernelspec": {
   "display_name": "Python 3 (ipykernel)",
   "language": "python",
   "name": "python3"
  },
  "language_info": {
   "codemirror_mode": {
    "name": "ipython",
    "version": 3
   },
   "file_extension": ".py",
   "mimetype": "text/x-python",
   "name": "python",
   "nbconvert_exporter": "python",
   "pygments_lexer": "ipython3",
   "version": "3.9.13"
  }
 },
 "nbformat": 4,
 "nbformat_minor": 5
}

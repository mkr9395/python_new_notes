{
 "cells": [
  {
   "cell_type": "markdown",
   "metadata": {
    "id": "A05OG15VqOPF"
   },
   "source": [
    "# Task : Session 1\n",
    "Solve these questions own your own and try to test yourself what you have learned in the session.\n",
    "\n",
    "Happy Learning!"
   ]
  },
  {
   "cell_type": "markdown",
   "metadata": {
    "id": "2doIXf8bqe9_"
   },
   "source": [
    "## Q1 :- Print the given strings as per stated format.\n",
    "\n",
    "**Given strings**:\n",
    "```\n",
    "\"Data\" \"Science\" \"Mentorship\" \"Program\"\n",
    "\"By\" \"CampusX\"\n",
    "```\n",
    "**Output**:\n",
    "```\n",
    "Data-Science-Mentorship-Program-started-By-CampusX\n",
    "```\n",
    "\n",
    "Concept- [Seperator and End]"
   ]
  },
  {
   "cell_type": "markdown",
   "metadata": {
    "heading_collapsed": true
   },
   "source": [
    "### Solution"
   ]
  },
  {
   "cell_type": "code",
   "execution_count": 5,
   "metadata": {
    "ExecuteTime": {
     "end_time": "2024-02-15T14:57:33.128677Z",
     "start_time": "2024-02-15T14:57:33.121190Z"
    },
    "hidden": true
   },
   "outputs": [
    {
     "name": "stdout",
     "output_type": "stream",
     "text": [
      "Data-Science-Mentorship-Program-By-CampusX\n"
     ]
    }
   ],
   "source": [
    "print(\"Data\",\"Science\",\"Mentorship\",\"Program\"\n",
    ",\"By\",\"CampusX\",sep='-')"
   ]
  },
  {
   "cell_type": "markdown",
   "metadata": {
    "id": "1KUpN7ZTrC3_"
   },
   "source": [
    "## Q2:- Write a program that will convert celsius value to fahrenheit."
   ]
  },
  {
   "cell_type": "markdown",
   "metadata": {
    "heading_collapsed": true,
    "id": "yxKYhYQiqWfj"
   },
   "source": [
    "### Solution"
   ]
  },
  {
   "cell_type": "code",
   "execution_count": 11,
   "metadata": {
    "ExecuteTime": {
     "end_time": "2024-02-15T15:04:59.281907Z",
     "start_time": "2024-02-15T15:04:56.343437Z"
    },
    "hidden": true
   },
   "outputs": [
    {
     "name": "stdout",
     "output_type": "stream",
     "text": [
      "Enter the temperature in celcius : 100.03\n",
      "temp in farhenheit is :  210.054\n"
     ]
    }
   ],
   "source": [
    "celc_temp = float(input(\"Enter the temperature in celcius : \"))    \n",
    "print(\"the same temp in farhenheit is : \",(celc_temp * (9/5))+30)"
   ]
  },
  {
   "cell_type": "markdown",
   "metadata": {
    "id": "RLrOBBJurLB2"
   },
   "source": [
    "## Q3:- Take 2 numbers as input from the user.Write a program to swap the numbers without using any special python syntax."
   ]
  },
  {
   "cell_type": "markdown",
   "metadata": {
    "heading_collapsed": true
   },
   "source": [
    "### Solution\n"
   ]
  },
  {
   "cell_type": "code",
   "execution_count": 13,
   "metadata": {
    "ExecuteTime": {
     "end_time": "2024-02-15T15:07:35.614543Z",
     "start_time": "2024-02-15T15:07:32.134544Z"
    },
    "hidden": true,
    "id": "yPn7if0TrJ4F"
   },
   "outputs": [
    {
     "name": "stdout",
     "output_type": "stream",
     "text": [
      "Enter 1st number 10\n",
      "Enter 2nd number 15\n",
      "\n",
      "\n",
      "\n",
      "first number is  10\n",
      "second number is  15 \n",
      "\n",
      "\n",
      "But now the numbers are : \n",
      "first number is  15\n",
      "second number is  10 \n",
      "\n",
      "\n"
     ]
    }
   ],
   "source": [
    "num1 = int(input(\"Enter 1st number \"))\n",
    "num2 = int(input(\"Enter 2nd number \"))\n",
    "print(\"\\n\")\n",
    "print(\"first number is \", num1)\n",
    "print(\"second number is \", num2,\"\\n\\n\")\n",
    "print(\"But now the numbers are : \")\n",
    "num2, num1 = num1, num2\n",
    "print(\"first number is \", num1)\n",
    "print(\"second number is \", num2,\"\\n\\n\")\n"
   ]
  },
  {
   "cell_type": "markdown",
   "metadata": {
    "id": "waLCP1bjr7ML"
   },
   "source": [
    "## Q4:- Write a program to find the euclidean distance between two coordinates.Take both the coordinates from the user as input."
   ]
  },
  {
   "cell_type": "markdown",
   "metadata": {
    "heading_collapsed": true
   },
   "source": [
    "### Solution"
   ]
  },
  {
   "cell_type": "code",
   "execution_count": 1,
   "metadata": {
    "ExecuteTime": {
     "end_time": "2024-02-17T06:05:59.123852Z",
     "start_time": "2024-02-17T06:05:55.151552Z"
    },
    "hidden": true,
    "id": "Pl1Sv-xnrxnH"
   },
   "outputs": [
    {
     "name": "stdout",
     "output_type": "stream",
     "text": [
      "Enter the cordinates for 1st point sperated by comma : 10,11\n"
     ]
    },
    {
     "ename": "TypeError",
     "evalue": "int() argument must be a string, a bytes-like object or a number, not 'list'",
     "output_type": "error",
     "traceback": [
      "\u001b[1;31m---------------------------------------------------------------------------\u001b[0m",
      "\u001b[1;31mTypeError\u001b[0m                                 Traceback (most recent call last)",
      "Cell \u001b[1;32mIn[1], line 1\u001b[0m\n\u001b[1;32m----> 1\u001b[0m a1,b1 \u001b[38;5;241m=\u001b[39m \u001b[38;5;28;43mint\u001b[39;49m\u001b[43m(\u001b[49m\u001b[38;5;28;43minput\u001b[39;49m\u001b[43m(\u001b[49m\u001b[38;5;124;43m\"\u001b[39;49m\u001b[38;5;124;43mEnter the cordinates for 1st point sperated by comma : \u001b[39;49m\u001b[38;5;124;43m\"\u001b[39;49m\u001b[43m)\u001b[49m\u001b[38;5;241;43m.\u001b[39;49m\u001b[43msplit\u001b[49m\u001b[43m(\u001b[49m\u001b[38;5;124;43m'\u001b[39;49m\u001b[38;5;124;43m,\u001b[39;49m\u001b[38;5;124;43m'\u001b[39;49m\u001b[43m)\u001b[49m\u001b[43m)\u001b[49m\n\u001b[0;32m      2\u001b[0m a2,b2 \u001b[38;5;241m=\u001b[39m \u001b[38;5;28minput\u001b[39m(\u001b[38;5;124m\"\u001b[39m\u001b[38;5;124mEnter the cordinates for 2nd point sperated by comma : \u001b[39m\u001b[38;5;124m\"\u001b[39m)\u001b[38;5;241m.\u001b[39msplit(\u001b[38;5;124m'\u001b[39m\u001b[38;5;124m,\u001b[39m\u001b[38;5;124m'\u001b[39m)\n\u001b[0;32m      3\u001b[0m \u001b[38;5;28mprint\u001b[39m()\n",
      "\u001b[1;31mTypeError\u001b[0m: int() argument must be a string, a bytes-like object or a number, not 'list'"
     ]
    }
   ],
   "source": [
    "a1,b1 = input(\"Enter the cordinates for 1st point sperated by comma : \").split(',')\n",
    "a2,b2 = input(\"Enter the cordinates for 2nd point sperated by comma : \").split(',')\n",
    "print()\n",
    "\n",
    "# print(f\"The coordinates for 1st points are [{a1},{b1}]\")\n",
    "# print(f\"The coordinates  for 2nd points are [{a2},{b2}]\")\n",
    "\n",
    "a1, a2, b1, b2 = int(a1),int(a2),int(b1),int(b2)\n",
    "\n",
    "print(f\"The euclidean distance between [{a1},{b1}] and [{a2},{b2}] is {((a2-a1)**2 + (b2 - b1)**2)**0.5}\")"
   ]
  },
  {
   "cell_type": "markdown",
   "metadata": {
    "id": "VLrhg-FRsHjR"
   },
   "source": [
    "# Q5:- Write a program to find the simple interest when the value of principle,rate of interest and time period is provided by the user.\n"
   ]
  },
  {
   "cell_type": "markdown",
   "metadata": {
    "heading_collapsed": true
   },
   "source": [
    "### Solution\n"
   ]
  },
  {
   "cell_type": "code",
   "execution_count": 32,
   "metadata": {
    "ExecuteTime": {
     "end_time": "2024-02-15T15:27:25.776332Z",
     "start_time": "2024-02-15T15:27:20.583639Z"
    },
    "hidden": true,
    "id": "s40DlReZsTmY"
   },
   "outputs": [
    {
     "name": "stdout",
     "output_type": "stream",
     "text": [
      "Enter the principle amount : 1000\n",
      "Enter the rate of interest : 10\n",
      "Enter the ime period : 1\n",
      "\n",
      "The simple interest for principle Rs 1000, at rate of interest 10 and time period 1 years is Rs 100.0\n"
     ]
    }
   ],
   "source": [
    "p = int(input('Enter the principle amount : '))\n",
    "r = int(input('Enter the rate of interest : '))\n",
    "t = int(input('Enter the ime period : '))\n",
    "\n",
    "print()\n",
    "print(f\"The simple interest for principle Rs {p}, at rate of interest {r} and time period {t} years is Rs {(p*r*t)/100}\")"
   ]
  },
  {
   "cell_type": "markdown",
   "metadata": {
    "id": "LMy0BTUktYKa"
   },
   "source": [
    "## Q6:- Write a program that will tell the number of dogs and chicken are there when the user will provide the value of total heads and legs.\n",
    "\n",
    "For example:\n",
    "Input:\n",
    "heads -> 4\n",
    "legs -> 12\n",
    "<br>\n",
    "Output:\n",
    "dogs -> 2\n",
    "chicken -> 2\n",
    "\n",
    "\n",
    "\n"
   ]
  },
  {
   "cell_type": "markdown",
   "metadata": {
    "heading_collapsed": true
   },
   "source": [
    "### Solution"
   ]
  },
  {
   "cell_type": "code",
   "execution_count": 18,
   "metadata": {
    "ExecuteTime": {
     "end_time": "2024-02-20T12:09:37.768503Z",
     "start_time": "2024-02-20T12:09:36.280429Z"
    },
    "hidden": true
   },
   "outputs": [
    {
     "name": "stdout",
     "output_type": "stream",
     "text": [
      "enter number of heads 12\n",
      "enter number of legs 2\n"
     ]
    }
   ],
   "source": [
    "total_head = int(input(\"enter number of heads \"))\n",
    "total_legs = int(input(\"enter number of legs \"))\n",
    "\n",
    "for i in range(0,total_head+1):\n",
    "    for j in range(0,total_head+1):\n",
    "        if i+j == total_head:\n",
    "            legs = 4*i + 2*j\n",
    "            \n",
    "            if legs == total_legs:\n",
    "                print(f\"\\n number of dogs is {i}, number of chicken is {j}\")\n",
    "            else:\n",
    "                print(\"this combination is not possible\")\n",
    "            #break"
   ]
  },
  {
   "cell_type": "markdown",
   "metadata": {
    "id": "gJ7C5kZYt4BP"
   },
   "source": [
    "## Q7:- Write a program to find the sum of squares of first n natural numbers where n will be provided by the user."
   ]
  },
  {
   "cell_type": "markdown",
   "metadata": {
    "heading_collapsed": true
   },
   "source": [
    "### Solution"
   ]
  },
  {
   "cell_type": "code",
   "execution_count": 5,
   "metadata": {
    "ExecuteTime": {
     "end_time": "2024-02-15T16:08:47.683458Z",
     "start_time": "2024-02-15T16:08:44.956071Z"
    },
    "hidden": true
   },
   "outputs": [
    {
     "name": "stdout",
     "output_type": "stream",
     "text": [
      "Enter the number till where you need the sum of squares of the natural numbers 10\n",
      "The sum of all natural number till 10 is 385.0 \n"
     ]
    }
   ],
   "source": [
    "n = int(input(\"Enter the number till where you need the sum of squares of the natural numbers \"))\n",
    "\n",
    "\n",
    "total = (n*(n+1)*(2*n+1))/6\n",
    "\n",
    "print(f'The sum of all natural number till {n} is {total} ')"
   ]
  },
  {
   "cell_type": "code",
   "execution_count": 6,
   "metadata": {
    "ExecuteTime": {
     "end_time": "2024-02-15T16:08:58.591633Z",
     "start_time": "2024-02-15T16:08:55.907386Z"
    },
    "hidden": true,
    "id": "_tHsmEHzt2nX"
   },
   "outputs": [
    {
     "name": "stdout",
     "output_type": "stream",
     "text": [
      "Enter the number till where you need the sum of squares of the natural nuumbers 10\n",
      "\n",
      "The sum of all natural number till 10 is 385\n"
     ]
    }
   ],
   "source": [
    "num = int(input(\"Enter the number till where you need the sum of squares of the natural nuumbers \"))\n",
    "\n",
    "print()\n",
    "\n",
    "count = 0\n",
    "\n",
    "for i in range(1,num+1):\n",
    "    count = count + (i**2)\n",
    "print(f\"The sum of all natural number till {num} is {count}\")"
   ]
  },
  {
   "cell_type": "markdown",
   "metadata": {
    "id": "FHrMM7g-yG1h"
   },
   "source": [
    "## Q8:- Given the first 2 terms of an Arithmetic Series.Find the Nth term of the series. Assume all inputs are provided by the user."
   ]
  },
  {
   "cell_type": "markdown",
   "metadata": {
    "heading_collapsed": true
   },
   "source": [
    "### Solution"
   ]
  },
  {
   "cell_type": "markdown",
   "metadata": {
    "hidden": true
   },
   "source": [
    "    an arithmetic progression, in general, can be written as: {a, a + d, a + 2d, a + 3d, ... }."
   ]
  },
  {
   "cell_type": "code",
   "execution_count": 7,
   "metadata": {
    "ExecuteTime": {
     "end_time": "2024-02-15T16:18:52.571213Z",
     "start_time": "2024-02-15T16:18:46.571949Z"
    },
    "hidden": true
   },
   "outputs": [
    {
     "name": "stdout",
     "output_type": "stream",
     "text": [
      "Enter the first number : 3\n",
      "Enter the first number : 6\n",
      "enter the number of terms required in the AP : 5\n",
      "The AP for first number 3 and second number 6 for 5 terms is [3, 6, 9, 12, 15]\n"
     ]
    }
   ],
   "source": [
    "a =  int(input(\"Enter the first number : \"))\n",
    "b =  int(input(\"Enter the first number : \"))\n",
    "n = int(input('enter the number of terms required in the AP : '))\n",
    "\n",
    "\n",
    "\n",
    "list1 = [a,b]\n",
    "\n",
    "diff = b - a\n",
    "\n",
    "for i in range(2,n):\n",
    "    list1.append(a + i*diff)\n",
    "    \n",
    "print(f'The AP for first number {a} and second number {b} for {n} terms is {list1}')\n",
    "    "
   ]
  },
  {
   "cell_type": "markdown",
   "metadata": {
    "id": "QgyRX_es1oum"
   },
   "source": [
    "## Q9:- <span class=\"burk\">Given 2 fractions, find the sum of those 2 fractions.Take the numerator and denominator values of the fractions from the user.</span>"
   ]
  },
  {
   "cell_type": "markdown",
   "metadata": {
    "heading_collapsed": true
   },
   "source": [
    "### Solution"
   ]
  },
  {
   "cell_type": "code",
   "execution_count": null,
   "metadata": {
    "hidden": true
   },
   "outputs": [],
   "source": [
    "a1,a2 = int(input('Enter the numerator and denominator of first num sepertaed by , ')).split()\n",
    "\n",
    "b1,b2 = int(input('Enter the numerator and denominator of second num sepertaed by , ')).split()\n",
    "\n",
    "a1,a2,b1,b2 = int(a1), int(a2), int(b1), int(b2)\n",
    "\n",
    "if a2 == b2:\n",
    "    deno = a2\n",
    "if a2!= b2:\n",
    "    if (a2%b2 == 0):\n",
    "        deno = a2\n",
    "    if (b2%a2==0):\n",
    "        deno = b2\n",
    "    else:\n",
    "        pass"
   ]
  },
  {
   "cell_type": "markdown",
   "metadata": {
    "id": "eaql38ln13u7"
   },
   "source": [
    "## Q10:- Given the height, width and breadth of a milk tank, you have to find out how many glasses of milk can be obtained? Assume all the inputs are provided by the user.\n",
    "\n",
    "\n",
    "\n",
    "Input:<br>\n",
    "Dimensions of the milk tank<br>\n",
    "H = 20cm, L = 20cm, B = 20cm\n",
    "<br><br>\n",
    "Dimensions of the glass<br>\n",
    "h = 3cm, r = 1cm"
   ]
  },
  {
   "cell_type": "markdown",
   "metadata": {
    "heading_collapsed": true
   },
   "source": [
    "### Solution"
   ]
  },
  {
   "cell_type": "code",
   "execution_count": 12,
   "metadata": {
    "ExecuteTime": {
     "end_time": "2024-02-15T20:24:42.164964Z",
     "start_time": "2024-02-15T20:24:42.148417Z"
    },
    "hidden": true
   },
   "outputs": [],
   "source": [
    "import math"
   ]
  },
  {
   "cell_type": "code",
   "execution_count": 16,
   "metadata": {
    "ExecuteTime": {
     "end_time": "2024-02-15T20:29:04.881705Z",
     "start_time": "2024-02-15T20:28:57.763840Z"
    },
    "hidden": true,
    "id": "FePZqno74eWv"
   },
   "outputs": [
    {
     "name": "stdout",
     "output_type": "stream",
     "text": [
      "Enter height of milk tank : 10\n",
      "Enter width of milk tank : 19\n",
      "Enter breadth of milk tank : 10\n",
      "Enter height of glass : 5\n",
      "Enter radius of glass : 2\n",
      "number of glasses from milk tank of 1900.0 volume is : 30\n"
     ]
    }
   ],
   "source": [
    "tank_height = float(input(\"Enter height of milk tank : \"))\n",
    "tank_width = float(input(\"Enter width of milk tank : \"))\n",
    "tank_breadth = float(input(\"Enter breadth of milk tank : \"))\n",
    "\n",
    "glass_height = float(input(\"Enter height of glass : \"))\n",
    "glass_radius = float(input(\"Enter radius of glass : \"))\n",
    "\n",
    "vol_tank = (tank_height*tank_width*tank_breadth)\n",
    "\n",
    "vol_glass = math.pi*(glass_radius**2)*glass_height \n",
    "\n",
    "print(f\"number of glasses from milk tank of {vol_tank} volume is : {math.floor(vol_tank/vol_glass)}\")\n"
   ]
  },
  {
   "cell_type": "code",
   "execution_count": null,
   "metadata": {
    "hidden": true
   },
   "outputs": [],
   "source": []
  }
 ],
 "metadata": {
  "colab": {
   "provenance": []
  },
  "kernelspec": {
   "display_name": "Python 3 (ipykernel)",
   "language": "python",
   "name": "python3"
  },
  "language_info": {
   "codemirror_mode": {
    "name": "ipython",
    "version": 3
   },
   "file_extension": ".py",
   "mimetype": "text/x-python",
   "name": "python",
   "nbconvert_exporter": "python",
   "pygments_lexer": "ipython3",
   "version": "3.9.13"
  }
 },
 "nbformat": 4,
 "nbformat_minor": 1
}

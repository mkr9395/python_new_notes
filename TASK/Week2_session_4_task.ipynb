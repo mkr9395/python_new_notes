{
 "cells": [
  {
   "cell_type": "markdown",
   "metadata": {
    "id": "kLZ_vCeE0lsM"
   },
   "source": [
    "### `Problem 1:` Combine two lists index-wise(columns wise)\n",
    "\n",
    "Write a program to add two lists index-wise. Create a new list that contains the 0th index item from both the list, then the 1st index item, and so on till the last element. any leftover items will get added at the end of the new list.\n",
    "\n",
    "`Given List:`\n",
    "```\n",
    "list1 = [\"M\", \"na\", \"i\", \"Kh\"]\n",
    "list2 = [\"y\", \"me\", \"s\", \"an\"]\n",
    "```\n",
    "\n",
    "`Output:`\n",
    "```\n",
    "[['M','y'], ['na', me'], ['i', 's'], ['Kh', 'an']]\n",
    "```"
   ]
  },
  {
   "cell_type": "markdown",
   "metadata": {
    "heading_collapsed": true
   },
   "source": [
    "### Solution"
   ]
  },
  {
   "cell_type": "code",
   "execution_count": 45,
   "metadata": {
    "ExecuteTime": {
     "end_time": "2024-02-26T19:07:38.975702Z",
     "start_time": "2024-02-26T19:07:38.966856Z"
    },
    "hidden": true,
    "id": "cDO3Yv6p0nnG"
   },
   "outputs": [],
   "source": [
    "# list1 = [\"M\", \"na\", \"i\", \"Kh\"]\n",
    "# list2 = [\"y\", \"me\", \"s\", \"an\"]\n",
    "\n",
    "\n",
    "list1 = [\"M\", \"na\", \"i\", \"Kh\",\"part\",\"2\"]\n",
    "list2 = [\"y\", \"me\", \"s\", \"an\"]\n",
    "\n",
    "# list1 = [\"M\", \"na\"]\n",
    "# list2 = [\"y\", \"me\", \"s\", \"an\",\"go\",\"goa\"]"
   ]
  },
  {
   "cell_type": "code",
   "execution_count": 48,
   "metadata": {
    "ExecuteTime": {
     "end_time": "2024-02-26T19:08:48.700283Z",
     "start_time": "2024-02-26T19:08:48.689356Z"
    },
    "hidden": true,
    "id": "cDO3Yv6p0nnG"
   },
   "outputs": [
    {
     "name": "stdout",
     "output_type": "stream",
     "text": [
      "[['M', 'y'], ['na', 'me'], ['i', 's'], ['Kh', 'an'], ['part'], ['2']]\n"
     ]
    }
   ],
   "source": [
    "com_index = min(len(list1),len(list2))\n",
    "# print(f\"length of list1 = {len(list1)} and length of list2 = {len(list2)} and the common index is {com_index}\")\n",
    "\n",
    "\n",
    "final_list = []    \n",
    "\n",
    "for i in range(com_index):\n",
    "    final_list.append([list1[i],list2[i]])\n",
    "    \n",
    "\n",
    "\n",
    "extra = []\n",
    "\n",
    "if len(list1)>com_index:\n",
    "    for i in range(com_index,len(list1)):\n",
    "        extra.append(list1[i])\n",
    "    final_list.append(extra)\n",
    "\n",
    "else:\n",
    "    for i in range(com_index,len(list2)):\n",
    "        extra.append(list2[i])\n",
    "    final_list.append(extra)\n",
    "\n",
    "print(final_list)\n",
    "\n",
    "    "
   ]
  },
  {
   "cell_type": "markdown",
   "metadata": {
    "heading_collapsed": true,
    "id": "bnRwRgf_0qLu"
   },
   "source": [
    "### `Problem 2:` Add new item to list after a specified item\n",
    "Write a program to add item 7000 after 6000 in the following Python List\n",
    "```\n",
    "list1 = [10, 20, [300, 400, [5000, 6000], 500], 30, 40]\n",
    "```\n",
    "`Output:`\n",
    "```\n",
    "[10, 20, [300, 400, [5000, 6000, 7000], 500], 30, 40]\n",
    "```"
   ]
  },
  {
   "cell_type": "markdown",
   "metadata": {},
   "source": [
    "### Solution"
   ]
  },
  {
   "cell_type": "code",
   "execution_count": null,
   "metadata": {},
   "outputs": [],
   "source": []
  },
  {
   "cell_type": "code",
   "execution_count": null,
   "metadata": {},
   "outputs": [],
   "source": []
  },
  {
   "cell_type": "code",
   "execution_count": null,
   "metadata": {},
   "outputs": [],
   "source": []
  },
  {
   "cell_type": "code",
   "execution_count": null,
   "metadata": {},
   "outputs": [],
   "source": []
  },
  {
   "cell_type": "code",
   "execution_count": null,
   "metadata": {},
   "outputs": [],
   "source": []
  },
  {
   "cell_type": "code",
   "execution_count": 26,
   "metadata": {
    "ExecuteTime": {
     "end_time": "2024-02-26T18:56:03.989720Z",
     "start_time": "2024-02-26T18:56:03.978856Z"
    },
    "id": "yW5lLPns00q9"
   },
   "outputs": [],
   "source": [
    "list1 = [10, 20, [300, 400, [5000, 6000], 500], 30, 40]"
   ]
  },
  {
   "cell_type": "code",
   "execution_count": 29,
   "metadata": {
    "ExecuteTime": {
     "end_time": "2024-02-26T18:57:28.228900Z",
     "start_time": "2024-02-26T18:57:28.221297Z"
    }
   },
   "outputs": [
    {
     "data": {
      "text/plain": [
       "5"
      ]
     },
     "execution_count": 29,
     "metadata": {},
     "output_type": "execute_result"
    }
   ],
   "source": [
    "len(list1)"
   ]
  },
  {
   "cell_type": "code",
   "execution_count": 34,
   "metadata": {
    "ExecuteTime": {
     "end_time": "2024-02-26T19:00:51.666824Z",
     "start_time": "2024-02-26T19:00:51.649442Z"
    }
   },
   "outputs": [
    {
     "name": "stdout",
     "output_type": "stream",
     "text": [
      "10\n",
      "20\n",
      "[300, 400, [5000, 6000], 500]\n",
      "30\n",
      "40\n"
     ]
    }
   ],
   "source": [
    "for i in range(len(list1)):\n",
    "    print(list1[i])\n",
    "    "
   ]
  },
  {
   "cell_type": "code",
   "execution_count": 23,
   "metadata": {
    "ExecuteTime": {
     "end_time": "2024-02-26T18:54:11.959330Z",
     "start_time": "2024-02-26T18:54:11.940429Z"
    },
    "id": "yW5lLPns00q9"
   },
   "outputs": [
    {
     "name": "stdout",
     "output_type": "stream",
     "text": [
      "[10, 20, [300, 400, [5000, 6000, 700], 500], 30, 40]\n"
     ]
    }
   ],
   "source": [
    "list1[2][2].append(700)\n",
    "print(list1)"
   ]
  },
  {
   "cell_type": "markdown",
   "metadata": {
    "id": "w7fC8oHk02fH"
   },
   "source": [
    "### `Problem 3:` Update no of items available\n",
    "\n",
    "Suppose you are given a list of candy and another list of same size representing no of items of respective candy.\n",
    "\n",
    "i.e -  \n",
    "```\n",
    "candy_list = ['Jelly Belly','Kit Kat','Double Bubble','Milky Way','Three Musketeers']\n",
    "no_of_items = [10,20,34,74,32]\n",
    "```\n",
    "\n",
    "Write a program to show no. of items of each candy type.\n",
    "\n",
    "`Output:`\n",
    "\n",
    "```\n",
    "Jelly Belly-10\n",
    "Kit Kat-20\n",
    "Double Bubble-34\n",
    "Milky Way-74\n",
    "Three Musketeers-32\n",
    "\n",
    "```"
   ]
  },
  {
   "cell_type": "markdown",
   "metadata": {
    "heading_collapsed": true
   },
   "source": [
    "### Solution"
   ]
  },
  {
   "cell_type": "code",
   "execution_count": 51,
   "metadata": {
    "ExecuteTime": {
     "end_time": "2024-02-26T19:51:37.750558Z",
     "start_time": "2024-02-26T19:51:37.734801Z"
    },
    "hidden": true,
    "id": "gg5JEX1a09q8"
   },
   "outputs": [
    {
     "name": "stdout",
     "output_type": "stream",
     "text": [
      "Jelly Belly - 10\n",
      "Kit Kat - 20\n",
      "Double Bubble - 34\n",
      "Milky Way - 74\n",
      "Three Musketeers - 32\n"
     ]
    }
   ],
   "source": [
    "candy_list = ['Jelly Belly','Kit Kat','Double Bubble','Milky Way','Three Musketeers']\n",
    "no_of_items = [10,20,34,74,32]\n",
    "\n",
    "for i in list(zip(candy_list,no_of_items)):\n",
    "    print(i[0],\"-\",i[1])"
   ]
  },
  {
   "cell_type": "markdown",
   "metadata": {
    "id": "mFGZAvnB1D3N"
   },
   "source": [
    "### `Problem 4:` Running Sum on list\n",
    "Write a program to print a list after performing running sum on it.\n",
    "\n",
    "i.e:\n",
    "\n",
    "`Input:`\n",
    "```\n",
    "list1 = [1,2,3,4,5,6]\n",
    "```\n",
    "`Output:`\n",
    "```\n",
    "[1,3,6,10,15,21]\n",
    "```"
   ]
  },
  {
   "cell_type": "markdown",
   "metadata": {
    "heading_collapsed": true
   },
   "source": [
    "### Solution"
   ]
  },
  {
   "cell_type": "code",
   "execution_count": 53,
   "metadata": {
    "ExecuteTime": {
     "end_time": "2024-02-26T19:55:13.222789Z",
     "start_time": "2024-02-26T19:55:13.218731Z"
    },
    "hidden": true,
    "id": "8LPS6DaD1FTs"
   },
   "outputs": [
    {
     "name": "stdout",
     "output_type": "stream",
     "text": [
      "[1, 3, 6, 10, 15, 21]\n"
     ]
    }
   ],
   "source": [
    "list1 = [1,2,3,4,5,6]\n",
    "\n",
    "final_list = []\n",
    "total = 0\n",
    "\n",
    "for i in list1:\n",
    "    total = total + i\n",
    "    final_list.append(total)\n",
    "print(final_list)"
   ]
  },
  {
   "cell_type": "markdown",
   "metadata": {
    "id": "2ztcZ-EW1HEU"
   },
   "source": [
    "### `Problem 5:` You are given a list of integers. You are asked to make a list by running through elements of the list by adding all elements greater and itself.\n",
    "\n",
    "i.e. Say given list is `[2,4,6,10,1]`\n",
    "resultant list will be `[22,20,10,23]`.\n",
    "\n",
    "For 1st element `2` ->> these are greater `(4+6+10)` values and `2` itself so on adding becomes `22`.\n",
    "\n",
    "For 2nd element `4` ->> greater elements are `(6, 10)` and `4` itself, so on adding `20`\n",
    "\n",
    "like wise for all other elememts.\n",
    "\n",
    "`[2,4,6,10,1]`-->`[22,20,16,10,23]`\n",
    "\n",
    "\n"
   ]
  },
  {
   "cell_type": "markdown",
   "metadata": {
    "heading_collapsed": true
   },
   "source": [
    "### Solution"
   ]
  },
  {
   "cell_type": "code",
   "execution_count": 54,
   "metadata": {
    "ExecuteTime": {
     "end_time": "2024-02-26T19:58:58.096089Z",
     "start_time": "2024-02-26T19:58:58.082425Z"
    },
    "hidden": true
   },
   "outputs": [
    {
     "name": "stdout",
     "output_type": "stream",
     "text": [
      "[22, 20, 16, 10, 23]\n"
     ]
    }
   ],
   "source": [
    "list1 = [2,4,6,10,1]\n",
    "\n",
    "sum_list = []\n",
    "for i in list1:\n",
    "    total = 0\n",
    "    for j in list1:\n",
    "        if j >= i:\n",
    "            total = total+j\n",
    "    sum_list.append(total)\n",
    "    \n",
    "print(sum_list)"
   ]
  },
  {
   "cell_type": "code",
   "execution_count": null,
   "metadata": {
    "hidden": true,
    "id": "UJuWqzj31UD2"
   },
   "outputs": [],
   "source": [
    "# Write code here"
   ]
  },
  {
   "cell_type": "markdown",
   "metadata": {
    "id": "c9H6tYTx1ZYo"
   },
   "source": [
    "### `Problem 6:` Find list of common unique items from two list. and show in increasing order\n",
    "\n",
    "`Input`\n",
    "\n",
    "```\n",
    "num1 = [23,45,67,78,89,34]\n",
    "num2 = [34,89,55,56,39,67]\n",
    "```\n",
    "\n",
    "`Output:`\n",
    "```\n",
    "[34, 67, 89]\n",
    "```\n"
   ]
  },
  {
   "cell_type": "markdown",
   "metadata": {
    "heading_collapsed": true
   },
   "source": [
    "### Solution"
   ]
  },
  {
   "cell_type": "code",
   "execution_count": 79,
   "metadata": {
    "ExecuteTime": {
     "end_time": "2024-02-27T12:38:15.824325Z",
     "start_time": "2024-02-27T12:38:15.810913Z"
    },
    "hidden": true,
    "id": "dDxdi7eE1e1W"
   },
   "outputs": [
    {
     "name": "stdout",
     "output_type": "stream",
     "text": [
      "[34, 67, 89]\n"
     ]
    }
   ],
   "source": [
    "num1 = [23,45,67,78,89,34]\n",
    "num2 = [34,89,55,56,39,67]\n",
    "\n",
    "num3 = [x for x in num1 if x in num2]\n",
    "\n",
    "\n",
    "print(sorted(num3))"
   ]
  },
  {
   "cell_type": "markdown",
   "metadata": {
    "id": "i3Izok2i1gRD"
   },
   "source": [
    "### `Problem 7:` Sort a list of alphanumeric strings based on product value of numeric character in it. If in any string there is no numeric character take it's product value as 1.\n",
    "\n",
    "`Input:`\n",
    "```\n",
    "['1ac21', '23fg', '456', '098d','1','kls']\n",
    "```\n",
    "\n",
    "`Output:`\n",
    "```\n",
    "['456', '23fg', '1ac21', '1', 'kls', '098d']\n",
    "\n",
    "```"
   ]
  },
  {
   "cell_type": "markdown",
   "metadata": {
    "heading_collapsed": true
   },
   "source": [
    "### Solution"
   ]
  },
  {
   "cell_type": "code",
   "execution_count": 99,
   "metadata": {
    "ExecuteTime": {
     "end_time": "2024-02-26T21:43:27.222262Z",
     "start_time": "2024-02-26T21:43:27.196811Z"
    },
    "hidden": true,
    "id": "eiXSanG11oq6"
   },
   "outputs": [
    {
     "name": "stdout",
     "output_type": "stream",
     "text": [
      "['456', '23fg', '1ac21', '1', 'kls', '098d']\n"
     ]
    }
   ],
   "source": [
    "list1 = ['1ac21', '23fg', '456', '098d','1','kls']\n",
    "\n",
    "dict1 = {}\n",
    "\n",
    "for i in list1:\n",
    "    total = 1\n",
    "    for j in i:\n",
    "        if j.isnumeric():\n",
    "            total = total * int(j)\n",
    "    dict1[i] = total\n",
    "\n",
    "dict2 = sorted(dict1.items(),key = lambda item : item[1],reverse=True) \n",
    "\n",
    "\n",
    "print([x[0] for x in dict2])\n",
    "            "
   ]
  },
  {
   "cell_type": "markdown",
   "metadata": {
    "id": "McMaNSpB1zJB"
   },
   "source": [
    "### `Problem 8:` Split String of list on K character.\n",
    "\n",
    "**Example :**\n",
    "\n",
    "Input:\n",
    "```bash\n",
    "['CampusX is a channel', 'for data-science', 'aspirants.']\n",
    "```\n",
    "\n",
    "Output:\n",
    "```bash\n",
    "['CampusX', 'is', 'a', 'channel', 'for', 'data-science', 'aspirants.']\n",
    "```"
   ]
  },
  {
   "cell_type": "markdown",
   "metadata": {
    "heading_collapsed": true
   },
   "source": [
    "### Solution"
   ]
  },
  {
   "cell_type": "code",
   "execution_count": 113,
   "metadata": {
    "ExecuteTime": {
     "end_time": "2024-02-26T21:58:45.762163Z",
     "start_time": "2024-02-26T21:58:45.737874Z"
    },
    "hidden": true
   },
   "outputs": [
    {
     "name": "stdout",
     "output_type": "stream",
     "text": [
      "[1, 2, 3, 6, 7]\n"
     ]
    }
   ],
   "source": [
    "list2 = [[1,2,3],[6,7]]\n",
    "\n",
    "print([ y for x in list2 for y in x])"
   ]
  },
  {
   "cell_type": "code",
   "execution_count": 115,
   "metadata": {
    "ExecuteTime": {
     "end_time": "2024-02-26T21:59:17.686565Z",
     "start_time": "2024-02-26T21:59:17.670304Z"
    },
    "hidden": true,
    "id": "rLg6AUhf14wI"
   },
   "outputs": [
    {
     "name": "stdout",
     "output_type": "stream",
     "text": [
      "['CampusX', 'is', 'a', 'channel', 'for', 'data-science', 'aspirants.']\n"
     ]
    }
   ],
   "source": [
    "user_input = ['CampusX is a channel', 'for data-science', 'aspirants.']\n",
    "list1 = []\n",
    "print([y for x in user_input for y in x.split(' ')])"
   ]
  },
  {
   "cell_type": "markdown",
   "metadata": {
    "id": "ebqIC0Xa16dG"
   },
   "source": [
    "### `Problem 9:` Convert Character Matrix to single String using string comprehension.\n",
    "\n",
    "**Example 1:**\n",
    "\n",
    "Input:\n",
    "```bash\n",
    "[['c', 'a', 'm', 'p', 'u', 'x'], ['i', 's'], ['b', 'e', 's', 't'], ['c', 'h', 'a', 'n', 'n', 'e', 'l']]\n",
    "```\n",
    "\n",
    "Output:\n",
    "```bash\n",
    "campux is best channel\n",
    "```"
   ]
  },
  {
   "cell_type": "markdown",
   "metadata": {
    "heading_collapsed": true
   },
   "source": [
    "### Solution"
   ]
  },
  {
   "cell_type": "code",
   "execution_count": 175,
   "metadata": {
    "ExecuteTime": {
     "end_time": "2024-02-26T22:19:48.184445Z",
     "start_time": "2024-02-26T22:19:48.176527Z"
    },
    "hidden": true,
    "id": "KLKxzyZf2BLr"
   },
   "outputs": [
    {
     "name": "stdout",
     "output_type": "stream",
     "text": [
      "campux is best channel\n"
     ]
    }
   ],
   "source": [
    "list1 = [['c', 'a', 'm', 'p', 'u', 'x'], ['i', 's'], ['b', 'e', 's', 't'], ['c', 'h', 'a', 'n', 'n', 'e', 'l']]\n",
    "\n",
    "list2 = [''.join(x) for x in list1]\n",
    "\n",
    "\n",
    "print(' '.join(list2))"
   ]
  },
  {
   "cell_type": "markdown",
   "metadata": {
    "id": "0v1Z3Snp2DAm"
   },
   "source": [
    "### `Problem 10:` Add Space between Potential Words.\n",
    "\n",
    "**Example:**\n",
    "\n",
    "Input:\n",
    "\n",
    "```bash\n",
    "['campusxIs', 'bestFor', 'dataScientist']\n",
    "```\n",
    "\n",
    "Output:\n",
    "```bash\n",
    "['campusx Is', 'best For', 'data Scientist']\n",
    "```"
   ]
  },
  {
   "cell_type": "markdown",
   "metadata": {
    "heading_collapsed": true
   },
   "source": [
    "### Solution"
   ]
  },
  {
   "cell_type": "code",
   "execution_count": 2,
   "metadata": {
    "ExecuteTime": {
     "end_time": "2024-02-27T09:05:53.496160Z",
     "start_time": "2024-02-27T09:05:53.489123Z"
    },
    "hidden": true,
    "id": "pltvqSXa2IxP"
   },
   "outputs": [
    {
     "name": "stdout",
     "output_type": "stream",
     "text": [
      "['campusx Is', 'best For', 'data Scientist']\n"
     ]
    }
   ],
   "source": [
    "user_input = ['campusxIs', 'bestFor', 'dataScientist']\n",
    "\n",
    "list1 = []\n",
    "for words in user_input:\n",
    "    for i,j in enumerate(words):\n",
    "        if j == j.capitalize():\n",
    "            list1.extend([[words[:i],words[i:]]])\n",
    "\n",
    "print([' '.join(x) for x in list1])"
   ]
  },
  {
   "cell_type": "markdown",
   "metadata": {
    "id": "tnmBk1M52KXW"
   },
   "source": [
    "## `Problem 11:` Write a program that can perform union operation on 2 lists\n",
    "\n",
    "**Example:**\n",
    "\n",
    "Input:\n",
    "\n",
    "```bash\n",
    "[1,2,3,4,5,1]\n",
    "[2,3,5,7,8]\n",
    "```\n",
    "\n",
    "Output:\n",
    "```bash\n",
    "[1,2,3,4,5,7,8]\n",
    "```"
   ]
  },
  {
   "cell_type": "markdown",
   "metadata": {
    "heading_collapsed": true
   },
   "source": [
    "### Solution"
   ]
  },
  {
   "cell_type": "code",
   "execution_count": 185,
   "metadata": {
    "ExecuteTime": {
     "end_time": "2024-02-26T22:25:48.289749Z",
     "start_time": "2024-02-26T22:25:48.280056Z"
    },
    "hidden": true,
    "id": "u0AgIToU2-Ht"
   },
   "outputs": [
    {
     "name": "stdout",
     "output_type": "stream",
     "text": [
      "[1, 2, 3, 4, 5, 7, 8]\n"
     ]
    }
   ],
   "source": [
    "num1 = [1,2,3,4,5,1]\n",
    "num2 = [2,3,5,7,8]\n",
    "\n",
    "num3 = num1 + num2\n",
    "print(list(set(num3)))"
   ]
  },
  {
   "cell_type": "markdown",
   "metadata": {
    "id": "Yt8x67Ch3Ow1"
   },
   "source": [
    "## `Problem 12:` Write a program that can find the max number of each row of a matrix\n",
    "\n",
    "**Example:**\n",
    "\n",
    "Input:\n",
    "\n",
    "```bash\n",
    "[[1,2,3],[4,5,6],[7,8,9]]\n",
    "```\n",
    "\n",
    "Output:\n",
    "```bash\n",
    "[3,6,9]\n",
    "```"
   ]
  },
  {
   "cell_type": "markdown",
   "metadata": {
    "heading_collapsed": true
   },
   "source": [
    "### Solution"
   ]
  },
  {
   "cell_type": "code",
   "execution_count": 186,
   "metadata": {
    "ExecuteTime": {
     "end_time": "2024-02-26T22:26:48.439461Z",
     "start_time": "2024-02-26T22:26:48.415942Z"
    },
    "hidden": true,
    "id": "7QopAaAI3noh"
   },
   "outputs": [
    {
     "name": "stdout",
     "output_type": "stream",
     "text": [
      "[3, 6, 9]\n"
     ]
    }
   ],
   "source": [
    "num1 = [[1,2,3],[4,5,6],[7,8,9]]\n",
    "\n",
    "\n",
    "\n",
    "print([max(x) for x in num1])"
   ]
  },
  {
   "cell_type": "markdown",
   "metadata": {
    "id": "DBZlUmnt3pGT"
   },
   "source": [
    "## `Problem 13:` Write a list comprehension to print the following matrix\n",
    "\n",
    "[[0, 1, 2], [3, 4, 5], [6, 7, 8]]"
   ]
  },
  {
   "cell_type": "markdown",
   "metadata": {
    "heading_collapsed": true
   },
   "source": [
    "### <span class=\"girk\">Solution</span>"
   ]
  },
  {
   "cell_type": "code",
   "execution_count": 56,
   "metadata": {
    "ExecuteTime": {
     "end_time": "2024-02-27T11:50:56.031766Z",
     "start_time": "2024-02-27T11:50:56.017066Z"
    },
    "hidden": true
   },
   "outputs": [
    {
     "data": {
      "text/plain": [
       "[[0, 1, 2], [3, 4, 5], [6, 7, 8]]"
      ]
     },
     "execution_count": 56,
     "metadata": {},
     "output_type": "execute_result"
    }
   ],
   "source": [
    "[[x+(3*j) for x in range(3)] for j in range(3)]"
   ]
  },
  {
   "cell_type": "markdown",
   "metadata": {
    "id": "j3vTuFC737kG"
   },
   "source": [
    "## `Problem 14:` Write a list comprehension that can transpose a given matrix\n",
    "\n",
    "matrix = [<br>\n",
    "  [1,2,3],<br>\n",
    "          [4,5,6],<br>\n",
    "          [7,8,9]<br>]<br>\n",
    "\n",
    "[1, 4, 7]<br>\n",
    "[2, 5, 8]<br>\n",
    "[3, 6, 9]<br>"
   ]
  },
  {
   "cell_type": "markdown",
   "metadata": {
    "heading_collapsed": true
   },
   "source": [
    "### <span class=\"girk\">Solution</span>"
   ]
  },
  {
   "cell_type": "code",
   "execution_count": 59,
   "metadata": {
    "ExecuteTime": {
     "end_time": "2024-02-27T12:30:17.015124Z",
     "start_time": "2024-02-27T12:30:16.999432Z"
    },
    "hidden": true
   },
   "outputs": [
    {
     "data": {
      "text/plain": [
       "[[1, 2, 3], [4, 5, 6], [7, 8, 9]]"
      ]
     },
     "execution_count": 59,
     "metadata": {},
     "output_type": "execute_result"
    }
   ],
   "source": [
    "matrix = [[1,2,3],[4,5,6],[7,8,9]]\n",
    "matrix"
   ]
  },
  {
   "cell_type": "code",
   "execution_count": 74,
   "metadata": {
    "ExecuteTime": {
     "end_time": "2024-02-27T12:35:49.308708Z",
     "start_time": "2024-02-27T12:35:49.291579Z"
    },
    "hidden": true
   },
   "outputs": [
    {
     "data": {
      "text/plain": [
       "[[1, 4, 7], [2, 5, 8], [3, 6, 9]]"
      ]
     },
     "execution_count": 74,
     "metadata": {},
     "output_type": "execute_result"
    }
   ],
   "source": [
    "new_matrix = [[x[y] for x in matrix] for y in range(3)]\n",
    "new_matrix\n"
   ]
  },
  {
   "cell_type": "code",
   "execution_count": 77,
   "metadata": {
    "ExecuteTime": {
     "end_time": "2024-02-27T12:36:11.671549Z",
     "start_time": "2024-02-27T12:36:11.663916Z"
    },
    "hidden": true
   },
   "outputs": [
    {
     "name": "stdout",
     "output_type": "stream",
     "text": [
      "[1, 4, 7]\n",
      "[2, 5, 8]\n",
      "[3, 6, 9]\n"
     ]
    },
    {
     "data": {
      "text/plain": [
       "[None, None, None]"
      ]
     },
     "execution_count": 77,
     "metadata": {},
     "output_type": "execute_result"
    }
   ],
   "source": [
    "[print(x) for x in new_matrix]"
   ]
  },
  {
   "cell_type": "markdown",
   "metadata": {
    "id": "wRkSWFb74eOt"
   },
   "source": [
    "## `Problem 15:` Write a list comprehension that can flatten a nested list\n",
    "\n",
    "Input<br>\n",
    "matrix = [<br>\n",
    "  [1,2,3],<br>\n",
    "          [4,5,6],<br>\n",
    "          [7,8,9]<br>]<br>\n",
    "\n",
    "Output:<br>\n",
    "[1, 2, 3, 4, 5, 6, 7, 8, 9]"
   ]
  },
  {
   "cell_type": "markdown",
   "metadata": {
    "heading_collapsed": true
   },
   "source": [
    "### Solution"
   ]
  },
  {
   "cell_type": "code",
   "execution_count": 190,
   "metadata": {
    "ExecuteTime": {
     "end_time": "2024-02-26T22:32:33.122585Z",
     "start_time": "2024-02-26T22:32:33.112371Z"
    },
    "hidden": true,
    "id": "jZGQ5el25HFr"
   },
   "outputs": [
    {
     "data": {
      "text/plain": [
       "[1, 2, 3, 4, 5, 6, 7, 8, 9]"
      ]
     },
     "execution_count": 190,
     "metadata": {},
     "output_type": "execute_result"
    }
   ],
   "source": [
    "list1= [\n",
    "[1,2,3],\n",
    "[4,5,6],\n",
    "[7,8,9]\n",
    "]\n",
    "\n",
    "[ y for x in list1 for y in x]"
   ]
  },
  {
   "cell_type": "code",
   "execution_count": null,
   "metadata": {
    "hidden": true
   },
   "outputs": [],
   "source": []
  }
 ],
 "metadata": {
  "colab": {
   "provenance": []
  },
  "kernelspec": {
   "display_name": "Python 3 (ipykernel)",
   "language": "python",
   "name": "python3"
  },
  "language_info": {
   "codemirror_mode": {
    "name": "ipython",
    "version": 3
   },
   "file_extension": ".py",
   "mimetype": "text/x-python",
   "name": "python",
   "nbconvert_exporter": "python",
   "pygments_lexer": "ipython3",
   "version": "3.9.13"
  }
 },
 "nbformat": 4,
 "nbformat_minor": 1
}

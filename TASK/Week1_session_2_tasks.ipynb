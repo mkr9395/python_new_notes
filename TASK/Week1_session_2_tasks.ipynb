{
 "cells": [
  {
   "cell_type": "markdown",
   "metadata": {
    "id": "w6RlOAXV2PWh"
   },
   "source": [
    "### `Problem 1`: Write a program that will give you in hand monthly salary after deduction on CTC - HRA(10%), DA(5%), PF(3%) and taxes deduction as below:\n",
    "\n",
    "> Salary(Lakhs) : Tax(%)\n",
    "\n",
    "*   Below 5 : 0%\n",
    "*   5-10 : 10%\n",
    "*   10-20 : 20%\n",
    "*   aboove 20 : 30%"
   ]
  },
  {
   "cell_type": "markdown",
   "metadata": {
    "heading_collapsed": true
   },
   "source": [
    "### Solution"
   ]
  },
  {
   "cell_type": "code",
   "execution_count": 18,
   "metadata": {
    "ExecuteTime": {
     "end_time": "2024-02-15T21:32:08.207590Z",
     "start_time": "2024-02-15T21:32:03.199156Z"
    },
    "hidden": true,
    "id": "7tMHvKYO2etI"
   },
   "outputs": [
    {
     "name": "stdout",
     "output_type": "stream",
     "text": [
      "Enter your annual CTC 1200000\n",
      "your monthly in-hand salary =  62000.0\n"
     ]
    }
   ],
   "source": [
    "salary = float(input('Enter your annual CTC '))\n",
    "\n",
    "if salary < 500000 :\n",
    "    inhand_salary = salary - (salary * 0.1) - (salary * 0.05) - (salary*0.03)\n",
    "    print(\"your monthly in-hand salary = \",inhand_salary/12)\n",
    "    \n",
    "elif (salary>=500000 and salary < 1000000):\n",
    "    inhand_salary = salary - (salary * 0.1) - (salary * 0.1) - (salary * 0.05) - (salary*0.03)\n",
    "    print(\"your monthly in-hand salary = \",inhand_salary/12)\n",
    "    \n",
    "elif (salary>=1000000 and salary < 2000000):\n",
    "    inhand_salary = salary - (salary * 0.2) - (salary * 0.1) - (salary * 0.05) - (salary*0.03)\n",
    "    print(\"your monthly in-hand salary = \",inhand_salary/12)\n",
    "    \n",
    "else:\n",
    "    inhand_salary = salary - (salary * 0.3) - (salary * 0.1) - (salary * 0.05) - (salary*0.03)\n",
    "    print(\"your monthly in-hand salary = \",inhand_salary/12)"
   ]
  },
  {
   "cell_type": "markdown",
   "metadata": {
    "id": "tYzCGqwl2hfN"
   },
   "source": [
    "### `Problem 2`: Write a program that take a user input of three angles and will find out whether it can form a triangle or not."
   ]
  },
  {
   "cell_type": "markdown",
   "metadata": {
    "heading_collapsed": true
   },
   "source": [
    "### Solution"
   ]
  },
  {
   "cell_type": "code",
   "execution_count": 6,
   "metadata": {
    "ExecuteTime": {
     "end_time": "2024-02-16T18:38:08.399446Z",
     "start_time": "2024-02-16T18:37:54.472873Z"
    },
    "hidden": true
   },
   "outputs": [
    {
     "name": "stdout",
     "output_type": "stream",
     "text": [
      "Input the first angle 79.1\n",
      "Input the second angle 80.9\n",
      "Input the third angle 20\n",
      "Triangle can be formed \n"
     ]
    }
   ],
   "source": [
    "angle1 = float(input(\"Input the first angle \"))\n",
    "angle2 = float(input(\"Input the second angle \"))\n",
    "angle3 = float(input(\"Input the third angle \"))\n",
    "\n",
    "total = angle1+angle2+angle3\n",
    "\n",
    "if total == 180:\n",
    "    print(\"Triangle can be formed \")\n",
    "else:\n",
    "    print(\"Triangle cannot be formed\")"
   ]
  },
  {
   "cell_type": "markdown",
   "metadata": {
    "id": "5vEpPh8C2pE4"
   },
   "source": [
    "### `Problem 3`: Write a program that will take user input of cost price and selling price and determines whether its a loss or a profit."
   ]
  },
  {
   "cell_type": "markdown",
   "metadata": {
    "heading_collapsed": true
   },
   "source": [
    "### Solution"
   ]
  },
  {
   "cell_type": "code",
   "execution_count": 13,
   "metadata": {
    "ExecuteTime": {
     "end_time": "2024-02-16T18:46:18.570217Z",
     "start_time": "2024-02-16T18:46:15.095572Z"
    },
    "hidden": true
   },
   "outputs": [
    {
     "name": "stdout",
     "output_type": "stream",
     "text": [
      "Enter the cost price of the product 70\n",
      "Enter the selling price of the product 35\n",
      "You have sold the product at loss of Rs 35.0 which is loss of 50.0%\n"
     ]
    }
   ],
   "source": [
    "cp = float(input(\"Enter the cost price of the product \"))\n",
    "sp = float(input(\"Enter the selling price of the product \"))\n",
    "\n",
    "if cp>sp:\n",
    "    print(f\"You have sold the product at loss of Rs {abs(sp-cp)} which is loss of {abs((cp-sp)/cp)*100}%\")\n",
    "elif cp==sp:\n",
    "    print(\"You have not be any profit or loss\")\n",
    "else:\n",
    "    print(f\"You have made a profit of {sp - cp} which is which is loss of {((sp-cp)/cp)*100}%\")"
   ]
  },
  {
   "cell_type": "markdown",
   "metadata": {
    "heading_collapsed": true,
    "id": "J_FG_cJW2ugT"
   },
   "source": [
    "### `Problem 4`: Write a menu-driven program -\n",
    "1. cm to ft\n",
    "2. km to miles\n",
    "3. USD to INR\n",
    "4. exit"
   ]
  },
  {
   "cell_type": "markdown",
   "metadata": {
    "heading_collapsed": true
   },
   "source": [
    "### Solution"
   ]
  },
  {
   "cell_type": "code",
   "execution_count": 3,
   "metadata": {
    "ExecuteTime": {
     "end_time": "2024-02-17T15:54:51.132947Z",
     "start_time": "2024-02-17T15:54:51.125947Z"
    },
    "hidden": true
   },
   "outputs": [],
   "source": [
    "import sys"
   ]
  },
  {
   "cell_type": "code",
   "execution_count": 40,
   "metadata": {
    "ExecuteTime": {
     "end_time": "2024-02-17T16:02:36.072988Z",
     "start_time": "2024-02-17T16:02:36.056186Z"
    },
    "hidden": true
   },
   "outputs": [],
   "source": [
    "class Conversion:\n",
    "    \n",
    "    def __init__(self,x):\n",
    "        self.x = x\n",
    "        self.menu()\n",
    "    \n",
    "    \n",
    "    def menu(self):\n",
    "        user_input = input(\"\"\"\n",
    "        1. Press 1 to convert cm to ft.\n",
    "        2. Press 2 to convert km to miles\n",
    "        3. Press 3 to convert USD to INR\n",
    "        4. Press any other key to exit\n",
    "        \n",
    "        \"\"\")\n",
    "        print()\n",
    "        if user_input == '1':\n",
    "            print()\n",
    "            self.cm_to_fit()\n",
    "            \n",
    "        elif user_input == '2':\n",
    "            print()\n",
    "            self.km_to_miles()\n",
    "         \n",
    "        elif user_input == '3':\n",
    "            print()\n",
    "            self.usd_inr()\n",
    "            \n",
    "        else:\n",
    "            print(\"you exited\")\n",
    "            sys.exit\n",
    "        \n",
    "    \n",
    "    def cm_to_fit(self):\n",
    "        y = (self.x) * 0.032\n",
    "        print(f\"the {self.x} cm equals to  {y} feet\")\n",
    "        \n",
    "    \n",
    "    def km_to_miles(self):\n",
    "        y = self.x*0.621\n",
    "        print(f\"the {self.x} km equals to {y} miles\")\n",
    "    \n",
    "    def usd_inr(self):\n",
    "        y = self.x*82.99\n",
    "        print(f\"the {self.x} USD equals to {y} INR\")"
   ]
  },
  {
   "cell_type": "code",
   "execution_count": 41,
   "metadata": {
    "ExecuteTime": {
     "end_time": "2024-02-17T16:02:39.675366Z",
     "start_time": "2024-02-17T16:02:36.360128Z"
    },
    "hidden": true
   },
   "outputs": [
    {
     "name": "stdout",
     "output_type": "stream",
     "text": [
      "\n",
      "        1. Press 1 to convert cm to ft.\n",
      "        2. Press 2 to convert km to miles\n",
      "        3. Press 3 to convert USD to INR\n",
      "        4. Press any other key to exit\n",
      "        \n",
      "        3\n",
      "\n",
      "\n",
      "the 100 USD equals to 8299.0 INR\n"
     ]
    }
   ],
   "source": [
    "obj = Conversion(100)"
   ]
  },
  {
   "cell_type": "markdown",
   "metadata": {
    "id": "LJJ30_Yw27ZU"
   },
   "source": [
    "### `Problem 5` - Exercise 12: Display Fibonacci series up to 10 terms.\n",
    "\n",
    "*Note: The Fibonacci Sequence is a series of numbers. The next number is found by adding up the two numbers before it. The first two numbers are 0 and 1. For example, 0, 1, 1, 2, 3, 5, 8, 13, 21. The next number in this series above is 13+21 = 34*"
   ]
  },
  {
   "cell_type": "markdown",
   "metadata": {
    "heading_collapsed": true
   },
   "source": [
    "### Solution"
   ]
  },
  {
   "cell_type": "code",
   "execution_count": 48,
   "metadata": {
    "ExecuteTime": {
     "end_time": "2024-02-17T17:07:22.562527Z",
     "start_time": "2024-02-17T17:07:20.901750Z"
    },
    "hidden": true,
    "id": "ae_1rpe52-5R"
   },
   "outputs": [
    {
     "name": "stdout",
     "output_type": "stream",
     "text": [
      "Enter tha first number 0\n",
      "Enter the second number 1\n",
      "[0, 1, 1, 2, 3, 5, 8, 13, 21, 34]\n"
     ]
    }
   ],
   "source": [
    "number1 = int(input(\"Enter tha first number \"))\n",
    "number2 = int(input(\"Enter the second number \"))\n",
    "\n",
    "list1 = [number1,number2]\n",
    "\n",
    "for i in range(2,10):\n",
    "    list1.append(sum(list1[-1:-3:-1]))\n",
    "\n",
    "print(list1)\n",
    "    "
   ]
  },
  {
   "cell_type": "markdown",
   "metadata": {
    "id": "pk_I_S4m3PT5"
   },
   "source": [
    "### `Problem 6` - Find the factorial of a given number.\n",
    "\n",
    "Write a program to use the loop to find the factorial of a given number.\n",
    "\n",
    "The factorial (symbol: `!`) means to multiply all whole numbers from the chosen number down to 1.\n",
    "\n",
    "For example: calculate the factorial of 5\n",
    "\n",
    "```bash\n",
    "5! = 5 × 4 × 3 × 2 × 1 = 120\n",
    "```\n",
    "\n",
    "Output:\n",
    "\n",
    "```bash\n",
    "120\n",
    "```"
   ]
  },
  {
   "cell_type": "markdown",
   "metadata": {
    "heading_collapsed": true
   },
   "source": [
    "### Solution"
   ]
  },
  {
   "cell_type": "code",
   "execution_count": 49,
   "metadata": {
    "ExecuteTime": {
     "end_time": "2024-02-17T17:28:32.904688Z",
     "start_time": "2024-02-17T17:28:30.837642Z"
    },
    "hidden": true
   },
   "outputs": [
    {
     "name": "stdout",
     "output_type": "stream",
     "text": [
      "Enter the number you want factorial of 5\n",
      "factorial of 5 is 120\n"
     ]
    }
   ],
   "source": [
    "num = int(input(\"Enter the number you want factorial of \"))\n",
    "\n",
    "count = 1\n",
    "for i in range(1,num+1):\n",
    "    count=count*i\n",
    "    \n",
    "print(f\"Factorial of {num} is {count}\")"
   ]
  },
  {
   "cell_type": "markdown",
   "metadata": {
    "id": "-17IOi-g3UpU"
   },
   "source": [
    "### `Problem 7` - Reverse a given integer number.\n",
    "\n",
    "Example:\n",
    "\n",
    "`Input:`\n",
    "\n",
    "```bash\n",
    "76542\n",
    "```\n",
    "\n",
    "`Output:`\n",
    "\n",
    "```bash\n",
    "24567\n",
    "```"
   ]
  },
  {
   "cell_type": "markdown",
   "metadata": {
    "heading_collapsed": true
   },
   "source": [
    "### Solution"
   ]
  },
  {
   "cell_type": "code",
   "execution_count": 74,
   "metadata": {
    "ExecuteTime": {
     "end_time": "2024-02-17T17:43:38.555979Z",
     "start_time": "2024-02-17T17:43:36.244928Z"
    },
    "hidden": true
   },
   "outputs": [
    {
     "name": "stdout",
     "output_type": "stream",
     "text": [
      "Enter the number to be reversed : 54321\n",
      "\n",
      "the reverse of 54321 is 12345\n"
     ]
    }
   ],
   "source": [
    "number = input('Enter the number to be reversed : ')\n",
    "number_list = list(number)[-1::-1]\n",
    "print()\n",
    "print(f\"the reverse of {number} is {int(''.join(number_list))}\")"
   ]
  },
  {
   "cell_type": "markdown",
   "metadata": {
    "id": "-t8PJQaY3sHf"
   },
   "source": [
    "### `Problem 8`: Take a user input as integer N. Find out the sum from 1 to N. If any number if divisible by 5, then skip that number. And if the sum is greater than 300, don't need to calculate the sum further more. Print the final result. And don't use for loop to solve this problem.\n",
    "\n",
    "**Example 1:**\n",
    "\n",
    "`Input:`\n",
    "\n",
    "```bash\n",
    "30\n",
    "```\n",
    "\n",
    "`Output:`\n",
    "\n",
    "```bash\n",
    "276\n",
    "```"
   ]
  },
  {
   "cell_type": "markdown",
   "metadata": {
    "heading_collapsed": true
   },
   "source": [
    "### Solution"
   ]
  },
  {
   "cell_type": "code",
   "execution_count": 38,
   "metadata": {
    "ExecuteTime": {
     "end_time": "2024-02-18T18:09:43.360936Z",
     "start_time": "2024-02-18T18:09:42.229575Z"
    },
    "hidden": true
   },
   "outputs": [
    {
     "name": "stdout",
     "output_type": "stream",
     "text": [
      "Enter the number : 28\n",
      "[1, 2, 3, 4, 6, 7, 8, 9, 11, 12, 13, 14, 16, 17, 18, 19, 21, 22, 23, 24, 26]\n",
      "sum of 1 to 28 is 276\n"
     ]
    }
   ],
   "source": [
    "user_input = int(input(\"Enter the number : \"))\n",
    "\n",
    "list1 = []\n",
    "x = 1\n",
    "total = 0\n",
    "\n",
    "while x < (user_input+1):\n",
    "    if x %5 == 0:\n",
    "        x = x+1\n",
    "        continue\n",
    "    \n",
    "    if total > 300:\n",
    "        break\n",
    "    \n",
    "    total = total + x\n",
    "    \n",
    "    if total <300:         \n",
    "        list1.append(x)\n",
    "        \n",
    "    x = x + 1\n",
    "    \n",
    "\n",
    "print(list1)\n",
    "print(f\"sum of 1 to {user_input} is {sum(list1)}\")"
   ]
  },
  {
   "cell_type": "markdown",
   "metadata": {
    "heading_collapsed": true,
    "id": "Q7ggImeA3xm4"
   },
   "source": [
    "### `Problem 9`: Write a program that keeps on accepting a number from the user until the user enters Zero. Display the sum and average of all the numbers."
   ]
  },
  {
   "cell_type": "markdown",
   "metadata": {
    "heading_collapsed": true
   },
   "source": [
    "### Solution"
   ]
  },
  {
   "cell_type": "code",
   "execution_count": 78,
   "metadata": {
    "ExecuteTime": {
     "end_time": "2024-02-17T17:55:30.812380Z",
     "start_time": "2024-02-17T17:55:30.802953Z"
    },
    "hidden": true
   },
   "outputs": [],
   "source": [
    "import sys"
   ]
  },
  {
   "cell_type": "code",
   "execution_count": 135,
   "metadata": {
    "ExecuteTime": {
     "end_time": "2024-02-17T18:27:27.660454Z",
     "start_time": "2024-02-17T18:27:27.648237Z"
    },
    "hidden": true
   },
   "outputs": [],
   "source": [
    "class Number:\n",
    "    \n",
    "    list1 = []\n",
    "    \n",
    "    def __init__(self):\n",
    "        self.menu()\n",
    "        \n",
    "    def menu(self):\n",
    "        user_input = input(\"\"\"\n",
    "        Enter the number\n",
    "        Press 0 to exit\n",
    "        \"\"\")\n",
    "        \n",
    "        \n",
    "        if user_input == '0':\n",
    "            print('\\nTotal sum of all the numbers is : ',sum(self.list1))\n",
    "            print('Average of all the numbers is : ', sum(self.list1)/(len(self.list1)))\n",
    "            sys.exit\n",
    "    \n",
    "        else:\n",
    "            self.list1.append(int(user_input))\n",
    "            self.menu()\n",
    "            \n",
    "        \n",
    "        "
   ]
  },
  {
   "cell_type": "code",
   "execution_count": 136,
   "metadata": {
    "ExecuteTime": {
     "end_time": "2024-02-17T18:27:32.168996Z",
     "start_time": "2024-02-17T18:27:28.254858Z"
    },
    "hidden": true
   },
   "outputs": [
    {
     "name": "stdout",
     "output_type": "stream",
     "text": [
      "\n",
      "        Enter the number\n",
      "        Press 0 to exit\n",
      "        2\n",
      "\n",
      "        Enter the number\n",
      "        Press 0 to exit\n",
      "        3\n",
      "\n",
      "        Enter the number\n",
      "        Press 0 to exit\n",
      "        0\n",
      "\n",
      " Total sum of all the numbers is :  5\n",
      "Average of all the numbers is :  2.5\n"
     ]
    },
    {
     "data": {
      "text/plain": [
       "<__main__.Number at 0x26141906e50>"
      ]
     },
     "execution_count": 136,
     "metadata": {},
     "output_type": "execute_result"
    }
   ],
   "source": [
    "Number()"
   ]
  },
  {
   "cell_type": "code",
   "execution_count": null,
   "metadata": {
    "hidden": true,
    "id": "t_YDSZDe4Kdo"
   },
   "outputs": [],
   "source": [
    "# Write code here"
   ]
  },
  {
   "cell_type": "markdown",
   "metadata": {
    "heading_collapsed": true,
    "id": "6EhvEMvm4R7s"
   },
   "source": [
    "### `Problem 9`: Write a program which will find all such numbers which are divisible by 7 but are not a multiple of 5, between 2000 and 3200 (both included). The numbers obtained should be printed in a comma-separated sequence on a single line."
   ]
  },
  {
   "cell_type": "markdown",
   "metadata": {
    "heading_collapsed": true
   },
   "source": [
    "### Solution"
   ]
  },
  {
   "cell_type": "code",
   "execution_count": 137,
   "metadata": {
    "ExecuteTime": {
     "end_time": "2024-02-17T18:47:47.699981Z",
     "start_time": "2024-02-17T18:47:47.694511Z"
    },
    "hidden": true,
    "id": "d6RgP1B34T6c"
   },
   "outputs": [
    {
     "name": "stdout",
     "output_type": "stream",
     "text": [
      "2002,2009,2016,2023,2037,2044,2051,2058,2072,2079,2086,2093,2107,2114,2121,2128,2142,2149,2156,2163,2177,2184,2191,2198,2212,2219,2226,2233,2247,2254,2261,2268,2282,2289,2296,2303,2317,2324,2331,2338,2352,2359,2366,2373,2387,2394,2401,2408,2422,2429,2436,2443,2457,2464,2471,2478,2492,2499,2506,2513,2527,2534,2541,2548,2562,2569,2576,2583,2597,2604,2611,2618,2632,2639,2646,2653,2667,2674,2681,2688,2702,2709,2716,2723,2737,2744,2751,2758,2772,2779,2786,2793,2807,2814,2821,2828,2842,2849,2856,2863,2877,2884,2891,2898,2912,2919,2926,2933,2947,2954,2961,2968,2982,2989,2996,3003,3017,3024,3031,3038,3052,3059,3066,3073,3087,3094,3101,3108,3122,3129,3136,3143,3157,3164,3171,3178,3192,3199,"
     ]
    }
   ],
   "source": [
    "for i in range(2000,3201):\n",
    "    if (i % 7 == 0) and (i %5!=0):\n",
    "        print(i,end=',')\n",
    "    else:\n",
    "        continue"
   ]
  },
  {
   "cell_type": "markdown",
   "metadata": {
    "id": "tYvmRR-G4Vp4"
   },
   "source": [
    "### `Problem 10`: Write a program, which will find all such numbers between 1000 and 3000 (both included) such that each digit of the number is an even number. The numbers obtained should be printed in a space-separated sequence on a single line.\n",
    "\n"
   ]
  },
  {
   "cell_type": "markdown",
   "metadata": {
    "heading_collapsed": true
   },
   "source": [
    "### <span class=\"girk\">Solution</span>"
   ]
  },
  {
   "cell_type": "code",
   "execution_count": 39,
   "metadata": {
    "ExecuteTime": {
     "end_time": "2024-02-18T12:25:44.906742Z",
     "start_time": "2024-02-18T12:25:44.889640Z"
    },
    "hidden": true
   },
   "outputs": [
    {
     "data": {
      "text/plain": [
       "4"
      ]
     },
     "execution_count": 39,
     "metadata": {},
     "output_type": "execute_result"
    }
   ],
   "source": [
    "234%10"
   ]
  },
  {
   "cell_type": "code",
   "execution_count": 48,
   "metadata": {
    "ExecuteTime": {
     "end_time": "2024-02-18T15:48:37.619802Z",
     "start_time": "2024-02-18T15:48:37.612501Z"
    },
    "hidden": true
   },
   "outputs": [
    {
     "data": {
      "text/plain": [
       "23"
      ]
     },
     "execution_count": 48,
     "metadata": {},
     "output_type": "execute_result"
    }
   ],
   "source": [
    "234//10"
   ]
  },
  {
   "cell_type": "code",
   "execution_count": 67,
   "metadata": {
    "ExecuteTime": {
     "end_time": "2024-02-18T16:03:12.753257Z",
     "start_time": "2024-02-18T16:03:12.746630Z"
    },
    "hidden": true
   },
   "outputs": [
    {
     "data": {
      "text/plain": [
       "1"
      ]
     },
     "execution_count": 67,
     "metadata": {},
     "output_type": "execute_result"
    }
   ],
   "source": [
    "10//10"
   ]
  },
  {
   "cell_type": "code",
   "execution_count": 65,
   "metadata": {
    "ExecuteTime": {
     "end_time": "2024-02-18T19:22:10.864497Z",
     "start_time": "2024-02-18T19:22:10.854341Z"
    },
    "hidden": true
   },
   "outputs": [
    {
     "name": "stdout",
     "output_type": "stream",
     "text": [
      "2000,2002,2004,2006,2008,2020,2022,2024,2026,2028,2040,2042,2044,2046,2048,2060,2062,2064,2066,2068,2080,2082,2084,2086,2088,2200,2202,2204,2206,2208,2220,2222,2224,2226,2228,2240,2242,2244,2246,2248,2260,2262,2264,2266,2268,2280,2282,2284,2286,2288,2400,2402,2404,2406,2408,2420,2422,2424,2426,2428,2440,2442,2444,2446,2448,2460,2462,2464,2466,2468,2480,2482,2484,2486,2488,2600,2602,2604,2606,2608,2620,2622,2624,2626,2628,2640,2642,2644,2646,2648,2660,2662,2664,2666,2668,2680,2682,2684,2686,2688,2800,2802,2804,2806,2808,2820,2822,2824,2826,2828,2840,2842,2844,2846,2848,2860,2862,2864,2866,2868,2880,2882,2884,2886,2888,"
     ]
    }
   ],
   "source": [
    "\n",
    "x = 0\n",
    "\n",
    "for i in range(1000,3001):\n",
    "    \n",
    "    num = i\n",
    "    #print(\"current number is \",num,\"\\n\")\n",
    "    \n",
    "    while num!= 0:\n",
    "        x = num%10\n",
    "        #print(\"x is\",x)\n",
    "        \n",
    "        if x%2 == 0:\n",
    "            num = num//10\n",
    "            if num == 0:\n",
    "                print(i,end=',')    \n",
    "        \n",
    "        else:\n",
    "            break\n",
    "            \n",
    "    \n",
    "    "
   ]
  },
  {
   "cell_type": "markdown",
   "metadata": {
    "hidden": true
   },
   "source": [
    "#### Chat gpt solution:"
   ]
  },
  {
   "cell_type": "code",
   "execution_count": 68,
   "metadata": {
    "ExecuteTime": {
     "end_time": "2024-02-18T20:03:34.257446Z",
     "start_time": "2024-02-18T20:03:34.249565Z"
    },
    "hidden": true
   },
   "outputs": [],
   "source": [
    "def all_even(start,end):\n",
    "    \n",
    "    numbers = []\n",
    "    \n",
    "    for i in range(start, end + 1):\n",
    "        num_str = str(i)\n",
    "        if all(int(digit)%2 == 0 for digit in num_str):\n",
    "            numbers.append(num_str)\n",
    "            \n",
    "    return numbers"
   ]
  },
  {
   "cell_type": "code",
   "execution_count": 70,
   "metadata": {
    "ExecuteTime": {
     "end_time": "2024-02-18T20:04:13.029856Z",
     "start_time": "2024-02-18T20:04:13.013106Z"
    },
    "hidden": true,
    "id": "k6Gs1kIf4k19"
   },
   "outputs": [
    {
     "name": "stdout",
     "output_type": "stream",
     "text": [
      "2000,2002,2004,2006,2008,2020,2022,2024,2026,2028,2040,2042,2044,2046,2048,2060,2062,2064,2066,2068,2080,2082,2084,2086,2088,2200,2202,2204,2206,2208,2220,2222,2224,2226,2228,2240,2242,2244,2246,2248,2260,2262,2264,2266,2268,2280,2282,2284,2286,2288,2400,2402,2404,2406,2408,2420,2422,2424,2426,2428,2440,2442,2444,2446,2448,2460,2462,2464,2466,2468,2480,2482,2484,2486,2488,2600,2602,2604,2606,2608,2620,2622,2624,2626,2628,2640,2642,2644,2646,2648,2660,2662,2664,2666,2668,2680,2682,2684,2686,2688,2800,2802,2804,2806,2808,2820,2822,2824,2826,2828,2840,2842,2844,2846,2848,2860,2862,2864,2866,2868,2880,2882,2884,2886,2888\n"
     ]
    }
   ],
   "source": [
    "result = all_even(1000,3000)\n",
    "print(\",\".join(result))"
   ]
  },
  {
   "cell_type": "markdown",
   "metadata": {
    "id": "GV18IINT4mf5"
   },
   "source": [
    "### `Problem 11`: A robot moves in a plane starting from the original point (0,0). The robot can move toward UP, DOWN, LEFT and RIGHT with a given steps.\n",
    "The trace of robot movement is shown as the following:\n",
    "```\n",
    "UP 5\n",
    "DOWN 3\n",
    "LEFT 3\n",
    "RIGHT 2\n",
    "!\n",
    "```\n",
    "> The numbers after the direction are steps.\n",
    "\n",
    "> `!` means robot stop there.\n",
    "\n",
    "**Please write a program to compute the distance from current position after a sequence of movement and original point.**\n",
    "\n",
    "*If the distance is a float, then just print the nearest integer.*\n",
    "\n",
    "Example:\n",
    "\n",
    "`Input`:\n",
    "```\n",
    "UP 5\n",
    "DOWN 3\n",
    "LEFT 3\n",
    "RIGHT 2\n",
    "!\n",
    "```\n",
    "`Output`:\n",
    "```\n",
    "2\n",
    "```"
   ]
  },
  {
   "cell_type": "markdown",
   "metadata": {},
   "source": [
    "### <span class=\"girk\">Solution</span>"
   ]
  },
  {
   "cell_type": "code",
   "execution_count": 131,
   "metadata": {
    "ExecuteTime": {
     "end_time": "2024-02-18T20:53:53.143693Z",
     "start_time": "2024-02-18T20:53:53.133599Z"
    }
   },
   "outputs": [],
   "source": [
    "import sys\n",
    "import numpy"
   ]
  },
  {
   "cell_type": "code",
   "execution_count": 132,
   "metadata": {
    "ExecuteTime": {
     "end_time": "2024-02-18T20:53:53.486782Z",
     "start_time": "2024-02-18T20:53:53.463030Z"
    }
   },
   "outputs": [],
   "source": [
    "\n",
    "def user_in():\n",
    "    \n",
    "    user_input = input(\"\"\"\n",
    "    Enter the steps : \n",
    "    Press '!' to stop\n",
    "    \"\"\").lower()\n",
    "    \n",
    "    return user_input\n",
    "    \n",
    "        \n",
    "def movement_robot():  \n",
    " \n",
    "    up_down = 0\n",
    "    left_right = 0\n",
    " \n",
    "    while True:\n",
    "        \n",
    "        user = user_in()\n",
    "        \n",
    "        if user == '!':\n",
    "            break\n",
    "        \n",
    "        else:\n",
    "            direction,steps = user.split(' ')\n",
    "            steps = int(steps)\n",
    "        \n",
    "        \n",
    "            if direction == 'up':\n",
    "                up_down = up_down + steps\n",
    "                continue\n",
    "\n",
    "            elif direction == 'down':\n",
    "                up_down = up_down - steps\n",
    "                continue\n",
    "\n",
    "            elif direction == 'left':\n",
    "                left_right = left_right - steps\n",
    "                continue\n",
    "\n",
    "            elif direction == 'right':\n",
    "                left_right = left_right + steps\n",
    "                continue\n",
    "                \n",
    "                \n",
    "        \n",
    "    return (np.round((left_right**2 + up_down**2)**0.5))\n",
    "\n"
   ]
  },
  {
   "cell_type": "code",
   "execution_count": 133,
   "metadata": {
    "ExecuteTime": {
     "end_time": "2024-02-18T20:54:03.282730Z",
     "start_time": "2024-02-18T20:53:55.519105Z"
    },
    "id": "6UNMC2aR4w5x",
    "scrolled": true
   },
   "outputs": [
    {
     "name": "stdout",
     "output_type": "stream",
     "text": [
      "\n",
      "    Enter the steps : \n",
      "    Press '!' to stop\n",
      "    UP 5\n",
      "\n",
      "    Enter the steps : \n",
      "    Press '!' to stop\n",
      "    DOWN 3\n",
      "\n",
      "    Enter the steps : \n",
      "    Press '!' to stop\n",
      "    !\n"
     ]
    },
    {
     "data": {
      "text/plain": [
       "2.0"
      ]
     },
     "execution_count": 133,
     "metadata": {},
     "output_type": "execute_result"
    }
   ],
   "source": [
    "movement_robot()"
   ]
  },
  {
   "cell_type": "markdown",
   "metadata": {},
   "source": [
    "#### chatgpt code:"
   ]
  },
  {
   "cell_type": "code",
   "execution_count": 134,
   "metadata": {
    "ExecuteTime": {
     "end_time": "2024-02-18T21:06:15.453856Z",
     "start_time": "2024-02-18T21:06:03.764038Z"
    }
   },
   "outputs": [
    {
     "name": "stdout",
     "output_type": "stream",
     "text": [
      "Enter the steps (e.g., 'UP 5', 'DOWN 3', 'LEFT 3', 'RIGHT 2'), and press '!' to stop:\n",
      "UP 5\n",
      "DOWN 3\n",
      "!\n",
      "Distance from the original point: 2\n"
     ]
    }
   ],
   "source": [
    "import math\n",
    "\n",
    "def get_movements():\n",
    "    movements = []\n",
    "    print(\"Enter the steps (e.g., 'UP 5', 'DOWN 3', 'LEFT 3', 'RIGHT 2'), and press '!' to stop:\")\n",
    "    while True:\n",
    "        movement = input().strip().upper()\n",
    "        if movement == '!':\n",
    "            break\n",
    "        movements.append(movement)\n",
    "    return movements\n",
    "\n",
    "def calculate_distance(movements):\n",
    "    up_down = 0\n",
    "    left_right = 0\n",
    "    for movement in movements:\n",
    "        direction, steps = movement.split()\n",
    "        steps = int(steps)\n",
    "        if direction == 'UP':\n",
    "            up_down += steps\n",
    "        elif direction == 'DOWN':\n",
    "            up_down -= steps\n",
    "        elif direction == 'LEFT':\n",
    "            left_right -= steps\n",
    "        elif direction == 'RIGHT':\n",
    "            left_right += steps\n",
    "        else:\n",
    "            print(\"Invalid direction:\", direction)\n",
    "    return round(math.hypot(left_right, up_down))\n",
    "\n",
    "movements = get_movements()\n",
    "distance = calculate_distance(movements)\n",
    "print(\"Distance from the original point:\", distance)\n"
   ]
  },
  {
   "cell_type": "markdown",
   "metadata": {
    "id": "3fsAIAhK5GYY"
   },
   "source": [
    "### `Problem 12`:Write a program to print whether a given number is a prime number or not"
   ]
  },
  {
   "cell_type": "markdown",
   "metadata": {
    "ExecuteTime": {
     "end_time": "2024-02-17T20:26:32.318230Z",
     "start_time": "2024-02-17T20:26:31.000245Z"
    },
    "heading_collapsed": true
   },
   "source": [
    "### Solution"
   ]
  },
  {
   "cell_type": "code",
   "execution_count": 38,
   "metadata": {
    "ExecuteTime": {
     "end_time": "2024-02-18T12:18:03.222642Z",
     "start_time": "2024-02-18T12:18:00.887005Z"
    },
    "hidden": true
   },
   "outputs": [
    {
     "name": "stdout",
     "output_type": "stream",
     "text": [
      "Enter the number to check : 100\n",
      "100 is not a prime number\n"
     ]
    }
   ],
   "source": [
    "num = int(input(\"Enter the number to check : \"))\n",
    "last_range = int((num ** 0.5)+1)\n",
    "\n",
    "def prime_or_not(num): \n",
    "    if num <= 1 :\n",
    "        return False\n",
    "    \n",
    "    for i in range(2,last_range):\n",
    "        if num % i == 0:\n",
    "            return False\n",
    "    return True\n",
    " \n",
    "\n",
    "    \n",
    "if prime_or_not(num):\n",
    "    print(f'{num} is a prime number')\n",
    "else:\n",
    "    print(f'{num} is not a prime number')"
   ]
  },
  {
   "cell_type": "markdown",
   "metadata": {
    "id": "asAbmbK-5NHv"
   },
   "source": [
    "### `Problem 13`:Print all the Armstrong numbers in a given range.\n",
    "Range will be provided by the user<br>\n",
    "Armstrong number is a number that is equal to the sum of cubes of its digits. For example 0, 1, 153, 370, 371 and 407 are the Armstrong numbers."
   ]
  },
  {
   "cell_type": "markdown",
   "metadata": {
    "heading_collapsed": true
   },
   "source": [
    "### Solution"
   ]
  },
  {
   "cell_type": "code",
   "execution_count": 37,
   "metadata": {
    "ExecuteTime": {
     "end_time": "2024-02-18T12:14:11.883513Z",
     "start_time": "2024-02-18T12:14:09.936741Z"
    },
    "hidden": true
   },
   "outputs": [
    {
     "name": "stdout",
     "output_type": "stream",
     "text": [
      "Enter the number : 500\n",
      "\n",
      "0 is an Amstrong number \n",
      "\n",
      "1 is an Amstrong number \n",
      "\n",
      "153 is an Amstrong number \n",
      "\n",
      "370 is an Amstrong number \n",
      "\n",
      "371 is an Amstrong number \n",
      "\n",
      "407 is an Amstrong number \n",
      "\n"
     ]
    }
   ],
   "source": [
    "user_input = int(input(\"Enter the number : \"))\n",
    "print()\n",
    "\n",
    "for i in range(0,user_input+1):\n",
    "    num = i\n",
    "    # print('current number is ',num)\n",
    "    \n",
    "    total = 0\n",
    "    \n",
    "    while num!=0:\n",
    "        \n",
    "        total = total + (num%10)**3\n",
    "        #print('total is : ',total,'\\n')\n",
    "        \n",
    "        num = num//10\n",
    "        #print(\"after removing last digit\",num,'\\n')\n",
    "        \n",
    "    if total == i:\n",
    "        print(f\"{i} is an Amstrong number \\n\")\n",
    "    else:\n",
    "        continue\n",
    "        \n",
    "        \n",
    "        "
   ]
  },
  {
   "cell_type": "markdown",
   "metadata": {
    "id": "ClCQZMqT7gK0"
   },
   "source": [
    "### `Problem 14`:Calculate the angle between the hour hand and minute hand.\n",
    "\n",
    "Note: There can be two angles between hands; we need to print a minimum of two. Also, we need to print the floor of the final result angle. For example, if the final angle is 10.61, we need to print 10.\n",
    "\n",
    "Input:<br>\n",
    "H = 9 , M = 0<br>\n",
    "Output:<br>\n",
    "90<br>\n",
    "Explanation:<br>\n",
    "The minimum angle between hour and minute\n",
    "hand when the time is 9 is 90 degress."
   ]
  },
  {
   "cell_type": "markdown",
   "metadata": {
    "heading_collapsed": true
   },
   "source": [
    "### <span class=\"girk\">Solution</span>"
   ]
  },
  {
   "cell_type": "code",
   "execution_count": 5,
   "metadata": {
    "ExecuteTime": {
     "end_time": "2024-02-26T14:43:10.928037Z",
     "start_time": "2024-02-26T14:43:10.913020Z"
    },
    "hidden": true
   },
   "outputs": [
    {
     "name": "stdout",
     "output_type": "stream",
     "text": [
      "30.0\n",
      "6.0\n"
     ]
    }
   ],
   "source": [
    "hour_1 = 360/12\n",
    "print(hour_1)\n",
    "\n",
    "min_1 = 360/60\n",
    "print(min_1)"
   ]
  },
  {
   "attachments": {
    "Screenshot%202024-02-26%20204038.png": {
     "image/png": "[encoded data removed]"
    }
   },
   "cell_type": "markdown",
   "metadata": {
    "hidden": true
   },
   "source": [
    "![Screenshot%202024-02-26%20204038.png](attachment:Screenshot%202024-02-26%20204038.png)"
   ]
  },
  {
   "cell_type": "code",
   "execution_count": 5,
   "metadata": {
    "ExecuteTime": {
     "end_time": "2024-02-26T15:14:00.505069Z",
     "start_time": "2024-02-26T15:13:56.927884Z"
    },
    "hidden": true
   },
   "outputs": [
    {
     "name": "stdout",
     "output_type": "stream",
     "text": [
      "Enter the time hour 9\n",
      "Enter the minutes 0\n",
      "Angle made between hour and minute hand 9:0 is 90.0 degrees\n"
     ]
    }
   ],
   "source": [
    "hour = int(input('Enter the time hour '))\n",
    "minutes = int(input('Enter the minutes '))\n",
    "\n",
    "hour_angle = (hour + minutes/60)* 30\n",
    "\n",
    "\n",
    "minutes_angle = minutes * 6\n",
    "\n",
    "\n",
    "total_angle = abs(hour_angle-minutes_angle)\n",
    "\n",
    "if total_angle>180:\n",
    "    total_angle = 360 - total_angle\n",
    "\n",
    "print(f\"Angle made between hour and minute hand {hour}:{minutes} is {total_angle} degrees\")\n"
   ]
  },
  {
   "cell_type": "markdown",
   "metadata": {
    "id": "GwacF9Co72Qc"
   },
   "source": [
    "### `Problem 15`:Given two rectangles, find if the given two rectangles overlap or not. A rectangle is denoted by providing the x and y coordinates of two points: the left top corner and the right bottom corner of the rectangle. Two rectangles sharing a side are considered overlapping. (L1 and R1 are the extreme points of the first rectangle and L2 and R2 are the extreme points of the second rectangle).\n",
    "\n",
    "Note: It may be assumed that the rectangles are parallel to the coordinate axis.\n",
    "\n",
    "<img src='https://www.geeksforgeeks.org/wp-content/uploads/rectanglesOverlap.png' width='300' height='200'>"
   ]
  },
  {
   "cell_type": "markdown",
   "metadata": {},
   "source": [
    "### Solution"
   ]
  },
  {
   "cell_type": "code",
   "execution_count": 7,
   "metadata": {
    "ExecuteTime": {
     "end_time": "2024-03-01T21:44:30.041577Z",
     "start_time": "2024-03-01T21:44:14.837289Z"
    },
    "scrolled": true
   },
   "outputs": [
    {
     "name": "stdout",
     "output_type": "stream",
     "text": [
      "\n",
      "getting the upper left and below right coordinates of 1st rectangle:\n",
      "\n",
      "Enter upper left coordinates of the rectangle 5,5\n",
      "Enter lower right coordinates of the rectangle 10,0\n",
      "\n",
      "getting the upper left and below right coordinates of 2nd rectangle:\n",
      "\n",
      "Enter upper left coordinates of the rectangle 8,3\n",
      "Enter lower right coordinates of the rectangle 12,1\n",
      "\n",
      "\n",
      "coordinates of 1st rectangle are : \n",
      "coordinates of upper left (5,5)\n",
      "coordinates of upper right (10,5)\n",
      "coordinates of lower left (5,0)\n",
      "coordinates of lower right (10,0)\n",
      "\n",
      "\n",
      "coordinates of 2nd rectangle are : \n",
      "coordinates of upper left (8,3)\n",
      "coordinates of upper right (12,3)\n",
      "coordinates of lower left (8,1)\n",
      "coordinates of lower right (12,1)\n",
      "\n",
      "\n",
      "Final Output :\n",
      "\n",
      "both rectangles overlap\n"
     ]
    }
   ],
   "source": [
    "def coordinates():\n",
    "    \n",
    "    l11,l12 = input('Enter upper left coordinates of the rectangle ').split(',')\n",
    "    r21,r22 = input('Enter lower right coordinates of the rectangle ').split(',')\n",
    "    \n",
    "    l11, l12, r21, r22 = int(l11), int(l12) ,int(r21), int(r22)\n",
    "    \n",
    "    \n",
    "    l21 = r21\n",
    "    l22 = l12\n",
    "    \n",
    "    r11 = l11\n",
    "    r12 = r22\n",
    "    \n",
    "    return l11, l12, l21, l22, r11, r12, r21, r22\n",
    "\n",
    "\n",
    "def print_coordinates(l11, l12, l21, l22, r11, r12, r21, r22):\n",
    "    \n",
    "    print(f\"coordinates of upper left ({l11},{l12})\")\n",
    "    print(f\"coordinates of upper right ({l21},{l22})\")\n",
    "    print(f\"coordinates of lower left ({r11},{r12})\")\n",
    "    print(f\"coordinates of lower right ({r21},{r22})\")\n",
    "\n",
    "    \n",
    "def overlap_rectangles(l11_rec1, l12_rec1, l21_rec1, l22_rec1, r11_rec1, r12_rec1, r21_rec1, r22_rec1, l11_rec2, l12_rec2, l21_rec2, l22_rec2, r11_rec2, r12_rec2, r21_rec2, r22_rec2):\n",
    "    \n",
    "    counter = 0\n",
    "    \n",
    "    for i in ([[l11_rec2, l12_rec2], [l21_rec2, l22_rec2], [r11_rec2, r12_rec2], [r21_rec2, r22_rec2]]):\n",
    "        if i[0] in range(r11_rec1,r21_rec1+1) and i[1] in range(r12_rec1,l12_rec1+1):        \n",
    "            counter = counter + 1\n",
    "        else:\n",
    "            counter\n",
    "    \n",
    "    if counter > 0:\n",
    "        print(\"\\nboth rectangles overlap\")\n",
    "    else:\n",
    "        print(\"\\nboth rectangles donot overlap\")\n",
    "       \n",
    "    \n",
    "    \n",
    "def main():\n",
    "    \n",
    "    print(\"\\ngetting the upper left and below right coordinates of 1st rectangle:\\n\")\n",
    "    l11_rec1, l12_rec1, l21_rec1, l22_rec1, r11_rec1, r12_rec1, r21_rec1, r22_rec1 = coordinates()\n",
    "    \n",
    "    print(\"\\ngetting the upper left and below right coordinates of 2nd rectangle:\\n\")\n",
    "    l11_rec2, l12_rec2, l21_rec2, l22_rec2, r11_rec2, r12_rec2, r21_rec2, r22_rec2 = coordinates()\n",
    "    \n",
    "    print(\"\\n\\ncoordinates of 1st rectangle are : \")\n",
    "    print_coordinates(l11_rec1, l12_rec1, l21_rec1, l22_rec1, r11_rec1, r12_rec1, r21_rec1, r22_rec1)\n",
    "    \n",
    "    print(\"\\n\\ncoordinates of 2nd rectangle are : \")\n",
    "    print_coordinates(l11_rec2, l12_rec2, l21_rec2, l22_rec2, r11_rec2, r12_rec2, r21_rec2, r22_rec2)\n",
    "    \n",
    "    print(\"\\n\\nFinal Output :\")\n",
    "    overlap_rectangles(l11_rec1, l12_rec1, l21_rec1, l22_rec1, r11_rec1, r12_rec1, r21_rec1, r22_rec1, l11_rec2, l12_rec2, l21_rec2, l22_rec2, r11_rec2, r12_rec2, r21_rec2, r22_rec2)\n",
    "\n",
    "    \n",
    "if __name__ == \"__main__\":\n",
    "    main()\n",
    "    \n",
    "    "
   ]
  },
  {
   "cell_type": "raw",
   "metadata": {},
   "source": [
    "Rectangle 1: Upper left (-2, 3), Lower right (2, -1)\n",
    "Rectangle 2: Upper left (0, 2), Lower right (4, -2)\n",
    "\n",
    "Wrong Output by chatgpt:\n",
    "        Expected overlap status: No"
   ]
  },
  {
   "cell_type": "code",
   "execution_count": null,
   "metadata": {},
   "outputs": [],
   "source": []
  }
 ],
 "metadata": {
  "colab": {
   "provenance": []
  },
  "kernelspec": {
   "display_name": "Python 3 (ipykernel)",
   "language": "python",
   "name": "python3"
  },
  "language_info": {
   "codemirror_mode": {
    "name": "ipython",
    "version": 3
   },
   "file_extension": ".py",
   "mimetype": "text/x-python",
   "name": "python",
   "nbconvert_exporter": "python",
   "pygments_lexer": "ipython3",
   "version": "3.9.13"
  }
 },
 "nbformat": 4,
 "nbformat_minor": 1
}

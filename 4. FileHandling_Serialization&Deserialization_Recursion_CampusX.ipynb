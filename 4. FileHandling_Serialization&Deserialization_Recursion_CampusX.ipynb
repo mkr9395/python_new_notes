{
 "cells": [
  {
   "cell_type": "markdown",
   "id": "18b50ae2",
   "metadata": {},
   "source": [
    "# Session 10 : File Handling + Serialization & Deserialization\n",
    "https://www.youtube.com/watch?v=o-TAYRMQzIQ&t=1704s"
   ]
  },
  {
   "cell_type": "markdown",
   "id": "8eb23696",
   "metadata": {},
   "source": [
    "## Topics:"
   ]
  },
  {
   "cell_type": "markdown",
   "id": "0784a874",
   "metadata": {},
   "source": [
    "### 1. File handling\n",
    "\n",
    "### 2. Serialization and Deserialization\n",
    "\n",
    "### 3. Pickling\n",
    "\n",
    "### 4. Recursion\n",
    "\n",
    "### 5. Memoization"
   ]
  },
  {
   "cell_type": "markdown",
   "id": "f36ea2f5",
   "metadata": {},
   "source": [
    "### Some Theory\n",
    "\n",
    "##### Types of data used for I/O:\n",
    "- Text - '12345' as a sequence of unicode chars\n",
    "- Binary - 12345 as a sequence of bytes of its binary equivalent\n",
    "\n",
    "##### Hence there are 2 file types to deal with\n",
    "- Text files - All program files are text files\n",
    "- Binary Files - Images,music,video,exe files"
   ]
  },
  {
   "cell_type": "markdown",
   "id": "bd090a6f",
   "metadata": {},
   "source": [
    "### How File I/O is done in most programming languages\n",
    "\n",
    "- Open a file\n",
    "- Read/Write data\n",
    "- Close the file"
   ]
  },
  {
   "cell_type": "markdown",
   "id": "834ef627",
   "metadata": {},
   "source": [
    "### Writing a file :"
   ]
  },
  {
   "cell_type": "markdown",
   "id": "3434eb1f",
   "metadata": {},
   "source": [
    "#### case 1 - if the file is not present : "
   ]
  },
  {
   "cell_type": "code",
   "execution_count": 24,
   "id": "9c86e6db",
   "metadata": {
    "ExecuteTime": {
     "end_time": "2023-02-23T15:52:07.223770Z",
     "start_time": "2023-02-23T15:52:07.216815Z"
    }
   },
   "outputs": [],
   "source": [
    "f = open('sample.txt','w')\n",
    "f.write('Hello world')\n",
    "f.close()"
   ]
  },
  {
   "cell_type": "code",
   "execution_count": 25,
   "id": "63b5bd4e",
   "metadata": {
    "ExecuteTime": {
     "end_time": "2023-02-23T15:52:07.254590Z",
     "start_time": "2023-02-23T15:52:07.225050Z"
    }
   },
   "outputs": [
    {
     "ename": "ValueError",
     "evalue": "I/O operation on closed file.",
     "output_type": "error",
     "traceback": [
      "\u001b[1;31m---------------------------------------------------------------------------\u001b[0m",
      "\u001b[1;31mValueError\u001b[0m                                Traceback (most recent call last)",
      "Cell \u001b[1;32mIn[25], line 4\u001b[0m\n\u001b[0;32m      2\u001b[0m f\u001b[38;5;241m.\u001b[39mwrite(\u001b[38;5;124m'\u001b[39m\u001b[38;5;124mHello world\u001b[39m\u001b[38;5;124m'\u001b[39m)\n\u001b[0;32m      3\u001b[0m f\u001b[38;5;241m.\u001b[39mclose()\n\u001b[1;32m----> 4\u001b[0m \u001b[43mf\u001b[49m\u001b[38;5;241;43m.\u001b[39;49m\u001b[43mwrite\u001b[49m\u001b[43m(\u001b[49m\u001b[38;5;124;43m'\u001b[39;49m\u001b[38;5;124;43mMohit\u001b[39;49m\u001b[38;5;124;43m'\u001b[39;49m\u001b[43m)\u001b[49m\n\u001b[0;32m      6\u001b[0m \u001b[38;5;66;03m# will throw error as file is already closed and we cannot write to a closed file\u001b[39;00m\n",
      "\u001b[1;31mValueError\u001b[0m: I/O operation on closed file."
     ]
    }
   ],
   "source": [
    "f = open('sample1.txt','w')\n",
    "f.write('Hello world')\n",
    "f.close()\n",
    "f.write('Mohit')\n",
    "\n",
    "# will throw error as file is already closed and we cannot write to a closed file"
   ]
  },
  {
   "cell_type": "markdown",
   "id": "2bc144c2",
   "metadata": {},
   "source": [
    "#####  write multiline strings : "
   ]
  },
  {
   "cell_type": "code",
   "execution_count": 26,
   "id": "134f23c9",
   "metadata": {
    "ExecuteTime": {
     "end_time": "2023-02-23T15:52:25.565477Z",
     "start_time": "2023-02-23T15:52:25.554424Z"
    }
   },
   "outputs": [],
   "source": [
    "f = open('sample1.txt','w')\n",
    "f.write('hello world')\n",
    "f.write('\\n how are you?')\n",
    "f.close()"
   ]
  },
  {
   "cell_type": "markdown",
   "id": "d5d732a4",
   "metadata": {},
   "source": [
    "#### case 2 - if the file is already present :\n"
   ]
  },
  {
   "cell_type": "code",
   "execution_count": 27,
   "id": "2ca91bcf",
   "metadata": {
    "ExecuteTime": {
     "end_time": "2023-02-23T15:52:26.362833Z",
     "start_time": "2023-02-23T15:52:26.352958Z"
    }
   },
   "outputs": [],
   "source": [
    "f = open('sample.txt','w')\n",
    "f.write(' SRK ')\n",
    "f.close()\n",
    "\n",
    "# NOTE : Old content has been replaced with the new lines"
   ]
  },
  {
   "cell_type": "markdown",
   "id": "7585e646",
   "metadata": {},
   "source": [
    "#### writing multiple lines together : "
   ]
  },
  {
   "cell_type": "code",
   "execution_count": 6,
   "id": "560cbdc0",
   "metadata": {
    "ExecuteTime": {
     "end_time": "2023-02-27T12:19:15.473058Z",
     "start_time": "2023-02-27T12:19:15.460543Z"
    }
   },
   "outputs": [],
   "source": [
    "L = ['i\\n','am\\n','night\\n', 'I am vengence\\n','i am\\n','Batman\\n']\n",
    "\n",
    "f = open('sample2.txt','w')\n",
    "f.writelines(L)\n",
    "f.close()"
   ]
  },
  {
   "attachments": {
    "image.png": {
     "image/png": "[encoded data removed]"
    }
   },
   "cell_type": "markdown",
   "id": "41ee553a",
   "metadata": {},
   "source": [
    "![image.png](attachment:image.png)"
   ]
  },
  {
   "cell_type": "markdown",
   "id": "ca8a8ae6",
   "metadata": {},
   "source": [
    "### NOTE : <span class=\"girk\">if we try to write on an already existing file, everything in it will be deleted. New content will overrite it</span>"
   ]
  },
  {
   "cell_type": "markdown",
   "id": "4440961e",
   "metadata": {},
   "source": [
    "###  introducing append mode : 'a'"
   ]
  },
  {
   "cell_type": "code",
   "execution_count": 7,
   "id": "5302072f",
   "metadata": {
    "ExecuteTime": {
     "end_time": "2023-02-27T12:19:18.438492Z",
     "start_time": "2023-02-27T12:19:18.421241Z"
    }
   },
   "outputs": [],
   "source": [
    "f = open(\"D:\\Python\\File Handling\\sample2.txt\",'a')\n",
    "f.write('\\n I am fine')\n",
    "f.close()"
   ]
  },
  {
   "attachments": {
    "image.png": {
     "image/png": "[encoded data removed]"
    }
   },
   "cell_type": "markdown",
   "id": "ff644719",
   "metadata": {},
   "source": [
    "![image.png](attachment:image.png)"
   ]
  },
  {
   "cell_type": "markdown",
   "id": "67951492",
   "metadata": {},
   "source": [
    "#### appending multiple lines toegther:"
   ]
  },
  {
   "cell_type": "code",
   "execution_count": 5,
   "id": "069dc4da",
   "metadata": {
    "ExecuteTime": {
     "end_time": "2023-02-27T11:25:33.779151Z",
     "start_time": "2023-02-27T11:25:33.762053Z"
    }
   },
   "outputs": [],
   "source": [
    "L = ['hello','hi','how are you', 'I ma fine','Thankyou']\n",
    "\n",
    "with open(\"D:\\Python\\File Handling\\sample2.txt\", 'a') as file:\n",
    "    for line in L:\n",
    "        file.write(line + '\\n')"
   ]
  },
  {
   "attachments": {
    "image.png": {
     "image/png": "[encoded data removed]"
    }
   },
   "cell_type": "markdown",
   "id": "c62363e8",
   "metadata": {},
   "source": [
    "![image.png](attachment:image.png)"
   ]
  },
  {
   "cell_type": "markdown",
   "id": "16e93628",
   "metadata": {},
   "source": [
    "## Reading a file :"
   ]
  },
  {
   "cell_type": "markdown",
   "id": "83d1dcc4",
   "metadata": {},
   "source": [
    "- __read():__ This method is used to read the entire content of a file as a string. The syntax for read() is:"
   ]
  },
  {
   "cell_type": "raw",
   "id": "a19a375f",
   "metadata": {},
   "source": [
    "with open('file.txt', 'r') as f:\n",
    "    content = f.read()"
   ]
  },
  {
   "cell_type": "markdown",
   "id": "bfdd5136",
   "metadata": {},
   "source": [
    "- __readline():__ This method is used to read a single line from a file. "
   ]
  },
  {
   "cell_type": "raw",
   "id": "0878d54c",
   "metadata": {},
   "source": [
    "with open('file.txt', 'r') as f:\n",
    "    line = f.readline()"
   ]
  },
  {
   "cell_type": "markdown",
   "id": "76d6567a",
   "metadata": {},
   "source": [
    "- __readlines():__ This method is used to read all the lines of a file and return them as a __list of strings.__"
   ]
  },
  {
   "cell_type": "raw",
   "id": "424cf604",
   "metadata": {},
   "source": [
    "with open('file.txt', 'r') as f:\n",
    "    lines = f.readlines()"
   ]
  },
  {
   "cell_type": "markdown",
   "id": "f81980b2",
   "metadata": {},
   "source": [
    "__Overall, the read() method is useful when you want to read the entire content of a file as a single string, while readline() and readlines() are useful when you want to read the file line by line__"
   ]
  },
  {
   "cell_type": "code",
   "execution_count": 31,
   "id": "726b074e",
   "metadata": {
    "ExecuteTime": {
     "end_time": "2023-02-23T15:52:28.195107Z",
     "start_time": "2023-02-23T15:52:28.184103Z"
    }
   },
   "outputs": [
    {
     "name": "stdout",
     "output_type": "stream",
     "text": [
      " SRK \n",
      " I am finehello\n",
      "hi\n",
      "how are you\n",
      "I ma fine\n",
      "Thankyou\n",
      "\n"
     ]
    }
   ],
   "source": [
    "f = open('sample.txt','r')\n",
    "s = f.read()\n",
    "print(s)\n",
    "f.close()"
   ]
  },
  {
   "cell_type": "markdown",
   "id": "feac4be1",
   "metadata": {},
   "source": [
    "##### reading first 10 characters :"
   ]
  },
  {
   "cell_type": "code",
   "execution_count": 32,
   "id": "7333c6a5",
   "metadata": {
    "ExecuteTime": {
     "end_time": "2023-02-23T15:52:28.653588Z",
     "start_time": "2023-02-23T15:52:28.643831Z"
    }
   },
   "outputs": [
    {
     "name": "stdout",
     "output_type": "stream",
     "text": [
      " SRK \n",
      " I a\n"
     ]
    }
   ],
   "source": [
    "f = open('sample.txt','r')\n",
    "s = f.read(10)\n",
    "print(s)\n",
    "f.close()"
   ]
  },
  {
   "cell_type": "markdown",
   "id": "c982b88f",
   "metadata": {},
   "source": [
    "##### reading lines one by one"
   ]
  },
  {
   "cell_type": "code",
   "execution_count": 33,
   "id": "25bd5d97",
   "metadata": {
    "ExecuteTime": {
     "end_time": "2023-02-23T15:52:29.218633Z",
     "start_time": "2023-02-23T15:52:29.200869Z"
    }
   },
   "outputs": [
    {
     "name": "stdout",
     "output_type": "stream",
     "text": [
      " SRK \n",
      "\n",
      " I am finehello\n",
      "\n"
     ]
    }
   ],
   "source": [
    "f = open('sample.txt','r')\n",
    "print(f.readline())\n",
    "print(f.readline())\n",
    "f.close()"
   ]
  },
  {
   "cell_type": "markdown",
   "id": "48403f94",
   "metadata": {},
   "source": [
    "#### `end=''` line won't change"
   ]
  },
  {
   "cell_type": "code",
   "execution_count": 34,
   "id": "3c68f6cc",
   "metadata": {
    "ExecuteTime": {
     "end_time": "2023-02-23T15:52:29.809850Z",
     "start_time": "2023-02-23T15:52:29.795937Z"
    }
   },
   "outputs": [
    {
     "name": "stdout",
     "output_type": "stream",
     "text": [
      " SRK \n",
      " I am finehello\n",
      "\n"
     ]
    }
   ],
   "source": [
    "f = open('sample.txt','r')\n",
    "print(f.readline(),end='')\n",
    "print(f.readline())\n",
    "f.close()"
   ]
  },
  {
   "cell_type": "markdown",
   "id": "26cf4a35",
   "metadata": {},
   "source": [
    "##### reading entire file using readline : "
   ]
  },
  {
   "cell_type": "code",
   "execution_count": 35,
   "id": "478b4c75",
   "metadata": {
    "ExecuteTime": {
     "end_time": "2023-02-23T15:52:31.021610Z",
     "start_time": "2023-02-23T15:52:31.009390Z"
    }
   },
   "outputs": [
    {
     "name": "stdout",
     "output_type": "stream",
     "text": [
      " SRK \n",
      " I am finehello\n",
      "hi\n",
      "how are you\n",
      "I ma fine\n",
      "Thankyou\n"
     ]
    }
   ],
   "source": [
    "f = open('sample.txt','r')\n",
    "\n",
    "while True:\n",
    "    \n",
    "    data = f.readline()\n",
    "\n",
    "    if data == '':\n",
    "        break\n",
    "    else:\n",
    "        print(data,end='')\n",
    "\n",
    "f.close()"
   ]
  },
  {
   "cell_type": "markdown",
   "id": "4bbc1753",
   "metadata": {},
   "source": [
    "## Using Context Manager (With) : file closes automatically\n",
    "\n",
    "- It's a good idea to close a file after usage as it will free up the resources\n",
    "- If we dont close it, garbage collector would close it\n",
    "- with keyword closes the file as soon as the usage is over"
   ]
  },
  {
   "cell_type": "markdown",
   "id": "2954ffca",
   "metadata": {},
   "source": [
    "#### rewriting using with"
   ]
  },
  {
   "cell_type": "code",
   "execution_count": 4,
   "id": "946ddd48",
   "metadata": {
    "ExecuteTime": {
     "end_time": "2023-02-27T11:20:37.211487Z",
     "start_time": "2023-02-27T11:20:37.201972Z"
    }
   },
   "outputs": [],
   "source": [
    "with open('sample2.txt','w') as f:\n",
    "    f.write('superman')"
   ]
  },
  {
   "cell_type": "markdown",
   "id": "46e02d13",
   "metadata": {},
   "source": [
    "#### reading using with : "
   ]
  },
  {
   "cell_type": "code",
   "execution_count": 37,
   "id": "c25e931a",
   "metadata": {
    "ExecuteTime": {
     "end_time": "2023-02-23T15:53:34.497171Z",
     "start_time": "2023-02-23T15:53:34.490259Z"
    }
   },
   "outputs": [
    {
     "name": "stdout",
     "output_type": "stream",
     "text": [
      " SRK \n",
      " I am finehello\n",
      "hi\n",
      "how are you\n",
      "I ma fine\n",
      "Thankyou\n",
      "\n"
     ]
    }
   ],
   "source": [
    "with open ('sample.txt','r') as f:\n",
    "    print(f.read())"
   ]
  },
  {
   "cell_type": "code",
   "execution_count": 1,
   "id": "cc9fa48d",
   "metadata": {
    "ExecuteTime": {
     "end_time": "2024-02-03T12:39:38.776464Z",
     "start_time": "2024-02-03T12:39:38.728157Z"
    }
   },
   "outputs": [
    {
     "name": "stdout",
     "output_type": "stream",
     "text": [
      " SRK \n",
      "\n",
      " I am finehello\n",
      "\n"
     ]
    }
   ],
   "source": [
    "with open ('sample.txt','r') as f:\n",
    "    print(f.readline())\n",
    "    print(f.readline())"
   ]
  },
  {
   "cell_type": "code",
   "execution_count": 2,
   "id": "fa0a0a83",
   "metadata": {
    "ExecuteTime": {
     "end_time": "2024-02-03T12:39:40.149527Z",
     "start_time": "2024-02-03T12:39:40.132899Z"
    }
   },
   "outputs": [
    {
     "name": "stdout",
     "output_type": "stream",
     "text": [
      " SRK \n",
      " I am finehello\n",
      "\n"
     ]
    }
   ],
   "source": [
    "with open ('sample.txt','r') as f:\n",
    "    print(f.readline(),end='')\n",
    "    print(f.readline())"
   ]
  },
  {
   "cell_type": "markdown",
   "id": "46437b94",
   "metadata": {},
   "source": [
    "##### reading first 10 charcaters then next 10 : "
   ]
  },
  {
   "cell_type": "code",
   "execution_count": 43,
   "id": "d9c83550",
   "metadata": {
    "ExecuteTime": {
     "end_time": "2023-02-23T15:55:46.107039Z",
     "start_time": "2023-02-23T15:55:46.097256Z"
    }
   },
   "outputs": [
    {
     "name": "stdout",
     "output_type": "stream",
     "text": [
      " SRK \n",
      " I a\n",
      "m finehell\n"
     ]
    }
   ],
   "source": [
    "with open('sample.txt','r') as f:\n",
    "    print(f.read(10)) # first 10 characters\n",
    "    print(f.read(10)) # next 10 charcaters"
   ]
  },
  {
   "cell_type": "markdown",
   "id": "f5021ba5",
   "metadata": {},
   "source": [
    "### to load a big file in memory"
   ]
  },
  {
   "cell_type": "code",
   "execution_count": 21,
   "id": "4b104311",
   "metadata": {
    "ExecuteTime": {
     "end_time": "2024-02-03T13:51:35.693362Z",
     "start_time": "2024-02-03T13:51:35.686352Z"
    }
   },
   "outputs": [],
   "source": [
    "big_L = ['Mr. Abhay Deeip (1997-99 Batch) & Founder Director Indicosmic Capital Joins In As Alumni Mentor For The Flagship Konfidant Programme Of KSOMMr Abhay Deeip, Alumnus 99 Batch, School of Management has joined as an Alumni Mentor for the Konfidant Mentoring Programme, which focuses on building mentor-mentee relationships and helps incubate the mentees’ interpe...KIIT Alumni Invited As Judges For The Event K-Star Season 3 By KSACBehold the illustrious panel of judges for the grand event, K-Star Season 3 hosted by KIIT Student Activity centre (KSAC)! It was wonderful to have these distinguished individuals, each a paragon of talent and accomplishment, all proud alumni of KIIT.']\n",
    "\n",
    "with open('big.txt','w') as f:\n",
    "    f.writelines(big_L)"
   ]
  },
  {
   "cell_type": "markdown",
   "id": "84a986a6",
   "metadata": {},
   "source": [
    "#### loading it in chunks:"
   ]
  },
  {
   "cell_type": "code",
   "execution_count": 23,
   "id": "5d74af4f",
   "metadata": {
    "ExecuteTime": {
     "end_time": "2024-02-03T13:51:51.386629Z",
     "start_time": "2024-02-03T13:51:51.379936Z"
    }
   },
   "outputs": [
    {
     "name": "stdout",
     "output_type": "stream",
     "text": [
      "eeip (1997-**  Founder Di** cosmic Capi** n As Alumni**  The Flagsh** t Programme** Abhay Deeip** 9 Batch, Sc** agement has** an Alumni M** he Konfidan**  Programme,** ses on buil** -mentee rel** and helps i**  mentees’ i** IT Alumni I** udges For T** Star Season** ehold the i** panel of ju** e grand eve** Season 3 ho** T Student A** tre (KSAC)!** derful to h** istinguishe** ls, each a ** talent and ** ent, all pr** of KIIT.** "
     ]
    }
   ],
   "source": [
    "with open('big.txt','r') as f:\n",
    "    \n",
    "    chunk_size = 11\n",
    "    \n",
    "    while len(f.read(chunk_size)) > 0:\n",
    "        print(f.read(chunk_size),end='** ')"
   ]
  },
  {
   "cell_type": "code",
   "execution_count": 25,
   "id": "1dc39a2b",
   "metadata": {
    "ExecuteTime": {
     "end_time": "2024-02-03T13:52:21.303055Z",
     "start_time": "2024-02-03T13:52:21.288654Z"
    }
   },
   "outputs": [],
   "source": [
    "big_L = ['hello world' for i in range(1000)]\n",
    "\n",
    "with open('big.txt','w') as f:\n",
    "    f.writelines(big_L)"
   ]
  },
  {
   "cell_type": "code",
   "execution_count": 26,
   "id": "123caf61",
   "metadata": {
    "ExecuteTime": {
     "end_time": "2024-02-03T13:52:21.704756Z",
     "start_time": "2024-02-03T13:52:21.667578Z"
    }
   },
   "outputs": [
    {
     "name": "stdout",
     "output_type": "stream",
     "text": [
      "hello world** hello world** hello world** hello world** hello world** hello world** hello world** hello world** hello world** hello world** hello world** hello world** hello world** hello world** hello world** hello world** hello world** hello world** hello world** hello world** hello world** hello world** hello world** hello world** hello world** hello world** hello world** hello world** hello world** hello world** hello world** hello world** hello world** hello world** hello world** hello world** hello world** hello world** hello world** hello world** hello world** hello world** hello world** hello world** hello world** hello world** hello world** hello world** hello world** hello world** hello world** hello world** hello world** hello world** hello world** hello world** hello world** hello world** hello world** hello world** hello world** hello world** hello world** hello world** hello world** hello world** hello world** hello world** hello world** hello world** hello world** hello world** hello world** hello world** hello world** hello world** hello world** hello world** hello world** hello world** hello world** hello world** hello world** hello world** hello world** hello world** hello world** hello world** hello world** hello world** hello world** hello world** hello world** hello world** hello world** hello world** hello world** hello world** hello world** hello world** hello world** hello world** hello world** hello world** hello world** hello world** hello world** hello world** hello world** hello world** hello world** hello world** hello world** hello world** hello world** hello world** hello world** hello world** hello world** hello world** hello world** hello world** hello world** hello world** hello world** hello world** hello world** hello world** hello world** hello world** hello world** hello world** hello world** hello world** hello world** hello world** hello world** hello world** hello world** hello world** hello world** hello world** hello world** hello world** hello world** hello world** hello world** hello world** hello world** hello world** hello world** hello world** hello world** hello world** hello world** hello world** hello world** hello world** hello world** hello world** hello world** hello world** hello world** hello world** hello world** hello world** hello world** hello world** hello world** hello world** hello world** hello world** hello world** hello world** hello world** hello world** hello world** hello world** hello world** hello world** hello world** hello world** hello world** hello world** hello world** hello world** hello world** hello world** hello world** hello world** hello world** hello world** hello world** hello world** hello world** hello world** hello world** hello world** hello world** hello world** hello world** hello world** hello world** hello world** hello world** hello world** hello world** hello world** hello world** hello world** hello world** hello world** hello world** hello world** hello world** hello world** hello world** hello world** hello world** hello world** hello world** hello world** hello world** hello world** hello world** hello world** hello world** hello world** hello world** hello world** hello world** hello world** hello world** hello world** hello world** hello world** hello world** hello world** hello world** hello world** hello world** hello world** hello world** hello world** hello world** hello world** hello world** hello world** hello world** hello world** hello world** hello world** hello world** hello world** hello world** hello world** hello world** hello world** hello world** hello world** hello world** hello world** hello world** hello world** hello world** hello world** hello world** hello world** hello world** hello world** hello world** hello world** hello world** hello world** hello world** hello world** hello world** hello world** hello world** hello world** hello world** hello world** hello world** hello world** hello world** hello world** hello world** hello world** hello world** hello world** hello world** hello world** hello world** hello world** hello world** hello world** hello world** hello world** hello world** hello world** hello world** hello world** hello world** hello world** hello world** hello world** hello world** hello world** hello world** hello world** hello world** hello world** hello world** hello world** hello world** hello world** hello world** hello world** hello world** hello world** hello world** hello world** hello world** hello world** hello world** hello world** hello world** hello world** hello world** hello world** hello world** hello world** hello world** ** "
     ]
    }
   ],
   "source": [
    "with open('big.txt','r') as f:\n",
    "    \n",
    "    chunk_size = 11\n",
    "    \n",
    "    while len(f.read(chunk_size)) > 0:\n",
    "        print(f.read(chunk_size),end='** ')\n",
    "        f.read(chunk_size) # load next chunk using it, otherwise current chunk will keep on priniting"
   ]
  },
  {
   "cell_type": "markdown",
   "id": "1702482d",
   "metadata": {},
   "source": [
    "## SEEK and TELL function "
   ]
  },
  {
   "cell_type": "markdown",
   "id": "d2752b5d",
   "metadata": {},
   "source": [
    "seek() and tell() are methods that are used to manipulate the file pointer when working with files.\n",
    "\n",
    "- __seek()__ \n",
    "\n",
    "    - changes the position of the file pointer\n",
    "    \n",
    "    - The origin parameter can be set to 0 (start of the file), 1 (current position), or 2 (end of the file). The seek() method is commonly used when you want to read or write a file from a specific position rather than from the beginning or end of the file.\n",
    " \n",
    " \n",
    " \n",
    "- __tell() :__ \n",
    "\n",
    "    - returns the current position of the file pointer.\n",
    "    \n",
    "    - The tell() method is commonly used when you need to remember the current position of the file pointer for future operations, such as when you want to seek to that position later."
   ]
  },
  {
   "cell_type": "code",
   "execution_count": 51,
   "id": "7c11257a",
   "metadata": {
    "ExecuteTime": {
     "end_time": "2023-02-23T16:06:57.875248Z",
     "start_time": "2023-02-23T16:06:57.860151Z"
    }
   },
   "outputs": [
    {
     "name": "stdout",
     "output_type": "stream",
     "text": [
      " SRK \n",
      " I a\n"
     ]
    }
   ],
   "source": [
    "with open('sample.txt','r') as f:\n",
    "    print(f.read(10)) # first 10 characters\n"
   ]
  },
  {
   "cell_type": "markdown",
   "id": "fcdf1b08",
   "metadata": {},
   "source": [
    "##### tell : "
   ]
  },
  {
   "cell_type": "code",
   "execution_count": 53,
   "id": "a7b52c7c",
   "metadata": {
    "ExecuteTime": {
     "end_time": "2023-02-23T16:07:54.997940Z",
     "start_time": "2023-02-23T16:07:54.990421Z"
    }
   },
   "outputs": [
    {
     "name": "stdout",
     "output_type": "stream",
     "text": [
      " SRK \n",
      " I a\n",
      "next character to be printed:  11\n"
     ]
    }
   ],
   "source": [
    "with open('sample.txt','r') as f:\n",
    "    print(f.read(10)) # first 10 characters\n",
    "    print('next character to be printed: ',f.tell())"
   ]
  },
  {
   "cell_type": "markdown",
   "id": "c54b028a",
   "metadata": {},
   "source": [
    "##### seek + tell:"
   ]
  },
  {
   "cell_type": "code",
   "execution_count": 55,
   "id": "c2441bf8",
   "metadata": {
    "ExecuteTime": {
     "end_time": "2023-02-23T16:14:14.856580Z",
     "start_time": "2023-02-23T16:14:14.838962Z"
    }
   },
   "outputs": [
    {
     "name": "stdout",
     "output_type": "stream",
     "text": [
      " SRK \n",
      " I a\n",
      "next character to be printed:  11\n",
      " SRK \n",
      " I a\n",
      "next character to be printed:  11\n"
     ]
    }
   ],
   "source": [
    "with open('sample.txt','r') as f:\n",
    "    print(f.read(10)) # first 10 characters\n",
    "    print('next character to be printed: ',f.tell())\n",
    "    f.seek(0)\n",
    "    print(f.read(10))\n",
    "    print('next character to be printed: ',f.tell())"
   ]
  },
  {
   "cell_type": "code",
   "execution_count": 63,
   "id": "f5b97550",
   "metadata": {
    "ExecuteTime": {
     "end_time": "2023-02-23T16:15:52.443721Z",
     "start_time": "2023-02-23T16:15:52.434462Z"
    }
   },
   "outputs": [
    {
     "name": "stdout",
     "output_type": "stream",
     "text": [
      " SRK \n",
      " I am finehello\n",
      "hi\n",
      "\n",
      "next character to be printed:  28\n",
      "\n",
      " SRK \n",
      " I a\n",
      "next character to be printed:  11\n"
     ]
    }
   ],
   "source": [
    "with open('sample.txt','r') as f:\n",
    "    print(f.read(25)) # first 15 characters\n",
    "    print('next character to be printed: ',f.tell())\n",
    "    f.seek(0)\n",
    "    print()\n",
    "    print(f.read(10))\n",
    "    print('next character to be printed: ',f.tell())\n"
   ]
  },
  {
   "cell_type": "markdown",
   "id": "55d69f7e",
   "metadata": {},
   "source": [
    "### seek during write:"
   ]
  },
  {
   "cell_type": "code",
   "execution_count": 33,
   "id": "58564319",
   "metadata": {
    "ExecuteTime": {
     "end_time": "2024-02-03T14:14:49.798641Z",
     "start_time": "2024-02-03T14:14:49.783176Z"
    }
   },
   "outputs": [
    {
     "name": "stdout",
     "output_type": "stream",
     "text": [
      "output is;  Xeyyyy\n"
     ]
    }
   ],
   "source": [
    "with open('sample1.txt','w') as f:\n",
    "    f.write('heyyyy')\n",
    "    f.seek(0)\n",
    "    f.write('X')\n",
    "    \n",
    "\n",
    "    \n",
    "with open('sample1.txt','r') as f:\n",
    "    print('output is: ',f.read())"
   ]
  },
  {
   "cell_type": "code",
   "execution_count": 35,
   "id": "0ef28e01",
   "metadata": {
    "ExecuteTime": {
     "end_time": "2024-02-03T14:15:14.837164Z",
     "start_time": "2024-02-03T14:15:14.822544Z"
    }
   },
   "outputs": [
    {
     "name": "stdout",
     "output_type": "stream",
     "text": [
      "output is:  Xoxoyyyyy\n"
     ]
    }
   ],
   "source": [
    "with open('sample1.txt','w') as f:\n",
    "    f.write('heyyyyyyy')\n",
    "    f.seek(0)\n",
    "    f.write('Xoxo')\n",
    "\n",
    "with open('sample1.txt','r') as f:\n",
    "    print('output is: ',f.read())"
   ]
  },
  {
   "cell_type": "markdown",
   "id": "176fcf27",
   "metadata": {},
   "source": [
    "### Problems with working in text mode\n",
    "\n",
    "- can't work with binary files like images but has a solution. \n",
    ">we wil use 'wb' instead of 'w'\n",
    "\n",
    "\n",
    "- not good for other data types like int/float/list/tuples"
   ]
  },
  {
   "cell_type": "code",
   "execution_count": 67,
   "id": "e2dfc569",
   "metadata": {
    "ExecuteTime": {
     "end_time": "2023-02-23T16:23:57.241025Z",
     "start_time": "2023-02-23T16:23:57.214080Z"
    }
   },
   "outputs": [
    {
     "ename": "UnicodeDecodeError",
     "evalue": "'charmap' codec can't decode byte 0x81 in position 287: character maps to <undefined>",
     "output_type": "error",
     "traceback": [
      "\u001b[1;31m---------------------------------------------------------------------------\u001b[0m",
      "\u001b[1;31mUnicodeDecodeError\u001b[0m                        Traceback (most recent call last)",
      "Cell \u001b[1;32mIn[67], line 2\u001b[0m\n\u001b[0;32m      1\u001b[0m \u001b[38;5;28;01mwith\u001b[39;00m \u001b[38;5;28mopen\u001b[39m(\u001b[38;5;124m\"\u001b[39m\u001b[38;5;124mD:\u001b[39m\u001b[38;5;124m\\\u001b[39m\u001b[38;5;124mPython\u001b[39m\u001b[38;5;124m\\\u001b[39m\u001b[38;5;124mFile Handling\u001b[39m\u001b[38;5;124m\\\u001b[39m\u001b[38;5;124mlags12.jpg\u001b[39m\u001b[38;5;124m\"\u001b[39m,\u001b[38;5;124m'\u001b[39m\u001b[38;5;124mr\u001b[39m\u001b[38;5;124m'\u001b[39m) \u001b[38;5;28;01mas\u001b[39;00m f:\n\u001b[1;32m----> 2\u001b[0m     \u001b[43mf\u001b[49m\u001b[38;5;241;43m.\u001b[39;49m\u001b[43mread\u001b[49m\u001b[43m(\u001b[49m\u001b[43m)\u001b[49m\n",
      "File \u001b[1;32mC:\\ProgramData\\Anaconda3\\lib\\encodings\\cp1252.py:23\u001b[0m, in \u001b[0;36mIncrementalDecoder.decode\u001b[1;34m(self, input, final)\u001b[0m\n\u001b[0;32m     22\u001b[0m \u001b[38;5;28;01mdef\u001b[39;00m \u001b[38;5;21mdecode\u001b[39m(\u001b[38;5;28mself\u001b[39m, \u001b[38;5;28minput\u001b[39m, final\u001b[38;5;241m=\u001b[39m\u001b[38;5;28;01mFalse\u001b[39;00m):\n\u001b[1;32m---> 23\u001b[0m     \u001b[38;5;28;01mreturn\u001b[39;00m \u001b[43mcodecs\u001b[49m\u001b[38;5;241;43m.\u001b[39;49m\u001b[43mcharmap_decode\u001b[49m\u001b[43m(\u001b[49m\u001b[38;5;28;43minput\u001b[39;49m\u001b[43m,\u001b[49m\u001b[38;5;28;43mself\u001b[39;49m\u001b[38;5;241;43m.\u001b[39;49m\u001b[43merrors\u001b[49m\u001b[43m,\u001b[49m\u001b[43mdecoding_table\u001b[49m\u001b[43m)\u001b[49m[\u001b[38;5;241m0\u001b[39m]\n",
      "\u001b[1;31mUnicodeDecodeError\u001b[0m: 'charmap' codec can't decode byte 0x81 in position 287: character maps to <undefined>"
     ]
    }
   ],
   "source": [
    "with open(\"D:\\Python\\File Handling\\lags12.jpg\",'r') as f:\n",
    "    f.read()\n",
    "    \n",
    "# will throw error"
   ]
  },
  {
   "cell_type": "markdown",
   "id": "c6a716d2",
   "metadata": {},
   "source": [
    "### reading binary files :"
   ]
  },
  {
   "cell_type": "markdown",
   "id": "f4cb8a83",
   "metadata": {},
   "source": [
    "##### read and write, making  a copy of a file"
   ]
  },
  {
   "cell_type": "code",
   "execution_count": 69,
   "id": "ae2b5d8c",
   "metadata": {
    "ExecuteTime": {
     "end_time": "2023-02-23T16:27:31.480821Z",
     "start_time": "2023-02-23T16:27:31.476612Z"
    }
   },
   "outputs": [],
   "source": [
    "with open('D:\\Python\\File Handling\\lags12.jpg','rb') as f: # read binary\n",
    "    with open('D:\\Python\\File Handling\\cop_of_a_file.png','wb') as wf: # write binary\n",
    "        wf.write(f.read())"
   ]
  },
  {
   "cell_type": "markdown",
   "id": "2621e100",
   "metadata": {},
   "source": [
    "#### working with other datatypes"
   ]
  },
  {
   "cell_type": "code",
   "execution_count": 70,
   "id": "a34e50ca",
   "metadata": {
    "ExecuteTime": {
     "end_time": "2023-02-23T16:29:30.643143Z",
     "start_time": "2023-02-23T16:29:30.615462Z"
    }
   },
   "outputs": [
    {
     "ename": "TypeError",
     "evalue": "write() argument must be str, not int",
     "output_type": "error",
     "traceback": [
      "\u001b[1;31m---------------------------------------------------------------------------\u001b[0m",
      "\u001b[1;31mTypeError\u001b[0m                                 Traceback (most recent call last)",
      "Cell \u001b[1;32mIn[70], line 2\u001b[0m\n\u001b[0;32m      1\u001b[0m \u001b[38;5;28;01mwith\u001b[39;00m \u001b[38;5;28mopen\u001b[39m(\u001b[38;5;124m'\u001b[39m\u001b[38;5;124msample1.txt\u001b[39m\u001b[38;5;124m'\u001b[39m,\u001b[38;5;124m'\u001b[39m\u001b[38;5;124mw\u001b[39m\u001b[38;5;124m'\u001b[39m) \u001b[38;5;28;01mas\u001b[39;00m f:\n\u001b[1;32m----> 2\u001b[0m     \u001b[43mf\u001b[49m\u001b[38;5;241;43m.\u001b[39;49m\u001b[43mwrite\u001b[49m\u001b[43m(\u001b[49m\u001b[38;5;241;43m6\u001b[39;49m\u001b[43m)\u001b[49m\n",
      "\u001b[1;31mTypeError\u001b[0m: write() argument must be str, not int"
     ]
    }
   ],
   "source": [
    "with open('sample1.txt','w') as f:\n",
    "    f.write(6)\n",
    "    \n",
    "# will throw error as 5 is an integer"
   ]
  },
  {
   "cell_type": "code",
   "execution_count": 71,
   "id": "fb754db0",
   "metadata": {
    "ExecuteTime": {
     "end_time": "2023-02-23T16:30:28.157192Z",
     "start_time": "2023-02-23T16:30:28.152175Z"
    }
   },
   "outputs": [],
   "source": [
    "with open('sample1.txt','w') as f:\n",
    "    f.write('6')"
   ]
  },
  {
   "cell_type": "code",
   "execution_count": 72,
   "id": "a81005d4",
   "metadata": {
    "ExecuteTime": {
     "end_time": "2023-02-23T16:31:32.064668Z",
     "start_time": "2023-02-23T16:31:32.045858Z"
    }
   },
   "outputs": [
    {
     "ename": "TypeError",
     "evalue": "can only concatenate str (not \"int\") to str",
     "output_type": "error",
     "traceback": [
      "\u001b[1;31m---------------------------------------------------------------------------\u001b[0m",
      "\u001b[1;31mTypeError\u001b[0m                                 Traceback (most recent call last)",
      "Cell \u001b[1;32mIn[72], line 2\u001b[0m\n\u001b[0;32m      1\u001b[0m \u001b[38;5;28;01mwith\u001b[39;00m \u001b[38;5;28mopen\u001b[39m(\u001b[38;5;124m'\u001b[39m\u001b[38;5;124msample1.txt\u001b[39m\u001b[38;5;124m'\u001b[39m,\u001b[38;5;124m'\u001b[39m\u001b[38;5;124mr\u001b[39m\u001b[38;5;124m'\u001b[39m) \u001b[38;5;28;01mas\u001b[39;00m f:\n\u001b[1;32m----> 2\u001b[0m     \u001b[38;5;28mprint\u001b[39m(\u001b[43mf\u001b[49m\u001b[38;5;241;43m.\u001b[39;49m\u001b[43mread\u001b[49m\u001b[43m(\u001b[49m\u001b[43m)\u001b[49m\u001b[43m \u001b[49m\u001b[38;5;241;43m+\u001b[39;49m\u001b[43m \u001b[49m\u001b[38;5;241;43m5\u001b[39;49m)\n",
      "\u001b[1;31mTypeError\u001b[0m: can only concatenate str (not \"int\") to str"
     ]
    }
   ],
   "source": [
    "with open('sample1.txt','r') as f:\n",
    "    print(f.read() + 5)\n",
    "    \n",
    "# will throw error"
   ]
  },
  {
   "cell_type": "code",
   "execution_count": 75,
   "id": "9a7417c0",
   "metadata": {
    "ExecuteTime": {
     "end_time": "2023-02-23T16:33:03.036151Z",
     "start_time": "2023-02-23T16:33:03.027856Z"
    }
   },
   "outputs": [
    {
     "name": "stdout",
     "output_type": "stream",
     "text": [
      "11\n"
     ]
    }
   ],
   "source": [
    "# converting string to integer\n",
    "\n",
    "with open('sample1.txt','r') as f:\n",
    "    print(int(f.read()) + 5)"
   ]
  },
  {
   "cell_type": "markdown",
   "id": "067bc0b1",
   "metadata": {},
   "source": [
    "### NOTE : while writing anything to a file the datatype shoud be string, it cannot write int,list,dictionary etc in the file"
   ]
  },
  {
   "cell_type": "code",
   "execution_count": 77,
   "id": "7151fe5e",
   "metadata": {
    "ExecuteTime": {
     "end_time": "2023-02-23T16:33:49.104117Z",
     "start_time": "2023-02-23T16:33:49.098855Z"
    }
   },
   "outputs": [
    {
     "data": {
      "text/plain": [
       "{'name': 'nitish', 'age': 33, 'gender': 'male'}"
      ]
     },
     "execution_count": 77,
     "metadata": {},
     "output_type": "execute_result"
    }
   ],
   "source": [
    "d = {\n",
    "    \n",
    "    'name':'nitish',\n",
    "    'age' : 33,\n",
    "    'gender' : 'male'\n",
    "}\n",
    "d"
   ]
  },
  {
   "cell_type": "code",
   "execution_count": 79,
   "id": "e6905913",
   "metadata": {
    "ExecuteTime": {
     "end_time": "2023-02-23T16:34:27.091469Z",
     "start_time": "2023-02-23T16:34:27.065870Z"
    }
   },
   "outputs": [
    {
     "ename": "TypeError",
     "evalue": "write() argument must be str, not dict",
     "output_type": "error",
     "traceback": [
      "\u001b[1;31m---------------------------------------------------------------------------\u001b[0m",
      "\u001b[1;31mTypeError\u001b[0m                                 Traceback (most recent call last)",
      "Cell \u001b[1;32mIn[79], line 2\u001b[0m\n\u001b[0;32m      1\u001b[0m \u001b[38;5;28;01mwith\u001b[39;00m \u001b[38;5;28mopen\u001b[39m(\u001b[38;5;124m'\u001b[39m\u001b[38;5;124msample1.txt\u001b[39m\u001b[38;5;124m'\u001b[39m,\u001b[38;5;124m'\u001b[39m\u001b[38;5;124mw\u001b[39m\u001b[38;5;124m'\u001b[39m) \u001b[38;5;28;01mas\u001b[39;00m f:\n\u001b[1;32m----> 2\u001b[0m     \u001b[43mf\u001b[49m\u001b[38;5;241;43m.\u001b[39;49m\u001b[43mwrite\u001b[49m\u001b[43m(\u001b[49m\u001b[43md\u001b[49m\u001b[43m)\u001b[49m\n\u001b[0;32m      4\u001b[0m     \u001b[38;5;66;03m# will throw error as d is a dictionary not string\u001b[39;00m\n",
      "\u001b[1;31mTypeError\u001b[0m: write() argument must be str, not dict"
     ]
    }
   ],
   "source": [
    "with open('sample1.txt','w') as f:\n",
    "    f.write(d)\n",
    "\n",
    "    # will throw error as d is a dictionary not string"
   ]
  },
  {
   "cell_type": "code",
   "execution_count": 80,
   "id": "973bde9c",
   "metadata": {
    "ExecuteTime": {
     "end_time": "2023-02-23T16:34:45.487029Z",
     "start_time": "2023-02-23T16:34:45.474668Z"
    }
   },
   "outputs": [],
   "source": [
    "# converting d to string\n",
    "\n",
    "with open('sample1.txt','w') as f:\n",
    "    f.write(str(d))"
   ]
  },
  {
   "cell_type": "code",
   "execution_count": 82,
   "id": "f96aeb1a",
   "metadata": {
    "ExecuteTime": {
     "end_time": "2023-02-23T16:35:56.764743Z",
     "start_time": "2023-02-23T16:35:56.755747Z"
    }
   },
   "outputs": [
    {
     "name": "stdout",
     "output_type": "stream",
     "text": [
      "{'name': 'nitish', 'age': 33, 'gender': 'male'}\n"
     ]
    }
   ],
   "source": [
    "with open('sample1.txt','r') as f:\n",
    "    print(f.read())"
   ]
  },
  {
   "cell_type": "code",
   "execution_count": 83,
   "id": "73105383",
   "metadata": {
    "ExecuteTime": {
     "end_time": "2023-02-23T16:36:15.939328Z",
     "start_time": "2023-02-23T16:36:15.923975Z"
    }
   },
   "outputs": [
    {
     "name": "stdout",
     "output_type": "stream",
     "text": [
      "{'name': 'nitish', 'age': 33, 'gender': 'male'}\n",
      "<class 'str'>\n"
     ]
    }
   ],
   "source": [
    "with open('sample1.txt','r') as f:\n",
    "    print(f.read())\n",
    "    print(type(f.read()))"
   ]
  },
  {
   "cell_type": "code",
   "execution_count": 84,
   "id": "e23bfd60",
   "metadata": {
    "ExecuteTime": {
     "end_time": "2023-02-23T16:37:03.858661Z",
     "start_time": "2023-02-23T16:37:03.841397Z"
    }
   },
   "outputs": [
    {
     "ename": "ValueError",
     "evalue": "dictionary update sequence element #0 has length 1; 2 is required",
     "output_type": "error",
     "traceback": [
      "\u001b[1;31m---------------------------------------------------------------------------\u001b[0m",
      "\u001b[1;31mValueError\u001b[0m                                Traceback (most recent call last)",
      "Cell \u001b[1;32mIn[84], line 4\u001b[0m\n\u001b[0;32m      1\u001b[0m \u001b[38;5;66;03m# trying to convert it to dictinoary again to perform some actions:\u001b[39;00m\n\u001b[0;32m      3\u001b[0m \u001b[38;5;28;01mwith\u001b[39;00m \u001b[38;5;28mopen\u001b[39m(\u001b[38;5;124m'\u001b[39m\u001b[38;5;124msample1.txt\u001b[39m\u001b[38;5;124m'\u001b[39m,\u001b[38;5;124m'\u001b[39m\u001b[38;5;124mr\u001b[39m\u001b[38;5;124m'\u001b[39m) \u001b[38;5;28;01mas\u001b[39;00m f:\n\u001b[1;32m----> 4\u001b[0m     \u001b[38;5;28mprint\u001b[39m(\u001b[38;5;28;43mdict\u001b[39;49m\u001b[43m(\u001b[49m\u001b[43mf\u001b[49m\u001b[38;5;241;43m.\u001b[39;49m\u001b[43mread\u001b[49m\u001b[43m(\u001b[49m\u001b[43m)\u001b[49m\u001b[43m)\u001b[49m)\n\u001b[0;32m      5\u001b[0m     \u001b[38;5;28mprint\u001b[39m(\u001b[38;5;28mtype\u001b[39m(f\u001b[38;5;241m.\u001b[39mread()))\n",
      "\u001b[1;31mValueError\u001b[0m: dictionary update sequence element #0 has length 1; 2 is required"
     ]
    }
   ],
   "source": [
    "# trying to convert it to dictinoary again to perform some actions:\n",
    "\n",
    "with open('sample1.txt','r') as f:\n",
    "    print(dict(f.read()))\n",
    "    print(type(f.read()))\n",
    "    \n",
    "# will throw error"
   ]
  },
  {
   "cell_type": "markdown",
   "id": "c0a81d81",
   "metadata": {},
   "source": [
    "### NOTE : we cannot store complex datatypes in a  file using text. While reading we won't get the same dataype."
   ]
  },
  {
   "cell_type": "markdown",
   "id": "da649dbc",
   "metadata": {},
   "source": [
    "___"
   ]
  },
  {
   "cell_type": "markdown",
   "id": "f7e0f4c7",
   "metadata": {},
   "source": [
    "# Serialization and Deserialization"
   ]
  },
  {
   "cell_type": "markdown",
   "id": "6834827b",
   "metadata": {},
   "source": [
    "- **Serialization** - process of converting python data types to JSON format\n",
    "\n",
    "\n",
    "- **Deserialization** - process of converting JSON to python data types\n",
    "\n",
    "#### What is JSON?\n",
    "\n",
    "\n",
    "![image.png](data:image/png;base64,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)"
   ]
  },
  {
   "cell_type": "code",
   "execution_count": 37,
   "id": "4a4733d2",
   "metadata": {
    "ExecuteTime": {
     "end_time": "2024-02-03T14:54:50.353615Z",
     "start_time": "2024-02-03T14:54:50.342614Z"
    }
   },
   "outputs": [],
   "source": [
    "import json"
   ]
  },
  {
   "cell_type": "markdown",
   "id": "b64a0e88",
   "metadata": {},
   "source": [
    "#### writing file:"
   ]
  },
  {
   "cell_type": "code",
   "execution_count": 86,
   "id": "775ae547",
   "metadata": {
    "ExecuteTime": {
     "end_time": "2023-02-23T17:34:28.033117Z",
     "start_time": "2023-02-23T17:34:28.029175Z"
    }
   },
   "outputs": [],
   "source": [
    "L = [1,2,3,4,5]\n",
    "\n",
    "with open('demo.json','w') as f:\n",
    "    json.dump(L,f)                         # json.dump(kya dump karn hai, file handler oject)\n",
    "    "
   ]
  },
  {
   "cell_type": "code",
   "execution_count": 44,
   "id": "32f3272c",
   "metadata": {
    "ExecuteTime": {
     "end_time": "2024-02-03T14:56:07.273312Z",
     "start_time": "2024-02-03T14:56:07.260972Z"
    }
   },
   "outputs": [
    {
     "name": "stdout",
     "output_type": "stream",
     "text": [
      "{'name': 'nitish', 'age': 33, 'gender': 'male'}\n"
     ]
    }
   ],
   "source": [
    "d = {\n",
    "    \n",
    "    'name':'nitish',\n",
    "    'age' : 33,\n",
    "    'gender' : 'male'\n",
    "}\n",
    "\n",
    "print(d)\n",
    "\n",
    "\n",
    "with open('demo.json','w') as f:\n",
    "    json.dump(d,f)"
   ]
  },
  {
   "cell_type": "code",
   "execution_count": 45,
   "id": "e18529f1",
   "metadata": {
    "ExecuteTime": {
     "end_time": "2024-02-03T14:56:08.623838Z",
     "start_time": "2024-02-03T14:56:08.614776Z"
    }
   },
   "outputs": [
    {
     "name": "stdout",
     "output_type": "stream",
     "text": [
      "{'name': 'nitish', 'age': 33, 'gender': 'male'}\n"
     ]
    }
   ],
   "source": [
    "d = {\n",
    "    \n",
    "    'name':'nitish',\n",
    "    'age' : 33,\n",
    "    'gender' : 'male'\n",
    "}\n",
    "\n",
    "print(d)\n",
    "\n",
    "\n",
    "with open('demo.json','w') as f:\n",
    "    json.dump(d,f,indent=4)"
   ]
  },
  {
   "cell_type": "markdown",
   "id": "2a644a65",
   "metadata": {},
   "source": [
    "### deserialisation : "
   ]
  },
  {
   "cell_type": "markdown",
   "id": "149ce9e0",
   "metadata": {},
   "source": [
    "##### for dictionary"
   ]
  },
  {
   "cell_type": "code",
   "execution_count": 93,
   "id": "10a10fae",
   "metadata": {
    "ExecuteTime": {
     "end_time": "2023-02-23T17:37:52.616957Z",
     "start_time": "2023-02-23T17:37:52.601968Z"
    }
   },
   "outputs": [
    {
     "name": "stdout",
     "output_type": "stream",
     "text": [
      "{'name': 'nitish', 'age': 33, 'gender': 'male'}\n",
      "<class 'dict'>\n"
     ]
    }
   ],
   "source": [
    "with open('demo.json','r') as f:\n",
    "    d = json.load(f)\n",
    "    print(d)\n",
    "    print(type(d)) # datatype is not changing here"
   ]
  },
  {
   "cell_type": "markdown",
   "id": "d262552e",
   "metadata": {},
   "source": [
    "#####  for tuple"
   ]
  },
  {
   "cell_type": "code",
   "execution_count": 53,
   "id": "8f42de3b",
   "metadata": {
    "ExecuteTime": {
     "end_time": "2024-02-03T15:05:13.800023Z",
     "start_time": "2024-02-03T15:05:13.784553Z"
    }
   },
   "outputs": [
    {
     "name": "stdout",
     "output_type": "stream",
     "text": [
      "<_io.TextIOWrapper name='demo1.json' mode='r' encoding='cp1252'>\n"
     ]
    }
   ],
   "source": [
    "t = (1,2,3,4,5)\n",
    "\n",
    "with open('demo1.json','w') as f:\n",
    "    json.dump(t,f)"
   ]
  },
  {
   "cell_type": "markdown",
   "id": "89bd9e72",
   "metadata": {},
   "source": [
    "### NOTE : in deserialisation for tuple, the resultant data type changes to list from tuple."
   ]
  },
  {
   "cell_type": "code",
   "execution_count": 52,
   "id": "ea342b68",
   "metadata": {
    "ExecuteTime": {
     "end_time": "2024-02-03T15:04:48.311630Z",
     "start_time": "2024-02-03T15:04:48.298158Z"
    }
   },
   "outputs": [],
   "source": [
    "# serialize and deserialize a nested dict\n",
    "\n",
    "d = {\n",
    "    'student':'nitish',\n",
    "     'marks':[23,14,34,45,56]\n",
    "}\n",
    "\n",
    "with open('demo2.json','w') as f:\n",
    "    json.dump(d,f)"
   ]
  },
  {
   "cell_type": "markdown",
   "id": "553b6da1",
   "metadata": {},
   "source": [
    "### Serializing and Deserializing custom objects"
   ]
  },
  {
   "cell_type": "code",
   "execution_count": 98,
   "id": "8a47f981",
   "metadata": {
    "ExecuteTime": {
     "end_time": "2023-02-23T17:44:29.367451Z",
     "start_time": "2023-02-23T17:44:29.359196Z"
    }
   },
   "outputs": [],
   "source": [
    "class Person:\n",
    "    \n",
    "    def __init__(self,fname,lname,age,gender):\n",
    "        self.fname = fname\n",
    "        self.lname = lname\n",
    "        self.age = age\n",
    "        self.gender = gender\n",
    "\n",
    "# format to printed in\n",
    "# -> Nitish Singh age -> 33 gender -> male"
   ]
  },
  {
   "cell_type": "code",
   "execution_count": 99,
   "id": "7896527e",
   "metadata": {
    "ExecuteTime": {
     "end_time": "2023-02-23T17:44:49.545212Z",
     "start_time": "2023-02-23T17:44:49.526792Z"
    }
   },
   "outputs": [],
   "source": [
    "person = Person('Nitish','Singh',33,'male')"
   ]
  },
  {
   "cell_type": "code",
   "execution_count": 102,
   "id": "a82fac58",
   "metadata": {
    "ExecuteTime": {
     "end_time": "2023-02-23T17:46:50.099337Z",
     "start_time": "2023-02-23T17:46:50.067435Z"
    }
   },
   "outputs": [
    {
     "ename": "TypeError",
     "evalue": "Object of type Person is not JSON serializable",
     "output_type": "error",
     "traceback": [
      "\u001b[1;31m---------------------------------------------------------------------------\u001b[0m",
      "\u001b[1;31mTypeError\u001b[0m                                 Traceback (most recent call last)",
      "Cell \u001b[1;32mIn[102], line 2\u001b[0m\n\u001b[0;32m      1\u001b[0m \u001b[38;5;28;01mwith\u001b[39;00m \u001b[38;5;28mopen\u001b[39m(\u001b[38;5;124m'\u001b[39m\u001b[38;5;124mdemo4.json\u001b[39m\u001b[38;5;124m'\u001b[39m,\u001b[38;5;124m'\u001b[39m\u001b[38;5;124mw\u001b[39m\u001b[38;5;124m'\u001b[39m) \u001b[38;5;28;01mas\u001b[39;00m f:\n\u001b[1;32m----> 2\u001b[0m     \u001b[43mjson\u001b[49m\u001b[38;5;241;43m.\u001b[39;49m\u001b[43mdump\u001b[49m\u001b[43m(\u001b[49m\u001b[43mperson\u001b[49m\u001b[43m,\u001b[49m\u001b[43m \u001b[49m\u001b[43mf\u001b[49m\u001b[43m)\u001b[49m\n\u001b[0;32m      4\u001b[0m \u001b[38;5;66;03m# will throw error as you need to specify how to want to deserialise your custom objects.\u001b[39;00m\n",
      "File \u001b[1;32mC:\\ProgramData\\Anaconda3\\lib\\json\\__init__.py:179\u001b[0m, in \u001b[0;36mdump\u001b[1;34m(obj, fp, skipkeys, ensure_ascii, check_circular, allow_nan, cls, indent, separators, default, sort_keys, **kw)\u001b[0m\n\u001b[0;32m    173\u001b[0m     iterable \u001b[38;5;241m=\u001b[39m \u001b[38;5;28mcls\u001b[39m(skipkeys\u001b[38;5;241m=\u001b[39mskipkeys, ensure_ascii\u001b[38;5;241m=\u001b[39mensure_ascii,\n\u001b[0;32m    174\u001b[0m         check_circular\u001b[38;5;241m=\u001b[39mcheck_circular, allow_nan\u001b[38;5;241m=\u001b[39mallow_nan, indent\u001b[38;5;241m=\u001b[39mindent,\n\u001b[0;32m    175\u001b[0m         separators\u001b[38;5;241m=\u001b[39mseparators,\n\u001b[0;32m    176\u001b[0m         default\u001b[38;5;241m=\u001b[39mdefault, sort_keys\u001b[38;5;241m=\u001b[39msort_keys, \u001b[38;5;241m*\u001b[39m\u001b[38;5;241m*\u001b[39mkw)\u001b[38;5;241m.\u001b[39miterencode(obj)\n\u001b[0;32m    177\u001b[0m \u001b[38;5;66;03m# could accelerate with writelines in some versions of Python, at\u001b[39;00m\n\u001b[0;32m    178\u001b[0m \u001b[38;5;66;03m# a debuggability cost\u001b[39;00m\n\u001b[1;32m--> 179\u001b[0m \u001b[38;5;28;01mfor\u001b[39;00m chunk \u001b[38;5;129;01min\u001b[39;00m iterable:\n\u001b[0;32m    180\u001b[0m     fp\u001b[38;5;241m.\u001b[39mwrite(chunk)\n",
      "File \u001b[1;32mC:\\ProgramData\\Anaconda3\\lib\\json\\encoder.py:438\u001b[0m, in \u001b[0;36m_make_iterencode.<locals>._iterencode\u001b[1;34m(o, _current_indent_level)\u001b[0m\n\u001b[0;32m    436\u001b[0m         \u001b[38;5;28;01mraise\u001b[39;00m \u001b[38;5;167;01mValueError\u001b[39;00m(\u001b[38;5;124m\"\u001b[39m\u001b[38;5;124mCircular reference detected\u001b[39m\u001b[38;5;124m\"\u001b[39m)\n\u001b[0;32m    437\u001b[0m     markers[markerid] \u001b[38;5;241m=\u001b[39m o\n\u001b[1;32m--> 438\u001b[0m o \u001b[38;5;241m=\u001b[39m \u001b[43m_default\u001b[49m\u001b[43m(\u001b[49m\u001b[43mo\u001b[49m\u001b[43m)\u001b[49m\n\u001b[0;32m    439\u001b[0m \u001b[38;5;28;01myield from\u001b[39;00m _iterencode(o, _current_indent_level)\n\u001b[0;32m    440\u001b[0m \u001b[38;5;28;01mif\u001b[39;00m markers \u001b[38;5;129;01mis\u001b[39;00m \u001b[38;5;129;01mnot\u001b[39;00m \u001b[38;5;28;01mNone\u001b[39;00m:\n",
      "File \u001b[1;32mC:\\ProgramData\\Anaconda3\\lib\\json\\encoder.py:179\u001b[0m, in \u001b[0;36mJSONEncoder.default\u001b[1;34m(self, o)\u001b[0m\n\u001b[0;32m    160\u001b[0m \u001b[38;5;28;01mdef\u001b[39;00m \u001b[38;5;21mdefault\u001b[39m(\u001b[38;5;28mself\u001b[39m, o):\n\u001b[0;32m    161\u001b[0m     \u001b[38;5;124;03m\"\"\"Implement this method in a subclass such that it returns\u001b[39;00m\n\u001b[0;32m    162\u001b[0m \u001b[38;5;124;03m    a serializable object for ``o``, or calls the base implementation\u001b[39;00m\n\u001b[0;32m    163\u001b[0m \u001b[38;5;124;03m    (to raise a ``TypeError``).\u001b[39;00m\n\u001b[1;32m   (...)\u001b[0m\n\u001b[0;32m    177\u001b[0m \n\u001b[0;32m    178\u001b[0m \u001b[38;5;124;03m    \"\"\"\u001b[39;00m\n\u001b[1;32m--> 179\u001b[0m     \u001b[38;5;28;01mraise\u001b[39;00m \u001b[38;5;167;01mTypeError\u001b[39;00m(\u001b[38;5;124mf\u001b[39m\u001b[38;5;124m'\u001b[39m\u001b[38;5;124mObject of type \u001b[39m\u001b[38;5;132;01m{\u001b[39;00mo\u001b[38;5;241m.\u001b[39m\u001b[38;5;18m__class__\u001b[39m\u001b[38;5;241m.\u001b[39m\u001b[38;5;18m__name__\u001b[39m\u001b[38;5;132;01m}\u001b[39;00m\u001b[38;5;124m \u001b[39m\u001b[38;5;124m'\u001b[39m\n\u001b[0;32m    180\u001b[0m                     \u001b[38;5;124mf\u001b[39m\u001b[38;5;124m'\u001b[39m\u001b[38;5;124mis not JSON serializable\u001b[39m\u001b[38;5;124m'\u001b[39m)\n",
      "\u001b[1;31mTypeError\u001b[0m: Object of type Person is not JSON serializable"
     ]
    }
   ],
   "source": [
    "with open('demo4.json','w') as f:\n",
    "    json.dump(person, f)\n",
    "    \n",
    "# will throw error as you need to specify how to want to serialise your custom objects."
   ]
  },
  {
   "cell_type": "markdown",
   "id": "485415ec",
   "metadata": {},
   "source": [
    "#### correct way : "
   ]
  },
  {
   "cell_type": "code",
   "execution_count": 54,
   "id": "a4719673",
   "metadata": {
    "ExecuteTime": {
     "end_time": "2024-02-03T15:46:17.228866Z",
     "start_time": "2024-02-03T15:46:17.217334Z"
    }
   },
   "outputs": [],
   "source": [
    "class Person:\n",
    "    \n",
    "    def __init__(self,fname,lname,age,gender):\n",
    "        self.fname = fname\n",
    "        self.lname = lname\n",
    "        self.age = age\n",
    "        self.gender = gender\n",
    "\n",
    "# format to printed in\n",
    "# -> Nitish Singh age -> 33 gender -> male"
   ]
  },
  {
   "cell_type": "code",
   "execution_count": 55,
   "id": "aacf1444",
   "metadata": {
    "ExecuteTime": {
     "end_time": "2024-02-03T15:46:25.143290Z",
     "start_time": "2024-02-03T15:46:25.131122Z"
    }
   },
   "outputs": [],
   "source": [
    "person = Person('Nitish','Singh',33,'male')"
   ]
  },
  {
   "cell_type": "code",
   "execution_count": 56,
   "id": "acb32782",
   "metadata": {
    "ExecuteTime": {
     "end_time": "2024-02-03T15:46:28.012897Z",
     "start_time": "2024-02-03T15:46:28.000462Z"
    }
   },
   "outputs": [],
   "source": [
    "# As a string\n",
    "import json\n",
    "\n",
    "def show_object(person): # aisa dikhega\n",
    "    if isinstance(person,Person):\n",
    "        return \"{} {} age -> {} gender -> {}\".format(person.fname,person.lname,person.age,person.gender)\n",
    "\n",
    "with open('demo4.json','w') as f:\n",
    "    json.dump(person,f,default=show_object) # parameter to specify"
   ]
  },
  {
   "cell_type": "code",
   "execution_count": 60,
   "id": "cce3cdee",
   "metadata": {
    "ExecuteTime": {
     "end_time": "2024-02-03T15:59:09.197567Z",
     "start_time": "2024-02-03T15:59:09.184048Z"
    }
   },
   "outputs": [
    {
     "name": "stdout",
     "output_type": "stream",
     "text": [
      "\"Nitish Singh age -> 33 gender -> male\"\n"
     ]
    }
   ],
   "source": [
    "with open('demo4.json','r') as f:\n",
    "    print(f.read())"
   ]
  },
  {
   "cell_type": "code",
   "execution_count": 58,
   "id": "da0c67d2",
   "metadata": {
    "ExecuteTime": {
     "end_time": "2024-02-03T15:58:25.395638Z",
     "start_time": "2024-02-03T15:58:25.385637Z"
    }
   },
   "outputs": [],
   "source": [
    "# deserialising As a dict\n",
    "import json\n",
    "\n",
    "def show_object(person):\n",
    "    if isinstance(person,Person):\n",
    "        return {'name':person.fname + ' ' + person.lname,'age':person.age,'gender':person.gender}\n",
    "\n",
    "with open('demo5.json','w') as f:\n",
    "    json.dump(person,f,default=show_object,indent=4)"
   ]
  },
  {
   "cell_type": "code",
   "execution_count": 59,
   "id": "aecfc058",
   "metadata": {
    "ExecuteTime": {
     "end_time": "2024-02-03T15:58:25.803021Z",
     "start_time": "2024-02-03T15:58:25.793058Z"
    }
   },
   "outputs": [
    {
     "name": "stdout",
     "output_type": "stream",
     "text": [
      "{'name': 'Nitish Singh', 'age': 33, 'gender': 'male'}\n",
      "<class 'dict'>\n"
     ]
    }
   ],
   "source": [
    "with open('demo5.json','r') as f:\n",
    "    d = json.load(f)\n",
    "    print(d)\n",
    "    print(type(d))"
   ]
  },
  {
   "cell_type": "markdown",
   "id": "9c3764ef",
   "metadata": {},
   "source": [
    "## Pickling"
   ]
  },
  {
   "cell_type": "markdown",
   "id": "36d47ebb",
   "metadata": {},
   "source": [
    "`Pickling` is the process whereby a Python object hierarchy is converted into a byte stream, and `unpickling` is the inverse operation, whereby a byte stream (from a binary file or bytes-like object) is converted back into an object hierarchy."
   ]
  },
  {
   "cell_type": "code",
   "execution_count": 109,
   "id": "5e1adac5",
   "metadata": {
    "ExecuteTime": {
     "end_time": "2023-02-23T17:54:03.785067Z",
     "start_time": "2023-02-23T17:54:03.769068Z"
    }
   },
   "outputs": [],
   "source": [
    "import pickle"
   ]
  },
  {
   "cell_type": "code",
   "execution_count": 110,
   "id": "fd10612d",
   "metadata": {
    "ExecuteTime": {
     "end_time": "2023-02-23T17:56:20.435954Z",
     "start_time": "2023-02-23T17:56:20.431589Z"
    }
   },
   "outputs": [],
   "source": [
    "class Person:\n",
    "    \n",
    "    \n",
    "    def __init__(self,name,age):\n",
    "        self.name = name\n",
    "        self.age = age\n",
    "\n",
    "    def display_info(self):\n",
    "        print('Hi my name is',self.name,'and I am ',self.age,'years old')"
   ]
  },
  {
   "cell_type": "code",
   "execution_count": 115,
   "id": "13244acf",
   "metadata": {
    "ExecuteTime": {
     "end_time": "2023-02-23T17:57:03.596695Z",
     "start_time": "2023-02-23T17:57:03.585495Z"
    }
   },
   "outputs": [
    {
     "name": "stdout",
     "output_type": "stream",
     "text": [
      "Hi my name is nitish and I am  33 years old\n",
      "None\n"
     ]
    }
   ],
   "source": [
    "p = Person('nitish',33)\n",
    "\n",
    "print(p.display_info())"
   ]
  },
  {
   "cell_type": "markdown",
   "id": "f303b753",
   "metadata": {},
   "source": [
    "### pickle dump"
   ]
  },
  {
   "cell_type": "code",
   "execution_count": 116,
   "id": "db699e41",
   "metadata": {
    "ExecuteTime": {
     "end_time": "2023-02-23T17:57:19.785781Z",
     "start_time": "2023-02-23T17:57:19.766602Z"
    }
   },
   "outputs": [
    {
     "ename": "TypeError",
     "evalue": "write() argument must be str, not bytes",
     "output_type": "error",
     "traceback": [
      "\u001b[1;31m---------------------------------------------------------------------------\u001b[0m",
      "\u001b[1;31mTypeError\u001b[0m                                 Traceback (most recent call last)",
      "Cell \u001b[1;32mIn[116], line 2\u001b[0m\n\u001b[0;32m      1\u001b[0m \u001b[38;5;28;01mwith\u001b[39;00m \u001b[38;5;28mopen\u001b[39m(\u001b[38;5;124m'\u001b[39m\u001b[38;5;124mperson.pkl\u001b[39m\u001b[38;5;124m'\u001b[39m,\u001b[38;5;124m'\u001b[39m\u001b[38;5;124mw\u001b[39m\u001b[38;5;124m'\u001b[39m) \u001b[38;5;28;01mas\u001b[39;00m f:\n\u001b[1;32m----> 2\u001b[0m     \u001b[43mpickle\u001b[49m\u001b[38;5;241;43m.\u001b[39;49m\u001b[43mdump\u001b[49m\u001b[43m(\u001b[49m\u001b[43mp\u001b[49m\u001b[43m,\u001b[49m\u001b[43mf\u001b[49m\u001b[43m)\u001b[49m\n\u001b[0;32m      4\u001b[0m \u001b[38;5;66;03m# will throw error as pickle doesnot have 'w' mode, it has 'wb' mode\u001b[39;00m\n",
      "\u001b[1;31mTypeError\u001b[0m: write() argument must be str, not bytes"
     ]
    }
   ],
   "source": [
    "with open('person.pkl','w') as f:\n",
    "    pickle.dump(p,f)\n",
    "    \n",
    "# will throw error as pickle doesnot have 'w' mode, it has 'wb' mode"
   ]
  },
  {
   "cell_type": "code",
   "execution_count": 117,
   "id": "f854d3b0",
   "metadata": {
    "ExecuteTime": {
     "end_time": "2023-02-23T17:57:26.347303Z",
     "start_time": "2023-02-23T17:57:26.343016Z"
    }
   },
   "outputs": [],
   "source": [
    "with open('person.pkl','wb') as f:\n",
    "    pickle.dump(p,f)"
   ]
  },
  {
   "cell_type": "markdown",
   "id": "a9433aba",
   "metadata": {},
   "source": [
    "###  pickle load"
   ]
  },
  {
   "cell_type": "code",
   "execution_count": 118,
   "id": "877057c3",
   "metadata": {
    "ExecuteTime": {
     "end_time": "2023-02-23T18:00:20.884836Z",
     "start_time": "2023-02-23T18:00:20.866225Z"
    }
   },
   "outputs": [
    {
     "name": "stdout",
     "output_type": "stream",
     "text": [
      "Hi my name is nitish and I am  33 years old\n"
     ]
    }
   ],
   "source": [
    "with open('person.pkl','rb') as f:\n",
    "    p = pickle.load(f)\n",
    "\n",
    "p.display_info()"
   ]
  },
  {
   "cell_type": "markdown",
   "id": "636dd947",
   "metadata": {},
   "source": [
    "### Pickle Vs Json\n",
    "\n",
    "- Pickle lets the user to store data in binary format. JSON lets the user store data in a human-readable text format."
   ]
  },
  {
   "cell_type": "markdown",
   "id": "c2997318",
   "metadata": {},
   "source": [
    "### Alternative is joblib to export model : https://www.youtube.com/watch?v=YyvdWDIpafM"
   ]
  },
  {
   "cell_type": "markdown",
   "id": "ca73ed6c",
   "metadata": {},
   "source": [
    "---\n",
    "---\n",
    "---"
   ]
  },
  {
   "cell_type": "markdown",
   "id": "93a3da14",
   "metadata": {},
   "source": [
    "# Recursion using Python\n",
    "\n",
    "https://www.youtube.com/watch?v=cNvZK0Wyoik"
   ]
  },
  {
   "cell_type": "markdown",
   "id": "872e99da",
   "metadata": {},
   "source": [
    "It is a technique where a function calls itself.\n",
    "\n",
    "\n",
    "we always find base case first. base means jiska result we already know"
   ]
  },
  {
   "cell_type": "markdown",
   "id": "18fadfb0",
   "metadata": {},
   "source": [
    "#### multiplication of 2 number using loops : "
   ]
  },
  {
   "cell_type": "code",
   "execution_count": 121,
   "id": "ebe33817",
   "metadata": {
    "ExecuteTime": {
     "end_time": "2023-02-23T20:03:32.618201Z",
     "start_time": "2023-02-23T20:03:32.606201Z"
    }
   },
   "outputs": [],
   "source": [
    "def multiply(a,b):\n",
    "    \n",
    "    result = 0\n",
    "    \n",
    "    for i in range(b):\n",
    "        result = result + a\n",
    "        \n",
    "    print(result)"
   ]
  },
  {
   "cell_type": "code",
   "execution_count": 122,
   "id": "4ba9b4af",
   "metadata": {
    "ExecuteTime": {
     "end_time": "2023-02-23T20:03:32.977964Z",
     "start_time": "2023-02-23T20:03:32.958978Z"
    }
   },
   "outputs": [
    {
     "name": "stdout",
     "output_type": "stream",
     "text": [
      "20\n"
     ]
    }
   ],
   "source": [
    "multiply(5,4)"
   ]
  },
  {
   "cell_type": "markdown",
   "id": "bd68a0b5",
   "metadata": {},
   "source": [
    "#### multiplication of 2 number using recursion : "
   ]
  },
  {
   "attachments": {
    "image.png": {
     "image/png": "[encoded data removed]"
    }
   },
   "cell_type": "markdown",
   "id": "b2b5561e",
   "metadata": {},
   "source": [
    "![image.png](attachment:image.png)"
   ]
  },
  {
   "cell_type": "markdown",
   "id": "1871edfb",
   "metadata": {},
   "source": [
    "base case is b =1 , a*b =>a\n",
    "\n",
    "when b = 1 product (b*a) will always be = a"
   ]
  },
  {
   "cell_type": "code",
   "execution_count": 123,
   "id": "c124a9d5",
   "metadata": {
    "ExecuteTime": {
     "end_time": "2023-02-23T20:07:01.695948Z",
     "start_time": "2023-02-23T20:07:01.684401Z"
    }
   },
   "outputs": [
    {
     "name": "stdout",
     "output_type": "stream",
     "text": [
      "30\n"
     ]
    }
   ],
   "source": [
    "def mul(a,b):\n",
    "    \n",
    "    if b==1:\n",
    "        return a \n",
    "    else:\n",
    "        return a + mul(a,b-1)\n",
    "    \n",
    "print(mul(5,6))"
   ]
  },
  {
   "cell_type": "markdown",
   "id": "d91ccd76",
   "metadata": {},
   "source": [
    "### It is very close to stacks in data structure i.e last in first out"
   ]
  },
  {
   "cell_type": "markdown",
   "id": "c648e41d",
   "metadata": {},
   "source": [
    "#### factorial using recursion : "
   ]
  },
  {
   "cell_type": "code",
   "execution_count": 125,
   "id": "ecd508b5",
   "metadata": {
    "ExecuteTime": {
     "end_time": "2023-02-23T20:10:52.392825Z",
     "start_time": "2023-02-23T20:10:52.379843Z"
    }
   },
   "outputs": [
    {
     "name": "stdout",
     "output_type": "stream",
     "text": [
      "120\n"
     ]
    }
   ],
   "source": [
    "# base case is 1!=1\n",
    "\n",
    "def fact(num):\n",
    "    if num ==1:\n",
    "        return 1\n",
    "    else:\n",
    "        # 5 = 5*4!\n",
    "        return num*fact(num-1)\n",
    "    \n",
    "print(fact(5))"
   ]
  },
  {
   "cell_type": "markdown",
   "id": "9818d0ec",
   "metadata": {},
   "source": [
    "#### palindrome or not"
   ]
  },
  {
   "attachments": {
    "palindrome.png": {
     "image/png": "[encoded data removed]"
    }
   },
   "cell_type": "markdown",
   "id": "0505701f",
   "metadata": {},
   "source": [
    "![palindrome.png](attachment:palindrome.png)\n"
   ]
  },
  {
   "cell_type": "code",
   "execution_count": 136,
   "id": "51b9854e",
   "metadata": {
    "ExecuteTime": {
     "end_time": "2023-02-23T20:16:13.655059Z",
     "start_time": "2023-02-23T20:16:13.639433Z"
    }
   },
   "outputs": [],
   "source": [
    "# any string having 1 character is a palindrome\n",
    "# base case, if len(s)==1, retunr palindrome\n",
    "\n",
    "def palin(text):\n",
    "    if len(text) <=1:\n",
    "        print(\"palindrome\")\n",
    "        \n",
    "    else:\n",
    "        if text[0] == text[-1]:\n",
    "            palin(text[1:-1])\n",
    "        else:\n",
    "            print('not a palindrome')"
   ]
  },
  {
   "cell_type": "code",
   "execution_count": 137,
   "id": "f952636e",
   "metadata": {
    "ExecuteTime": {
     "end_time": "2023-02-23T20:16:13.934137Z",
     "start_time": "2023-02-23T20:16:13.916141Z"
    }
   },
   "outputs": [
    {
     "name": "stdout",
     "output_type": "stream",
     "text": [
      "palindrome\n"
     ]
    }
   ],
   "source": [
    "palin('malayalam')"
   ]
  },
  {
   "cell_type": "code",
   "execution_count": 138,
   "id": "07bb20e5",
   "metadata": {
    "ExecuteTime": {
     "end_time": "2023-02-23T20:16:14.136096Z",
     "start_time": "2023-02-23T20:16:14.125973Z"
    }
   },
   "outputs": [
    {
     "name": "stdout",
     "output_type": "stream",
     "text": [
      "palindrome\n"
     ]
    }
   ],
   "source": [
    "palin('madam')"
   ]
  },
  {
   "cell_type": "code",
   "execution_count": 139,
   "id": "2ffa64f3",
   "metadata": {
    "ExecuteTime": {
     "end_time": "2023-02-23T20:16:14.386415Z",
     "start_time": "2023-02-23T20:16:14.375358Z"
    }
   },
   "outputs": [
    {
     "name": "stdout",
     "output_type": "stream",
     "text": [
      "not a palindrome\n"
     ]
    }
   ],
   "source": [
    "palin('python')"
   ]
  },
  {
   "cell_type": "code",
   "execution_count": 140,
   "id": "e16da891",
   "metadata": {
    "ExecuteTime": {
     "end_time": "2023-02-23T20:16:14.650749Z",
     "start_time": "2023-02-23T20:16:14.641243Z"
    }
   },
   "outputs": [
    {
     "name": "stdout",
     "output_type": "stream",
     "text": [
      "palindrome\n"
     ]
    }
   ],
   "source": [
    "# but fails here\n",
    "palin('poop')"
   ]
  },
  {
   "cell_type": "markdown",
   "id": "b3963f9d",
   "metadata": {},
   "source": [
    "### Rabbit problem\n",
    "It was about how fast rabbits could breed in ideal circumstances.\n",
    "\n",
    "Suppose a newly-born pair of rabbits, one male, one female, are put in a field. \n",
    "\n",
    "Rabbits are able to mate at the age of one month so that at the end of its second month a female can produce another pair of rabbits. \n",
    "\n",
    "Suppose that our rabbits never die and that the female always produces one new pair (one male, one female) every month from the second month on.\n",
    "\n",
    "\n",
    "__How many pairs will there be in one year?__"
   ]
  },
  {
   "cell_type": "code",
   "execution_count": 147,
   "id": "8c39c265",
   "metadata": {
    "ExecuteTime": {
     "end_time": "2023-02-23T20:24:39.801068Z",
     "start_time": "2023-02-23T20:24:39.795041Z"
    }
   },
   "outputs": [
    {
     "name": "stdout",
     "output_type": "stream",
     "text": [
      "pair of rabbits after 12 months = 233\n",
      "0.0009875297546386719\n"
     ]
    }
   ],
   "source": [
    "import time\n",
    "\n",
    "def fib(m):\n",
    "    if m==0 or m==1:\n",
    "        return 1\n",
    "    else:\n",
    "        return fib(m-1) + fib(m-2)\n",
    "start = time.time()    \n",
    "print(f'pair of rabbits after 12 months = {fib(12)}')\n",
    "\n",
    "print(time.time()-start)"
   ]
  },
  {
   "cell_type": "code",
   "execution_count": 154,
   "id": "08a2cb93",
   "metadata": {
    "ExecuteTime": {
     "end_time": "2023-02-23T20:33:47.417362Z",
     "start_time": "2023-02-23T20:33:39.429857Z"
    }
   },
   "outputs": [
    {
     "name": "stdout",
     "output_type": "stream",
     "text": [
      "pair of rabbits after 36 months = 24157817\n",
      "time taken 7.96854043006897\n"
     ]
    }
   ],
   "source": [
    "import time\n",
    "\n",
    "def fib(m):\n",
    "    if m==0 or m==1:\n",
    "        return 1\n",
    "    else:\n",
    "        return fib(m-1) + fib(m-2)\n",
    "start = time.time()    \n",
    "\n",
    "\n",
    "print(f'pair of rabbits after 36 months = {fib(36)}')\n",
    "print('time taken', time.time()-start)"
   ]
  },
  {
   "attachments": {
    "fib2222.png": {
     "image/png": "[encoded data removed]"
    }
   },
   "cell_type": "markdown",
   "id": "32c91c93",
   "metadata": {},
   "source": [
    "![fib2222.png](attachment:fib2222.png)"
   ]
  },
  {
   "cell_type": "markdown",
   "id": "0b3cf2ee",
   "metadata": {},
   "source": [
    "__code is ineeficient as time complexity is way too high (2^n)__\n",
    "\n",
    "eg : for calulation fibonacci of 5 we are calulating fibonacci of 4 then fibonacci of 3 then fibonacci of 2. That's why it is taking time.\n",
    "\n",
    "### to reduce time:\n",
    "__it can be made faster if we store the fibonacci values of previous number somewhere__\n",
    "\n",
    "## This is called Memorisation"
   ]
  },
  {
   "cell_type": "code",
   "execution_count": 155,
   "id": "0a68a6a0",
   "metadata": {
    "ExecuteTime": {
     "end_time": "2023-02-23T20:33:49.321349Z",
     "start_time": "2023-02-23T20:33:49.299301Z"
    }
   },
   "outputs": [
    {
     "name": "stdout",
     "output_type": "stream",
     "text": [
      "24157817\n",
      "time taken 0.0\n"
     ]
    }
   ],
   "source": [
    "# using dynamic programming\n",
    "import time\n",
    "\n",
    "def memo(m,dictionary):\n",
    "    \n",
    "    if m in dictionary:\n",
    "        return dictionary[m]\n",
    "    else:\n",
    "        dictionary[m] = memo(m-1,dictionary) + memo(m-2,dictionary)\n",
    "        \n",
    "        return dictionary[m]\n",
    "\n",
    "dictionary = {0:1,1:1}\n",
    "\n",
    "start = time.time()   \n",
    "\n",
    "print(memo(36,dictionary))\n",
    "\n",
    "print('time taken',time.time()-start)"
   ]
  },
  {
   "cell_type": "code",
   "execution_count": 158,
   "id": "47a4ef1b",
   "metadata": {
    "ExecuteTime": {
     "end_time": "2023-02-23T20:34:24.415571Z",
     "start_time": "2023-02-23T20:34:24.395574Z"
    }
   },
   "outputs": [
    {
     "name": "stdout",
     "output_type": "stream",
     "text": [
      "573147844013817084101\n"
     ]
    }
   ],
   "source": [
    "print(memo(100,dictionary))"
   ]
  },
  {
   "cell_type": "code",
   "execution_count": 159,
   "id": "a4288c5a",
   "metadata": {
    "ExecuteTime": {
     "end_time": "2023-02-23T20:34:31.828097Z",
     "start_time": "2023-02-23T20:34:31.812097Z"
    }
   },
   "outputs": [
    {
     "name": "stdout",
     "output_type": "stream",
     "text": [
      "{0: 1, 1: 1, 2: 2, 3: 3, 4: 5, 5: 8, 6: 13, 7: 21, 8: 34, 9: 55, 10: 89, 11: 144, 12: 233, 13: 377, 14: 610, 15: 987, 16: 1597, 17: 2584, 18: 4181, 19: 6765, 20: 10946, 21: 17711, 22: 28657, 23: 46368, 24: 75025, 25: 121393, 26: 196418, 27: 317811, 28: 514229, 29: 832040, 30: 1346269, 31: 2178309, 32: 3524578, 33: 5702887, 34: 9227465, 35: 14930352, 36: 24157817, 37: 39088169, 38: 63245986, 39: 102334155, 40: 165580141, 41: 267914296, 42: 433494437, 43: 701408733, 44: 1134903170, 45: 1836311903, 46: 2971215073, 47: 4807526976, 48: 7778742049, 49: 12586269025, 50: 20365011074, 51: 32951280099, 52: 53316291173, 53: 86267571272, 54: 139583862445, 55: 225851433717, 56: 365435296162, 57: 591286729879, 58: 956722026041, 59: 1548008755920, 60: 2504730781961, 61: 4052739537881, 62: 6557470319842, 63: 10610209857723, 64: 17167680177565, 65: 27777890035288, 66: 44945570212853, 67: 72723460248141, 68: 117669030460994, 69: 190392490709135, 70: 308061521170129, 71: 498454011879264, 72: 806515533049393, 73: 1304969544928657, 74: 2111485077978050, 75: 3416454622906707, 76: 5527939700884757, 77: 8944394323791464, 78: 14472334024676221, 79: 23416728348467685, 80: 37889062373143906, 81: 61305790721611591, 82: 99194853094755497, 83: 160500643816367088, 84: 259695496911122585, 85: 420196140727489673, 86: 679891637638612258, 87: 1100087778366101931, 88: 1779979416004714189, 89: 2880067194370816120, 90: 4660046610375530309, 91: 7540113804746346429, 92: 12200160415121876738, 93: 19740274219868223167, 94: 31940434634990099905, 95: 51680708854858323072, 96: 83621143489848422977, 97: 135301852344706746049, 98: 218922995834555169026, 99: 354224848179261915075, 100: 573147844013817084101, 101: 927372692193078999176, 102: 1500520536206896083277, 103: 2427893228399975082453, 104: 3928413764606871165730, 105: 6356306993006846248183, 106: 10284720757613717413913, 107: 16641027750620563662096, 108: 26925748508234281076009, 109: 43566776258854844738105, 110: 70492524767089125814114, 111: 114059301025943970552219, 112: 184551825793033096366333, 113: 298611126818977066918552, 114: 483162952612010163284885, 115: 781774079430987230203437, 116: 1264937032042997393488322, 117: 2046711111473984623691759, 118: 3311648143516982017180081, 119: 5358359254990966640871840, 120: 8670007398507948658051921, 121: 14028366653498915298923761, 122: 22698374052006863956975682, 123: 36726740705505779255899443, 124: 59425114757512643212875125, 125: 96151855463018422468774568, 126: 155576970220531065681649693, 127: 251728825683549488150424261, 128: 407305795904080553832073954, 129: 659034621587630041982498215, 130: 1066340417491710595814572169, 131: 1725375039079340637797070384, 132: 2791715456571051233611642553, 133: 4517090495650391871408712937, 134: 7308805952221443105020355490, 135: 11825896447871834976429068427, 136: 19134702400093278081449423917, 137: 30960598847965113057878492344, 138: 50095301248058391139327916261, 139: 81055900096023504197206408605, 140: 131151201344081895336534324866, 141: 212207101440105399533740733471, 142: 343358302784187294870275058337, 143: 555565404224292694404015791808, 144: 898923707008479989274290850145, 145: 1454489111232772683678306641953, 146: 2353412818241252672952597492098, 147: 3807901929474025356630904134051, 148: 6161314747715278029583501626149, 149: 9969216677189303386214405760200, 150: 16130531424904581415797907386349, 151: 26099748102093884802012313146549, 152: 42230279526998466217810220532898, 153: 68330027629092351019822533679447, 154: 110560307156090817237632754212345, 155: 178890334785183168257455287891792, 156: 289450641941273985495088042104137, 157: 468340976726457153752543329995929, 158: 757791618667731139247631372100066, 159: 1226132595394188293000174702095995, 160: 1983924214061919432247806074196061, 161: 3210056809456107725247980776292056, 162: 5193981023518027157495786850488117, 163: 8404037832974134882743767626780173, 164: 13598018856492162040239554477268290, 165: 22002056689466296922983322104048463, 166: 35600075545958458963222876581316753, 167: 57602132235424755886206198685365216, 168: 93202207781383214849429075266681969, 169: 150804340016807970735635273952047185, 170: 244006547798191185585064349218729154, 171: 394810887814999156320699623170776339, 172: 638817435613190341905763972389505493, 173: 1033628323428189498226463595560281832, 174: 1672445759041379840132227567949787325, 175: 2706074082469569338358691163510069157, 176: 4378519841510949178490918731459856482, 177: 7084593923980518516849609894969925639, 178: 11463113765491467695340528626429782121, 179: 18547707689471986212190138521399707760, 180: 30010821454963453907530667147829489881, 181: 48558529144435440119720805669229197641, 182: 78569350599398894027251472817058687522, 183: 127127879743834334146972278486287885163, 184: 205697230343233228174223751303346572685, 185: 332825110087067562321196029789634457848, 186: 538522340430300790495419781092981030533, 187: 871347450517368352816615810882615488381, 188: 1409869790947669143312035591975596518914, 189: 2281217241465037496128651402858212007295, 190: 3691087032412706639440686994833808526209, 191: 5972304273877744135569338397692020533504, 192: 9663391306290450775010025392525829059713, 193: 15635695580168194910579363790217849593217, 194: 25299086886458645685589389182743678652930, 195: 40934782466626840596168752972961528246147, 196: 66233869353085486281758142155705206899077, 197: 107168651819712326877926895128666735145224, 198: 173402521172797813159685037284371942044301, 199: 280571172992510140037611932413038677189525, 200: 453973694165307953197296969697410619233826, 201: 734544867157818093234908902110449296423351, 202: 1188518561323126046432205871807859915657177, 203: 1923063428480944139667114773918309212080528, 204: 3111581989804070186099320645726169127737705, 205: 5034645418285014325766435419644478339818233, 206: 8146227408089084511865756065370647467555938, 207: 13180872826374098837632191485015125807374171, 208: 21327100234463183349497947550385773274930109, 209: 34507973060837282187130139035400899082304280, 210: 55835073295300465536628086585786672357234389, 211: 90343046356137747723758225621187571439538669, 212: 146178119651438213260386312206974243796773058, 213: 236521166007575960984144537828161815236311727, 214: 382699285659014174244530850035136059033084785, 215: 619220451666590135228675387863297874269396512, 216: 1001919737325604309473206237898433933302481297, 217: 1621140188992194444701881625761731807571877809, 218: 2623059926317798754175087863660165740874359106, 219: 4244200115309993198876969489421897548446236915, 220: 6867260041627791953052057353082063289320596021, 221: 11111460156937785151929026842503960837766832936, 222: 17978720198565577104981084195586024127087428957, 223: 29090180355503362256910111038089984964854261893, 224: 47068900554068939361891195233676009091941690850, 225: 76159080909572301618801306271765994056795952743, 226: 123227981463641240980692501505442003148737643593, 227: 199387062373213542599493807777207997205533596336, 228: 322615043836854783580186309282650000354271239929, 229: 522002106210068326179680117059857997559804836265, 230: 844617150046923109759866426342507997914076076194, 231: 1366619256256991435939546543402365995473880912459, 232: 2211236406303914545699412969744873993387956988653, 233: 3577855662560905981638959513147239988861837901112, 234: 5789092068864820527338372482892113982249794889765, 235: 9366947731425726508977331996039353971111632790877, 236: 15156039800290547036315704478931467953361427680642, 237: 24522987531716273545293036474970821924473060471519, 238: 39679027332006820581608740953902289877834488152161, 239: 64202014863723094126901777428873111802307548623680, 240: 103881042195729914708510518382775401680142036775841, 241: 168083057059453008835412295811648513482449585399521, 242: 271964099255182923543922814194423915162591622175362, 243: 440047156314635932379335110006072428645041207574883, 244: 712011255569818855923257924200496343807632829750245, 245: 1152058411884454788302593034206568772452674037325128, 246: 1864069667454273644225850958407065116260306867075373, 247: 3016128079338728432528443992613633888712980904400501, 248: 4880197746793002076754294951020699004973287771475874, 249: 7896325826131730509282738943634332893686268675876375, 250: 12776523572924732586037033894655031898659556447352249, 251: 20672849399056463095319772838289364792345825123228624, 252: 33449372971981195681356806732944396691005381570580873, 253: 54122222371037658776676579571233761483351206693809497, 254: 87571595343018854458033386304178158174356588264390370, 255: 141693817714056513234709965875411919657707794958199867, 256: 229265413057075367692743352179590077832064383222590237, 257: 370959230771131880927453318055001997489772178180790104, 258: 600224643828207248620196670234592075321836561403380341, 259: 971183874599339129547649988289594072811608739584170445, 260: 1571408518427546378167846658524186148133445300987550786, 261: 2542592393026885507715496646813780220945054040571721231, 262: 4114000911454431885883343305337966369078499341559272017, 263: 6656593304481317393598839952151746590023553382130993248, 264: 10770594215935749279482183257489712959102052723690265265, 265: 17427187520417066673081023209641459549125606105821258513, 266: 28197781736352815952563206467131172508227658829511523778, 267: 45624969256769882625644229676772632057353264935332782291, 268: 73822750993122698578207436143903804565580923764844306069, 269: 119447720249892581203851665820676436622934188700177088360, 270: 193270471243015279782059101964580241188515112465021394429, 271: 312718191492907860985910767785256677811449301165198482789, 272: 505988662735923140767969869749836918999964413630219877218, 273: 818706854228831001753880637535093596811413714795418360007, 274: 1324695516964754142521850507284930515811378128425638237225, 275: 2143402371193585144275731144820024112622791843221056597232, 276: 3468097888158339286797581652104954628434169971646694834457, 277: 5611500259351924431073312796924978741056961814867751431689, 278: 9079598147510263717870894449029933369491131786514446266146, 279: 14691098406862188148944207245954912110548093601382197697835, 280: 23770696554372451866815101694984845480039225387896643963981, 281: 38461794961234640015759308940939757590587318989278841661816, 282: 62232491515607091882574410635924603070626544377175485625797, 283: 100694286476841731898333719576864360661213863366454327287613, 284: 162926777992448823780908130212788963731840407743629812913410, 285: 263621064469290555679241849789653324393054271110084140201023, 286: 426547842461739379460149980002442288124894678853713953114433, 287: 690168906931029935139391829792095612517948949963798093315456, 288: 1116716749392769314599541809794537900642843628817512046429889, 289: 1806885656323799249738933639586633513160792578781310139745345, 290: 2923602405716568564338475449381171413803636207598822186175234, 291: 4730488062040367814077409088967804926964428786380132325920579, 292: 7654090467756936378415884538348976340768064993978954512095813, 293: 12384578529797304192493293627316781267732493780359086838016392, 294: 20038668997554240570909178165665757608500558774338041350112205, 295: 32423247527351544763402471792982538876233052554697128188128597, 296: 52461916524905785334311649958648296484733611329035169538240802, 297: 84885164052257330097714121751630835360966663883732297726369399, 298: 137347080577163115432025771710279131845700275212767467264610201, 299: 222232244629420445529739893461909967206666939096499764990979600, 300: 359579325206583560961765665172189099052367214309267232255589801, 301: 581811569836004006491505558634099066259034153405766997246569401, 302: 941390895042587567453271223806288165311401367715034229502159202, 303: 1523202464878591573944776782440387231570435521120801226748728603, 304: 2464593359921179141398048006246675396881836888835835456250887805, 305: 3987795824799770715342824788687062628452272409956636682999616408, 306: 6452389184720949856740872794933738025334109298792472139250504213, 307: 10440185009520720572083697583620800653786381708749108822250120621, 308: 16892574194241670428824570378554538679120491007541580961500624834, 309: 27332759203762391000908267962175339332906872716290689783750745455, 310: 44225333398004061429732838340729878012027363723832270745251370289, 311: 71558092601766452430641106302905217344934236440122960529002115744, 312: 115783425999770513860373944643635095356961600163955231274253486033, 313: 187341518601536966291015050946540312701895836604078191803255601777, 314: 303124944601307480151388995590175408058857436768033423077509087810, 315: 490466463202844446442404046536715720760753273372111614880764689587, 316: 793591407804151926593793042126891128819610710140145037958273777397, 317: 1284057871006996373036197088663606849580363983512256652839038466984, 318: 2077649278811148299629990130790497978399974693652401690797312244381, 319: 3361707149818144672666187219454104827980338677164658343636350711365, 320: 5439356428629292972296177350244602806380313370817060034433662955746, 321: 8801063578447437644962364569698707634360652047981718378070013667111, 322: 14240420007076730617258541919943310440740965418798778412503676622857, 323: 23041483585524168262220906489642018075101617466780496790573690289968, 324: 37281903592600898879479448409585328515842582885579275203077366912825, 325: 60323387178125067141700354899227346590944200352359771993651057202793, 326: 97605290770725966021179803308812675106786783237939047196728424115618, 327: 157928677948851033162880158208040021697730983590298819190379481318411, 328: 255533968719576999184059961516852696804517766828237866387107905434029, 329: 413462646668428032346940119724892718502248750418536685577487386752440, 330: 668996615388005031531000081241745415306766517246774551964595292186469, 331: 1082459262056433063877940200966638133809015267665311237542082678938909, 332: 1751455877444438095408940282208383549115781784912085789506677971125378, 333: 2833915139500871159286880483175021682924797052577397027048760650064287, 334: 4585371016945309254695820765383405232040578837489482816555438621189665, 335: 7419286156446180413982701248558426914965375890066879843604199271253952, 336: 12004657173391489668678522013941832147005954727556362660159637892443617, 337: 19423943329837670082661223262500259061971330617623242503763837163697569, 338: 31428600503229159751339745276442091208977285345179605163923475056141186, 339: 50852543833066829834000968538942350270948615962802847667687312219838755, 340: 82281144336295989585340713815384441479925901307982452831610787275979941, 341: 133133688169362819419341682354326791750874517270785300499298099495818696, 342: 215414832505658809004682396169711233230800418578767753330908886771798637, 343: 348548520675021628424024078524038024981674935849553053830206986267617333, 344: 563963353180680437428706474693749258212475354428320807161115873039415970, 345: 912511873855702065852730553217787283194150290277873860991322859307033303, 346: 1476475227036382503281437027911536541406625644706194668152438732346449273, 347: 2388987100892084569134167581129323824600775934984068529143761591653482576, 348: 3865462327928467072415604609040860366007401579690263197296200323999931849, 349: 6254449428820551641549772190170184190608177514674331726439961915653414425, 350: 10119911756749018713965376799211044556615579094364594923736162239653346274, 351: 16374361185569570355515148989381228747223756609038926650176124155306760699, 352: 26494272942318589069480525788592273303839335703403521573912286394960106973, 353: 42868634127888159424995674777973502051063092312442448224088410550266867672, 354: 69362907070206748494476200566565775354902428015845969798000696945226974645, 355: 112231541198094907919471875344539277405965520328288418022089107495493842317, 356: 181594448268301656413948075911105052760867948344134387820089804440720816962, 357: 293825989466396564333419951255644330166833468672422805842178911936214659279, 358: 475420437734698220747368027166749382927701417016557193662268716376935476241, 359: 769246427201094785080787978422393713094534885688979999504447628313150135520, 360: 1244666864935793005828156005589143096022236302705537193166716344690085611761, 361: 2013913292136887790908943984011536809116771188394517192671163973003235747281, 362: 3258580157072680796737099989600679905139007491100054385837880317693321359042, 363: 5272493449209568587646043973612216714255778679494571578509044290696557106323, 364: 8531073606282249384383143963212896619394786170594625964346924608389878465365, 365: 13803567055491817972029187936825113333650564850089197542855968899086435571688, 366: 22334640661774067356412331900038009953045351020683823507202893507476314037053, 367: 36138207717265885328441519836863123286695915870773021050058862406562749608741, 368: 58472848379039952684853851736901133239741266891456844557261755914039063645794, 369: 94611056096305838013295371573764256526437182762229865607320618320601813254535, 370: 153083904475345790698149223310665389766178449653686710164582374234640876900329, 371: 247694960571651628711444594884429646292615632415916575771902992555242690154864, 372: 400778865046997419409593818195095036058794082069603285936485366789883567055193, 373: 648473825618649048121038413079524682351409714485519861708388359345126257210057, 374: 1049252690665646467530632231274619718410203796555123147644873726135009824265250, 375: 1697726516284295515651670644354144400761613511040643009353262085480136081475307, 376: 2746979206949941983182302875628764119171817307595766156998135811615145905740557, 377: 4444705723234237498833973519982908519933430818636409166351397897095281987215864, 378: 7191684930184179482016276395611672639105248126232175323349533708710427892956421, 379: 11636390653418416980850249915594581159038678944868584489700931605805709880172285, 380: 18828075583602596462866526311206253798143927071100759813050465314516137773128706, 381: 30464466237021013443716776226800834957182606015969344302751396920321847653300991, 382: 49292541820623609906583302538007088755326533087070104115801862234837985426429697, 383: 79757008057644623350300078764807923712509139103039448418553259155159833079730688, 384: 129049549878268233256883381302815012467835672190109552534355121389997818506160385, 385: 208806557935912856607183460067622936180344811293149000952908380545157651585891073, 386: 337856107814181089864066841370437948648180483483258553487263501935155470092051458, 387: 546662665750093946471250301438060884828525294776407554440171882480313121677942531, 388: 884518773564275036335317142808498833476705778259666107927435384415468591769993989, 389: 1431181439314368982806567444246559718305231073036073662367607266895781713447936520, 390: 2315700212878644019141884587055058551781936851295739770295042651311250305217930509, 391: 3746881652193013001948452031301618270087167924331813432662649918207032018665867029, 392: 6062581865071657021090336618356676821869104775627553202957692569518282323883797538, 393: 9809463517264670023038788649658295091956272699959366635620342487725314342549664567, 394: 15872045382336327044129125268014971913825377475586919838578035057243596666433462105, 395: 25681508899600997067167913917673267005781650175546286474198377544968911008983126672, 396: 41553554281937324111297039185688238919607027651133206312776412602212507675416588777, 397: 67235063181538321178464953103361505925388677826679492786974790147181418684399715449, 398: 108788617463475645289761992289049744844995705477812699099751202749393926359816304226, 399: 176023680645013966468226945392411250770384383304492191886725992896575345044216019675, 400: 284812298108489611757988937681460995615380088782304890986477195645969271404032323901, 401: 460835978753503578226215883073872246385764472086797082873203188542544616448248343576, 402: 745648276861993189984204820755333242001144560869101973859680384188513887852280667477, 403: 1206484255615496768210420703829205488386909032955899056732883572731058504300529011053, 404: 1952132532477489958194625524584538730388053593825001030592563956919572392152809678530, 405: 3158616788092986726405046228413744218774962626780900087325447529650630896453338689583, 406: 5110749320570476684599671752998282949163016220605901117918011486570203288606148368113, 407: 8269366108663463411004717981412027167937978847386801205243459016220834185059487057696, 408: 13380115429233940095604389734410310117100995067992702323161470502791037473665635425809, 409: 21649481537897403506609107715822337285038973915379503528404929519011871658725122483505, 410: 35029596967131343602213497450232647402139968983372205851566400021802909132390757909314, 411: 56679078505028747108822605166054984687178942898751709379971329540814780791115880392819, 412: 91708675472160090711036102616287632089318911882123915231537729562617689923506638302133, 413: 148387753977188837819858707782342616776497854780875624611509059103432470714622518694952, 414: 240096429449348928530894810398630248865816766662999539843046788666050160638129156997085, 415: 388484183426537766350753518180972865642314621443875164454555847769482631352751675692037, 416: 628580612875886694881648328579603114508131388106874704297602636435532791990880832689122, 417: 1017064796302424461232401846760575980150446009550749868752158484205015423343632508381159, 418: 1645645409178311156114050175340179094658577397657624573049761120640548215334513341070281, 419: 2662710205480735617346452022100755074809023407208374441801919604845563638678145849451440, 420: 4308355614659046773460502197440934169467600804865999014851680725486111854012659190521721, 421: 6971065820139782390806954219541689244276624212074373456653600330331675492690805039973161, 422: 11279421434798829164267456416982623413744225016940372471505281055817787346703464230494882, 423: 18250487254938611555074410636524312658020849229014745928158881386149462839394269270468043, 424: 29529908689737440719341867053506936071765074245955118399664162441967250186097733500962925, 425: 47780395944676052274416277690031248729785923474969864327823043828116713025492002771430968, 426: 77310304634413492993758144743538184801550997720924982727487206270083963211589736272393893, 427: 125090700579089545268174422433569433531336921195894847055310250098200676237081739043824861, 428: 202401005213503038261932567177107618332887918916819829782797456368284639448671475316218754, 429: 327491705792592583530106989610677051864224840112714676838107706466485315685753214360043615, 430: 529892711006095621792039556787784670197112759029534506620905162834769955134424689676262369, 431: 857384416798688205322146546398461722061337599142249183459012869301255270820177904036305984, 432: 1387277127804783827114186103186246392258450358171783690079918032136025225954602593712568353, 433: 2244661544603472032436332649584708114319787957314032873538930901437280496774780497748874337, 434: 3631938672408255859550518752770954506578238315485816563618848933573305722729383091461442690, 435: 5876600217011727891986851402355662620898026272799849437157779835010586219504163589210317027, 436: 9508538889419983751537370155126617127476264588285666000776628768583891942233546680671759717, 437: 15385139106431711643524221557482279748374290861085515437934408603594478161737710269882076744, 438: 24893677995851695395061591712608896875850555449371181438711037372178370103971256950553836461, 439: 40278817102283407038585813270091176624224846310456696876645445975772848265708967220435913205, 440: 65172495098135102433647404982700073500075401759827878315356483347951218369680224170989749666, 441: 105451312200418509472233218252791250124300248070284575192001929323724066635389191391425662871, 442: 170623807298553611905880623235491323624375649830112453507358412671675285005069415562415412537, 443: 276075119498972121378113841488282573748675897900397028699360341995399351640458606953841075408, 444: 446698926797525733283994464723773897373051547730509482206718754667074636645528022516256487945, 445: 722774046296497854662108306212056471121727445630906510906079096662473988285986629470097563353, 446: 1169472973094023587946102770935830368494778993361415993112797851329548624931514651986354051298, 447: 1892247019390521442608211077147886839616506438992322504018876947992022613217501281456451614651, 448: 3061719992484545030554313848083717208111285432353738497131674799321571238149015933442805665949, 449: 4953967011875066473162524925231604047727791871346061001150551747313593851366517214899257280600, 450: 8015687004359611503716838773315321255839077303699799498282226546635165089515533148342062946549, 451: 12969654016234677976879363698546925303566869175045860499432778293948758940882050363241320227149, 452: 20985341020594289480596202471862246559405946478745659997715004840583924030397583511583383173698, 453: 33954995036828967457475566170409171862972815653791520497147783134532682971279633874824703400847, 454: 54940336057423256938071768642271418422378762132537180494862787975116607001677217386408086574545, 455: 88895331094252224395547334812680590285351577786328700992010571109649289972956851261232789975392, 456: 143835667151675481333619103454952008707730339918865881486873359084765896974634068647640876549937, 457: 232730998245927705729166438267632598993081917705194582478883930194415186947590919908873666525329, 458: 376566665397603187062785541722584607700812257624060463965757289279181083922224988556514543075266, 459: 609297663643530892791951979990217206693894175329255046444641219473596270869815908465388209600595, 460: 985864329041134079854737521712801814394706432953315510410398508752777354792040897021902752675861, 461: 1595161992684664972646689501703019021088600608282570556855039728226373625661856805487290962276456, 462: 2581026321725799052501427023415820835483307041235886067265438236979150980453897702509193714952317, 463: 4176188314410464025148116525118839856571907649518456624120477965205524606115754507996484677228773, 464: 6757214636136263077649543548534660692055214690754342691385916202184675586569652210505678392181090, 465: 10933402950546727102797660073653500548627122340272799315506394167390200192685406718502163069409863, 466: 17690617586682990180447203622188161240682337031027142006892310369574875779255058929007841461590953, 467: 28624020537229717283244863695841661789309459371299941322398704536965075971940465647510004531000816, 468: 46314638123912707463692067318029823029991796402327083329291014906539951751195524576517845992591769, 469: 74938658661142424746936931013871484819301255773627024651689719443505027723135990224027850523592585, 470: 121253296785055132210628998331901307849293052175954107980980734350044979474331514800545696516184354, 471: 196191955446197556957565929345772792668594307949581132632670453793550007197467505024573547039776939, 472: 317445252231252689168194927677674100517887360125535240613651188143594986671799019825119243555961293, 473: 513637207677450246125760857023446893186481668075116373246321641937144993869266524849692790595738232, 474: 831082459908702935293955784701120993704369028200651613859972830080739980541065544674812034151699525, 475: 1344719667586153181419716641724567886890850696275767987106294472017884974410332069524504824747437757, 476: 2175802127494856116713672426425688880595219724476419600966267302098624954951397614199316858899137282, 477: 3520521795081009298133389068150256767486070420752187588072561774116509929361729683723821683646575039, 478: 5696323922575865414847061494575945648081290145228607189038829076215134884313127297923138542545712321, 479: 9216845717656874712980450562726202415567360565980794777111390850331644813674856981646960226192287360, 480: 14913169640232740127827512057302148063648650711209401966150219926546779697987984279570098768737999681, 481: 24130015357889614840807962620028350479216011277190196743261610776878424511662841261217058994930287041, 482: 39043184998122354968635474677330498542864661988399598709411830703425204209650825540787157763668286722, 483: 63173200356011969809443437297358849022080673265589795452673441480303628721313666802004216758598573763, 484: 102216385354134324778078911974689347564945335253989394162085272183728832930964492342791374522266860485, 485: 165389585710146294587522349272048196587026008519579189614758713664032461652278159144795591280865434248, 486: 267605971064280619365601261246737544151971343773568583776843985847761294583242651487586965803132294733, 487: 432995556774426913953123610518785740738997352293147773391602699511793756235520810632382557083997728981, 488: 700601527838707533318724871765523284890968696066716357168446685359555050818763462119969522887130023714, 489: 1133597084613134447271848482284309025629966048359864130560049384871348807054284272752352079971127752695, 490: 1834198612451841980590573354049832310520934744426580487728496070230903857873047734872321602858257776409, 491: 2967795697064976427862421836334141336150900792786444618288545455102252664927332007624673682829385529104, 492: 4801994309516818408452995190383973646671835537213025106017041525333156522800379742496995285687643305513, 493: 7769790006581794836315417026718114982822736329999469724305586980435409187727711750121668968517028834617, 494: 12571784316098613244768412217102088629494571867212494830322628505768565710528091492618664254204672140130, 495: 20341574322680408081083829243820203612317308197211964554628215486203974898255803242740333222721700974747, 496: 32913358638779021325852241460922292241811880064424459384950843991972540608783894735358997476926373114877, 497: 53254932961459429406936070704742495854129188261636423939579059478176515507039697978099330699648074089624, 498: 86168291600238450732788312165664788095941068326060883324529903470149056115823592713458328176574447204501, 499: 139423224561697880139724382870407283950070256587697307264108962948325571622863290691557658876222521294125, 500: 225591516161936330872512695036072072046011324913758190588638866418474627738686883405015987052796968498626}\n"
     ]
    }
   ],
   "source": [
    "print(dictionary)"
   ]
  },
  {
   "attachments": {
    "poer_set22221.png": {
     "image/png": "[encoded data removed]"
    }
   },
   "cell_type": "markdown",
   "id": "eee21361",
   "metadata": {},
   "source": [
    "### power set :\n",
    "\n",
    "![poer_set22221.png](attachment:poer_set22221.png)"
   ]
  },
  {
   "attachments": {
    "poer_set2222.png": {
     "image/png": "[encoded data removed]"
    }
   },
   "cell_type": "markdown",
   "id": "42e098b2",
   "metadata": {},
   "source": [
    "#### power set solution : \n",
    "\n",
    "![poer_set2222.png](attachment:poer_set2222.png)"
   ]
  },
  {
   "cell_type": "code",
   "execution_count": null,
   "id": "1854c7a2",
   "metadata": {},
   "outputs": [],
   "source": []
  }
 ],
 "metadata": {
  "kernelspec": {
   "display_name": "Python 3 (ipykernel)",
   "language": "python",
   "name": "python3"
  },
  "language_info": {
   "codemirror_mode": {
    "name": "ipython",
    "version": 3
   },
   "file_extension": ".py",
   "mimetype": "text/x-python",
   "name": "python",
   "nbconvert_exporter": "python",
   "pygments_lexer": "ipython3",
   "version": "3.9.13"
  }
 },
 "nbformat": 4,
 "nbformat_minor": 5
}

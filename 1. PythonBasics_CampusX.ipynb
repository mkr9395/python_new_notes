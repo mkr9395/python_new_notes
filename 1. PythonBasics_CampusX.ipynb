{
 "cells": [
  {
   "cell_type": "markdown",
   "id": "f2f4f5ee",
   "metadata": {},
   "source": [
    "# Session 2 : Python basics - While loop"
   ]
  },
  {
   "cell_type": "markdown",
   "id": "03e42294",
   "metadata": {},
   "source": [
    "https://www.youtube.com/watch?v=JCkIrdrZEE8&list=PLKnIA16_RmvbAlyx4_rdtR66B7EHX5k3z&index=3\n",
    "\n",
    "\n",
    "code : https://colab.research.google.com/drive/10jVbuKq2Owsz_hIIrXA9Y09DMLdDt_21?usp=sharing"
   ]
  },
  {
   "cell_type": "markdown",
   "id": "2fee818c",
   "metadata": {},
   "source": [
    "## Operators in Python\n",
    "\n",
    "- Arithmetic Operators\n",
    "- Relational Operators\n",
    "- Logical Operators\n",
    "- Bitwise Operators\n",
    "- Assignment Operators\n",
    "- Membership Operators"
   ]
  },
  {
   "cell_type": "markdown",
   "id": "26e0e460",
   "metadata": {},
   "source": [
    "### Arithmetic Operators"
   ]
  },
  {
   "cell_type": "code",
   "execution_count": 3,
   "id": "99c89a3f",
   "metadata": {
    "ExecuteTime": {
     "end_time": "2024-08-05T10:39:19.748056Z",
     "start_time": "2024-08-05T10:39:19.727496Z"
    }
   },
   "outputs": [
    {
     "name": "stdout",
     "output_type": "stream",
     "text": [
      "23\n",
      "17\n",
      "60\n",
      "20/3 -->  6.666666666666667\n",
      "20//3 -->  6\n",
      "20%3 (remainder) -->  2\n",
      "20**3 -->  8000\n"
     ]
    }
   ],
   "source": [
    "# Arithmetric Operators\n",
    "print(20+3)\n",
    "\n",
    "print(20-3)\n",
    "\n",
    "print(20*3)\n",
    "\n",
    "print('20/3 --> ',20/3)\n",
    "\n",
    "print('20//3 (quotient) --> ',20//3)\n",
    "\n",
    "print('20%3 (remainder) --> ',20%3)\n",
    "\n",
    "print('20**3 --> ',20**3)"
   ]
  },
  {
   "cell_type": "code",
   "execution_count": 1,
   "id": "dea326af",
   "metadata": {
    "ExecuteTime": {
     "end_time": "2024-10-23T15:18:32.750782Z",
     "start_time": "2024-10-23T15:18:32.726654Z"
    }
   },
   "outputs": [
    {
     "data": {
      "text/plain": [
       "6.666666666666667"
      ]
     },
     "execution_count": 1,
     "metadata": {},
     "output_type": "execute_result"
    }
   ],
   "source": [
    "20/3"
   ]
  },
  {
   "cell_type": "code",
   "execution_count": 2,
   "id": "fafe4ff9",
   "metadata": {
    "ExecuteTime": {
     "end_time": "2024-10-23T15:18:41.741821Z",
     "start_time": "2024-10-23T15:18:41.733295Z"
    }
   },
   "outputs": [
    {
     "data": {
      "text/plain": [
       "6"
      ]
     },
     "execution_count": 2,
     "metadata": {},
     "output_type": "execute_result"
    }
   ],
   "source": [
    "20//3"
   ]
  },
  {
   "cell_type": "code",
   "execution_count": 3,
   "id": "ec8ae3f4",
   "metadata": {
    "ExecuteTime": {
     "end_time": "2024-10-23T15:19:00.071305Z",
     "start_time": "2024-10-23T15:19:00.057792Z"
    }
   },
   "outputs": [
    {
     "data": {
      "text/plain": [
       "2"
      ]
     },
     "execution_count": 3,
     "metadata": {},
     "output_type": "execute_result"
    }
   ],
   "source": [
    "20%3"
   ]
  },
  {
   "cell_type": "markdown",
   "id": "8cc4995f",
   "metadata": {},
   "source": [
    "### Bitwise Operators"
   ]
  },
  {
   "cell_type": "markdown",
   "id": "b1951af8",
   "metadata": {},
   "source": [
    "Bitwise operators in Python are used to perform bit-level operations on integers. These operators treat operands as binary numbers and operate on their individual bits."
   ]
  },
  {
   "cell_type": "markdown",
   "id": "894e2b15",
   "metadata": {},
   "source": [
    "#### 1. Bitwise AND (`&`)"
   ]
  },
  {
   "cell_type": "markdown",
   "id": "ba358b4d",
   "metadata": {},
   "source": [
    "Performs a logical AND operation on each pair of corresponding bits of two integers. The result has a bit set to 1 if both bits in the corresponding position of the operands are 1."
   ]
  },
  {
   "cell_type": "code",
   "execution_count": 4,
   "id": "ab2ff4b5",
   "metadata": {
    "ExecuteTime": {
     "end_time": "2024-08-05T10:50:43.033584Z",
     "start_time": "2024-08-05T10:50:43.012709Z"
    }
   },
   "outputs": [
    {
     "data": {
      "text/plain": [
       "1"
      ]
     },
     "execution_count": 4,
     "metadata": {},
     "output_type": "execute_result"
    }
   ],
   "source": [
    "a = 5      # 0b0101\n",
    "b = 3      # 0b0011\n",
    "result = a & b  # 0b0001 = 1\n",
    "result"
   ]
  },
  {
   "cell_type": "markdown",
   "id": "b105dee7",
   "metadata": {},
   "source": [
    "#### 2. Bitwise OR (`|`)\n",
    "Performs a logical OR operation on each pair of corresponding bits of two integers. The result has a bit set to 1 if at least one of the bits in the corresponding position of the operands is 1."
   ]
  },
  {
   "cell_type": "code",
   "execution_count": 5,
   "id": "241c05d2",
   "metadata": {
    "ExecuteTime": {
     "end_time": "2024-08-05T10:51:07.684823Z",
     "start_time": "2024-08-05T10:51:07.666955Z"
    }
   },
   "outputs": [
    {
     "name": "stdout",
     "output_type": "stream",
     "text": [
      "7\n"
     ]
    }
   ],
   "source": [
    "\n",
    "a = 5      # 0b0101\n",
    "b = 3      # 0b0011\n",
    "result = a | b  # 0b0111 = 7\n",
    "print(result)\n"
   ]
  },
  {
   "cell_type": "code",
   "execution_count": 11,
   "id": "a4af61dc",
   "metadata": {
    "ExecuteTime": {
     "end_time": "2024-08-05T10:58:54.999664Z",
     "start_time": "2024-08-05T10:58:54.991540Z"
    }
   },
   "outputs": [
    {
     "name": "stdout",
     "output_type": "stream",
     "text": [
      "5\n"
     ]
    }
   ],
   "source": [
    "\n",
    "a = 5           # 0b0101\n",
    "b = 1           # 0b0001\n",
    "result = a | b  # 0b0101 = 5\n",
    "print(result)\n"
   ]
  },
  {
   "cell_type": "markdown",
   "id": "d8a2eb23",
   "metadata": {},
   "source": [
    "#### 3. Bitwise XOR (`^`)\n",
    "Performs a logical XOR operation on each pair of corresponding bits of two integers. The result has a bit set to 1 if only one of the bits in the corresponding position of the operands is 1."
   ]
  },
  {
   "cell_type": "code",
   "execution_count": 6,
   "id": "50e3af20",
   "metadata": {
    "ExecuteTime": {
     "end_time": "2024-08-05T10:51:29.583813Z",
     "start_time": "2024-08-05T10:51:29.568736Z"
    }
   },
   "outputs": [
    {
     "name": "stdout",
     "output_type": "stream",
     "text": [
      "6\n"
     ]
    }
   ],
   "source": [
    "a = 5      # 0b0101\n",
    "b = 3      # 0b0011\n",
    "result = a ^ b  # 0b0110 = 6\n",
    "print(result)"
   ]
  },
  {
   "cell_type": "markdown",
   "id": "fedf381f",
   "metadata": {},
   "source": [
    "#### 4. Bitwise NOT (`~`)\n",
    "Inverts all the bits of an integer, turning 0s into 1s and 1s into 0s. This is also known as the bitwise complement."
   ]
  },
  {
   "cell_type": "code",
   "execution_count": 7,
   "id": "22bc0316",
   "metadata": {
    "ExecuteTime": {
     "end_time": "2024-08-05T10:51:44.143415Z",
     "start_time": "2024-08-05T10:51:44.123390Z"
    }
   },
   "outputs": [
    {
     "name": "stdout",
     "output_type": "stream",
     "text": [
      "-6\n"
     ]
    }
   ],
   "source": [
    "a = 5      # 0b0101\n",
    "result = ~a  # 0b1010 = -6 (in two's complement)\n",
    "print(result)"
   ]
  },
  {
   "cell_type": "markdown",
   "id": "7b028390",
   "metadata": {},
   "source": [
    "#### 5. Bitwise Left Shift (`<<`)\n",
    "Shifts the bits of the first operand to the left by the number of positions specified by the second operand. Zero bits are shifted in from the right."
   ]
  },
  {
   "cell_type": "code",
   "execution_count": 8,
   "id": "20d311e2",
   "metadata": {
    "ExecuteTime": {
     "end_time": "2024-08-05T10:51:58.208914Z",
     "start_time": "2024-08-05T10:51:58.197144Z"
    }
   },
   "outputs": [
    {
     "name": "stdout",
     "output_type": "stream",
     "text": [
      "10\n"
     ]
    }
   ],
   "source": [
    "a = 5      # 0b0101\n",
    "result = a << 1  # 0b1010 = 10\n",
    "print(result)"
   ]
  },
  {
   "cell_type": "markdown",
   "id": "0be33502",
   "metadata": {},
   "source": [
    "#### 6. Bitwise Right Shift (`>>`)\n",
    "Shifts the bits of the first operand to the right by the number of positions specified by the second operand. The sign bit is used to fill the resulting leftmost bits for signed numbers, and zero bits are used for unsigned numbers."
   ]
  },
  {
   "cell_type": "code",
   "execution_count": 9,
   "id": "ccfa8e6d",
   "metadata": {
    "ExecuteTime": {
     "end_time": "2024-08-05T10:52:12.659690Z",
     "start_time": "2024-08-05T10:52:12.642625Z"
    }
   },
   "outputs": [
    {
     "name": "stdout",
     "output_type": "stream",
     "text": [
      "2\n"
     ]
    }
   ],
   "source": [
    "a = 5      # 0b0101\n",
    "result = a >> 1  # 0b0010 = 2\n",
    "print(result)"
   ]
  },
  {
   "cell_type": "markdown",
   "id": "e03c5bb8",
   "metadata": {},
   "source": [
    "#### Summary\n",
    "\n",
    "\n",
    "- `&` (AND) results in a bit being 1 if both corresponding bits are 1.\n",
    "\n",
    "\n",
    "- `|` (OR) results in a bit being 1 if at least one corresponding bit is 1.\n",
    "\n",
    "\n",
    "- `^` (XOR) results in a bit being 1 if only one corresponding bit is 1.\n",
    "\n",
    "\n",
    "- `~` (NOT) inverts the bits.\n",
    "\n",
    "\n",
    "- `<<` (Left Shift) shifts bits to the left, filling with zeros on the right.\n",
    "\n",
    "\n",
    "- `>>` (Right Shift) shifts bits to the right, filling with the sign bit (for signed) or zeros (for unsigned) on the left.\n",
    "\n",
    "These operators are especially useful in low-level programming, cryptography, and scenarios where direct manipulation of binary data is required."
   ]
  },
  {
   "cell_type": "code",
   "execution_count": 98,
   "id": "0cf83280",
   "metadata": {
    "ExecuteTime": {
     "end_time": "2024-02-13T16:30:33.333625Z",
     "start_time": "2024-02-13T16:30:33.314887Z"
    }
   },
   "outputs": [
    {
     "name": "stdout",
     "output_type": "stream",
     "text": [
      "2\n",
      "3\n",
      "1\n",
      "-4\n",
      "1\n",
      "20\n"
     ]
    }
   ],
   "source": [
    "# Bitwise Operators\n",
    "\n",
    "# bitwise and\n",
    "print(2 & 3)\n",
    "\n",
    "# bitwise or\n",
    "print(2 | 3)\n",
    "\n",
    "# bitwise xor\n",
    "print(2 ^ 3)\n",
    "\n",
    "print(~3)\n",
    "\n",
    "print(4 >> 2)\n",
    "\n",
    "print(5 << 2)"
   ]
  },
  {
   "cell_type": "markdown",
   "id": "0b2be578",
   "metadata": {},
   "source": [
    "## Modules in Python"
   ]
  },
  {
   "cell_type": "markdown",
   "id": "65218d6b",
   "metadata": {},
   "source": [
    "- math\n",
    "- keywords\n",
    "- random\n",
    "- datetime"
   ]
  },
  {
   "cell_type": "code",
   "execution_count": 99,
   "id": "3d9eaa63",
   "metadata": {
    "ExecuteTime": {
     "end_time": "2024-02-13T16:35:53.337181Z",
     "start_time": "2024-02-13T16:35:53.326180Z"
    }
   },
   "outputs": [
    {
     "data": {
      "text/plain": [
       "14.0"
      ]
     },
     "execution_count": 99,
     "metadata": {},
     "output_type": "execute_result"
    }
   ],
   "source": [
    "# math\n",
    "import math\n",
    "\n",
    "math.sqrt(196)"
   ]
  },
  {
   "cell_type": "code",
   "execution_count": 100,
   "id": "d0b1a8b4",
   "metadata": {
    "ExecuteTime": {
     "end_time": "2024-02-13T16:36:03.538210Z",
     "start_time": "2024-02-13T16:36:03.523110Z"
    }
   },
   "outputs": [
    {
     "name": "stdout",
     "output_type": "stream",
     "text": [
      "['False', 'None', 'True', '__peg_parser__', 'and', 'as', 'assert', 'async', 'await', 'break', 'class', 'continue', 'def', 'del', 'elif', 'else', 'except', 'finally', 'for', 'from', 'global', 'if', 'import', 'in', 'is', 'lambda', 'nonlocal', 'not', 'or', 'pass', 'raise', 'return', 'try', 'while', 'with', 'yield']\n"
     ]
    }
   ],
   "source": [
    "# keyword\n",
    "import keyword\n",
    "print(keyword.kwlist)"
   ]
  },
  {
   "cell_type": "code",
   "execution_count": 102,
   "id": "be337784",
   "metadata": {
    "ExecuteTime": {
     "end_time": "2024-02-13T16:36:57.850586Z",
     "start_time": "2024-02-13T16:36:57.836581Z"
    }
   },
   "outputs": [
    {
     "name": "stdout",
     "output_type": "stream",
     "text": [
      "2024-02-13 22:06:57.838587\n"
     ]
    }
   ],
   "source": [
    "# datetime\n",
    "import datetime\n",
    "print(datetime.datetime.now())"
   ]
  },
  {
   "cell_type": "code",
   "execution_count": 104,
   "id": "dfef31ea",
   "metadata": {
    "ExecuteTime": {
     "end_time": "2024-02-13T16:37:47.926049Z",
     "start_time": "2024-02-13T16:37:47.857661Z"
    }
   },
   "outputs": [
    {
     "name": "stdout",
     "output_type": "stream",
     "text": [
      "Help on built-in module math:\n",
      "\n",
      "NAME\n",
      "    math\n",
      "\n",
      "DESCRIPTION\n",
      "    This module provides access to the mathematical functions\n",
      "    defined by the C standard.\n",
      "\n",
      "FUNCTIONS\n",
      "    acos(x, /)\n",
      "        Return the arc cosine (measured in radians) of x.\n",
      "        \n",
      "        The result is between 0 and pi.\n",
      "    \n",
      "    acosh(x, /)\n",
      "        Return the inverse hyperbolic cosine of x.\n",
      "    \n",
      "    asin(x, /)\n",
      "        Return the arc sine (measured in radians) of x.\n",
      "        \n",
      "        The result is between -pi/2 and pi/2.\n",
      "    \n",
      "    asinh(x, /)\n",
      "        Return the inverse hyperbolic sine of x.\n",
      "    \n",
      "    atan(x, /)\n",
      "        Return the arc tangent (measured in radians) of x.\n",
      "        \n",
      "        The result is between -pi/2 and pi/2.\n",
      "    \n",
      "    atan2(y, x, /)\n",
      "        Return the arc tangent (measured in radians) of y/x.\n",
      "        \n",
      "        Unlike atan(y/x), the signs of both x and y are considered.\n",
      "    \n",
      "    atanh(x, /)\n",
      "        Return the inverse hyperbolic tangent of x.\n",
      "    \n",
      "    ceil(x, /)\n",
      "        Return the ceiling of x as an Integral.\n",
      "        \n",
      "        This is the smallest integer >= x.\n",
      "    \n",
      "    comb(n, k, /)\n",
      "        Number of ways to choose k items from n items without repetition and without order.\n",
      "        \n",
      "        Evaluates to n! / (k! * (n - k)!) when k <= n and evaluates\n",
      "        to zero when k > n.\n",
      "        \n",
      "        Also called the binomial coefficient because it is equivalent\n",
      "        to the coefficient of k-th term in polynomial expansion of the\n",
      "        expression (1 + x)**n.\n",
      "        \n",
      "        Raises TypeError if either of the arguments are not integers.\n",
      "        Raises ValueError if either of the arguments are negative.\n",
      "    \n",
      "    copysign(x, y, /)\n",
      "        Return a float with the magnitude (absolute value) of x but the sign of y.\n",
      "        \n",
      "        On platforms that support signed zeros, copysign(1.0, -0.0)\n",
      "        returns -1.0.\n",
      "    \n",
      "    cos(x, /)\n",
      "        Return the cosine of x (measured in radians).\n",
      "    \n",
      "    cosh(x, /)\n",
      "        Return the hyperbolic cosine of x.\n",
      "    \n",
      "    degrees(x, /)\n",
      "        Convert angle x from radians to degrees.\n",
      "    \n",
      "    dist(p, q, /)\n",
      "        Return the Euclidean distance between two points p and q.\n",
      "        \n",
      "        The points should be specified as sequences (or iterables) of\n",
      "        coordinates.  Both inputs must have the same dimension.\n",
      "        \n",
      "        Roughly equivalent to:\n",
      "            sqrt(sum((px - qx) ** 2.0 for px, qx in zip(p, q)))\n",
      "    \n",
      "    erf(x, /)\n",
      "        Error function at x.\n",
      "    \n",
      "    erfc(x, /)\n",
      "        Complementary error function at x.\n",
      "    \n",
      "    exp(x, /)\n",
      "        Return e raised to the power of x.\n",
      "    \n",
      "    expm1(x, /)\n",
      "        Return exp(x)-1.\n",
      "        \n",
      "        This function avoids the loss of precision involved in the direct evaluation of exp(x)-1 for small x.\n",
      "    \n",
      "    fabs(x, /)\n",
      "        Return the absolute value of the float x.\n",
      "    \n",
      "    factorial(x, /)\n",
      "        Find x!.\n",
      "        \n",
      "        Raise a ValueError if x is negative or non-integral.\n",
      "    \n",
      "    floor(x, /)\n",
      "        Return the floor of x as an Integral.\n",
      "        \n",
      "        This is the largest integer <= x.\n",
      "    \n",
      "    fmod(x, y, /)\n",
      "        Return fmod(x, y), according to platform C.\n",
      "        \n",
      "        x % y may differ.\n",
      "    \n",
      "    frexp(x, /)\n",
      "        Return the mantissa and exponent of x, as pair (m, e).\n",
      "        \n",
      "        m is a float and e is an int, such that x = m * 2.**e.\n",
      "        If x is 0, m and e are both 0.  Else 0.5 <= abs(m) < 1.0.\n",
      "    \n",
      "    fsum(seq, /)\n",
      "        Return an accurate floating point sum of values in the iterable seq.\n",
      "        \n",
      "        Assumes IEEE-754 floating point arithmetic.\n",
      "    \n",
      "    gamma(x, /)\n",
      "        Gamma function at x.\n",
      "    \n",
      "    gcd(*integers)\n",
      "        Greatest Common Divisor.\n",
      "    \n",
      "    hypot(...)\n",
      "        hypot(*coordinates) -> value\n",
      "        \n",
      "        Multidimensional Euclidean distance from the origin to a point.\n",
      "        \n",
      "        Roughly equivalent to:\n",
      "            sqrt(sum(x**2 for x in coordinates))\n",
      "        \n",
      "        For a two dimensional point (x, y), gives the hypotenuse\n",
      "        using the Pythagorean theorem:  sqrt(x*x + y*y).\n",
      "        \n",
      "        For example, the hypotenuse of a 3/4/5 right triangle is:\n",
      "        \n",
      "            >>> hypot(3.0, 4.0)\n",
      "            5.0\n",
      "    \n",
      "    isclose(a, b, *, rel_tol=1e-09, abs_tol=0.0)\n",
      "        Determine whether two floating point numbers are close in value.\n",
      "        \n",
      "          rel_tol\n",
      "            maximum difference for being considered \"close\", relative to the\n",
      "            magnitude of the input values\n",
      "          abs_tol\n",
      "            maximum difference for being considered \"close\", regardless of the\n",
      "            magnitude of the input values\n",
      "        \n",
      "        Return True if a is close in value to b, and False otherwise.\n",
      "        \n",
      "        For the values to be considered close, the difference between them\n",
      "        must be smaller than at least one of the tolerances.\n",
      "        \n",
      "        -inf, inf and NaN behave similarly to the IEEE 754 Standard.  That\n",
      "        is, NaN is not close to anything, even itself.  inf and -inf are\n",
      "        only close to themselves.\n",
      "    \n",
      "    isfinite(x, /)\n",
      "        Return True if x is neither an infinity nor a NaN, and False otherwise.\n",
      "    \n",
      "    isinf(x, /)\n",
      "        Return True if x is a positive or negative infinity, and False otherwise.\n",
      "    \n",
      "    isnan(x, /)\n",
      "        Return True if x is a NaN (not a number), and False otherwise.\n",
      "    \n",
      "    isqrt(n, /)\n",
      "        Return the integer part of the square root of the input.\n",
      "    \n",
      "    lcm(*integers)\n",
      "        Least Common Multiple.\n",
      "    \n",
      "    ldexp(x, i, /)\n",
      "        Return x * (2**i).\n",
      "        \n",
      "        This is essentially the inverse of frexp().\n",
      "    \n",
      "    lgamma(x, /)\n",
      "        Natural logarithm of absolute value of Gamma function at x.\n",
      "    \n",
      "    log(...)\n",
      "        log(x, [base=math.e])\n",
      "        Return the logarithm of x to the given base.\n",
      "        \n",
      "        If the base not specified, returns the natural logarithm (base e) of x.\n",
      "    \n",
      "    log10(x, /)\n",
      "        Return the base 10 logarithm of x.\n",
      "    \n",
      "    log1p(x, /)\n",
      "        Return the natural logarithm of 1+x (base e).\n",
      "        \n",
      "        The result is computed in a way which is accurate for x near zero.\n",
      "    \n",
      "    log2(x, /)\n",
      "        Return the base 2 logarithm of x.\n",
      "    \n",
      "    modf(x, /)\n",
      "        Return the fractional and integer parts of x.\n",
      "        \n",
      "        Both results carry the sign of x and are floats.\n",
      "    \n",
      "    nextafter(x, y, /)\n",
      "        Return the next floating-point value after x towards y.\n",
      "    \n",
      "    perm(n, k=None, /)\n",
      "        Number of ways to choose k items from n items without repetition and with order.\n",
      "        \n",
      "        Evaluates to n! / (n - k)! when k <= n and evaluates\n",
      "        to zero when k > n.\n",
      "        \n",
      "        If k is not specified or is None, then k defaults to n\n",
      "        and the function returns n!.\n",
      "        \n",
      "        Raises TypeError if either of the arguments are not integers.\n",
      "        Raises ValueError if either of the arguments are negative.\n",
      "    \n",
      "    pow(x, y, /)\n",
      "        Return x**y (x to the power of y).\n",
      "    \n",
      "    prod(iterable, /, *, start=1)\n",
      "        Calculate the product of all the elements in the input iterable.\n",
      "        \n",
      "        The default start value for the product is 1.\n",
      "        \n",
      "        When the iterable is empty, return the start value.  This function is\n",
      "        intended specifically for use with numeric values and may reject\n",
      "        non-numeric types.\n",
      "    \n",
      "    radians(x, /)\n",
      "        Convert angle x from degrees to radians.\n",
      "    \n",
      "    remainder(x, y, /)\n",
      "        Difference between x and the closest integer multiple of y.\n",
      "        \n",
      "        Return x - n*y where n*y is the closest integer multiple of y.\n",
      "        In the case where x is exactly halfway between two multiples of\n",
      "        y, the nearest even value of n is used. The result is always exact.\n",
      "    \n",
      "    sin(x, /)\n",
      "        Return the sine of x (measured in radians).\n",
      "    \n",
      "    sinh(x, /)\n",
      "        Return the hyperbolic sine of x.\n",
      "    \n",
      "    sqrt(x, /)\n",
      "        Return the square root of x.\n",
      "    \n",
      "    tan(x, /)\n",
      "        Return the tangent of x (measured in radians).\n",
      "    \n",
      "    tanh(x, /)\n",
      "        Return the hyperbolic tangent of x.\n",
      "    \n",
      "    trunc(x, /)\n",
      "        Truncates the Real x to the nearest Integral toward 0.\n",
      "        \n",
      "        Uses the __trunc__ magic method.\n",
      "    \n",
      "    ulp(x, /)\n",
      "        Return the value of the least significant bit of the float x.\n",
      "\n",
      "DATA\n",
      "    e = 2.718281828459045\n",
      "    inf = inf\n",
      "    nan = nan\n",
      "    pi = 3.141592653589793\n",
      "    tau = 6.283185307179586\n",
      "\n",
      "FILE\n",
      "    (built-in)\n",
      "\n"
     ]
    },
    {
     "name": "stdout",
     "output_type": "stream",
     "text": [
      "\n"
     ]
    }
   ],
   "source": [
    "help('math')"
   ]
  },
  {
   "cell_type": "markdown",
   "id": "6dc94da0",
   "metadata": {},
   "source": [
    "## While loop : "
   ]
  },
  {
   "cell_type": "markdown",
   "id": "be4244bb",
   "metadata": {},
   "source": [
    "#### While loop example -> program to print the table\n",
    "#### Program -> Sum of all digits of a given number\n",
    "#### Program -> keep accepting numbers from users till he/she enters a 0 and then find the avg"
   ]
  },
  {
   "cell_type": "code",
   "execution_count": 105,
   "id": "7274f9f7",
   "metadata": {
    "ExecuteTime": {
     "end_time": "2024-02-13T16:39:41.314005Z",
     "start_time": "2024-02-13T16:39:35.459486Z"
    }
   },
   "outputs": [
    {
     "name": "stdout",
     "output_type": "stream",
     "text": [
      "enter the number5\n",
      "5 * 1 = 5\n",
      "5 * 2 = 10\n",
      "5 * 3 = 15\n",
      "5 * 4 = 20\n",
      "5 * 5 = 25\n",
      "5 * 6 = 30\n",
      "5 * 7 = 35\n",
      "5 * 8 = 40\n",
      "5 * 9 = 45\n",
      "5 * 10 = 50\n"
     ]
    }
   ],
   "source": [
    "number = int(input('enter the number'))\n",
    "\n",
    "i = 1\n",
    "\n",
    "while i<11:\n",
    "  print(number,'*',i,'=',number * i)\n",
    "  i += 1"
   ]
  },
  {
   "cell_type": "code",
   "execution_count": 106,
   "id": "6938a8b4",
   "metadata": {
    "ExecuteTime": {
     "end_time": "2024-02-13T16:39:56.406516Z",
     "start_time": "2024-02-13T16:39:56.390450Z"
    }
   },
   "outputs": [
    {
     "name": "stdout",
     "output_type": "stream",
     "text": [
      "1\n",
      "2\n",
      "limit crossed\n"
     ]
    }
   ],
   "source": [
    "# while loop with else \n",
    "\n",
    "x = 1\n",
    "\n",
    "while x < 3:\n",
    "  print(x)\n",
    "  x += 1\n",
    "\n",
    "else:\n",
    "  print('limit crossed')"
   ]
  },
  {
   "cell_type": "markdown",
   "id": "d78fb9d3",
   "metadata": {},
   "source": [
    "## WHILE LOOP"
   ]
  },
  {
   "cell_type": "code",
   "execution_count": 114,
   "id": "b0c81569",
   "metadata": {
    "ExecuteTime": {
     "end_time": "2024-02-13T19:04:47.067585Z",
     "start_time": "2024-02-13T19:04:47.028387Z"
    }
   },
   "outputs": [
    {
     "name": "stdout",
     "output_type": "stream",
     "text": [
      "1 -> square is  1\n",
      "2 -> square is  4\n",
      "3 -> square is  9\n",
      "4 -> square is  16\n",
      "5 -> square is  25\n",
      "6 -> square is  36\n",
      "7 -> square is  49\n",
      "8 -> square is  64\n",
      "9 -> square is  81\n"
     ]
    }
   ],
   "source": [
    "n = 10\n",
    "i = 1\n",
    "\n",
    "\n",
    "while i < n:\n",
    "    print(i,'-> square is ',i**2)\n",
    "    i = i + 1 "
   ]
  },
  {
   "cell_type": "markdown",
   "id": "75d48ae3",
   "metadata": {},
   "source": [
    "### while loop with else:"
   ]
  },
  {
   "cell_type": "code",
   "execution_count": 119,
   "id": "8afcaddc",
   "metadata": {
    "ExecuteTime": {
     "end_time": "2024-02-13T19:08:06.812340Z",
     "start_time": "2024-02-13T19:08:06.791802Z"
    }
   },
   "outputs": [
    {
     "name": "stdout",
     "output_type": "stream",
     "text": [
      "1\n",
      "2\n",
      "3\n",
      "4\n",
      "5\n",
      "6 limit crossed\n"
     ]
    }
   ],
   "source": [
    "x = 1\n",
    "\n",
    "while x < 6:\n",
    "    print(x)\n",
    "    x = x + 1\n",
    "else:\n",
    "    print(x,'limit crossed')"
   ]
  },
  {
   "cell_type": "markdown",
   "id": "0fbab0a0",
   "metadata": {},
   "source": [
    "#### number of vowels :"
   ]
  },
  {
   "cell_type": "code",
   "execution_count": 3,
   "id": "0f5d502a",
   "metadata": {
    "ExecuteTime": {
     "end_time": "2024-11-02T08:03:32.510141Z",
     "start_time": "2024-11-02T08:03:30.457574Z"
    }
   },
   "outputs": [
    {
     "name": "stdout",
     "output_type": "stream",
     "text": [
      "hbchsbuibHbhsbcuibiubhvtgsvaoiob\n",
      "10\n"
     ]
    }
   ],
   "source": [
    "string = input().lower().strip()\n",
    "vowels = ['a', 'e', 'i', 'o', 'u']\n",
    "count = 0\n",
    "x = 0\n",
    "\n",
    "while x < len(string):\n",
    "    if string[x] in vowels:\n",
    "        count += 1\n",
    "    x += 1\n",
    "\n",
    "print(count)"
   ]
  },
  {
   "cell_type": "code",
   "execution_count": 121,
   "id": "371e6403",
   "metadata": {
    "ExecuteTime": {
     "end_time": "2024-02-13T19:12:01.801590Z",
     "start_time": "2024-02-13T19:11:40.146166Z"
    }
   },
   "outputs": [
    {
     "name": "stdout",
     "output_type": "stream",
     "text": [
      "guess karo \n",
      "34\n",
      "galat!guess higher\n",
      "\n",
      "guess karo\n",
      "67\n",
      "galat!guess higher\n",
      "\n",
      "guess karo\n",
      "89\n",
      "galat!guess lower\n",
      "\n",
      "guess karo\n",
      "81\n",
      "galat!guess higher\n",
      "\n",
      "guess karo\n",
      "85\n",
      "correct guess\n",
      "attempts 5\n"
     ]
    }
   ],
   "source": [
    "# Guessing game\n",
    "\n",
    "# generate a random integer between 1 and 100\n",
    "import random\n",
    "jackpot = random.randint(1,100)\n",
    "\n",
    "guess = int(input('guess karo \\n'))\n",
    "counter = 1\n",
    "while guess != jackpot:\n",
    "    if guess < jackpot:\n",
    "        print('galat! guess higher\\n')\n",
    "    else:\n",
    "        print('galat! guess lower\\n')\n",
    "\n",
    "    guess = int(input('guess karo\\n'))\n",
    "    counter += 1\n",
    "\n",
    "else:\n",
    "    print('correct guess \\n')\n",
    "    print('attempts',counter)\n",
    "\n",
    "  \n"
   ]
  },
  {
   "cell_type": "markdown",
   "id": "dea7e4be",
   "metadata": {},
   "source": [
    "### Program - The current population of a town is 10000. The population of the town is increasing at the rate of 10% per year. You have to write a program to find out the population at the end of each of the last 10 years."
   ]
  },
  {
   "cell_type": "code",
   "execution_count": 147,
   "id": "3fc9a88d",
   "metadata": {
    "ExecuteTime": {
     "end_time": "2024-02-13T19:35:09.308665Z",
     "start_time": "2024-02-13T19:35:09.279779Z"
    }
   },
   "outputs": [
    {
     "name": "stdout",
     "output_type": "stream",
     "text": [
      "10th year population was -> 10000.00\n",
      "9th year population was -> 9090.91\n",
      "8th year population was -> 8264.46\n",
      "7th year population was -> 7513.15\n",
      "6th year population was -> 6830.13\n",
      "5th year population was -> 6209.21\n",
      "4th year population was -> 5644.74\n",
      "3th year population was -> 5131.58\n",
      "2th year population was -> 4665.07\n",
      "1th year population was -> 4240.98\n"
     ]
    }
   ],
   "source": [
    "curr_pop = 10000\n",
    "\n",
    "for i in range(10,0,-1):   \n",
    "    print(f'{i}th year population was -> {curr_pop:.2f}')\n",
    "    curr_pop = curr_pop/1.1"
   ]
  },
  {
   "cell_type": "markdown",
   "id": "8d657ad8",
   "metadata": {},
   "source": [
    "### Sequence sum\n",
    "\n",
    "`1/1! + 2/2! + 3/3! + ...`"
   ]
  },
  {
   "cell_type": "raw",
   "id": "3c17a695",
   "metadata": {},
   "source": [
    "1/1 + 2/2 + 3/6 + 4/24 + 5/120 "
   ]
  },
  {
   "cell_type": "code",
   "execution_count": 26,
   "id": "c9ccd72a",
   "metadata": {
    "ExecuteTime": {
     "end_time": "2024-08-07T09:17:13.136531Z",
     "start_time": "2024-08-07T09:17:11.965199Z"
    }
   },
   "outputs": [
    {
     "name": "stdout",
     "output_type": "stream",
     "text": [
      "Enter the number 5\n",
      "1 / 1 = 1.0\n",
      "2 / 2 = 1.0\n",
      "3 / 6 = 0.5\n",
      "4 / 24 = 0.17\n",
      "5 / 120 = 0.04\n",
      "\n",
      "total is : 2.71\n"
     ]
    }
   ],
   "source": [
    "num = int(input('Enter the number '))\n",
    "\n",
    "total = 0\n",
    "\n",
    "for i in range(1, num+1):\n",
    "    denominator = i\n",
    "    for j in range((i-1),1,-1):\n",
    "        denominator = denominator * j\n",
    "    print(f'{i} / {denominator} = {round(i/denominator,2)}')\n",
    "    total = total + (i/denominator)\n",
    "print(f'\\ntotal is : {round(total,2)}')\n"
   ]
  },
  {
   "cell_type": "markdown",
   "id": "da23453f",
   "metadata": {},
   "source": [
    "### Pattern 1 : "
   ]
  },
  {
   "cell_type": "code",
   "execution_count": 172,
   "id": "35c486c4",
   "metadata": {
    "ExecuteTime": {
     "end_time": "2024-02-13T20:15:43.866473Z",
     "start_time": "2024-02-13T20:15:43.111618Z"
    }
   },
   "outputs": [
    {
     "name": "stdout",
     "output_type": "stream",
     "text": [
      "num of rows 5\n",
      "*\n",
      "**\n",
      "***\n",
      "****\n",
      "*****\n"
     ]
    }
   ],
   "source": [
    "n = int(input('num of rows '))\n",
    "for i in range(1,n+1):\n",
    "    print('*'*i)"
   ]
  },
  {
   "cell_type": "markdown",
   "id": "bd11d8a9",
   "metadata": {},
   "source": [
    "### Pattern 2 : "
   ]
  },
  {
   "cell_type": "code",
   "execution_count": 186,
   "id": "15303d03",
   "metadata": {
    "ExecuteTime": {
     "end_time": "2024-02-13T20:23:10.161388Z",
     "start_time": "2024-02-13T20:23:08.912260Z"
    }
   },
   "outputs": [
    {
     "name": "stdout",
     "output_type": "stream",
     "text": [
      "num of rows 5\n",
      "1\n",
      "121\n",
      "12321\n",
      "1234321\n",
      "123454321\n"
     ]
    }
   ],
   "source": [
    "num = int(input('num of rows '))\n",
    "m = 1\n",
    "while m <= num:\n",
    "    for i in range(1,m+1):\n",
    "        print(i,end='')\n",
    "    for j in range(i-1,0,-1):\n",
    "        print(j,end='')\n",
    "    m = m+1\n",
    "    print()"
   ]
  },
  {
   "cell_type": "markdown",
   "id": "bf074de0",
   "metadata": {},
   "source": [
    "## pass break continue : "
   ]
  },
  {
   "cell_type": "markdown",
   "id": "d7c0f9ab",
   "metadata": {},
   "source": [
    "### Loop Control Statement\n",
    "\n",
    "- `break` terminates the loop it's currently in, jumping to the statement immediately following the loop.\n",
    "\n",
    "\n",
    "- `pass` is a no-operation statement, used as a placeholder where syntactically required, doing nothing when executed.\n",
    "\n",
    "\n",
    "- `continue` skips the remaining code within the loop's block for the current iteration and moves to the next iteration."
   ]
  },
  {
   "cell_type": "markdown",
   "id": "d69c630a",
   "metadata": {},
   "source": [
    "### break : "
   ]
  },
  {
   "cell_type": "code",
   "execution_count": 188,
   "id": "57a7d77b",
   "metadata": {
    "ExecuteTime": {
     "end_time": "2024-02-13T20:29:50.613737Z",
     "start_time": "2024-02-13T20:29:50.591609Z"
    }
   },
   "outputs": [
    {
     "name": "stdout",
     "output_type": "stream",
     "text": [
      "1\n",
      "2\n",
      "3\n",
      "4\n"
     ]
    }
   ],
   "source": [
    "for i in range(1,10):\n",
    "  if i == 5:\n",
    "    break\n",
    "  print(i)"
   ]
  },
  {
   "cell_type": "markdown",
   "id": "7588751e",
   "metadata": {},
   "source": [
    "#### prime numbers between a given range:"
   ]
  },
  {
   "cell_type": "code",
   "execution_count": 211,
   "id": "f7318961",
   "metadata": {
    "ExecuteTime": {
     "end_time": "2024-02-13T20:44:22.599720Z",
     "start_time": "2024-02-13T20:44:19.790519Z"
    }
   },
   "outputs": [
    {
     "name": "stdout",
     "output_type": "stream",
     "text": [
      "enter lower range 1\n",
      "enter upper range 100\n",
      "prime numbers between 1 and 100 is [2, 3, 5, 7, 11, 13, 17, 19, 23, 29, 31, 37, 41, 43, 47, 53, 59, 61, 67, 71, 73, 79, 83, 89, 97]\n",
      "total numbers = 25\n"
     ]
    }
   ],
   "source": [
    "lower = int(input('enter lower range '))\n",
    "upper = int(input('enter upper range '))\n",
    "l = []\n",
    "\n",
    "for i in range(lower,upper+1):\n",
    "  for j in range(2,((i//2)+1)):\n",
    "    if i%j == 0:\n",
    "      break\n",
    "  else:\n",
    "    #print(i)\n",
    "    l.append(i)\n",
    "l.remove(1)\n",
    "print(f'prime numbers between {lower} and {upper} is {l}')\n",
    "print('total numbers =',len(l))"
   ]
  },
  {
   "cell_type": "markdown",
   "id": "c5dd06b3",
   "metadata": {},
   "source": [
    "### Continue"
   ]
  },
  {
   "cell_type": "code",
   "execution_count": 212,
   "id": "2c082c1f",
   "metadata": {
    "ExecuteTime": {
     "end_time": "2024-02-13T20:45:53.626820Z",
     "start_time": "2024-02-13T20:45:53.609772Z"
    }
   },
   "outputs": [
    {
     "name": "stdout",
     "output_type": "stream",
     "text": [
      "1\n",
      "2\n",
      "3\n",
      "4\n",
      "6\n",
      "7\n",
      "8\n",
      "9\n"
     ]
    }
   ],
   "source": [
    "for i in range(1,10):\n",
    "  if i == 5:\n",
    "    continue\n",
    "  print(i)"
   ]
  },
  {
   "cell_type": "markdown",
   "id": "a06820d1",
   "metadata": {},
   "source": [
    "### pass"
   ]
  },
  {
   "cell_type": "code",
   "execution_count": 213,
   "id": "ee208131",
   "metadata": {
    "ExecuteTime": {
     "end_time": "2024-02-13T20:47:06.113433Z",
     "start_time": "2024-02-13T20:47:06.109431Z"
    }
   },
   "outputs": [],
   "source": [
    "for i in range(1,10):\n",
    "  pass\n",
    "  "
   ]
  },
  {
   "cell_type": "markdown",
   "id": "35093a02",
   "metadata": {},
   "source": [
    "# Session : 3 Strings"
   ]
  },
  {
   "cell_type": "markdown",
   "id": "8e6b293a",
   "metadata": {},
   "source": [
    "https://www.youtube.com/watch?v=6HAu0Y9BjA4&t=1s"
   ]
  },
  {
   "cell_type": "markdown",
   "id": "41bc7502",
   "metadata": {},
   "source": [
    "### Operations on Strings\n",
    "\n",
    "- Arithmetic Operations\n",
    "\n",
    "\n",
    "- Relational Operations\n",
    "\n",
    "\n",
    "- Logical Operations\n",
    "\n",
    "\n",
    "- Loops on Strings\n",
    "\n",
    "\n",
    "- Membership Operations"
   ]
  },
  {
   "cell_type": "markdown",
   "id": "0e2db781",
   "metadata": {},
   "source": [
    "### slicing"
   ]
  },
  {
   "cell_type": "code",
   "execution_count": 34,
   "id": "133b001f",
   "metadata": {
    "ExecuteTime": {
     "end_time": "2023-03-05T22:10:00.255935Z",
     "start_time": "2023-03-05T22:10:00.207066Z"
    }
   },
   "outputs": [
    {
     "data": {
      "text/plain": [
       "'Hello world'"
      ]
     },
     "execution_count": 34,
     "metadata": {},
     "output_type": "execute_result"
    }
   ],
   "source": [
    "l = 'Hello world'\n",
    "l"
   ]
  },
  {
   "cell_type": "markdown",
   "id": "8864f1ce",
   "metadata": {},
   "source": [
    "##### reversing a string"
   ]
  },
  {
   "cell_type": "code",
   "execution_count": 40,
   "id": "745db30e",
   "metadata": {
    "ExecuteTime": {
     "end_time": "2023-03-05T22:11:51.389385Z",
     "start_time": "2023-03-05T22:11:51.373792Z"
    }
   },
   "outputs": [
    {
     "data": {
      "text/plain": [
       "'dlrow olleH'"
      ]
     },
     "execution_count": 40,
     "metadata": {},
     "output_type": "execute_result"
    }
   ],
   "source": [
    "l[::-1]"
   ]
  },
  {
   "cell_type": "code",
   "execution_count": 35,
   "id": "25ead1b7",
   "metadata": {
    "ExecuteTime": {
     "end_time": "2023-03-05T22:10:15.279264Z",
     "start_time": "2023-03-05T22:10:15.249773Z"
    }
   },
   "outputs": [
    {
     "data": {
      "text/plain": [
       "'w oll'"
      ]
     },
     "execution_count": 35,
     "metadata": {},
     "output_type": "execute_result"
    }
   ],
   "source": [
    "l[6:1:-1]"
   ]
  },
  {
   "cell_type": "code",
   "execution_count": 42,
   "id": "a502f199",
   "metadata": {
    "ExecuteTime": {
     "end_time": "2023-03-05T22:12:45.189081Z",
     "start_time": "2023-03-05T22:12:45.164898Z"
    }
   },
   "outputs": [
    {
     "data": {
      "text/plain": [
       "'dlrow'"
      ]
     },
     "execution_count": 42,
     "metadata": {},
     "output_type": "execute_result"
    }
   ],
   "source": [
    "l[-1:-6:-1]"
   ]
  },
  {
   "cell_type": "code",
   "execution_count": 43,
   "id": "22899302",
   "metadata": {
    "ExecuteTime": {
     "end_time": "2023-03-05T22:12:59.371460Z",
     "start_time": "2023-03-05T22:12:59.347182Z"
    }
   },
   "outputs": [
    {
     "data": {
      "text/plain": [
       "''"
      ]
     },
     "execution_count": 43,
     "metadata": {},
     "output_type": "execute_result"
    }
   ],
   "source": [
    "l[-1:-6]"
   ]
  },
  {
   "cell_type": "code",
   "execution_count": 37,
   "id": "9b0dd09c",
   "metadata": {
    "ExecuteTime": {
     "end_time": "2023-03-05T22:10:49.698741Z",
     "start_time": "2023-03-05T22:10:49.682359Z"
    }
   },
   "outputs": [
    {
     "data": {
      "text/plain": [
       "'rwol'"
      ]
     },
     "execution_count": 37,
     "metadata": {},
     "output_type": "execute_result"
    }
   ],
   "source": [
    "l[8:1:-2]"
   ]
  },
  {
   "cell_type": "code",
   "execution_count": 38,
   "id": "7027d400",
   "metadata": {
    "ExecuteTime": {
     "end_time": "2023-03-05T22:11:02.349421Z",
     "start_time": "2023-03-05T22:11:02.317138Z"
    }
   },
   "outputs": [
    {
     "data": {
      "text/plain": [
       "''"
      ]
     },
     "execution_count": 38,
     "metadata": {},
     "output_type": "execute_result"
    }
   ],
   "source": [
    "l[8:1:2]"
   ]
  },
  {
   "cell_type": "code",
   "execution_count": 46,
   "id": "102e4078",
   "metadata": {
    "ExecuteTime": {
     "end_time": "2023-03-05T22:16:08.645118Z",
     "start_time": "2023-03-05T22:16:08.624824Z"
    }
   },
   "outputs": [
    {
     "data": {
      "text/plain": [
       "''"
      ]
     },
     "execution_count": 46,
     "metadata": {},
     "output_type": "execute_result"
    }
   ],
   "source": [
    "l[-1:-5:2]"
   ]
  },
  {
   "cell_type": "markdown",
   "id": "31071d0b",
   "metadata": {},
   "source": [
    "#### NOTE : in negative indexing, first number should be greater than second number"
   ]
  },
  {
   "cell_type": "markdown",
   "id": "65fc4f01",
   "metadata": {},
   "source": [
    "## strings are Immutables"
   ]
  },
  {
   "cell_type": "code",
   "execution_count": 44,
   "id": "aefd6be9",
   "metadata": {
    "ExecuteTime": {
     "end_time": "2023-03-05T22:15:04.110193Z",
     "start_time": "2023-03-05T22:15:04.079700Z"
    }
   },
   "outputs": [
    {
     "data": {
      "text/plain": [
       "'Hello world'"
      ]
     },
     "execution_count": 44,
     "metadata": {},
     "output_type": "execute_result"
    }
   ],
   "source": [
    "l"
   ]
  },
  {
   "cell_type": "code",
   "execution_count": 45,
   "id": "ef28e45f",
   "metadata": {
    "ExecuteTime": {
     "end_time": "2023-03-05T22:15:14.600870Z",
     "start_time": "2023-03-05T22:15:14.520835Z"
    }
   },
   "outputs": [
    {
     "ename": "TypeError",
     "evalue": "'str' object does not support item assignment",
     "output_type": "error",
     "traceback": [
      "\u001b[1;31m---------------------------------------------------------------------------\u001b[0m",
      "\u001b[1;31mTypeError\u001b[0m                                 Traceback (most recent call last)",
      "Cell \u001b[1;32mIn[45], line 1\u001b[0m\n\u001b[1;32m----> 1\u001b[0m \u001b[43ml\u001b[49m\u001b[43m[\u001b[49m\u001b[38;5;241;43m2\u001b[39;49m\u001b[43m]\u001b[49m \u001b[38;5;241m=\u001b[39m \u001b[38;5;124m'\u001b[39m\u001b[38;5;124mL\u001b[39m\u001b[38;5;124m'\u001b[39m\n\u001b[0;32m      2\u001b[0m l\n",
      "\u001b[1;31mTypeError\u001b[0m: 'str' object does not support item assignment"
     ]
    }
   ],
   "source": [
    "l[2] = 'L'\n",
    "l\n",
    "# will throw error"
   ]
  },
  {
   "cell_type": "code",
   "execution_count": 47,
   "id": "06a22a95",
   "metadata": {
    "ExecuteTime": {
     "end_time": "2023-03-05T22:16:46.415257Z",
     "start_time": "2023-03-05T22:16:46.394809Z"
    }
   },
   "outputs": [
    {
     "name": "stdout",
     "output_type": "stream",
     "text": [
      "delhimumbai\n"
     ]
    }
   ],
   "source": [
    "print('delhi' + 'mumbai')"
   ]
  },
  {
   "cell_type": "code",
   "execution_count": 48,
   "id": "479164e1",
   "metadata": {
    "ExecuteTime": {
     "end_time": "2023-03-05T22:16:59.243205Z",
     "start_time": "2023-03-05T22:16:59.227354Z"
    }
   },
   "outputs": [
    {
     "name": "stdout",
     "output_type": "stream",
     "text": [
      "**************************************************\n"
     ]
    }
   ],
   "source": [
    "print(\"*\"*50)"
   ]
  },
  {
   "cell_type": "code",
   "execution_count": 49,
   "id": "90e3ef8e",
   "metadata": {
    "ExecuteTime": {
     "end_time": "2023-03-05T22:17:14.475294Z",
     "start_time": "2023-03-05T22:17:14.455174Z"
    }
   },
   "outputs": [
    {
     "data": {
      "text/plain": [
       "False"
      ]
     },
     "execution_count": 49,
     "metadata": {},
     "output_type": "execute_result"
    }
   ],
   "source": [
    "# lexiographically\n",
    "'delhi' > 'pune'"
   ]
  },
  {
   "cell_type": "code",
   "execution_count": 51,
   "id": "485543a4",
   "metadata": {
    "ExecuteTime": {
     "end_time": "2023-03-05T22:17:51.999524Z",
     "start_time": "2023-03-05T22:17:51.983157Z"
    }
   },
   "outputs": [
    {
     "data": {
      "text/plain": [
       "False"
      ]
     },
     "execution_count": 51,
     "metadata": {},
     "output_type": "execute_result"
    }
   ],
   "source": [
    "'Pune' > 'pune'"
   ]
  },
  {
   "cell_type": "code",
   "execution_count": 52,
   "id": "f49f19a1",
   "metadata": {
    "ExecuteTime": {
     "end_time": "2023-03-05T22:18:15.707411Z",
     "start_time": "2023-03-05T22:18:15.684611Z"
    }
   },
   "outputs": [
    {
     "data": {
      "text/plain": [
       "'world'"
      ]
     },
     "execution_count": 52,
     "metadata": {},
     "output_type": "execute_result"
    }
   ],
   "source": [
    "'hello' and 'world'"
   ]
  },
  {
   "cell_type": "code",
   "execution_count": 53,
   "id": "813fe3ec",
   "metadata": {
    "ExecuteTime": {
     "end_time": "2023-03-05T22:18:23.304658Z",
     "start_time": "2023-03-05T22:18:23.281758Z"
    }
   },
   "outputs": [
    {
     "data": {
      "text/plain": [
       "'hello'"
      ]
     },
     "execution_count": 53,
     "metadata": {},
     "output_type": "execute_result"
    }
   ],
   "source": [
    "'hello' or 'world'"
   ]
  },
  {
   "cell_type": "code",
   "execution_count": 54,
   "id": "4ccf8100",
   "metadata": {
    "ExecuteTime": {
     "end_time": "2023-03-05T22:21:22.089754Z",
     "start_time": "2023-03-05T22:21:22.073676Z"
    }
   },
   "outputs": [
    {
     "data": {
      "text/plain": [
       "'world'"
      ]
     },
     "execution_count": 54,
     "metadata": {},
     "output_type": "execute_result"
    }
   ],
   "source": [
    "'' or 'world'"
   ]
  },
  {
   "cell_type": "code",
   "execution_count": 55,
   "id": "740011d0",
   "metadata": {
    "ExecuteTime": {
     "end_time": "2023-03-05T22:21:33.919409Z",
     "start_time": "2023-03-05T22:21:33.906320Z"
    }
   },
   "outputs": [
    {
     "data": {
      "text/plain": [
       "''"
      ]
     },
     "execution_count": 55,
     "metadata": {},
     "output_type": "execute_result"
    }
   ],
   "source": [
    "'' and 'world'"
   ]
  },
  {
   "cell_type": "code",
   "execution_count": 57,
   "id": "4eafec34",
   "metadata": {
    "ExecuteTime": {
     "end_time": "2023-03-05T22:22:02.369987Z",
     "start_time": "2023-03-05T22:22:02.357489Z"
    }
   },
   "outputs": [
    {
     "data": {
      "text/plain": [
       "True"
      ]
     },
     "execution_count": 57,
     "metadata": {},
     "output_type": "execute_result"
    }
   ],
   "source": [
    "not ''"
   ]
  },
  {
   "cell_type": "code",
   "execution_count": 58,
   "id": "20e3c01f",
   "metadata": {
    "ExecuteTime": {
     "end_time": "2023-03-05T22:22:16.497502Z",
     "start_time": "2023-03-05T22:22:16.483400Z"
    }
   },
   "outputs": [
    {
     "data": {
      "text/plain": [
       "False"
      ]
     },
     "execution_count": 58,
     "metadata": {},
     "output_type": "execute_result"
    }
   ],
   "source": [
    "not 'world'"
   ]
  },
  {
   "cell_type": "markdown",
   "id": "45e8e69a",
   "metadata": {},
   "source": [
    "### NOTE : python considers empty strings as False"
   ]
  },
  {
   "cell_type": "code",
   "execution_count": 59,
   "id": "ca8ded88",
   "metadata": {
    "ExecuteTime": {
     "end_time": "2023-03-05T22:23:27.399228Z",
     "start_time": "2023-03-05T22:23:27.377917Z"
    }
   },
   "outputs": [
    {
     "data": {
      "text/plain": [
       "True"
      ]
     },
     "execution_count": 59,
     "metadata": {},
     "output_type": "execute_result"
    }
   ],
   "source": [
    "'d' in 'delhi'"
   ]
  },
  {
   "cell_type": "code",
   "execution_count": 60,
   "id": "186757a9",
   "metadata": {
    "ExecuteTime": {
     "end_time": "2023-03-05T22:23:34.505428Z",
     "start_time": "2023-03-05T22:23:34.489914Z"
    }
   },
   "outputs": [
    {
     "data": {
      "text/plain": [
       "False"
      ]
     },
     "execution_count": 60,
     "metadata": {},
     "output_type": "execute_result"
    }
   ],
   "source": [
    "'D' in 'delhi'"
   ]
  },
  {
   "cell_type": "markdown",
   "id": "02252146",
   "metadata": {},
   "source": [
    "### Common Functions"
   ]
  },
  {
   "cell_type": "markdown",
   "id": "93a624ec",
   "metadata": {
    "ExecuteTime": {
     "end_time": "2023-03-05T22:24:09.603287Z",
     "start_time": "2023-03-05T22:24:09.573593Z"
    }
   },
   "source": [
    "- len\n",
    "- max\n",
    "- min\n",
    "- sorted"
   ]
  },
  {
   "cell_type": "code",
   "execution_count": 1,
   "id": "005d0102",
   "metadata": {
    "ExecuteTime": {
     "end_time": "2023-03-05T22:24:20.118821Z",
     "start_time": "2023-03-05T22:24:20.102753Z"
    }
   },
   "outputs": [
    {
     "data": {
      "text/plain": [
       "11"
      ]
     },
     "execution_count": 1,
     "metadata": {},
     "output_type": "execute_result"
    }
   ],
   "source": [
    "len('hello world')"
   ]
  },
  {
   "cell_type": "code",
   "execution_count": 2,
   "id": "05cceb65",
   "metadata": {
    "ExecuteTime": {
     "end_time": "2023-03-05T22:24:28.498512Z",
     "start_time": "2023-03-05T22:24:28.486428Z"
    }
   },
   "outputs": [
    {
     "data": {
      "text/plain": [
       "'w'"
      ]
     },
     "execution_count": 2,
     "metadata": {},
     "output_type": "execute_result"
    }
   ],
   "source": [
    "max('hello world')"
   ]
  },
  {
   "cell_type": "code",
   "execution_count": 3,
   "id": "a82e7642",
   "metadata": {
    "ExecuteTime": {
     "end_time": "2023-03-05T22:24:34.597448Z",
     "start_time": "2023-03-05T22:24:34.581545Z"
    }
   },
   "outputs": [
    {
     "data": {
      "text/plain": [
       "' '"
      ]
     },
     "execution_count": 3,
     "metadata": {},
     "output_type": "execute_result"
    }
   ],
   "source": [
    "min('hello world')"
   ]
  },
  {
   "cell_type": "code",
   "execution_count": 4,
   "id": "dc95b0e8",
   "metadata": {
    "ExecuteTime": {
     "end_time": "2023-03-05T22:24:50.879542Z",
     "start_time": "2023-03-05T22:24:50.868004Z"
    }
   },
   "outputs": [
    {
     "data": {
      "text/plain": [
       "[' ', 'd', 'e', 'h', 'l', 'l', 'l', 'o', 'o', 'r', 'w']"
      ]
     },
     "execution_count": 4,
     "metadata": {},
     "output_type": "execute_result"
    }
   ],
   "source": [
    "sorted('hello world')"
   ]
  },
  {
   "cell_type": "code",
   "execution_count": 5,
   "id": "419f5916",
   "metadata": {
    "ExecuteTime": {
     "end_time": "2023-03-05T22:24:44.805241Z",
     "start_time": "2023-03-05T22:24:44.789161Z"
    }
   },
   "outputs": [
    {
     "data": {
      "text/plain": [
       "['w', 'r', 'o', 'o', 'l', 'l', 'l', 'h', 'e', 'd', ' ']"
      ]
     },
     "execution_count": 5,
     "metadata": {},
     "output_type": "execute_result"
    }
   ],
   "source": [
    "sorted('hello world',reverse=True)"
   ]
  },
  {
   "cell_type": "markdown",
   "id": "e72e71b9",
   "metadata": {},
   "source": [
    "## Capitalize/Title/Upper/Lower/Swapcase -> No change in original"
   ]
  },
  {
   "cell_type": "code",
   "execution_count": 88,
   "id": "3b3e4b7f",
   "metadata": {
    "ExecuteTime": {
     "end_time": "2023-03-05T22:33:43.758752Z",
     "start_time": "2023-03-05T22:33:43.751204Z"
    }
   },
   "outputs": [
    {
     "name": "stdout",
     "output_type": "stream",
     "text": [
      "Hello world\n",
      "\n",
      "hello world\n"
     ]
    }
   ],
   "source": [
    "s = 'hello world'\n",
    "print(s.capitalize())\n",
    "print()\n",
    "print(s)"
   ]
  },
  {
   "cell_type": "code",
   "execution_count": 68,
   "id": "d903b384",
   "metadata": {
    "ExecuteTime": {
     "end_time": "2023-03-05T22:25:22.932266Z",
     "start_time": "2023-03-05T22:25:22.915256Z"
    }
   },
   "outputs": [
    {
     "data": {
      "text/plain": [
       "'Hello World'"
      ]
     },
     "execution_count": 68,
     "metadata": {},
     "output_type": "execute_result"
    }
   ],
   "source": [
    "s.title() # upper case 1st letter of each word"
   ]
  },
  {
   "cell_type": "code",
   "execution_count": 69,
   "id": "43b5ef21",
   "metadata": {
    "ExecuteTime": {
     "end_time": "2023-03-05T22:25:53.459758Z",
     "start_time": "2023-03-05T22:25:53.437674Z"
    }
   },
   "outputs": [
    {
     "data": {
      "text/plain": [
       "'HELLO WORLD'"
      ]
     },
     "execution_count": 69,
     "metadata": {},
     "output_type": "execute_result"
    }
   ],
   "source": [
    "s.upper()"
   ]
  },
  {
   "cell_type": "code",
   "execution_count": 70,
   "id": "0edfb795",
   "metadata": {
    "ExecuteTime": {
     "end_time": "2023-03-05T22:25:59.893338Z",
     "start_time": "2023-03-05T22:25:59.878337Z"
    }
   },
   "outputs": [
    {
     "data": {
      "text/plain": [
       "'hello world'"
      ]
     },
     "execution_count": 70,
     "metadata": {},
     "output_type": "execute_result"
    }
   ],
   "source": [
    "s.lower()"
   ]
  },
  {
   "cell_type": "code",
   "execution_count": 72,
   "id": "77edbf82",
   "metadata": {
    "ExecuteTime": {
     "end_time": "2023-03-05T22:26:13.680356Z",
     "start_time": "2023-03-05T22:26:13.658834Z"
    }
   },
   "outputs": [
    {
     "data": {
      "text/plain": [
       "'hello world'"
      ]
     },
     "execution_count": 72,
     "metadata": {},
     "output_type": "execute_result"
    }
   ],
   "source": [
    "s"
   ]
  },
  {
   "cell_type": "code",
   "execution_count": 73,
   "id": "1027bbeb",
   "metadata": {
    "ExecuteTime": {
     "end_time": "2023-03-05T22:26:34.858059Z",
     "start_time": "2023-03-05T22:26:34.842042Z"
    }
   },
   "outputs": [
    {
     "data": {
      "text/plain": [
       "'HeLlO wOrLd'"
      ]
     },
     "execution_count": 73,
     "metadata": {},
     "output_type": "execute_result"
    }
   ],
   "source": [
    "'hElLo WoRlD'.swapcase()"
   ]
  },
  {
   "cell_type": "markdown",
   "id": "8e5fc0f3",
   "metadata": {},
   "source": [
    "## Count/Find/Index"
   ]
  },
  {
   "cell_type": "code",
   "execution_count": 74,
   "id": "8df36192",
   "metadata": {
    "ExecuteTime": {
     "end_time": "2023-03-05T22:26:51.823893Z",
     "start_time": "2023-03-05T22:26:51.810807Z"
    }
   },
   "outputs": [
    {
     "data": {
      "text/plain": [
       "3"
      ]
     },
     "execution_count": 74,
     "metadata": {},
     "output_type": "execute_result"
    }
   ],
   "source": [
    "'my name is nitish'.count('i')"
   ]
  },
  {
   "cell_type": "code",
   "execution_count": 78,
   "id": "7110d9e3",
   "metadata": {
    "ExecuteTime": {
     "end_time": "2023-03-05T22:30:13.802067Z",
     "start_time": "2023-03-05T22:30:13.787830Z"
    }
   },
   "outputs": [
    {
     "data": {
      "text/plain": [
       "3"
      ]
     },
     "execution_count": 78,
     "metadata": {},
     "output_type": "execute_result"
    }
   ],
   "source": [
    "'my name is nitish'.find('n')"
   ]
  },
  {
   "cell_type": "code",
   "execution_count": 77,
   "id": "b3fa4f91",
   "metadata": {
    "ExecuteTime": {
     "end_time": "2023-03-05T22:30:09.559180Z",
     "start_time": "2023-03-05T22:30:09.535931Z"
    }
   },
   "outputs": [
    {
     "data": {
      "text/plain": [
       "-1"
      ]
     },
     "execution_count": 77,
     "metadata": {},
     "output_type": "execute_result"
    }
   ],
   "source": [
    "'my name is nitish'.find('z') # not present then -1"
   ]
  },
  {
   "cell_type": "code",
   "execution_count": 79,
   "id": "7e190d75",
   "metadata": {
    "ExecuteTime": {
     "end_time": "2023-03-05T22:30:46.094799Z",
     "start_time": "2023-03-05T22:30:46.072714Z"
    }
   },
   "outputs": [
    {
     "data": {
      "text/plain": [
       "3"
      ]
     },
     "execution_count": 79,
     "metadata": {},
     "output_type": "execute_result"
    }
   ],
   "source": [
    "'my name is nitish'.index('n')"
   ]
  },
  {
   "cell_type": "markdown",
   "id": "2291eb71",
   "metadata": {},
   "source": [
    "## endswith/startswith"
   ]
  },
  {
   "cell_type": "code",
   "execution_count": 83,
   "id": "04e4ac33",
   "metadata": {
    "ExecuteTime": {
     "end_time": "2023-03-05T22:31:52.170558Z",
     "start_time": "2023-03-05T22:31:52.153570Z"
    }
   },
   "outputs": [
    {
     "data": {
      "text/plain": [
       "True"
      ]
     },
     "execution_count": 83,
     "metadata": {},
     "output_type": "execute_result"
    }
   ],
   "source": [
    "'my name is nitish'.startswith('my')"
   ]
  },
  {
   "cell_type": "code",
   "execution_count": 84,
   "id": "3d4c4faf",
   "metadata": {
    "ExecuteTime": {
     "end_time": "2023-03-05T22:31:57.914998Z",
     "start_time": "2023-03-05T22:31:57.898470Z"
    }
   },
   "outputs": [
    {
     "data": {
      "text/plain": [
       "False"
      ]
     },
     "execution_count": 84,
     "metadata": {},
     "output_type": "execute_result"
    }
   ],
   "source": [
    "'my name is nitish'.startswith('my1')"
   ]
  },
  {
   "cell_type": "code",
   "execution_count": 80,
   "id": "4b7007bf",
   "metadata": {
    "ExecuteTime": {
     "end_time": "2023-03-05T22:31:17.766121Z",
     "start_time": "2023-03-05T22:31:17.755601Z"
    }
   },
   "outputs": [
    {
     "data": {
      "text/plain": [
       "True"
      ]
     },
     "execution_count": 80,
     "metadata": {},
     "output_type": "execute_result"
    }
   ],
   "source": [
    "'my name is nitish'.endswith('sh')"
   ]
  },
  {
   "cell_type": "code",
   "execution_count": 81,
   "id": "62cdf9d6",
   "metadata": {
    "ExecuteTime": {
     "end_time": "2023-03-05T22:31:22.923183Z",
     "start_time": "2023-03-05T22:31:22.901059Z"
    }
   },
   "outputs": [
    {
     "data": {
      "text/plain": [
       "False"
      ]
     },
     "execution_count": 81,
     "metadata": {},
     "output_type": "execute_result"
    }
   ],
   "source": [
    "'my name is nitish'.endswith('sho')"
   ]
  },
  {
   "cell_type": "markdown",
   "id": "7613a1ba",
   "metadata": {},
   "source": [
    "## format"
   ]
  },
  {
   "cell_type": "code",
   "execution_count": 87,
   "id": "d9d3329b",
   "metadata": {
    "ExecuteTime": {
     "end_time": "2023-03-05T22:33:17.119071Z",
     "start_time": "2023-03-05T22:33:17.103065Z"
    }
   },
   "outputs": [
    {
     "name": "stdout",
     "output_type": "stream",
     "text": [
      " hi my name is nitish and my gender is male\n"
     ]
    }
   ],
   "source": [
    "name= 'nitish'\n",
    "gender = 'male'\n",
    "\n",
    "print(f' hi my name is {name} and my gender is {gender}')"
   ]
  },
  {
   "cell_type": "markdown",
   "id": "525620c2",
   "metadata": {},
   "source": [
    "## isalnum/ isalpha/ isdigit/ isidentifier"
   ]
  },
  {
   "cell_type": "code",
   "execution_count": 6,
   "id": "a6f2fc4c",
   "metadata": {
    "ExecuteTime": {
     "end_time": "2023-03-05T22:34:24.667283Z",
     "start_time": "2023-03-05T22:34:24.651872Z"
    }
   },
   "outputs": [
    {
     "data": {
      "text/plain": [
       "False"
      ]
     },
     "execution_count": 6,
     "metadata": {},
     "output_type": "execute_result"
    }
   ],
   "source": [
    "'nitish1234%'.isalnum() # checks is alpha numeric"
   ]
  },
  {
   "cell_type": "code",
   "execution_count": 7,
   "id": "7aefb679",
   "metadata": {
    "ExecuteTime": {
     "end_time": "2023-03-05T22:34:31.863150Z",
     "start_time": "2023-03-05T22:34:31.842451Z"
    }
   },
   "outputs": [
    {
     "data": {
      "text/plain": [
       "True"
      ]
     },
     "execution_count": 7,
     "metadata": {},
     "output_type": "execute_result"
    }
   ],
   "source": [
    "'niti34'.isalnum()"
   ]
  },
  {
   "cell_type": "code",
   "execution_count": 8,
   "id": "ec4f87dc",
   "metadata": {
    "ExecuteTime": {
     "end_time": "2023-03-05T22:34:54.798009Z",
     "start_time": "2023-03-05T22:34:54.790492Z"
    }
   },
   "outputs": [
    {
     "data": {
      "text/plain": [
       "True"
      ]
     },
     "execution_count": 8,
     "metadata": {},
     "output_type": "execute_result"
    }
   ],
   "source": [
    "'nitish'.isalpha()"
   ]
  },
  {
   "cell_type": "code",
   "execution_count": 12,
   "id": "15c5a4d2",
   "metadata": {},
   "outputs": [
    {
     "data": {
      "text/plain": [
       "True"
      ]
     },
     "execution_count": 12,
     "metadata": {},
     "output_type": "execute_result"
    }
   ],
   "source": [
    "'Nitish'.isalpha()"
   ]
  },
  {
   "cell_type": "code",
   "execution_count": 9,
   "id": "fb07eda2",
   "metadata": {
    "ExecuteTime": {
     "end_time": "2023-03-05T22:35:00.948394Z",
     "start_time": "2023-03-05T22:35:00.934395Z"
    }
   },
   "outputs": [
    {
     "data": {
      "text/plain": [
       "False"
      ]
     },
     "execution_count": 9,
     "metadata": {},
     "output_type": "execute_result"
    }
   ],
   "source": [
    "'123abc'.isdigit()"
   ]
  },
  {
   "cell_type": "code",
   "execution_count": 10,
   "id": "ce83935e",
   "metadata": {
    "ExecuteTime": {
     "end_time": "2023-03-05T22:35:08.858185Z",
     "start_time": "2023-03-05T22:35:08.847185Z"
    }
   },
   "outputs": [
    {
     "data": {
      "text/plain": [
       "True"
      ]
     },
     "execution_count": 10,
     "metadata": {},
     "output_type": "execute_result"
    }
   ],
   "source": [
    "'123'.isdigit()"
   ]
  },
  {
   "cell_type": "markdown",
   "id": "adb94141",
   "metadata": {},
   "source": [
    "##### identifier() - used to check whether a string is a valid identifier in Python or not."
   ]
  },
  {
   "cell_type": "markdown",
   "id": "637f0c53",
   "metadata": {},
   "source": [
    "An identifier in Python is a name used to identify a variable, function, class, module, or other objects. According to Python's syntax rules, an identifier:\n",
    "\n",
    "- Must start with a letter (a-z, A-Z) or an underscore (_).\n",
    "- Can be followed by letters, digits (0-9), or underscores.\n",
    "- Cannot be a reserved word or keyword."
   ]
  },
  {
   "cell_type": "code",
   "execution_count": 95,
   "id": "5f51b16d",
   "metadata": {
    "ExecuteTime": {
     "end_time": "2023-03-05T22:35:38.116009Z",
     "start_time": "2023-03-05T22:35:38.104839Z"
    }
   },
   "outputs": [
    {
     "data": {
      "text/plain": [
       "True"
      ]
     },
     "execution_count": 95,
     "metadata": {},
     "output_type": "execute_result"
    }
   ],
   "source": [
    "'name1'.isidentifier()"
   ]
  },
  {
   "cell_type": "code",
   "execution_count": 94,
   "id": "0e64f2e9",
   "metadata": {
    "ExecuteTime": {
     "end_time": "2023-03-05T22:35:15.365595Z",
     "start_time": "2023-03-05T22:35:15.349474Z"
    }
   },
   "outputs": [
    {
     "data": {
      "text/plain": [
       "False"
      ]
     },
     "execution_count": 94,
     "metadata": {},
     "output_type": "execute_result"
    }
   ],
   "source": [
    "'first-name'.isidentifier()"
   ]
  },
  {
   "cell_type": "code",
   "execution_count": 96,
   "id": "eda22a53",
   "metadata": {
    "ExecuteTime": {
     "end_time": "2023-03-05T22:35:57.190802Z",
     "start_time": "2023-03-05T22:35:57.168770Z"
    }
   },
   "outputs": [
    {
     "data": {
      "text/plain": [
       "True"
      ]
     },
     "execution_count": 96,
     "metadata": {},
     "output_type": "execute_result"
    }
   ],
   "source": [
    "'first_name'.isidentifier()"
   ]
  },
  {
   "cell_type": "markdown",
   "id": "8d3bf8fe",
   "metadata": {},
   "source": [
    "## Split/Join"
   ]
  },
  {
   "cell_type": "code",
   "execution_count": 97,
   "id": "b184874a",
   "metadata": {
    "ExecuteTime": {
     "end_time": "2023-03-05T22:36:14.042570Z",
     "start_time": "2023-03-05T22:36:14.019840Z"
    }
   },
   "outputs": [
    {
     "data": {
      "text/plain": [
       "['hi', 'my', 'name', 'is', 'nitish']"
      ]
     },
     "execution_count": 97,
     "metadata": {},
     "output_type": "execute_result"
    }
   ],
   "source": [
    "'hi my name is nitish'.split() # word by word"
   ]
  },
  {
   "cell_type": "code",
   "execution_count": 98,
   "id": "4874af15",
   "metadata": {
    "ExecuteTime": {
     "end_time": "2023-03-05T22:36:40.008444Z",
     "start_time": "2023-03-05T22:36:39.986823Z"
    }
   },
   "outputs": [
    {
     "data": {
      "text/plain": [
       "['hi my name ', ' nit', 'h']"
      ]
     },
     "execution_count": 98,
     "metadata": {},
     "output_type": "execute_result"
    }
   ],
   "source": [
    "'hi my name is nitish'.split('is')"
   ]
  },
  {
   "cell_type": "markdown",
   "id": "c7b541de",
   "metadata": {},
   "source": [
    "## Join"
   ]
  },
  {
   "cell_type": "code",
   "execution_count": 99,
   "id": "21dd55c2",
   "metadata": {
    "ExecuteTime": {
     "end_time": "2023-03-05T22:36:46.921011Z",
     "start_time": "2023-03-05T22:36:46.895423Z"
    }
   },
   "outputs": [
    {
     "data": {
      "text/plain": [
       "'hi my name is nitish'"
      ]
     },
     "execution_count": 99,
     "metadata": {},
     "output_type": "execute_result"
    }
   ],
   "source": [
    "\" \".join(['hi', 'my', 'name', 'is', 'nitish'])"
   ]
  },
  {
   "cell_type": "code",
   "execution_count": 100,
   "id": "d64cb931",
   "metadata": {
    "ExecuteTime": {
     "end_time": "2023-03-05T22:36:54.492666Z",
     "start_time": "2023-03-05T22:36:54.476927Z"
    }
   },
   "outputs": [
    {
     "data": {
      "text/plain": [
       "'hi-------my-------name-------is-------nitish'"
      ]
     },
     "execution_count": 100,
     "metadata": {},
     "output_type": "execute_result"
    }
   ],
   "source": [
    "\"-------\".join(['hi', 'my', 'name', 'is', 'nitish'])"
   ]
  },
  {
   "cell_type": "markdown",
   "id": "eae73fd1",
   "metadata": {},
   "source": [
    "## Replace"
   ]
  },
  {
   "cell_type": "code",
   "execution_count": 102,
   "id": "b864ee0b",
   "metadata": {
    "ExecuteTime": {
     "end_time": "2023-03-05T22:37:37.386499Z",
     "start_time": "2023-03-05T22:37:37.371506Z"
    }
   },
   "outputs": [
    {
     "data": {
      "text/plain": [
       "'hi my name is campusx'"
      ]
     },
     "execution_count": 102,
     "metadata": {},
     "output_type": "execute_result"
    }
   ],
   "source": [
    "'hi my name is nitish'.replace('nitish','campusx') # gets new string"
   ]
  },
  {
   "cell_type": "code",
   "execution_count": 101,
   "id": "1e3d1ea1",
   "metadata": {
    "ExecuteTime": {
     "end_time": "2023-03-05T22:37:15.214651Z",
     "start_time": "2023-03-05T22:37:15.194231Z"
    }
   },
   "outputs": [
    {
     "data": {
      "text/plain": [
       "'hi my name is nitish'"
      ]
     },
     "execution_count": 101,
     "metadata": {},
     "output_type": "execute_result"
    }
   ],
   "source": [
    "'hi my name is nitish'.replace('nitisrgewrhgh','campusx')"
   ]
  },
  {
   "cell_type": "markdown",
   "id": "ba69a04f",
   "metadata": {},
   "source": [
    "## Strip"
   ]
  },
  {
   "cell_type": "markdown",
   "id": "b2affd37",
   "metadata": {},
   "source": [
    "removes trailing spaces"
   ]
  },
  {
   "cell_type": "code",
   "execution_count": 103,
   "id": "12a10dd1",
   "metadata": {
    "ExecuteTime": {
     "end_time": "2023-03-05T22:38:07.538420Z",
     "start_time": "2023-03-05T22:38:07.516978Z"
    }
   },
   "outputs": [
    {
     "data": {
      "text/plain": [
       "'nitish'"
      ]
     },
     "execution_count": 103,
     "metadata": {},
     "output_type": "execute_result"
    }
   ],
   "source": [
    "'nitish                           '.strip()"
   ]
  },
  {
   "cell_type": "code",
   "execution_count": 109,
   "id": "f09eee34",
   "metadata": {
    "ExecuteTime": {
     "end_time": "2023-03-05T22:39:25.870546Z",
     "start_time": "2023-03-05T22:39:25.861049Z"
    }
   },
   "outputs": [
    {
     "data": {
      "text/plain": [
       "'nitish12345****bnfjf//////nj8236--12b'"
      ]
     },
     "execution_count": 109,
     "metadata": {},
     "output_type": "execute_result"
    }
   ],
   "source": [
    "'nitish12345****bnfjf//////nj8236--12b'.strip('*,/////////--') # not working right now"
   ]
  },
  {
   "cell_type": "markdown",
   "id": "c6fd03e1",
   "metadata": {},
   "source": [
    "## Example Programs"
   ]
  },
  {
   "cell_type": "code",
   "execution_count": 110,
   "id": "1a1590d7",
   "metadata": {
    "ExecuteTime": {
     "end_time": "2023-03-05T22:42:43.175243Z",
     "start_time": "2023-03-05T22:42:36.734759Z"
    }
   },
   "outputs": [
    {
     "name": "stdout",
     "output_type": "stream",
     "text": [
      "enter the stringhello world\n",
      "length of string is 11\n"
     ]
    }
   ],
   "source": [
    "# Find the length of a given string without using the len() function\n",
    "\n",
    "s = input('enter the string')\n",
    "\n",
    "counter = 0\n",
    "\n",
    "for i in s:\n",
    "    counter += 1\n",
    "\n",
    "print('length of string is',counter)"
   ]
  },
  {
   "cell_type": "code",
   "execution_count": 27,
   "id": "7b086815",
   "metadata": {
    "ExecuteTime": {
     "end_time": "2024-08-07T09:44:40.932290Z",
     "start_time": "2024-08-07T09:44:33.300427Z"
    }
   },
   "outputs": [
    {
     "name": "stdout",
     "output_type": "stream",
     "text": [
      "enter the email : mkr9395@gmail.com\n",
      "mkr9395\n"
     ]
    }
   ],
   "source": [
    "# Extract username from a given email. \n",
    "# Eg if the email is nitish24singh@gmail.com \n",
    "# then the username should be nitish24singh\n",
    "\n",
    "s = input('enter the email : ')\n",
    "\n",
    "pos = s.index('@')\n",
    "print(s[0:pos]) # slicing in string\n"
   ]
  },
  {
   "cell_type": "markdown",
   "id": "74daa8e9",
   "metadata": {},
   "source": [
    "##### OR"
   ]
  },
  {
   "cell_type": "code",
   "execution_count": 6,
   "id": "c5cc3717",
   "metadata": {
    "ExecuteTime": {
     "end_time": "2024-02-11T10:09:09.628546Z",
     "start_time": "2024-02-11T10:09:09.613366Z"
    }
   },
   "outputs": [
    {
     "name": "stdout",
     "output_type": "stream",
     "text": [
      "username is:  mkr\n"
     ]
    }
   ],
   "source": [
    "s = 'mkr@gmail'\n",
    "s.split('@')\n",
    "print('username is: ',s.split('@')[0])"
   ]
  },
  {
   "cell_type": "code",
   "execution_count": 16,
   "id": "2ffa22c6",
   "metadata": {
    "ExecuteTime": {
     "end_time": "2024-02-11T10:12:22.127830Z",
     "start_time": "2024-02-11T10:12:19.025163Z"
    }
   },
   "outputs": [
    {
     "name": "stdout",
     "output_type": "stream",
     "text": [
      "enter the email \n",
      "http://localhost:8888/notebooks/Python/1.%20PythonBasics_CampusX.ipynb\n",
      "\n",
      "what would like to search for \n",
      "h\n",
      "\n",
      "frequency of letter h is 4\n"
     ]
    }
   ],
   "source": [
    "# Count the frequency of a particular character in a provided string. \n",
    "# Eg 'hello how are you' is the string, the frequency of h in this string is 2.\n",
    "\n",
    "s = input('enter the email \\n')\n",
    "print()\n",
    "term = input('what would like to search for \\n')\n",
    "\n",
    "counter = 0\n",
    "for i in s:\n",
    "    if i == term:\n",
    "        counter += 1\n",
    "\n",
    "print(f'\\nfrequency of letter {term} is {counter}')"
   ]
  },
  {
   "cell_type": "code",
   "execution_count": 114,
   "id": "118e7ce9",
   "metadata": {
    "ExecuteTime": {
     "end_time": "2023-03-05T22:45:05.906427Z",
     "start_time": "2023-03-05T22:45:00.545229Z"
    }
   },
   "outputs": [
    {
     "name": "stdout",
     "output_type": "stream",
     "text": [
      "enter the stringhi my name is\n",
      "what would like to removei\n",
      "h my name s\n"
     ]
    }
   ],
   "source": [
    "# Write a program which can remove a particular character from a string.\n",
    "s = input('enter the string')\n",
    "term = input('what would like to remove')\n",
    "\n",
    "result = ''\n",
    "\n",
    "for i in s:\n",
    "      if i != term:\n",
    "        result = result + i\n",
    "\n",
    "print(result)"
   ]
  },
  {
   "cell_type": "markdown",
   "id": "604ea64a",
   "metadata": {},
   "source": [
    "### Palindrome string\n"
   ]
  },
  {
   "cell_type": "code",
   "execution_count": 49,
   "id": "4a90c033",
   "metadata": {
    "ExecuteTime": {
     "end_time": "2024-08-07T10:47:54.383318Z",
     "start_time": "2024-08-07T10:47:52.596409Z"
    }
   },
   "outputs": [
    {
     "name": "stdout",
     "output_type": "stream",
     "text": [
      "enter the string : ambbma\n",
      "Palindrome\n"
     ]
    }
   ],
   "source": [
    "# Write a program that can check whether a given string is palindrome or not.\n",
    "# abba\n",
    "# malayalam\n",
    "\n",
    "s = input('enter the string : ')\n",
    "flag = True\n",
    "for i in range(len(s)//2):\n",
    "      if s[i] != s[len(s) - i -1]:\n",
    "        flag = False\n",
    "        print('Not a Palindrome')\n",
    "        break\n",
    "\n",
    "if flag:\n",
    "      print('Palindrome')\n"
   ]
  },
  {
   "cell_type": "code",
   "execution_count": 60,
   "id": "ac9fe1a2",
   "metadata": {
    "ExecuteTime": {
     "end_time": "2024-08-07T10:59:48.563350Z",
     "start_time": "2024-08-07T10:59:48.546157Z"
    }
   },
   "outputs": [
    {
     "data": {
      "text/plain": [
       "2"
      ]
     },
     "execution_count": 60,
     "metadata": {},
     "output_type": "execute_result"
    }
   ],
   "source": [
    "5//2"
   ]
  },
  {
   "cell_type": "code",
   "execution_count": 61,
   "id": "88d5ed5b",
   "metadata": {
    "ExecuteTime": {
     "end_time": "2024-08-07T10:59:52.055180Z",
     "start_time": "2024-08-07T10:59:52.036770Z"
    }
   },
   "outputs": [
    {
     "data": {
      "text/plain": [
       "2"
      ]
     },
     "execution_count": 61,
     "metadata": {},
     "output_type": "execute_result"
    }
   ],
   "source": [
    "4//2"
   ]
  },
  {
   "cell_type": "code",
   "execution_count": 62,
   "id": "44399a99",
   "metadata": {
    "ExecuteTime": {
     "end_time": "2024-08-07T11:00:22.200995Z",
     "start_time": "2024-08-07T11:00:22.185264Z"
    }
   },
   "outputs": [
    {
     "name": "stdout",
     "output_type": "stream",
     "text": [
      "len of s :  5\n",
      "index to split 2\n",
      "palindrome\n"
     ]
    }
   ],
   "source": [
    "s = 'ambma'\n",
    "\n",
    "\n",
    "print('len of s : ',len(s))\n",
    "if len(s)%2 == 0:\n",
    "    index_to_split = len(s)//2\n",
    "    print('index to split',index_to_split)\n",
    "    if s[:index_to_split] == s[-1:(index_to_split-1):-1]:\n",
    "        print('palindrome')\n",
    "    else:\n",
    "        print('not palindrome')\n",
    "else:\n",
    "    index_to_split = len(s)//2\n",
    "    print('index to split',index_to_split)\n",
    "    if s[:index_to_split] == s[-1:index_to_split:-1]:\n",
    "        print('palindrome')\n",
    "    else:\n",
    "        print('not palindrome')"
   ]
  },
  {
   "cell_type": "code",
   "execution_count": 34,
   "id": "c32a4b93",
   "metadata": {
    "ExecuteTime": {
     "end_time": "2024-02-11T10:24:28.450725Z",
     "start_time": "2024-02-11T10:24:24.263021Z"
    }
   },
   "outputs": [
    {
     "name": "stdout",
     "output_type": "stream",
     "text": [
      "enter the string \n",
      "my name is  \n",
      "number of words is 3\n"
     ]
    }
   ],
   "source": [
    "# Write a program to count the number of words in a string without split()\n",
    "\n",
    "s = input('enter the string \\n').strip()\n",
    "\n",
    "counter = 1\n",
    "\n",
    "if len(s) == 0:\n",
    "        counter = 0\n",
    "else:\n",
    "    for i in s:\n",
    "        if i == ' ':\n",
    "            counter = counter + 1\n",
    "print(f'number of words is {counter}')"
   ]
  },
  {
   "cell_type": "code",
   "execution_count": null,
   "id": "48634d76",
   "metadata": {},
   "outputs": [],
   "source": [
    "# Write a python program to convert a string to title case without using the title()\n",
    "s = input('enter the string')\n",
    "\n",
    "L = []\n",
    "for i in s.split():\n",
    "    L.append(i[0].upper() + i[1:].lower())\n",
    "\n",
    "print(\" \".join(L))"
   ]
  },
  {
   "cell_type": "markdown",
   "id": "30e80753",
   "metadata": {},
   "source": [
    "#### Write a program that can convert an integer to string."
   ]
  },
  {
   "cell_type": "code",
   "execution_count": 64,
   "id": "e8cb2b6c",
   "metadata": {
    "ExecuteTime": {
     "end_time": "2024-08-07T11:06:49.720899Z",
     "start_time": "2024-08-07T11:06:47.494189Z"
    }
   },
   "outputs": [
    {
     "name": "stdout",
     "output_type": "stream",
     "text": [
      "enter the number56\n",
      "56\n",
      "<class 'str'>\n"
     ]
    }
   ],
   "source": [
    "number = int(input('enter the number'))\n",
    "\n",
    "digits = '0123456789'\n",
    "result = ''\n",
    "while number != 0:\n",
    "    result = digits[number % 10] + result\n",
    "    number = number//10\n",
    "    \n",
    "\n",
    "print(result)\n",
    "print(type(result))"
   ]
  },
  {
   "cell_type": "code",
   "execution_count": 65,
   "id": "7cf7bfaa",
   "metadata": {
    "ExecuteTime": {
     "end_time": "2024-08-07T11:09:15.686607Z",
     "start_time": "2024-08-07T11:09:15.670839Z"
    }
   },
   "outputs": [
    {
     "data": {
      "text/plain": [
       "976776"
      ]
     },
     "execution_count": 65,
     "metadata": {},
     "output_type": "execute_result"
    }
   ],
   "source": [
    "9767765//10\n"
   ]
  },
  {
   "cell_type": "code",
   "execution_count": 66,
   "id": "e5909ea9",
   "metadata": {
    "ExecuteTime": {
     "end_time": "2024-08-07T11:09:23.746492Z",
     "start_time": "2024-08-07T11:09:23.726648Z"
    }
   },
   "outputs": [
    {
     "data": {
      "text/plain": [
       "5"
      ]
     },
     "execution_count": 66,
     "metadata": {},
     "output_type": "execute_result"
    }
   ],
   "source": [
    "9767765%10\n"
   ]
  },
  {
   "cell_type": "markdown",
   "id": "6402f273",
   "metadata": {},
   "source": [
    "___\n",
    "___\n",
    "___"
   ]
  },
  {
   "cell_type": "markdown",
   "id": "dfbd3eca",
   "metadata": {},
   "source": [
    "# Session 4 : Lists"
   ]
  },
  {
   "cell_type": "markdown",
   "id": "cf970550",
   "metadata": {},
   "source": [
    "- What are Lists?\n",
    "- Lists Vs Arrays\n",
    "- Characterstics of a List\n",
    "- How to create a list\n",
    "- Access items from a List\n",
    "- Editing items in a List\n",
    "- Deleting items from a List\n",
    "- Operations on Lists\n",
    "- Functions on Lists\n",
    "\n"
   ]
  },
  {
   "cell_type": "markdown",
   "id": "82e14093",
   "metadata": {},
   "source": [
    "### What are Lists\n",
    "List is a data type where you can store multiple items under 1 name. More technically, lists act like dynamic arrays which means you can add more items on the fly."
   ]
  },
  {
   "cell_type": "markdown",
   "id": "8c624c26",
   "metadata": {},
   "source": [
    "### Array Vs Lists\n",
    "- Fixed Vs Dynamic Size\n",
    "- Convenience -> Hetrogeneous\n",
    "- Speed of Execution\n",
    "- Memory"
   ]
  },
  {
   "cell_type": "code",
   "execution_count": 5,
   "id": "68aadd3e",
   "metadata": {
    "ExecuteTime": {
     "end_time": "2023-02-27T20:27:18.029413Z",
     "start_time": "2023-02-27T20:27:18.012330Z"
    }
   },
   "outputs": [
    {
     "name": "stdout",
     "output_type": "stream",
     "text": [
      "2099804509760\n",
      "2099699345712\n",
      "2099699345744\n",
      "2099699345776\n",
      "2099699345712\n",
      "2099699345744\n",
      "2099699345776\n"
     ]
    }
   ],
   "source": [
    "L = [1,2,3]\n",
    "\n",
    "print(id(L))\n",
    "print(id(L[0]))\n",
    "print(id(L[1]))\n",
    "print(id(L[2]))\n",
    "print(id(1))\n",
    "print(id(2))\n",
    "print(id(3))"
   ]
  },
  {
   "cell_type": "markdown",
   "id": "531c7527",
   "metadata": {},
   "source": [
    "### How lists are stored in memory"
   ]
  },
  {
   "cell_type": "markdown",
   "id": "5aedfe8c",
   "metadata": {},
   "source": [
    "## Characterstics of a List\n",
    "\n",
    "### - Ordered\n",
    "### - Changeble/Mutable\n",
    "### - Hetrogeneous\n",
    "### - Can have duplicates\n",
    "### - are dynamic\n",
    "### - can be nested\n",
    "### - items can be accessed \n",
    "### - can contain any kind of objects in python"
   ]
  },
  {
   "cell_type": "code",
   "execution_count": 6,
   "id": "40ef4d01",
   "metadata": {
    "ExecuteTime": {
     "end_time": "2023-02-27T20:28:25.618140Z",
     "start_time": "2023-02-27T20:28:25.607029Z"
    }
   },
   "outputs": [
    {
     "data": {
      "text/plain": [
       "False"
      ]
     },
     "execution_count": 6,
     "metadata": {},
     "output_type": "execute_result"
    }
   ],
   "source": [
    "L = [1,2,3,1]\n",
    "L1 = [3,2,1]\n",
    "\n",
    "L == L1"
   ]
  },
  {
   "cell_type": "markdown",
   "id": "06ac16d7",
   "metadata": {},
   "source": [
    "### Creating a List"
   ]
  },
  {
   "cell_type": "code",
   "execution_count": 7,
   "id": "cbac82b7",
   "metadata": {
    "ExecuteTime": {
     "end_time": "2023-02-27T20:28:44.727755Z",
     "start_time": "2023-02-27T20:28:44.709586Z"
    }
   },
   "outputs": [
    {
     "name": "stdout",
     "output_type": "stream",
     "text": [
      "[]\n",
      "[1, 2, 3, 4, 5]\n",
      "[1, 2, 3, [4, 5]]\n",
      "[[[1, 2], [3, 4]], [[5, 6], [7, 8]]]\n",
      "[1, True, 5.6, (5+6j), 'Hello']\n",
      "['h', 'e', 'l', 'l', 'o']\n"
     ]
    }
   ],
   "source": [
    "# Empty\n",
    "print([])\n",
    "# 1D -> Homo\n",
    "print([1,2,3,4,5])\n",
    "# 2D\n",
    "print([1,2,3,[4,5]])\n",
    "# 3D\n",
    "print([[[1,2],[3,4]],[[5,6],[7,8]]])\n",
    "# Hetrogenous\n",
    "print([1,True,5.6,5+6j,'Hello'])\n",
    "# Using Type conversion\n",
    "print(list('hello'))"
   ]
  },
  {
   "cell_type": "markdown",
   "id": "b2b0f536",
   "metadata": {},
   "source": [
    "### The difference between `list(x)` and `[x]` :"
   ]
  },
  {
   "cell_type": "code",
   "execution_count": 40,
   "id": "63df7679",
   "metadata": {
    "ExecuteTime": {
     "end_time": "2024-02-13T09:51:39.721185Z",
     "start_time": "2024-02-13T09:51:39.694811Z"
    }
   },
   "outputs": [
    {
     "name": "stdout",
     "output_type": "stream",
     "text": [
      "['h', 'e', 'l', 'l', 'o']\n",
      "['hello']\n"
     ]
    }
   ],
   "source": [
    "t = 'hello'\n",
    "print(list(t))\n",
    "\n",
    "print([t])"
   ]
  },
  {
   "cell_type": "markdown",
   "id": "3e6e6b4a",
   "metadata": {},
   "source": [
    "The behavior difference between `list(x)` and `[x]` arises from how each operation treats the input `x`.\n",
    "\n",
    "1. `list(x)`:\n",
    "   - When you use `list(x)`, Python treats `x` as an iterable or sequence (such as a string, list, tuple, etc.).\n",
    "   - It then converts each element of `x` into separate items and creates a list from those items.\n",
    "   - For example, if `x` is a string like `'hello'`, `list(x)` will produce a list of individual characters: `['h', 'e', 'l', 'l', 'o']`.\n",
    "\n",
    "\n",
    "\n",
    "2. `[x]`:\n",
    "   - When you enclose `x` within square brackets `[]`, you're creating a new list with `x` as its single element.\n",
    "   - It doesn't matter whether `x` is an iterable or any other type; it will simply be inserted as a single element into the list.\n",
    "   - For example, if `x` is the string `'hello'`, `[x]` will produce a list containing the string as its single element: `['hello']`.\n",
    "\n",
    "So, the difference between `list(x)` and `[x]` lies in their treatment of `x`: one converts its elements into separate items, while the other simply inserts `x` as a single element into a list."
   ]
  },
  {
   "cell_type": "markdown",
   "id": "4c7b8e89",
   "metadata": {},
   "source": [
    "### Accessing Items from a List"
   ]
  },
  {
   "cell_type": "code",
   "execution_count": 8,
   "id": "3bac5854",
   "metadata": {
    "ExecuteTime": {
     "end_time": "2023-02-27T20:28:59.644333Z",
     "start_time": "2023-02-27T20:28:59.624744Z"
    }
   },
   "outputs": [
    {
     "name": "stdout",
     "output_type": "stream",
     "text": [
      "[6, 5, 4, 3, 2, 1]\n"
     ]
    }
   ],
   "source": [
    "# Indexing\n",
    "L = [[[1,2],[3,4]],[[5,6],[7,8]]]\n",
    "#positive\n",
    "#print(L[0][0][1])\n",
    "\n",
    "# Slicing\n",
    "L = [1,2,3,4,5,6]\n",
    "\n",
    "print(L[::-1])"
   ]
  },
  {
   "cell_type": "markdown",
   "id": "9b9bbc24",
   "metadata": {},
   "source": [
    "### append"
   ]
  },
  {
   "cell_type": "code",
   "execution_count": 9,
   "id": "102dc7a7",
   "metadata": {
    "ExecuteTime": {
     "end_time": "2023-02-27T20:29:18.945932Z",
     "start_time": "2023-02-27T20:29:18.930411Z"
    }
   },
   "outputs": [
    {
     "name": "stdout",
     "output_type": "stream",
     "text": [
      "[1, 2, 3, 4, 5, True]\n"
     ]
    }
   ],
   "source": [
    "L = [1,2,3,4,5]\n",
    "L.append(True)\n",
    "print(L)"
   ]
  },
  {
   "cell_type": "code",
   "execution_count": 69,
   "id": "0487b1bc",
   "metadata": {
    "ExecuteTime": {
     "end_time": "2024-08-07T11:43:52.146051Z",
     "start_time": "2024-08-07T11:43:52.129957Z"
    }
   },
   "outputs": [
    {
     "name": "stdout",
     "output_type": "stream",
     "text": [
      "[[1, 2, 3, 4, 5]]\n"
     ]
    }
   ],
   "source": [
    "L = []\n",
    "m = [1,2,3,4,5]\n",
    "L.append(m)\n",
    "print(L)"
   ]
  },
  {
   "cell_type": "markdown",
   "id": "aaaa7d7f",
   "metadata": {},
   "source": [
    "### extend"
   ]
  },
  {
   "cell_type": "code",
   "execution_count": 5,
   "id": "d072f793",
   "metadata": {
    "ExecuteTime": {
     "end_time": "2023-03-04T17:06:33.407868Z",
     "start_time": "2023-03-04T17:06:33.400352Z"
    }
   },
   "outputs": [
    {
     "data": {
      "text/plain": [
       "['2']"
      ]
     },
     "execution_count": 5,
     "metadata": {},
     "output_type": "execute_result"
    }
   ],
   "source": [
    "L = []\n",
    "L.extend('2')\n",
    "L"
   ]
  },
  {
   "cell_type": "code",
   "execution_count": 3,
   "id": "c1baa55c",
   "metadata": {
    "ExecuteTime": {
     "end_time": "2023-03-04T17:04:20.354308Z",
     "start_time": "2023-03-04T17:04:20.344569Z"
    }
   },
   "outputs": [
    {
     "data": {
      "text/plain": [
       "[6, 7, 8]"
      ]
     },
     "execution_count": 3,
     "metadata": {},
     "output_type": "execute_result"
    }
   ],
   "source": [
    "L = []\n",
    "L.extend([6,7,8])\n",
    "L"
   ]
  },
  {
   "cell_type": "code",
   "execution_count": 10,
   "id": "80924337",
   "metadata": {
    "ExecuteTime": {
     "end_time": "2023-02-27T20:29:27.952232Z",
     "start_time": "2023-02-27T20:29:27.934158Z"
    }
   },
   "outputs": [
    {
     "name": "stdout",
     "output_type": "stream",
     "text": [
      "[1, 2, 3, 4, 5, 6, 7, 8]\n"
     ]
    }
   ],
   "source": [
    "L = [1,2,3,4,5]\n",
    "L.extend([6,7,8])\n",
    "print(L)"
   ]
  },
  {
   "cell_type": "code",
   "execution_count": 11,
   "id": "d863b1ab",
   "metadata": {
    "ExecuteTime": {
     "end_time": "2023-02-27T20:29:33.533576Z",
     "start_time": "2023-02-27T20:29:33.523369Z"
    }
   },
   "outputs": [
    {
     "name": "stdout",
     "output_type": "stream",
     "text": [
      "[1, 2, 3, 4, 5, [6, 7, 8]]\n"
     ]
    }
   ],
   "source": [
    "L = [1,2,3,4,5]\n",
    "L.append([6,7,8])\n",
    "print(L)"
   ]
  },
  {
   "cell_type": "code",
   "execution_count": 12,
   "id": "0b32b304",
   "metadata": {
    "ExecuteTime": {
     "end_time": "2023-02-27T20:29:40.934404Z",
     "start_time": "2023-02-27T20:29:40.914675Z"
    }
   },
   "outputs": [
    {
     "name": "stdout",
     "output_type": "stream",
     "text": [
      "[1, 2, 3, 4, 5, 'd', 'e', 'l', 'h', 'i']\n"
     ]
    }
   ],
   "source": [
    "L = [1,2,3,4,5]\n",
    "L.extend('delhi')\n",
    "print(L)"
   ]
  },
  {
   "cell_type": "markdown",
   "id": "9b79ef92",
   "metadata": {},
   "source": [
    "### Difference between append and extend:"
   ]
  },
  {
   "cell_type": "markdown",
   "id": "b5240641",
   "metadata": {},
   "source": [
    "`append()` adds its argument as a single element to the end of the list, while `extend()`adds each element of its iterable argument individually to the end of the list."
   ]
  },
  {
   "cell_type": "code",
   "execution_count": 39,
   "id": "04a4c016",
   "metadata": {
    "ExecuteTime": {
     "end_time": "2024-02-11T11:32:39.959807Z",
     "start_time": "2024-02-11T11:32:39.939315Z"
    }
   },
   "outputs": [
    {
     "name": "stdout",
     "output_type": "stream",
     "text": [
      "after extend :  [1, 2, 3, 4, 5, 6, 7, 8]\n",
      "after append :  [1, 2, 3, 4, 5, [6, 7, 8]]\n"
     ]
    }
   ],
   "source": [
    "L = [1,2,3,4,5]\n",
    "L.extend([6,7,8])\n",
    "print('after extend : ',L)\n",
    "\n",
    "L = [1,2,3,4,5]\n",
    "L.append([6,7,8])\n",
    "print('after append : ',L)"
   ]
  },
  {
   "cell_type": "markdown",
   "id": "f7cdc385",
   "metadata": {},
   "source": [
    "### insert -> with index number"
   ]
  },
  {
   "cell_type": "code",
   "execution_count": 13,
   "id": "910eca92",
   "metadata": {
    "ExecuteTime": {
     "end_time": "2023-02-27T20:29:50.699354Z",
     "start_time": "2023-02-27T20:29:50.693280Z"
    }
   },
   "outputs": [
    {
     "name": "stdout",
     "output_type": "stream",
     "text": [
      "[1, 100, 2, 3, 4, 5]\n"
     ]
    }
   ],
   "source": [
    "L = [1,2,3,4,5]\n",
    "\n",
    "L.insert(1,100)\n",
    "print(L)"
   ]
  },
  {
   "cell_type": "markdown",
   "id": "010fab87",
   "metadata": {},
   "source": [
    "## Editing items in a List"
   ]
  },
  {
   "cell_type": "code",
   "execution_count": 14,
   "id": "59cbd647",
   "metadata": {
    "ExecuteTime": {
     "end_time": "2023-02-27T20:30:05.083813Z",
     "start_time": "2023-02-27T20:30:05.070238Z"
    }
   },
   "outputs": [
    {
     "name": "stdout",
     "output_type": "stream",
     "text": [
      "[1, 200, 300, 400, 500]\n"
     ]
    }
   ],
   "source": [
    "L = [1,2,3,4,5]\n",
    "\n",
    "# editing with indexing\n",
    "L[-1] = 500\n",
    "    \n",
    "# editing with slicing\n",
    "L[1:4] = [200,300,400]\n",
    "\n",
    "print(L)"
   ]
  },
  {
   "cell_type": "markdown",
   "id": "419cfccd",
   "metadata": {},
   "source": [
    "## Deleting items from a List"
   ]
  },
  {
   "cell_type": "markdown",
   "id": "6ee33e14",
   "metadata": {},
   "source": [
    "### del"
   ]
  },
  {
   "cell_type": "code",
   "execution_count": 18,
   "id": "65cce4ab",
   "metadata": {
    "ExecuteTime": {
     "end_time": "2023-02-27T20:30:38.097819Z",
     "start_time": "2023-02-27T20:30:38.089352Z"
    }
   },
   "outputs": [
    {
     "data": {
      "text/plain": [
       "[1, 2, 3, 4]"
      ]
     },
     "execution_count": 18,
     "metadata": {},
     "output_type": "execute_result"
    }
   ],
   "source": [
    "L = [1,2,3,4,5]\n",
    "del L[-1]\n",
    "L"
   ]
  },
  {
   "cell_type": "markdown",
   "id": "5a332de5",
   "metadata": {
    "ExecuteTime": {
     "end_time": "2023-02-27T20:30:29.582209Z",
     "start_time": "2023-02-27T20:30:29.563174Z"
    }
   },
   "source": [
    "### indexing slicing"
   ]
  },
  {
   "cell_type": "code",
   "execution_count": 19,
   "id": "a3f1e1c6",
   "metadata": {
    "ExecuteTime": {
     "end_time": "2023-02-27T20:31:02.892997Z",
     "start_time": "2023-02-27T20:31:02.877552Z"
    }
   },
   "outputs": [
    {
     "name": "stdout",
     "output_type": "stream",
     "text": [
      "[1, 4, 5]\n"
     ]
    }
   ],
   "source": [
    "L = [1,2,3,4,5]\n",
    "\n",
    "\n",
    "del L[1:3]\n",
    "print(L)"
   ]
  },
  {
   "cell_type": "markdown",
   "id": "cd92ef51",
   "metadata": {},
   "source": [
    "### remove : needs value"
   ]
  },
  {
   "cell_type": "code",
   "execution_count": 20,
   "id": "c7f33d85",
   "metadata": {
    "ExecuteTime": {
     "end_time": "2023-02-27T20:31:11.311407Z",
     "start_time": "2023-02-27T20:31:11.296234Z"
    }
   },
   "outputs": [
    {
     "name": "stdout",
     "output_type": "stream",
     "text": [
      "[1, 2, 3, 4]\n"
     ]
    }
   ],
   "source": [
    "L = [1,2,3,4,5]\n",
    "\n",
    "L.remove(5)\n",
    "\n",
    "print(L)"
   ]
  },
  {
   "cell_type": "markdown",
   "id": "17cc22dc",
   "metadata": {},
   "source": [
    "### pop - by index"
   ]
  },
  {
   "cell_type": "markdown",
   "id": "95ec1ed0",
   "metadata": {},
   "source": [
    "The `pop()` method removes the element at the specified position (index). If no index is specified, it removes the last item."
   ]
  },
  {
   "cell_type": "code",
   "execution_count": 6,
   "id": "ec06f0b2",
   "metadata": {
    "ExecuteTime": {
     "end_time": "2023-03-04T17:08:01.577882Z",
     "start_time": "2023-03-04T17:08:01.566050Z"
    }
   },
   "outputs": [
    {
     "name": "stdout",
     "output_type": "stream",
     "text": [
      "[1, 2, 3, 4]\n"
     ]
    }
   ],
   "source": [
    "L = [1,2,3,4,5]\n",
    "\n",
    "L.pop()\n",
    "\n",
    "print(L)"
   ]
  },
  {
   "cell_type": "code",
   "execution_count": 7,
   "id": "0a1953fe",
   "metadata": {
    "ExecuteTime": {
     "end_time": "2023-03-04T17:08:07.045809Z",
     "start_time": "2023-03-04T17:08:07.028225Z"
    }
   },
   "outputs": [
    {
     "data": {
      "text/plain": [
       "1"
      ]
     },
     "execution_count": 7,
     "metadata": {},
     "output_type": "execute_result"
    }
   ],
   "source": [
    "L.pop(0)"
   ]
  },
  {
   "cell_type": "code",
   "execution_count": 8,
   "id": "b0381836",
   "metadata": {
    "ExecuteTime": {
     "end_time": "2023-03-04T17:08:10.703144Z",
     "start_time": "2023-03-04T17:08:10.686036Z"
    }
   },
   "outputs": [
    {
     "data": {
      "text/plain": [
       "[2, 3, 4]"
      ]
     },
     "execution_count": 8,
     "metadata": {},
     "output_type": "execute_result"
    }
   ],
   "source": [
    "L"
   ]
  },
  {
   "cell_type": "markdown",
   "id": "e0a7ffc2",
   "metadata": {},
   "source": [
    "### clear"
   ]
  },
  {
   "cell_type": "code",
   "execution_count": 1,
   "id": "8d7fab18",
   "metadata": {
    "ExecuteTime": {
     "end_time": "2024-02-27T09:22:15.656804Z",
     "start_time": "2024-02-27T09:22:15.642748Z"
    }
   },
   "outputs": [
    {
     "name": "stdout",
     "output_type": "stream",
     "text": [
      "[]\n"
     ]
    }
   ],
   "source": [
    "L = [1,2,3,4,5]\n",
    "\n",
    "L.clear()\n",
    "\n",
    "print(L)"
   ]
  },
  {
   "cell_type": "markdown",
   "id": "df9955bd",
   "metadata": {},
   "source": [
    "## Operations on Lists\n",
    "\n",
    "- Arithmetic\n",
    "- Membership\n",
    "- Loop"
   ]
  },
  {
   "cell_type": "code",
   "execution_count": 23,
   "id": "786c4d85",
   "metadata": {
    "ExecuteTime": {
     "end_time": "2023-02-27T20:32:01.977765Z",
     "start_time": "2023-02-27T20:32:01.959859Z"
    }
   },
   "outputs": [],
   "source": [
    "# Arithmetic (+ ,*)\n",
    "\n",
    "L1 = [1,2,3,4]\n",
    "L2 = [5,6,7,8]"
   ]
  },
  {
   "cell_type": "markdown",
   "id": "4edb0fac",
   "metadata": {},
   "source": [
    "### Concatenation/Merge"
   ]
  },
  {
   "cell_type": "code",
   "execution_count": 24,
   "id": "e49dd489",
   "metadata": {
    "ExecuteTime": {
     "end_time": "2023-02-27T20:32:04.342820Z",
     "start_time": "2023-02-27T20:32:04.324783Z"
    }
   },
   "outputs": [
    {
     "name": "stdout",
     "output_type": "stream",
     "text": [
      "[1, 2, 3, 4, 5, 6, 7, 8]\n"
     ]
    }
   ],
   "source": [
    "print(L1 + L2)"
   ]
  },
  {
   "cell_type": "code",
   "execution_count": 25,
   "id": "5e31148f",
   "metadata": {
    "ExecuteTime": {
     "end_time": "2023-02-27T20:32:10.796647Z",
     "start_time": "2023-02-27T20:32:10.787687Z"
    }
   },
   "outputs": [
    {
     "name": "stdout",
     "output_type": "stream",
     "text": [
      "[1, 2, 3, 4, 1, 2, 3, 4, 1, 2, 3, 4]\n"
     ]
    }
   ],
   "source": [
    "print(L1*3)"
   ]
  },
  {
   "cell_type": "code",
   "execution_count": 26,
   "id": "4f23e2af",
   "metadata": {
    "ExecuteTime": {
     "end_time": "2023-02-27T20:32:17.323604Z",
     "start_time": "2023-02-27T20:32:17.311886Z"
    }
   },
   "outputs": [
    {
     "name": "stdout",
     "output_type": "stream",
     "text": [
      "False\n",
      "True\n"
     ]
    }
   ],
   "source": [
    "L1 = [1,2,3,4,5]\n",
    "L2 = [1,2,3,4,[5,6]]\n",
    "\n",
    "print(5 not in L1)\n",
    "print([5,6] in L2)"
   ]
  },
  {
   "cell_type": "code",
   "execution_count": 28,
   "id": "ded02ac0",
   "metadata": {
    "ExecuteTime": {
     "end_time": "2023-02-27T20:32:26.804491Z",
     "start_time": "2023-02-27T20:32:26.792937Z"
    }
   },
   "outputs": [
    {
     "name": "stdout",
     "output_type": "stream",
     "text": [
      "[[1, 2], [3, 4]]\n",
      "[[5, 6], [7, 8]]\n"
     ]
    }
   ],
   "source": [
    "# Loops\n",
    "L1 = [1,2,3,4,5]\n",
    "L2 = [1,2,3,4,[5,6]]\n",
    "L3 = [[[1,2],[3,4]],[[5,6],[7,8]]]\n",
    "\n",
    "for i in L3:\n",
    "    print(i)"
   ]
  },
  {
   "cell_type": "markdown",
   "id": "82bb02d3",
   "metadata": {},
   "source": [
    "## List Functions"
   ]
  },
  {
   "cell_type": "code",
   "execution_count": 29,
   "id": "be02639f",
   "metadata": {
    "ExecuteTime": {
     "end_time": "2023-02-27T20:32:42.528492Z",
     "start_time": "2023-02-27T20:32:42.510467Z"
    }
   },
   "outputs": [
    {
     "name": "stdout",
     "output_type": "stream",
     "text": [
      "5\n",
      "0\n",
      "7\n",
      "[7, 5, 2, 1, 0]\n"
     ]
    }
   ],
   "source": [
    "# len/min/max/sorted\n",
    "L = [2,1,5,7,0]\n",
    "\n",
    "print(len(L))\n",
    "print(min(L))\n",
    "print(max(L))\n",
    "print(sorted(L,reverse=True))"
   ]
  },
  {
   "cell_type": "markdown",
   "id": "8acefbee",
   "metadata": {},
   "source": [
    "### the original list did not change after sorted():"
   ]
  },
  {
   "cell_type": "code",
   "execution_count": 43,
   "id": "6f7a2949",
   "metadata": {
    "ExecuteTime": {
     "end_time": "2024-02-11T11:34:45.342510Z",
     "start_time": "2024-02-11T11:34:45.323614Z"
    }
   },
   "outputs": [
    {
     "name": "stdout",
     "output_type": "stream",
     "text": [
      "[10, 7, 5, 3, 1]\n",
      "[3, 5, 7, 1, 10]\n"
     ]
    }
   ],
   "source": [
    "L = [3, 5, 7, 1, 10]\n",
    "print(sorted(L,reverse=True))\n",
    "print(L)"
   ]
  },
  {
   "cell_type": "markdown",
   "id": "02fca6da",
   "metadata": {},
   "source": [
    "### count "
   ]
  },
  {
   "cell_type": "code",
   "execution_count": 30,
   "id": "6a50c57f",
   "metadata": {
    "ExecuteTime": {
     "end_time": "2023-02-27T20:32:53.271846Z",
     "start_time": "2023-02-27T20:32:53.252269Z"
    }
   },
   "outputs": [
    {
     "data": {
      "text/plain": [
       "1"
      ]
     },
     "execution_count": 30,
     "metadata": {},
     "output_type": "execute_result"
    }
   ],
   "source": [
    "L = [1,2,1,3,4,1,5]\n",
    "L.count(5)"
   ]
  },
  {
   "cell_type": "markdown",
   "id": "1fb024d1",
   "metadata": {},
   "source": [
    "### index"
   ]
  },
  {
   "cell_type": "code",
   "execution_count": 31,
   "id": "c9a70ab3",
   "metadata": {
    "ExecuteTime": {
     "end_time": "2023-02-27T20:32:59.873049Z",
     "start_time": "2023-02-27T20:32:59.865535Z"
    }
   },
   "outputs": [
    {
     "data": {
      "text/plain": [
       "0"
      ]
     },
     "execution_count": 31,
     "metadata": {},
     "output_type": "execute_result"
    }
   ],
   "source": [
    "L = [1,2,1,3,4,1,5]\n",
    "L.index(1)"
   ]
  },
  {
   "cell_type": "markdown",
   "id": "4deb2c9c",
   "metadata": {},
   "source": [
    "### reverse"
   ]
  },
  {
   "cell_type": "code",
   "execution_count": 32,
   "id": "f47099b7",
   "metadata": {
    "ExecuteTime": {
     "end_time": "2023-02-27T20:33:57.162393Z",
     "start_time": "2023-02-27T20:33:57.143364Z"
    }
   },
   "outputs": [
    {
     "name": "stdout",
     "output_type": "stream",
     "text": [
      "[0, 7, 5, 1, 2]\n"
     ]
    }
   ],
   "source": [
    "L = [2,1,5,7,0]\n",
    "# permanently reverses the list\n",
    "L.reverse()\n",
    "print(L)"
   ]
  },
  {
   "cell_type": "markdown",
   "id": "32d9e28b",
   "metadata": {},
   "source": [
    "## sort (vs sorted)"
   ]
  },
  {
   "cell_type": "markdown",
   "id": "8307f5c2",
   "metadata": {},
   "source": [
    "- sort changes the original order of a list\n",
    "\n",
    "\n",
    "- sorted() doesnot make changes to the original list, but the ordered list can be save inside a new variable"
   ]
  },
  {
   "cell_type": "code",
   "execution_count": 78,
   "id": "f6c28aa1",
   "metadata": {
    "ExecuteTime": {
     "end_time": "2024-08-07T14:48:16.518756Z",
     "start_time": "2024-08-07T14:48:16.507259Z"
    }
   },
   "outputs": [
    {
     "name": "stdout",
     "output_type": "stream",
     "text": [
      "Sort : \n",
      "L =  [2, 1, 5, 7, 0]\n",
      "[0, 1, 2, 5, 7]\n",
      "\n",
      "Sorted :\n",
      "L =  [2, 1, 5, 7, 0]\n",
      "[0, 1, 2, 5, 7]\n",
      "[2, 1, 5, 7, 0]\n"
     ]
    }
   ],
   "source": [
    "L = [2,1,5,7,0]\n",
    "print('Sort : ')\n",
    "print('L = ',L)\n",
    "L.sort()\n",
    "print(L)\n",
    "\n",
    "print()\n",
    "\n",
    "print('Sorted :')\n",
    "L = [2,1,5,7,0]\n",
    "print('L = ',L)\n",
    "print(sorted(L))\n",
    "print(L)\n"
   ]
  },
  {
   "cell_type": "markdown",
   "id": "417e16aa",
   "metadata": {},
   "source": [
    "## copy -> shallow"
   ]
  },
  {
   "cell_type": "code",
   "execution_count": 48,
   "id": "a281b86b",
   "metadata": {
    "ExecuteTime": {
     "end_time": "2024-02-11T12:01:27.187026Z",
     "start_time": "2024-02-11T12:01:27.179335Z"
    }
   },
   "outputs": [
    {
     "name": "stdout",
     "output_type": "stream",
     "text": [
      "[2, 1, 5, 7, 0]\n",
      "1561884531840\n",
      "[2, 1, 5, 7, 0]\n",
      "1561890851648\n"
     ]
    }
   ],
   "source": [
    "L = [2,1,5,7,0]\n",
    "print(L)\n",
    "print(id(L))\n",
    "L1 = L.copy()\n",
    "print(L1)\n",
    "print(id(L1))\n"
   ]
  },
  {
   "cell_type": "code",
   "execution_count": 79,
   "id": "adfd7a0f",
   "metadata": {
    "ExecuteTime": {
     "end_time": "2024-08-07T14:51:14.320067Z",
     "start_time": "2024-08-07T14:51:14.310487Z"
    }
   },
   "outputs": [
    {
     "name": "stdout",
     "output_type": "stream",
     "text": [
      "[2, 1, 5, 7, 0, 9]\n",
      "[2, 1, 5, 7, 0]\n"
     ]
    }
   ],
   "source": [
    "L = [2,1,5,7,0]\n",
    "L1 = L.copy()\n",
    "L.append(9)\n",
    "print(L)\n",
    "print(L1)"
   ]
  },
  {
   "cell_type": "markdown",
   "id": "3b17cba5",
   "metadata": {},
   "source": [
    "## List Comprehension"
   ]
  },
  {
   "cell_type": "markdown",
   "id": "4f52f5b1",
   "metadata": {},
   "source": [
    "List Comprehension provides a concise way of creating lists.\n",
    "\n",
    "newlist = [expression for item in iterable if condition == True]"
   ]
  },
  {
   "attachments": {
    "image.png": {
     "image/png": "[encoded data removed]"
    }
   },
   "cell_type": "markdown",
   "id": "5a291bad",
   "metadata": {},
   "source": [
    "![image.png](attachment:image.png)"
   ]
  },
  {
   "cell_type": "markdown",
   "id": "343b4c06",
   "metadata": {},
   "source": [
    "### Advantages of List Comprehension\n",
    "\n",
    "- More time-efficient and space-efficient than loops.\n",
    "\n",
    "\n",
    "- Require fewer lines of code.\n",
    "\n",
    "\n",
    "- Transforms iterative statement into a formula."
   ]
  },
  {
   "cell_type": "code",
   "execution_count": 36,
   "id": "d0487830",
   "metadata": {
    "ExecuteTime": {
     "end_time": "2023-02-27T20:35:37.108135Z",
     "start_time": "2023-02-27T20:35:37.096214Z"
    }
   },
   "outputs": [
    {
     "name": "stdout",
     "output_type": "stream",
     "text": [
      "[1, 2, 3, 4, 5, 6, 7, 8, 9, 10]\n"
     ]
    }
   ],
   "source": [
    "# Add 1 to 10 numbers to a list\n",
    "L = []\n",
    "\n",
    "for i in range(1,11):\n",
    "    L.append(i)\n",
    "\n",
    "print(L)"
   ]
  },
  {
   "cell_type": "code",
   "execution_count": 37,
   "id": "2b69dd6a",
   "metadata": {
    "ExecuteTime": {
     "end_time": "2023-02-27T20:35:43.555639Z",
     "start_time": "2023-02-27T20:35:43.543663Z"
    }
   },
   "outputs": [
    {
     "name": "stdout",
     "output_type": "stream",
     "text": [
      "[1, 2, 3, 4, 5, 6, 7, 8, 9, 10]\n"
     ]
    }
   ],
   "source": [
    "L = [i for i in range(1,11)]\n",
    "print(L)"
   ]
  },
  {
   "cell_type": "code",
   "execution_count": 38,
   "id": "28db5ea8",
   "metadata": {
    "ExecuteTime": {
     "end_time": "2023-02-27T20:35:49.366278Z",
     "start_time": "2023-02-27T20:35:49.356274Z"
    }
   },
   "outputs": [
    {
     "data": {
      "text/plain": [
       "[-6, -9, -12]"
      ]
     },
     "execution_count": 38,
     "metadata": {},
     "output_type": "execute_result"
    }
   ],
   "source": [
    "# scalar multiplication on a vector\n",
    "v = [2,3,4]\n",
    "s = -3\n",
    "# [-6,-9,-12]\n",
    "\n",
    "[s*i for i in v]"
   ]
  },
  {
   "cell_type": "code",
   "execution_count": 39,
   "id": "cfc4db38",
   "metadata": {
    "ExecuteTime": {
     "end_time": "2023-02-27T20:35:55.869731Z",
     "start_time": "2023-02-27T20:35:55.850098Z"
    }
   },
   "outputs": [
    {
     "data": {
      "text/plain": [
       "[1, 4, 9, 16, 25]"
      ]
     },
     "execution_count": 39,
     "metadata": {},
     "output_type": "execute_result"
    }
   ],
   "source": [
    "# Add squares\n",
    "L = [1,2,3,4,5]\n",
    "\n",
    "[i**2 for i in L]"
   ]
  },
  {
   "cell_type": "code",
   "execution_count": 40,
   "id": "c78deb32",
   "metadata": {
    "ExecuteTime": {
     "end_time": "2023-02-27T20:36:02.499448Z",
     "start_time": "2023-02-27T20:36:02.481448Z"
    }
   },
   "outputs": [
    {
     "data": {
      "text/plain": [
       "[5, 10, 15, 20, 25, 30, 35, 40, 45, 50]"
      ]
     },
     "execution_count": 40,
     "metadata": {},
     "output_type": "execute_result"
    }
   ],
   "source": [
    "# Print all numbers divisible by 5 in the range of 1 to 50\n",
    "\n",
    "[i for i in range(1,51) if i%5 == 0]"
   ]
  },
  {
   "cell_type": "markdown",
   "id": "26ffb789",
   "metadata": {},
   "source": [
    "### find languages which start with letter p"
   ]
  },
  {
   "cell_type": "code",
   "execution_count": 41,
   "id": "2ccc3bcc",
   "metadata": {
    "ExecuteTime": {
     "end_time": "2023-02-27T20:36:14.771608Z",
     "start_time": "2023-02-27T20:36:14.757604Z"
    }
   },
   "outputs": [
    {
     "data": {
      "text/plain": [
       "['python', 'php']"
      ]
     },
     "execution_count": 41,
     "metadata": {},
     "output_type": "execute_result"
    }
   ],
   "source": [
    "languages = ['java','python','php','c','javascript']\n",
    "\n",
    "[language for language in languages if language.startswith('p')]"
   ]
  },
  {
   "cell_type": "markdown",
   "id": "578e553d",
   "metadata": {},
   "source": [
    "## <span class=\"girk\">Nested if with List Comprehension</span>"
   ]
  },
  {
   "cell_type": "code",
   "execution_count": 42,
   "id": "9998fd18",
   "metadata": {
    "ExecuteTime": {
     "end_time": "2023-02-27T20:36:26.809610Z",
     "start_time": "2023-02-27T20:36:26.786602Z"
    }
   },
   "outputs": [
    {
     "data": {
      "text/plain": [
       "['apple']"
      ]
     },
     "execution_count": 42,
     "metadata": {},
     "output_type": "execute_result"
    }
   ],
   "source": [
    "basket = ['apple','guava','cherry','banana']\n",
    "my_fruits = ['apple','kiwi','grapes','banana']\n",
    "\n",
    "# add new list from my_fruits and items if the fruit exists in basket and also starts with 'a'\n",
    "\n",
    "[fruit for fruit in my_fruits if fruit in basket if fruit.startswith('a')]"
   ]
  },
  {
   "cell_type": "markdown",
   "id": "cab2fb8a",
   "metadata": {
    "ExecuteTime": {
     "end_time": "2023-02-27T20:36:34.506901Z",
     "start_time": "2023-02-27T20:36:34.492015Z"
    }
   },
   "source": [
    "### Print a (3,3) matrix using list comprehension -> Nested List comprehension"
   ]
  },
  {
   "cell_type": "code",
   "execution_count": 44,
   "id": "7de0e8a8",
   "metadata": {
    "ExecuteTime": {
     "end_time": "2023-02-27T20:36:43.359803Z",
     "start_time": "2023-02-27T20:36:43.345282Z"
    }
   },
   "outputs": [
    {
     "data": {
      "text/plain": [
       "[[1, 2, 3], [2, 4, 6], [3, 6, 9]]"
      ]
     },
     "execution_count": 44,
     "metadata": {},
     "output_type": "execute_result"
    }
   ],
   "source": [
    "[[i*j for i in range(1,4)] for j in range(1,4)]"
   ]
  },
  {
   "cell_type": "markdown",
   "id": "79fa571e",
   "metadata": {},
   "source": [
    "### cartesian products -> List comprehension on 2 lists together"
   ]
  },
  {
   "cell_type": "code",
   "execution_count": 45,
   "id": "dcafd4ae",
   "metadata": {
    "ExecuteTime": {
     "end_time": "2023-02-27T20:36:55.556362Z",
     "start_time": "2023-02-27T20:36:55.546364Z"
    }
   },
   "outputs": [
    {
     "data": {
      "text/plain": [
       "[5, 6, 7, 8, 10, 12, 14, 16, 15, 18, 21, 24, 20, 24, 28, 32]"
      ]
     },
     "execution_count": 45,
     "metadata": {},
     "output_type": "execute_result"
    }
   ],
   "source": [
    "L1 = [1,2,3,4]\n",
    "L2 = [5,6,7,8]\n",
    "\n",
    "[i*j for i in L1 for j in L2]"
   ]
  },
  {
   "cell_type": "markdown",
   "id": "9da8e814",
   "metadata": {},
   "source": [
    "#### print all numbers in range of x,y,z and sum of x,y,z > n"
   ]
  },
  {
   "cell_type": "code",
   "execution_count": 8,
   "id": "65ea32d6",
   "metadata": {
    "ExecuteTime": {
     "end_time": "2024-11-03T13:20:50.871747Z",
     "start_time": "2024-11-03T13:20:47.293663Z"
    }
   },
   "outputs": [
    {
     "name": "stdout",
     "output_type": "stream",
     "text": [
      "x = 2\n",
      "y = 2\n",
      "z = 2\n",
      "n = 4\n"
     ]
    }
   ],
   "source": [
    "x = int(input('x = '))\n",
    "y = int(input('y = '))\n",
    "z = int(input('z = '))\n",
    "n = int(input('n = '))"
   ]
  },
  {
   "cell_type": "code",
   "execution_count": 9,
   "id": "f6157e92",
   "metadata": {
    "ExecuteTime": {
     "end_time": "2024-11-03T13:20:52.665251Z",
     "start_time": "2024-11-03T13:20:52.641460Z"
    }
   },
   "outputs": [
    {
     "name": "stdout",
     "output_type": "stream",
     "text": [
      "1 2 2\n",
      "2 1 2\n",
      "2 2 1\n",
      "2 2 2\n"
     ]
    }
   ],
   "source": [
    "for i in range(0,x+1):\n",
    "    for j in range(0,y+1):\n",
    "        for k in range(0,z+1):\n",
    "            if (i+j+k)>n:\n",
    "                print(i,j,k)"
   ]
  },
  {
   "cell_type": "markdown",
   "id": "963bdbeb",
   "metadata": {},
   "source": [
    "##### same using list comprehension"
   ]
  },
  {
   "cell_type": "code",
   "execution_count": 10,
   "id": "53202d28",
   "metadata": {
    "ExecuteTime": {
     "end_time": "2024-11-03T13:20:54.477619Z",
     "start_time": "2024-11-03T13:20:54.457944Z"
    }
   },
   "outputs": [
    {
     "data": {
      "text/plain": [
       "[(1, 2, 2), (2, 1, 2), (2, 2, 1), (2, 2, 2)]"
      ]
     },
     "execution_count": 10,
     "metadata": {},
     "output_type": "execute_result"
    }
   ],
   "source": [
    "[(i,j,k) for i in range(0,x+1) for j in range(0,y+1) for k in range(z+1) if (i+j+k)>n]"
   ]
  },
  {
   "cell_type": "markdown",
   "id": "f8b5ea3c",
   "metadata": {},
   "source": [
    "##  2 ways to traverse a list\n",
    "\n",
    "- itemwise\n",
    "\n",
    "\n",
    "- indexwise"
   ]
  },
  {
   "cell_type": "markdown",
   "id": "e78a5dbe",
   "metadata": {},
   "source": [
    "### itemwise"
   ]
  },
  {
   "cell_type": "code",
   "execution_count": 46,
   "id": "896c1c5d",
   "metadata": {
    "ExecuteTime": {
     "end_time": "2023-02-27T20:37:31.218612Z",
     "start_time": "2023-02-27T20:37:31.201626Z"
    }
   },
   "outputs": [
    {
     "name": "stdout",
     "output_type": "stream",
     "text": [
      "1\n",
      "2\n",
      "3\n",
      "4\n"
     ]
    }
   ],
   "source": [
    "L = [1,2,3,4]\n",
    "\n",
    "for i in L:\n",
    "    print(i)"
   ]
  },
  {
   "cell_type": "markdown",
   "id": "1dba581e",
   "metadata": {},
   "source": [
    "### indexwise"
   ]
  },
  {
   "cell_type": "code",
   "execution_count": 48,
   "id": "e2e04770",
   "metadata": {
    "ExecuteTime": {
     "end_time": "2023-02-27T20:37:47.575467Z",
     "start_time": "2023-02-27T20:37:47.562474Z"
    }
   },
   "outputs": [
    {
     "name": "stdout",
     "output_type": "stream",
     "text": [
      "1\n",
      "2\n",
      "3\n",
      "4\n"
     ]
    }
   ],
   "source": [
    "L = [1,2,3,4]\n",
    "\n",
    "for i in range(0,len(L)):\n",
    "    print(L[i])"
   ]
  },
  {
   "cell_type": "markdown",
   "id": "48ee7828",
   "metadata": {},
   "source": [
    "## Zip"
   ]
  },
  {
   "cell_type": "markdown",
   "id": "c26c07fb",
   "metadata": {},
   "source": [
    "The zip() function returns a zip object, which is an iterator of tuples where the first item in each passed iterator is paired together, and then the second item in each passed iterator are paired together.\n",
    "\n",
    "__If the passed iterators have different lengths, the iterator with the least items decides the length of the new iterator.__"
   ]
  },
  {
   "cell_type": "code",
   "execution_count": 83,
   "id": "176390fc",
   "metadata": {
    "ExecuteTime": {
     "end_time": "2024-08-07T15:41:16.298598Z",
     "start_time": "2024-08-07T15:41:16.283578Z"
    }
   },
   "outputs": [
    {
     "name": "stdout",
     "output_type": "stream",
     "text": [
      "zipped list : [(6, -1), (4, -2), (9, -3), (1, -4)]\n"
     ]
    }
   ],
   "source": [
    "# Write a program to add items of 2 lists indexwise\n",
    "\n",
    "L1 = [6,4,9,1]\n",
    "L2 = [-1,-2,-3,-4,-5,-6]\n",
    "\n",
    "list(zip(L1,L2)) \n",
    "print('zipped list :',list(zip(L1,L2)) )"
   ]
  },
  {
   "cell_type": "code",
   "execution_count": 84,
   "id": "c983478a",
   "metadata": {
    "ExecuteTime": {
     "end_time": "2024-08-07T15:41:16.595306Z",
     "start_time": "2024-08-07T15:41:16.582851Z"
    }
   },
   "outputs": [
    {
     "data": {
      "text/plain": [
       "[5, 2, 6, -3]"
      ]
     },
     "execution_count": 84,
     "metadata": {},
     "output_type": "execute_result"
    }
   ],
   "source": [
    "[i+j for i,j in zip(L1,L2)]"
   ]
  },
  {
   "cell_type": "code",
   "execution_count": 50,
   "id": "1c130c8e",
   "metadata": {
    "ExecuteTime": {
     "end_time": "2023-02-27T20:38:21.782022Z",
     "start_time": "2023-02-27T20:38:21.762979Z"
    }
   },
   "outputs": [
    {
     "name": "stdout",
     "output_type": "stream",
     "text": [
      "[1, 2, <built-in function print>, <class 'type'>, <bound method Kernel.raw_input of <ipykernel.ipkernel.IPythonKernel object at 0x000001E8E49D2370>>]\n"
     ]
    }
   ],
   "source": [
    "L = [1,2,print,type,input]\n",
    "\n",
    "print(L)"
   ]
  },
  {
   "cell_type": "markdown",
   "id": "726ae601",
   "metadata": {},
   "source": [
    "## Disadvantages of Python Lists"
   ]
  },
  {
   "cell_type": "code",
   "execution_count": 51,
   "id": "45653f9a",
   "metadata": {
    "ExecuteTime": {
     "end_time": "2023-02-27T20:38:35.834229Z",
     "start_time": "2023-02-27T20:38:35.813228Z"
    }
   },
   "outputs": [
    {
     "name": "stdout",
     "output_type": "stream",
     "text": [
      "[1, 2, 3]\n",
      "[1, 2, 3]\n",
      "[1, 2, 3, 4]\n",
      "[1, 2, 3]\n"
     ]
    }
   ],
   "source": [
    "a = [1,2,3]\n",
    "b = a.copy()\n",
    "\n",
    "print(a)\n",
    "print(b)\n",
    "\n",
    "a.append(4)\n",
    "print(a)\n",
    "print(b)\n",
    "\n",
    "# lists are mutable"
   ]
  },
  {
   "cell_type": "markdown",
   "id": "dfe2a1be",
   "metadata": {},
   "source": [
    "## <span class=\"girk\">Difference in list(L) and L = [ ]</span>"
   ]
  },
  {
   "cell_type": "code",
   "execution_count": 88,
   "id": "29adef7c",
   "metadata": {
    "ExecuteTime": {
     "end_time": "2024-08-07T15:48:19.753918Z",
     "start_time": "2024-08-07T15:48:19.743397Z"
    }
   },
   "outputs": [
    {
     "name": "stdout",
     "output_type": "stream",
     "text": [
      "['M', 'na', 'i', 'Kh']\n",
      "['M', 'na', 'i', 'Kh']\n"
     ]
    }
   ],
   "source": [
    "list1 = list([\"M\", \"na\", \"i\", \"Kh\"])\n",
    "print(list1)\n",
    "\n",
    "print([\"M\", \"na\", \"i\", \"Kh\"])"
   ]
  },
  {
   "cell_type": "code",
   "execution_count": 62,
   "id": "d6562d1a",
   "metadata": {
    "ExecuteTime": {
     "end_time": "2024-02-11T12:40:39.878072Z",
     "start_time": "2024-02-11T12:40:39.869564Z"
    }
   },
   "outputs": [],
   "source": [
    "list1 = [\"M\", \"na\", \"i\", \"Kh\"]\n",
    "list2 = [\"y\", \"me\", \"s\", \"an\"]"
   ]
  },
  {
   "cell_type": "code",
   "execution_count": 64,
   "id": "d13b9bd7",
   "metadata": {
    "ExecuteTime": {
     "end_time": "2024-02-11T12:41:24.327461Z",
     "start_time": "2024-02-11T12:41:24.303988Z"
    },
    "scrolled": false
   },
   "outputs": [
    {
     "name": "stdout",
     "output_type": "stream",
     "text": [
      "zipped list---->  [('M', 'y'), ('na', 'me'), ('i', 's'), ('Kh', 'an')] \n",
      "\n",
      "list(n) ---->  [['M', 'y'], ['na', 'me'], ['i', 's'], ['Kh', 'an']] \n",
      "\n",
      "[o] ---->  [[('M', 'y')], [('na', 'me')], [('i', 's')], [('Kh', 'an')]]\n"
     ]
    }
   ],
   "source": [
    "m = list(zip(list1,list2))\n",
    "print('zipped list----> ',m,'\\n')\n",
    "\n",
    "n = [list(i) for i in m]\n",
    "print('list(n) ----> ',n,'\\n')\n",
    "\n",
    "\n",
    "o = [[i] for i in m]\n",
    "print('[o] ----> ',o)"
   ]
  },
  {
   "cell_type": "markdown",
   "id": "e43e1bca",
   "metadata": {},
   "source": [
    "___\n",
    "___\n",
    "___"
   ]
  },
  {
   "cell_type": "markdown",
   "id": "02c04d9b",
   "metadata": {},
   "source": [
    "# Session 5 - Tuples + Sets + Dictionary "
   ]
  },
  {
   "cell_type": "markdown",
   "id": "1d83c083",
   "metadata": {},
   "source": [
    "https://www.youtube.com/watch?v=jcQjp11mn1A"
   ]
  },
  {
   "cell_type": "code",
   "execution_count": 89,
   "id": "30be4240",
   "metadata": {
    "ExecuteTime": {
     "end_time": "2023-02-24T23:05:57.326404Z",
     "start_time": "2023-02-24T23:05:57.290988Z"
    }
   },
   "outputs": [],
   "source": [
    "def yolo(*args):\n",
    "    for i in args:\n",
    "        print(i)"
   ]
  },
  {
   "cell_type": "code",
   "execution_count": 91,
   "id": "03902edc",
   "metadata": {
    "ExecuteTime": {
     "end_time": "2023-02-24T23:06:25.234387Z",
     "start_time": "2023-02-24T23:06:25.216286Z"
    }
   },
   "outputs": [
    {
     "name": "stdout",
     "output_type": "stream",
     "text": [
      "['mohit', 'rohit']\n",
      "['rohan', 'gupta']\n"
     ]
    }
   ],
   "source": [
    "yolo(['mohit','rohit'],['rohan','gupta'])"
   ]
  },
  {
   "cell_type": "markdown",
   "id": "078e58db",
   "metadata": {},
   "source": [
    "# Tuples"
   ]
  },
  {
   "cell_type": "markdown",
   "id": "9e5b526a",
   "metadata": {},
   "source": [
    "A tuple in Python is similar to a list. The difference between the two is that we cannot change the elements of a tuple once it is assigned whereas we can change the elements of a list.\n",
    "\n",
    "In short, a tuple is an immutable list. A tuple can not be changed in any way once it is created."
   ]
  },
  {
   "cell_type": "markdown",
   "id": "0556fb49",
   "metadata": {},
   "source": [
    "## Characterstics :"
   ]
  },
  {
   "cell_type": "markdown",
   "id": "23552c4b",
   "metadata": {},
   "source": [
    "### - Order matters ie. (2,3) $\\neq$ (3,2)\n",
    "\n",
    "### - Immutable\n",
    "\n",
    "### - Allows duplicate\n",
    "\n",
    "\n",
    "### - Adding and deleting new elements not allowed"
   ]
  },
  {
   "cell_type": "markdown",
   "id": "fc26174b",
   "metadata": {
    "id": "CFpO1Ejhn1_h"
   },
   "source": [
    "### Plan of attack\n",
    "\n",
    "- Creating a Tuple\n",
    "- Accessing items \n",
    "- Editing items\n",
    "- Adding items\n",
    "- Deleting items\n",
    "- Operations on Tuples\n",
    "- Tuple Functions"
   ]
  },
  {
   "cell_type": "markdown",
   "id": "c9e0acbb",
   "metadata": {
    "id": "G_V0x7xzl7fL"
   },
   "source": [
    "### Creating Tuples"
   ]
  },
  {
   "cell_type": "code",
   "execution_count": 1,
   "id": "8d69f124",
   "metadata": {
    "ExecuteTime": {
     "end_time": "2023-02-24T11:05:29.043099Z",
     "start_time": "2023-02-24T11:05:29.033096Z"
    },
    "colab": {
     "base_uri": "https://localhost:8080/"
    },
    "id": "o5QfMirSl4-q",
    "outputId": "3035d546-7757-46a8-96d9-21ef3a61ef8f"
   },
   "outputs": [
    {
     "name": "stdout",
     "output_type": "stream",
     "text": [
      "()\n",
      "<class 'tuple'>\n"
     ]
    }
   ],
   "source": [
    "# empty\n",
    "t1 = ()\n",
    "print(t1)\n",
    "print(type(t1))"
   ]
  },
  {
   "cell_type": "markdown",
   "id": "b1009c2f",
   "metadata": {},
   "source": [
    "#### <span class=\"girk\">how to create  single item tuple :</span> "
   ]
  },
  {
   "cell_type": "code",
   "execution_count": 2,
   "id": "81b43c87",
   "metadata": {
    "ExecuteTime": {
     "end_time": "2023-02-23T21:21:05.410250Z",
     "start_time": "2023-02-23T21:21:05.385953Z"
    },
    "colab": {
     "base_uri": "https://localhost:8080/"
    },
    "id": "o5QfMirSl4-q",
    "outputId": "3035d546-7757-46a8-96d9-21ef3a61ef8f"
   },
   "outputs": [
    {
     "name": "stdout",
     "output_type": "stream",
     "text": [
      "('hello',)\n",
      "<class 'tuple'>\n"
     ]
    }
   ],
   "source": [
    "# create a tuple with a single item\n",
    "t2 = ('hello',)\n",
    "print(t2)\n",
    "print(type(t2))"
   ]
  },
  {
   "cell_type": "code",
   "execution_count": 7,
   "id": "e0c1ae24",
   "metadata": {
    "ExecuteTime": {
     "end_time": "2024-02-12T15:31:36.872066Z",
     "start_time": "2024-02-12T15:31:36.867092Z"
    },
    "colab": {
     "base_uri": "https://localhost:8080/"
    },
    "id": "o5QfMirSl4-q",
    "outputId": "3035d546-7757-46a8-96d9-21ef3a61ef8f"
   },
   "outputs": [
    {
     "name": "stdout",
     "output_type": "stream",
     "text": [
      "(1, 2, 3, 4)\n"
     ]
    }
   ],
   "source": [
    "# homogeneous : same datatype elements\n",
    "t3 = (1,2,3,4)\n",
    "print(t3)"
   ]
  },
  {
   "cell_type": "code",
   "execution_count": 4,
   "id": "947d313d",
   "metadata": {
    "ExecuteTime": {
     "end_time": "2023-02-23T21:21:41.053390Z",
     "start_time": "2023-02-23T21:21:41.029414Z"
    },
    "colab": {
     "base_uri": "https://localhost:8080/"
    },
    "id": "o5QfMirSl4-q",
    "outputId": "3035d546-7757-46a8-96d9-21ef3a61ef8f"
   },
   "outputs": [
    {
     "name": "stdout",
     "output_type": "stream",
     "text": [
      "(1, 2.5, True, [1, 2, 3])\n"
     ]
    }
   ],
   "source": [
    "# hetro\n",
    "t4 = (1,2.5,True,[1,2,3])\n",
    "print(t4)"
   ]
  },
  {
   "cell_type": "code",
   "execution_count": 7,
   "id": "b746e31c",
   "metadata": {
    "ExecuteTime": {
     "end_time": "2023-02-23T21:22:23.607887Z",
     "start_time": "2023-02-23T21:22:23.595179Z"
    },
    "colab": {
     "base_uri": "https://localhost:8080/"
    },
    "id": "o5QfMirSl4-q",
    "outputId": "3035d546-7757-46a8-96d9-21ef3a61ef8f"
   },
   "outputs": [
    {
     "name": "stdout",
     "output_type": "stream",
     "text": [
      "(1, 2, 3, (4, 5))\n"
     ]
    }
   ],
   "source": [
    "# 2-D tuple\n",
    "t5 = (1,2,3,(4,5))\n",
    "print(t5)"
   ]
  },
  {
   "cell_type": "markdown",
   "id": "4ae25417",
   "metadata": {},
   "source": [
    "#### <span class=\"girk\">Strings in tupple and list :</span>"
   ]
  },
  {
   "cell_type": "code",
   "execution_count": 3,
   "id": "f41ca03d",
   "metadata": {
    "ExecuteTime": {
     "end_time": "2024-08-08T07:31:32.665538Z",
     "start_time": "2024-08-08T07:31:32.659024Z"
    },
    "colab": {
     "base_uri": "https://localhost:8080/"
    },
    "id": "o5QfMirSl4-q",
    "outputId": "3035d546-7757-46a8-96d9-21ef3a61ef8f"
   },
   "outputs": [
    {
     "name": "stdout",
     "output_type": "stream",
     "text": [
      "('h', 'e', 'l', 'l', 'o')\n",
      "<class 'tuple'>\n"
     ]
    }
   ],
   "source": [
    "# using type conversion\n",
    "t6 = tuple('hello')\n",
    "print(t6)\n",
    "print(type(t6))"
   ]
  },
  {
   "cell_type": "code",
   "execution_count": 2,
   "id": "51802939",
   "metadata": {
    "ExecuteTime": {
     "end_time": "2024-08-08T07:30:09.282697Z",
     "start_time": "2024-08-08T07:30:09.264506Z"
    }
   },
   "outputs": [
    {
     "name": "stdout",
     "output_type": "stream",
     "text": [
      "('h', 'e', 'l', 'l', 'o')\n",
      "<class 'tuple'>\n"
     ]
    }
   ],
   "source": [
    "t6 = 'hello'\n",
    "print(tuple(t6,))\n",
    "print(type(tuple(t6)))"
   ]
  },
  {
   "cell_type": "code",
   "execution_count": 47,
   "id": "1875862b",
   "metadata": {
    "ExecuteTime": {
     "end_time": "2024-02-13T09:54:54.602038Z",
     "start_time": "2024-02-13T09:54:54.587765Z"
    }
   },
   "outputs": [
    {
     "name": "stdout",
     "output_type": "stream",
     "text": [
      "('hello',) \n",
      " <class 'tuple'>\n"
     ]
    }
   ],
   "source": [
    "t6 = 'hello'\n",
    "m = (t6,)\n",
    "\n",
    "print(m, '\\n' , type(m))"
   ]
  },
  {
   "cell_type": "markdown",
   "id": "8621ef27",
   "metadata": {
    "id": "hx9kH3ijmR98"
   },
   "source": [
    "### Accessing Items\n",
    "\n",
    "- Indexing\n",
    "- Slicing"
   ]
  },
  {
   "cell_type": "code",
   "execution_count": 8,
   "id": "2d67f5b3",
   "metadata": {
    "ExecuteTime": {
     "end_time": "2024-02-12T15:31:43.906345Z",
     "start_time": "2024-02-12T15:31:43.889275Z"
    }
   },
   "outputs": [
    {
     "name": "stdout",
     "output_type": "stream",
     "text": [
      "(1, 2, 3, 4)\n"
     ]
    }
   ],
   "source": [
    "t3 = (1,2,3,4)\n",
    "print(t3)"
   ]
  },
  {
   "cell_type": "code",
   "execution_count": 8,
   "id": "c037d26d",
   "metadata": {
    "ExecuteTime": {
     "end_time": "2023-02-23T21:24:03.657213Z",
     "start_time": "2023-02-23T21:24:03.633216Z"
    },
    "colab": {
     "base_uri": "https://localhost:8080/"
    },
    "id": "rGHN05iVmWNO",
    "outputId": "1a50da8d-64e3-49b6-8627-84f555a6f558"
   },
   "outputs": [
    {
     "name": "stdout",
     "output_type": "stream",
     "text": [
      "(1, 2, 3, 4)\n",
      "1\n",
      "4\n"
     ]
    }
   ],
   "source": [
    "print(t3)\n",
    "print(t3[0])\n",
    "print(t3[-1])"
   ]
  },
  {
   "cell_type": "code",
   "execution_count": 9,
   "id": "d86b3c8c",
   "metadata": {
    "ExecuteTime": {
     "end_time": "2024-02-12T15:32:13.707314Z",
     "start_time": "2024-02-12T15:32:13.698413Z"
    }
   },
   "outputs": [
    {
     "name": "stdout",
     "output_type": "stream",
     "text": [
      "(1, 2, 3, (4, 5))\n"
     ]
    }
   ],
   "source": [
    "t5 = (1,2,3,(4,5))\n",
    "print(t5)"
   ]
  },
  {
   "cell_type": "code",
   "execution_count": 11,
   "id": "78bd06cb",
   "metadata": {
    "ExecuteTime": {
     "end_time": "2023-02-23T21:24:30.056260Z",
     "start_time": "2023-02-23T21:24:30.041268Z"
    }
   },
   "outputs": [
    {
     "data": {
      "text/plain": [
       "(4, 5)"
      ]
     },
     "execution_count": 11,
     "metadata": {},
     "output_type": "execute_result"
    }
   ],
   "source": [
    "t5[-1]"
   ]
  },
  {
   "cell_type": "code",
   "execution_count": 9,
   "id": "96793fa5",
   "metadata": {
    "ExecuteTime": {
     "end_time": "2023-02-23T21:24:04.533029Z",
     "start_time": "2023-02-23T21:24:04.502497Z"
    },
    "colab": {
     "base_uri": "https://localhost:8080/"
    },
    "id": "PXfVX93qvRGC",
    "outputId": "3b5af2d6-c132-4e4d-fc1f-6ed775255409"
   },
   "outputs": [
    {
     "data": {
      "text/plain": [
       "4"
      ]
     },
     "execution_count": 9,
     "metadata": {},
     "output_type": "execute_result"
    }
   ],
   "source": [
    "t5[-1][0]"
   ]
  },
  {
   "cell_type": "code",
   "execution_count": 10,
   "id": "62797262",
   "metadata": {
    "ExecuteTime": {
     "end_time": "2023-02-23T21:24:04.852128Z",
     "start_time": "2023-02-23T21:24:04.836129Z"
    }
   },
   "outputs": [
    {
     "name": "stdout",
     "output_type": "stream",
     "text": [
      "(4, 3, 2, 1)\n"
     ]
    }
   ],
   "source": [
    "print(t3[::-1])"
   ]
  },
  {
   "cell_type": "markdown",
   "id": "fd8b031c",
   "metadata": {},
   "source": [
    "### <span class=\"girk\">NOTE : Indexing and slicing is allowed in a tuple as it is ordered.</span>"
   ]
  },
  {
   "cell_type": "markdown",
   "id": "c4e20481",
   "metadata": {
    "id": "oaLJvXrBmW63"
   },
   "source": [
    "### Editing items"
   ]
  },
  {
   "cell_type": "code",
   "execution_count": null,
   "id": "b0b1b37a",
   "metadata": {
    "colab": {
     "base_uri": "https://localhost:8080/",
     "height": 205
    },
    "id": "HyRQxHHNmcw8",
    "outputId": "0b88c8a6-7dcf-4048-9aaa-079ef656fc2a",
    "scrolled": true
   },
   "outputs": [
    {
     "name": "stdout",
     "output_type": "stream",
     "text": [
      "(1, 2, 3, 4)\n"
     ]
    },
    {
     "ename": "TypeError",
     "evalue": "ignored",
     "output_type": "error",
     "traceback": [
      "\u001b[0;31m---------------------------------------------------------------------------\u001b[0m",
      "\u001b[0;31mTypeError\u001b[0m                                 Traceback (most recent call last)",
      "\u001b[0;32m<ipython-input-30-49d9e1416ccf>\u001b[0m in \u001b[0;36m<module>\u001b[0;34m\u001b[0m\n\u001b[1;32m      1\u001b[0m \u001b[0mprint\u001b[0m\u001b[0;34m(\u001b[0m\u001b[0mt3\u001b[0m\u001b[0;34m)\u001b[0m\u001b[0;34m\u001b[0m\u001b[0;34m\u001b[0m\u001b[0m\n\u001b[0;32m----> 2\u001b[0;31m \u001b[0mt3\u001b[0m\u001b[0;34m[\u001b[0m\u001b[0;36m0\u001b[0m\u001b[0;34m]\u001b[0m \u001b[0;34m=\u001b[0m \u001b[0;36m100\u001b[0m\u001b[0;34m\u001b[0m\u001b[0;34m\u001b[0m\u001b[0m\n\u001b[0m",
      "\u001b[0;31mTypeError\u001b[0m: 'tuple' object does not support item assignment"
     ]
    }
   ],
   "source": [
    "print(t3)\n",
    "t3[0] = 100\n",
    "# immutable just like strings"
   ]
  },
  {
   "cell_type": "markdown",
   "id": "9e3f5cc0",
   "metadata": {
    "id": "UQpDLQFtmdbm"
   },
   "source": [
    "### Adding items"
   ]
  },
  {
   "cell_type": "code",
   "execution_count": null,
   "id": "7cbc9381",
   "metadata": {
    "colab": {
     "base_uri": "https://localhost:8080/"
    },
    "id": "bHXYLnNSmezw",
    "outputId": "5c2fa2f4-3159-4f0f-da24-346f7f61b57a"
   },
   "outputs": [
    {
     "name": "stdout",
     "output_type": "stream",
     "text": [
      "(1, 2, 3, 4)\n"
     ]
    }
   ],
   "source": [
    "print(t3)\n",
    "# not possible"
   ]
  },
  {
   "cell_type": "markdown",
   "id": "0cb1c47b",
   "metadata": {
    "id": "8YRYCj9vmfl9"
   },
   "source": [
    "### Deleting items"
   ]
  },
  {
   "cell_type": "code",
   "execution_count": null,
   "id": "a8c1c0b9",
   "metadata": {
    "colab": {
     "base_uri": "https://localhost:8080/",
     "height": 223
    },
    "id": "aYXjESAnmhFk",
    "outputId": "72300167-ce0b-4ceb-8887-a3aad974bdf6"
   },
   "outputs": [
    {
     "name": "stdout",
     "output_type": "stream",
     "text": [
      "(1, 2, 3, 4)\n"
     ]
    },
    {
     "ename": "NameError",
     "evalue": "ignored",
     "output_type": "error",
     "traceback": [
      "\u001b[0;31m---------------------------------------------------------------------------\u001b[0m",
      "\u001b[0;31mNameError\u001b[0m                                 Traceback (most recent call last)",
      "\u001b[0;32m<ipython-input-33-0a67b29ad777>\u001b[0m in \u001b[0;36m<module>\u001b[0;34m\u001b[0m\n\u001b[1;32m      1\u001b[0m \u001b[0mprint\u001b[0m\u001b[0;34m(\u001b[0m\u001b[0mt3\u001b[0m\u001b[0;34m)\u001b[0m\u001b[0;34m\u001b[0m\u001b[0;34m\u001b[0m\u001b[0m\n\u001b[1;32m      2\u001b[0m \u001b[0;32mdel\u001b[0m \u001b[0mt3\u001b[0m\u001b[0;34m\u001b[0m\u001b[0;34m\u001b[0m\u001b[0m\n\u001b[0;32m----> 3\u001b[0;31m \u001b[0mprint\u001b[0m\u001b[0;34m(\u001b[0m\u001b[0mt3\u001b[0m\u001b[0;34m)\u001b[0m\u001b[0;34m\u001b[0m\u001b[0;34m\u001b[0m\u001b[0m\n\u001b[0m",
      "\u001b[0;31mNameError\u001b[0m: name 't3' is not defined"
     ]
    }
   ],
   "source": [
    "print(t3)\n",
    "del t3\n",
    "print(t3)"
   ]
  },
  {
   "cell_type": "markdown",
   "id": "30c129bc",
   "metadata": {},
   "source": [
    "### <span class=\"girk\">NOTE : deleting entire tuple is allowed. Deleting single item is not allowed</span>"
   ]
  },
  {
   "cell_type": "code",
   "execution_count": 34,
   "id": "dabfb7e2",
   "metadata": {
    "ExecuteTime": {
     "end_time": "2023-02-24T11:25:53.144792Z",
     "start_time": "2023-02-24T11:25:53.130433Z"
    },
    "colab": {
     "base_uri": "https://localhost:8080/"
    },
    "id": "81NlConQwvpg",
    "outputId": "600720df-946a-42ee-f26b-10b565dc0c18"
   },
   "outputs": [
    {
     "data": {
      "text/plain": [
       "(5, 4, 3, 2)"
      ]
     },
     "execution_count": 34,
     "metadata": {},
     "output_type": "execute_result"
    }
   ],
   "source": [
    "t = (1,2,3,4,5)\n",
    "\n",
    "t[-1:-5:-1]"
   ]
  },
  {
   "cell_type": "code",
   "execution_count": 23,
   "id": "29e5b103",
   "metadata": {
    "ExecuteTime": {
     "end_time": "2023-02-24T11:21:32.394524Z",
     "start_time": "2023-02-24T11:21:32.385756Z"
    }
   },
   "outputs": [
    {
     "data": {
      "text/plain": [
       "5"
      ]
     },
     "execution_count": 23,
     "metadata": {},
     "output_type": "execute_result"
    }
   ],
   "source": [
    "t[-1]"
   ]
  },
  {
   "cell_type": "code",
   "execution_count": 33,
   "id": "54611a7b",
   "metadata": {
    "ExecuteTime": {
     "end_time": "2023-02-24T11:23:21.558034Z",
     "start_time": "2023-02-24T11:23:21.553137Z"
    }
   },
   "outputs": [
    {
     "name": "stdout",
     "output_type": "stream",
     "text": [
      "(1, 2, 3, 4)\n",
      "(5, 4, 3, 2)\n"
     ]
    }
   ],
   "source": [
    "t = (1,2,3,4,5)\n",
    "print(t[-5:-1])\n",
    "print(t[-1:-5:-1])"
   ]
  },
  {
   "cell_type": "code",
   "execution_count": null,
   "id": "b5220780",
   "metadata": {
    "colab": {
     "base_uri": "https://localhost:8080/",
     "height": 205
    },
    "id": "uKalrU0swVb6",
    "outputId": "54026801-6f8a-4252-f2a2-a60080a99093"
   },
   "outputs": [
    {
     "name": "stdout",
     "output_type": "stream",
     "text": [
      "(1, 2, 3, (4, 5))\n"
     ]
    },
    {
     "ename": "TypeError",
     "evalue": "ignored",
     "output_type": "error",
     "traceback": [
      "\u001b[0;31m---------------------------------------------------------------------------\u001b[0m",
      "\u001b[0;31mTypeError\u001b[0m                                 Traceback (most recent call last)",
      "\u001b[0;32m<ipython-input-35-2b39d140e8ae>\u001b[0m in \u001b[0;36m<module>\u001b[0;34m\u001b[0m\n\u001b[1;32m      1\u001b[0m \u001b[0mprint\u001b[0m\u001b[0;34m(\u001b[0m\u001b[0mt5\u001b[0m\u001b[0;34m)\u001b[0m\u001b[0;34m\u001b[0m\u001b[0;34m\u001b[0m\u001b[0m\n\u001b[0;32m----> 2\u001b[0;31m \u001b[0;32mdel\u001b[0m \u001b[0mt5\u001b[0m\u001b[0;34m[\u001b[0m\u001b[0;34m-\u001b[0m\u001b[0;36m1\u001b[0m\u001b[0;34m]\u001b[0m\u001b[0;34m\u001b[0m\u001b[0;34m\u001b[0m\u001b[0m\n\u001b[0m",
      "\u001b[0;31mTypeError\u001b[0m: 'tuple' object doesn't support item deletion"
     ]
    }
   ],
   "source": [
    "print(t5)\n",
    "del t5[-1]"
   ]
  },
  {
   "cell_type": "markdown",
   "id": "049475b8",
   "metadata": {
    "id": "VhxuX2KXmhs0"
   },
   "source": [
    "### Operations on Tuples"
   ]
  },
  {
   "cell_type": "code",
   "execution_count": 15,
   "id": "6cc909c3",
   "metadata": {
    "ExecuteTime": {
     "end_time": "2024-02-12T15:37:09.332526Z",
     "start_time": "2024-02-12T15:37:09.314394Z"
    },
    "colab": {
     "base_uri": "https://localhost:8080/"
    },
    "id": "EKUS6wWEmj9o",
    "outputId": "9b1e75c9-8953-462e-c6f8-c29f9573d4df"
   },
   "outputs": [
    {
     "name": "stdout",
     "output_type": "stream",
     "text": [
      "(1, 2, 3, 4, 5, 6, 7, 8)\n",
      "(1, 2, 3, 4, 1, 2, 3, 4, 1, 2, 3, 4)\n"
     ]
    }
   ],
   "source": [
    "# + and *\n",
    "t1 = (1,2,3,4)\n",
    "t2 = (5,6,7,8)\n",
    "\n",
    "print(t1 + t2)\n",
    "\n",
    "print(t1*3)"
   ]
  },
  {
   "cell_type": "markdown",
   "id": "30e02281",
   "metadata": {},
   "source": [
    "### doing sum of 2  tuples:"
   ]
  },
  {
   "cell_type": "code",
   "execution_count": 24,
   "id": "394533d1",
   "metadata": {
    "ExecuteTime": {
     "end_time": "2024-02-12T15:41:11.228784Z",
     "start_time": "2024-02-12T15:41:11.212457Z"
    }
   },
   "outputs": [
    {
     "data": {
      "text/plain": [
       "(6, 8, 10, 12)"
      ]
     },
     "execution_count": 24,
     "metadata": {},
     "output_type": "execute_result"
    }
   ],
   "source": [
    "tuple(x+y for x,y in zip(t1, t2))"
   ]
  },
  {
   "cell_type": "code",
   "execution_count": 38,
   "id": "4dd46a66",
   "metadata": {
    "ExecuteTime": {
     "end_time": "2023-02-24T11:29:51.758326Z",
     "start_time": "2023-02-24T11:29:51.752813Z"
    }
   },
   "outputs": [
    {
     "name": "stdout",
     "output_type": "stream",
     "text": [
      "[1, 2, 3, 4, 5, 6, 7, 8]\n",
      "[1, 2, 3, 4, 1, 2, 3, 4, 1, 2, 3, 4]\n"
     ]
    }
   ],
   "source": [
    "t1 = [1,2,3,4]\n",
    "t2 = [5,6,7,8]\n",
    "\n",
    "print(t1 + t2)\n",
    "print(t1*3)"
   ]
  },
  {
   "cell_type": "code",
   "execution_count": 15,
   "id": "5e5ccf69",
   "metadata": {
    "ExecuteTime": {
     "end_time": "2023-02-23T21:26:47.723244Z",
     "start_time": "2023-02-23T21:26:47.710542Z"
    },
    "colab": {
     "base_uri": "https://localhost:8080/"
    },
    "id": "EKUS6wWEmj9o",
    "outputId": "9b1e75c9-8953-462e-c6f8-c29f9573d4df"
   },
   "outputs": [
    {
     "data": {
      "text/plain": [
       "True"
      ]
     },
     "execution_count": 15,
     "metadata": {},
     "output_type": "execute_result"
    }
   ],
   "source": [
    "# membership\n",
    "1 in t1"
   ]
  },
  {
   "cell_type": "code",
   "execution_count": 16,
   "id": "180f5e12",
   "metadata": {
    "ExecuteTime": {
     "end_time": "2023-02-23T21:26:59.372204Z",
     "start_time": "2023-02-23T21:26:59.355685Z"
    }
   },
   "outputs": [
    {
     "data": {
      "text/plain": [
       "False"
      ]
     },
     "execution_count": 16,
     "metadata": {},
     "output_type": "execute_result"
    }
   ],
   "source": [
    "1 not in t1"
   ]
  },
  {
   "cell_type": "code",
   "execution_count": 14,
   "id": "39ccf6f5",
   "metadata": {
    "ExecuteTime": {
     "end_time": "2023-02-23T21:26:45.799020Z",
     "start_time": "2023-02-23T21:26:45.782933Z"
    },
    "colab": {
     "base_uri": "https://localhost:8080/"
    },
    "id": "EKUS6wWEmj9o",
    "outputId": "9b1e75c9-8953-462e-c6f8-c29f9573d4df"
   },
   "outputs": [
    {
     "name": "stdout",
     "output_type": "stream",
     "text": [
      "1\n",
      "2\n",
      "3\n",
      "4\n"
     ]
    }
   ],
   "source": [
    "# iteration\n",
    "for i in t1:\n",
    "    print(i)"
   ]
  },
  {
   "cell_type": "markdown",
   "id": "573a596a",
   "metadata": {
    "id": "N52xMYoPmkcZ"
   },
   "source": [
    "### Tuple Functions"
   ]
  },
  {
   "cell_type": "code",
   "execution_count": 23,
   "id": "148fc88f",
   "metadata": {
    "ExecuteTime": {
     "end_time": "2023-02-23T21:27:36.810779Z",
     "start_time": "2023-02-23T21:27:36.793727Z"
    },
    "colab": {
     "base_uri": "https://localhost:8080/"
    },
    "id": "Qwevex2Gmmm3",
    "outputId": "738058e1-5b50-46c8-fb80-74b1ac0625d5"
   },
   "outputs": [
    {
     "data": {
      "text/plain": [
       "(1, 2, 3, 4)"
      ]
     },
     "execution_count": 23,
     "metadata": {},
     "output_type": "execute_result"
    }
   ],
   "source": [
    "# len/sum/min/max/sorted\n",
    "t = (1,2,3,4)\n",
    "t"
   ]
  },
  {
   "cell_type": "code",
   "execution_count": 24,
   "id": "52d84629",
   "metadata": {
    "ExecuteTime": {
     "end_time": "2023-02-23T21:27:37.160755Z",
     "start_time": "2023-02-23T21:27:37.140321Z"
    },
    "colab": {
     "base_uri": "https://localhost:8080/"
    },
    "id": "Qwevex2Gmmm3",
    "outputId": "738058e1-5b50-46c8-fb80-74b1ac0625d5"
   },
   "outputs": [
    {
     "data": {
      "text/plain": [
       "4"
      ]
     },
     "execution_count": 24,
     "metadata": {},
     "output_type": "execute_result"
    }
   ],
   "source": [
    "len(t)"
   ]
  },
  {
   "cell_type": "code",
   "execution_count": 25,
   "id": "235f8505",
   "metadata": {
    "ExecuteTime": {
     "end_time": "2023-02-23T21:27:37.484048Z",
     "start_time": "2023-02-23T21:27:37.460572Z"
    },
    "colab": {
     "base_uri": "https://localhost:8080/"
    },
    "id": "Qwevex2Gmmm3",
    "outputId": "738058e1-5b50-46c8-fb80-74b1ac0625d5"
   },
   "outputs": [
    {
     "data": {
      "text/plain": [
       "10"
      ]
     },
     "execution_count": 25,
     "metadata": {},
     "output_type": "execute_result"
    }
   ],
   "source": [
    "sum(t)"
   ]
  },
  {
   "cell_type": "code",
   "execution_count": 26,
   "id": "4310fade",
   "metadata": {
    "ExecuteTime": {
     "end_time": "2023-02-23T21:27:37.800872Z",
     "start_time": "2023-02-23T21:27:37.775505Z"
    },
    "colab": {
     "base_uri": "https://localhost:8080/"
    },
    "id": "Qwevex2Gmmm3",
    "outputId": "738058e1-5b50-46c8-fb80-74b1ac0625d5"
   },
   "outputs": [
    {
     "data": {
      "text/plain": [
       "1"
      ]
     },
     "execution_count": 26,
     "metadata": {},
     "output_type": "execute_result"
    }
   ],
   "source": [
    "min(t)"
   ]
  },
  {
   "cell_type": "code",
   "execution_count": 27,
   "id": "7c99c8c9",
   "metadata": {
    "ExecuteTime": {
     "end_time": "2023-02-23T21:27:38.135669Z",
     "start_time": "2023-02-23T21:27:38.120683Z"
    },
    "colab": {
     "base_uri": "https://localhost:8080/"
    },
    "id": "Qwevex2Gmmm3",
    "outputId": "738058e1-5b50-46c8-fb80-74b1ac0625d5"
   },
   "outputs": [
    {
     "data": {
      "text/plain": [
       "4"
      ]
     },
     "execution_count": 27,
     "metadata": {},
     "output_type": "execute_result"
    }
   ],
   "source": [
    "max(t)"
   ]
  },
  {
   "cell_type": "code",
   "execution_count": 28,
   "id": "b1056e70",
   "metadata": {
    "ExecuteTime": {
     "end_time": "2023-02-23T21:27:38.452245Z",
     "start_time": "2023-02-23T21:27:38.440641Z"
    },
    "colab": {
     "base_uri": "https://localhost:8080/"
    },
    "id": "Qwevex2Gmmm3",
    "outputId": "738058e1-5b50-46c8-fb80-74b1ac0625d5"
   },
   "outputs": [
    {
     "data": {
      "text/plain": [
       "[4, 3, 2, 1]"
      ]
     },
     "execution_count": 28,
     "metadata": {},
     "output_type": "execute_result"
    }
   ],
   "source": [
    "sorted(t,reverse=True)"
   ]
  },
  {
   "cell_type": "markdown",
   "id": "aa391da6",
   "metadata": {},
   "source": [
    "##### <span class=\"girk\">count number of times 1 element has occured :</span> "
   ]
  },
  {
   "cell_type": "code",
   "execution_count": 32,
   "id": "2e8644e3",
   "metadata": {
    "ExecuteTime": {
     "end_time": "2023-02-23T21:29:42.025527Z",
     "start_time": "2023-02-23T21:29:42.011814Z"
    }
   },
   "outputs": [
    {
     "name": "stdout",
     "output_type": "stream",
     "text": [
      "1 ---> 2\n",
      "2 ---> 2\n",
      "3 ---> 4\n",
      "4 ---> 1\n",
      "5 ---> 2\n",
      "6 ---> 2\n",
      "7 ---> 2\n"
     ]
    }
   ],
   "source": [
    "m = (1,2,3,4,5,6,7,3,3,2,1,3,5,6,7)\n",
    "for i in set(m):\n",
    "    print(i,\"--->\",m.count(i))"
   ]
  },
  {
   "cell_type": "code",
   "execution_count": 29,
   "id": "bf97fdbc",
   "metadata": {
    "ExecuteTime": {
     "end_time": "2023-02-23T21:27:41.000804Z",
     "start_time": "2023-02-23T21:27:40.979302Z"
    },
    "colab": {
     "base_uri": "https://localhost:8080/"
    },
    "id": "u7SKgEcqmuQC",
    "outputId": "091a77b0-be5d-4dd6-f945-5a41572e44ee"
   },
   "outputs": [
    {
     "data": {
      "text/plain": [
       "0"
      ]
     },
     "execution_count": 29,
     "metadata": {},
     "output_type": "execute_result"
    }
   ],
   "source": [
    "# count\n",
    "\n",
    "t = (1,2,3,4,5)\n",
    "\n",
    "t.count(50)"
   ]
  },
  {
   "cell_type": "code",
   "execution_count": 39,
   "id": "b789f711",
   "metadata": {
    "ExecuteTime": {
     "end_time": "2023-02-24T11:30:59.054123Z",
     "start_time": "2023-02-24T11:30:59.038432Z"
    }
   },
   "outputs": [
    {
     "data": {
      "text/plain": [
       "4"
      ]
     },
     "execution_count": 39,
     "metadata": {},
     "output_type": "execute_result"
    }
   ],
   "source": [
    "t = [1,2,3,4,5,6,7,3,3,2,1,3,5,6,7]\n",
    "\n",
    "t.count(3)"
   ]
  },
  {
   "cell_type": "markdown",
   "id": "b38e4b5f",
   "metadata": {},
   "source": [
    "##### <span class=\"girk\">find given item's index :</span> "
   ]
  },
  {
   "cell_type": "code",
   "execution_count": 96,
   "id": "5b54d570",
   "metadata": {
    "ExecuteTime": {
     "end_time": "2024-08-07T18:41:19.008497Z",
     "start_time": "2024-08-07T18:41:18.991790Z"
    }
   },
   "outputs": [],
   "source": [
    "m = (1,21,34,4,58,9,71,1,5,2,1,3,5,6,7)"
   ]
  },
  {
   "cell_type": "code",
   "execution_count": 97,
   "id": "45401d15",
   "metadata": {
    "ExecuteTime": {
     "end_time": "2024-08-07T18:41:22.889292Z",
     "start_time": "2024-08-07T18:41:22.872746Z"
    }
   },
   "outputs": [
    {
     "data": {
      "text/plain": [
       "2"
      ]
     },
     "execution_count": 97,
     "metadata": {},
     "output_type": "execute_result"
    }
   ],
   "source": [
    "m.index(34)"
   ]
  },
  {
   "cell_type": "code",
   "execution_count": null,
   "id": "6cf14b1a",
   "metadata": {
    "colab": {
     "base_uri": "https://localhost:8080/",
     "height": 187
    },
    "id": "4RfqeoXYnBR8",
    "outputId": "364f9a13-bf4b-4c4a-e68f-59475f4bfcb1",
    "scrolled": true
   },
   "outputs": [
    {
     "ename": "ValueError",
     "evalue": "ignored",
     "output_type": "error",
     "traceback": [
      "\u001b[0;31m---------------------------------------------------------------------------\u001b[0m",
      "\u001b[0;31mValueError\u001b[0m                                Traceback (most recent call last)",
      "\u001b[0;32m<ipython-input-51-cae2b6ba49a8>\u001b[0m in \u001b[0;36m<module>\u001b[0;34m\u001b[0m\n\u001b[1;32m      1\u001b[0m \u001b[0;31m# index\u001b[0m\u001b[0;34m\u001b[0m\u001b[0;34m\u001b[0m\u001b[0;34m\u001b[0m\u001b[0m\n\u001b[0;32m----> 2\u001b[0;31m \u001b[0mt\u001b[0m\u001b[0;34m.\u001b[0m\u001b[0mindex\u001b[0m\u001b[0;34m(\u001b[0m\u001b[0;36m50\u001b[0m\u001b[0;34m)\u001b[0m\u001b[0;34m\u001b[0m\u001b[0;34m\u001b[0m\u001b[0m\n\u001b[0m",
      "\u001b[0;31mValueError\u001b[0m: tuple.index(x): x not in tuple"
     ]
    }
   ],
   "source": [
    "# index\n",
    "t.index(50)"
   ]
  },
  {
   "cell_type": "markdown",
   "id": "308b0539",
   "metadata": {
    "id": "PobcLOXFnNGe"
   },
   "source": [
    "### Difference between Lists and Tuples\n",
    "\n",
    "- Syntax\n",
    "- Mutability\n",
    "- Speed\n",
    "- Memory\n",
    "- Built in functionality\n",
    "- Error prone\n",
    "- Usability\n"
   ]
  },
  {
   "cell_type": "markdown",
   "id": "71ab5cc4",
   "metadata": {},
   "source": [
    "### <span class=\"girk\">Tuples are faster than list as they are immutable</span>"
   ]
  },
  {
   "cell_type": "code",
   "execution_count": 36,
   "id": "92a573b3",
   "metadata": {
    "ExecuteTime": {
     "end_time": "2023-02-23T21:32:10.700601Z",
     "start_time": "2023-02-23T21:31:29.548172Z"
    },
    "colab": {
     "base_uri": "https://localhost:8080/"
    },
    "id": "-_A7Zfp5fVQy",
    "outputId": "84aad301-6f5c-43e5-9460-3f56334286ee"
   },
   "outputs": [
    {
     "name": "stdout",
     "output_type": "stream",
     "text": [
      "List time 19.850003719329834\n",
      "Tuple time 13.254986763000488\n"
     ]
    }
   ],
   "source": [
    "import time \n",
    "\n",
    "L = list(range(100000000))\n",
    "T = tuple(range(100000000))\n",
    "\n",
    "start = time.time()\n",
    "for i in L:\n",
    "    i*5\n",
    "print('List time',time.time()-start)\n",
    "\n",
    "start = time.time()\n",
    "for i in T:\n",
    "    i*5\n",
    "print('Tuple time',time.time()-start)"
   ]
  },
  {
   "cell_type": "code",
   "execution_count": 37,
   "id": "197a1fc5",
   "metadata": {
    "ExecuteTime": {
     "end_time": "2023-02-23T21:33:45.147450Z",
     "start_time": "2023-02-23T21:33:41.132379Z"
    },
    "colab": {
     "base_uri": "https://localhost:8080/"
    },
    "id": "WMZ3zpKXgNzo",
    "outputId": "ec25c72e-db73-4118-c314-04e9049e3720"
   },
   "outputs": [
    {
     "name": "stdout",
     "output_type": "stream",
     "text": [
      "List size 8056\n",
      "Tuple size 8040\n"
     ]
    }
   ],
   "source": [
    "import sys\n",
    "\n",
    "L = list(range(1000))\n",
    "T = tuple(range(1000))\n",
    "\n",
    "print('List size',sys.getsizeof(L))\n",
    "print('Tuple size',sys.getsizeof(T))\n"
   ]
  },
  {
   "cell_type": "markdown",
   "id": "beec29e6",
   "metadata": {},
   "source": [
    "##### how lists are risky being mutable\n"
   ]
  },
  {
   "cell_type": "code",
   "execution_count": 99,
   "id": "e77a0902",
   "metadata": {
    "ExecuteTime": {
     "end_time": "2024-08-07T18:45:43.530027Z",
     "start_time": "2024-08-07T18:45:43.518952Z"
    },
    "colab": {
     "base_uri": "https://localhost:8080/"
    },
    "id": "07cZ1sqUzV8B",
    "outputId": "16dbf599-4782-4473-f922-85d972d6edeb"
   },
   "outputs": [
    {
     "name": "stdout",
     "output_type": "stream",
     "text": [
      "2405236435072 [1, 2, 3, 4]\n",
      "2405236435072 [1, 2, 3, 4]\n"
     ]
    }
   ],
   "source": [
    "a = [1,2,3]\n",
    "b = a\n",
    "\n",
    "a.append(4)\n",
    "print(id(a),a)\n",
    "print(id(b),b)\n",
    "\n",
    "# changes in 'a' are reflecting in 'b'"
   ]
  },
  {
   "cell_type": "markdown",
   "id": "96047034",
   "metadata": {},
   "source": [
    "### <span class=\"girk\">NOTE : we are able to add elements but then the address changes :</span> "
   ]
  },
  {
   "cell_type": "code",
   "execution_count": 42,
   "id": "7e108667",
   "metadata": {
    "ExecuteTime": {
     "end_time": "2023-02-24T11:59:31.340799Z",
     "start_time": "2023-02-24T11:59:31.323229Z"
    },
    "colab": {
     "base_uri": "https://localhost:8080/"
    },
    "id": "KNsxrRz9zi-p",
    "outputId": "df2306c5-afca-4e06-d939-5fb281872a38"
   },
   "outputs": [
    {
     "name": "stdout",
     "output_type": "stream",
     "text": [
      "(1, 2, 3) 3122944864896\n",
      "(1, 2, 3, 4)\n",
      "(1, 2, 3, 4) 3122945094976\n",
      "(1, 2, 3)\n",
      "(1, 2, 3) 3122944864896\n"
     ]
    }
   ],
   "source": [
    "# tuple\n",
    "a = (1,2,3)\n",
    "print(a,id(a))\n",
    "b = a\n",
    "\n",
    "a = a + (4,)\n",
    "print(a,id(a))\n",
    "print(b)\n",
    "print(b,id(b))\n",
    "# changes in 'a' are not reflecting in 'b'"
   ]
  },
  {
   "cell_type": "markdown",
   "id": "be90d7ae",
   "metadata": {
    "id": "faJ8lUIcfN6J"
   },
   "source": [
    "### Why use tuple?\n",
    "\n",
    "tuple is immutable, fast and takes less space"
   ]
  },
  {
   "cell_type": "markdown",
   "id": "94210913",
   "metadata": {
    "id": "2tXh2rFfo9Xp"
   },
   "source": [
    "### Special Syntax"
   ]
  },
  {
   "cell_type": "markdown",
   "id": "eb99127d",
   "metadata": {
    "colab": {
     "base_uri": "https://localhost:8080/"
    },
    "id": "MlDNb_KsnB-b",
    "outputId": "49934cdf-cf35-44a4-c1ba-40b0bf6ba031"
   },
   "source": [
    "### <span class=\"girk\">tuple unpacking :</span> "
   ]
  },
  {
   "cell_type": "code",
   "execution_count": null,
   "id": "30773fbc",
   "metadata": {
    "colab": {
     "base_uri": "https://localhost:8080/"
    },
    "id": "MlDNb_KsnB-b",
    "outputId": "49934cdf-cf35-44a4-c1ba-40b0bf6ba031"
   },
   "outputs": [
    {
     "name": "stdout",
     "output_type": "stream",
     "text": [
      "1 2 3\n"
     ]
    }
   ],
   "source": [
    "a,b,c = (1,2,3)\n",
    "print(a,b,c)"
   ]
  },
  {
   "cell_type": "code",
   "execution_count": 48,
   "id": "660dd705",
   "metadata": {
    "ExecuteTime": {
     "end_time": "2024-02-13T09:55:58.531424Z",
     "start_time": "2024-02-13T09:55:58.520810Z"
    }
   },
   "outputs": [
    {
     "name": "stdout",
     "output_type": "stream",
     "text": [
      "1 2 3\n"
     ]
    }
   ],
   "source": [
    "a,b,c = [1,2,3]\n",
    "print(a,b,c)"
   ]
  },
  {
   "cell_type": "code",
   "execution_count": 44,
   "id": "9d01d3fe",
   "metadata": {
    "ExecuteTime": {
     "end_time": "2023-02-23T21:38:02.151240Z",
     "start_time": "2023-02-23T21:38:01.631481Z"
    },
    "colab": {
     "base_uri": "https://localhost:8080/",
     "height": 187
    },
    "id": "bxz2_lX1j4SL",
    "outputId": "0f92225c-f0f0-4c57-c9ed-aa9f13e492e3"
   },
   "outputs": [
    {
     "ename": "ValueError",
     "evalue": "too many values to unpack (expected 2)",
     "output_type": "error",
     "traceback": [
      "\u001b[1;31m---------------------------------------------------------------------------\u001b[0m",
      "\u001b[1;31mValueError\u001b[0m                                Traceback (most recent call last)",
      "Cell \u001b[1;32mIn[44], line 1\u001b[0m\n\u001b[1;32m----> 1\u001b[0m a,b \u001b[38;5;241m=\u001b[39m (\u001b[38;5;241m1\u001b[39m,\u001b[38;5;241m2\u001b[39m,\u001b[38;5;241m3\u001b[39m)\n\u001b[0;32m      2\u001b[0m \u001b[38;5;28mprint\u001b[39m(a,b)\n",
      "\u001b[1;31mValueError\u001b[0m: too many values to unpack (expected 2)"
     ]
    }
   ],
   "source": [
    "a,b = (1,2,3)\n",
    "print(a,b)"
   ]
  },
  {
   "cell_type": "markdown",
   "id": "8371a5f0",
   "metadata": {},
   "source": [
    "### <span class=\"girk\">swapping values : Tuple unpacking</span> "
   ]
  },
  {
   "cell_type": "code",
   "execution_count": 45,
   "id": "bdb42e78",
   "metadata": {
    "ExecuteTime": {
     "end_time": "2023-02-23T21:38:33.959941Z",
     "start_time": "2023-02-23T21:38:33.951454Z"
    },
    "colab": {
     "base_uri": "https://localhost:8080/"
    },
    "id": "Crc3WUQwjp_B",
    "outputId": "33065db1-486b-46bc-b4ce-5efa9df70f93"
   },
   "outputs": [
    {
     "name": "stdout",
     "output_type": "stream",
     "text": [
      "2 1\n"
     ]
    }
   ],
   "source": [
    "a = 1\n",
    "b = 2\n",
    "a,b = b,a\n",
    "\n",
    "print(a,b)"
   ]
  },
  {
   "cell_type": "markdown",
   "id": "24d68bea",
   "metadata": {},
   "source": [
    "##### <span class=\"girk\">others/ args</span>"
   ]
  },
  {
   "cell_type": "code",
   "execution_count": 44,
   "id": "1855ddb6",
   "metadata": {
    "ExecuteTime": {
     "end_time": "2023-02-24T12:01:47.851154Z",
     "start_time": "2023-02-24T12:01:47.840293Z"
    },
    "colab": {
     "base_uri": "https://localhost:8080/"
    },
    "id": "8QlfVsrCjvh3",
    "outputId": "0724b939-8ad5-43aa-aede-3b8d5c8531a9"
   },
   "outputs": [
    {
     "name": "stdout",
     "output_type": "stream",
     "text": [
      "1 2\n",
      "[3, 4]\n"
     ]
    }
   ],
   "source": [
    "a,b,*args = (1,2,3,4)\n",
    "print(a,b)\n",
    "print(args)"
   ]
  },
  {
   "cell_type": "markdown",
   "id": "d6b97389",
   "metadata": {},
   "source": [
    "### <span class=\"girk\">zip in tuples :</span>"
   ]
  },
  {
   "cell_type": "code",
   "execution_count": 103,
   "id": "ae24e2e5",
   "metadata": {
    "ExecuteTime": {
     "end_time": "2024-08-07T18:57:38.228099Z",
     "start_time": "2024-08-07T18:57:38.221598Z"
    }
   },
   "outputs": [
    {
     "name": "stdout",
     "output_type": "stream",
     "text": [
      "[(1, 5), (2, 6), (3, 7), (4, 8)]\n",
      "((1, 5), (2, 6), (3, 7), (4, 8))\n"
     ]
    }
   ],
   "source": [
    "a = [1,2,3,4]\n",
    "b = [5,6,7,8]\n",
    "\n",
    "print(list(zip(a,b)))\n",
    "\n",
    "\n",
    "print(tuple(zip(a,b)))"
   ]
  },
  {
   "cell_type": "code",
   "execution_count": 2,
   "id": "b9f1837b",
   "metadata": {
    "ExecuteTime": {
     "end_time": "2023-02-27T19:59:20.746579Z",
     "start_time": "2023-02-27T19:59:20.731225Z"
    },
    "colab": {
     "base_uri": "https://localhost:8080/"
    },
    "id": "6RPuluylqgmE",
    "outputId": "9d711f7d-f413-4979-8c05-44c87484aeb9"
   },
   "outputs": [
    {
     "name": "stdout",
     "output_type": "stream",
     "text": [
      "(1, 2, 3, 4)\n",
      "(5, 6, 7, 8)\n"
     ]
    }
   ],
   "source": [
    "# zipping tuples\n",
    "a = (1,2,3,4)\n",
    "b = (5,6,7,8)\n",
    "print(a)\n",
    "print(b)"
   ]
  },
  {
   "cell_type": "code",
   "execution_count": 3,
   "id": "b598b12f",
   "metadata": {
    "ExecuteTime": {
     "end_time": "2023-02-27T19:59:20.980581Z",
     "start_time": "2023-02-27T19:59:20.954498Z"
    },
    "colab": {
     "base_uri": "https://localhost:8080/"
    },
    "id": "6RPuluylqgmE",
    "outputId": "9d711f7d-f413-4979-8c05-44c87484aeb9"
   },
   "outputs": [
    {
     "data": {
      "text/plain": [
       "((1, 5), (2, 6), (3, 7), (4, 8))"
      ]
     },
     "execution_count": 3,
     "metadata": {},
     "output_type": "execute_result"
    }
   ],
   "source": [
    "tuple(zip(a,b))"
   ]
  },
  {
   "cell_type": "code",
   "execution_count": 4,
   "id": "b5cb506c",
   "metadata": {
    "ExecuteTime": {
     "end_time": "2023-02-27T19:59:21.214566Z",
     "start_time": "2023-02-27T19:59:21.198541Z"
    }
   },
   "outputs": [
    {
     "data": {
      "text/plain": [
       "(1, 2, 3, 4, 5, 6, 7, 8)"
      ]
     },
     "execution_count": 4,
     "metadata": {},
     "output_type": "execute_result"
    }
   ],
   "source": [
    "tuple(a+b)"
   ]
  },
  {
   "cell_type": "code",
   "execution_count": 53,
   "id": "9a63c829",
   "metadata": {
    "ExecuteTime": {
     "end_time": "2023-02-24T12:03:32.091004Z",
     "start_time": "2023-02-24T12:03:32.084608Z"
    }
   },
   "outputs": [
    {
     "data": {
      "text/plain": [
       "(3, 7)"
      ]
     },
     "execution_count": 53,
     "metadata": {},
     "output_type": "execute_result"
    }
   ],
   "source": [
    "tuple(zip(a,b))[2]"
   ]
  },
  {
   "cell_type": "code",
   "execution_count": 108,
   "id": "75e989de",
   "metadata": {
    "ExecuteTime": {
     "end_time": "2024-08-07T19:03:56.756162Z",
     "start_time": "2024-08-07T19:03:56.751059Z"
    }
   },
   "outputs": [
    {
     "name": "stdout",
     "output_type": "stream",
     "text": [
      "[1, 2, 3, 4, 6, 9, 10]\n",
      "[5, 6, 7, 8]\n",
      "\n",
      "[(1, 5), (2, 6), (3, 7), (4, 8)]\n"
     ]
    }
   ],
   "source": [
    "a = [1,2,3,4,6,9,10]\n",
    "b = [5,6,7,8]\n",
    "print(a)\n",
    "print(b)\n",
    "\n",
    "print()\n",
    "print(list(zip(a,b)))"
   ]
  },
  {
   "cell_type": "markdown",
   "id": "20dfec16",
   "metadata": {
    "id": "wZfWh6bstK70"
   },
   "source": [
    "# Sets {}"
   ]
  },
  {
   "cell_type": "markdown",
   "id": "97471876",
   "metadata": {
    "id": "wZfWh6bstK70"
   },
   "source": [
    "A set is an unordered collection of items. Every set element is unique (no duplicates) and must be immutable (cannot be changed).\n",
    "\n",
    "However, a set itself is mutable. We can add or remove items from it.\n",
    "\n",
    "Sets can also be used to perform mathematical set operations like union, intersection, symmetric difference, etc."
   ]
  },
  {
   "cell_type": "markdown",
   "id": "57bd9d56",
   "metadata": {
    "id": "wZfWh6bstK70"
   },
   "source": [
    "## Characterstics:\n",
    "\n",
    "\n",
    "### - Unordered\n",
    "### - Mutable\n",
    "### - No Duplicates\n",
    "### - <span class=\"girk\">Can't contain mutable data types eg: 2-D sets are not possible </span>"
   ]
  },
  {
   "cell_type": "markdown",
   "id": "d87055c8",
   "metadata": {
    "id": "cr172PHQy2sD"
   },
   "source": [
    "### Creating Sets"
   ]
  },
  {
   "cell_type": "markdown",
   "id": "a599217f",
   "metadata": {},
   "source": [
    "##### empty sets are not created like this : "
   ]
  },
  {
   "cell_type": "code",
   "execution_count": 58,
   "id": "14f8e041",
   "metadata": {
    "ExecuteTime": {
     "end_time": "2023-02-23T21:44:15.452857Z",
     "start_time": "2023-02-23T21:44:15.436841Z"
    }
   },
   "outputs": [
    {
     "name": "stdout",
     "output_type": "stream",
     "text": [
      "{}\n",
      "<class 'dict'>\n"
     ]
    }
   ],
   "source": [
    "s = {}\n",
    "print(s)\n",
    "print(type(s))"
   ]
  },
  {
   "cell_type": "markdown",
   "id": "f6e4bfb0",
   "metadata": {},
   "source": [
    "### <span class=\"girk\">correct way of creating empty sets</span>"
   ]
  },
  {
   "cell_type": "code",
   "execution_count": 59,
   "id": "10a39aec",
   "metadata": {
    "ExecuteTime": {
     "end_time": "2023-02-23T21:44:39.194096Z",
     "start_time": "2023-02-23T21:44:39.178099Z"
    },
    "colab": {
     "base_uri": "https://localhost:8080/",
     "height": 330
    },
    "id": "0UBYWcTYvmug",
    "outputId": "6758704b-554f-44dd-ad89-06afa5b3b3cc"
   },
   "outputs": [
    {
     "name": "stdout",
     "output_type": "stream",
     "text": [
      "set()\n",
      "<class 'set'>\n"
     ]
    }
   ],
   "source": [
    "# empty\n",
    "s = set()\n",
    "print(s)\n",
    "print(type(s))"
   ]
  },
  {
   "cell_type": "code",
   "execution_count": 60,
   "id": "546d4c63",
   "metadata": {
    "ExecuteTime": {
     "end_time": "2023-02-23T21:44:54.110676Z",
     "start_time": "2023-02-23T21:44:54.086088Z"
    },
    "colab": {
     "base_uri": "https://localhost:8080/",
     "height": 330
    },
    "id": "0UBYWcTYvmug",
    "outputId": "6758704b-554f-44dd-ad89-06afa5b3b3cc"
   },
   "outputs": [
    {
     "name": "stdout",
     "output_type": "stream",
     "text": [
      "{1, 2, 3}\n"
     ]
    }
   ],
   "source": [
    "# 1D and 2D\n",
    "s1 = {1,2,3}\n",
    "print(s1)"
   ]
  },
  {
   "cell_type": "markdown",
   "id": "29341413",
   "metadata": {},
   "source": [
    "### <span class=\"girk\">NOTE : Sets are mutable but can't have mutable elements in it. eg:</span> "
   ]
  },
  {
   "cell_type": "code",
   "execution_count": 61,
   "id": "b0f854d5",
   "metadata": {
    "ExecuteTime": {
     "end_time": "2023-02-23T21:45:19.374177Z",
     "start_time": "2023-02-23T21:45:19.341506Z"
    },
    "colab": {
     "base_uri": "https://localhost:8080/",
     "height": 330
    },
    "id": "0UBYWcTYvmug",
    "outputId": "6758704b-554f-44dd-ad89-06afa5b3b3cc"
   },
   "outputs": [
    {
     "ename": "TypeError",
     "evalue": "unhashable type: 'set'",
     "output_type": "error",
     "traceback": [
      "\u001b[1;31m---------------------------------------------------------------------------\u001b[0m",
      "\u001b[1;31mTypeError\u001b[0m                                 Traceback (most recent call last)",
      "Cell \u001b[1;32mIn[61], line 2\u001b[0m\n\u001b[0;32m      1\u001b[0m \u001b[38;5;66;03m# 2-D sets\u001b[39;00m\n\u001b[1;32m----> 2\u001b[0m s2 \u001b[38;5;241m=\u001b[39m {\u001b[38;5;241m1\u001b[39m,\u001b[38;5;241m2\u001b[39m,\u001b[38;5;241m3\u001b[39m,{\u001b[38;5;241m4\u001b[39m,\u001b[38;5;241m5\u001b[39m}}\n\u001b[0;32m      3\u001b[0m \u001b[38;5;28mprint\u001b[39m(s2)\n",
      "\u001b[1;31mTypeError\u001b[0m: unhashable type: 'set'"
     ]
    }
   ],
   "source": [
    "# 2-D sets\n",
    "s2 = {1,2,3,{4,5}}\n",
    "print(s2)"
   ]
  },
  {
   "cell_type": "code",
   "execution_count": 28,
   "id": "1692d0a0",
   "metadata": {
    "ExecuteTime": {
     "end_time": "2024-02-12T21:47:47.931211Z",
     "start_time": "2024-02-12T21:47:47.895368Z"
    }
   },
   "outputs": [
    {
     "ename": "TypeError",
     "evalue": "unhashable type: 'list'",
     "output_type": "error",
     "traceback": [
      "\u001b[1;31m---------------------------------------------------------------------------\u001b[0m",
      "\u001b[1;31mTypeError\u001b[0m                                 Traceback (most recent call last)",
      "Cell \u001b[1;32mIn[28], line 2\u001b[0m\n\u001b[0;32m      1\u001b[0m \u001b[38;5;66;03m# lists inside set is possible\u001b[39;00m\n\u001b[1;32m----> 2\u001b[0m s2 \u001b[38;5;241m=\u001b[39m {[\u001b[38;5;241m1\u001b[39m,\u001b[38;5;241m2\u001b[39m,\u001b[38;5;241m3\u001b[39m,\u001b[38;5;241m4\u001b[39m,\u001b[38;5;241m4\u001b[39m,\u001b[38;5;241m5\u001b[39m]}\n\u001b[0;32m      3\u001b[0m \u001b[38;5;28mprint\u001b[39m(s2)\n",
      "\u001b[1;31mTypeError\u001b[0m: unhashable type: 'list'"
     ]
    }
   ],
   "source": [
    "# lists inside set is not possible\n",
    "s2 = {[1,2,3,4,4,5]}\n",
    "print(s2)"
   ]
  },
  {
   "cell_type": "code",
   "execution_count": 27,
   "id": "921c4ba1",
   "metadata": {
    "ExecuteTime": {
     "end_time": "2024-02-12T21:47:22.597382Z",
     "start_time": "2024-02-12T21:47:22.513803Z"
    }
   },
   "outputs": [
    {
     "ename": "TypeError",
     "evalue": "unhashable type: 'list'",
     "output_type": "error",
     "traceback": [
      "\u001b[1;31m---------------------------------------------------------------------------\u001b[0m",
      "\u001b[1;31mTypeError\u001b[0m                                 Traceback (most recent call last)",
      "Cell \u001b[1;32mIn[27], line 2\u001b[0m\n\u001b[0;32m      1\u001b[0m \u001b[38;5;66;03m# lists inside set is possible\u001b[39;00m\n\u001b[1;32m----> 2\u001b[0m s2 \u001b[38;5;241m=\u001b[39m {\u001b[38;5;241m1\u001b[39m,\u001b[38;5;241m2\u001b[39m,\u001b[38;5;241m3\u001b[39m,[\u001b[38;5;241m4\u001b[39m,\u001b[38;5;241m5\u001b[39m]}\n\u001b[0;32m      3\u001b[0m \u001b[38;5;28mprint\u001b[39m(s2)\n",
      "\u001b[1;31mTypeError\u001b[0m: unhashable type: 'list'"
     ]
    }
   ],
   "source": [
    "s2 = {1,2,3,[4,5]}\n",
    "print(s2)"
   ]
  },
  {
   "cell_type": "code",
   "execution_count": 6,
   "id": "f2690743",
   "metadata": {
    "ExecuteTime": {
     "end_time": "2024-08-08T07:57:30.301939Z",
     "start_time": "2024-08-08T07:57:30.283905Z"
    }
   },
   "outputs": [
    {
     "name": "stdout",
     "output_type": "stream",
     "text": [
      "{1, 2, 3, 4, 5}\n"
     ]
    },
    {
     "data": {
      "text/plain": [
       "set"
      ]
     },
     "execution_count": 6,
     "metadata": {},
     "output_type": "execute_result"
    }
   ],
   "source": [
    "s22 = set([1,2,3,4,5])\n",
    "print(s22)\n",
    "type(s22)"
   ]
  },
  {
   "cell_type": "code",
   "execution_count": 8,
   "id": "d0a692ac",
   "metadata": {
    "ExecuteTime": {
     "end_time": "2024-08-08T08:03:08.596361Z",
     "start_time": "2024-08-08T08:03:08.569334Z"
    }
   },
   "outputs": [
    {
     "ename": "TypeError",
     "evalue": "set expected at most 1 argument, got 2",
     "output_type": "error",
     "traceback": [
      "\u001b[1;31m---------------------------------------------------------------------------\u001b[0m",
      "\u001b[1;31mTypeError\u001b[0m                                 Traceback (most recent call last)",
      "Cell \u001b[1;32mIn[8], line 1\u001b[0m\n\u001b[1;32m----> 1\u001b[0m s22 \u001b[38;5;241m=\u001b[39m \u001b[38;5;28;43mset\u001b[39;49m\u001b[43m(\u001b[49m\u001b[43m[\u001b[49m\u001b[38;5;241;43m1\u001b[39;49m\u001b[43m,\u001b[49m\u001b[38;5;241;43m2\u001b[39;49m\u001b[43m,\u001b[49m\u001b[38;5;241;43m3\u001b[39;49m\u001b[43m,\u001b[49m\u001b[38;5;241;43m4\u001b[39;49m\u001b[43m,\u001b[49m\u001b[38;5;241;43m5\u001b[39;49m\u001b[43m]\u001b[49m\u001b[43m,\u001b[49m\u001b[43m[\u001b[49m\u001b[38;5;241;43m2\u001b[39;49m\u001b[43m,\u001b[49m\u001b[38;5;241;43m4\u001b[39;49m\u001b[43m,\u001b[49m\u001b[38;5;241;43m56\u001b[39;49m\u001b[43m]\u001b[49m\u001b[43m)\u001b[49m\n\u001b[0;32m      2\u001b[0m \u001b[38;5;28mprint\u001b[39m(s22)\n\u001b[0;32m      3\u001b[0m \u001b[38;5;28mtype\u001b[39m(s22)\n",
      "\u001b[1;31mTypeError\u001b[0m: set expected at most 1 argument, got 2"
     ]
    }
   ],
   "source": [
    "s22 = set([1,2,3,4,5],[2,4,56])\n",
    "print(s22)\n",
    "type(s22)"
   ]
  },
  {
   "cell_type": "code",
   "execution_count": 56,
   "id": "f41165de",
   "metadata": {
    "ExecuteTime": {
     "end_time": "2023-02-24T12:11:21.735459Z",
     "start_time": "2023-02-24T12:11:21.726787Z"
    }
   },
   "outputs": [
    {
     "name": "stdout",
     "output_type": "stream",
     "text": [
      "{3, 1, (4, 5), 2}\n"
     ]
    }
   ],
   "source": [
    "# tuple inside set is possible\n",
    "s2 = {1,2,3,(4,5)}\n",
    "print(s2)"
   ]
  },
  {
   "cell_type": "code",
   "execution_count": 65,
   "id": "112d20a5",
   "metadata": {
    "ExecuteTime": {
     "end_time": "2023-02-23T21:46:19.170064Z",
     "start_time": "2023-02-23T21:46:19.153910Z"
    }
   },
   "outputs": [
    {
     "name": "stdout",
     "output_type": "stream",
     "text": [
      "{1, 2}\n"
     ]
    }
   ],
   "source": [
    "# can't have duplicates\n",
    "\n",
    "s22 = {1,2,True}\n",
    "print(s22)"
   ]
  },
  {
   "cell_type": "code",
   "execution_count": 62,
   "id": "f90941d2",
   "metadata": {
    "ExecuteTime": {
     "end_time": "2023-02-23T21:45:23.390516Z",
     "start_time": "2023-02-23T21:45:23.382250Z"
    },
    "colab": {
     "base_uri": "https://localhost:8080/",
     "height": 330
    },
    "id": "0UBYWcTYvmug",
    "outputId": "6758704b-554f-44dd-ad89-06afa5b3b3cc",
    "scrolled": true
   },
   "outputs": [
    {
     "name": "stdout",
     "output_type": "stream",
     "text": [
      "{'hello', 1, (1, 2, 3), 4.5}\n"
     ]
    }
   ],
   "source": [
    "# homo and hetro\n",
    "s3 = {1,'hello',4.5,(1,2,3)}\n",
    "print(s3)"
   ]
  },
  {
   "cell_type": "markdown",
   "id": "879c3947",
   "metadata": {},
   "source": [
    "### how `set([1,1,1,2,3,4])`  and `{[1,1,1,2,3,4]}` are different?"
   ]
  },
  {
   "cell_type": "code",
   "execution_count": 51,
   "id": "965684d5",
   "metadata": {
    "ExecuteTime": {
     "end_time": "2024-02-13T10:04:10.369432Z",
     "start_time": "2024-02-13T10:04:10.360028Z"
    }
   },
   "outputs": [
    {
     "data": {
      "text/plain": [
       "{1, 2, 3, 4}"
      ]
     },
     "execution_count": 51,
     "metadata": {},
     "output_type": "execute_result"
    }
   ],
   "source": [
    "set([1,1,1,2,3,4])"
   ]
  },
  {
   "cell_type": "code",
   "execution_count": 52,
   "id": "dbe24eee",
   "metadata": {
    "ExecuteTime": {
     "end_time": "2024-02-13T10:04:15.521448Z",
     "start_time": "2024-02-13T10:04:15.483740Z"
    }
   },
   "outputs": [
    {
     "ename": "TypeError",
     "evalue": "unhashable type: 'list'",
     "output_type": "error",
     "traceback": [
      "\u001b[1;31m---------------------------------------------------------------------------\u001b[0m",
      "\u001b[1;31mTypeError\u001b[0m                                 Traceback (most recent call last)",
      "Cell \u001b[1;32mIn[52], line 1\u001b[0m\n\u001b[1;32m----> 1\u001b[0m {[\u001b[38;5;241m1\u001b[39m,\u001b[38;5;241m1\u001b[39m,\u001b[38;5;241m1\u001b[39m,\u001b[38;5;241m2\u001b[39m,\u001b[38;5;241m3\u001b[39m,\u001b[38;5;241m4\u001b[39m]}\n",
      "\u001b[1;31mTypeError\u001b[0m: unhashable type: 'list'"
     ]
    }
   ],
   "source": [
    "{[1,1,1,2,3,4]}"
   ]
  },
  {
   "cell_type": "markdown",
   "id": "59cfeb14",
   "metadata": {},
   "source": [
    "The difference in behavior and results between `set([1, 1, 1, 2, 3, 4])` and `{[1, 1, 1, 2, 3, 4]}` arises from how Python interprets and handles each expression:\n",
    "\n",
    "1. `set([1, 1, 1, 2, 3, 4])`:\n",
    "   - `set()` is a built-in function in Python used to create a set from an iterable object.\n",
    "   - When you pass a list `[1, 1, 1, 2, 3, 4]` to `set()`, Python automatically removes duplicate elements and constructs a set containing unique elements from the list.\n",
    "   - So, the result of `set([1, 1, 1, 2, 3, 4])` would be `{1, 2, 3, 4}`. The duplicate `1` is removed because sets do not allow duplicate elements.\n",
    "\n",
    "\n",
    "2. `{[1, 1, 1, 2, 3, 4]}`:\n",
    "   - This is attempting to create a set literal with a single element, which is a list `[1, 1, 1, 2, 3, 4]`.\n",
    "   - However, sets cannot contain mutable elements like lists. Only immutable types like integers, strings, and tuples are allowed in sets.\n",
    "   - When you attempt to use a list as an element of a set literal, Python will raise a TypeError because lists are mutable and cannot be hashed. Hence, `{[1, 1, 1, 2, 3, 4]}` will result in a TypeError.\n",
    "\n",
    "In summary, `set([1, 1, 1, 2, 3, 4])` creates a set with unique elements from the list, while `{[1, 1, 1, 2, 3, 4]}` attempts to create a set with a list as its element, which is not allowed in Python."
   ]
  },
  {
   "cell_type": "markdown",
   "id": "3762a1f9",
   "metadata": {
    "ExecuteTime": {
     "end_time": "2023-02-23T21:45:24.055593Z",
     "start_time": "2023-02-23T21:45:24.035512Z"
    },
    "colab": {
     "base_uri": "https://localhost:8080/",
     "height": 330
    },
    "id": "0UBYWcTYvmug",
    "outputId": "6758704b-554f-44dd-ad89-06afa5b3b3cc"
   },
   "source": [
    "### <span class=\"girk\">using type conversion  :    </span>"
   ]
  },
  {
   "cell_type": "code",
   "execution_count": 111,
   "id": "75f88f95",
   "metadata": {
    "ExecuteTime": {
     "end_time": "2024-08-07T19:14:30.986463Z",
     "start_time": "2024-08-07T19:14:30.975225Z"
    },
    "colab": {
     "base_uri": "https://localhost:8080/",
     "height": 330
    },
    "id": "0UBYWcTYvmug",
    "outputId": "6758704b-554f-44dd-ad89-06afa5b3b3cc"
   },
   "outputs": [
    {
     "name": "stdout",
     "output_type": "stream",
     "text": [
      "{1, 2, 3}\n"
     ]
    }
   ],
   "source": [
    "s4 = set([1,2,3])\n",
    "print(s4)"
   ]
  },
  {
   "cell_type": "code",
   "execution_count": 50,
   "id": "c1d62e8c",
   "metadata": {
    "ExecuteTime": {
     "end_time": "2024-02-13T10:00:11.055555Z",
     "start_time": "2024-02-13T10:00:11.006904Z"
    }
   },
   "outputs": [
    {
     "ename": "TypeError",
     "evalue": "unhashable type: 'list'",
     "output_type": "error",
     "traceback": [
      "\u001b[1;31m---------------------------------------------------------------------------\u001b[0m",
      "\u001b[1;31mTypeError\u001b[0m                                 Traceback (most recent call last)",
      "Cell \u001b[1;32mIn[50], line 1\u001b[0m\n\u001b[1;32m----> 1\u001b[0m s4 \u001b[38;5;241m=\u001b[39m {[\u001b[38;5;241m1\u001b[39m,\u001b[38;5;241m2\u001b[39m,\u001b[38;5;241m3\u001b[39m]}\n\u001b[0;32m      2\u001b[0m \u001b[38;5;28mprint\u001b[39m(s4)\n",
      "\u001b[1;31mTypeError\u001b[0m: unhashable type: 'list'"
     ]
    }
   ],
   "source": [
    "s4 = {[1,2,3]}\n",
    "print(s4)"
   ]
  },
  {
   "cell_type": "code",
   "execution_count": 55,
   "id": "54c72aa8",
   "metadata": {
    "ExecuteTime": {
     "end_time": "2023-02-24T12:10:50.551471Z",
     "start_time": "2023-02-24T12:10:50.542980Z"
    }
   },
   "outputs": [
    {
     "name": "stdout",
     "output_type": "stream",
     "text": [
      "{1, 2, 3, 4}\n"
     ]
    }
   ],
   "source": [
    "s4 = set([1,1,2,3,4,2,3])\n",
    "print(s4)"
   ]
  },
  {
   "cell_type": "code",
   "execution_count": 64,
   "id": "bd421fc0",
   "metadata": {
    "ExecuteTime": {
     "end_time": "2023-02-23T21:45:26.040065Z",
     "start_time": "2023-02-23T21:45:26.031824Z"
    },
    "colab": {
     "base_uri": "https://localhost:8080/",
     "height": 330
    },
    "id": "0UBYWcTYvmug",
    "outputId": "6758704b-554f-44dd-ad89-06afa5b3b3cc"
   },
   "outputs": [
    {
     "name": "stdout",
     "output_type": "stream",
     "text": [
      "{1, 2, 3}\n"
     ]
    }
   ],
   "source": [
    "# duplicates not allowed\n",
    "s5 = {1,1,2,2,3,3}\n",
    "print(s5)"
   ]
  },
  {
   "cell_type": "markdown",
   "id": "ef4ef66a",
   "metadata": {
    "ExecuteTime": {
     "end_time": "2023-02-23T21:40:53.051246Z",
     "start_time": "2023-02-23T21:40:53.018658Z"
    },
    "colab": {
     "base_uri": "https://localhost:8080/",
     "height": 330
    },
    "id": "0UBYWcTYvmug",
    "outputId": "6758704b-554f-44dd-ad89-06afa5b3b3cc"
   },
   "source": [
    "##### <span class=\"girk\">set can't have mutable items like lists</span>"
   ]
  },
  {
   "cell_type": "code",
   "execution_count": 56,
   "id": "5c2fd617",
   "metadata": {
    "ExecuteTime": {
     "end_time": "2023-02-23T21:40:53.051246Z",
     "start_time": "2023-02-23T21:40:53.018658Z"
    },
    "colab": {
     "base_uri": "https://localhost:8080/",
     "height": 330
    },
    "id": "0UBYWcTYvmug",
    "outputId": "6758704b-554f-44dd-ad89-06afa5b3b3cc"
   },
   "outputs": [
    {
     "ename": "TypeError",
     "evalue": "unhashable type: 'list'",
     "output_type": "error",
     "traceback": [
      "\u001b[1;31m---------------------------------------------------------------------------\u001b[0m",
      "\u001b[1;31mTypeError\u001b[0m                                 Traceback (most recent call last)",
      "Cell \u001b[1;32mIn[56], line 2\u001b[0m\n\u001b[0;32m      1\u001b[0m \u001b[38;5;66;03m# set can't have mutable items\u001b[39;00m\n\u001b[1;32m----> 2\u001b[0m s6 \u001b[38;5;241m=\u001b[39m {\u001b[38;5;241m1\u001b[39m,\u001b[38;5;241m2\u001b[39m,[\u001b[38;5;241m3\u001b[39m,\u001b[38;5;241m4\u001b[39m]}\n\u001b[0;32m      3\u001b[0m \u001b[38;5;28mprint\u001b[39m(s6)\n",
      "\u001b[1;31mTypeError\u001b[0m: unhashable type: 'list'"
     ]
    }
   ],
   "source": [
    "s6 = {1,2,[3,4]}\n",
    "print(s6)"
   ]
  },
  {
   "cell_type": "markdown",
   "id": "16c7dd73",
   "metadata": {},
   "source": [
    "### <span class=\"girk\">NOTE : order doesnot matters in set</span>"
   ]
  },
  {
   "cell_type": "code",
   "execution_count": 57,
   "id": "400291ac",
   "metadata": {
    "ExecuteTime": {
     "end_time": "2023-02-23T21:41:02.179977Z",
     "start_time": "2023-02-23T21:41:02.155729Z"
    },
    "colab": {
     "base_uri": "https://localhost:8080/"
    },
    "id": "VxnwBigY4PsS",
    "outputId": "f999b3c4-549d-4643-8a9e-403d6134c6f1"
   },
   "outputs": [
    {
     "name": "stdout",
     "output_type": "stream",
     "text": [
      "True\n"
     ]
    }
   ],
   "source": [
    "s1 = {1,2,3}\n",
    "s2 = {3,2,1}\n",
    "\n",
    "print(s1 == s2)"
   ]
  },
  {
   "cell_type": "markdown",
   "id": "30d29547",
   "metadata": {
    "id": "N4XE7Jdcy6I6"
   },
   "source": [
    "### Accessing Items"
   ]
  },
  {
   "cell_type": "code",
   "execution_count": null,
   "id": "74c24026",
   "metadata": {
    "colab": {
     "base_uri": "https://localhost:8080/",
     "height": 187
    },
    "id": "1FTPU90-y8Vm",
    "outputId": "e27c181e-135c-48cc-8d40-2c80a00e90b2",
    "scrolled": true
   },
   "outputs": [
    {
     "ename": "TypeError",
     "evalue": "ignored",
     "output_type": "error",
     "traceback": [
      "\u001b[0;31m---------------------------------------------------------------------------\u001b[0m",
      "\u001b[0;31mTypeError\u001b[0m                                 Traceback (most recent call last)",
      "\u001b[0;32m<ipython-input-75-4c49b6b6050d>\u001b[0m in \u001b[0;36m<module>\u001b[0;34m\u001b[0m\n\u001b[1;32m      1\u001b[0m \u001b[0ms1\u001b[0m \u001b[0;34m=\u001b[0m \u001b[0;34m{\u001b[0m\u001b[0;36m1\u001b[0m\u001b[0;34m,\u001b[0m\u001b[0;36m2\u001b[0m\u001b[0;34m,\u001b[0m\u001b[0;36m3\u001b[0m\u001b[0;34m,\u001b[0m\u001b[0;36m4\u001b[0m\u001b[0;34m}\u001b[0m\u001b[0;34m\u001b[0m\u001b[0;34m\u001b[0m\u001b[0m\n\u001b[0;32m----> 2\u001b[0;31m \u001b[0ms1\u001b[0m\u001b[0;34m[\u001b[0m\u001b[0;36m0\u001b[0m\u001b[0;34m:\u001b[0m\u001b[0;36m3\u001b[0m\u001b[0;34m]\u001b[0m\u001b[0;34m\u001b[0m\u001b[0;34m\u001b[0m\u001b[0m\n\u001b[0m",
      "\u001b[0;31mTypeError\u001b[0m: 'set' object is not subscriptable"
     ]
    }
   ],
   "source": [
    "s1 = {1,2,3,4}\n",
    "s1[0:3]"
   ]
  },
  {
   "cell_type": "markdown",
   "id": "f8a2351f",
   "metadata": {},
   "source": [
    "### <span class=\"girk\">NOTE : Indexing is not allowed in sets as it is unordered</span>"
   ]
  },
  {
   "cell_type": "markdown",
   "id": "f02bbae0",
   "metadata": {
    "id": "04eW94rFy9ce"
   },
   "source": [
    "### Editing Items"
   ]
  },
  {
   "cell_type": "markdown",
   "id": "34a0bf83",
   "metadata": {},
   "source": [
    "##### via indexing we can't add or deleted"
   ]
  },
  {
   "cell_type": "code",
   "execution_count": null,
   "id": "88cf7f7e",
   "metadata": {
    "colab": {
     "base_uri": "https://localhost:8080/",
     "height": 187
    },
    "id": "gPnAaZYvzLF2",
    "outputId": "cea8dcd7-f17e-492a-ebff-11c8d9153ec5"
   },
   "outputs": [
    {
     "ename": "TypeError",
     "evalue": "ignored",
     "output_type": "error",
     "traceback": [
      "\u001b[0;31m---------------------------------------------------------------------------\u001b[0m",
      "\u001b[0;31mTypeError\u001b[0m                                 Traceback (most recent call last)",
      "\u001b[0;32m<ipython-input-76-bd617ce25076>\u001b[0m in \u001b[0;36m<module>\u001b[0;34m\u001b[0m\n\u001b[1;32m      1\u001b[0m \u001b[0ms1\u001b[0m \u001b[0;34m=\u001b[0m \u001b[0;34m{\u001b[0m\u001b[0;36m1\u001b[0m\u001b[0;34m,\u001b[0m\u001b[0;36m2\u001b[0m\u001b[0;34m,\u001b[0m\u001b[0;36m3\u001b[0m\u001b[0;34m,\u001b[0m\u001b[0;36m4\u001b[0m\u001b[0;34m}\u001b[0m\u001b[0;34m\u001b[0m\u001b[0;34m\u001b[0m\u001b[0m\n\u001b[0;32m----> 2\u001b[0;31m \u001b[0ms1\u001b[0m\u001b[0;34m[\u001b[0m\u001b[0;36m0\u001b[0m\u001b[0;34m]\u001b[0m \u001b[0;34m=\u001b[0m \u001b[0;36m100\u001b[0m\u001b[0;34m\u001b[0m\u001b[0;34m\u001b[0m\u001b[0m\n\u001b[0m",
      "\u001b[0;31mTypeError\u001b[0m: 'set' object does not support item assignment"
     ]
    }
   ],
   "source": [
    "s1 = {1,2,3,4}\n",
    "s1[0] = 100"
   ]
  },
  {
   "cell_type": "markdown",
   "id": "25315ca5",
   "metadata": {
    "id": "5xsL5JF-zLkI"
   },
   "source": [
    "### Adding Items"
   ]
  },
  {
   "cell_type": "markdown",
   "id": "0a8f97bc",
   "metadata": {},
   "source": [
    "#### add : adding single item : "
   ]
  },
  {
   "cell_type": "code",
   "execution_count": 112,
   "id": "9c08324d",
   "metadata": {
    "ExecuteTime": {
     "end_time": "2024-08-07T19:16:40.173941Z",
     "start_time": "2024-08-07T19:16:40.154607Z"
    },
    "colab": {
     "base_uri": "https://localhost:8080/"
    },
    "id": "qiRjVBv6zNnO",
    "outputId": "58dbc681-d0c2-48ed-8bc5-62e90b444d7a"
   },
   "outputs": [
    {
     "name": "stdout",
     "output_type": "stream",
     "text": [
      "{11, 3, 21, 14}\n",
      "\n",
      " id of S :  2405242120672\n"
     ]
    }
   ],
   "source": [
    "S = {11,21,3,14}\n",
    "print(S)\n",
    "\n",
    "\n",
    "print(\"\\n id of S : \",id(S))"
   ]
  },
  {
   "cell_type": "code",
   "execution_count": 113,
   "id": "8c65882a",
   "metadata": {
    "ExecuteTime": {
     "end_time": "2024-08-07T19:16:55.251317Z",
     "start_time": "2024-08-07T19:16:55.214177Z"
    }
   },
   "outputs": [
    {
     "ename": "AttributeError",
     "evalue": "'set' object has no attribute 'append'",
     "output_type": "error",
     "traceback": [
      "\u001b[1;31m---------------------------------------------------------------------------\u001b[0m",
      "\u001b[1;31mAttributeError\u001b[0m                            Traceback (most recent call last)",
      "Cell \u001b[1;32mIn[113], line 2\u001b[0m\n\u001b[0;32m      1\u001b[0m \u001b[38;5;66;03m# add\u001b[39;00m\n\u001b[1;32m----> 2\u001b[0m \u001b[43mS\u001b[49m\u001b[38;5;241;43m.\u001b[39;49m\u001b[43mappend\u001b[49m(\u001b[38;5;241m7\u001b[39m)\n\u001b[0;32m      3\u001b[0m \u001b[38;5;28mprint\u001b[39m(S)\n\u001b[0;32m      4\u001b[0m \u001b[38;5;28mprint\u001b[39m(\u001b[38;5;124m\"\u001b[39m\u001b[38;5;130;01m\\n\u001b[39;00m\u001b[38;5;124m id of S : \u001b[39m\u001b[38;5;124m\"\u001b[39m,\u001b[38;5;28mid\u001b[39m(S))\n",
      "\u001b[1;31mAttributeError\u001b[0m: 'set' object has no attribute 'append'"
     ]
    }
   ],
   "source": [
    "# append oesnot works in set\n",
    "S.append(7)\n",
    "print(S)\n",
    "print(\"\\n id of S : \",id(S))"
   ]
  },
  {
   "cell_type": "code",
   "execution_count": 76,
   "id": "9a669490",
   "metadata": {
    "ExecuteTime": {
     "end_time": "2024-02-13T12:04:32.209185Z",
     "start_time": "2024-02-13T12:04:32.194987Z"
    },
    "colab": {
     "base_uri": "https://localhost:8080/"
    },
    "id": "qiRjVBv6zNnO",
    "outputId": "58dbc681-d0c2-48ed-8bc5-62e90b444d7a"
   },
   "outputs": [
    {
     "name": "stdout",
     "output_type": "stream",
     "text": [
      "{3, 7, 11, 14, 21}\n",
      "\n",
      " id of S :  1488632434464\n"
     ]
    }
   ],
   "source": [
    "# add\n",
    "S.add(7)\n",
    "print(S)\n",
    "print(\"\\n id of S : \",id(S))"
   ]
  },
  {
   "cell_type": "markdown",
   "id": "595447a0",
   "metadata": {},
   "source": [
    "**<span class=\"girk\">we don't have any control where the new added element will be indexed.</span>**"
   ]
  },
  {
   "cell_type": "markdown",
   "id": "6f27806c",
   "metadata": {},
   "source": [
    "### <span class=\"girk\">update : adding multiple items together :</span>\n",
    "\n",
    "just the items should be passed within a list"
   ]
  },
  {
   "cell_type": "code",
   "execution_count": 34,
   "id": "0c9aa2de",
   "metadata": {
    "ExecuteTime": {
     "end_time": "2024-02-12T21:51:01.508898Z",
     "start_time": "2024-02-12T21:51:01.499428Z"
    },
    "colab": {
     "base_uri": "https://localhost:8080/"
    },
    "id": "qiRjVBv6zNnO",
    "outputId": "58dbc681-d0c2-48ed-8bc5-62e90b444d7a"
   },
   "outputs": [
    {
     "name": "stdout",
     "output_type": "stream",
     "text": [
      "{1, 2, 3, 4, 5, 6, 7}\n"
     ]
    }
   ],
   "source": [
    "# update\n",
    "S.update([5,6,7])\n",
    "print(S)"
   ]
  },
  {
   "cell_type": "markdown",
   "id": "72ffb179",
   "metadata": {
    "id": "3cRiDI8CzOGL"
   },
   "source": [
    "### Deleting Items"
   ]
  },
  {
   "cell_type": "markdown",
   "id": "a2fd4b0a",
   "metadata": {
    "ExecuteTime": {
     "end_time": "2023-02-23T21:52:22.208105Z",
     "start_time": "2023-02-23T21:52:22.192094Z"
    },
    "colab": {
     "base_uri": "https://localhost:8080/"
    },
    "id": "IyIhIyqzzPT6",
    "outputId": "8e313ce8-a8f0-48bb-c5f0-57ddb436260a"
   },
   "source": [
    "#### <span class=\"girk\">del : delete entire together, cant delete a particular item  </span>"
   ]
  },
  {
   "cell_type": "code",
   "execution_count": 70,
   "id": "c6cd93f4",
   "metadata": {
    "ExecuteTime": {
     "end_time": "2023-02-23T21:52:22.208105Z",
     "start_time": "2023-02-23T21:52:22.192094Z"
    },
    "colab": {
     "base_uri": "https://localhost:8080/"
    },
    "id": "IyIhIyqzzPT6",
    "outputId": "8e313ce8-a8f0-48bb-c5f0-57ddb436260a"
   },
   "outputs": [
    {
     "name": "stdout",
     "output_type": "stream",
     "text": [
      "{1, 2, 3, 4, 5}\n"
     ]
    }
   ],
   "source": [
    "s = {1,2,3,4,5}\n",
    "print(s)"
   ]
  },
  {
   "cell_type": "markdown",
   "id": "34607633",
   "metadata": {},
   "source": [
    "#### delete by value : "
   ]
  },
  {
   "cell_type": "code",
   "execution_count": 71,
   "id": "c61cc0b9",
   "metadata": {
    "ExecuteTime": {
     "end_time": "2023-02-23T21:52:32.194774Z",
     "start_time": "2023-02-23T21:52:32.162696Z"
    },
    "colab": {
     "base_uri": "https://localhost:8080/"
    },
    "id": "IyIhIyqzzPT6",
    "outputId": "8e313ce8-a8f0-48bb-c5f0-57ddb436260a"
   },
   "outputs": [
    {
     "ename": "TypeError",
     "evalue": "'set' object doesn't support item deletion",
     "output_type": "error",
     "traceback": [
      "\u001b[1;31m---------------------------------------------------------------------------\u001b[0m",
      "\u001b[1;31mTypeError\u001b[0m                                 Traceback (most recent call last)",
      "Cell \u001b[1;32mIn[71], line 1\u001b[0m\n\u001b[1;32m----> 1\u001b[0m \u001b[38;5;28;01mdel\u001b[39;00m s[\u001b[38;5;241m0\u001b[39m]\n\u001b[0;32m      2\u001b[0m \u001b[38;5;28mprint\u001b[39m(s)\n",
      "\u001b[1;31mTypeError\u001b[0m: 'set' object doesn't support item deletion"
     ]
    }
   ],
   "source": [
    "del s[0]\n",
    "print(s)"
   ]
  },
  {
   "cell_type": "markdown",
   "id": "a3ca894f",
   "metadata": {},
   "source": [
    "**<span class=\"girk\">discard : discards particular value</span>**\n",
    "\n",
    "#### won't throw error if that item is not present in the set"
   ]
  },
  {
   "cell_type": "code",
   "execution_count": 81,
   "id": "1826d4b2",
   "metadata": {
    "ExecuteTime": {
     "end_time": "2023-02-23T21:58:14.308115Z",
     "start_time": "2023-02-23T21:58:14.283622Z"
    }
   },
   "outputs": [
    {
     "data": {
      "text/plain": [
       "{1, 2, 4, 5}"
      ]
     },
     "execution_count": 81,
     "metadata": {},
     "output_type": "execute_result"
    }
   ],
   "source": [
    "s = {1,2,3,4,5}\n",
    "s.discard(3)\n",
    "s"
   ]
  },
  {
   "cell_type": "code",
   "execution_count": 82,
   "id": "87d76dc1",
   "metadata": {
    "ExecuteTime": {
     "end_time": "2023-02-23T21:58:18.585672Z",
     "start_time": "2023-02-23T21:58:18.561682Z"
    },
    "colab": {
     "base_uri": "https://localhost:8080/"
    },
    "id": "IyIhIyqzzPT6",
    "outputId": "8e313ce8-a8f0-48bb-c5f0-57ddb436260a"
   },
   "outputs": [
    {
     "name": "stdout",
     "output_type": "stream",
     "text": [
      "{1, 2, 4, 5}\n"
     ]
    }
   ],
   "source": [
    "# discard\n",
    "s.discard(50)\n",
    "print(s)"
   ]
  },
  {
   "cell_type": "markdown",
   "id": "b8a21b86",
   "metadata": {},
   "source": [
    "#### <span class=\"girk\">remove : by value</span> \n",
    "\n",
    "##### but throws error if the item is not present in the set"
   ]
  },
  {
   "cell_type": "code",
   "execution_count": 84,
   "id": "921459ab",
   "metadata": {
    "ExecuteTime": {
     "end_time": "2023-02-23T21:59:33.800287Z",
     "start_time": "2023-02-23T21:59:33.785275Z"
    }
   },
   "outputs": [
    {
     "name": "stdout",
     "output_type": "stream",
     "text": [
      "{1, 3, 4, 5}\n"
     ]
    }
   ],
   "source": [
    "s = {1,2,3,4,5}\n",
    "s.remove(2)\n",
    "print(s)"
   ]
  },
  {
   "cell_type": "code",
   "execution_count": 85,
   "id": "dc9324cf",
   "metadata": {
    "ExecuteTime": {
     "end_time": "2023-02-23T21:59:34.652534Z",
     "start_time": "2023-02-23T21:59:34.626913Z"
    },
    "colab": {
     "base_uri": "https://localhost:8080/"
    },
    "id": "IyIhIyqzzPT6",
    "outputId": "8e313ce8-a8f0-48bb-c5f0-57ddb436260a"
   },
   "outputs": [
    {
     "ename": "KeyError",
     "evalue": "50",
     "output_type": "error",
     "traceback": [
      "\u001b[1;31m---------------------------------------------------------------------------\u001b[0m",
      "\u001b[1;31mKeyError\u001b[0m                                  Traceback (most recent call last)",
      "Cell \u001b[1;32mIn[85], line 1\u001b[0m\n\u001b[1;32m----> 1\u001b[0m \u001b[43ms\u001b[49m\u001b[38;5;241;43m.\u001b[39;49m\u001b[43mremove\u001b[49m\u001b[43m(\u001b[49m\u001b[38;5;241;43m50\u001b[39;49m\u001b[43m)\u001b[49m\n\u001b[0;32m      2\u001b[0m \u001b[38;5;28mprint\u001b[39m(s)\n",
      "\u001b[1;31mKeyError\u001b[0m: 50"
     ]
    }
   ],
   "source": [
    "s.remove(50)\n",
    "print(s)"
   ]
  },
  {
   "cell_type": "markdown",
   "id": "5383df47",
   "metadata": {},
   "source": [
    "#### pop : randomly deletes item"
   ]
  },
  {
   "cell_type": "code",
   "execution_count": 76,
   "id": "aa080900",
   "metadata": {
    "ExecuteTime": {
     "end_time": "2023-02-23T21:54:16.933175Z",
     "start_time": "2023-02-23T21:54:16.918045Z"
    },
    "colab": {
     "base_uri": "https://localhost:8080/"
    },
    "id": "IyIhIyqzzPT6",
    "outputId": "8e313ce8-a8f0-48bb-c5f0-57ddb436260a"
   },
   "outputs": [
    {
     "data": {
      "text/plain": [
       "1"
      ]
     },
     "execution_count": 76,
     "metadata": {},
     "output_type": "execute_result"
    }
   ],
   "source": [
    "s.pop()"
   ]
  },
  {
   "cell_type": "code",
   "execution_count": 60,
   "id": "997241a0",
   "metadata": {
    "ExecuteTime": {
     "end_time": "2023-02-24T13:53:18.250412Z",
     "start_time": "2023-02-24T13:53:18.216333Z"
    }
   },
   "outputs": [
    {
     "ename": "TypeError",
     "evalue": "set.pop() takes no arguments (1 given)",
     "output_type": "error",
     "traceback": [
      "\u001b[1;31m---------------------------------------------------------------------------\u001b[0m",
      "\u001b[1;31mTypeError\u001b[0m                                 Traceback (most recent call last)",
      "Cell \u001b[1;32mIn[60], line 2\u001b[0m\n\u001b[0;32m      1\u001b[0m s \u001b[38;5;241m=\u001b[39m {\u001b[38;5;241m1\u001b[39m,\u001b[38;5;241m2\u001b[39m,\u001b[38;5;241m3\u001b[39m,\u001b[38;5;241m4\u001b[39m,\u001b[38;5;241m5\u001b[39m}\n\u001b[1;32m----> 2\u001b[0m \u001b[43ms\u001b[49m\u001b[38;5;241;43m.\u001b[39;49m\u001b[43mpop\u001b[49m\u001b[43m(\u001b[49m\u001b[38;5;241;43m2\u001b[39;49m\u001b[43m)\u001b[49m\n",
      "\u001b[1;31mTypeError\u001b[0m: set.pop() takes no arguments (1 given)"
     ]
    }
   ],
   "source": [
    "s = {1,2,3,4,5}\n",
    "s.pop(2)"
   ]
  },
  {
   "cell_type": "code",
   "execution_count": 77,
   "id": "7ee62311",
   "metadata": {
    "ExecuteTime": {
     "end_time": "2023-02-23T21:54:22.810262Z",
     "start_time": "2023-02-23T21:54:22.786151Z"
    }
   },
   "outputs": [
    {
     "name": "stdout",
     "output_type": "stream",
     "text": [
      "{3, 4, 5}\n"
     ]
    }
   ],
   "source": [
    "print(s)"
   ]
  },
  {
   "cell_type": "markdown",
   "id": "6f7a92b3",
   "metadata": {},
   "source": [
    "##### <span class=\"girk\">   in pop element deleted randomly</span>"
   ]
  },
  {
   "cell_type": "markdown",
   "id": "ac7b0383",
   "metadata": {
    "colab": {
     "base_uri": "https://localhost:8080/"
    },
    "id": "IyIhIyqzzPT6",
    "outputId": "8e313ce8-a8f0-48bb-c5f0-57ddb436260a"
   },
   "source": [
    "##### clear : empties a set"
   ]
  },
  {
   "cell_type": "code",
   "execution_count": 86,
   "id": "e477615b",
   "metadata": {
    "ExecuteTime": {
     "end_time": "2023-02-23T22:00:29.538908Z",
     "start_time": "2023-02-23T22:00:29.521862Z"
    },
    "colab": {
     "base_uri": "https://localhost:8080/"
    },
    "id": "IyIhIyqzzPT6",
    "outputId": "8e313ce8-a8f0-48bb-c5f0-57ddb436260a"
   },
   "outputs": [
    {
     "name": "stdout",
     "output_type": "stream",
     "text": [
      "set()\n"
     ]
    }
   ],
   "source": [
    "s.clear()\n",
    "print(s)"
   ]
  },
  {
   "cell_type": "markdown",
   "id": "85f10aa5",
   "metadata": {
    "id": "Cil9LKcszP09"
   },
   "source": [
    "### <span class=\"girk\">Set Operation</span>"
   ]
  },
  {
   "cell_type": "markdown",
   "id": "13b91450",
   "metadata": {},
   "source": [
    "#### Union ( | ) : all elements from both"
   ]
  },
  {
   "cell_type": "code",
   "execution_count": 88,
   "id": "c0dd10b1",
   "metadata": {
    "ExecuteTime": {
     "end_time": "2023-02-23T22:00:43.208592Z",
     "start_time": "2023-02-23T22:00:43.185081Z"
    },
    "colab": {
     "base_uri": "https://localhost:8080/"
    },
    "id": "pC3f28V5zRNG",
    "outputId": "829c6a8d-6f1f-4725-bfe4-43a7385e5647"
   },
   "outputs": [
    {
     "data": {
      "text/plain": [
       "{1, 2, 3, 4, 5, 6, 7, 8}"
      ]
     },
     "execution_count": 88,
     "metadata": {},
     "output_type": "execute_result"
    }
   ],
   "source": [
    "s1 = {1,2,3,4,5}\n",
    "s2 = {4,5,6,7,8}\n",
    "s1 | s2"
   ]
  },
  {
   "cell_type": "markdown",
   "id": "84618299",
   "metadata": {
    "ExecuteTime": {
     "end_time": "2023-02-23T22:00:41.391863Z",
     "start_time": "2023-02-23T22:00:41.375426Z"
    },
    "colab": {
     "base_uri": "https://localhost:8080/"
    },
    "id": "pC3f28V5zRNG",
    "outputId": "829c6a8d-6f1f-4725-bfe4-43a7385e5647"
   },
   "source": [
    "#### Intersection(&) - common"
   ]
  },
  {
   "cell_type": "code",
   "execution_count": 89,
   "id": "e90ef415",
   "metadata": {
    "ExecuteTime": {
     "end_time": "2023-02-23T22:01:40.774933Z",
     "start_time": "2023-02-23T22:01:40.750819Z"
    },
    "colab": {
     "base_uri": "https://localhost:8080/"
    },
    "id": "pC3f28V5zRNG",
    "outputId": "829c6a8d-6f1f-4725-bfe4-43a7385e5647"
   },
   "outputs": [
    {
     "data": {
      "text/plain": [
       "{4, 5}"
      ]
     },
     "execution_count": 89,
     "metadata": {},
     "output_type": "execute_result"
    }
   ],
   "source": [
    "s1 & s2"
   ]
  },
  {
   "cell_type": "markdown",
   "id": "5b51de6d",
   "metadata": {
    "ExecuteTime": {
     "end_time": "2023-02-23T22:00:41.391863Z",
     "start_time": "2023-02-23T22:00:41.375426Z"
    },
    "colab": {
     "base_uri": "https://localhost:8080/"
    },
    "id": "pC3f28V5zRNG",
    "outputId": "829c6a8d-6f1f-4725-bfe4-43a7385e5647"
   },
   "source": [
    "#### Difference(-)"
   ]
  },
  {
   "cell_type": "code",
   "execution_count": 91,
   "id": "b0ce48c8",
   "metadata": {
    "ExecuteTime": {
     "end_time": "2023-02-23T22:02:17.358643Z",
     "start_time": "2023-02-23T22:02:17.345523Z"
    }
   },
   "outputs": [
    {
     "data": {
      "text/plain": [
       "{1, 2, 3, 4, 5}"
      ]
     },
     "execution_count": 91,
     "metadata": {},
     "output_type": "execute_result"
    }
   ],
   "source": [
    "s1"
   ]
  },
  {
   "cell_type": "code",
   "execution_count": 92,
   "id": "7bc332ad",
   "metadata": {
    "ExecuteTime": {
     "end_time": "2023-02-23T22:02:22.135318Z",
     "start_time": "2023-02-23T22:02:22.119303Z"
    }
   },
   "outputs": [
    {
     "data": {
      "text/plain": [
       "{4, 5, 6, 7, 8}"
      ]
     },
     "execution_count": 92,
     "metadata": {},
     "output_type": "execute_result"
    }
   ],
   "source": [
    "s2"
   ]
  },
  {
   "cell_type": "code",
   "execution_count": 93,
   "id": "018219c8",
   "metadata": {
    "ExecuteTime": {
     "end_time": "2023-02-23T22:02:26.541929Z",
     "start_time": "2023-02-23T22:02:26.517820Z"
    },
    "colab": {
     "base_uri": "https://localhost:8080/"
    },
    "id": "pC3f28V5zRNG",
    "outputId": "829c6a8d-6f1f-4725-bfe4-43a7385e5647"
   },
   "outputs": [
    {
     "data": {
      "text/plain": [
       "{1, 2, 3}"
      ]
     },
     "execution_count": 93,
     "metadata": {},
     "output_type": "execute_result"
    }
   ],
   "source": [
    "s1 - s2"
   ]
  },
  {
   "cell_type": "code",
   "execution_count": 94,
   "id": "5105d790",
   "metadata": {
    "ExecuteTime": {
     "end_time": "2023-02-23T22:02:28.542519Z",
     "start_time": "2023-02-23T22:02:28.526515Z"
    },
    "colab": {
     "base_uri": "https://localhost:8080/"
    },
    "id": "pC3f28V5zRNG",
    "outputId": "829c6a8d-6f1f-4725-bfe4-43a7385e5647"
   },
   "outputs": [
    {
     "data": {
      "text/plain": [
       "{6, 7, 8}"
      ]
     },
     "execution_count": 94,
     "metadata": {},
     "output_type": "execute_result"
    }
   ],
   "source": [
    "s2 - s1"
   ]
  },
  {
   "cell_type": "markdown",
   "id": "fa6c515e",
   "metadata": {},
   "source": [
    "####  Symmetric Difference(^) : everything except common"
   ]
  },
  {
   "cell_type": "code",
   "execution_count": 82,
   "id": "a588b49c",
   "metadata": {
    "ExecuteTime": {
     "end_time": "2024-02-13T12:17:32.832233Z",
     "start_time": "2024-02-13T12:17:32.819235Z"
    }
   },
   "outputs": [
    {
     "data": {
      "text/plain": [
       "({1, 2, 3, 4, 5}, {4, 5, 6, 7, 8})"
      ]
     },
     "execution_count": 82,
     "metadata": {},
     "output_type": "execute_result"
    }
   ],
   "source": [
    "s1 = {1,2,3,4,5}\n",
    "s2 = {4,5,6,7,8}\n",
    "s1,s2"
   ]
  },
  {
   "cell_type": "code",
   "execution_count": 83,
   "id": "5122a951",
   "metadata": {
    "ExecuteTime": {
     "end_time": "2024-02-13T12:17:33.043169Z",
     "start_time": "2024-02-13T12:17:33.034128Z"
    },
    "colab": {
     "base_uri": "https://localhost:8080/"
    },
    "id": "pC3f28V5zRNG",
    "outputId": "829c6a8d-6f1f-4725-bfe4-43a7385e5647"
   },
   "outputs": [
    {
     "data": {
      "text/plain": [
       "{1, 2, 3, 6, 7, 8}"
      ]
     },
     "execution_count": 83,
     "metadata": {},
     "output_type": "execute_result"
    }
   ],
   "source": [
    "s1 ^ s2"
   ]
  },
  {
   "cell_type": "code",
   "execution_count": 84,
   "id": "181da603",
   "metadata": {
    "ExecuteTime": {
     "end_time": "2024-02-13T12:17:33.340533Z",
     "start_time": "2024-02-13T12:17:33.333529Z"
    }
   },
   "outputs": [
    {
     "data": {
      "text/plain": [
       "{1, 2, 3, 6, 7, 8}"
      ]
     },
     "execution_count": 84,
     "metadata": {},
     "output_type": "execute_result"
    }
   ],
   "source": [
    "s2 ^ s1"
   ]
  },
  {
   "cell_type": "markdown",
   "id": "52df795a",
   "metadata": {},
   "source": [
    "#### Membership Test :"
   ]
  },
  {
   "cell_type": "code",
   "execution_count": 98,
   "id": "f09844c8",
   "metadata": {
    "ExecuteTime": {
     "end_time": "2023-02-23T22:03:23.690528Z",
     "start_time": "2023-02-23T22:03:23.666416Z"
    },
    "colab": {
     "base_uri": "https://localhost:8080/"
    },
    "id": "pC3f28V5zRNG",
    "outputId": "829c6a8d-6f1f-4725-bfe4-43a7385e5647"
   },
   "outputs": [
    {
     "data": {
      "text/plain": [
       "False"
      ]
     },
     "execution_count": 98,
     "metadata": {},
     "output_type": "execute_result"
    }
   ],
   "source": [
    "1 not in s1"
   ]
  },
  {
   "cell_type": "code",
   "execution_count": 97,
   "id": "c3fe0117",
   "metadata": {
    "ExecuteTime": {
     "end_time": "2023-02-23T22:03:21.566314Z",
     "start_time": "2023-02-23T22:03:21.551175Z"
    },
    "colab": {
     "base_uri": "https://localhost:8080/"
    },
    "id": "pC3f28V5zRNG",
    "outputId": "829c6a8d-6f1f-4725-bfe4-43a7385e5647"
   },
   "outputs": [
    {
     "name": "stdout",
     "output_type": "stream",
     "text": [
      "1\n",
      "2\n",
      "3\n",
      "4\n",
      "5\n"
     ]
    }
   ],
   "source": [
    "# Iteration\n",
    "for i in s1:\n",
    "    print(i)"
   ]
  },
  {
   "cell_type": "markdown",
   "id": "49d30a2e",
   "metadata": {
    "id": "DYP9VCyUzRy_"
   },
   "source": [
    "### Set Functions"
   ]
  },
  {
   "cell_type": "code",
   "execution_count": 99,
   "id": "4188ee06",
   "metadata": {
    "ExecuteTime": {
     "end_time": "2023-02-23T22:04:19.772308Z",
     "start_time": "2023-02-23T22:04:19.756488Z"
    },
    "colab": {
     "base_uri": "https://localhost:8080/"
    },
    "id": "pte3wLPM3tcz",
    "outputId": "c25bbd1a-b80b-4787-ab5f-20c51d65d3b0"
   },
   "outputs": [],
   "source": [
    "# len/sum/min/max/sorted\n",
    "s = {3,1,4,5,2,7}"
   ]
  },
  {
   "cell_type": "code",
   "execution_count": 100,
   "id": "e9f1c232",
   "metadata": {
    "ExecuteTime": {
     "end_time": "2023-02-23T22:04:20.163677Z",
     "start_time": "2023-02-23T22:04:20.147774Z"
    },
    "colab": {
     "base_uri": "https://localhost:8080/"
    },
    "id": "pte3wLPM3tcz",
    "outputId": "c25bbd1a-b80b-4787-ab5f-20c51d65d3b0"
   },
   "outputs": [
    {
     "data": {
      "text/plain": [
       "6"
      ]
     },
     "execution_count": 100,
     "metadata": {},
     "output_type": "execute_result"
    }
   ],
   "source": [
    "len(s)"
   ]
  },
  {
   "cell_type": "code",
   "execution_count": 101,
   "id": "d13c7be0",
   "metadata": {
    "ExecuteTime": {
     "end_time": "2023-02-23T22:04:20.602546Z",
     "start_time": "2023-02-23T22:04:20.586375Z"
    },
    "colab": {
     "base_uri": "https://localhost:8080/"
    },
    "id": "pte3wLPM3tcz",
    "outputId": "c25bbd1a-b80b-4787-ab5f-20c51d65d3b0"
   },
   "outputs": [
    {
     "data": {
      "text/plain": [
       "22"
      ]
     },
     "execution_count": 101,
     "metadata": {},
     "output_type": "execute_result"
    }
   ],
   "source": [
    "sum(s)"
   ]
  },
  {
   "cell_type": "code",
   "execution_count": 102,
   "id": "1b3979e9",
   "metadata": {
    "ExecuteTime": {
     "end_time": "2023-02-23T22:04:21.189667Z",
     "start_time": "2023-02-23T22:04:21.165556Z"
    },
    "colab": {
     "base_uri": "https://localhost:8080/"
    },
    "id": "pte3wLPM3tcz",
    "outputId": "c25bbd1a-b80b-4787-ab5f-20c51d65d3b0"
   },
   "outputs": [
    {
     "data": {
      "text/plain": [
       "1"
      ]
     },
     "execution_count": 102,
     "metadata": {},
     "output_type": "execute_result"
    }
   ],
   "source": [
    "min(s)"
   ]
  },
  {
   "cell_type": "code",
   "execution_count": 103,
   "id": "d15fb6da",
   "metadata": {
    "ExecuteTime": {
     "end_time": "2023-02-23T22:04:21.689355Z",
     "start_time": "2023-02-23T22:04:21.673279Z"
    },
    "colab": {
     "base_uri": "https://localhost:8080/"
    },
    "id": "pte3wLPM3tcz",
    "outputId": "c25bbd1a-b80b-4787-ab5f-20c51d65d3b0"
   },
   "outputs": [
    {
     "data": {
      "text/plain": [
       "7"
      ]
     },
     "execution_count": 103,
     "metadata": {},
     "output_type": "execute_result"
    }
   ],
   "source": [
    "max(s)"
   ]
  },
  {
   "cell_type": "markdown",
   "id": "834cd514",
   "metadata": {},
   "source": [
    "#### NOTE : when sorted is applied on a set, in return we get a list"
   ]
  },
  {
   "cell_type": "code",
   "execution_count": 104,
   "id": "34d4cb4b",
   "metadata": {
    "ExecuteTime": {
     "end_time": "2023-02-23T22:04:22.859406Z",
     "start_time": "2023-02-23T22:04:22.851383Z"
    },
    "colab": {
     "base_uri": "https://localhost:8080/"
    },
    "id": "pte3wLPM3tcz",
    "outputId": "c25bbd1a-b80b-4787-ab5f-20c51d65d3b0"
   },
   "outputs": [
    {
     "data": {
      "text/plain": [
       "[7, 5, 4, 3, 2, 1]"
      ]
     },
     "execution_count": 104,
     "metadata": {},
     "output_type": "execute_result"
    }
   ],
   "source": [
    "sorted(s,reverse=True)"
   ]
  },
  {
   "cell_type": "markdown",
   "id": "7155c698",
   "metadata": {
    "ExecuteTime": {
     "end_time": "2023-02-23T22:04:31.672018Z",
     "start_time": "2023-02-23T22:04:31.657789Z"
    },
    "colab": {
     "base_uri": "https://localhost:8080/"
    },
    "id": "j8hpGYlF30aU",
    "outputId": "2033d6e6-89c3-4176-8e78-b8998409988e"
   },
   "source": [
    "##### union/update"
   ]
  },
  {
   "cell_type": "code",
   "execution_count": 56,
   "id": "f2164ae0",
   "metadata": {
    "ExecuteTime": {
     "end_time": "2024-02-13T11:39:12.300294Z",
     "start_time": "2024-02-13T11:39:12.288260Z"
    },
    "colab": {
     "base_uri": "https://localhost:8080/"
    },
    "id": "j8hpGYlF30aU",
    "outputId": "2033d6e6-89c3-4176-8e78-b8998409988e"
   },
   "outputs": [
    {
     "name": "stdout",
     "output_type": "stream",
     "text": [
      "{1, 2, 3, 4, 5, 6, 7, 8}\n"
     ]
    }
   ],
   "source": [
    "s1 = {1,2,3,4,5}\n",
    "s2 = {4,5,6,7,8}\n",
    "\n",
    "# s1 | s2\n",
    "print(s1.union(s2))"
   ]
  },
  {
   "cell_type": "code",
   "execution_count": 37,
   "id": "fb5596db",
   "metadata": {
    "ExecuteTime": {
     "end_time": "2024-02-12T21:53:31.770048Z",
     "start_time": "2024-02-12T21:53:31.756854Z"
    }
   },
   "outputs": [
    {
     "data": {
      "text/plain": [
       "{1, 2, 3, 4, 5, 6, 7, 8}"
      ]
     },
     "execution_count": 37,
     "metadata": {},
     "output_type": "execute_result"
    }
   ],
   "source": [
    "s2.union(s1)"
   ]
  },
  {
   "cell_type": "code",
   "execution_count": 57,
   "id": "ef511c8b",
   "metadata": {
    "ExecuteTime": {
     "end_time": "2024-02-13T11:39:17.217965Z",
     "start_time": "2024-02-13T11:39:17.211961Z"
    }
   },
   "outputs": [
    {
     "data": {
      "text/plain": [
       "{1, 2, 3, 4, 5}"
      ]
     },
     "execution_count": 57,
     "metadata": {},
     "output_type": "execute_result"
    }
   ],
   "source": [
    "s1"
   ]
  },
  {
   "cell_type": "code",
   "execution_count": 39,
   "id": "d9236374",
   "metadata": {
    "ExecuteTime": {
     "end_time": "2024-02-12T21:53:32.757556Z",
     "start_time": "2024-02-12T21:53:32.742642Z"
    },
    "colab": {
     "base_uri": "https://localhost:8080/"
    },
    "id": "j8hpGYlF30aU",
    "outputId": "2033d6e6-89c3-4176-8e78-b8998409988e"
   },
   "outputs": [
    {
     "name": "stdout",
     "output_type": "stream",
     "text": [
      "{1, 2, 3, 4, 5, 6, 7, 8}\n",
      "{4, 5, 6, 7, 8}\n"
     ]
    }
   ],
   "source": [
    "s1.update(s2)\n",
    "print(s1)\n",
    "print(s2)"
   ]
  },
  {
   "cell_type": "markdown",
   "id": "ee7d546c",
   "metadata": {
    "ExecuteTime": {
     "end_time": "2023-02-23T22:04:43.675405Z",
     "start_time": "2023-02-23T22:04:43.655159Z"
    },
    "colab": {
     "base_uri": "https://localhost:8080/"
    },
    "id": "oqLRlh2H4U9k",
    "outputId": "7f193542-90a7-448f-edb5-a12b41c418db"
   },
   "source": [
    "\n",
    "##### intersection/intersection_update"
   ]
  },
  {
   "cell_type": "code",
   "execution_count": 77,
   "id": "af4ea282",
   "metadata": {
    "ExecuteTime": {
     "end_time": "2023-02-24T14:08:21.408700Z",
     "start_time": "2023-02-24T14:08:21.388437Z"
    },
    "colab": {
     "base_uri": "https://localhost:8080/"
    },
    "id": "oqLRlh2H4U9k",
    "outputId": "7f193542-90a7-448f-edb5-a12b41c418db"
   },
   "outputs": [
    {
     "name": "stdout",
     "output_type": "stream",
     "text": [
      "{4, 5}\n",
      "{4, 5}\n"
     ]
    }
   ],
   "source": [
    "s1 = {1,2,3,4,5}\n",
    "s2 = {4,5,6,7,8}\n",
    "\n",
    "print(s1.intersection(s2))\n",
    "print(s2.intersection(s1))"
   ]
  },
  {
   "cell_type": "markdown",
   "id": "d219cefc",
   "metadata": {},
   "source": [
    "### intersection_update() : \n",
    "\n",
    "#### is a method that modifies the original set by keeping only the common elements between it and one or more other sets."
   ]
  },
  {
   "cell_type": "code",
   "execution_count": 76,
   "id": "f1a57acb",
   "metadata": {
    "ExecuteTime": {
     "end_time": "2023-02-24T14:07:56.384387Z",
     "start_time": "2023-02-24T14:07:56.363355Z"
    },
    "colab": {
     "base_uri": "https://localhost:8080/"
    },
    "id": "oqLRlh2H4U9k",
    "outputId": "7f193542-90a7-448f-edb5-a12b41c418db"
   },
   "outputs": [
    {
     "name": "stdout",
     "output_type": "stream",
     "text": [
      "s1 :  {1, 2, 3, 4, 5}\n",
      "s2 :  {4, 5, 6, 7, 8}\n",
      "\n",
      "intersection_update of s1 : {4, 5}\n",
      "intersection_update of s2 : {4, 5, 6, 7, 8}\n"
     ]
    }
   ],
   "source": [
    "print('s1 : ',s1)\n",
    "print('s2 : ',s2)\n",
    "s1.intersection_update(s2)\n",
    "print()\n",
    "print('intersection_update of s1 :',s1)\n",
    "print('intersection_update of s2 :',s2)"
   ]
  },
  {
   "cell_type": "markdown",
   "id": "cbc308fd",
   "metadata": {
    "ExecuteTime": {
     "end_time": "2023-02-23T22:04:50.504038Z",
     "start_time": "2023-02-23T22:04:50.487458Z"
    },
    "colab": {
     "base_uri": "https://localhost:8080/"
    },
    "id": "eBMvn14b4Z5h",
    "outputId": "abe9a58a-8237-4d2e-a72b-ba14b0cc5468"
   },
   "source": [
    "### difference/difference_update : "
   ]
  },
  {
   "cell_type": "markdown",
   "id": "cce3283d",
   "metadata": {},
   "source": [
    "#### difference() is a method that returns a new set containing the elements that are in one set but not in another."
   ]
  },
  {
   "cell_type": "code",
   "execution_count": 115,
   "id": "443b56b6",
   "metadata": {
    "ExecuteTime": {
     "end_time": "2023-02-23T22:25:36.649774Z",
     "start_time": "2023-02-23T22:25:36.631735Z"
    },
    "colab": {
     "base_uri": "https://localhost:8080/"
    },
    "id": "eBMvn14b4Z5h",
    "outputId": "abe9a58a-8237-4d2e-a72b-ba14b0cc5468"
   },
   "outputs": [
    {
     "data": {
      "text/plain": [
       "{1, 2, 3}"
      ]
     },
     "execution_count": 115,
     "metadata": {},
     "output_type": "execute_result"
    }
   ],
   "source": [
    "s1 = {1,2,3,4,5}\n",
    "s2 = {4,5,6,7,8}\n",
    "\n",
    "s1.difference(s2)"
   ]
  },
  {
   "cell_type": "markdown",
   "id": "589f0f05",
   "metadata": {},
   "source": [
    "### difference_update()  :\n",
    "\n",
    "#### is a method that modifies the original set by removing the elements that are in one or more other sets\n"
   ]
  },
  {
   "cell_type": "code",
   "execution_count": 110,
   "id": "44de4ed3",
   "metadata": {
    "ExecuteTime": {
     "end_time": "2023-02-23T22:04:50.859449Z",
     "start_time": "2023-02-23T22:04:50.843318Z"
    },
    "colab": {
     "base_uri": "https://localhost:8080/"
    },
    "id": "eBMvn14b4Z5h",
    "outputId": "abe9a58a-8237-4d2e-a72b-ba14b0cc5468"
   },
   "outputs": [
    {
     "name": "stdout",
     "output_type": "stream",
     "text": [
      "{1, 2, 3}\n",
      "{4, 5, 6, 7, 8}\n"
     ]
    }
   ],
   "source": [
    "s1.difference_update(s2)\n",
    "print(s1)\n",
    "print(s2)"
   ]
  },
  {
   "cell_type": "markdown",
   "id": "ee8dd45f",
   "metadata": {
    "ExecuteTime": {
     "end_time": "2023-02-23T22:04:56.653536Z",
     "start_time": "2023-02-23T22:04:56.637423Z"
    },
    "colab": {
     "base_uri": "https://localhost:8080/"
    },
    "id": "RaJDBDkl4eum",
    "outputId": "16eb16c3-15c1-4cf0-a35e-63ad77b6cec8"
   },
   "source": [
    "### symmetric_difference/symmetric_difference_update"
   ]
  },
  {
   "cell_type": "markdown",
   "id": "90005aa8",
   "metadata": {},
   "source": [
    "__The symmetric_difference() :__ method of sets returns a new set containing elements that are in either of the sets but not in both. In other words, it returns the set of all elements that are not common to both sets."
   ]
  },
  {
   "cell_type": "code",
   "execution_count": 84,
   "id": "ccdf7540",
   "metadata": {
    "ExecuteTime": {
     "end_time": "2023-02-24T14:11:48.777285Z",
     "start_time": "2023-02-24T14:11:48.768747Z"
    },
    "colab": {
     "base_uri": "https://localhost:8080/"
    },
    "id": "RaJDBDkl4eum",
    "outputId": "16eb16c3-15c1-4cf0-a35e-63ad77b6cec8"
   },
   "outputs": [
    {
     "data": {
      "text/plain": [
       "{1, 2, 3, 6, 7, 8}"
      ]
     },
     "execution_count": 84,
     "metadata": {},
     "output_type": "execute_result"
    }
   ],
   "source": [
    "s1 = {1,2,3,4,5}\n",
    "s2 = {4,5,6,7,8}\n",
    "\n",
    "s1.symmetric_difference(s2)"
   ]
  },
  {
   "cell_type": "code",
   "execution_count": 85,
   "id": "6a6577e7",
   "metadata": {
    "ExecuteTime": {
     "end_time": "2023-02-24T14:11:49.197108Z",
     "start_time": "2023-02-24T14:11:49.181854Z"
    },
    "colab": {
     "base_uri": "https://localhost:8080/"
    },
    "id": "RaJDBDkl4eum",
    "outputId": "16eb16c3-15c1-4cf0-a35e-63ad77b6cec8"
   },
   "outputs": [
    {
     "name": "stdout",
     "output_type": "stream",
     "text": [
      "s1 :  {1, 2, 3, 4, 5}\n",
      "s2 :  {4, 5, 6, 7, 8}\n",
      "\n",
      "{1, 2, 3, 6, 7, 8}\n"
     ]
    }
   ],
   "source": [
    "print('s1 : ',s1)\n",
    "print('s2 : ',s2)\n",
    "print()\n",
    "s1.symmetric_difference_update(s2)\n",
    "print(s1)"
   ]
  },
  {
   "cell_type": "markdown",
   "id": "7a8a75c4",
   "metadata": {},
   "source": [
    "### isdisjoint/issubset/issuperset"
   ]
  },
  {
   "cell_type": "code",
   "execution_count": 126,
   "id": "120a4f5f",
   "metadata": {
    "ExecuteTime": {
     "end_time": "2023-02-23T22:28:43.189218Z",
     "start_time": "2023-02-23T22:28:43.172873Z"
    }
   },
   "outputs": [
    {
     "name": "stdout",
     "output_type": "stream",
     "text": [
      "{1, 2, 3, 4}\n",
      "{8, 5, 6, 7}\n"
     ]
    }
   ],
   "source": [
    "s1 = {1,2,3,4}\n",
    "s2 = {7,8,5,6}\n",
    "\n",
    "print(s1)\n",
    "print(s2)"
   ]
  },
  {
   "cell_type": "markdown",
   "id": "f8957be5",
   "metadata": {},
   "source": [
    "#### isdisjoint : no common elements in s1 and s2"
   ]
  },
  {
   "cell_type": "code",
   "execution_count": 131,
   "id": "0aed2afa",
   "metadata": {
    "ExecuteTime": {
     "end_time": "2023-02-23T22:30:53.565182Z",
     "start_time": "2023-02-23T22:30:53.549064Z"
    }
   },
   "outputs": [
    {
     "name": "stdout",
     "output_type": "stream",
     "text": [
      "True\n",
      "True\n"
     ]
    }
   ],
   "source": [
    "print(s1.isdisjoint(s2))\n",
    "print(s2.isdisjoint(s1))"
   ]
  },
  {
   "cell_type": "code",
   "execution_count": 132,
   "id": "708c1dea",
   "metadata": {
    "ExecuteTime": {
     "end_time": "2023-02-23T22:30:59.609096Z",
     "start_time": "2023-02-23T22:30:59.594475Z"
    }
   },
   "outputs": [
    {
     "name": "stdout",
     "output_type": "stream",
     "text": [
      "False\n",
      "False\n"
     ]
    }
   ],
   "source": [
    "ss1 = {1,2,3,4}\n",
    "ss2 = {7,4,5,6}\n",
    "\n",
    "print(ss1.isdisjoint(ss2))\n",
    "print(ss2.isdisjoint(ss1))"
   ]
  },
  {
   "cell_type": "markdown",
   "id": "c19c6462",
   "metadata": {},
   "source": [
    "#### issubset"
   ]
  },
  {
   "cell_type": "code",
   "execution_count": 10,
   "id": "c7ebbf66",
   "metadata": {
    "ExecuteTime": {
     "end_time": "2024-08-08T08:14:18.246864Z",
     "start_time": "2024-08-08T08:14:18.234586Z"
    }
   },
   "outputs": [],
   "source": [
    "ss1 = {1,2,3,4}\n",
    "ss2 = {7,4,5,6}"
   ]
  },
  {
   "cell_type": "code",
   "execution_count": 128,
   "id": "64f0bd2e",
   "metadata": {
    "ExecuteTime": {
     "end_time": "2023-02-23T22:28:45.092833Z",
     "start_time": "2023-02-23T22:28:45.084810Z"
    }
   },
   "outputs": [
    {
     "name": "stdout",
     "output_type": "stream",
     "text": [
      "False\n",
      "False\n"
     ]
    }
   ],
   "source": [
    "print(s1.issubset(s2))\n",
    "print(s2.issubset(s1))"
   ]
  },
  {
   "cell_type": "code",
   "execution_count": 11,
   "id": "c9c5c81b",
   "metadata": {
    "ExecuteTime": {
     "end_time": "2024-08-08T08:14:29.780202Z",
     "start_time": "2024-08-08T08:14:29.766175Z"
    }
   },
   "outputs": [
    {
     "name": "stdout",
     "output_type": "stream",
     "text": [
      "False\n",
      "True\n"
     ]
    }
   ],
   "source": [
    "ss1 = {1,2,3,4}\n",
    "ss2 = {1,2,3}\n",
    "\n",
    "print(ss1.issubset(ss2))\n",
    "print(ss2.issubset(ss1))"
   ]
  },
  {
   "cell_type": "markdown",
   "id": "297088f3",
   "metadata": {},
   "source": [
    "#### issuperset"
   ]
  },
  {
   "cell_type": "code",
   "execution_count": 129,
   "id": "7d517418",
   "metadata": {
    "ExecuteTime": {
     "end_time": "2023-02-23T22:28:46.325013Z",
     "start_time": "2023-02-23T22:28:46.308903Z"
    }
   },
   "outputs": [
    {
     "name": "stdout",
     "output_type": "stream",
     "text": [
      "False\n",
      "False\n"
     ]
    }
   ],
   "source": [
    "print(s1.issuperset(s2))\n",
    "print(s2.issuperset(s1))"
   ]
  },
  {
   "cell_type": "code",
   "execution_count": 135,
   "id": "13dc62f7",
   "metadata": {
    "ExecuteTime": {
     "end_time": "2023-02-23T22:32:21.992638Z",
     "start_time": "2023-02-23T22:32:21.976526Z"
    }
   },
   "outputs": [
    {
     "name": "stdout",
     "output_type": "stream",
     "text": [
      "True\n",
      "False\n"
     ]
    }
   ],
   "source": [
    "ss1 = {1,2,3,4}\n",
    "ss2 = {1,2,3}\n",
    "\n",
    "print(ss1.issuperset(ss2))\n",
    "print(ss2.issuperset(ss1))"
   ]
  },
  {
   "cell_type": "markdown",
   "id": "587cd016",
   "metadata": {
    "ExecuteTime": {
     "end_time": "2023-02-23T22:25:55.704595Z",
     "start_time": "2023-02-23T22:25:55.696590Z"
    },
    "colab": {
     "base_uri": "https://localhost:8080/"
    },
    "id": "g66FpVYp4tfF",
    "outputId": "ea220c6b-065f-4069-b872-2a8a68bcc0e0"
   },
   "source": [
    "#### copy"
   ]
  },
  {
   "cell_type": "code",
   "execution_count": 86,
   "id": "7e079fc2",
   "metadata": {
    "ExecuteTime": {
     "end_time": "2024-02-13T12:27:19.739000Z",
     "start_time": "2024-02-13T12:27:19.732010Z"
    },
    "colab": {
     "base_uri": "https://localhost:8080/"
    },
    "id": "g66FpVYp4tfF",
    "outputId": "ea220c6b-065f-4069-b872-2a8a68bcc0e0"
   },
   "outputs": [
    {
     "name": "stdout",
     "output_type": "stream",
     "text": [
      "{1, 2, 3} 1488635208864\n",
      "{1, 2, 3} 1488635207744\n"
     ]
    }
   ],
   "source": [
    "# shallow copy\n",
    "s1 = {1,2,3}\n",
    "s2 = s1.copy()\n",
    "\n",
    "print(s1,id(s1))\n",
    "print(s2,id(s2))"
   ]
  },
  {
   "cell_type": "code",
   "execution_count": 85,
   "id": "af23fad3",
   "metadata": {
    "ExecuteTime": {
     "end_time": "2024-02-13T12:27:03.614671Z",
     "start_time": "2024-02-13T12:27:03.601653Z"
    },
    "colab": {
     "base_uri": "https://localhost:8080/"
    },
    "id": "g66FpVYp4tfF",
    "outputId": "ea220c6b-065f-4069-b872-2a8a68bcc0e0"
   },
   "outputs": [
    {
     "name": "stdout",
     "output_type": "stream",
     "text": [
      "s1 :  {1, 2, 3, 4, 5}\n",
      "s2 :  {4, 5, 6, 7, 8}\n"
     ]
    }
   ],
   "source": [
    "s1.add(5)\n",
    "\n",
    "print('s1 : ',s1,end='\\n')\n",
    "print('s2 : ',s2)"
   ]
  },
  {
   "cell_type": "markdown",
   "id": "76b349d7",
   "metadata": {
    "id": "CNkTGbL66HjH"
   },
   "source": [
    "### Frozenset\n",
    "Frozen set is just an immutable version of a Python set object"
   ]
  },
  {
   "cell_type": "code",
   "execution_count": 136,
   "id": "ccd734a3",
   "metadata": {
    "ExecuteTime": {
     "end_time": "2023-02-23T22:35:28.955992Z",
     "start_time": "2023-02-23T22:35:28.939477Z"
    },
    "colab": {
     "base_uri": "https://localhost:8080/"
    },
    "id": "Y5tjnO97JWZW",
    "outputId": "8cf9b1c2-a725-4101-abdf-05b1e32f39fa"
   },
   "outputs": [
    {
     "data": {
      "text/plain": [
       "frozenset({1, 2, 3, 4, 5})"
      ]
     },
     "execution_count": 136,
     "metadata": {},
     "output_type": "execute_result"
    }
   ],
   "source": [
    "# create frozenset\n",
    "fs1 = frozenset([1,2,3])\n",
    "fs2 = frozenset([3,4,5])\n",
    "\n",
    "fs1 | fs2"
   ]
  },
  {
   "cell_type": "code",
   "execution_count": 137,
   "id": "fcbf7019",
   "metadata": {
    "ExecuteTime": {
     "end_time": "2023-02-23T22:35:29.162430Z",
     "start_time": "2023-02-23T22:35:29.154321Z"
    },
    "id": "BNGv2dqe6Jof"
   },
   "outputs": [],
   "source": [
    "# what works and what does not\n",
    "# works -> all read functions\n",
    "# does't work -> write operations"
   ]
  },
  {
   "cell_type": "code",
   "execution_count": 139,
   "id": "704b484e",
   "metadata": {
    "ExecuteTime": {
     "end_time": "2023-02-23T22:35:45.642373Z",
     "start_time": "2023-02-23T22:35:45.619391Z"
    },
    "colab": {
     "base_uri": "https://localhost:8080/"
    },
    "id": "T4Bfg2d2JcAN",
    "outputId": "231ec701-7b17-4080-b438-8f02c744b547"
   },
   "outputs": [
    {
     "data": {
      "text/plain": [
       "frozenset({1, 2, frozenset({3, 4})})"
      ]
     },
     "execution_count": 139,
     "metadata": {},
     "output_type": "execute_result"
    }
   ],
   "source": [
    "# When to use read only sets\n",
    "# 2D sets\n",
    "fs = frozenset([1,2,frozenset([3,4])])\n",
    "fs"
   ]
  },
  {
   "cell_type": "markdown",
   "id": "3a2c28c5",
   "metadata": {
    "id": "KcTsyq3G6Qkr"
   },
   "source": [
    "### Set Comprehension"
   ]
  },
  {
   "cell_type": "code",
   "execution_count": null,
   "id": "496f3034",
   "metadata": {
    "colab": {
     "base_uri": "https://localhost:8080/"
    },
    "id": "yvPmmWDm6SR8",
    "outputId": "c7aea44e-d2b7-4235-935d-da131a677297"
   },
   "outputs": [
    {
     "data": {
      "text/plain": [
       "{36, 49, 64, 81, 100}"
      ]
     },
     "execution_count": 120,
     "metadata": {},
     "output_type": "execute_result"
    }
   ],
   "source": [
    "# examples\n",
    "\n",
    "{i**2 for i in range(1,11) if i>5}"
   ]
  },
  {
   "cell_type": "markdown",
   "id": "860b1850",
   "metadata": {
    "id": "1n9Oa0Ig_hVr"
   },
   "source": [
    "#### set comprehension works same as list comprehension"
   ]
  },
  {
   "cell_type": "markdown",
   "id": "85e9e993",
   "metadata": {
    "id": "RCm5fDCfKPx-"
   },
   "source": [
    "# Dictionary"
   ]
  },
  {
   "cell_type": "markdown",
   "id": "4fcad1f0",
   "metadata": {
    "id": "RCm5fDCfKPx-"
   },
   "source": [
    "Dictionary in Python is a collection of keys values, used to store data values like a map, which, unlike other data types which hold only a single value as an element.\n",
    "\n",
    "In some languages it is known as map or assosiative arrays.\n",
    "\n",
    "dict = { 'name' : 'nitish' , 'age' : 33 , 'gender' : 'male' }"
   ]
  },
  {
   "cell_type": "markdown",
   "id": "ae85f457",
   "metadata": {
    "id": "RCm5fDCfKPx-"
   },
   "source": [
    "### Characterstics:\n",
    "\n",
    "### - Mutable\n",
    "\n",
    "### - Ordered\n",
    "### - Indexing has no meaning\n",
    "### - keys can't be duplicated\n",
    "### - keys can't be mutable items like lists"
   ]
  },
  {
   "cell_type": "markdown",
   "id": "1cc705d5",
   "metadata": {
    "id": "_Q7jlDV3MJ27"
   },
   "source": [
    "### Create Dictionary"
   ]
  },
  {
   "cell_type": "code",
   "execution_count": 140,
   "id": "c54660bb",
   "metadata": {
    "ExecuteTime": {
     "end_time": "2023-02-23T22:38:21.938926Z",
     "start_time": "2023-02-23T22:38:21.930411Z"
    },
    "colab": {
     "base_uri": "https://localhost:8080/"
    },
    "id": "XJhTncGKMI-q",
    "outputId": "a28cacd1-4786-4f40-b2e0-c97c66dfb354"
   },
   "outputs": [
    {
     "data": {
      "text/plain": [
       "{}"
      ]
     },
     "execution_count": 140,
     "metadata": {},
     "output_type": "execute_result"
    }
   ],
   "source": [
    "# empty dictionary\n",
    "d = {}\n",
    "d"
   ]
  },
  {
   "cell_type": "code",
   "execution_count": 141,
   "id": "65bce151",
   "metadata": {
    "ExecuteTime": {
     "end_time": "2023-02-23T22:38:22.248594Z",
     "start_time": "2023-02-23T22:38:22.238936Z"
    },
    "colab": {
     "base_uri": "https://localhost:8080/"
    },
    "id": "XJhTncGKMI-q",
    "outputId": "a28cacd1-4786-4f40-b2e0-c97c66dfb354"
   },
   "outputs": [
    {
     "data": {
      "text/plain": [
       "{'name': 'nitish', 'gender': 'male'}"
      ]
     },
     "execution_count": 141,
     "metadata": {},
     "output_type": "execute_result"
    }
   ],
   "source": [
    "# 1D dictionary\n",
    "d1 = { 'name' : 'nitish' ,'gender' : 'male' }\n",
    "d1"
   ]
  },
  {
   "cell_type": "code",
   "execution_count": 142,
   "id": "78f93182",
   "metadata": {
    "ExecuteTime": {
     "end_time": "2023-02-23T22:38:22.606922Z",
     "start_time": "2023-02-23T22:38:22.590579Z"
    },
    "colab": {
     "base_uri": "https://localhost:8080/"
    },
    "id": "XJhTncGKMI-q",
    "outputId": "a28cacd1-4786-4f40-b2e0-c97c66dfb354"
   },
   "outputs": [
    {
     "data": {
      "text/plain": [
       "{(1, 2, 3): 1, 'hello': 'world'}"
      ]
     },
     "execution_count": 142,
     "metadata": {},
     "output_type": "execute_result"
    }
   ],
   "source": [
    "# with mixed keys\n",
    "d2 = {(1,2,3):1,'hello':'world'}\n",
    "d2"
   ]
  },
  {
   "cell_type": "code",
   "execution_count": 143,
   "id": "c348be0b",
   "metadata": {
    "ExecuteTime": {
     "end_time": "2023-02-23T22:38:22.981680Z",
     "start_time": "2023-02-23T22:38:22.956570Z"
    },
    "colab": {
     "base_uri": "https://localhost:8080/"
    },
    "id": "XJhTncGKMI-q",
    "outputId": "a28cacd1-4786-4f40-b2e0-c97c66dfb354"
   },
   "outputs": [
    {
     "data": {
      "text/plain": [
       "{'name': 'nitish',\n",
       " 'college': 'bit',\n",
       " 'sem': 4,\n",
       " 'subjects': {'dsa': 50, 'maths': 67, 'english': 34}}"
      ]
     },
     "execution_count": 143,
     "metadata": {},
     "output_type": "execute_result"
    }
   ],
   "source": [
    "# 2D dictionary -> JSON\n",
    "s = {\n",
    "    'name':'nitish',\n",
    "     'college':'bit',\n",
    "     'sem':4,\n",
    "     'subjects':{\n",
    "         'dsa':50,\n",
    "         'maths':67,\n",
    "         'english':34\n",
    "     }\n",
    "}\n",
    "s"
   ]
  },
  {
   "cell_type": "markdown",
   "id": "4e5b38f1",
   "metadata": {},
   "source": [
    "###  <span class=\"girk\">using sequence and dict function</span>"
   ]
  },
  {
   "cell_type": "code",
   "execution_count": 88,
   "id": "da3968e4",
   "metadata": {
    "ExecuteTime": {
     "end_time": "2023-02-24T14:35:00.903981Z",
     "start_time": "2023-02-24T14:35:00.886902Z"
    },
    "colab": {
     "base_uri": "https://localhost:8080/"
    },
    "id": "XJhTncGKMI-q",
    "outputId": "a28cacd1-4786-4f40-b2e0-c97c66dfb354"
   },
   "outputs": [
    {
     "data": {
      "text/plain": [
       "{'name': 'nitish', 'age': 32, 3: 3}"
      ]
     },
     "execution_count": 88,
     "metadata": {},
     "output_type": "execute_result"
    }
   ],
   "source": [
    "d4 = dict([('name','nitish'),('age',32),(3,3)])\n",
    "d4"
   ]
  },
  {
   "cell_type": "code",
   "execution_count": 145,
   "id": "b8a26d4d",
   "metadata": {
    "ExecuteTime": {
     "end_time": "2023-02-23T22:38:23.713640Z",
     "start_time": "2023-02-23T22:38:23.698835Z"
    },
    "colab": {
     "base_uri": "https://localhost:8080/"
    },
    "id": "XJhTncGKMI-q",
    "outputId": "a28cacd1-4786-4f40-b2e0-c97c66dfb354"
   },
   "outputs": [
    {
     "data": {
      "text/plain": [
       "{'name': 'rahul'}"
      ]
     },
     "execution_count": 145,
     "metadata": {},
     "output_type": "execute_result"
    }
   ],
   "source": [
    "# duplicate keys\n",
    "d5 = {'name':'nitish','name':'rahul'}\n",
    "d5"
   ]
  },
  {
   "cell_type": "code",
   "execution_count": 146,
   "id": "dc322403",
   "metadata": {
    "ExecuteTime": {
     "end_time": "2023-02-23T22:38:24.088654Z",
     "start_time": "2023-02-23T22:38:24.068960Z"
    },
    "colab": {
     "base_uri": "https://localhost:8080/"
    },
    "id": "XJhTncGKMI-q",
    "outputId": "a28cacd1-4786-4f40-b2e0-c97c66dfb354"
   },
   "outputs": [
    {
     "name": "stdout",
     "output_type": "stream",
     "text": [
      "{'name': 'nitish', (1, 2, 3): 2}\n"
     ]
    }
   ],
   "source": [
    "# mutable items as keys\n",
    "d6 = {'name':'nitish',(1,2,3):2}\n",
    "print(d6)"
   ]
  },
  {
   "cell_type": "markdown",
   "id": "9f5eab0c",
   "metadata": {
    "id": "VtB-Bu1aNVyq"
   },
   "source": [
    "### Accessing items"
   ]
  },
  {
   "cell_type": "code",
   "execution_count": 147,
   "id": "a3a3e582",
   "metadata": {
    "ExecuteTime": {
     "end_time": "2023-02-23T22:38:42.051527Z",
     "start_time": "2023-02-23T22:38:42.038755Z"
    },
    "colab": {
     "base_uri": "https://localhost:8080/"
    },
    "id": "D3uTSjsJJ9rM",
    "outputId": "f3009629-7652-409e-a873-7e3039c170d1"
   },
   "outputs": [
    {
     "data": {
      "text/plain": [
       "{'name': 'Jack', 'age': 26}"
      ]
     },
     "execution_count": 147,
     "metadata": {},
     "output_type": "execute_result"
    }
   ],
   "source": [
    "my_dict = {'name': 'Jack', 'age': 26}\n",
    "my_dict"
   ]
  },
  {
   "cell_type": "code",
   "execution_count": 149,
   "id": "76685c39",
   "metadata": {
    "ExecuteTime": {
     "end_time": "2023-02-23T22:38:48.555750Z",
     "start_time": "2023-02-23T22:38:48.539147Z"
    },
    "colab": {
     "base_uri": "https://localhost:8080/"
    },
    "id": "D3uTSjsJJ9rM",
    "outputId": "f3009629-7652-409e-a873-7e3039c170d1"
   },
   "outputs": [
    {
     "data": {
      "text/plain": [
       "26"
      ]
     },
     "execution_count": 149,
     "metadata": {},
     "output_type": "execute_result"
    }
   ],
   "source": [
    "# []\n",
    "my_dict['age']"
   ]
  },
  {
   "cell_type": "markdown",
   "id": "1902717f",
   "metadata": {},
   "source": [
    "#### get:"
   ]
  },
  {
   "cell_type": "code",
   "execution_count": 151,
   "id": "ba330537",
   "metadata": {
    "ExecuteTime": {
     "end_time": "2023-02-23T22:38:55.623644Z",
     "start_time": "2023-02-23T22:38:55.615473Z"
    },
    "colab": {
     "base_uri": "https://localhost:8080/"
    },
    "id": "D3uTSjsJJ9rM",
    "outputId": "f3009629-7652-409e-a873-7e3039c170d1"
   },
   "outputs": [
    {
     "data": {
      "text/plain": [
       "26"
      ]
     },
     "execution_count": 151,
     "metadata": {},
     "output_type": "execute_result"
    }
   ],
   "source": [
    "# get\n",
    "my_dict.get('age')"
   ]
  },
  {
   "cell_type": "code",
   "execution_count": 152,
   "id": "252b4a37",
   "metadata": {
    "ExecuteTime": {
     "end_time": "2023-02-23T22:38:56.113706Z",
     "start_time": "2023-02-23T22:38:56.088905Z"
    },
    "colab": {
     "base_uri": "https://localhost:8080/"
    },
    "id": "D3uTSjsJJ9rM",
    "outputId": "f3009629-7652-409e-a873-7e3039c170d1"
   },
   "outputs": [
    {
     "data": {
      "text/plain": [
       "67"
      ]
     },
     "execution_count": 152,
     "metadata": {},
     "output_type": "execute_result"
    }
   ],
   "source": [
    "s['subjects']['maths']"
   ]
  },
  {
   "cell_type": "markdown",
   "id": "7e3d30f1",
   "metadata": {
    "id": "MOwj3gUfOLCM"
   },
   "source": [
    "### Adding key-value pair"
   ]
  },
  {
   "cell_type": "code",
   "execution_count": 153,
   "id": "bb94f546",
   "metadata": {
    "ExecuteTime": {
     "end_time": "2023-02-23T22:39:33.343625Z",
     "start_time": "2023-02-23T22:39:33.318695Z"
    },
    "colab": {
     "base_uri": "https://localhost:8080/"
    },
    "id": "N-pawGZ7Nall",
    "outputId": "6573b1c8-1701-4ff2-949b-c78b235cbe14"
   },
   "outputs": [
    {
     "data": {
      "text/plain": [
       "{'name': 'nitish', 'age': 32, 3: 3, 'gender': 'male'}"
      ]
     },
     "execution_count": 153,
     "metadata": {},
     "output_type": "execute_result"
    }
   ],
   "source": [
    "d4['gender'] = 'male'\n",
    "d4"
   ]
  },
  {
   "cell_type": "code",
   "execution_count": 154,
   "id": "97848f29",
   "metadata": {
    "ExecuteTime": {
     "end_time": "2023-02-23T22:39:33.726747Z",
     "start_time": "2023-02-23T22:39:33.710340Z"
    },
    "colab": {
     "base_uri": "https://localhost:8080/"
    },
    "id": "N-pawGZ7Nall",
    "outputId": "6573b1c8-1701-4ff2-949b-c78b235cbe14"
   },
   "outputs": [
    {
     "data": {
      "text/plain": [
       "{'name': 'nitish', 'age': 32, 3: 3, 'gender': 'male', 'weight': 72}"
      ]
     },
     "execution_count": 154,
     "metadata": {},
     "output_type": "execute_result"
    }
   ],
   "source": [
    "d4['weight'] = 72\n",
    "d4"
   ]
  },
  {
   "cell_type": "code",
   "execution_count": 155,
   "id": "15139e75",
   "metadata": {
    "ExecuteTime": {
     "end_time": "2023-02-23T22:39:34.218807Z",
     "start_time": "2023-02-23T22:39:34.193345Z"
    },
    "colab": {
     "base_uri": "https://localhost:8080/"
    },
    "id": "N-pawGZ7Nall",
    "outputId": "6573b1c8-1701-4ff2-949b-c78b235cbe14"
   },
   "outputs": [
    {
     "data": {
      "text/plain": [
       "{'name': 'nitish',\n",
       " 'college': 'bit',\n",
       " 'sem': 4,\n",
       " 'subjects': {'dsa': 50, 'maths': 67, 'english': 34, 'ds': 75}}"
      ]
     },
     "execution_count": 155,
     "metadata": {},
     "output_type": "execute_result"
    }
   ],
   "source": [
    "s['subjects']['ds'] = 75\n",
    "s"
   ]
  },
  {
   "cell_type": "markdown",
   "id": "b7884aca",
   "metadata": {
    "id": "RWwGj1QnOOyr"
   },
   "source": [
    "### Remove key-value pair"
   ]
  },
  {
   "cell_type": "code",
   "execution_count": 14,
   "id": "60c2c8b2",
   "metadata": {
    "ExecuteTime": {
     "end_time": "2024-08-08T08:35:01.921835Z",
     "start_time": "2024-08-08T08:35:01.907471Z"
    },
    "colab": {
     "base_uri": "https://localhost:8080/"
    },
    "id": "Muy7dBy8OSRX",
    "outputId": "82635815-f263-4f32-978a-0d869e18349a"
   },
   "outputs": [
    {
     "data": {
      "text/plain": [
       "{'name': 'nitish', 'age': 32, 3: 3, 'gender': 'male', 'weight': 72}"
      ]
     },
     "execution_count": 14,
     "metadata": {},
     "output_type": "execute_result"
    }
   ],
   "source": [
    "d = {'name': 'nitish', 'age': 32, 3: 3, 'gender': 'male', 'weight': 72}\n",
    "d"
   ]
  },
  {
   "cell_type": "markdown",
   "id": "9d8fc538",
   "metadata": {
    "colab": {
     "base_uri": "https://localhost:8080/"
    },
    "id": "Muy7dBy8OSRX",
    "outputId": "82635815-f263-4f32-978a-0d869e18349a"
   },
   "source": [
    "### pop -> removes  by passing key"
   ]
  },
  {
   "cell_type": "code",
   "execution_count": 15,
   "id": "6b112478",
   "metadata": {
    "ExecuteTime": {
     "end_time": "2024-08-08T08:35:02.620540Z",
     "start_time": "2024-08-08T08:35:02.597087Z"
    }
   },
   "outputs": [
    {
     "ename": "KeyError",
     "evalue": "2",
     "output_type": "error",
     "traceback": [
      "\u001b[1;31m---------------------------------------------------------------------------\u001b[0m",
      "\u001b[1;31mKeyError\u001b[0m                                  Traceback (most recent call last)",
      "Cell \u001b[1;32mIn[15], line 1\u001b[0m\n\u001b[1;32m----> 1\u001b[0m \u001b[43md\u001b[49m\u001b[38;5;241;43m.\u001b[39;49m\u001b[43mpop\u001b[49m\u001b[43m(\u001b[49m\u001b[38;5;241;43m2\u001b[39;49m\u001b[43m)\u001b[49m\n\u001b[0;32m      2\u001b[0m \u001b[38;5;28mprint\u001b[39m(d)\n",
      "\u001b[1;31mKeyError\u001b[0m: 2"
     ]
    }
   ],
   "source": [
    "d.pop(2)\n",
    "print(d)"
   ]
  },
  {
   "cell_type": "code",
   "execution_count": 16,
   "id": "9abefe59",
   "metadata": {
    "ExecuteTime": {
     "end_time": "2024-08-08T08:35:03.069029Z",
     "start_time": "2024-08-08T08:35:03.064388Z"
    },
    "colab": {
     "base_uri": "https://localhost:8080/"
    },
    "id": "Muy7dBy8OSRX",
    "outputId": "82635815-f263-4f32-978a-0d869e18349a"
   },
   "outputs": [
    {
     "name": "stdout",
     "output_type": "stream",
     "text": [
      "{'name': 'nitish', 'age': 32, 3: 3, 'weight': 72}\n"
     ]
    }
   ],
   "source": [
    "d.pop('gender')\n",
    "print(d)"
   ]
  },
  {
   "cell_type": "code",
   "execution_count": 91,
   "id": "bb83d339",
   "metadata": {
    "ExecuteTime": {
     "end_time": "2024-02-13T15:15:50.659468Z",
     "start_time": "2024-02-13T15:15:50.642250Z"
    }
   },
   "outputs": [
    {
     "name": "stdout",
     "output_type": "stream",
     "text": [
      "{'age': 32, 3: 3, 'gender': 'male'}\n"
     ]
    }
   ],
   "source": [
    "d.pop('name')\n",
    "print(d)"
   ]
  },
  {
   "cell_type": "markdown",
   "id": "866236f2",
   "metadata": {
    "colab": {
     "base_uri": "https://localhost:8080/"
    },
    "id": "Muy7dBy8OSRX",
    "outputId": "82635815-f263-4f32-978a-0d869e18349a"
   },
   "source": [
    "#### popitem : deletes last key-value"
   ]
  },
  {
   "cell_type": "code",
   "execution_count": 89,
   "id": "23b3a02d",
   "metadata": {
    "ExecuteTime": {
     "end_time": "2024-02-13T15:15:02.576818Z",
     "start_time": "2024-02-13T15:15:02.568833Z"
    }
   },
   "outputs": [
    {
     "data": {
      "text/plain": [
       "{'name': 'nitish', 'age': 32, 3: 3, 'gender': 'male', 'weight': 72}"
      ]
     },
     "execution_count": 89,
     "metadata": {},
     "output_type": "execute_result"
    }
   ],
   "source": [
    "d = {'name': 'nitish', 'age': 32, 3: 3, 'gender': 'male', 'weight': 72}\n",
    "d"
   ]
  },
  {
   "cell_type": "code",
   "execution_count": 90,
   "id": "4a393cb7",
   "metadata": {
    "ExecuteTime": {
     "end_time": "2024-02-13T15:15:04.683854Z",
     "start_time": "2024-02-13T15:15:04.668646Z"
    },
    "colab": {
     "base_uri": "https://localhost:8080/"
    },
    "id": "Muy7dBy8OSRX",
    "outputId": "82635815-f263-4f32-978a-0d869e18349a"
   },
   "outputs": [
    {
     "data": {
      "text/plain": [
       "('weight', 72)"
      ]
     },
     "execution_count": 90,
     "metadata": {},
     "output_type": "execute_result"
    }
   ],
   "source": [
    "d.popitem()"
   ]
  },
  {
   "cell_type": "code",
   "execution_count": 159,
   "id": "ca8ee1f5",
   "metadata": {
    "ExecuteTime": {
     "end_time": "2023-02-23T22:40:40.239645Z",
     "start_time": "2023-02-23T22:40:40.218428Z"
    }
   },
   "outputs": [
    {
     "data": {
      "text/plain": [
       "{'name': 'nitish', 'age': 32, 'gender': 'male'}"
      ]
     },
     "execution_count": 159,
     "metadata": {},
     "output_type": "execute_result"
    }
   ],
   "source": [
    "d"
   ]
  },
  {
   "cell_type": "markdown",
   "id": "98a6ed8f",
   "metadata": {
    "colab": {
     "base_uri": "https://localhost:8080/"
    },
    "id": "Muy7dBy8OSRX",
    "outputId": "82635815-f263-4f32-978a-0d869e18349a"
   },
   "source": [
    "#### del"
   ]
  },
  {
   "cell_type": "code",
   "execution_count": 160,
   "id": "64de0a17",
   "metadata": {
    "ExecuteTime": {
     "end_time": "2023-02-23T22:41:05.854792Z",
     "start_time": "2023-02-23T22:41:05.831163Z"
    },
    "colab": {
     "base_uri": "https://localhost:8080/"
    },
    "id": "Muy7dBy8OSRX",
    "outputId": "82635815-f263-4f32-978a-0d869e18349a"
   },
   "outputs": [
    {
     "name": "stdout",
     "output_type": "stream",
     "text": [
      "{'age': 32, 'gender': 'male'}\n"
     ]
    }
   ],
   "source": [
    "del d['name']\n",
    "print(d)"
   ]
  },
  {
   "cell_type": "markdown",
   "id": "6b51229e",
   "metadata": {
    "colab": {
     "base_uri": "https://localhost:8080/"
    },
    "id": "Muy7dBy8OSRX",
    "outputId": "82635815-f263-4f32-978a-0d869e18349a"
   },
   "source": [
    "#### clear"
   ]
  },
  {
   "cell_type": "code",
   "execution_count": 161,
   "id": "c5805c08",
   "metadata": {
    "ExecuteTime": {
     "end_time": "2023-02-23T22:41:20.437312Z",
     "start_time": "2023-02-23T22:41:20.413201Z"
    },
    "colab": {
     "base_uri": "https://localhost:8080/"
    },
    "id": "Muy7dBy8OSRX",
    "outputId": "82635815-f263-4f32-978a-0d869e18349a"
   },
   "outputs": [
    {
     "name": "stdout",
     "output_type": "stream",
     "text": [
      "{}\n"
     ]
    }
   ],
   "source": [
    "d.clear()\n",
    "print(d)"
   ]
  },
  {
   "cell_type": "code",
   "execution_count": 162,
   "id": "59113608",
   "metadata": {
    "ExecuteTime": {
     "end_time": "2023-02-23T22:41:23.745967Z",
     "start_time": "2023-02-23T22:41:23.731332Z"
    },
    "colab": {
     "base_uri": "https://localhost:8080/"
    },
    "id": "Muy7dBy8OSRX",
    "outputId": "82635815-f263-4f32-978a-0d869e18349a"
   },
   "outputs": [
    {
     "data": {
      "text/plain": [
       "{'name': 'nitish',\n",
       " 'college': 'bit',\n",
       " 'sem': 4,\n",
       " 'subjects': {'dsa': 50, 'english': 34, 'ds': 75}}"
      ]
     },
     "execution_count": 162,
     "metadata": {},
     "output_type": "execute_result"
    }
   ],
   "source": [
    "del s['subjects']['maths']\n",
    "s"
   ]
  },
  {
   "cell_type": "markdown",
   "id": "2d39dc55",
   "metadata": {
    "id": "89XhL1HOObqh"
   },
   "source": [
    "### Editing key-value pair"
   ]
  },
  {
   "cell_type": "code",
   "execution_count": null,
   "id": "a83360c7",
   "metadata": {
    "colab": {
     "base_uri": "https://localhost:8080/"
    },
    "id": "inQRQdBzOart",
    "outputId": "0c228b1c-2b40-494f-a836-c5e9e261fb95"
   },
   "outputs": [
    {
     "data": {
      "text/plain": [
       "{'name': 'nitish',\n",
       " 'college': 'bit',\n",
       " 'sem': 5,\n",
       " 'subjects': {'dsa': 80, 'english': 34, 'ds': 75}}"
      ]
     },
     "execution_count": 153,
     "metadata": {},
     "output_type": "execute_result"
    }
   ],
   "source": [
    "s['subjects']['dsa'] = 80\n",
    "s"
   ]
  },
  {
   "cell_type": "markdown",
   "id": "28b7c13f",
   "metadata": {
    "id": "Y8IxFZtDOuXJ"
   },
   "source": [
    "### Dictionary Operations\n",
    "\n",
    "- Membership\n",
    "- Iteration"
   ]
  },
  {
   "cell_type": "code",
   "execution_count": null,
   "id": "be494ae4",
   "metadata": {
    "colab": {
     "base_uri": "https://localhost:8080/"
    },
    "id": "x9EEF5SJPY__",
    "outputId": "5953f6b4-2fdb-4e97-a5f1-b6d1358bcfa7"
   },
   "outputs": [
    {
     "name": "stdout",
     "output_type": "stream",
     "text": [
      "{'name': 'nitish', 'college': 'bit', 'sem': 5, 'subjects': {'dsa': 80, 'english': 34, 'ds': 75}}\n"
     ]
    },
    {
     "data": {
      "text/plain": [
       "True"
      ]
     },
     "execution_count": 156,
     "metadata": {},
     "output_type": "execute_result"
    }
   ],
   "source": [
    "print(s)\n",
    "\n",
    "'name' in s # checks for keys not values"
   ]
  },
  {
   "cell_type": "code",
   "execution_count": 163,
   "id": "4d04c3cc",
   "metadata": {
    "ExecuteTime": {
     "end_time": "2023-02-23T22:42:11.455974Z",
     "start_time": "2023-02-23T22:42:11.445925Z"
    },
    "colab": {
     "base_uri": "https://localhost:8080/"
    },
    "id": "GFjUam63Ewmy",
    "outputId": "6833bf3d-cc32-4aa0-9d6b-98df6252bc25"
   },
   "outputs": [
    {
     "name": "stdout",
     "output_type": "stream",
     "text": [
      "name nitish\n",
      "gender male\n",
      "age 33\n"
     ]
    }
   ],
   "source": [
    "d = {'name':'nitish','gender':'male','age':33}\n",
    "\n",
    "for i in d:\n",
    "    print(i,d[i])"
   ]
  },
  {
   "cell_type": "markdown",
   "id": "67c98ea1",
   "metadata": {},
   "source": [
    "## <span class=\"girk\">Sorting in Dictionary</span>\n",
    "\n",
    "https://www.geeksforgeeks.org/ways-sort-list-dictionaries-values-python-using-itemgetter/?ref=lbp"
   ]
  },
  {
   "cell_type": "markdown",
   "id": "c6f56a29",
   "metadata": {},
   "source": [
    "### Sorting in keys : "
   ]
  },
  {
   "cell_type": "code",
   "execution_count": 17,
   "id": "093fb80d",
   "metadata": {
    "ExecuteTime": {
     "end_time": "2024-08-08T09:04:05.844983Z",
     "start_time": "2024-08-08T09:04:05.834361Z"
    }
   },
   "outputs": [
    {
     "data": {
      "text/plain": [
       "{'ravi': 10, 'rajnish': 9, 'sanjeev': 15, 'yash': 2, 'suraj': 32}"
      ]
     },
     "execution_count": 17,
     "metadata": {},
     "output_type": "execute_result"
    }
   ],
   "source": [
    "myDict = {'ravi': 10, 'rajnish': 9,\n",
    "        'sanjeev': 15, 'yash': 2, 'suraj': 32}\n",
    "\n",
    "myDict"
   ]
  },
  {
   "cell_type": "code",
   "execution_count": 18,
   "id": "ad458c4b",
   "metadata": {
    "ExecuteTime": {
     "end_time": "2024-08-08T09:04:17.514248Z",
     "start_time": "2024-08-08T09:04:17.498946Z"
    }
   },
   "outputs": [
    {
     "data": {
      "text/plain": [
       "['ravi', 'rajnish', 'sanjeev', 'yash', 'suraj']"
      ]
     },
     "execution_count": 18,
     "metadata": {},
     "output_type": "execute_result"
    }
   ],
   "source": [
    "myKeys = list(myDict.keys())\n",
    "myKeys"
   ]
  },
  {
   "cell_type": "code",
   "execution_count": 19,
   "id": "9cae89a9",
   "metadata": {
    "ExecuteTime": {
     "end_time": "2024-08-08T09:04:32.929449Z",
     "start_time": "2024-08-08T09:04:32.924327Z"
    }
   },
   "outputs": [],
   "source": [
    "myKeys.sort()"
   ]
  },
  {
   "cell_type": "code",
   "execution_count": 20,
   "id": "fe59714c",
   "metadata": {
    "ExecuteTime": {
     "end_time": "2024-08-08T09:04:38.431438Z",
     "start_time": "2024-08-08T09:04:38.415288Z"
    }
   },
   "outputs": [
    {
     "data": {
      "text/plain": [
       "['rajnish', 'ravi', 'sanjeev', 'suraj', 'yash']"
      ]
     },
     "execution_count": 20,
     "metadata": {},
     "output_type": "execute_result"
    }
   ],
   "source": [
    "myKeys"
   ]
  },
  {
   "cell_type": "code",
   "execution_count": 21,
   "id": "9638b167",
   "metadata": {
    "ExecuteTime": {
     "end_time": "2024-08-08T09:04:50.488767Z",
     "start_time": "2024-08-08T09:04:50.472754Z"
    }
   },
   "outputs": [
    {
     "name": "stdout",
     "output_type": "stream",
     "text": [
      "{'rajnish': 9, 'ravi': 10, 'sanjeev': 15, 'suraj': 32, 'yash': 2}\n"
     ]
    }
   ],
   "source": [
    "sorted_dict = {i: myDict[i] for i in myKeys}\n",
    " \n",
    "print(sorted_dict)"
   ]
  },
  {
   "cell_type": "markdown",
   "id": "0a7e159c",
   "metadata": {},
   "source": [
    "#### OR"
   ]
  },
  {
   "cell_type": "code",
   "execution_count": 22,
   "id": "d58befa2",
   "metadata": {
    "ExecuteTime": {
     "end_time": "2024-08-08T10:04:05.800702Z",
     "start_time": "2024-08-08T10:04:05.792702Z"
    }
   },
   "outputs": [
    {
     "data": {
      "text/plain": [
       "{'ravi': 10, 'rajnish': 9, 'sanjeev': 15, 'yash': 2, 'suraj': 32}"
      ]
     },
     "execution_count": 22,
     "metadata": {},
     "output_type": "execute_result"
    }
   ],
   "source": [
    "myDict = {'ravi': 10, 'rajnish': 9,\n",
    "        'sanjeev': 15, 'yash': 2, 'suraj': 32}\n",
    "\n",
    "myDict"
   ]
  },
  {
   "cell_type": "code",
   "execution_count": 23,
   "id": "49134880",
   "metadata": {
    "ExecuteTime": {
     "end_time": "2024-08-08T10:04:11.406930Z",
     "start_time": "2024-08-08T10:04:11.387932Z"
    }
   },
   "outputs": [
    {
     "data": {
      "text/plain": [
       "['rajnish', 'ravi', 'sanjeev', 'suraj', 'yash']"
      ]
     },
     "execution_count": 23,
     "metadata": {},
     "output_type": "execute_result"
    }
   ],
   "source": [
    "# sorted on keys\n",
    "sorted(myDict)"
   ]
  },
  {
   "cell_type": "code",
   "execution_count": 24,
   "id": "e8c6ff2d",
   "metadata": {
    "ExecuteTime": {
     "end_time": "2024-08-08T10:04:25.023361Z",
     "start_time": "2024-08-08T10:04:25.006361Z"
    }
   },
   "outputs": [
    {
     "data": {
      "text/plain": [
       "{'rajnish': 9, 'ravi': 10, 'sanjeev': 15, 'suraj': 32, 'yash': 2}"
      ]
     },
     "execution_count": 24,
     "metadata": {},
     "output_type": "execute_result"
    }
   ],
   "source": [
    "{i:myDict[i] for i in sorted(myDict)}"
   ]
  },
  {
   "cell_type": "markdown",
   "id": "40a04ce3",
   "metadata": {},
   "source": [
    "### Sort the dictionary by key"
   ]
  },
  {
   "cell_type": "code",
   "execution_count": 24,
   "id": "cfad26b1",
   "metadata": {
    "ExecuteTime": {
     "end_time": "2023-03-05T04:17:00.752684Z",
     "start_time": "2023-03-05T04:17:00.745359Z"
    }
   },
   "outputs": [
    {
     "name": "stdout",
     "output_type": "stream",
     "text": [
      "OrderedDict([('rajnish', '9'), ('ravi', '10'), ('sanjeev', '15'), ('suraj', '32'), ('yash', '2')])\n"
     ]
    }
   ],
   "source": [
    "\n",
    "# Creates a sorted dictionary (sorted by key)\n",
    "from collections import OrderedDict\n",
    " \n",
    "dict = {'ravi': '10', 'rajnish': '9',\n",
    "        'sanjeev': '15', 'yash': '2', 'suraj': '32'}\n",
    "dict1 = OrderedDict(sorted(dict.items()))\n",
    "print(dict1)"
   ]
  },
  {
   "cell_type": "markdown",
   "id": "185d3b45",
   "metadata": {},
   "source": [
    "### <span class=\"pirk\">Sort Dictionary By Value in Python</span>"
   ]
  },
  {
   "cell_type": "code",
   "execution_count": 33,
   "id": "6e841b22",
   "metadata": {
    "ExecuteTime": {
     "end_time": "2024-08-08T10:46:12.784102Z",
     "start_time": "2024-08-08T10:46:12.771965Z"
    }
   },
   "outputs": [
    {
     "data": {
      "text/plain": [
       "{'banana': 6, 'cherry': 1, 'guava': 2, 'apple': 7}"
      ]
     },
     "execution_count": 33,
     "metadata": {},
     "output_type": "execute_result"
    }
   ],
   "source": [
    "my_dict = {'banana': 6, 'cherry': 1, 'guava': 2, 'apple':7}\n",
    "my_dict"
   ]
  },
  {
   "cell_type": "code",
   "execution_count": 39,
   "id": "d1862e4d",
   "metadata": {
    "ExecuteTime": {
     "end_time": "2024-08-08T10:52:27.615917Z",
     "start_time": "2024-08-08T10:52:27.603414Z"
    }
   },
   "outputs": [
    {
     "data": {
      "text/plain": [
       "[('cherry', 1), ('guava', 2), ('banana', 6), ('apple', 7)]"
      ]
     },
     "execution_count": 39,
     "metadata": {},
     "output_type": "execute_result"
    }
   ],
   "source": [
    "sorted(my_dict.items(), key=lambda x: x[1])"
   ]
  },
  {
   "cell_type": "code",
   "execution_count": 40,
   "id": "53b13a8c",
   "metadata": {
    "ExecuteTime": {
     "end_time": "2024-08-08T10:52:45.617564Z",
     "start_time": "2024-08-08T10:52:45.601200Z"
    }
   },
   "outputs": [
    {
     "data": {
      "text/plain": [
       "{'cherry': 1, 'guava': 2, 'banana': 6, 'apple': 7}"
      ]
     },
     "execution_count": 40,
     "metadata": {},
     "output_type": "execute_result"
    }
   ],
   "source": [
    "dict(sorted(my_dict.items(), key=lambda x: x[1]))"
   ]
  },
  {
   "cell_type": "code",
   "execution_count": 42,
   "id": "4d239905",
   "metadata": {
    "ExecuteTime": {
     "end_time": "2024-08-08T10:53:56.729392Z",
     "start_time": "2024-08-08T10:53:56.719889Z"
    }
   },
   "outputs": [
    {
     "name": "stdout",
     "output_type": "stream",
     "text": [
      "ascending order :  {'cherry': 1, 'guava': 2, 'banana': 6, 'apple': 7}\n",
      "\n",
      "descending order :  {'apple': 7, 'banana': 6, 'guava': 2, 'cherry': 1}\n"
     ]
    }
   ],
   "source": [
    "# ascending order\n",
    "print('ascending order : ', dict(sorted(my_dict.items(), key=lambda x: x[1])))\n",
    "\n",
    "print()\n",
    "\n",
    "# descending order\n",
    "print('descending order : ', dict(sorted(my_dict.items(), key=lambda x: x[1], reverse=True)))\n"
   ]
  },
  {
   "cell_type": "code",
   "execution_count": 29,
   "id": "a8e51aff",
   "metadata": {
    "ExecuteTime": {
     "end_time": "2023-03-05T04:24:23.302924Z",
     "start_time": "2023-03-05T04:24:23.284154Z"
    }
   },
   "outputs": [
    {
     "name": "stdout",
     "output_type": "stream",
     "text": [
      "{'ravi': 10, 'rajnish': 9, 'sanjeev': 15, 'yash': 2, 'suraj': 32}\n",
      "\n",
      "keys---> ['ravi', 'rajnish', 'sanjeev', 'yash', 'suraj']\n",
      "values---> [10, 9, 15, 2, 32]\n",
      "\n",
      "sorted_value_index---> [3 1 0 2 4]\n",
      "\n",
      "{'yash': 2, 'rajnish': 9, 'ravi': 10, 'sanjeev': 15, 'suraj': 32}\n"
     ]
    }
   ],
   "source": [
    "# Creates a sorted dictionary (sorted by key)\n",
    "from collections import OrderedDict\n",
    "import numpy as np\n",
    " \n",
    "dict = {'ravi': 10, 'rajnish': 9,\n",
    "        'sanjeev': 15, 'yash': 2, 'suraj': 32}\n",
    "print(dict)\n",
    "print()\n",
    " \n",
    "keys = list(dict.keys())\n",
    "print('keys--->',keys)\n",
    "values = list(dict.values())\n",
    "print('values--->',values)\n",
    "print()\n",
    "\n",
    "\n",
    "sorted_value_index = np.argsort(values)\n",
    "print('sorted_value_index--->',sorted_value_index)\n",
    "print()\n",
    "sorted_dict = {keys[i]: values[i] for i in sorted_value_index}\n",
    " \n",
    "print(sorted_dict)"
   ]
  },
  {
   "cell_type": "markdown",
   "id": "f477d531",
   "metadata": {},
   "source": [
    "### Sorting based on 2 columns"
   ]
  },
  {
   "cell_type": "code",
   "execution_count": 33,
   "id": "70bab22a",
   "metadata": {
    "ExecuteTime": {
     "end_time": "2023-03-05T04:52:00.501002Z",
     "start_time": "2023-03-05T04:52:00.476084Z"
    }
   },
   "outputs": [
    {
     "name": "stdout",
     "output_type": "stream",
     "text": [
      "The list printed sorting by age: \n",
      "[{'name': 'Nikhil', 'age': 19}, {'name': 'Nandini', 'age': 20}, {'name': 'Manjeet', 'age': 20}]\n",
      "\r\n",
      "The list printed sorting by age and name: \n",
      "[{'name': 'Nikhil', 'age': 19}, {'name': 'Manjeet', 'age': 20}, {'name': 'Nandini', 'age': 20}]\n",
      "\r\n",
      "The list printed sorting by age in descending order: \n",
      "[{'name': 'Nandini', 'age': 20}, {'name': 'Manjeet', 'age': 20}, {'name': 'Nikhil', 'age': 19}]\n"
     ]
    }
   ],
   "source": [
    "# importing \"operator\" for implementing itemgetter\n",
    "from operator import itemgetter\n",
    " \n",
    "# Initializing list of dictionaries\n",
    "list = [{\"name\": \"Nandini\", \"age\": 20},\n",
    "       {\"name\": \"Manjeet\", \"age\": 20},\n",
    "       {\"name\": \"Nikhil\", \"age\": 19}]\n",
    " \n",
    "# using sorted and itemgetter to print list sorted by age\n",
    "print (\"The list printed sorting by age: \")\n",
    "print (sorted(list, key=itemgetter('age')))\n",
    " \n",
    "print(\"\\r\")\n",
    " \n",
    "# using sorted and itemgetter to print\n",
    "# list sorted by both age and name\n",
    "# notice that \"Manjeet\" now comes before \"Nandini\"\n",
    "print (\"The list printed sorting by age and name: \")\n",
    "print (sorted(list, key=itemgetter('age', 'name')))\n",
    " \n",
    "print(\"\\r\")\n",
    " \n",
    "# using sorted and itemgetter to print list\n",
    "# sorted by age in descending order\n",
    "print (\"The list printed sorting by age in descending order: \")\n",
    "print (sorted(list, key=itemgetter('age'), reverse=True))"
   ]
  },
  {
   "cell_type": "markdown",
   "id": "6f561b60",
   "metadata": {
    "id": "BoCoYK3aPeaz"
   },
   "source": [
    "### Dictionary Functions"
   ]
  },
  {
   "cell_type": "code",
   "execution_count": 171,
   "id": "8091b25d",
   "metadata": {
    "ExecuteTime": {
     "end_time": "2023-02-23T22:52:16.852095Z",
     "start_time": "2023-02-23T22:52:16.836768Z"
    },
    "colab": {
     "base_uri": "https://localhost:8080/",
     "height": 53
    },
    "id": "qNQRKD_HPhEO",
    "outputId": "f828de9c-b454-4b70-d9ff-cc341837387d"
   },
   "outputs": [
    {
     "data": {
      "text/plain": [
       "2"
      ]
     },
     "execution_count": 171,
     "metadata": {},
     "output_type": "execute_result"
    }
   ],
   "source": [
    "# len/sorted\n",
    "len(d)"
   ]
  },
  {
   "cell_type": "markdown",
   "id": "9b1686d2",
   "metadata": {},
   "source": [
    "#### sorted -> sorts based on keys"
   ]
  },
  {
   "cell_type": "code",
   "execution_count": 172,
   "id": "a469ce05",
   "metadata": {
    "ExecuteTime": {
     "end_time": "2023-02-23T22:52:18.974311Z",
     "start_time": "2023-02-23T22:52:18.949097Z"
    },
    "colab": {
     "base_uri": "https://localhost:8080/",
     "height": 53
    },
    "id": "qNQRKD_HPhEO",
    "outputId": "f828de9c-b454-4b70-d9ff-cc341837387d"
   },
   "outputs": [
    {
     "name": "stdout",
     "output_type": "stream",
     "text": [
      "{'name': 'nitish', 'gender': 'male'}\n"
     ]
    },
    {
     "data": {
      "text/plain": [
       "['name', 'gender']"
      ]
     },
     "execution_count": 172,
     "metadata": {},
     "output_type": "execute_result"
    }
   ],
   "source": [
    "print(d)\n",
    "sorted(d,reverse=True) # sorts only keys in a list"
   ]
  },
  {
   "cell_type": "code",
   "execution_count": 167,
   "id": "9574e97d",
   "metadata": {
    "ExecuteTime": {
     "end_time": "2023-02-23T22:49:00.408061Z",
     "start_time": "2023-02-23T22:49:00.394420Z"
    },
    "colab": {
     "base_uri": "https://localhost:8080/",
     "height": 53
    },
    "id": "qNQRKD_HPhEO",
    "outputId": "f828de9c-b454-4b70-d9ff-cc341837387d"
   },
   "outputs": [
    {
     "data": {
      "text/plain": [
       "'name'"
      ]
     },
     "execution_count": 167,
     "metadata": {},
     "output_type": "execute_result"
    }
   ],
   "source": [
    "max(d) # based on ascii"
   ]
  },
  {
   "cell_type": "markdown",
   "id": "e1b92544",
   "metadata": {
    "ExecuteTime": {
     "end_time": "2023-02-23T22:49:16.279362Z",
     "start_time": "2023-02-23T22:49:16.255456Z"
    },
    "colab": {
     "base_uri": "https://localhost:8080/"
    },
    "id": "jPaJOiIuPi2y",
    "outputId": "5aee06f3-4aa1-4aad-a821-3679e97def16"
   },
   "source": [
    "### items/keys/values"
   ]
  },
  {
   "cell_type": "code",
   "execution_count": 173,
   "id": "292a6bcf",
   "metadata": {
    "ExecuteTime": {
     "end_time": "2023-02-23T22:53:08.023108Z",
     "start_time": "2023-02-23T22:53:08.014745Z"
    },
    "colab": {
     "base_uri": "https://localhost:8080/"
    },
    "id": "jPaJOiIuPi2y",
    "outputId": "5aee06f3-4aa1-4aad-a821-3679e97def16"
   },
   "outputs": [
    {
     "name": "stdout",
     "output_type": "stream",
     "text": [
      "{'name': 'nitish', 'gender': 'male'}\n",
      "dict_items([('name', 'nitish'), ('gender', 'male')])\n"
     ]
    }
   ],
   "source": [
    "print(d)\n",
    "\n",
    "print(d.items())"
   ]
  },
  {
   "cell_type": "code",
   "execution_count": 174,
   "id": "f0424aa1",
   "metadata": {
    "ExecuteTime": {
     "end_time": "2023-02-23T22:53:12.081488Z",
     "start_time": "2023-02-23T22:53:12.057587Z"
    },
    "colab": {
     "base_uri": "https://localhost:8080/"
    },
    "id": "jPaJOiIuPi2y",
    "outputId": "5aee06f3-4aa1-4aad-a821-3679e97def16"
   },
   "outputs": [
    {
     "name": "stdout",
     "output_type": "stream",
     "text": [
      "dict_keys(['name', 'gender'])\n"
     ]
    }
   ],
   "source": [
    "print(d.keys())"
   ]
  },
  {
   "cell_type": "code",
   "execution_count": 175,
   "id": "cc7a0a7f",
   "metadata": {
    "ExecuteTime": {
     "end_time": "2023-02-23T22:53:12.782967Z",
     "start_time": "2023-02-23T22:53:12.766800Z"
    },
    "colab": {
     "base_uri": "https://localhost:8080/"
    },
    "id": "jPaJOiIuPi2y",
    "outputId": "5aee06f3-4aa1-4aad-a821-3679e97def16"
   },
   "outputs": [
    {
     "name": "stdout",
     "output_type": "stream",
     "text": [
      "dict_values(['nitish', 'male'])\n"
     ]
    }
   ],
   "source": [
    "print(d.values())"
   ]
  },
  {
   "cell_type": "markdown",
   "id": "e6ea4fa4",
   "metadata": {
    "colab": {
     "base_uri": "https://localhost:8080/"
    },
    "id": "_U9eHegwQdUQ",
    "outputId": "ff388603-6b32-4929-bd97-5e2f66d409d6"
   },
   "source": [
    "#### update"
   ]
  },
  {
   "cell_type": "code",
   "execution_count": null,
   "id": "36c62056",
   "metadata": {
    "colab": {
     "base_uri": "https://localhost:8080/"
    },
    "id": "_U9eHegwQdUQ",
    "outputId": "ff388603-6b32-4929-bd97-5e2f66d409d6"
   },
   "outputs": [
    {
     "name": "stdout",
     "output_type": "stream",
     "text": [
      "{1: 2, 3: 4, 4: 7, 6: 8}\n"
     ]
    }
   ],
   "source": [
    "d1 = {1:2,3:4,4:5}\n",
    "d2 = {4:7,6:8}\n",
    "\n",
    "d1.update(d2)\n",
    "print(d1)"
   ]
  },
  {
   "cell_type": "markdown",
   "id": "0609c688",
   "metadata": {
    "id": "RFYA6h_CPslG"
   },
   "source": [
    "### Dictionary Comprehension\n",
    "![image.png](data:image/png;base64,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)"
   ]
  },
  {
   "cell_type": "code",
   "execution_count": null,
   "id": "88c69e18",
   "metadata": {
    "colab": {
     "base_uri": "https://localhost:8080/"
    },
    "id": "WJU0PdkMPlI-",
    "outputId": "1f7f09c4-fccd-46b9-a45c-eb7f84ac2fdf",
    "scrolled": true
   },
   "outputs": [
    {
     "data": {
      "text/plain": [
       "{1: 1, 2: 4, 3: 9, 4: 16, 5: 25, 6: 36, 7: 49, 8: 64, 9: 81, 10: 100}"
      ]
     },
     "execution_count": 172,
     "metadata": {},
     "output_type": "execute_result"
    }
   ],
   "source": [
    "# print 1st 10 numbers and their squares\n",
    "{i:i**2 for i in range(1,11)}"
   ]
  },
  {
   "cell_type": "code",
   "execution_count": null,
   "id": "68c51cf3",
   "metadata": {
    "colab": {
     "base_uri": "https://localhost:8080/"
    },
    "id": "DTkWYdjJGwJA",
    "outputId": "66f3c7bf-c4e2-4272-b9fa-a686d5c8ef8d"
   },
   "outputs": [
    {
     "name": "stdout",
     "output_type": "stream",
     "text": [
      "dict_items([('delhi', 1000), ('mumbai', 2000), ('bangalore', 3000)])\n"
     ]
    }
   ],
   "source": [
    "distances = {'delhi':1000,'mumbai':2000,'bangalore':3000}\n",
    "print(distances.items())"
   ]
  },
  {
   "cell_type": "code",
   "execution_count": null,
   "id": "4dc0f847",
   "metadata": {
    "colab": {
     "base_uri": "https://localhost:8080/"
    },
    "id": "9xxl81NfSMhp",
    "outputId": "ab8cd682-1461-4ef3-ce88-55fc327ad21e"
   },
   "outputs": [
    {
     "data": {
      "text/plain": [
       "{'delhi': 620.0, 'mumbai': 1240.0, 'bangalore': 1860.0}"
      ]
     },
     "execution_count": 175,
     "metadata": {},
     "output_type": "execute_result"
    }
   ],
   "source": [
    "# using existing dict\n",
    "distances = {'delhi':1000,'mumbai':2000,'bangalore':3000}\n",
    "{key:value*0.62 for (key,value) in distances.items()}"
   ]
  },
  {
   "cell_type": "markdown",
   "id": "9b2edc40",
   "metadata": {
    "colab": {
     "base_uri": "https://localhost:8080/"
    },
    "id": "Oka8jR26S1P3",
    "outputId": "01c0c6b2-2384-46f9-d2d1-950f68feaa0a"
   },
   "source": [
    "### using zip"
   ]
  },
  {
   "cell_type": "code",
   "execution_count": 1,
   "id": "575ecf54",
   "metadata": {
    "ExecuteTime": {
     "end_time": "2024-08-09T07:32:24.301028Z",
     "start_time": "2024-08-09T07:32:24.270241Z"
    },
    "colab": {
     "base_uri": "https://localhost:8080/"
    },
    "id": "Oka8jR26S1P3",
    "outputId": "01c0c6b2-2384-46f9-d2d1-950f68feaa0a",
    "scrolled": true
   },
   "outputs": [
    {
     "data": {
      "text/plain": [
       "{'Sunday': 30.5,\n",
       " 'Monday': 32.6,\n",
       " 'Tuesday': 31.8,\n",
       " 'Wednesday': 33.4,\n",
       " 'Thursday': 29.8,\n",
       " 'Friday': 30.2,\n",
       " 'Saturday': 29.9}"
      ]
     },
     "execution_count": 1,
     "metadata": {},
     "output_type": "execute_result"
    }
   ],
   "source": [
    "days = [\"Sunday\", \"Monday\",\"Tuesday\",\"Wednesday\",\"Thursday\",\"Friday\",\"Saturday\"]\n",
    "temp_C = [30.5,32.6,31.8,33.4,29.8,30.2,29.9]\n",
    "\n",
    "{i:j for (i,j) in zip(days,temp_C)}"
   ]
  },
  {
   "cell_type": "code",
   "execution_count": 2,
   "id": "5e89b90c",
   "metadata": {
    "ExecuteTime": {
     "end_time": "2024-08-09T07:32:24.626985Z",
     "start_time": "2024-08-09T07:32:24.621985Z"
    }
   },
   "outputs": [
    {
     "data": {
      "text/plain": [
       "{'Sunday': 30.5,\n",
       " 'Monday': 32.6,\n",
       " 'Tuesday': 31.8,\n",
       " 'Wednesday': 33.4,\n",
       " 'Friday': 30.2}"
      ]
     },
     "execution_count": 2,
     "metadata": {},
     "output_type": "execute_result"
    }
   ],
   "source": [
    "# for a condition\n",
    "{i:j for i,j in zip(days,temp_C) if j>30.0}"
   ]
  },
  {
   "cell_type": "code",
   "execution_count": 93,
   "id": "7b688e92",
   "metadata": {
    "ExecuteTime": {
     "end_time": "2024-02-13T16:09:01.950596Z",
     "start_time": "2024-02-13T16:09:01.936063Z"
    },
    "colab": {
     "base_uri": "https://localhost:8080/"
    },
    "id": "5hmmxub7TucD",
    "outputId": "3664bf2b-da08-40a6-e564-8843433e4256"
   },
   "outputs": [
    {
     "data": {
      "text/plain": [
       "{'phone': 10, 'charger': 32}"
      ]
     },
     "execution_count": 93,
     "metadata": {},
     "output_type": "execute_result"
    }
   ],
   "source": [
    "# using if condition\n",
    "products = {'phone':10,'laptop':0,'charger':32,'tablet':0}\n",
    "\n",
    "{key:value for (key,value) in products.items() if value>0}"
   ]
  },
  {
   "cell_type": "code",
   "execution_count": 94,
   "id": "9ef185f1",
   "metadata": {
    "ExecuteTime": {
     "end_time": "2024-02-13T16:09:02.261446Z",
     "start_time": "2024-02-13T16:09:02.241905Z"
    },
    "colab": {
     "base_uri": "https://localhost:8080/"
    },
    "id": "8c8zvF_sUHdh",
    "outputId": "d656f1b3-ef00-4d2f-d4ad-c3ded602fc32"
   },
   "outputs": [
    {
     "data": {
      "text/plain": [
       "{2: {1: 2, 2: 4, 3: 6, 4: 8, 5: 10, 6: 12, 7: 14, 8: 16, 9: 18, 10: 20},\n",
       " 3: {1: 3, 2: 6, 3: 9, 4: 12, 5: 15, 6: 18, 7: 21, 8: 24, 9: 27, 10: 30},\n",
       " 4: {1: 4, 2: 8, 3: 12, 4: 16, 5: 20, 6: 24, 7: 28, 8: 32, 9: 36, 10: 40}}"
      ]
     },
     "execution_count": 94,
     "metadata": {},
     "output_type": "execute_result"
    }
   ],
   "source": [
    "# Nested Comprehension\n",
    "# print tables of number from 2 to 4\n",
    "{i:{j:i*j for j in range(1,11)} for i in range(2,5)}"
   ]
  },
  {
   "cell_type": "code",
   "execution_count": 3,
   "id": "e8704b40",
   "metadata": {
    "ExecuteTime": {
     "end_time": "2024-08-09T07:48:20.510068Z",
     "start_time": "2024-08-09T07:48:20.497570Z"
    },
    "id": "Ayx0R1F3UhLW"
   },
   "outputs": [
    {
     "data": {
      "text/plain": [
       "{1: {0: 10, 1: 11, 2: 12, 3: 13, 4: 14, 5: 15, 6: 16, 7: 17, 8: 18, 9: 19},\n",
       " 2: {0: 10, 1: 11, 2: 12, 3: 13, 4: 14, 5: 15, 6: 16, 7: 17, 8: 18, 9: 19},\n",
       " 3: {0: 10, 1: 11, 2: 12, 3: 13, 4: 14, 5: 15, 6: 16, 7: 17, 8: 18, 9: 19},\n",
       " 4: {0: 10, 1: 11, 2: 12, 3: 13, 4: 14, 5: 15, 6: 16, 7: 17, 8: 18, 9: 19}}"
      ]
     },
     "execution_count": 3,
     "metadata": {},
     "output_type": "execute_result"
    }
   ],
   "source": [
    "{i:{i:j for i,j in zip(range(11),range(10,20))} for i in range(1,5)}"
   ]
  },
  {
   "cell_type": "code",
   "execution_count": null,
   "id": "68534eac",
   "metadata": {},
   "outputs": [],
   "source": []
  }
 ],
 "metadata": {
  "kernelspec": {
   "display_name": "Python 3 (ipykernel)",
   "language": "python",
   "name": "python3"
  },
  "language_info": {
   "codemirror_mode": {
    "name": "ipython",
    "version": 3
   },
   "file_extension": ".py",
   "mimetype": "text/x-python",
   "name": "python",
   "nbconvert_exporter": "python",
   "pygments_lexer": "ipython3",
   "version": "3.9.13"
  }
 },
 "nbformat": 4,
 "nbformat_minor": 5
}
